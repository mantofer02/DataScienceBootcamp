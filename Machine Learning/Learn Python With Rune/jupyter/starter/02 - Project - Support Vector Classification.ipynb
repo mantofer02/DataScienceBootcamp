{
 "cells": [
  {
   "cell_type": "markdown",
   "id": "d8b014d9",
   "metadata": {},
   "source": [
    "# Project - Support-Vector Classification\n",
    "- Classify dogs"
   ]
  },
  {
   "cell_type": "markdown",
   "id": "546d879e",
   "metadata": {},
   "source": [
    "### Classification task\n",
    "- 3 dog types and corresponding data\n",
    "\n",
    "<table>\n",
    "    <tr>\n",
    "        <td>Dobermann</td>\n",
    "        <td><img src=\"img/dobermann.jpg\" width=\"100\" align=\"left\"></td>\n",
    "    </tr>\n",
    "    <tr>\n",
    "        <td>German Shepherd</td>\n",
    "        <td><img src=\"img/german_shepherd.jpg\" width=\"100\" align=\"left\"></td>\n",
    "    </tr>\n",
    "    <tr>\n",
    "        <td>Rottweiler</td>\n",
    "        <td><img src=\"img/rottweiler.jpg\" width=\"100\" align=\"left\"></td>\n",
    "    </tr>\n",
    "</table>"
   ]
  },
  {
   "cell_type": "markdown",
   "id": "458228d8",
   "metadata": {},
   "source": [
    "### Step 1: Import libraries"
   ]
  },
  {
   "cell_type": "code",
   "execution_count": null,
   "id": "b1437b52",
   "metadata": {},
   "outputs": [],
   "source": []
  },
  {
   "cell_type": "markdown",
   "id": "c260491e",
   "metadata": {},
   "source": [
    "### Step 2: Read the data\n",
    "- Use Pandas [read_csv](https://pandas.pydata.org/pandas-docs/stable/reference/api/pandas.read_csv.html) method to read **files/data_02.csv**"
   ]
  },
  {
   "cell_type": "code",
   "execution_count": null,
   "id": "412e710e",
   "metadata": {},
   "outputs": [],
   "source": []
  },
  {
   "cell_type": "code",
   "execution_count": null,
   "id": "1cdfc9dc",
   "metadata": {},
   "outputs": [],
   "source": []
  },
  {
   "cell_type": "markdown",
   "id": "940d6cb6",
   "metadata": {},
   "source": [
    "### Step 3: Make class IDs\n",
    "- Note: The model works with name classes - but often it is convenient to use numbers for classes\n",
    "- Create a dictionary to map class names to integers numbers.\n",
    "    - Hint: **class_ids = {'Dobermann': 0, 'German Shepherd': 1, 'Rottweiler': 2}**\n",
    "- Create a column with **Class ID**\n",
    "    - Hint: you can use **apply(lambda x: class_ids[x])**"
   ]
  },
  {
   "cell_type": "code",
   "execution_count": null,
   "id": "274427b4",
   "metadata": {},
   "outputs": [],
   "source": []
  },
  {
   "cell_type": "code",
   "execution_count": null,
   "id": "a71be0bc",
   "metadata": {},
   "outputs": [],
   "source": []
  },
  {
   "cell_type": "markdown",
   "id": "b220164c",
   "metadata": {},
   "source": [
    "### Step 4: Scatter plot the data\n",
    "- Create a figure and axes (**fig, ax**) from matplotlib.pyplot (**plt**)\n",
    "- Make a scatter plot using the **Class ID** column as color.\n",
    "    - Hint: [Docs](https://matplotlib.org/stable/api/_as_gen/matplotlib.axes.Axes.scatter.html) use **Weight** and **Height** for **x** and **y**, respectively."
   ]
  },
  {
   "cell_type": "code",
   "execution_count": null,
   "id": "9362d289",
   "metadata": {},
   "outputs": [],
   "source": []
  },
  {
   "cell_type": "code",
   "execution_count": null,
   "id": "2d2bad04",
   "metadata": {},
   "outputs": [],
   "source": []
  },
  {
   "cell_type": "markdown",
   "id": "de7e74d7",
   "metadata": {},
   "source": [
    "### Step 5: Fit a model\n",
    "- Use the **SVC** model with **kernel='linear'**\n",
    "- Fit the model"
   ]
  },
  {
   "cell_type": "code",
   "execution_count": null,
   "id": "a896506c",
   "metadata": {},
   "outputs": [],
   "source": []
  },
  {
   "cell_type": "code",
   "execution_count": null,
   "id": "cdda830c",
   "metadata": {},
   "outputs": [],
   "source": []
  },
  {
   "cell_type": "markdown",
   "id": "0bfe8c9c",
   "metadata": {},
   "source": [
    "### Step 6: Map out the classification\n",
    "- Create a random selection of data\n",
    "    - HINT: use **np.random.rand(10000, 2)** and \"shift\" the data with ***(40, 20) + (25, 55)**\n",
    "- Predict the random selction of data\n",
    "- Create a plot with the data and predictions"
   ]
  },
  {
   "cell_type": "code",
   "execution_count": null,
   "id": "b30a5efc",
   "metadata": {},
   "outputs": [],
   "source": []
  },
  {
   "cell_type": "code",
   "execution_count": null,
   "id": "a160d663",
   "metadata": {},
   "outputs": [],
   "source": []
  },
  {
   "cell_type": "markdown",
   "id": "288570ac",
   "metadata": {},
   "source": [
    "### Step 7 (Optional): Map with original data points\n",
    "- Make the same plot\n",
    "- Add the data points from the original dataset\n",
    "    - You might need to make a color mapping\n",
    "    - Say, **colors = ['b', 'r', 'g']** and use it on the **Class ID** column with **apply**."
   ]
  },
  {
   "cell_type": "code",
   "execution_count": null,
   "id": "d55af01d",
   "metadata": {},
   "outputs": [],
   "source": []
  },
  {
   "cell_type": "code",
   "execution_count": null,
   "id": "2b8d2d03",
   "metadata": {},
   "outputs": [],
   "source": []
  }
 ],
 "metadata": {
  "kernelspec": {
   "display_name": "Python 3",
   "language": "python",
   "name": "python3"
  },
  "language_info": {
   "codemirror_mode": {
    "name": "ipython",
    "version": 3
   },
   "file_extension": ".py",
   "mimetype": "text/x-python",
   "name": "python",
   "nbconvert_exporter": "python",
   "pygments_lexer": "ipython3",
   "version": "3.9.12"
  }
 },
 "nbformat": 4,
 "nbformat_minor": 5
}
