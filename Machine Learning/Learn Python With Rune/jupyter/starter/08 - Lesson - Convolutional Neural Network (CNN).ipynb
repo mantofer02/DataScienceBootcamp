{
 "cells": [
  {
   "cell_type": "markdown",
   "id": "3c0af27a",
   "metadata": {},
   "source": [
    "# Convolutional Neural Network (CNN)\n",
    "### Goal of lesson\n",
    "- Understand what Convolutional Neural Network (CNN) is\n",
    "- The strength of CNN\n",
    "- How to use it to detect handwriting\n",
    "- Extract features from pictures\n",
    "- Learn Convolution, Pooling and Flatten\n",
    "- How to create a CNN\n",
    "\n",
    "### Computer Vision\n",
    "- Computational methods for analyzing and understanding digital images"
   ]
  },
  {
   "cell_type": "markdown",
   "id": "7e792dfc",
   "metadata": {},
   "source": [
    "### Handwriting detection\n",
    "\n",
    "<img src=\"img/handwritten_numbers.png\" width=\"600\" align=\"left\">"
   ]
  },
  {
   "cell_type": "markdown",
   "id": "ca214788",
   "metadata": {},
   "source": [
    "### Naive approach\n",
    "#### Map one pixel to input network - have some hidden layers - then detect.\n",
    "\n",
    "<img src=\"img/pixel_numbers.png\" width=\"600\" align=\"left\">"
   ]
  },
  {
   "cell_type": "markdown",
   "id": "cbfd3e93",
   "metadata": {},
   "source": [
    "#### Loss of information in the structure of the image\n",
    "<img src=\"img/dnn_example.png\" width=\"600\" align=\"left\">"
   ]
  },
  {
   "cell_type": "markdown",
   "id": "43f93da9",
   "metadata": {},
   "source": [
    "### Image Convolution\n",
    "- applying a filter that adds each pixel value of an image to its neighbors, weighted according to a kernel matix"
   ]
  },
  {
   "cell_type": "markdown",
   "id": "218759d2",
   "metadata": {},
   "source": [
    "### Example of edge detection\n",
    "- Using this filter"
   ]
  },
  {
   "cell_type": "markdown",
   "id": "dc008505",
   "metadata": {},
   "source": [
    "> #### Programming Notes:\n",
    "> - Libraries used\n",
    ">     - [**PIL**](https://pillow.readthedocs.io/en/stable/) Python Imaging Library"
   ]
  },
  {
   "cell_type": "code",
   "execution_count": null,
   "id": "de275e12",
   "metadata": {},
   "outputs": [],
   "source": []
  },
  {
   "cell_type": "code",
   "execution_count": null,
   "id": "016a7a7a",
   "metadata": {},
   "outputs": [],
   "source": []
  },
  {
   "cell_type": "code",
   "execution_count": null,
   "id": "b91b680a",
   "metadata": {},
   "outputs": [],
   "source": []
  },
  {
   "cell_type": "code",
   "execution_count": null,
   "id": "a880213c",
   "metadata": {},
   "outputs": [],
   "source": []
  },
  {
   "cell_type": "code",
   "execution_count": null,
   "id": "ecdc2a86",
   "metadata": {},
   "outputs": [],
   "source": []
  },
  {
   "cell_type": "markdown",
   "id": "4e643d48",
   "metadata": {},
   "source": [
    "### Pooling\n",
    "- Reducing the size of an input by sampling from regoins in the input\n",
    "- Bascially reducing the size of the image\n",
    "\n",
    "### Max-Pooling\n",
    "- Pooling by choosing the maximum value in each region"
   ]
  },
  {
   "cell_type": "markdown",
   "id": "2e9dead2",
   "metadata": {},
   "source": [
    "### Convolutional Neural Network (CNN)\n",
    "- Neural Networks that use convolution for analyzing images"
   ]
  },
  {
   "cell_type": "markdown",
   "id": "e34201be",
   "metadata": {},
   "source": [
    "### Idea of CNN\n",
    "- Input image\n",
    "- Apply Convolution - possible several to get several features of the image (feature maps)\n",
    "- Apply pooling (this reduces the input)\n",
    "- Then flatten it out to traditional network\n",
    "\n",
    "<img src='img/cnn_example.png' width=600, align='left'>"
   ]
  },
  {
   "cell_type": "markdown",
   "id": "0e035329",
   "metadata": {},
   "source": [
    "> #### Programming Notes:\n",
    "> - Libraries used\n",
    ">     - [**tensorflow**](https://www.tensorflow.org) - end-to-end open source machine learning platform\n",
    "> - Functionality and concepts used\n",
    ">     - [**to_categorical**](https://www.tensorflow.org/api_docs/python/tf/keras/utils/to_categorical) Converts a class vector (integers) to binary class matrix.\n",
    ">     - [**Sequential**](https://www.tensorflow.org/api_docs/python/tf/keras/Sequential) provides training and inference features for a model\n",
    ">     - [**Dense**](https://www.tensorflow.org/api_docs/python/tf/keras/layers/Dense) regular densely-connected Neural Network (NN) layer.\n",
    ">     - [**Dropout**](https://www.tensorflow.org/api_docs/python/tf/keras/layers/Dropout) applies Dropout to the input\n",
    ">     - [**Conv2D**](https://www.tensorflow.org/api_docs/python/tf/keras/layers/Conv2D) 2D convolution layer\n",
    ">     - [**MaxPooling2D**](https://www.tensorflow.org/api_docs/python/tf/keras/layers/MaxPool2D) max pooling operation for 2D spatial data\n",
    ">     - [**Flatten**](https://www.tensorflow.org/api_docs/python/tf/keras/layers/Flatten) flattens the input"
   ]
  },
  {
   "cell_type": "code",
   "execution_count": null,
   "id": "f9e4c1ed",
   "metadata": {},
   "outputs": [],
   "source": []
  },
  {
   "cell_type": "code",
   "execution_count": null,
   "id": "45150a56",
   "metadata": {},
   "outputs": [],
   "source": []
  },
  {
   "cell_type": "code",
   "execution_count": null,
   "id": "4d2c0f31",
   "metadata": {},
   "outputs": [],
   "source": []
  },
  {
   "cell_type": "code",
   "execution_count": null,
   "id": "890615b1",
   "metadata": {},
   "outputs": [],
   "source": []
  },
  {
   "cell_type": "code",
   "execution_count": null,
   "id": "952b141f",
   "metadata": {},
   "outputs": [],
   "source": []
  },
  {
   "cell_type": "code",
   "execution_count": null,
   "id": "f02aa269",
   "metadata": {},
   "outputs": [],
   "source": []
  },
  {
   "cell_type": "code",
   "execution_count": null,
   "id": "90addfc1",
   "metadata": {},
   "outputs": [],
   "source": []
  },
  {
   "cell_type": "code",
   "execution_count": null,
   "id": "a70ee878",
   "metadata": {},
   "outputs": [],
   "source": []
  },
  {
   "cell_type": "code",
   "execution_count": null,
   "id": "2ebe6cd6",
   "metadata": {},
   "outputs": [],
   "source": []
  },
  {
   "cell_type": "code",
   "execution_count": null,
   "id": "9043b899",
   "metadata": {},
   "outputs": [],
   "source": []
  },
  {
   "cell_type": "code",
   "execution_count": null,
   "id": "aa83edc9",
   "metadata": {},
   "outputs": [],
   "source": []
  },
  {
   "cell_type": "code",
   "execution_count": null,
   "id": "4724439c",
   "metadata": {},
   "outputs": [],
   "source": []
  },
  {
   "cell_type": "code",
   "execution_count": null,
   "id": "99f36cce",
   "metadata": {},
   "outputs": [],
   "source": []
  },
  {
   "cell_type": "code",
   "execution_count": null,
   "id": "47721c55",
   "metadata": {},
   "outputs": [],
   "source": []
  }
 ],
 "metadata": {
  "kernelspec": {
   "display_name": "Python 3 (ipykernel)",
   "language": "python",
   "name": "python3"
  },
  "language_info": {
   "codemirror_mode": {
    "name": "ipython",
    "version": 3
   },
   "file_extension": ".py",
   "mimetype": "text/x-python",
   "name": "python",
   "nbconvert_exporter": "python",
   "pygments_lexer": "ipython3",
   "version": "3.8.8"
  }
 },
 "nbformat": 4,
 "nbformat_minor": 5
}
