{
 "cells": [
  {
   "cell_type": "markdown",
   "id": "eecbebca",
   "metadata": {},
   "source": [
    "# Support-Vector Machine (SVM)\n",
    "### Goal of lesson\n",
    "- Learn about the problem of seperation\n",
    "- The idea to maximize the distance\n",
    "- Work with examples to demonstrate the issue"
   ]
  },
  {
   "cell_type": "markdown",
   "id": "df327a42",
   "metadata": {},
   "source": [
    "## Maximum Margin Separator\n",
    "- Boundary that maximizes the distances between any of the data points ([Wiki](https://en.wikipedia.org/wiki/Support-vector_machine))\n",
    "\n",
    "**The problem**\n",
    "\n",
    "![SVM Example 0](img/svm_ex0.png)\n",
    "\n",
    "**The Maximum Margin Seperator**\n",
    "\n",
    "![SVM Example 1](img/svm_ex1.png)"
   ]
  },
  {
   "cell_type": "markdown",
   "id": "85575d22",
   "metadata": {},
   "source": [
    "### Support Vector Machine\n",
    "- **sklearn** has Support Vector Classification ([docs](https://scikit-learn.org/stable/modules/generated/sklearn.svm.SVC.html))\n",
    "- We will use the linear kernel ([docs](https://scikit-learn.org/stable/modules/svm.html#kernel-functions))\n",
    "    - For more on kernels see [wiki](https://en.wikipedia.org/wiki/Kernel_method)"
   ]
  },
  {
   "cell_type": "markdown",
   "id": "9f475bc0",
   "metadata": {},
   "source": [
    "> #### Programming Notes:\n",
    "> - Libraries used\n",
    ">     - [**pandas**](https://pandas.pydata.org) - a data analysis and manipulation tool\n",
    ">     - [**numpy**](http://numpy.org) - scientific computing with Python ([Lecture on NumPy](https://youtu.be/BpzpU8_j0-c))\n",
    ">     - [**matplotlib**](http://matplotlib.org) - visualization with Python ([Lecture on **visualization**](https://youtu.be/htIh8YHh4xs))\n",
    ">     - [**sklearn**](https://scikit-learn.org/stable/) - tools for predictive data analysis\n",
    "> - Functionality and concepts used\n",
    ">     - [**CSV**](https://en.wikipedia.org/wiki/Comma-separated_values) file ([Lecture on CSV](https://youtu.be/LEyojSOg4EI))\n",
    ">     - [**read_csv()**](https://pandas.pydata.org/pandas-docs/stable/reference/api/pandas.read_csv.html) read a comma-separated values (csv) file into **pandas** DataFrame.\n",
    ">     - [**lambda**](https://docs.python.org/3/tutorial/controlflow.html#lambda-expressions) lambda functions\n",
    ">     - **List Comprehension** to convert data ([Lecture on **List Comprehension**](https://youtu.be/vCYEvtfXdig))\n",
    ">     - [**apply()**](https://pandas.pydata.org/docs/reference/api/pandas.DataFrame.apply.html) to transform a **pandas** DataFrame\n",
    ">     - [**SVM**](https://scikit-learn.org/stable/auto_examples/svm/plot_svm_kernels.html) to train (fit) the model"
   ]
  },
  {
   "cell_type": "code",
   "execution_count": null,
   "id": "2edaa856",
   "metadata": {},
   "outputs": [],
   "source": []
  },
  {
   "cell_type": "code",
   "execution_count": null,
   "id": "3fc91144",
   "metadata": {},
   "outputs": [],
   "source": []
  },
  {
   "cell_type": "code",
   "execution_count": null,
   "id": "0f540441",
   "metadata": {},
   "outputs": [],
   "source": []
  },
  {
   "cell_type": "code",
   "execution_count": null,
   "id": "9b7e11dd",
   "metadata": {},
   "outputs": [],
   "source": []
  },
  {
   "cell_type": "code",
   "execution_count": null,
   "id": "ffe84d77",
   "metadata": {},
   "outputs": [],
   "source": []
  },
  {
   "cell_type": "code",
   "execution_count": null,
   "id": "8d8435b3",
   "metadata": {},
   "outputs": [],
   "source": []
  },
  {
   "cell_type": "code",
   "execution_count": null,
   "id": "e08960ac",
   "metadata": {},
   "outputs": [],
   "source": []
  },
  {
   "cell_type": "code",
   "execution_count": null,
   "id": "287afa43",
   "metadata": {},
   "outputs": [],
   "source": []
  },
  {
   "cell_type": "code",
   "execution_count": null,
   "id": "ed95ad92",
   "metadata": {},
   "outputs": [],
   "source": []
  },
  {
   "cell_type": "code",
   "execution_count": null,
   "id": "23e0b676",
   "metadata": {},
   "outputs": [],
   "source": []
  },
  {
   "cell_type": "code",
   "execution_count": null,
   "id": "62f1f956",
   "metadata": {},
   "outputs": [],
   "source": []
  },
  {
   "cell_type": "code",
   "execution_count": null,
   "id": "598333ad",
   "metadata": {},
   "outputs": [],
   "source": []
  }
 ],
 "metadata": {
  "kernelspec": {
   "display_name": "Python 3 (ipykernel)",
   "language": "python",
   "name": "python3"
  },
  "language_info": {
   "codemirror_mode": {
    "name": "ipython",
    "version": 3
   },
   "file_extension": ".py",
   "mimetype": "text/x-python",
   "name": "python",
   "nbconvert_exporter": "python",
   "pygments_lexer": "ipython3",
   "version": "3.8.8"
  }
 },
 "nbformat": 4,
 "nbformat_minor": 5
}
