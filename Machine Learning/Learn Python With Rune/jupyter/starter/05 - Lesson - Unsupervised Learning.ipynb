{
 "cells": [
  {
   "cell_type": "markdown",
   "id": "073e9a66",
   "metadata": {},
   "source": [
    "# Unsupervised Learning\n",
    "### Goal of lesson\n",
    "- Understand how Unsupervised Learning is different from Supervised Learning\n",
    "- How it can organize data without knowledge\n",
    "- Understand how $k$-Means Clustering works\n",
    "- Train a $k$-Means Cluster model\n",
    "\n",
    "### What is Unsupervised Learning?\n",
    "- Given input data without any additional feedback - learn patterns\n",
    "- The third large group of Machine Learning"
   ]
  },
  {
   "cell_type": "markdown",
   "id": "2d69aeaa",
   "metadata": {},
   "source": [
    "### Clustering\n",
    "- Organize a set of objects into groups in such a way that similar objects tend to be in the same group"
   ]
  },
  {
   "cell_type": "markdown",
   "id": "f683331e",
   "metadata": {},
   "source": [
    "### $k$-Means Clustering\n",
    "- Algorithm for clustering data based on repeatedly assigning points to clusters and updating those clusters' centers.\n",
    "\n",
    "![K Means Clustering](img/k_means.png)"
   ]
  },
  {
   "cell_type": "markdown",
   "id": "f9ae3fe2",
   "metadata": {},
   "source": [
    "> #### Programming Notes:\n",
    "> - Libraries used\n",
    ">     - [**pandas**](https://pandas.pydata.org) - a data analysis and manipulation tool\n",
    ">     - [**numpy**](http://numpy.org) - scientific computing with Python ([Lecture on NumPy](https://youtu.be/BpzpU8_j0-c))\n",
    ">     - [**matplotlib**](http://matplotlib.org) - visualization with Python ([Lecture on **visualization**](https://youtu.be/htIh8YHh4xs))\n",
    ">     - [**sklearn**](https://scikit-learn.org/stable/) - tools for predictive data analysis\n",
    "> - Functionality and concepts used\n",
    ">     - [**KMeans**](https://scikit-learn.org/stable/modules/generated/sklearn.cluster.KMeans.html) to train (fit) the model"
   ]
  },
  {
   "cell_type": "code",
   "execution_count": null,
   "id": "889ef998",
   "metadata": {},
   "outputs": [],
   "source": []
  },
  {
   "cell_type": "code",
   "execution_count": null,
   "id": "729a865a",
   "metadata": {},
   "outputs": [],
   "source": []
  },
  {
   "cell_type": "code",
   "execution_count": null,
   "id": "fd531d6b",
   "metadata": {},
   "outputs": [],
   "source": []
  },
  {
   "cell_type": "code",
   "execution_count": null,
   "id": "6f6a22bb",
   "metadata": {},
   "outputs": [],
   "source": []
  },
  {
   "cell_type": "code",
   "execution_count": null,
   "id": "28945eca",
   "metadata": {},
   "outputs": [],
   "source": []
  },
  {
   "cell_type": "code",
   "execution_count": null,
   "id": "4859e70a",
   "metadata": {},
   "outputs": [],
   "source": []
  }
 ],
 "metadata": {
  "kernelspec": {
   "display_name": "Python 3 (ipykernel)",
   "language": "python",
   "name": "python3"
  },
  "language_info": {
   "codemirror_mode": {
    "name": "ipython",
    "version": 3
   },
   "file_extension": ".py",
   "mimetype": "text/x-python",
   "name": "python",
   "nbconvert_exporter": "python",
   "pygments_lexer": "ipython3",
   "version": "3.8.8"
  }
 },
 "nbformat": 4,
 "nbformat_minor": 5
}
