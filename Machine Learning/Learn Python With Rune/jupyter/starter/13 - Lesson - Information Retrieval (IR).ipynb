{
 "cells": [
  {
   "cell_type": "markdown",
   "id": "2968d3c6",
   "metadata": {},
   "source": [
    "# Information Retrieval (IR)\n",
    "### Goal of lesson\n",
    "- Learn what Information Retrival is\n",
    "- Topic modeling documents\n",
    "- How to use Term Frequency and understand the limitations\n",
    "- Implement Term Frequency by Inverse Document Frequency (TF-IDF)\n",
    "\n",
    "### What is Information Retrievel (IR)\n",
    "- The task of finding relevant documents in respose to a user query\n",
    "- Web search engines are the most visible IR applications ([wiki](https://en.wikipedia.org/wiki/Information_retrieval))"
   ]
  },
  {
   "cell_type": "markdown",
   "id": "f9fa2216",
   "metadata": {},
   "source": [
    "### Topic Modeling\n",
    "- Models for discovering the topics for a set of document\n",
    "    - e.g., it provides us with methods to organize, understand and summarize large collections of textual information.\n",
    "- Topic modeling can be described as a method for finding a group of words that best represents the information."
   ]
  },
  {
   "cell_type": "markdown",
   "id": "5170155b",
   "metadata": {},
   "source": [
    "## Approach 1: Term Frequency\n",
    "\n",
    "### Term Frequency\n",
    "- The number of times a term occurs in a document is called its term frequency ([wiki](https://en.wikipedia.org/wiki/Tf–idf#Term_frequency))\n",
    "\n",
    "$\\text{tf}(t, d) = f_{t, d}$: The number of time term $t$ occurs in document $d$.\n",
    "\n",
    "- There are other ways to define term frequency (see [wiki](https://en.wikipedia.org/wiki/Tf–idf#Term_frequency_2))"
   ]
  },
  {
   "cell_type": "markdown",
   "id": "96f0f947",
   "metadata": {},
   "source": [
    "> #### Programming Notes:\n",
    "> - Libraries used\n",
    ">     - [**nltk**](https://www.nltk.org) - Natural Language Toolkit\n",
    ">     - [**os**](https://docs.python.org/3/library/os.html) Miscellaneous operating system interfaces\n",
    ">     - [**math**](https://docs.python.org/3/library/math.html) Do math with Python\n",
    "> - Functionality and concepts used\n",
    ">     - **List/Dict Comprehension** to convert data ([Lecture on **List Comprehension**](https://youtu.be/vCYEvtfXdig))\n",
    ">     - [**sorted**](https://docs.python.org/3/howto/sorting.html) sort stuff\n",
    ">     - [**lambda**](https://docs.python.org/3/tutorial/controlflow.html#lambda-expressions) lambda functions"
   ]
  },
  {
   "cell_type": "code",
   "execution_count": null,
   "id": "74436378",
   "metadata": {},
   "outputs": [],
   "source": []
  },
  {
   "cell_type": "code",
   "execution_count": null,
   "id": "1c8aec66",
   "metadata": {},
   "outputs": [],
   "source": []
  },
  {
   "cell_type": "code",
   "execution_count": null,
   "id": "4a196645",
   "metadata": {},
   "outputs": [],
   "source": []
  },
  {
   "cell_type": "code",
   "execution_count": null,
   "id": "74b6b652",
   "metadata": {},
   "outputs": [],
   "source": []
  },
  {
   "cell_type": "markdown",
   "id": "d790c96f",
   "metadata": {},
   "source": [
    "### Problem: Stop of Function Word\n",
    "- words that have little meaning on their own ([wiki](https://en.wikipedia.org/wiki/Stop_word))\n",
    "- Examples: am, by, do, is, which, ....\n",
    "- Student exercise: Remove function words and see result (HINT: nltk has a list of stopwords)"
   ]
  },
  {
   "cell_type": "markdown",
   "id": "bd027d81",
   "metadata": {},
   "source": [
    "## Approach 2: TF-IDF\n",
    "- TF-IDF is a numerical statistic that is intended to reflect how important a word is to a document in a collection or corpus. ([wiki](https://en.wikipedia.org/wiki/Tf–idf))\n",
    "\n",
    "### Inverse Document Frequency\n",
    "- Measure of how common or rare a word is across documents\n",
    "\n",
    "$\\text{idf}(t, D) = \\log{\\frac{N}{|d\\in D : t\\in d|}} = \\log{\\frac{\\text{Total Documents}}{\\text{Number of Documents Containing \"term\"}}}$\n",
    "- $D$: All docments in the corpus\n",
    "- $N$: total number of documents in the corpus $N = |D|$"
   ]
  },
  {
   "cell_type": "markdown",
   "id": "0657212b",
   "metadata": {},
   "source": [
    "### TF-IDF\n",
    "- Ranking of what words are important in a document by multiplying Term Frequencey (TF) by Inverse Document Frequency (IDF)\n",
    "\n",
    "$\\text{tf-idf}(t, d) = \\text{tf}(t, d)\\cdot \\text{idf}(t, D)$"
   ]
  },
  {
   "cell_type": "markdown",
   "id": "7b668a3d",
   "metadata": {},
   "source": [
    "### Example\n",
    "\n",
    "- Document 1: *This is the sample of the day*\n",
    "- Document 2: *This is another sample of the day*"
   ]
  },
  {
   "cell_type": "code",
   "execution_count": null,
   "id": "a3cdf20f",
   "metadata": {},
   "outputs": [],
   "source": []
  },
  {
   "cell_type": "code",
   "execution_count": null,
   "id": "4f64e497",
   "metadata": {},
   "outputs": [],
   "source": []
  },
  {
   "cell_type": "code",
   "execution_count": null,
   "id": "f6eb0f3c",
   "metadata": {},
   "outputs": [],
   "source": []
  },
  {
   "cell_type": "code",
   "execution_count": null,
   "id": "75cf05f4",
   "metadata": {},
   "outputs": [],
   "source": []
  },
  {
   "cell_type": "code",
   "execution_count": null,
   "id": "789a521b",
   "metadata": {},
   "outputs": [],
   "source": []
  },
  {
   "cell_type": "code",
   "execution_count": null,
   "id": "a57cfbc6",
   "metadata": {},
   "outputs": [],
   "source": []
  },
  {
   "cell_type": "code",
   "execution_count": null,
   "id": "636237e0",
   "metadata": {},
   "outputs": [],
   "source": []
  }
 ],
 "metadata": {
  "kernelspec": {
   "display_name": "Python 3 (ipykernel)",
   "language": "python",
   "name": "python3"
  },
  "language_info": {
   "codemirror_mode": {
    "name": "ipython",
    "version": 3
   },
   "file_extension": ".py",
   "mimetype": "text/x-python",
   "name": "python",
   "nbconvert_exporter": "python",
   "pygments_lexer": "ipython3",
   "version": "3.8.8"
  }
 },
 "nbformat": 4,
 "nbformat_minor": 5
}
