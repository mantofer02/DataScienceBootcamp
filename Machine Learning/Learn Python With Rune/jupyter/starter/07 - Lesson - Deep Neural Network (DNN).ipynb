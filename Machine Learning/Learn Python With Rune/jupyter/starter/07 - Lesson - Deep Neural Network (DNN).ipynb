{
 "cells": [
  {
   "cell_type": "markdown",
   "id": "3c7c8452",
   "metadata": {},
   "source": [
    "# Deep Neural Network (DNN)\n",
    "### Goal of lesson\n",
    "- Understand Deep Neural Network (DNN)\n",
    "- How algorithms calculate weights in DNN\n",
    "- Show tools to visually understand what DNN can solve"
   ]
  },
  {
   "cell_type": "markdown",
   "id": "62faccbe",
   "metadata": {},
   "source": [
    "### What is Deep Neural Network\n",
    "- The adjective \"deep\" in deep learning refers to the use of multiple layers in the network ([Wiki](https://en.wikipedia.org/wiki/Deep_learning)).\n",
    "- Usually having two or more hidden layers counts as deep.\n",
    "\n",
    "<img src=\"img/dnn_example-2.png\" width=\"600\" align=\"left\">"
   ]
  },
  {
   "cell_type": "markdown",
   "id": "278c0451",
   "metadata": {},
   "source": [
    "### Backpropagation\n",
    "- Algorithm for training neural networks with hidden layers\n",
    "- Algorithm\n",
    "    - Start with a random choice of weights\n",
    "    - Repeat\n",
    "         - Calculate error for output layer\n",
    "         - For each layer - starting with output layer\n",
    "             - Propagate error back one layer\n",
    "             - Update weights\n",
    "         "
   ]
  },
  {
   "cell_type": "markdown",
   "id": "006d5988",
   "metadata": {},
   "source": [
    "### Overfitting\n",
    "- Fit too close to training data and not generalize well\n",
    "\n",
    "### Dropout\n",
    "- Temporarily remove units - selectat random - from a neural network to prevent over reliance on certain units\n",
    "- Dropout value of 20%-50%\n",
    "- Better performance when dropout is used on a larger network\n",
    "- Dropout at each layer of the network has shown good results.\n",
    "- [Original Paper](https://jmlr.org/papers/v15/srivastava14a.html)\n",
    "\n",
    "\n",
    "<img src=\"img/dnn_example-3.png\" width=\"600\" align=\"left\">"
   ]
  },
  {
   "cell_type": "markdown",
   "id": "709e5262",
   "metadata": {},
   "source": [
    "### Tensorflow\n",
    "- Ideas: No hidden layer -> only straight line. Hidden layer -> XOR function and more\n",
    "- https://playground.tensorflow.org/\n"
   ]
  },
  {
   "cell_type": "markdown",
   "id": "ca6b57a7",
   "metadata": {},
   "source": [
    "> #### Programming Notes:\n",
    "> - Libraries used\n",
    ">     - [**pandas**](https://pandas.pydata.org) - a data analysis and manipulation tool\n",
    ">     - [**numpy**](http://numpy.org) - scientific computing with Python ([Lecture on NumPy](https://youtu.be/BpzpU8_j0-c))\n",
    ">     - [**matplotlib**](http://matplotlib.org) - visualization with Python ([Lecture on **visualization**](https://youtu.be/htIh8YHh4xs))\n",
    ">     - [**sklearn**](https://scikit-learn.org/stable/) - tools for predictive data analysis\n",
    ">     - [**tensorflow**](https://www.tensorflow.org) - end-to-end open source machine learning platform\n",
    "> - Functionality and concepts used\n",
    ">     - [**CSV**](https://en.wikipedia.org/wiki/Comma-separated_values) file ([Lecture on CSV](https://youtu.be/LEyojSOg4EI))\n",
    ">     - [**read_csv()**](https://pandas.pydata.org/pandas-docs/stable/reference/api/pandas.read_csv.html) read a comma-separated values (csv) file into **pandas** DataFrame.\n",
    ">     - [**train_test_split**](https://scikit-learn.org/stable/modules/generated/sklearn.model_selection.train_test_split.html) from [**sklearn**](https://scikit-learn.org/stable/)\n",
    ">     - [**Sequential**](https://www.tensorflow.org/api_docs/python/tf/keras/Sequential) provides training and inference features for a model\n",
    ">     - [**Dense**](https://www.tensorflow.org/api_docs/python/tf/keras/layers/Dense) regular densely-connected Neural Network (NN) layer.\n",
    ">     - [**Dropout**](https://www.tensorflow.org/api_docs/python/tf/keras/layers/Dropout) applies Dropout to the input"
   ]
  },
  {
   "cell_type": "code",
   "execution_count": null,
   "id": "65b75281",
   "metadata": {},
   "outputs": [],
   "source": []
  },
  {
   "cell_type": "code",
   "execution_count": null,
   "id": "7ea6f775",
   "metadata": {},
   "outputs": [],
   "source": []
  },
  {
   "cell_type": "code",
   "execution_count": null,
   "id": "6a0f43a4",
   "metadata": {},
   "outputs": [],
   "source": []
  },
  {
   "cell_type": "code",
   "execution_count": null,
   "id": "1d1c484c",
   "metadata": {},
   "outputs": [],
   "source": []
  },
  {
   "cell_type": "code",
   "execution_count": null,
   "id": "059ffa00",
   "metadata": {},
   "outputs": [],
   "source": []
  },
  {
   "cell_type": "code",
   "execution_count": null,
   "id": "bd0c5d22",
   "metadata": {},
   "outputs": [],
   "source": []
  },
  {
   "cell_type": "code",
   "execution_count": null,
   "id": "cd2a468b",
   "metadata": {},
   "outputs": [],
   "source": []
  },
  {
   "cell_type": "code",
   "execution_count": null,
   "id": "29408f70",
   "metadata": {},
   "outputs": [],
   "source": []
  },
  {
   "cell_type": "code",
   "execution_count": null,
   "id": "1ff9e727",
   "metadata": {},
   "outputs": [],
   "source": []
  },
  {
   "cell_type": "code",
   "execution_count": null,
   "id": "ac3ff8c7",
   "metadata": {},
   "outputs": [],
   "source": []
  }
 ],
 "metadata": {
  "kernelspec": {
   "display_name": "Python 3 (ipykernel)",
   "language": "python",
   "name": "python3"
  },
  "language_info": {
   "codemirror_mode": {
    "name": "ipython",
    "version": 3
   },
   "file_extension": ".py",
   "mimetype": "text/x-python",
   "name": "python",
   "nbconvert_exporter": "python",
   "pygments_lexer": "ipython3",
   "version": "3.8.8"
  }
 },
 "nbformat": 4,
 "nbformat_minor": 5
}
