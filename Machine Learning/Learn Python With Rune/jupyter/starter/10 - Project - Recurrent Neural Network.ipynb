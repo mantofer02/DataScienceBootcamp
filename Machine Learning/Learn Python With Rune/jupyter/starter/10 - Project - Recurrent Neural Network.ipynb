{
 "cells": [
  {
   "cell_type": "markdown",
   "id": "4dd71211",
   "metadata": {},
   "source": [
    "# Project: Reucurrent Neural Network\n",
    "- A project on weather predictin on time series data"
   ]
  },
  {
   "cell_type": "markdown",
   "id": "993f8640",
   "metadata": {},
   "source": [
    "### Step 1: Import libraries"
   ]
  },
  {
   "cell_type": "code",
   "execution_count": null,
   "id": "4c925926",
   "metadata": {},
   "outputs": [],
   "source": []
  },
  {
   "cell_type": "markdown",
   "id": "8a82eb96",
   "metadata": {},
   "source": [
    "### Step 2: Download dataset\n",
    "- Excute the cell below"
   ]
  },
  {
   "cell_type": "code",
   "execution_count": null,
   "id": "314fc6ff",
   "metadata": {},
   "outputs": [],
   "source": []
  },
  {
   "cell_type": "markdown",
   "id": "d6d7af6b",
   "metadata": {},
   "source": [
    "### Step 3: Read the data\n",
    "- Use Pandas [read_csv](https://pandas.pydata.org/pandas-docs/stable/reference/api/pandas.read_csv.html) method to read **csv_path** (from step 2).\n",
    "    - Also **parse_dates=True** and **index_col=0**"
   ]
  },
  {
   "cell_type": "code",
   "execution_count": null,
   "id": "fe1fe668",
   "metadata": {},
   "outputs": [],
   "source": []
  },
  {
   "cell_type": "code",
   "execution_count": null,
   "id": "858a4c5b",
   "metadata": {},
   "outputs": [],
   "source": []
  },
  {
   "cell_type": "markdown",
   "id": "6f83d741",
   "metadata": {},
   "source": [
    "### Step 4: Limit dataset\n",
    "- The dataset has metrics for every 10 minutes - we will limit it to only once per hour\n",
    "    - HINT: **data[5::6]** will start at 5 and step 6.\n",
    "        - **a[start:stop:step]** start through not past stop, by step"
   ]
  },
  {
   "cell_type": "code",
   "execution_count": null,
   "id": "cb9fe56a",
   "metadata": {},
   "outputs": [],
   "source": []
  },
  {
   "cell_type": "code",
   "execution_count": null,
   "id": "39d9b470",
   "metadata": {},
   "outputs": [],
   "source": []
  },
  {
   "cell_type": "code",
   "execution_count": null,
   "id": "b67ee860",
   "metadata": {},
   "outputs": [],
   "source": []
  },
  {
   "cell_type": "markdown",
   "id": "b2a623d0",
   "metadata": {},
   "source": [
    "### Step 5: Investigate data\n",
    "- Call **corr()** on the data to see correlations\n",
    "- Inspect what columns are correlated and not"
   ]
  },
  {
   "cell_type": "code",
   "execution_count": null,
   "id": "70961ec9",
   "metadata": {},
   "outputs": [],
   "source": []
  },
  {
   "cell_type": "code",
   "execution_count": null,
   "id": "ef6044bc",
   "metadata": {},
   "outputs": [],
   "source": []
  },
  {
   "cell_type": "markdown",
   "id": "0639b914",
   "metadata": {},
   "source": [
    "### Step 6: Remove data\n",
    "- Potential some data could be transformed **'wv (m/s)', 'max. wv (m/s)', 'wd (deg)'**\n",
    "    - We will ignorre it"
   ]
  },
  {
   "cell_type": "code",
   "execution_count": null,
   "id": "a28989b5",
   "metadata": {},
   "outputs": [],
   "source": []
  },
  {
   "cell_type": "code",
   "execution_count": null,
   "id": "d684f357",
   "metadata": {},
   "outputs": [],
   "source": []
  },
  {
   "cell_type": "markdown",
   "id": "92450271",
   "metadata": {},
   "source": [
    "### Step 7: Add periodic time intervals\n",
    "- Temperature is correlated to the time of day - e.g. it is warmer at mid day than at mid night\n",
    "- Temperature is correlated to seasons (most places in the world) - e.g. it is warmer in summer than in winter\n",
    "- The datetime index is not easy for the model to interpret, hence we can transform it into sinus and cosinus curves based on day and year.\n",
    "- Do it like this\n",
    "    - Assign the dataframe index to a variable, say, **timestamp_s**\n",
    "    - Transform that by using **map(pd.Timestamp.timestamp)**\n",
    "    - Use the period **day =** $24\\times 60 \\times 60$ and **year =** $(365.2425)\\times$**day**\n",
    "    - Make the following columns **'Day sin', 'Day cos', 'Year sin'**, and **'Year cos'** as follows:\n",
    "        - e.g. **df['Day sin'] = np.sin(timestamp_s * (2 * np.pi / day))**"
   ]
  },
  {
   "cell_type": "code",
   "execution_count": null,
   "id": "acd08b47",
   "metadata": {},
   "outputs": [],
   "source": []
  },
  {
   "cell_type": "code",
   "execution_count": null,
   "id": "987021e9",
   "metadata": {},
   "outputs": [],
   "source": []
  },
  {
   "cell_type": "code",
   "execution_count": null,
   "id": "038cb6a0",
   "metadata": {},
   "outputs": [],
   "source": []
  },
  {
   "cell_type": "code",
   "execution_count": null,
   "id": "adfc2e14",
   "metadata": {},
   "outputs": [],
   "source": []
  },
  {
   "cell_type": "code",
   "execution_count": null,
   "id": "a4c4e600",
   "metadata": {},
   "outputs": [],
   "source": []
  },
  {
   "cell_type": "code",
   "execution_count": null,
   "id": "1a70b474",
   "metadata": {},
   "outputs": [],
   "source": []
  },
  {
   "cell_type": "markdown",
   "id": "669552be",
   "metadata": {},
   "source": [
    "### Step 8: Splitting data\n",
    "\n",
    "#### About splitting\n",
    "If you want to build a solid model you have to follow that specific protocol of splitting your data into three sets: One for training, one for validation and one for final evaluation, which is the test set.\n",
    "\n",
    "The idea is that you train on your training data and tune your model with the results of metrics (accuracy, loss etc) that you get from your validation set.\n",
    "\n",
    "Your model doesn't \"see\" your validation set and isn't in any way trained on it, but you as the architect and master of the hyperparameters tune the model according to this data. Therefore it indirectly influences your model because it directly influences your design decisions. You nudge your model to work well with the validation data and that can possibly bring in a tilt.\n",
    "\n",
    "#### What to do?\n",
    "- Use the length of data and split it into\n",
    "    - 70% for training\n",
    "    - 20% for validation\n",
    "    - 10% for testing set"
   ]
  },
  {
   "cell_type": "code",
   "execution_count": null,
   "id": "fbe72872",
   "metadata": {},
   "outputs": [],
   "source": []
  },
  {
   "cell_type": "code",
   "execution_count": null,
   "id": "aa2af67e",
   "metadata": {},
   "outputs": [],
   "source": []
  },
  {
   "cell_type": "markdown",
   "id": "f13e8bc1",
   "metadata": {},
   "source": [
    "### Step 9: Normalize data\n",
    "- Only normalize data based on training data\n",
    "    - Notice you should only normalize the training data - because validation and test data could affect the normalization\n",
    "- Get the mean and standard deviation of the data\n",
    "    - HINT: Use **.mean()** and **.std()** on the dataframe.\n",
    "- Noramlize the data as follows\n",
    "    - **train_df = (train_df - train_mean) / train_std** (assuming naming fits)\n",
    "    - HINT: The transformation of validation and test data is done similarly with **train_mean** and **train_std**."
   ]
  },
  {
   "cell_type": "code",
   "execution_count": null,
   "id": "da66f427",
   "metadata": {},
   "outputs": [],
   "source": []
  },
  {
   "cell_type": "code",
   "execution_count": null,
   "id": "38ca3a62",
   "metadata": {},
   "outputs": [],
   "source": []
  },
  {
   "cell_type": "markdown",
   "id": "fd4b352f",
   "metadata": {},
   "source": [
    "### Step 10: Create datasets\n",
    "<img src='img/data_windowing.png' width=600 align='left'>"
   ]
  },
  {
   "cell_type": "markdown",
   "id": "f45502b3",
   "metadata": {},
   "source": [
    "- Make a function with **input_width** and **offset** - assume we always use **label_width=1**.\n",
    "- Call the function **create_dataset**, which takes arguments **df, input_width=24, offset=0, predict_column='T (degC)'**\n",
    "    - Let it create two empty lists **x** and **y**\n",
    "    - Convert the dataframe **df** to numpy and assign it to **data_x**\n",
    "    - Do the same for the **predict_column** but assign it to **data_y**\n",
    "    - Iterate over the range of starting from **input_width** to **len(data_x) - offset**\n",
    "        - Append to **x** with **data_x[i-input_width:i,:]**\n",
    "        - Append to **y** with **data_y[i + offset]**\n",
    "    - Convert **x** and **y** to numpy arrays\n",
    "        - HINT: Use **np.array(...)**\n",
    "    - Return the **x** and **y** (but reshape y with **reshape(-1, 1)**)\n",
    "- Apply the function on training, validation, and test data"
   ]
  },
  {
   "cell_type": "code",
   "execution_count": null,
   "id": "66b84dc6",
   "metadata": {},
   "outputs": [],
   "source": []
  },
  {
   "cell_type": "code",
   "execution_count": null,
   "id": "c8c31f0f",
   "metadata": {},
   "outputs": [],
   "source": []
  },
  {
   "cell_type": "code",
   "execution_count": null,
   "id": "bc460bd9",
   "metadata": {},
   "outputs": [],
   "source": []
  },
  {
   "cell_type": "markdown",
   "id": "f7463011",
   "metadata": {},
   "source": [
    "### Step 11: Create model\n",
    "- Create the following model\n",
    "    - **model = models.Sequential()**\n",
    "    - **model.add(layers.LSTM(32, return_sequences=True, input_shape=train_ds[0].shape[1:]))**\n",
    "    - **model.add(layers.Dense(units=1))**"
   ]
  },
  {
   "cell_type": "code",
   "execution_count": null,
   "id": "7ade91ec",
   "metadata": {},
   "outputs": [],
   "source": []
  },
  {
   "cell_type": "code",
   "execution_count": null,
   "id": "3c2068a3",
   "metadata": {},
   "outputs": [],
   "source": []
  },
  {
   "cell_type": "markdown",
   "id": "3b681561",
   "metadata": {},
   "source": [
    "### Step 12: Train model\n",
    "- Compile and fit the model\n",
    "- Complie the model as follows\n",
    "    - **model.compile(optimizer='adam', loss='mean_squared_error', metrics=['accuracy'])**\n",
    "- Fit the model as follows\n",
    "    - **model.fit(x=train_ds[0], y=train_ds[1], validation_data=(val_ds[0], val_ds[1]), epochs=5)**"
   ]
  },
  {
   "cell_type": "code",
   "execution_count": null,
   "id": "57fba4ee",
   "metadata": {},
   "outputs": [],
   "source": []
  },
  {
   "cell_type": "code",
   "execution_count": null,
   "id": "cab4b343",
   "metadata": {},
   "outputs": [],
   "source": []
  },
  {
   "cell_type": "code",
   "execution_count": null,
   "id": "53d15084",
   "metadata": {},
   "outputs": [],
   "source": []
  },
  {
   "cell_type": "markdown",
   "id": "d4ecf642",
   "metadata": {},
   "source": [
    "### Step 13: Predict data\n",
    "- Apply the model on the test data\n",
    "    - HINT: Use **model.predict(x)**, where **x** is assigned to the test data."
   ]
  },
  {
   "cell_type": "code",
   "execution_count": null,
   "id": "58820611",
   "metadata": {},
   "outputs": [],
   "source": []
  },
  {
   "cell_type": "code",
   "execution_count": null,
   "id": "496b1fae",
   "metadata": {},
   "outputs": [],
   "source": []
  },
  {
   "cell_type": "code",
   "execution_count": null,
   "id": "a9c7bb95",
   "metadata": {},
   "outputs": [],
   "source": []
  },
  {
   "cell_type": "markdown",
   "id": "984a5d8c",
   "metadata": {},
   "source": [
    "### Step 14: Plot the result\n",
    "- Plot a window of the data predicted together with the actual data.\n",
    "- One way:\n",
    "    - **fig, ax = plt.subplots()**\n",
    "    - **ax.plot(y[i:i+96*2,0], c='g')**\n",
    "    - **ax.plot(pred[i:i+96*2,-1,0], c='r')**\n",
    "- It will plot a window of 96 hours, where you can index with **i** (**i=150** as an example) and **y** is the real values and **pred** are the predicted values"
   ]
  },
  {
   "cell_type": "code",
   "execution_count": null,
   "id": "2dd4aff5",
   "metadata": {},
   "outputs": [],
   "source": []
  },
  {
   "cell_type": "code",
   "execution_count": null,
   "id": "f5b9094b",
   "metadata": {},
   "outputs": [],
   "source": []
  },
  {
   "cell_type": "markdown",
   "id": "30ebd51c",
   "metadata": {},
   "source": [
    "### Step 15 (Optional): Calculate the correlation\n",
    "- Create a dataframe with real and predicted values.\n",
    "- Apply the **.corr()** method on the dataframe."
   ]
  },
  {
   "cell_type": "code",
   "execution_count": null,
   "id": "fb2db832",
   "metadata": {},
   "outputs": [],
   "source": []
  },
  {
   "cell_type": "code",
   "execution_count": null,
   "id": "07aea1b7",
   "metadata": {},
   "outputs": [],
   "source": []
  },
  {
   "cell_type": "code",
   "execution_count": null,
   "id": "48147d5b",
   "metadata": {},
   "outputs": [],
   "source": []
  }
 ],
 "metadata": {
  "kernelspec": {
   "display_name": "Python 3",
   "language": "python",
   "name": "python3"
  },
  "language_info": {
   "codemirror_mode": {
    "name": "ipython",
    "version": 3
   },
   "file_extension": ".py",
   "mimetype": "text/x-python",
   "name": "python",
   "nbconvert_exporter": "python",
   "pygments_lexer": "ipython3",
   "version": "3.9.12"
  }
 },
 "nbformat": 4,
 "nbformat_minor": 5
}
