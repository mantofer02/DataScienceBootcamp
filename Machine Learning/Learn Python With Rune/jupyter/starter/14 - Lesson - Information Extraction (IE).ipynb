{
 "cells": [
  {
   "cell_type": "markdown",
   "id": "ff7334d5",
   "metadata": {},
   "source": [
    "# Information Extraction (IE)\n",
    "### Goal of lesson\n",
    "- What is Information Extraction\n",
    "- Extract knowledge from patterns\n",
    "- Word representation\n",
    "- Skip-Gram architecture\n",
    "- To see how words relate to each other (this is surprising)\n",
    "\n",
    "### What is Information Extraction (IE)\n",
    "- the task of automatically extracting structured information from unstructured and/or semi-structured machine-readable documents ([wiki](https://en.wikipedia.org/wiki/Information_extraction))"
   ]
  },
  {
   "cell_type": "markdown",
   "id": "06f7c9c6",
   "metadata": {},
   "source": [
    "### Extract knowledge from patterns\n",
    "- Given data knowledge that is fit together - find patterns\n",
    "- Example\n",
    "    - Knowledge given:\n",
    "        - Amazon (1992)\n",
    "        - Facebook (2004)\n",
    "    - Pattern (template) found:\n",
    "        - \"When {company} was founded in {year},\"\n",
    "- This is a simple, but very powerful approach"
   ]
  },
  {
   "cell_type": "markdown",
   "id": "1d090354",
   "metadata": {},
   "source": [
    "> #### Programming Notes:\n",
    "> - Libraries used\n",
    ">     - [**pandas**](https://pandas.pydata.org) - a data analysis and manipulation tool\n",
    ">     - [**re**](https://docs.python.org/3/library/re.html) regular expressions\n",
    "> - Functionality and concepts used\n",
    ">     - [**CSV**](https://en.wikipedia.org/wiki/Comma-separated_values) file ([Lecture on CSV](https://youtu.be/LEyojSOg4EI))\n",
    ">     - [**read_csv()**](https://pandas.pydata.org/pandas-docs/stable/reference/api/pandas.read_csv.html) read a comma-separated values (csv) file into **pandas** DataFrame.\n",
    ">     - [**Regular Expression**](https://en.wikipedia.org/wiki/Regular_expression) s a sequence of characters that specifies a search pattern."
   ]
  },
  {
   "cell_type": "code",
   "execution_count": null,
   "id": "82ebed1e",
   "metadata": {},
   "outputs": [],
   "source": []
  },
  {
   "cell_type": "code",
   "execution_count": null,
   "id": "b4058206",
   "metadata": {},
   "outputs": [],
   "source": []
  },
  {
   "cell_type": "code",
   "execution_count": null,
   "id": "6b001540",
   "metadata": {},
   "outputs": [],
   "source": []
  },
  {
   "cell_type": "code",
   "execution_count": null,
   "id": "2ff16d5c",
   "metadata": {},
   "outputs": [],
   "source": []
  },
  {
   "cell_type": "code",
   "execution_count": null,
   "id": "3a4eae36",
   "metadata": {},
   "outputs": [],
   "source": []
  },
  {
   "cell_type": "code",
   "execution_count": null,
   "id": "58e86f59",
   "metadata": {},
   "outputs": [],
   "source": []
  },
  {
   "cell_type": "code",
   "execution_count": null,
   "id": "6034b2a8",
   "metadata": {},
   "outputs": [],
   "source": []
  },
  {
   "cell_type": "code",
   "execution_count": null,
   "id": "0ca4356c",
   "metadata": {},
   "outputs": [],
   "source": []
  },
  {
   "cell_type": "code",
   "execution_count": null,
   "id": "67e4992b",
   "metadata": {},
   "outputs": [],
   "source": []
  },
  {
   "cell_type": "code",
   "execution_count": null,
   "id": "cfa5d7a5",
   "metadata": {},
   "outputs": [],
   "source": []
  },
  {
   "cell_type": "code",
   "execution_count": null,
   "id": "740e4ef1",
   "metadata": {},
   "outputs": [],
   "source": []
  },
  {
   "cell_type": "code",
   "execution_count": null,
   "id": "94efb1fe",
   "metadata": {},
   "outputs": [],
   "source": []
  },
  {
   "cell_type": "markdown",
   "id": "5e9111b2",
   "metadata": {},
   "source": [
    "### One-Hot Representation\n",
    "- Representation word as a vector with a single 1, and with other values as 0\n",
    "- Maybe not useful to have with"
   ]
  },
  {
   "cell_type": "markdown",
   "id": "3db796b6",
   "metadata": {},
   "source": [
    "### Distributed Representation\n",
    "- representation of meaning distributed across multiple values"
   ]
  },
  {
   "cell_type": "markdown",
   "id": "a99e0bd6",
   "metadata": {},
   "source": [
    "### How to define words as vectors\n",
    "- Word is defined by what words suround it\n",
    "- Based on the context\n",
    "- What words happen to show up around it"
   ]
  },
  {
   "cell_type": "markdown",
   "id": "2276ff32",
   "metadata": {},
   "source": [
    "### word2vec\n",
    "- model for generating word vectors"
   ]
  },
  {
   "cell_type": "markdown",
   "id": "fd719e53",
   "metadata": {},
   "source": [
    "### Skip-Gram Architecture\n",
    "- Neural network architecture for predicting context words given a target word\n",
    "    - Given a word - what words show up around it in a context\n",
    "- Example\n",
    "    - Given **target word** (input word) - train the network of which **context words** (right side)\n",
    "    - Then the weights from input node (**target word**) to hidden layer (5 weights) give a representation\n",
    "    - Hence - the word will be represented by a vector\n",
    "    - The number of hidden nodes represent how big the vector should be (here 5)\n",
    "\n",
    "<img src=\"img/word_vectors.png\" width=\"600\" align=\"left\">"
   ]
  },
  {
   "cell_type": "markdown",
   "id": "de22232a",
   "metadata": {},
   "source": [
    "- Idea is as follows\n",
    "    - Each input word will get weights to the hidden layers\n",
    "    - The hidden layers will be trained\n",
    "    - Then each word will be represented as the weights of hidden layers\n",
    "- Intuition\n",
    "    - If two words have similar context (they show up the same places) - then they must be similar - and they have a small distance from each other representations"
   ]
  },
  {
   "cell_type": "markdown",
   "id": "caacddbd",
   "metadata": {},
   "source": [
    "> #### Programming Notes:\n",
    "> - Libraries used\n",
    ">     - [**numpy**](http://numpy.org) - scientific computing with Python ([Lecture on NumPy](https://youtu.be/BpzpU8_j0-c))\n",
    ">     - [**scipy**](https://www.scipy.org) - open-source software for mathematics, science, and engineering\n",
    "> - Functionality and concepts used\n",
    ">     - [**cosine**](https://docs.scipy.org/doc/scipy/reference/generated/scipy.spatial.distance.cosine.html) Compute the Cosine distance between 1-D arrays."
   ]
  },
  {
   "cell_type": "code",
   "execution_count": null,
   "id": "43db9f57",
   "metadata": {},
   "outputs": [],
   "source": []
  },
  {
   "cell_type": "code",
   "execution_count": null,
   "id": "f614d83e",
   "metadata": {},
   "outputs": [],
   "source": []
  },
  {
   "cell_type": "code",
   "execution_count": null,
   "id": "16986457",
   "metadata": {},
   "outputs": [],
   "source": []
  },
  {
   "cell_type": "code",
   "execution_count": null,
   "id": "d3b09383",
   "metadata": {},
   "outputs": [],
   "source": []
  },
  {
   "cell_type": "code",
   "execution_count": null,
   "id": "808c3375",
   "metadata": {},
   "outputs": [],
   "source": []
  },
  {
   "cell_type": "code",
   "execution_count": null,
   "id": "cebb30da",
   "metadata": {},
   "outputs": [],
   "source": []
  },
  {
   "cell_type": "code",
   "execution_count": null,
   "id": "abd515f1",
   "metadata": {},
   "outputs": [],
   "source": []
  },
  {
   "cell_type": "code",
   "execution_count": null,
   "id": "380c906a",
   "metadata": {},
   "outputs": [],
   "source": []
  },
  {
   "cell_type": "code",
   "execution_count": null,
   "id": "a33dfa0d",
   "metadata": {},
   "outputs": [],
   "source": []
  }
 ],
 "metadata": {
  "kernelspec": {
   "display_name": "Python 3",
   "language": "python",
   "name": "python3"
  },
  "language_info": {
   "codemirror_mode": {
    "name": "ipython",
    "version": 3
   },
   "file_extension": ".py",
   "mimetype": "text/x-python",
   "name": "python",
   "nbconvert_exporter": "python",
   "pygments_lexer": "ipython3",
   "version": "3.8.8"
  }
 },
 "nbformat": 4,
 "nbformat_minor": 5
}
