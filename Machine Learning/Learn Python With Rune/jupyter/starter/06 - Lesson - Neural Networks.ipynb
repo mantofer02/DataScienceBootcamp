{
 "cells": [
  {
   "cell_type": "markdown",
   "id": "ee693a01",
   "metadata": {},
   "source": [
    "# Artifical Neural Networks\n",
    "### Goal of lesson\n",
    "- Understand Neural Networks\n",
    "- How you can model other machine learning techniques\n",
    "- Activation functions\n",
    "- How to make simple OR function\n",
    "- Different ways to calcualte weights\n",
    "- What Batch sizes and Epochs are\n",
    "\n",
    "### What is Artifical Neural Networks\n",
    "- are computing systems inspired by the biological neural networks that constitute animal brains.\n",
    "- Often just called Neural Networks"
   ]
  },
  {
   "cell_type": "markdown",
   "id": "1f430161",
   "metadata": {},
   "source": [
    "### Our first Neural Network\n",
    "- $h(x_1, x_2) = w_0 + w_1 x_1 + w_2 x_2$\n",
    "\n",
    "<img src=\"img/neural_network.png\" width=\"600\" align=\"left\">"
   ]
  },
  {
   "cell_type": "markdown",
   "id": "5ec4dca8",
   "metadata": {},
   "source": [
    "### With activation function\n",
    "- Step function: $g(x) = 1$ if $x \\geq 0$, else $0$\n",
    "- Rectified linear unit (ReLU): $g(x) = \\max(0, x)$\n",
    "- Sigmoid activation function: sigmoid$(x) = 1 / (1 + \\exp(-x))$\n",
    "\n",
    "More activation functions: https://keras.io/api/layers/activations/"
   ]
  },
  {
   "cell_type": "markdown",
   "id": "221cac2c",
   "metadata": {},
   "source": [
    "### Model the OR function\n",
    "- or$(x_1, x_2) = 0$ if $x_1$ and $x_2$ are $0$, else $1$\n",
    "\n",
    "<img src=\"img/neural_network-2.png\" width=\"600\" align=\"left\">"
   ]
  },
  {
   "cell_type": "markdown",
   "id": "ccac7243",
   "metadata": {},
   "source": [
    "### Neural Network\n",
    "\n",
    "<img src=\"img/neural_network-3.png\" width=\"600\" align=\"left\">"
   ]
  },
  {
   "cell_type": "markdown",
   "id": "bfb0f4c6",
   "metadata": {},
   "source": [
    "### Gradient Descent\n",
    "- Calculate the weights ([wiki](https://en.wikipedia.org/wiki/Gradient_descent))\n",
    "- Algorithm for minimizing the loss when training neural networks\n",
    "\n",
    "**Pseudo algorithm**\n",
    "- Start with a random choice of weights\n",
    "- Repeat:\n",
    "    - Calculate the gradient based on all data ponits direction that will lead to decreasing loss\n",
    "    - Update wieghts accorinding to the gradient\n",
    "    \n",
    "Tradoff\n",
    "- Expensive to calculate for all data points"
   ]
  },
  {
   "cell_type": "markdown",
   "id": "2c11875c",
   "metadata": {},
   "source": [
    "### Stocastic Gradient Descent\n",
    "**Pseudo algorithm**\n",
    "- Start with a random choice of weights\n",
    "- Repeat:\n",
    "    - Calculate the gradient based on one data point direction that will lead to decreasing loss\n",
    "    - Update wieghts accorinding to the gradient"
   ]
  },
  {
   "cell_type": "markdown",
   "id": "01657d7a",
   "metadata": {},
   "source": [
    "### Mini-Batch Gradient Descent\n",
    "**Pseudo algorithm**\n",
    "- Start with a random choice of weights\n",
    "- Repeat:\n",
    "    - Calculate the gradient based on one small batch of data ponits direction that will lead to decreasing loss\n",
    "    - Update wieghts accorinding to the gradient"
   ]
  },
  {
   "cell_type": "markdown",
   "id": "a0adf8b6",
   "metadata": {},
   "source": [
    "### Perceptron\n",
    "- Only capable of learning linearly separable decision boundary.\n",
    "- It cannot model the XOR function (we need multi-layer perceptrons (multi-layer neural network))\n",
    "- It can take multiple inputs and map linearly to one output with an activation function."
   ]
  },
  {
   "cell_type": "markdown",
   "id": "0246ac1f",
   "metadata": {},
   "source": [
    "> #### Programming Notes:\n",
    "> - Libraries used\n",
    ">     - [**numpy**](http://numpy.org) - scientific computing with Python ([Lecture on NumPy](https://youtu.be/BpzpU8_j0-c))\n",
    ">     - [**matplotlib**](http://matplotlib.org) - visualization with Python ([Lecture on **visualization**](https://youtu.be/htIh8YHh4xs))\n",
    ">     - [**tensorflow**](https://www.tensorflow.org) - end-to-end open source machine learning platform\n",
    "> - Functionality and concepts used\n",
    ">     - [**Sequential**](https://www.tensorflow.org/api_docs/python/tf/keras/Sequential) provides training and inference features for a model\n",
    ">     - [**Input**](https://www.tensorflow.org/api_docs/python/tf/keras/Input) is used to instantiate a Keras tensor.\n",
    ">     - [**Dense**](https://www.tensorflow.org/api_docs/python/tf/keras/layers/Dense) regular densely-connected Neural Network (NN) layer."
   ]
  },
  {
   "cell_type": "code",
   "execution_count": null,
   "id": "3a6f477f",
   "metadata": {},
   "outputs": [],
   "source": []
  },
  {
   "cell_type": "code",
   "execution_count": null,
   "id": "3ac77c2b",
   "metadata": {},
   "outputs": [],
   "source": []
  },
  {
   "cell_type": "code",
   "execution_count": null,
   "id": "32aec3c0",
   "metadata": {},
   "outputs": [],
   "source": []
  },
  {
   "cell_type": "code",
   "execution_count": null,
   "id": "5e7d6e87",
   "metadata": {},
   "outputs": [],
   "source": []
  },
  {
   "cell_type": "markdown",
   "id": "f693f0da",
   "metadata": {},
   "source": [
    "### batch size  and epoch explained\n",
    "Understand how to correctly utilize Keras fit():\n",
    "- **Batch size**: a set of N samples.\n",
    "- **Epoch**: an arbitrary cutoff, generally defined as \"one pass over the entire dataset\"."
   ]
  },
  {
   "cell_type": "code",
   "execution_count": null,
   "id": "f6507630",
   "metadata": {},
   "outputs": [],
   "source": []
  },
  {
   "cell_type": "code",
   "execution_count": null,
   "id": "9e22dffb",
   "metadata": {},
   "outputs": [],
   "source": []
  },
  {
   "cell_type": "code",
   "execution_count": null,
   "id": "78905174",
   "metadata": {},
   "outputs": [],
   "source": []
  },
  {
   "cell_type": "code",
   "execution_count": null,
   "id": "d9835d27",
   "metadata": {},
   "outputs": [],
   "source": []
  },
  {
   "cell_type": "code",
   "execution_count": null,
   "id": "d22aba57",
   "metadata": {},
   "outputs": [],
   "source": []
  },
  {
   "cell_type": "code",
   "execution_count": null,
   "id": "fc0a9e37",
   "metadata": {},
   "outputs": [],
   "source": []
  }
 ],
 "metadata": {
  "kernelspec": {
   "display_name": "Python 3 (ipykernel)",
   "language": "python",
   "name": "python3"
  },
  "language_info": {
   "codemirror_mode": {
    "name": "ipython",
    "version": 3
   },
   "file_extension": ".py",
   "mimetype": "text/x-python",
   "name": "python",
   "nbconvert_exporter": "python",
   "pygments_lexer": "ipython3",
   "version": "3.8.8"
  }
 },
 "nbformat": 4,
 "nbformat_minor": 5
}
