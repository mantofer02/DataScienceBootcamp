{
 "cells": [
  {
   "cell_type": "markdown",
   "id": "1c1be0c0",
   "metadata": {},
   "source": [
    "# Linear Classifier\n",
    "### Goal of Lesson\n",
    "- Learn about Supervised Learning\n",
    "- Explore how to use it for classification\n",
    "- Understand Perceptron Classifier\n",
    "- Use Perceptron as a linear classifier"
   ]
  },
  {
   "cell_type": "markdown",
   "id": "7d8f43e7",
   "metadata": {},
   "source": [
    " ## Supervised Learning\n",
    " - Given a dataset of input-output pairs, learn a function to map inputs to outputs\n",
    " - There are different tasks - but we start to focus on **Classification**\n",
    " \n",
    " \n",
    " ### Classification\n",
    " \n",
    " - Supervised learning task of learning a function mapping an input point to a descrete category"
   ]
  },
  {
   "cell_type": "markdown",
   "id": "26d4d5a2",
   "metadata": {},
   "source": [
    "### Example\n",
    "- Predict if it is going to rain or not\n",
    "- We have historical data to train our model\n",
    "\n",
    "| Date       | Humidity  | Pressure  | Rain      |\n",
    "| :--------- |:---------:| ---------:| :---------|\n",
    "| Jan. 1     | 93%       | 999.7     | Rain      |\n",
    "| Jan. 2     | 49%       | 1015.5    | No Rain   |\n",
    "| Jan. 3     | 79%       | 1031.1    | No Rain   |\n",
    "| Jan. 4     | 65%       | 984.9     | Rain      |\n",
    "| Jan. 5     | 90%       | 975.2     | Rain      |\n",
    "\n",
    "- This is supervised learning as it has the label"
   ]
  },
  {
   "cell_type": "markdown",
   "id": "6f63a62e",
   "metadata": {},
   "source": [
    "### The task of Supervised Learning\n",
    "- Simply explained, the task of from the example above, is to find a funcion $f$ as follows.\n",
    "\n",
    "**Ideally**: $f(humidity, pressure)$\n",
    "\n",
    "Examples:\n",
    "- $f(93, 999.7) =$ Rain\n",
    "- $f(49, 1015.5) =$ No Rain\n",
    "- $f(79, 1031.1 =$ No Rain\n",
    "\n",
    "**Goal**: Approximate the function $f$ - the approximation function is often denoted $h$"
   ]
  },
  {
   "cell_type": "markdown",
   "id": "f1b5ee5d",
   "metadata": {},
   "source": [
    "### Linear Classifier\n",
    "- A linear classifier makes classification decision based on the value of a linear combination of the characteristics. ([wiki](https://en.wikipedia.org/wiki/Linear_classifier))\n",
    "\n",
    "![Linear Classifier](img/linear_classifier.png)"
   ]
  },
  {
   "cell_type": "markdown",
   "id": "cf8002e7",
   "metadata": {},
   "source": [
    "### Linear Classifier (math)\n",
    "- $x_1$: Humidity\n",
    "- $x_2$: Pressure\n",
    "- $h(x_1, x_2) = w_0 + w_1 x_1 + w_2 x_2$"
   ]
  },
  {
   "cell_type": "markdown",
   "id": "6394d9ef",
   "metadata": {},
   "source": [
    "### Differently\n",
    "- Weight vector $w: (w_0, w_1, w_2)$\n",
    "- Input vector $x: (1, x_1, x_2)$\n",
    "- Function ([dot-product](https://en.wikipedia.org/wiki/Dot_product)): $x\\cdot w: w_0 + w_1 x_1 + w_2 x_2$\n",
    "- $h_w(x) = w\\cdot x$"
   ]
  },
  {
   "cell_type": "markdown",
   "id": "ecdda856",
   "metadata": {},
   "source": [
    "### Perceptron Classifier\n",
    "- Is a linear algorithm that can be applied to binary classification ([wiki](https://en.wikipedia.org/wiki/Perceptron))"
   ]
  },
  {
   "cell_type": "markdown",
   "id": "7079fd63",
   "metadata": {},
   "source": [
    "### Perceptron Learning Rule\n",
    "- Given data point $x, y$ update each weight according to\n",
    "    - $w_i = w_i + \\alpha(y - h_w(x))\\times x_i$\n",
    "    - $w_i = w_i + \\alpha($actual value - estimate$)\\times x_i$\n",
    "        - $\\alpha$: learning rate"
   ]
  },
  {
   "cell_type": "markdown",
   "id": "71f7e6e6",
   "metadata": {},
   "source": [
    "> #### Programming Notes:\n",
    "> - Libraries used\n",
    ">     - [**pandas**](https://pandas.pydata.org) - a data analysis and manipulation tool\n",
    ">     - [**numpy**](http://numpy.org) - scientific computing with Python ([Lecture on NumPy](https://youtu.be/BpzpU8_j0-c))\n",
    ">     - [**matplotlib**](http://matplotlib.org) - visualization with Python ([Lecture on **visualization**](https://youtu.be/htIh8YHh4xs))\n",
    ">     - [**sklearn**](https://scikit-learn.org/stable/) - tools for predictive data analysis\n",
    "> - Functionality and concepts used\n",
    ">     - [**CSV**](https://en.wikipedia.org/wiki/Comma-separated_values) file ([Lecture on CSV](https://youtu.be/LEyojSOg4EI))\n",
    ">     - [**read_csv()**](https://pandas.pydata.org/pandas-docs/stable/reference/api/pandas.read_csv.html) read a comma-separated values (csv) file into **pandas** DataFrame.\n",
    ">     - **List Comprehension** to convert data ([Lecture on **List Comprehension**](https://youtu.be/vCYEvtfXdig))\n",
    ">     - [**isnull()**](https://pandas.pydata.org/pandas-docs/stable/reference/api/pandas.DataFrame.isnull.html) Detect missing values\n",
    ">     - [**sum()**](https://pandas.pydata.org/docs/reference/api/pandas.DataFrame.sum.html) Return the sum of the values over the requested axis (can sum number of True-statements).\n",
    ">     - [**dropna()**](https://pandas.pydata.org/pandas-docs/stable/reference/api/pandas.DataFrame.dropna.html) clean the **pandas** DataFrame\n",
    ">     - [**train_test_split**](https://scikit-learn.org/stable/modules/generated/sklearn.model_selection.train_test_split.html) from [**sklearn**](https://scikit-learn.org/stable/)\n",
    ">     - [**Perceptron**](https://scikit-learn.org/stable/modules/generated/sklearn.linear_model.Perceptron.html) to train (fit) the model\n",
    ">     - [**metrics.accuracy_score**](https://scikit-learn.org/stable/modules/generated/sklearn.metrics.accuracy_score.html) to get the accuracy of the predictions"
   ]
  },
  {
   "cell_type": "code",
   "execution_count": null,
   "id": "19a5261f",
   "metadata": {},
   "outputs": [],
   "source": []
  },
  {
   "cell_type": "code",
   "execution_count": null,
   "id": "ffbd6d34",
   "metadata": {},
   "outputs": [],
   "source": []
  },
  {
   "cell_type": "code",
   "execution_count": null,
   "id": "1eefbdbf",
   "metadata": {},
   "outputs": [],
   "source": []
  },
  {
   "cell_type": "code",
   "execution_count": null,
   "id": "3f98cc2c",
   "metadata": {},
   "outputs": [],
   "source": []
  },
  {
   "cell_type": "code",
   "execution_count": null,
   "id": "727be6be",
   "metadata": {},
   "outputs": [],
   "source": []
  },
  {
   "cell_type": "code",
   "execution_count": null,
   "id": "ad8523db",
   "metadata": {},
   "outputs": [],
   "source": []
  },
  {
   "cell_type": "code",
   "execution_count": null,
   "id": "a33e1891",
   "metadata": {},
   "outputs": [],
   "source": []
  },
  {
   "cell_type": "code",
   "execution_count": null,
   "id": "a9254869",
   "metadata": {},
   "outputs": [],
   "source": []
  },
  {
   "cell_type": "code",
   "execution_count": null,
   "id": "4125102b",
   "metadata": {},
   "outputs": [],
   "source": []
  },
  {
   "cell_type": "code",
   "execution_count": null,
   "id": "6bf4be78",
   "metadata": {},
   "outputs": [],
   "source": []
  },
  {
   "cell_type": "code",
   "execution_count": null,
   "id": "b78f6221",
   "metadata": {},
   "outputs": [],
   "source": []
  }
 ],
 "metadata": {
  "kernelspec": {
   "display_name": "Python 3 (ipykernel)",
   "language": "python",
   "name": "python3"
  },
  "language_info": {
   "codemirror_mode": {
    "name": "ipython",
    "version": 3
   },
   "file_extension": ".py",
   "mimetype": "text/x-python",
   "name": "python",
   "nbconvert_exporter": "python",
   "pygments_lexer": "ipython3",
   "version": "3.8.8"
  }
 },
 "nbformat": 4,
 "nbformat_minor": 5
}
