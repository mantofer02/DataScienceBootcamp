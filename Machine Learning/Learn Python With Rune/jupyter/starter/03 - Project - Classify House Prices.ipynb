{
 "cells": [
  {
   "cell_type": "markdown",
   "id": "dcf39a8a",
   "metadata": {},
   "source": [
    "# Project: Classify House Prices\n",
    "- Put houses in price groups and try to predict based on Latitude and Longitude\n",
    "- That will show if the area is a good indicator of the house unit price"
   ]
  },
  {
   "cell_type": "markdown",
   "id": "8e2365fc",
   "metadata": {},
   "source": [
    "### Step 1: Import libraries"
   ]
  },
  {
   "cell_type": "code",
   "execution_count": null,
   "id": "bc86f5b5",
   "metadata": {},
   "outputs": [],
   "source": []
  },
  {
   "cell_type": "markdown",
   "id": "152cdd74",
   "metadata": {},
   "source": [
    "### Step 2: Read the data\n",
    "- Use Pandas [read_csv](https://pandas.pydata.org/pandas-docs/stable/reference/api/pandas.read_csv.html) method to read **files/house_prices.csv**"
   ]
  },
  {
   "cell_type": "code",
   "execution_count": null,
   "id": "8055af2c",
   "metadata": {},
   "outputs": [],
   "source": []
  },
  {
   "cell_type": "code",
   "execution_count": null,
   "id": "d69d5507",
   "metadata": {},
   "outputs": [],
   "source": []
  },
  {
   "cell_type": "markdown",
   "id": "a2183c2b",
   "metadata": {},
   "source": [
    "### Step 3: Prepare data\n",
    "- Create 15 bins of house prices\n",
    "    - HINT: use [cut](https://pandas.pydata.org/docs/reference/api/pandas.cut.html) on the **'House unit price'** column with **bins=15** and assign the result to column **Class**.\n",
    "    - Get the category codes by transforming column **Class** with **.cat.codes** and assign it to **Class id**"
   ]
  },
  {
   "cell_type": "code",
   "execution_count": null,
   "id": "b57e5fb1",
   "metadata": {},
   "outputs": [],
   "source": []
  },
  {
   "cell_type": "code",
   "execution_count": null,
   "id": "64942403",
   "metadata": {},
   "outputs": [],
   "source": []
  },
  {
   "cell_type": "markdown",
   "id": "9505606d",
   "metadata": {},
   "source": [
    "### Step 4: Prepare training and test data\n",
    "- Assign **X** be all the data (it is needed in final step)\n",
    "- Assign **y** to be the **Class id** column.\n",
    "- Use **train_test_split** with **test_size=0.15**"
   ]
  },
  {
   "cell_type": "code",
   "execution_count": null,
   "id": "e01e9630",
   "metadata": {},
   "outputs": [],
   "source": []
  },
  {
   "cell_type": "code",
   "execution_count": null,
   "id": "df7d1e17",
   "metadata": {},
   "outputs": [],
   "source": []
  },
  {
   "cell_type": "markdown",
   "id": "9b8f4d52",
   "metadata": {},
   "source": [
    "### Step 5: Train a $k$-Neighbours Classifier\n",
    "- Create a model to **KNeighborsClassifier()**\n",
    "- Fit the model on **X_train[['Latitude', 'Longitude']]** and **y_train**\n",
    "- Predict **X_test[['Latitude', 'Longitude']]** and assign it to **y_pred**\n",
    "- Calculate the accuracy score"
   ]
  },
  {
   "cell_type": "code",
   "execution_count": null,
   "id": "03b8b7a2",
   "metadata": {},
   "outputs": [],
   "source": []
  },
  {
   "cell_type": "code",
   "execution_count": null,
   "id": "4631fda8",
   "metadata": {},
   "outputs": [],
   "source": []
  },
  {
   "cell_type": "markdown",
   "id": "30bb7101",
   "metadata": {},
   "source": [
    "### Step 6: Make prediction of categories\n",
    "- Convert **y_pred** to a DataFrame\n",
    "    - HINT: **df_pred = pd.DataFrame(y_pred, columns=['Pred cat'])**\n",
    "- Get the middle value of the prediction category.\n",
    "    - HINT: **df_pred['Pred'] = df_pred['Pred cat'].apply(lambda x: X_test['Class'].cat.categories[x].mid)**\n",
    "- Calculate the **r2_score** of the predicted and real price **'House unit price'** of **X_test**"
   ]
  },
  {
   "cell_type": "code",
   "execution_count": null,
   "id": "74b6b32b",
   "metadata": {},
   "outputs": [],
   "source": []
  },
  {
   "cell_type": "code",
   "execution_count": null,
   "id": "33ac988a",
   "metadata": {},
   "outputs": [],
   "source": []
  },
  {
   "cell_type": "code",
   "execution_count": null,
   "id": "b7708f3d",
   "metadata": {},
   "outputs": [],
   "source": []
  }
 ],
 "metadata": {
  "kernelspec": {
   "display_name": "Python 3 (ipykernel)",
   "language": "python",
   "name": "python3"
  },
  "language_info": {
   "codemirror_mode": {
    "name": "ipython",
    "version": 3
   },
   "file_extension": ".py",
   "mimetype": "text/x-python",
   "name": "python",
   "nbconvert_exporter": "python",
   "pygments_lexer": "ipython3",
   "version": "3.9.12"
  }
 },
 "nbformat": 4,
 "nbformat_minor": 5
}
