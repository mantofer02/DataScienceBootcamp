{
 "cells": [
  {
   "cell_type": "markdown",
   "id": "ab8f3cf9",
   "metadata": {},
   "source": [
    "# Reinforcement Learning\n",
    "### Goal of lesson\n",
    "- Understand how Reinforcement Learning works\n",
    "- Learn about Agent and Environment\n",
    "- How it iterates and gets rewards based on action\n",
    "- How to continuously learn new things\n",
    "- Create own Reinforcement Learning from scratch"
   ]
  },
  {
   "cell_type": "markdown",
   "id": "d35fbb8a",
   "metadata": {},
   "source": [
    "### Reinforcement Learning simply explained\n",
    "- Given a set of rewards or punishments, learn what actions to take in the future\n",
    "- The second large group of Machine Learning\n",
    "\n",
    "### Environment\n",
    "<img src='img/reinforcement-learning.png' width=600 align='left'>"
   ]
  },
  {
   "cell_type": "markdown",
   "id": "d3a2e4b9",
   "metadata": {},
   "source": [
    "### Agent\n",
    "- The environment gives the agent a state\n",
    "- The agent action\n",
    "- The environment gives a state and reward (or punishment)"
   ]
  },
  {
   "cell_type": "markdown",
   "id": "8fdfd07c",
   "metadata": {},
   "source": [
    "This is how robots are taught how to walk"
   ]
  },
  {
   "cell_type": "markdown",
   "id": "354b6d3d",
   "metadata": {},
   "source": [
    "### Markov Decision Process\n",
    "- Model for decision-making, representing states, actions, and their rewards\n",
    "- Set of states $S$\n",
    "- Set of actions $Actions(s)$\n",
    "- Transition model $P(s'|s, a)$\n",
    "- Reward function $R(s, a, s')$"
   ]
  },
  {
   "cell_type": "markdown",
   "id": "a6dd5d87",
   "metadata": {},
   "source": [
    "### Q-learning (one model)\n",
    "- Method for learning a function $Q(s, a)$, estimate of the value of performing action $a$ in state $s$"
   ]
  },
  {
   "cell_type": "markdown",
   "id": "680bac6f",
   "metadata": {},
   "source": [
    "### Q-learning\n",
    "- Start with $Q(s, a) = 0$ for all $s, a$\n",
    "- Update $Q$ when we take an action\n",
    "- $Q(s, a) = Q(s, a) + \\alpha($reward$ + \\gamma\\max(s', a') - Q(s, a)) = (1 - \\alpha)Q(s, a) + \\alpha($reward$ + \\gamma\\max(s', a'))$"
   ]
  },
  {
   "cell_type": "markdown",
   "id": "ee6fd748",
   "metadata": {},
   "source": [
    "### $\\epsilon$-Greedy Decision Making\n",
    "**Explore vs Exploit**\n",
    "- With propability $\\epsilon$ take a random move\n",
    "- Otherwise, take action $a$ with maximum $Q(s, a)$"
   ]
  },
  {
   "cell_type": "markdown",
   "id": "68af4493",
   "metadata": {},
   "source": [
    "### Simple task\n",
    "<img src='img/field.png' width=600 align='left'>\n"
   ]
  },
  {
   "cell_type": "markdown",
   "id": "a21ad79d",
   "metadata": {},
   "source": [
    "- Starts at a random point\n",
    "- Move left or right\n",
    "- Avoid the red box\n",
    "- Find the green box"
   ]
  },
  {
   "cell_type": "markdown",
   "id": "6faaee68",
   "metadata": {},
   "source": [
    "![Field](img/field-3.png)"
   ]
  },
  {
   "cell_type": "markdown",
   "id": "99174cc2",
   "metadata": {},
   "source": [
    "> #### Programming Notes:\n",
    "> - Libraries used\n",
    ">     - [**numpy**](http://numpy.org) - scientific computing with Python ([Lecture on NumPy](https://youtu.be/BpzpU8_j0-c))\n",
    ">     - [**random**](https://docs.python.org/3/library/random.html) - pseudo-random generators\n",
    "> - Functionality and concepts used\n",
    ">     - **Object-Oriented Programming (OOP)**: [Lecture on Object Oriented Programming](https://youtu.be/hbO9xo6RfDM)"
   ]
  },
  {
   "cell_type": "markdown",
   "id": "734cd18d",
   "metadata": {},
   "source": [
    "> ### Resources\n",
    "> #### What if there are more states?\n",
    "> - [Reinforcement Learning from Scratch](https://youtu.be/y4LEVVE2mV8)"
   ]
  },
  {
   "cell_type": "code",
   "execution_count": null,
   "id": "7d71ed6d",
   "metadata": {},
   "outputs": [],
   "source": []
  },
  {
   "cell_type": "code",
   "execution_count": null,
   "id": "32cdbfab",
   "metadata": {},
   "outputs": [],
   "source": []
  },
  {
   "cell_type": "code",
   "execution_count": null,
   "id": "c1886170",
   "metadata": {},
   "outputs": [],
   "source": []
  },
  {
   "cell_type": "code",
   "execution_count": null,
   "id": "0ffda816",
   "metadata": {},
   "outputs": [],
   "source": []
  },
  {
   "cell_type": "code",
   "execution_count": null,
   "id": "4808e9cc",
   "metadata": {},
   "outputs": [],
   "source": []
  },
  {
   "cell_type": "code",
   "execution_count": null,
   "id": "2e1d2653",
   "metadata": {},
   "outputs": [],
   "source": []
  },
  {
   "cell_type": "code",
   "execution_count": null,
   "id": "eb133689",
   "metadata": {},
   "outputs": [],
   "source": []
  },
  {
   "cell_type": "code",
   "execution_count": null,
   "id": "add1c7dd",
   "metadata": {},
   "outputs": [],
   "source": []
  }
 ],
 "metadata": {
  "kernelspec": {
   "display_name": "Python 3 (ipykernel)",
   "language": "python",
   "name": "python3"
  },
  "language_info": {
   "codemirror_mode": {
    "name": "ipython",
    "version": 3
   },
   "file_extension": ".py",
   "mimetype": "text/x-python",
   "name": "python",
   "nbconvert_exporter": "python",
   "pygments_lexer": "ipython3",
   "version": "3.8.8"
  }
 },
 "nbformat": 4,
 "nbformat_minor": 5
}
