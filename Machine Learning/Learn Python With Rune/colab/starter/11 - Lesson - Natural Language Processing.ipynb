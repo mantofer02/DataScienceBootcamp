{
 "cells": [
  {
   "cell_type": "markdown",
   "id": "5c220d83",
   "metadata": {},
   "source": [
    "<a \n",
    " href=\"https://colab.research.google.com/github/LearnPythonWithRune/MachineLearningWithPython/blob/main/colab/starter/11 - Lesson - Natural Language Processing.ipynb\"\n",
    " target=\"_parent\">\n",
    "<img \n",
    " src=\"https://colab.research.google.com/assets/colab-badge.svg\"\n",
    "alt=\"Open In Colab\"/>\n",
    "</a>"
   ]
  },
  {
   "cell_type": "markdown",
   "id": "ba959ea8",
   "metadata": {},
   "source": [
    "# Natural Language Processing\n",
    "### Goal of lesson\n",
    "- How the simple syntax of language can be parsed\n",
    "- What Context-Free Grammar (CFG) is\n",
    "- Use it to parse text\n",
    "- Understand text in trigrams\n",
    "- See how it can be used to generate predictions\n",
    "\n",
    "### What is Natural Language Processing\n",
    "- Automatic computational processing of human languages\n",
    "- Includes \n",
    "    - Algorithms that take human written language as input\n",
    "    - Algorithms that produce natural text\n",
    "\n",
    "- Examples include\n",
    "    - Automatic summarization\n",
    "    - Language identification\n",
    "    - Translation"
   ]
  },
  {
   "cell_type": "markdown",
   "id": "88cafa61",
   "metadata": {},
   "source": [
    "### Syntax\n",
    "- One basic description of a language's syntax is the sequence in which the subject, verb, and object usually appear in sentences.\n",
    "\n",
    "### Formal Grammar\n",
    "- A system of rules for genrating sentences in a language\n",
    "- A grammar is usually thought of as a language generator ([wiki](https://en.wikipedia.org/wiki/Formal_grammar))"
   ]
  },
  {
   "cell_type": "markdown",
   "id": "338af3bc",
   "metadata": {},
   "source": [
    "### Context-Free Grammar (CFG)\n",
    "- A formal grammar is \"context free\" if its production rules can be applied regardless of the context of a nonterminal ([wiki](https://en.wikipedia.org/wiki/Context-free_grammar))."
   ]
  },
  {
   "cell_type": "markdown",
   "id": "eec8e4f6",
   "metadata": {},
   "source": [
    "> #### Programming Notes:\n",
    "> - Libraries used\n",
    ">     - [**nltk**](https://www.nltk.org) - Natural Language Toolkit\n",
    ">     - [**os**](https://docs.python.org/3/library/os.html) Miscellaneous operating system interfaces\n",
    ">     - [**collections**](https://docs.python.org/3/library/collections.html) Container datatypes\n",
    ">     - [**markovify**](https://pypi.org/project/markovify/) A simple, extensible Markov chain generato\n",
    "> - Functionality and concepts used\n",
    ">     - [**ChartParser**](https://tedboy.github.io/nlps/generated/generated/nltk.ChartParser.html) generic chart parser\n",
    ">     - **List Comprehension** to convert data ([Lecture on **List Comprehension**](https://youtu.be/vCYEvtfXdig))\n",
    ">     - [**Counter**](https://docs.python.org/3/library/collections.html#collections.Counter) a dict subclass for counting hashable objects\n",
    ">     - [**markovify.Text**](https://pypi.org/project/markovify/) to create your Markov Model"
   ]
  },
  {
   "cell_type": "code",
   "execution_count": null,
   "id": "5ca06c48",
   "metadata": {},
   "outputs": [],
   "source": [
    "!pip install nltk"
   ]
  },
  {
   "cell_type": "code",
   "execution_count": 2,
   "id": "769c40c3",
   "metadata": {},
   "outputs": [],
   "source": [
    "import nltk"
   ]
  },
  {
   "cell_type": "code",
   "execution_count": 5,
   "id": "147dfc18",
   "metadata": {},
   "outputs": [
    {
     "name": "stdout",
     "output_type": "stream",
     "text": [
      "she saw a car\n",
      "         S             \n",
      "  _______|___           \n",
      " |           VP        \n",
      " |    _______|___       \n",
      " NP  |           NP    \n",
      " |   |        ___|___   \n",
      " N   V       D       N \n",
      " |   |       |       |  \n",
      "she saw      a      car\n",
      "\n"
     ]
    }
   ],
   "source": []
  },
  {
   "cell_type": "markdown",
   "id": "b6fa8235",
   "metadata": {},
   "source": [
    "### Challenge with CFG\n",
    "- You need to encode all possibilities\n",
    "\n",
    "### Idea\n",
    "- Understand text in small subsets\n",
    "- **$n$-gram**\n",
    "    - a contiguous sequence of $n$ items from a sample text\n",
    "- **Word $n$-gram**\n",
    "    - a contiguous sequence of $n$ words from a sample text\n",
    "- **unigram**\n",
    "    - 1 items in sequence\n",
    "- **bigram**\n",
    "    - 2 items in sequence\n",
    "- **trigram**\n",
    "    - 3 items in sequence"
   ]
  },
  {
   "cell_type": "markdown",
   "id": "30889d25",
   "metadata": {},
   "source": [
    "### Word Tokenization\n",
    "- the task of splitting a sequence of words into tokens\n",
    "\n",
    "- Considerations: comma, punktuation, etc."
   ]
  },
  {
   "cell_type": "code",
   "execution_count": 6,
   "id": "4312a067",
   "metadata": {},
   "outputs": [],
   "source": [
    "import os\n",
    "from collections import Counter\n",
    "from os import system"
   ]
  },
  {
   "cell_type": "code",
   "execution_count": null,
   "id": "376bfec9",
   "metadata": {},
   "outputs": [],
   "source": [
    "!mkdir -p files/holmes"
   ]
  },
  {
   "cell_type": "code",
   "execution_count": null,
   "id": "00074065",
   "metadata": {},
   "outputs": [],
   "source": [
    "# This part, only for colabs, in order to have all the fullpath name in the list \"holmes_files\"\n",
    "\n",
    "REMOTE_DIRECTORY = \"https://raw.githubusercontent.com/LearnPythonWithRune/MachineLearningWithPython/main/jupyter/final/files/holmes/\"\n",
    "\n",
    "FILES = [\"bachelor.txt\", \"clerk.txt\", \"face.txt \", \"problem.txt\", \"twisted.txt\", \"blaze.txt\", \"copper.txt\" , \"gloria_scott.txt\", \"ritual.txt\", \"bohemia.txt\", \"coronet.txt\", \"interpreter.txt\", \"speckled.txt\", \"boscombe.txt\", \"crooked.txt \", \"league.txt\", \"squires.txt\", \"carbuncle.txt\", \"engineer.txt\", \"atient.txt\", \"treaty.txt\"]\n",
    "\n",
    "holmes_files = []\n",
    "for filename in FILES:\n",
    "    full_name = REMOTE_DIRECTORY + filename\n",
    "    system(\"curl -o files/holmes/\"+filename+\" \"+full_name)"
   ]
  },
  {
   "cell_type": "code",
   "execution_count": 7,
   "id": "1ade98c4",
   "metadata": {
    "scrolled": true
   },
   "outputs": [
    {
     "name": "stderr",
     "output_type": "stream",
     "text": [
      "[nltk_data] Downloading package punkt to /Users/rune/nltk_data...\n",
      "[nltk_data]   Package punkt is already up-to-date!\n"
     ]
    },
    {
     "data": {
      "text/plain": [
       "True"
      ]
     },
     "execution_count": 7,
     "metadata": {},
     "output_type": "execute_result"
    }
   ],
   "source": [
    "# You need to download this\n",
    "nltk.download('punkt')"
   ]
  },
  {
   "cell_type": "code",
   "execution_count": null,
   "id": "5f7f800c",
   "metadata": {},
   "outputs": [],
   "source": [
    "content = []\n",
    "for filename in os.listdir('files/holmes/'):\n",
    "    with open(f'files/holmes/{filename}') as f:\n",
    "        content.append(f.read())"
   ]
  },
  {
   "cell_type": "code",
   "execution_count": 9,
   "id": "14cc1cb6",
   "metadata": {},
   "outputs": [],
   "source": []
  },
  {
   "cell_type": "code",
   "execution_count": 10,
   "id": "1495276e",
   "metadata": {},
   "outputs": [
    {
     "data": {
      "text/plain": [
       "21"
      ]
     },
     "execution_count": 10,
     "metadata": {},
     "output_type": "execute_result"
    }
   ],
   "source": []
  },
  {
   "cell_type": "code",
   "execution_count": null,
   "id": "f4d04b07",
   "metadata": {},
   "outputs": [],
   "source": []
  },
  {
   "cell_type": "code",
   "execution_count": 12,
   "id": "767c2288",
   "metadata": {},
   "outputs": [],
   "source": []
  },
  {
   "cell_type": "code",
   "execution_count": 13,
   "id": "f5297b15",
   "metadata": {},
   "outputs": [
    {
     "data": {
      "text/plain": [
       "178205"
      ]
     },
     "execution_count": 13,
     "metadata": {},
     "output_type": "execute_result"
    }
   ],
   "source": []
  },
  {
   "cell_type": "code",
   "execution_count": 14,
   "id": "e55e7bf6",
   "metadata": {},
   "outputs": [],
   "source": []
  },
  {
   "cell_type": "code",
   "execution_count": 15,
   "id": "c4cfafa6",
   "metadata": {},
   "outputs": [
    {
     "name": "stdout",
     "output_type": "stream",
     "text": [
      "80: ('it', 'was', 'a')\n",
      "71: ('one', 'of', 'the')\n",
      "65: ('i', 'think', 'that')\n",
      "59: ('out', 'of', 'the')\n",
      "55: ('that', 'it', 'was')\n",
      "55: ('that', 'he', 'had')\n",
      "55: ('there', 'was', 'a')\n",
      "55: ('that', 'he', 'was')\n",
      "52: ('it', 'is', 'a')\n",
      "49: ('i', 'can', 'not')\n"
     ]
    }
   ],
   "source": []
  },
  {
   "cell_type": "markdown",
   "id": "1373e8d6",
   "metadata": {},
   "source": [
    "### Markov Model\n",
    "- A Markov chain is a stochastic model describing a sequence of possible events in which the probability of each event depends only on the state attained in the previous even ([wiki](https://en.wikipedia.org/wiki/Markov_chain))\n",
    "- Or as the example above:\n",
    "    - Given any two words -> you have probabilities for the next word"
   ]
  },
  {
   "cell_type": "code",
   "execution_count": null,
   "id": "d47ff960",
   "metadata": {},
   "outputs": [],
   "source": [
    "!pip install markovify"
   ]
  },
  {
   "cell_type": "code",
   "execution_count": 16,
   "id": "27420682",
   "metadata": {},
   "outputs": [],
   "source": [
    "import markovify"
   ]
  },
  {
   "cell_type": "code",
   "execution_count": null,
   "id": "38732050",
   "metadata": {},
   "outputs": [],
   "source": [
    "# Downloading file into Google colab\n",
    "file_name = \"shakespeare.txt\" \n",
    "full_name = \"https://raw.githubusercontent.com/LearnPythonWithRune/MachineLearningWithPython/main/jupyter/final/files/shakespeare.txt\"\n",
    "\n",
    "system(\"curl -o files/\"+file_name+\" \"+full_name)"
   ]
  },
  {
   "cell_type": "code",
   "execution_count": 17,
   "id": "4325b338",
   "metadata": {},
   "outputs": [],
   "source": [
    "with open(\"files/shakespeare.txt\") as f:\n",
    "    text = f.read()"
   ]
  },
  {
   "cell_type": "code",
   "execution_count": 18,
   "id": "5b20b5c3",
   "metadata": {},
   "outputs": [],
   "source": []
  },
  {
   "cell_type": "code",
   "execution_count": 22,
   "id": "4828ee83",
   "metadata": {},
   "outputs": [
    {
     "data": {
      "text/plain": [
       "'In the wars; defeat thy favor with an ordinary pitch, Who else but I, his forlorn duchess, Was made much poorer by it; but first, how get hence.'"
      ]
     },
     "execution_count": 22,
     "metadata": {},
     "output_type": "execute_result"
    }
   ],
   "source": []
  },
  {
   "cell_type": "code",
   "execution_count": null,
   "id": "78bbd0ca",
   "metadata": {},
   "outputs": [],
   "source": []
  }
 ],
 "metadata": {
  "language_info": {
   "name": "python"
  }
 },
 "nbformat": 4,
 "nbformat_minor": 5
}
