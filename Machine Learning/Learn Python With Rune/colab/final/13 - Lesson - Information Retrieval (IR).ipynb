{
 "cells": [
  {
   "cell_type": "markdown",
   "id": "26627e6b",
   "metadata": {},
   "source": [
    "<a \n",
    " href=\"https://colab.research.google.com/github/LearnPythonWithRune/MachineLearningWithPython/blob/main/colab/final/13 - Lesson - Information Retrieval (IR).ipynb\"\n",
    " target=\"_parent\">\n",
    "<img \n",
    " src=\"https://colab.research.google.com/assets/colab-badge.svg\"\n",
    "alt=\"Open In Colab\"/>\n",
    "</a>"
   ]
  },
  {
   "cell_type": "markdown",
   "id": "2968d3c6",
   "metadata": {},
   "source": [
    "# Information Retrieval (IR)\n",
    "### Goal of lesson\n",
    "- Learn what Information Retrival is\n",
    "- Topic modeling documents\n",
    "- How to use Term Frequency and understand the limitations\n",
    "- Implement Term Frequency by Inverse Document Frequency (TF-IDF)\n",
    "\n",
    "### What is Information Retrievel (IR)\n",
    "- The task of finding relevant documents in respose to a user query\n",
    "- Web search engines are the most visible IR applications ([wiki](https://en.wikipedia.org/wiki/Information_retrieval))"
   ]
  },
  {
   "cell_type": "markdown",
   "id": "f9fa2216",
   "metadata": {},
   "source": [
    "### Topic Modeling\n",
    "- Models for discovering the topics for a set of document\n",
    "    - e.g., it provides us with methods to organize, understand and summarize large collections of textual information.\n",
    "- Topic modeling can be described as a method for finding a group of words that best represents the information."
   ]
  },
  {
   "cell_type": "markdown",
   "id": "5170155b",
   "metadata": {},
   "source": [
    "## Approach 1: Term Frequency\n",
    "\n",
    "### Term Frequency\n",
    "- The number of times a term occurs in a document is called its term frequency ([wiki](https://en.wikipedia.org/wiki/Tf–idf#Term_frequency))\n",
    "\n",
    "$\\text{tf}(t, d) = f_{t, d}$: The number of time term $t$ occurs in document $d$.\n",
    "\n",
    "- There are other ways to define term frequency (see [wiki](https://en.wikipedia.org/wiki/Tf–idf#Term_frequency_2))"
   ]
  },
  {
   "cell_type": "markdown",
   "id": "96f0f947",
   "metadata": {},
   "source": [
    "> #### Programming Notes:\n",
    "> - Libraries used\n",
    ">     - [**nltk**](https://www.nltk.org) - Natural Language Toolkit\n",
    ">     - [**os**](https://docs.python.org/3/library/os.html) Miscellaneous operating system interfaces\n",
    ">     - [**math**](https://docs.python.org/3/library/math.html) Do math with Python\n",
    "> - Functionality and concepts used\n",
    ">     - **List/Dict Comprehension** to convert data ([Lecture on **List Comprehension**](https://youtu.be/vCYEvtfXdig))\n",
    ">     - [**sorted**](https://docs.python.org/3/howto/sorting.html) sort stuff\n",
    ">     - [**lambda**](https://docs.python.org/3/tutorial/controlflow.html#lambda-expressions) lambda functions"
   ]
  },
  {
   "cell_type": "code",
   "execution_count": null,
   "id": "cb7fa736",
   "metadata": {},
   "outputs": [],
   "source": [
    "import os\n",
    "import nltk\n",
    "import math\n",
    "from os import system\n",
    "nltk.download('punkt')"
   ]
  },
  {
   "cell_type": "code",
   "execution_count": null,
   "id": "11361ba9",
   "metadata": {},
   "outputs": [],
   "source": [
    "# Create local directories in Google Colab\n",
    "!mkdir -p files/holmes"
   ]
  },
  {
   "cell_type": "code",
   "execution_count": null,
   "id": "ff991d03",
   "metadata": {},
   "outputs": [],
   "source": [
    "# This part, only for colabs, in order to have all the fullpath name in the list \"holmes_files\"\n",
    "\n",
    "REMOTE_DIRECTORY = \"https://raw.githubusercontent.com/LearnPythonWithRune/MachineLearningWithPython/main/jupyter/final/files/holmes/\"\n",
    "\n",
    "FILES = [\"bachelor.txt\", \"clerk.txt\", \"face.txt \", \"problem.txt\", \"twisted.txt\", \"blaze.txt\", \"copper.txt\" , \"gloria_scott.txt\", \"ritual.txt\", \"bohemia.txt\", \"coronet.txt\", \"interpreter.txt\", \"speckled.txt\", \"boscombe.txt\", \"crooked.txt \", \"league.txt\", \"squires.txt\", \"carbuncle.txt\", \"engineer.txt\", \"atient.txt\", \"treaty.txt\"]\n",
    "\n",
    "holmes_files = []\n",
    "for filename in FILES:\n",
    "    full_name = REMOTE_DIRECTORY + filename\n",
    "    system(\"curl -o files/holmes/\"+filename+\" \"+full_name)"
   ]
  },
  {
   "cell_type": "code",
   "execution_count": null,
   "id": "cc792fcb",
   "metadata": {},
   "outputs": [],
   "source": [
    "corpus = {}\n",
    "\n",
    "for filename in os.listdir('files/holmes/'):\n",
    "    with open(f'files/holmes/{filename}') as f:\n",
    "        content = [word.lower() for word in nltk.word_tokenize(f.read()) if word.isalpha()]\n",
    "        \n",
    "        freq = {word: content.count(word) for word in set(content)}\n",
    "        \n",
    "        corpus[filename] = freq"
   ]
  },
  {
   "cell_type": "code",
   "execution_count": null,
   "id": "6bb4d278",
   "metadata": {},
   "outputs": [],
   "source": [
    "for filename in corpus:\n",
    "  corpus[filename] = sorted(corpus[filename].items(), key=lambda x: x[1], reverse=True)"
   ]
  },
  {
   "cell_type": "code",
   "execution_count": null,
   "id": "b7ad455c",
   "metadata": {},
   "outputs": [],
   "source": [
    "for filename in corpus:\n",
    "  print(filename)\n",
    "  for word, score in corpus[filename][:5]:\n",
    "    print(f' {word}: {score}')"
   ]
  },
  {
   "cell_type": "markdown",
   "id": "d790c96f",
   "metadata": {},
   "source": [
    "### Problem: Stop of Function Word\n",
    "- words that have little meaning on their own ([wiki](https://en.wikipedia.org/wiki/Stop_word))\n",
    "- Examples: am, by, do, is, which, ....\n",
    "- Student exercise: Remove function words and see result (HINT: nltk has a list of stopwords)"
   ]
  },
  {
   "cell_type": "markdown",
   "id": "bd027d81",
   "metadata": {},
   "source": [
    "## Approach 2: TF-IDF\n",
    "- TF-IDF is a numerical statistic that is intended to reflect how important a word is to a document in a collection or corpus. ([wiki](https://en.wikipedia.org/wiki/Tf–idf))\n",
    "\n",
    "### Inverse Document Frequency\n",
    "- Measure of how common or rare a word is across documents\n",
    "\n",
    "$\\text{idf}(t, D) = \\log{\\frac{N}{|d\\in D : t\\in d|}} = \\log{\\frac{\\text{Total Documents}}{\\text{Number of Documents Containing \"term\"}}}$\n",
    "- $D$: All docments in the corpus\n",
    "- $N$: total number of documents in the corpus $N = |D|$"
   ]
  },
  {
   "cell_type": "markdown",
   "id": "0657212b",
   "metadata": {},
   "source": [
    "### TF-IDF\n",
    "- Ranking of what words are important in a document by multiplying Term Frequencey (TF) by Inverse Document Frequency (IDF)\n",
    "\n",
    "$\\text{tf-idf}(t, d) = \\text{tf}(t, d)\\cdot \\text{idf}(t, D)$"
   ]
  },
  {
   "cell_type": "markdown",
   "id": "7b668a3d",
   "metadata": {},
   "source": [
    "### Example\n",
    "\n",
    "- Document 1: *This is the sample of the day*\n",
    "- Document 2: *This is another sample of the day*"
   ]
  },
  {
   "cell_type": "code",
   "execution_count": null,
   "id": "df2bc786",
   "metadata": {},
   "outputs": [],
   "source": [
    "doc1 = \"This is the sample of the day\".split()\n",
    "doc2 = \"This is another sample of the day\".split()"
   ]
  },
  {
   "cell_type": "code",
   "execution_count": null,
   "id": "d066b8f0",
   "metadata": {},
   "outputs": [],
   "source": [
    "corpus = [doc1, doc2]\n",
    "corpus"
   ]
  },
  {
   "cell_type": "code",
   "execution_count": null,
   "id": "c716debb",
   "metadata": {},
   "outputs": [],
   "source": [
    "tf1 = {word: doc1.count(word) for word in set(doc1)}\n",
    "tf2 = {word: doc2.count(word) for word in set(doc2)}"
   ]
  },
  {
   "cell_type": "code",
   "execution_count": null,
   "id": "685ed15c",
   "metadata": {},
   "outputs": [],
   "source": [
    "tf1"
   ]
  },
  {
   "cell_type": "code",
   "execution_count": null,
   "id": "972540c3",
   "metadata": {},
   "outputs": [],
   "source": [
    "tf2"
   ]
  },
  {
   "cell_type": "code",
   "execution_count": null,
   "id": "7e31038d",
   "metadata": {},
   "outputs": [],
   "source": [
    "term = 'sample'\n",
    "ids = 2/sum(term in doc for doc in corpus)\n",
    "\n",
    "tf1.get(term, 0)*ids, tf2.get(term, 0)*ids"
   ]
  },
  {
   "cell_type": "code",
   "execution_count": null,
   "id": "fd42f14e",
   "metadata": {},
   "outputs": [],
   "source": []
  }
 ],
 "metadata": {
  "language_info": {
   "name": "python"
  }
 },
 "nbformat": 4,
 "nbformat_minor": 5
}
