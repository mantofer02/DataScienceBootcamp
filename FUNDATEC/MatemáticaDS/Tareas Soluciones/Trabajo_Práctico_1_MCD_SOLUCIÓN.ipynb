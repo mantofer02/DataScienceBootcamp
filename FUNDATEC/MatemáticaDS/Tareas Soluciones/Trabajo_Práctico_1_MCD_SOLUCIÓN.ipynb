{
 "cells": [
  {
   "cell_type": "markdown",
   "metadata": {
    "id": "GItxU96mTk16"
   },
   "source": [
    "# Matemática para Ciencia de los Datos\n",
    "# Trabajo Práctico 1\n",
    "\n",
    "Profesor: Luis Alexánder Calvo Valverde \n",
    "\n",
    "Instituto Tecnológico de Costa Rica, \n",
    "\n",
    "PAttern Recongition and MAchine Learning Group (PARMA-Group)\n",
    "\n",
    "---\n",
    "\n",
    "Fecha de entrega: \n",
    "\n",
    "Medio de entrega: Por medio del TEC-Digital.\n",
    "\n",
    "Entregables: Un archivo jupyter ( .IPYNB ). \n",
    "\n",
    "Modo de trabajo: Parejas.\n",
    "1. **Nombre_Estudiante_1**\n",
    "1. **Nombre_Estudiante_2**\n"
   ]
  },
  {
   "cell_type": "code",
   "execution_count": 13,
   "metadata": {
    "id": "9J_JY0I4kgJi"
   },
   "outputs": [],
   "source": [
    "%matplotlib inline\n",
    "import numpy as np\n",
    "import pandas as pd\n",
    "import matplotlib.pyplot as plt\n"
   ]
  },
  {
   "cell_type": "markdown",
   "metadata": {
    "id": "jdtaAwa8XzNA"
   },
   "source": [
    "---\n",
    "\n",
    "**Pregunta 1 (20 puntos, 10 pts c/u)**\n",
    "\n",
    "Demuestre de manera matemática si los siguientes sistemas $L\\left\\{ \\cdot\\right\\}$  (con entrada $u(t)$ y salida $g(t)$ ) son lineales o no lineales (**escriba las fórmulas en celdas de texto**). Una vez hecho su mayor esfuerzo, si no sabe cómo seguir matemáticamente, puede sustituir con valores y mostrar por contra-ejemplo.\n",
    "\n",
    "a)  \n",
    "$g\\left(t\\right)=\\log _{10} u(t)$\n",
    "\n",
    "\n",
    "\n",
    "\n",
    "\n"
   ]
  },
  {
   "cell_type": "markdown",
   "metadata": {
    "id": "3fVYwBnhkgJk"
   },
   "source": [
    "-- Varios caminos --\n",
    "\n",
    "--- \n",
    "\n",
    "Mediante exponenciación, podemos ver que:\n",
    "$$$$\n",
    "$$ \\log _{10} (\\alpha u_{1}(t) + \\beta u_{2}(t)) = \\log _{10} (u_{1}(t)) ^ \\alpha +  \\log _{10} (u_{2}(t)) ^ \\beta $$\n",
    "$$$$\n",
    "Mediante la propiedad de suma de logaritmos de igual base, podemos decir que: \n",
    "$$$$\n",
    "$$ \\log _{10} (\\alpha u_{1}(t) + \\beta u_{2}(t)) = \\log _{10} (u_{1}(t) ^ \\alpha * u_{2}(t) ^ \\beta) $$\n",
    "$$$$\n",
    "Tras aplicar propiedades de los logaritmos, no fue posible llegar a una igualdad. El lado izquierdo no puede ser descrito de otra manera y el lado derecho ha sido convertido al máximo. Por lo tanto, la función $\\ g\\left(t\\right)=\\log _{10} u(t) $ **no es lineal.**\n",
    "\n",
    "\n",
    "---\n",
    "\n",
    "\n",
    "> $log_{10}(\\alpha u_1(t)+\\beta u_2(t))=? \\alpha log_{10}(u_1(t))+\\beta log_{10}(u2(t)) $\n",
    "\n",
    "> $log_{10}(\\alpha u_1(t)+\\beta u_2(t)) =? log_{10}(u_1(t)^\\alpha) + log_{10}(u_2(t)^\\beta)$\n",
    "\n",
    "> $log_{10}(\\alpha u_1(t)+\\beta u_2(t)) \\neq log_{10}(u_1(t)^\\alpha u_2(t)^\\beta)$\n",
    "\n",
    "Por lo tanto no son lineales\n",
    "\n",
    "---\n",
    "\n",
    "DEMOSTRACIÓN:\n",
    "$$\n",
    " L\\{\\alpha f(x)\\}= \\alpha L\\{f(x)\\}\n",
    "$$\n",
    "$$\n",
    " L\\{f_1(x)+f_2(x)\\}= L\\{f_1(x)\\}+L\\{f_2(x)\\}\n",
    "$$\n",
    "\n",
    "$$L\\left\\{ \\alpha f_{1}\\left(x\\right)+\\beta f_{2}\\left(x\\right)\\right\\} =\\alpha L\\left\\{ f_{1}(x)\\right\\} +\\beta L\\left\\{ f_{2}(x)\\right\\}\n",
    "$$\n",
    "\n",
    "Si:\n",
    "\n",
    "$$log_{10} {\\{ \\alpha f_1(x)+\\beta f_2(x) \\} } = \\alpha log_{10} \\{ f_1(x)  \\} + \\beta log_{10} \\{ f_2(x) \\} $$\n",
    "\n",
    "no se cumple la linealidad porque la suma de logaritmos es igual a la multiplicación de esos logratimos. Es decir:\n",
    "\n",
    "$log_{10} (A) + log_{10} (B)   =  log_{10}(AB) $\n",
    "\n",
    "y\n",
    "\n",
    "\n",
    "$log_{10} ( f_1(x) ) + log_{10} ( f_2(x)  )   /=  log_{10}(f_1(x)*f_2(x)) $\n",
    "\n",
    "\n",
    "\n",
    "$log_{10} (AB)    /=   \\alpha log_{10} \\{ f_1(x)  \\} + \\beta log_{10} \\{ f_2(x) \\} $$\n",
    "\n",
    "siendo /= \"es diferente\"\n",
    "\n",
    "\n"
   ]
  },
  {
   "cell_type": "markdown",
   "metadata": {
    "id": "puVefsxTkgJl"
   },
   "source": [
    "b)  \n",
    "$g\\left(t\\right)= 5 * u(t) + 13$\n",
    "\n"
   ]
  },
  {
   "cell_type": "markdown",
   "metadata": {
    "id": "Wk8ZucuLkgJm"
   },
   "source": [
    "No es lineal\n",
    "\n",
    "DEMOSTRACIÓN:\n",
    "$$\n",
    " L\\{\\alpha f(x)\\}= \\alpha L\\{f(x)\\}\n",
    "$$\n",
    "$$\n",
    " L\\{f_1(x)+f_2(x)\\}= L\\{f_1(x)\\}+L\\{f_2(x)\\}\n",
    "$$\n",
    "\n",
    "$$L\\left\\{ \\alpha f_{1}\\left(x\\right)+\\beta f_{2}\\left(x\\right)\\right\\} =\\alpha L\\left\\{ f_{1}(x)\\right\\} +\\beta L\\left\\{ f_{2}(x)\\right\\}\n",
    "$$\n",
    "\n",
    "Si:\n",
    "\n",
    "$$5 * {\\{ \\alpha f_1(x)+\\beta f_2(x) \\} }+13 = 5*\\alpha f_1(x)+13  + 5* \\beta f_2(x) +13 $$\n",
    "\n",
    "$$5 * \\alpha f_1(x)+ 5*\\beta f_2(x) +13 = 5*\\alpha f_1(x)  + 5* \\beta f_2(x) +13 +13$$\n",
    "\n",
    "$$5 * \\alpha f_1(x)+ 5*\\beta f_2(x) +13 = 5*\\alpha f_1(x)  + 5* \\beta f_2(x) +26 $$\n",
    "\n",
    "No es lineal\n"
   ]
  },
  {
   "cell_type": "markdown",
   "metadata": {
    "id": "VNKzRFnCkgJn"
   },
   "source": [
    "---\n",
    "\n",
    "**Pregunta 2 (20 puntos, 10 pts c/u)**\n",
    "\n",
    "Para cada uno de los siguientes vectores calcule la norma $L_2$: \n",
    "1. De manera matemática.\n",
    "1. Programe una implementación en python de lo anterior, pero sin utilizar la función torch.norm de la biblioteca. \n",
    "1. Luego compare su resultado con una versión usando torch.norm.\n",
    "\n",
    "a)\n",
    "\n",
    "$a = \\begin{bmatrix}-9 \\\\ 7 \\end{bmatrix}$\n",
    "\n"
   ]
  },
  {
   "cell_type": "code",
   "execution_count": 14,
   "metadata": {
    "colab": {
     "base_uri": "https://localhost:8080/"
    },
    "id": "L1DKD3CQkgJo",
    "outputId": "e4916765-b12f-4cb8-9d7c-8757a6eee480"
   },
   "outputs": [
    {
     "name": "stdout",
     "output_type": "stream",
     "text": [
      "Norma l2 de a es 11.40175425099138\n",
      "Norma l2 de a es 11.40175425099138\n"
     ]
    }
   ],
   "source": [
    "a = np.array([-9., 7.])\n",
    "\n",
    "def l2_norm(v):\n",
    "\n",
    "    # Inicializamos la norma\n",
    "    norm = 0\n",
    "\n",
    "    # Sumamos el cuadrado de cada elemento en el vector\n",
    "    for e in v:\n",
    "        norm += e**2\n",
    "\n",
    "    # Le sacamos la raiz cuadrada y retornamos el resultado\n",
    "    return np.sqrt(norm)\n",
    "\n",
    "print('Norma l2 de a es ' + str(l2_norm(a)))\n",
    "# Cor torch\n",
    "print('Norma l2 de a es ' + str(np.linalg.norm(a, ord=2)))\n"
   ]
  },
  {
   "cell_type": "markdown",
   "metadata": {
    "id": "3Ukk9pBZkgJp"
   },
   "source": [
    "b) \n",
    "\n",
    "$b = \\begin{bmatrix}1 \\\\ 2 \\\\ 4 \\\\  5\\end{bmatrix}$\n",
    "\n"
   ]
  },
  {
   "cell_type": "code",
   "execution_count": 15,
   "metadata": {
    "colab": {
     "base_uri": "https://localhost:8080/"
    },
    "id": "9QczZ9lUkgJq",
    "outputId": "e6ccfc06-913d-4e94-c7bb-3628c816af4d"
   },
   "outputs": [
    {
     "name": "stdout",
     "output_type": "stream",
     "text": [
      "Norma l2 de b es 6.782329983125268\n",
      "Norma l2 de b es 6.782329983125268\n"
     ]
    }
   ],
   "source": [
    "b = np.array([1., 2., 4., 5.])\n",
    "\n",
    "print('Norma l2 de b es ' + str(l2_norm(b)))\n",
    "\n",
    "# Cor torch\n",
    "print('Norma l2 de b es ' + str(np.linalg.norm(b, ord=2)))\n"
   ]
  },
  {
   "cell_type": "markdown",
   "metadata": {
    "id": "kDOiCG_0kgJq"
   },
   "source": [
    "---\n",
    "\n",
    "**Pregunta 3 (20 puntos, 10 pts c/u)**\n",
    "\n",
    "En Python, calcule el producto punto (o producto escalar entre vectores) $a \\cdot b$ para los siguientes pares de vectores, una versión utilizando torch.dot, y otra sin utilizar dicha función (programa en python con ciclos):\n",
    "\n",
    "a) \n",
    "\n",
    "$a=\\begin{bmatrix}2 \\\\ 7 \\end{bmatrix}, b=\\begin{bmatrix}10 \\\\ 2 \\end{bmatrix}$\n",
    "\n"
   ]
  },
  {
   "cell_type": "code",
   "execution_count": 16,
   "metadata": {
    "colab": {
     "base_uri": "https://localhost:8080/"
    },
    "id": "jEZiHn40kgJr",
    "outputId": "4c827fa6-1449-49c8-90a0-3aa011490c60"
   },
   "outputs": [
    {
     "name": "stdout",
     "output_type": "stream",
     "text": [
      "Producto punto python:  34.0\n",
      "Producto punto torch:  34.0\n"
     ]
    }
   ],
   "source": [
    "a = [2. , 7.]\n",
    "b = [10. , 2.]\n",
    "a_array = np.array(a,dtype=np.float64 )\n",
    "b_array = np.array(b, dtype=np.float64 )\n",
    "\n",
    "def productoPunto( a, b):\n",
    "    respuesta = 0\n",
    "    for i in range(len(a)):\n",
    "        respuesta += (a[i]*b[i])\n",
    "    return respuesta\n",
    "\n",
    "print(\"Producto punto python: \", productoPunto(a,b))\n",
    "print(\"Producto punto torch: \", np.dot(a_array,b_array))"
   ]
  },
  {
   "cell_type": "markdown",
   "metadata": {
    "id": "pb0Xs_CxkgJr"
   },
   "source": [
    "\n",
    "b)\n",
    "\n",
    "$a=\\begin{bmatrix}-1 \\\\ 8 \\\\ 3 \\end{bmatrix}, b=\\begin{bmatrix} 2 \\\\ 6 \\\\ 5 \\end{bmatrix}$\n",
    "\n",
    "\n"
   ]
  },
  {
   "cell_type": "code",
   "execution_count": 17,
   "metadata": {
    "colab": {
     "base_uri": "https://localhost:8080/"
    },
    "id": "vw3YiP-rkgJs",
    "outputId": "65f17a43-ecb7-4c8d-8202-f30f5be71682"
   },
   "outputs": [
    {
     "name": "stdout",
     "output_type": "stream",
     "text": [
      "Producto punto python:  61.0\n",
      "Producto punto torch:  61.0\n"
     ]
    }
   ],
   "source": [
    "a = [-1. , 8. , 3. ]\n",
    "b = [2. , 6. , 5. ]\n",
    "a_Torch = np.array(a,dtype=np.float64 )\n",
    "b_Torch = np.array(b, dtype=np.float64 )\n",
    "\n",
    "print(\"Producto punto python: \", productoPunto(a,b))\n",
    "print(\"Producto punto torch: \", np.dot(a_Torch,b_Torch))"
   ]
  },
  {
   "cell_type": "markdown",
   "metadata": {
    "id": "6EXi7bRLkgJs"
   },
   "source": [
    "---\n",
    "\n",
    "**Pregunta 4 (20 puntos, 10 pts c/u)**\n",
    "\n",
    "a) Proponga dos vectores:  $x$  e  $y$ que sean colineales (con dos elementos cada uno).  Programe en python para mostrar que son colineales y luego grafíquelos en un mismo gráfico en python. En el cuaderno visto en clase viene un ejemplo de uso de import matplotlib.pyplot as plt\n",
    "\n"
   ]
  },
  {
   "cell_type": "code",
   "execution_count": 18,
   "metadata": {
    "id": "LfrLDwIUkgJt"
   },
   "outputs": [],
   "source": [
    "def sonColineales( x, y ):\n",
    "    relacion = []\n",
    "    for i in range(len(x)):\n",
    "        relacion.append( x[i] / y[i])\n",
    "    iguales = True\n",
    "    valor = relacion[0]\n",
    "    #print(relacion)\n",
    "    for i in range(1,len(relacion)):\n",
    "        if valor != relacion[i]:\n",
    "            iguales = False\n",
    "            break\n",
    "    return iguales"
   ]
  },
  {
   "cell_type": "code",
   "execution_count": 19,
   "metadata": {
    "colab": {
     "base_uri": "https://localhost:8080/",
     "height": 470
    },
    "id": "hoGynGHqkgJt",
    "outputId": "cda67880-6a7a-4c21-f01d-13293d391773"
   },
   "outputs": [
    {
     "name": "stdout",
     "output_type": "stream",
     "text": [
      "Son colineales\n"
     ]
    },
    {
     "data": {
      "image/png": "[encoded data removed]",
      "text/plain": [
       "<Figure size 640x480 with 1 Axes>"
      ]
     },
     "metadata": {},
     "output_type": "display_data"
    }
   ],
   "source": [
    "\n",
    "x = [1., 4.]\n",
    "y = [2., 8.]\n",
    "if sonColineales(x,y):\n",
    "    print(\"Son colineales\")\n",
    "else:\n",
    "    print(\"No son colineales\")\n",
    "\n",
    "# Ploteo de los vectores\n",
    "origin = [0, 0]\n",
    "fig, ax = plt.subplots()\n",
    "\n",
    "ax.quiver(origin, origin, [x[0],y[0]], [x[1],y[1]], color=[\"r\",\"b\"],angles='xy', scale_units='xy', scale=1)\n",
    "ax.axis([0, 10, 0, 10])\n",
    "ax.set_title('Colineales')\n",
    "\n",
    "plt.show()\n"
   ]
  },
  {
   "cell_type": "markdown",
   "metadata": {
    "id": "dOGKwHlGkgJt"
   },
   "source": [
    "\n",
    "b)  \n",
    "\n",
    "Ahora modifique uno de los vectores para que no sean colineales y luego grafique para mostrar cómo se ven dos vectores que no son colineales. \n",
    "\n"
   ]
  },
  {
   "cell_type": "code",
   "execution_count": 20,
   "metadata": {
    "colab": {
     "base_uri": "https://localhost:8080/",
     "height": 470
    },
    "id": "1vFiOUlBkgJu",
    "outputId": "bc69d7c6-de18-4883-eb6e-097a5acb24ca"
   },
   "outputs": [
    {
     "name": "stdout",
     "output_type": "stream",
     "text": [
      "No son colineales\n"
     ]
    },
    {
     "data": {
      "image/png": "[encoded data removed]",
      "text/plain": [
       "<Figure size 640x480 with 1 Axes>"
      ]
     },
     "metadata": {},
     "output_type": "display_data"
    }
   ],
   "source": [
    "x = [3, 4]\n",
    "y = [2, 8]\n",
    "if sonColineales(x,y):\n",
    "    print(\"Son colineales\")\n",
    "else:\n",
    "    print(\"No son colineales\")\n",
    "\n",
    "# Ploteo de los vectores\n",
    "origin = [0, 0]\n",
    "fig, ax = plt.subplots()\n",
    "\n",
    "ax.quiver(origin, origin, [x[0],y[0]], [x[1],y[1]], color=[\"r\",\"b\"],angles='xy', scale_units='xy', scale=1)\n",
    "ax.axis([0, 10, 0, 10])\n",
    "ax.set_title('No Colineales')\n",
    "\n",
    "plt.show()"
   ]
  },
  {
   "cell_type": "markdown",
   "metadata": {
    "id": "a1l8aVukkgJu"
   },
   "source": [
    "Notas:\n",
    "- Proponga significa que Ustedes, estudiando las propiedades de los vectores colineales propone los valores del  vector. \n",
    "- En ambos casos tome como origen el punto (0,0)\n"
   ]
  },
  {
   "cell_type": "markdown",
   "metadata": {
    "id": "loNdvGa6kgJu"
   },
   "source": [
    "---\n",
    "\n",
    "**Pregunta 5 (20 puntos, 10 pts c/u)**\n",
    "\n",
    "\n",
    "a)\n",
    "Cargue el archivo llamado \"Datos_01.csv\".\n",
    "\n",
    "¿Existen atributos colineanes? ¿Cuáles? Programe en python para mostrar su respuesta.\n",
    "\n"
   ]
  },
  {
   "cell_type": "code",
   "execution_count": 21,
   "metadata": {
    "colab": {
     "base_uri": "https://localhost:8080/"
    },
    "id": "yU-V-HqMkgJv",
    "outputId": "91752847-3fc5-431b-9b88-dae51f1bc617"
   },
   "outputs": [
    {
     "name": "stdout",
     "output_type": "stream",
     "text": [
      "----------------------------------------\n",
      "Datos en dataFrame:\n",
      "   atributo1  atributo2  atributo3  atributo4  atributo5\n",
      "0        515         15   0.408462     1287.5          8\n",
      "1        357         22   0.642985      892.5          9\n",
      "2        633         20   0.582240     1582.5          7\n",
      "3        295         17   0.531009      737.5          9\n",
      "4        946         14   0.340640     2365.0          3\n",
      "----------------------------------------\n",
      "No son Colineales 1 2\n",
      "No son Colineales 1 3\n",
      "Son Colineales 1 4\n",
      "No son Colineales 1 5\n",
      "No son Colineales 2 3\n",
      "No son Colineales 2 4\n",
      "No son Colineales 2 5\n",
      "No son Colineales 3 4\n",
      "No son Colineales 3 5\n",
      "No son Colineales 4 5\n"
     ]
    }
   ],
   "source": [
    "separador = \"-\"*40\n",
    "archivo = \"Datos_01.csv\"\n",
    "\n",
    "# carga el archivo\n",
    "dataFrame = pd.read_csv(archivo, header = 0, delimiter=';')\n",
    "\n",
    "# guarda el nombre de las columnas en una lista\n",
    "colNames = dataFrame.columns\n",
    "\n",
    "# muestra los primeros elementos del dataFrame\n",
    "print(separador)\n",
    "print(\"Datos en dataFrame:\")\n",
    "print(dataFrame.head() )\n",
    "\n",
    "# Convertir de pandas a numpy\n",
    "datos = pd.DataFrame(dataFrame).to_numpy()\n",
    "\n",
    "# Lo pueden trabajar en numpy o torch\n",
    "# en caso de numpy, se pasa\n",
    "datos = np.array( datos )\n",
    "\n",
    "# En cada columna hay un atributo\n",
    "# El atributo1 es datos[:,0]\n",
    "# El atributo2 es datos[:,1]\n",
    "# y así sucesivamente\n",
    "\n",
    "print(separador)\n",
    "largo = len(datos[0])\n",
    "for i in range(0, largo-1):    \n",
    "    for j in range(i+1,largo):\n",
    "        if sonColineales( datos[:,i], datos[:,j]):\n",
    "            print(\"Son Colineales\", i+1,j+1)\n",
    "        else:\n",
    "            print(\"No son Colineales\", i+1,j+1)\n"
   ]
  },
  {
   "cell_type": "markdown",
   "metadata": {
    "id": "jiwuXylMkgJv"
   },
   "source": [
    "b) \n",
    "\n",
    "En el archivo \"reales.csv\" se encuentran los valores reales de un conjunto de datos, y en el archivo \"predicciones.csv\" lo que predijo un algoritmo.\n",
    "\n",
    "Cargue ambos archivos y muestre la norma 2 y la norma 5, de la diferencia entre el real y el predicho.\n",
    "\n",
    "Finalmente, grafique el predicho y el real en un mismo gráfico para comparar."
   ]
  },
  {
   "cell_type": "code",
   "execution_count": 59,
   "metadata": {
    "colab": {
     "base_uri": "https://localhost:8080/",
     "height": 779
    },
    "id": "ykmirXiVkgJw",
    "outputId": "83e8955d-aa27-4556-e1d4-26321550ec18"
   },
   "outputs": [
    {
     "name": "stdout",
     "output_type": "stream",
     "text": [
      "----------------------------------------\n",
      "Datos en Reales:\n",
      "   reales\n",
      "0   6.575\n",
      "1   6.421\n",
      "2   7.185\n",
      "3   6.998\n",
      "4   7.147\n",
      "----------------------------------------\n",
      "Datos en Predicciones:\n",
      "   prediccion\n",
      "0      4.0900\n",
      "1      4.9671\n",
      "2      4.9671\n",
      "3      6.0622\n",
      "4      6.0622\n",
      "Norma 2:  72.9246404509477\n",
      "Norma 5:  13.38063754748088\n"
     ]
    },
    {
     "data": {
      "image/png": "[encoded data removed]",
      "text/plain": [
       "<Figure size 640x480 with 1 Axes>"
      ]
     },
     "metadata": {},
     "output_type": "display_data"
    }
   ],
   "source": [
    "# carga archivos\n",
    "\n",
    "archivo = \"reales.csv\"\n",
    "dataFrameReales = pd.read_csv(archivo, header = 0)\n",
    "print(separador)\n",
    "print(\"Datos en Reales:\")\n",
    "print(dataFrameReales.head() )\n",
    "\n",
    "archivo = \"predicciones.csv\"\n",
    "dataFramePredichos = pd.read_csv(archivo, header = 0)\n",
    "print(separador)\n",
    "print(\"Datos en Predicciones:\")\n",
    "print(dataFramePredichos.head() )\n",
    "\n",
    "\n",
    "# Convertir de pandas a numpy, y luego a torch\n",
    "datos_reales = pd.DataFrame(dataFrameReales).to_numpy().ravel()\n",
    "\n",
    "predicciones = pd.DataFrame(dataFramePredichos).to_numpy().ravel()\n",
    "\n",
    "# Calculamos la norma cuadrada de la diferencia\n",
    "norma_2 = np.linalg.norm(datos_reales - predicciones)\n",
    "\n",
    "# Calculamos la norma a la 5 de la diferencia\n",
    "norma_5 = np.linalg.norm(datos_reales - predicciones,5)\n",
    "\n",
    "print(\"Norma 2: \", norma_2)\n",
    "print(\"Norma 5: \", norma_5)\n",
    "\n",
    "# Graficamos los datos reales y las predicciones\n",
    "fig, ax = plt.subplots()\n",
    "ax.plot(datos_reales, label='Datos reales')\n",
    "ax.plot(predicciones, label='Predicciones')\n",
    "\n",
    "\n",
    "\n",
    "# Configuramos las etiquetas de los ejes\n",
    "ax.set_xlabel('Muestras')\n",
    "ax.set_ylabel('Valor')\n",
    "\n",
    "# Configuramos la leyenda\n",
    "ax.legend()\n",
    "\n",
    "# Mostramos el gráfico\n",
    "plt.show()\n"
   ]
  },
  {
   "cell_type": "code",
   "execution_count": null,
   "metadata": {
    "id": "cUnoGt_KkgJx"
   },
   "outputs": [],
   "source": []
  }
 ],
 "metadata": {
  "colab": {
   "provenance": []
  },
  "kernelspec": {
   "display_name": "Python 3 (ipykernel)",
   "language": "python",
   "name": "python3"
  },
  "language_info": {
   "codemirror_mode": {
    "name": "ipython",
    "version": 3
   },
   "file_extension": ".py",
   "mimetype": "text/x-python",
   "name": "python",
   "nbconvert_exporter": "python",
   "pygments_lexer": "ipython3",
   "version": "3.9.13"
  }
 },
 "nbformat": 4,
 "nbformat_minor": 1
}
