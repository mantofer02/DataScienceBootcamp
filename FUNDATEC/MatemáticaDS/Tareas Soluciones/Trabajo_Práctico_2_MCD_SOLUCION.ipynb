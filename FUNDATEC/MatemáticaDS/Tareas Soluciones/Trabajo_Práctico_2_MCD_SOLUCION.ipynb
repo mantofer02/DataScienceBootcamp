{
  "cells": [
    {
      "attachments": {},
      "cell_type": "markdown",
      "metadata": {
        "id": "GItxU96mTk16"
      },
      "source": [
        "# Matemática para Ciencia de los Datos\n",
        "# Trabajo Práctico 2\n",
        "\n",
        "Profesor: Luis Alexánder Calvo Valverde \n",
        "\n",
        "Instituto Tecnológico de Costa Rica, \n",
        "\n",
        "Programa Ciencia de Datos\n",
        "\n",
        "---\n",
        "\n",
        "Fecha de entrega: \n",
        "\n",
        "Medio de entrega: Por medio del TEC-Digital.\n",
        "\n",
        "Entregables: Un archivo jupyter ( .IPYNB ). \n",
        "\n",
        "Estudiante(s):\n",
        "1. **Nombre_Estudiante_1**\n",
        "1. **Nombre_Estudiante_2**\n",
        " \n"
      ]
    },
    {
      "attachments": {},
      "cell_type": "markdown",
      "metadata": {
        "id": "tgcoZAm82q8Y"
      },
      "source": [
        "\n",
        "---\n",
        "\n",
        "**Pregunta 1**\n",
        "\n",
        "Considerando que la transpuesta de una matriz es el resultado de cambiar las filas a columnas. Sea una matriz $A\\in\\mathbb{R}^{m\\times n}$, su transpuesta se escribe como $A^{T}\\in\\mathbb{R}^{n\\times m}$ y sus entradas están dadas por: \n",
        "\n",
        "\\begin{equation}\n",
        "\\left(A^{T}\\right)_{i,j}=A_{j,i}.\n",
        "\\end{equation}\n",
        "\n",
        "Proponga Usted dos matrices, $A\\in\\mathbb{R}^{4\\times 3}$ y $B\\in\\mathbb{R}^{3\\times 4}$ (no las busque en Internet, trate de proponer los valores por si mismo), y utilizando numpy muestre que las siguientes propiedades se cumplen con sus matrices propuestas.\n",
        "\n",
        "**Note** que ni A ni B son cuadradas, y no tienen las mismas dimensiones.\n"
      ]
    },
    {
      "attachments": {},
      "cell_type": "markdown",
      "metadata": {
        "id": "mj_W2YsvmHSp"
      },
      "source": [
        "**1.1 (15 puntos)**\n",
        "\n",
        "- $\\left(A^{T}\\right)^{T}=A$\n"
      ]
    },
    {
      "cell_type": "code",
      "execution_count": 2,
      "metadata": {
        "id": "yiuNUzyBmHSq"
      },
      "outputs": [],
      "source": [
        "import math \n",
        "import numpy as np\n",
        "from matplotlib import pyplot as plt\n",
        "from mpl_toolkits.mplot3d import Axes3D\n",
        "from matplotlib import cm\n"
      ]
    },
    {
      "cell_type": "code",
      "execution_count": 3,
      "metadata": {
        "colab": {
          "base_uri": "https://localhost:8080/"
        },
        "id": "yfA8z9MvmHSr",
        "outputId": "2b8d9032-a0ff-4f1f-8e88-9acbe12b4656"
      },
      "outputs": [
        {
          "name": "stdout",
          "output_type": "stream",
          "text": [
            "[[ 1.  2.  3.]\n",
            " [ 4.  5.  6.]\n",
            " [ 7.  8.  9.]\n",
            " [10. 11. 12.]]\n",
            "[[ 1.  2.  3.]\n",
            " [ 4.  5.  6.]\n",
            " [ 7.  8.  9.]\n",
            " [10. 11. 12.]]\n",
            "La transpuesta de transpuesta de A es A, por tanto se cumple (𝐴**𝑇)**𝑇=𝐴\n"
          ]
        }
      ],
      "source": [
        "A = np.array([ [1. , 2. , 3.], [4. , 5. , 6. ] , [7. , 8. , 9. ], [10. , 11. , 12. ]]) \n",
        "print( (A) )\n",
        "A_t = np.transpose(A)\n",
        "A_tt = np.transpose(A_t)\n",
        "print(A_tt) \n",
        "\n",
        "if (np.array_equal(A,A_tt)):\n",
        "    print (\"La transpuesta de transpuesta de A es A, por tanto se cumple (𝐴**𝑇)**𝑇=𝐴\")\n",
        "else:\n",
        "    print (\"La transpuesta de la transpuesta de A no es A, por tanto no se cumple (𝐴**𝑇)**𝑇=𝐴\")\n",
        " "
      ]
    },
    {
      "attachments": {},
      "cell_type": "markdown",
      "metadata": {
        "id": "LA0-kaJZmHSt"
      },
      "source": [
        "**1.2 (15 puntos)**\n",
        "\n",
        "- $\\left(AB\\right)^{T}=B^{T}A^{T}$\n"
      ]
    },
    {
      "cell_type": "code",
      "execution_count": 5,
      "metadata": {
        "colab": {
          "base_uri": "https://localhost:8080/"
        },
        "id": "62hB2m7GmHSu",
        "outputId": "e541a6ab-33bf-4d0c-dba3-553a1a255ff3"
      },
      "outputs": [
        {
          "name": "stdout",
          "output_type": "stream",
          "text": [
            "Transpuesta de AB\n",
            "[[ 25.  61.  97. 133.]\n",
            " [ 30.  78. 126. 174.]\n",
            " [ 48. 120. 192. 264.]\n",
            " [ 33.  90. 147. 204.]]\n",
            "Transpuesta de B  multiplicada por Transpuesta de A\n",
            "[[ 25.  61.  97. 133.]\n",
            " [ 30.  78. 126. 174.]\n",
            " [ 48. 120. 192. 264.]\n",
            " [ 33.  90. 147. 204.]]\n",
            "Se cumple la propiedad\n"
          ]
        }
      ],
      "source": [
        "A = np.array([ [1. , 2. , 3.], [4. , 5. , 6. ] , [7. , 8. , 9. ], [10. , 11. , 12. ]])\n",
        "B = np.array([ [1. , 8. ,9.,10.], [9. , 2. ,6., 4.] , [2. , 6., 9., 5.] ] ) \n",
        "C = np.matmul( A, B).T \n",
        "print(\"Transpuesta de AB\")\n",
        "print(C)\n",
        "\n",
        "D = np.matmul(B.T,A.T) \n",
        "print(\"Transpuesta de B  multiplicada por Transpuesta de A\")\n",
        "print( D )\n",
        "\n",
        "print(\"Se cumple la propiedad\")"
      ]
    },
    {
      "attachments": {},
      "cell_type": "markdown",
      "metadata": {
        "id": "5v_YKf3KmHSu"
      },
      "source": [
        "**1.3 (15 puntos)**\n",
        "\n",
        "Para este ejercicio, **proponga dos matrices de igual dimensionalidad**\n",
        "\n",
        "\n",
        "- $\\left(A+B\\right)^{T}=A^{T}+B^{T}$.\n"
      ]
    },
    {
      "cell_type": "code",
      "execution_count": 6,
      "metadata": {
        "colab": {
          "base_uri": "https://localhost:8080/"
        },
        "id": "eS8CeIcNmHSv",
        "outputId": "4d6d6e71-45d2-40b5-8237-2d80c6d428c9"
      },
      "outputs": [
        {
          "name": "stdout",
          "output_type": "stream",
          "text": [
            "Transpuesta de A + B\n",
            "[[ 8. 12.]\n",
            " [10.  6.]]\n",
            "Transpuesta de A +  Transpuesta de B\n",
            "[[ 8. 12.]\n",
            " [10.  6.]]\n",
            "Se cumple la propiedad\n"
          ]
        }
      ],
      "source": [
        "A = np.array([ [1. , 2. ], [3. , 4. ] ]) \n",
        "B = np.array([ [7. , 8. ], [9. , 2.] ] ) \n",
        "C = np.transpose( A+ B)\n",
        "print(\"Transpuesta de A + B\")\n",
        "print(C)\n",
        "\n",
        "D = A.T + B.T \n",
        "print(\"Transpuesta de A +  Transpuesta de B\")\n",
        "print( D )\n",
        "\n",
        "print(\"Se cumple la propiedad\")"
      ]
    },
    {
      "attachments": {},
      "cell_type": "markdown",
      "metadata": {
        "id": "QJ6O85pM5Ns3"
      },
      "source": [
        "---\n",
        "\n",
        "**Pregunta 2**\n",
        "\n",
        "\n",
        "Un conjunto de vectores $\\left\\{ \\vec{x}_{1},\\vec{x}_{2},\\ldots,\\vec{x}_{n}\\right\\} \\in\\mathbb{R}^{m}$ se dice que es linealmente independiente, si ningún vector de tal conjunto puede ser representado como una combinación lineal del resto de vectores. De lo contrario, si uno de los vectores en tal conjunto puede ser representado como una combinación lineal del resto de vectores, entonces los vectores son linealmente dependientes, lo que se expresa como: \n",
        "\n",
        "\\begin{equation}\n",
        "\\vec{x}_{j}=\\sum_{i=1}^{n-1}\\alpha_{i}\\vec{x}_{i}\n",
        "\\end{equation}\n",
        "\n",
        "para cualquier conjunto de valores escalares $\\alpha_{1},\\ldots,\\alpha_{n-1}\\in\\mathbb{R}$ se dice que el vector $\\vec{x}_{j}\\in\\mathbb{R}^{m}$ es linealmente dependiente de los vectores $\\vec{x}_{i}$. \n"
      ]
    },
    {
      "attachments": {},
      "cell_type": "markdown",
      "metadata": {
        "id": "mt_5a2dbmHSw"
      },
      "source": [
        "**2.1 (15 puntos)**\n",
        "\n",
        "Proponga una matriz $A\\in\\mathbb{R}^{4\\times 3}$, cuyos vectores columnas sean linealmente independientes, calcule su rango para mostrar que es de rango $3$ (puede utilizar matrix_rank).\n"
      ]
    },
    {
      "cell_type": "code",
      "execution_count": 7,
      "metadata": {
        "colab": {
          "base_uri": "https://localhost:8080/"
        },
        "id": "CChxRFbAmHSw",
        "outputId": "742fa4c0-c31e-4aed-c0df-5e4b9ba14cbd"
      },
      "outputs": [
        {
          "name": "stdout",
          "output_type": "stream",
          "text": [
            "[[ 1.  2.  3.]\n",
            " [ 4.  5.  1.]\n",
            " [ 7.  8.  9.]\n",
            " [10. 11. 12.]]\n",
            "Rango de la matriz: 3\n"
          ]
        }
      ],
      "source": [
        "from numpy.linalg import matrix_rank\n",
        "\n",
        "A = np.array([ [1. , 2. , 3.], [4. , 5. , 1. ] , [7. , 8. , 9. ], [10. , 11. , 12. ]])\n",
        "print(A)\n",
        "rango = matrix_rank(A)\n",
        "print(\"Rango de la matriz:\", rango)"
      ]
    },
    {
      "attachments": {},
      "cell_type": "markdown",
      "metadata": {
        "id": "EbIwXThKmHSx"
      },
      "source": [
        "**2.2 (15 puntos)**\n",
        "\n",
        "Ahora haga los cambios necesarios a su matriz de manera que pase a rango $2$. "
      ]
    },
    {
      "cell_type": "code",
      "execution_count": 8,
      "metadata": {
        "colab": {
          "base_uri": "https://localhost:8080/"
        },
        "id": "bDWodawomHSx",
        "outputId": "85fd6b20-5507-4a08-a8dd-780f702d973e"
      },
      "outputs": [
        {
          "name": "stdout",
          "output_type": "stream",
          "text": [
            "[[ 1.  2.  3.]\n",
            " [ 4.  5.  6.]\n",
            " [ 7.  8.  9.]\n",
            " [10. 11. 12.]]\n",
            "rango de la matriz:  2\n"
          ]
        }
      ],
      "source": [
        "A = np.array([ [1. , 2. , 3.], [4. , 5. , 6. ] , [7. , 8. , 9. ], [10. , 11. , 12. ]]) #matriz 4 x 3\n",
        "print(A)\n",
        "rango = matrix_rank(A)\n",
        "print(\"rango de la matriz: \", rango)\n",
        "\n"
      ]
    },
    {
      "attachments": {},
      "cell_type": "markdown",
      "metadata": {
        "id": "gIt8iUSymHSy"
      },
      "source": [
        "---\n",
        "\n",
        "**Pregunta 3 (25 puntos)**\n",
        "\n",
        "Utilizando el archivo \"Dataset_usar.csv\", haga:\n",
        "- Cargue el archivo.\n",
        "- Utilizando el modelo $Ax=b$\n",
        "    - Conforme la matriz $A$ con las primeras 8 columnas.\n",
        "    - Conforme el vector $b$ con la última columna de la derecha.\n",
        "    - Calcule el vector de pesos ($x$), del tipo $A^{-1}b=x$\n",
        "    - Calcule un b_estimado con $A$ e $x$\n",
        "    - Calcule la norma 2 de la diferencia entre b y b_estimado.\n",
        "    - Grafique b y b_estimado.\n",
        "\n"
      ]
    },
    {
      "cell_type": "code",
      "execution_count": 11,
      "metadata": {
        "colab": {
          "base_uri": "https://localhost:8080/",
          "height": 560
        },
        "id": "JMj3Jml2mHSy",
        "outputId": "f85913d4-497d-4d40-e64a-3eeb84846220"
      },
      "outputs": [
        {
          "name": "stdout",
          "output_type": "stream",
          "text": [
            "----------------------------------------\n",
            "Datos en dataFrame:\n",
            "   bias    Length  Diameter    Height     Whole   Shucked  Sex_Female  \\\n",
            "0     1  0.186567  0.155963  0.195652  0.011688  0.333333           0   \n",
            "1     1  0.813433  0.761468  0.826087  0.433327  0.333333           1   \n",
            "2     1  0.410448  0.376147  0.369565  0.074022  0.333333           1   \n",
            "3     1  0.537313  0.504587  0.500000  0.143085  0.333333           1   \n",
            "4     1  0.507463  0.495413  0.565217  0.146981  0.333333           0   \n",
            "\n",
            "   Sex_Masculine  Shellweight  \n",
            "0              1        0.010  \n",
            "1              0        0.435  \n",
            "2              0        0.068  \n",
            "3              0        0.096  \n",
            "4              1        0.144  \n",
            "La norma 2 de la diferencia entre b y b_estimado \n",
            "1.222619245118618\n"
          ]
        },
        {
          "data": {
            "image/png": "[encoded data removed]",
            "text/plain": [
              "<Figure size 432x288 with 1 Axes>"
            ]
          },
          "metadata": {
            "needs_background": "light"
          },
          "output_type": "display_data"
        }
      ],
      "source": [
        "import numpy as np\n",
        "import pandas as pd\n",
        "from numpy.linalg import inv\n",
        "from numpy.linalg import pinv\n",
        "from numpy import linalg as LA\n",
        "separador = \"-\"*40\n",
        "archivo = \"Dataset_usar.csv\"\n",
        "\n",
        "# carga el archivo en pandas\n",
        "Dataset_usar = pd.read_csv(archivo, header = 0, delimiter=';')\n",
        "\n",
        "# muestra los primeros elementos del dataFrame\n",
        "print(separador)\n",
        "print(\"Datos en dataFrame:\")\n",
        "print(Dataset_usar.head() )\n",
        "\n",
        "# Convertir de pandas a numpy\n",
        "datos = pd.DataFrame(Dataset_usar).to_numpy()\n",
        "\n",
        "cantColumnas=len(datos[1,:])\n",
        "cantFilas= len(datos[:])\n",
        "\n",
        "# Conforme la matriz  𝐴  con las primeras 8 columnas.\n",
        "A = datos[:,0:8] \n",
        "\n",
        "# Conforme el vector  𝑏  con la última columna de la derecha\n",
        "b = datos[:,8:] \n",
        "\n",
        "# Calcule el vector de pesos ( 𝑥 ), del tipo  𝐴−1𝑏=𝑥\n",
        "Apinv = pinv(A) \n",
        "x = np.matmul(Apinv,b) \n",
        "\n",
        "# Calcule un b_estimado con  𝐴  e  𝑥\n",
        "b_estimado = np.matmul( A ,  x )\n",
        "\n",
        "# Calcule la norma 2 de la diferencia entre b y b_estimado.\n",
        "norma2 = LA.norm(b-b_estimado)\n",
        "print('La norma 2 de la diferencia entre b y b_estimado ')\n",
        "print(norma2)\n",
        "\n",
        "#Grafique b y b_estimado.\n",
        "import matplotlib.pyplot as plt\n",
        "\n",
        "cantidad_muestras = len(b) #998\n",
        "eje_X = np.array(range(cantidad_muestras))\n",
        "\n",
        "plt. plot(eje_X, b, label = \"b\")\n",
        "plt. plot(eje_X, b_estimado, label = \"b_estimado\")\n",
        "\n",
        "\n",
        "plt.show()\n",
        "\n"
      ]
    }
  ],
  "metadata": {
    "colab": {
      "collapsed_sections": [],
      "provenance": []
    },
    "kernelspec": {
      "display_name": "Python 3 (ipykernel)",
      "language": "python",
      "name": "python3"
    },
    "language_info": {
      "codemirror_mode": {
        "name": "ipython",
        "version": 3
      },
      "file_extension": ".py",
      "mimetype": "text/x-python",
      "name": "python",
      "nbconvert_exporter": "python",
      "pygments_lexer": "ipython3",
      "version": "3.9.12"
    }
  },
  "nbformat": 4,
  "nbformat_minor": 0
}
