{
  "cells": [
    {
      "attachments": {},
      "cell_type": "markdown",
      "metadata": {
        "id": "GItxU96mTk16"
      },
      "source": [
        "# Matemática para Ciencia de los Datos\n",
        "# Trabajo Práctico 3\n",
        "\n",
        "Profesor: Luis Alexánder Calvo Valverde \n",
        "\n",
        "Instituto Tecnológico de Costa Rica, \n",
        "\n",
        "Programa Ciencia de Datos\n",
        "\n",
        "---\n",
        "\n",
        "Fecha de entrega: \n",
        "\n",
        "Medio de entrega: Por medio del TEC-Digital.\n",
        "\n",
        "Entregables: Un archivo jupyter ( .IPYNB ). \n",
        "\n",
        "Estudiante(s):\n",
        "1. **Nombre_Estudiante_1**\n",
        "1. **Nombre_Estudiante_2**\n"
      ]
    },
    {
      "cell_type": "code",
      "execution_count": 3,
      "metadata": {
        "id": "V9muUB6BusiV"
      },
      "outputs": [],
      "source": [
        "%matplotlib inline\n",
        "import numpy as np\n",
        "from numpy import linalg as LA\n",
        "import pandas as pd\n",
        "import matplotlib.pyplot as plt"
      ]
    },
    {
      "attachments": {},
      "cell_type": "markdown",
      "metadata": {
        "id": "jdtaAwa8XzNA"
      },
      "source": [
        "---\n",
        "\n",
        "**Pregunta 1**\n",
        "\n",
        "\n",
        "\n",
        "Se puede demostrar que para los vectores generadores de un subespacio $E=\\textrm{espacioGenerado}\\left\\{ \\vec{v}_{1},\\vec{v}_{2},\\ldots,\\vec{v}_{m}\\right\\}$ , con $V=\\left[\\vec{v}_{1},\\vec{v}_{2},\\ldots,\\vec{v}_{m}\\right]$,con $\\vec{v}_{m}\\in\\mathbb{R}^{n}$ si son ortonormales, la ecuación de la proyección de un vector $\\vec{u}\\in\\mathbb{R}^{n}$ originalmente dada por:\n",
        "\n",
        "$$\\textrm{proy}\\left(\\vec{u};V\\right)=\\textrm{argmin}_{\\vec{v}\\in E}\\left\\Vert \\vec{v}-\\vec{u}\\right\\Vert _{2}=V\\,\\left(V^{T}V\\right)^{-1}V^{T}\\vec{u}$$\n",
        "\n",
        "se puede reescribir como: \n",
        "\n",
        "$$\\textrm{proy}\\left(\\vec{u};V\\right)=\\textrm{argmin}_{\\vec{v}\\in E}\\left\\Vert \\vec{v}-\\vec{u}\\right\\Vert _{2}=V\\,V^{T}\\vec{u}$$\n",
        "\n",
        "con $V\\in\\mathbb{R}^{n\\times m}$.\n",
        "\n",
        "\n",
        "\n",
        "\n",
        "\n",
        "\n",
        "\n"
      ]
    },
    {
      "attachments": {},
      "cell_type": "markdown",
      "metadata": {
        "id": "LytvMvVZusiY"
      },
      "source": [
        "**1.1 (25 puntos)**\n",
        "\n",
        "Utilizando numpy, proponga una matriz ortonormal de dimensiones 3x3, para ello utilice una fuente como \"Proceso de ortonormalización de  Gram - Schmidt\" (https://blog.nekomath.com/algebra-lineal-i-proceso-de-gram-schmidt/) para producir una matriz ortonormal a partir de una matriz que no es ni ortonormal ni ortogonal. \n",
        "\n",
        "Finalmente muestre en numpy que su matriz resultante es ortonormal ($V$).\n",
        "\n"
      ]
    },
    {
      "cell_type": "code",
      "execution_count": 5,
      "metadata": {
        "colab": {
          "base_uri": "https://localhost:8080/"
        },
        "id": "6zBXb-lcusiZ",
        "outputId": "b3bf5916-c2e6-4a81-8cc9-d1c25b930f3d"
      },
      "outputs": [
        {
          "name": "stdout",
          "output_type": "stream",
          "text": [
            "Comprobación:\n",
            "El producto de la matriz V y su transpuesta es: \n",
            " [[ 1. -0.  0.]\n",
            " [-0.  1.  0.]\n",
            " [ 0.  0.  1.]]\n",
            "La normal del vector i es:  1.0\n",
            "La normal del vector j es:  1.0\n",
            "La normal del vector k es:  1.0\n"
          ]
        }
      ],
      "source": [
        "\n",
        "v_1 = np.array([1,2,3])\n",
        "v_2 = np.array([4,3,5])\n",
        "v_3 = np.array([1,2,9])\n",
        "\n",
        "u1 = v_1\n",
        "u2 = v_2 - ((np.dot(v_2,u1))/(np.dot(u1,u1)))*u1\n",
        "u3 = v_3 - ((np.dot(v_3,u1))/(np.dot(u1,u1)))*u1 - ((np.dot(v_3,u2))/(np.dot(u2,u2)))*u2\n",
        "\n",
        "\n",
        "ui = u1/LA.norm(u1)\n",
        "uj = u2/LA.norm(u2)\n",
        "uk = u3/LA.norm(u3)\n",
        "\n",
        "V = np.array([ui.T,uj.T,uk.T])\n",
        "\n",
        "#muestras de que la matriz es ortonormal:\n",
        "A = V@V.T\n",
        "B = np.round(A)\n",
        "norm_i = LA.norm(ui)\n",
        "norm_j = LA.norm(uj)\n",
        "norm_k = LA.norm(uk)\n",
        "print(\"Comprobación:\")\n",
        "print('El producto de la matriz V y su transpuesta es: \\n',B)\n",
        "print('La normal del vector i es: ',norm_i)\n",
        "print('La normal del vector j es: ',norm_j)\n",
        "print('La normal del vector k es: ',norm_k)\n"
      ]
    },
    {
      "attachments": {},
      "cell_type": "markdown",
      "metadata": {
        "id": "IE96xrRnusia"
      },
      "source": [
        "**1.2 (15 puntos)**\n",
        "\n",
        "Proponga un vector $\\vec{u}$ y programe en numpy las operaciones algebraicas siguientes (tome $V$ del paso anterior).\n",
        "\n",
        "$V\\,\\left(V^{T}V\\right)^{-1}V^{T}\\vec{u}$\n",
        "\n",
        "y,\n",
        "\n",
        "$V\\,V^{T}\\vec{u}$\n"
      ]
    },
    {
      "cell_type": "code",
      "execution_count": 9,
      "metadata": {
        "colab": {
          "base_uri": "https://localhost:8080/"
        },
        "id": "e0JeG954usib",
        "outputId": "483ff955-0eaf-4053-8e28-07d97491585a"
      },
      "outputs": [
        {
          "name": "stdout",
          "output_type": "stream",
          "text": [
            "[[1.]\n",
            " [2.]\n",
            " [3.]]\n",
            "[[1.]\n",
            " [2.]\n",
            " [3.]]\n"
          ]
        }
      ],
      "source": [
        "m3 = np.eye(3) \n",
        "\n",
        "v3 = np.array([[1. , 2., 3.]])\n",
        "\n",
        "\n",
        "# Lambda es un operador que nos permite crear funciones usualmente matematicas \n",
        "# de una manera distinta a la típica declaración usando def\n",
        "\n",
        "\n",
        "\n",
        "# Funciones de proyeccion\n",
        "# Estructura\n",
        "# nombre = lambda parametro1,p2,p3,... : Aqui se escribe la funcion que queremos hacer\n",
        "#                            V * (                          V^T  * V     )^-1 * V^T     *  u      Aqui transponemos pero es para que calcen dimensiones\n",
        "proy_larga = lambda V, u:  V @ LA.inv(  V.T @ V  )  @  V.T  @ u.T\n",
        "\n",
        "#                          V * V^T   *   u\n",
        "proy_peq = lambda V, u: V @ V.T @ u.T\n",
        "\n",
        "# Llamamos la funcion igual que siempre\n",
        "proy_l3 = proy_larga(m3, v3)\n",
        "proy_p3 = proy_peq(m3, v3)\n",
        "\n",
        "print( proy_l3)\n",
        "print( proy_p3)\n",
        "\n"
      ]
    },
    {
      "attachments": {},
      "cell_type": "markdown",
      "metadata": {
        "id": "Iyaoinogusie"
      },
      "source": [
        "**1.3 (10 puntos)**\n",
        "\n",
        "Programe en python para calcular el error de proyección obtenido para los casos del punto **1.2**."
      ]
    },
    {
      "cell_type": "code",
      "execution_count": 11,
      "metadata": {
        "colab": {
          "base_uri": "https://localhost:8080/"
        },
        "id": "k6_91wUyusif",
        "outputId": "3ab84e0c-2852-4890-c96c-555539329bbb"
      },
      "outputs": [
        {
          "name": "stdout",
          "output_type": "stream",
          "text": [
            "Error de proyeccion larga en m3 0.0\n",
            "Error de proyeccion pequeña en m3 0.0\n"
          ]
        }
      ],
      "source": [
        "\n",
        "# Funcion para calcular el error\n",
        "error = lambda target, proy: np.sqrt(((target - proy)**2).sum())\n",
        "\n",
        "print('Error de proyeccion larga en m3 ' + str(error(v3, proy_l3.T)))\n",
        "print('Error de proyeccion pequeña en m3 ' + str(error(v3, proy_p3.T)))"
      ]
    },
    {
      "attachments": {},
      "cell_type": "markdown",
      "metadata": {
        "id": "ovfc0twgusig"
      },
      "source": [
        "---\n",
        "\n",
        "**Pregunta 2 (10 puntos)**\n",
        "\n",
        "\n",
        "Programe en python la función calculeDet2, que recibe como parámetro una matriz cuadrada de dimensiones 2x2, llamada M, y retorna el determinante de esa matriz. Usted debe programar las operaciones matemáticas necesarias, no utilizar una función tipo det para calcularla. Pruébela con dos matrices que Usted proponga.\n",
        "\n",
        "def calculeDet2( M ):\n",
        "\n",
        "\n",
        "\n"
      ]
    },
    {
      "cell_type": "code",
      "execution_count": 12,
      "metadata": {
        "colab": {
          "base_uri": "https://localhost:8080/"
        },
        "id": "6KKZtfwDusih",
        "outputId": "d28e03e0-7b4f-46e6-87af-737bd0f8c52f"
      },
      "outputs": [
        {
          "name": "stdout",
          "output_type": "stream",
          "text": [
            "Det(m1) = -2.0\n",
            "Det(m2) = 30.0\n"
          ]
        }
      ],
      "source": [
        "det_2x2 = lambda m: m[0,0]*m[1,1] - m[1,0]*m[0,1]\n",
        "\n",
        "m1 = np.array([[1., 2.],\n",
        "                   [3., 4.]])\n",
        "m2 = np.array([[10., 20.],\n",
        "                   [0.5, 4.]])\n",
        "\n",
        "print('Det(m1) = ' + str(det_2x2(m1)))\n",
        "print('Det(m2) = ' + str(det_2x2(m2)))"
      ]
    },
    {
      "attachments": {},
      "cell_type": "markdown",
      "metadata": {
        "id": "5Z6Fbr07usii"
      },
      "source": [
        "---\n",
        "\n",
        "**Pregunta 3 (10 puntos)**\n",
        "\n",
        "\n",
        "Programe en python la función calculeDet3, que recibe como parámetro una matriz cuadrada de dimensiones 3x3, llamada M, y retorna el determinante de esa matriz. Usted debe programar las operaciones matemáticas necesarias, no utilizar una función de numpy tipo det para calcularla (sí puede usar función que programó en la **Pregunta 2**). Pruébela con dos matrices que Usted proponga.\n",
        "\n",
        "def calculeDet3( M ):\n",
        "\n",
        "\n",
        "\n",
        "\n"
      ]
    },
    {
      "cell_type": "code",
      "execution_count": 13,
      "metadata": {
        "colab": {
          "base_uri": "https://localhost:8080/"
        },
        "id": "VHAPpD6Lusii",
        "outputId": "26a82a4f-2cfb-4fa9-c06c-0ea85b3e63e2"
      },
      "outputs": [
        {
          "name": "stdout",
          "output_type": "stream",
          "text": [
            "Det(t1) = 0\n",
            "Det(t2) = 0\n"
          ]
        }
      ],
      "source": [
        "\n",
        "# Utilizando expansiones de laplace calculamos el determinante\n",
        "# de cualquier matriz cuadrada\n",
        "def calc_det(m):\n",
        "    \n",
        "    # Calculamos el tamano de la matriz\n",
        "    l = len(m)\n",
        "    # Creamos la variable de retorno \n",
        "    det = 0\n",
        "\n",
        "    # Si es 2 retornamos el valor del determiante\n",
        "    if(l == 2):\n",
        "        det = det_2x2(m)\n",
        "    # de lo contrario hacemos la expansión\n",
        "    else:\n",
        "       \n",
        "        for i in range(l):\n",
        "             # En este acaso trabajamos sobre la primer fila \n",
        "            # asi que segun la formula no la tomamos en cuenta\n",
        "            m_mod = np.delete(m, 0, 0)\n",
        "            # Eliminamos la columna que nos dice la formula\n",
        "            m_mod = np.delete(m_mod, i, 1)\n",
        "\n",
        "            # Y se las sumamos al determinante\n",
        "            det += m[0,i]*calc_det(m_mod)*((-1)**(i))\n",
        "\n",
        "    return det\n",
        "\n",
        "\n",
        "\n",
        "# Utilizamos np.arrays porque con tensores eliminar filas y columnas \n",
        "# crea expresiones bastante complicadas y poco legibles\n",
        "t1 = np.array([[1,2,3,4],\n",
        "               [5,6,7,8],\n",
        "               [9,10,11,12],\n",
        "               [13,14,15,16]])\n",
        "t2 = np.array([[1, 2, 3],\n",
        "               [4, 5, 6],\n",
        "               [7, 8, 9]])\n",
        "\n",
        "\n",
        "print('Det(t1) = ' + str(calc_det(t1)))\n",
        "print('Det(t2) = ' + str(calc_det(t2)))"
      ]
    },
    {
      "attachments": {},
      "cell_type": "markdown",
      "metadata": {
        "id": "G2FwRel_usik"
      },
      "source": [
        "---\n",
        "\n",
        "**Pregunta 4 (15 puntos)**\n",
        "\n",
        "Se tiene que:\n",
        "\n",
        "$$\\textrm{det}\\left(A\\,B\\right)=\\textrm{det}\\left(A\\right)\\,\\textrm{det}\\left(B\\right)$$\n",
        "\n",
        "Proponga dos matrices de 4x4 ( $A$ e $B$) y programando en numpy muestre esta igualdad (puede usar de numpy las funciones det y la de multiplicar matrices).\n",
        "\n",
        "\n",
        "\n",
        "\n"
      ]
    },
    {
      "cell_type": "code",
      "execution_count": 16,
      "metadata": {
        "colab": {
          "base_uri": "https://localhost:8080/"
        },
        "id": "s7aTtA1Lusil",
        "outputId": "6cb09daf-5c05-4522-b693-b13c80e344e3"
      },
      "outputs": [
        {
          "name": "stdout",
          "output_type": "stream",
          "text": [
            "det(AB) = 859326.0000000097\n",
            "det(A)det(B) = 859325.9999999944\n"
          ]
        }
      ],
      "source": [
        "A = np.array([  [1., 2., 3., 8.],\n",
        "                    [4., 5., 6., 3.],\n",
        "                    [7., 8., 9., 11.],\n",
        "                    [17., 15., 12., 13.]])\n",
        "B = np.array([  [5., 24., 11., 7.],\n",
        "                    [9., 21., 2., 9.],\n",
        "                    [14., 3., 9., 8.],\n",
        "                    [7., 10., 13., 12.]])\n",
        "\n",
        "\n",
        "det_A = LA.det(A)\n",
        "det_B = LA.det(B)\n",
        "AB = np.matmul(A,B)\n",
        "\n",
        "print('det(AB) = ' + str(LA.det(AB)))\n",
        "print('det(A)det(B) = ' + str(det_A * det_B))"
      ]
    },
    {
      "attachments": {},
      "cell_type": "markdown",
      "metadata": {
        "id": "qK9_IuA2usim"
      },
      "source": [
        "---\n",
        "\n",
        "**Pregunta 5 (15 puntos)**\n",
        "\n",
        "\n",
        "Utilizando el archivo \"Datos_todo-PROCESADO.csv\", haga:\n",
        "- Cargue el archivo.\n",
        "- Muestre cuántas filas por cuántas columnas tiene el conjunto de datos.\n",
        "- Utilizando el modelo $Ax=b$\n",
        "    - Conforme la matriz $A$ con todas las columnas menos la última de la derecha.\n",
        "    - Conforme el vector $b$ con la última columna de la derecha.\n",
        "    - Calcule el vector de pesos ($x$), utilizando el concepto de mínimos cuadrados $\\left(A^{T}A\\right)^{-1}A^{T}\\vec{b}$\n",
        "    - Calcule un b_estimado con $A$ e $x$\n",
        "    - Calcule la norma 2 de la diferencia entre b y b_estimado.\n",
        "    - Grafique b y b_estimado.\n",
        "\n"
      ]
    },
    {
      "cell_type": "code",
      "execution_count": 18,
      "metadata": {
        "colab": {
          "base_uri": "https://localhost:8080/",
          "height": 473
        },
        "id": "FAlzADp7usin",
        "outputId": "17870b6e-62b8-4b44-c764-acece9f87557"
      },
      "outputs": [
        {
          "name": "stdout",
          "output_type": "stream",
          "text": [
            "Filas:  998\n",
            "Columnas:  9\n",
            "***********************************\n",
            "[[1.         0.18656716 0.1559633  0.19565217 0.01168762 0.33333333\n",
            "  0.         1.        ]\n",
            " [1.         0.81343284 0.76146789 0.82608696 0.43332743 0.33333333\n",
            "  1.         0.        ]]\n",
            "[0.01  0.435]\n",
            "[ 0.01298003 -0.07107447  0.00203732  0.08440335  0.89314748 -0.07685081\n",
            "  0.00639926  0.00658077]\n",
            "Entre b y b_calculado:  1.222606736150762\n",
            "R2:  0.926970889344302\n"
          ]
        },
        {
          "data": {
            "image/png": "[encoded data removed]",
            "text/plain": [
              "<Figure size 432x288 with 1 Axes>"
            ]
          },
          "metadata": {
            "needs_background": "light"
          },
          "output_type": "display_data"
        }
      ],
      "source": [
        "# carga archivos\n",
        "import pandas as pd\n",
        "archivo = \"Dataset_usar.csv\"\n",
        "dataFrameReales = pd.read_csv(archivo, header = 0, sep=\";\")\n",
        "\n",
        "nFilas, nColumnas = dataFrameReales.shape\n",
        "print(\"Filas: \", nFilas)\n",
        "print(\"Columnas: \", nColumnas)\n",
        "separador = \"*\"*35\n",
        "print(separador)\n",
        "\n",
        "# Convertir de pandas a numpy, y luego a torch\n",
        "test = pd.DataFrame(dataFrameReales).to_numpy()\n",
        "total_columnas = len(test[0])\n",
        "\n",
        "A = test[:, 0:total_columnas - 1] # todas menos la última\n",
        "\n",
        "# b  , 1 columna\n",
        "b = test[:, total_columnas - 1]  # la última\n",
        "\n",
        "\n",
        "print(A[0:2])\n",
        "print(b[0:2])\n",
        "\n",
        "from numpy import linalg as LA\n",
        "# pinv es la pseudo-inversa\n",
        "\n",
        "At = A.transpose()\n",
        "invMatrix = LA.pinv(np.matmul(At, A))\n",
        "pesos = np.matmul( np.matmul(invMatrix, At),  b)\n",
        "\n",
        "print(pesos)\n",
        "b_calculado = np.matmul(A, pesos)\n",
        "\n",
        "dif_b_y_bcalculado = LA.norm(b - b_calculado)\n",
        "print(\"Entre b y b_calculado: \", dif_b_y_bcalculado)\n",
        "\n",
        "\n",
        "from sklearn.metrics import r2_score\n",
        "print(\"R2: \", r2_score(b, b_calculado) )\n",
        "\n",
        "# Graficar predicciones\n",
        "\n",
        "import matplotlib.pyplot as plt\n",
        "\n",
        "cantidad_muestras = len(b)\n",
        "eje_X = np.array(range(cantidad_muestras))\n",
        "\n",
        "plt. plot(eje_X, b, label = \"b\")\n",
        "plt. plot(eje_X, b_calculado, label = \"b_calculado\")\n",
        "\n",
        "plt.show()"
      ]
    },
    {
      "cell_type": "code",
      "execution_count": null,
      "metadata": {
        "id": "vLvySVxrusio"
      },
      "outputs": [],
      "source": []
    }
  ],
  "metadata": {
    "colab": {
      "collapsed_sections": [],
      "provenance": []
    },
    "kernelspec": {
      "display_name": "Python 3 (ipykernel)",
      "language": "python",
      "name": "python3"
    },
    "language_info": {
      "codemirror_mode": {
        "name": "ipython",
        "version": 3
      },
      "file_extension": ".py",
      "mimetype": "text/x-python",
      "name": "python",
      "nbconvert_exporter": "python",
      "pygments_lexer": "ipython3",
      "version": "3.7.11"
    }
  },
  "nbformat": 4,
  "nbformat_minor": 0
}
