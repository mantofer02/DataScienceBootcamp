{
 "cells": [
  {
   "attachments": {},
   "cell_type": "markdown",
   "metadata": {
    "colab_type": "text",
    "id": "GItxU96mTk16"
   },
   "source": [
    "# Matemática para Ciencia de los Datos\n",
    "# Trabajo Práctico 2\n",
    "\n",
    "Profesor: Luis Alexánder Calvo Valverde \n",
    "\n",
    "Instituto Tecnológico de Costa Rica, \n",
    "\n",
    "Programa Ciencia de Datos\n",
    "\n",
    "---\n",
    "\n",
    "Fecha de entrega: Lunes 8 de Mayo del 2023, a más tardar a las 3:00 pm.\n",
    "\n",
    "Medio de entrega: Por medio del TEC-Digital.\n",
    "\n",
    "Entregables: Un archivo jupyter ( .IPYNB ). \n",
    "\n",
    "Estudiante(s):\n",
    "1. **Marco Ferraro**\n"
   ]
  },
  {
   "cell_type": "markdown",
   "metadata": {
    "colab_type": "text",
    "id": "tgcoZAm82q8Y"
   },
   "source": [
    "\n",
    "---\n",
    "\n",
    "**Pregunta 1**\n",
    "\n",
    "Considerando que la transpuesta de una matriz es el resultado de cambiar las filas a columnas. Sea una matriz $A\\in\\mathbb{R}^{m\\times n}$, su transpuesta se escribe como $A^{T}\\in\\mathbb{R}^{n\\times m}$ y sus entradas están dadas por: \n",
    "\n",
    "\\begin{equation}\n",
    "\\left(A^{T}\\right)_{i,j}=A_{j,i}.\n",
    "\\end{equation}\n",
    "\n",
    "Proponga Usted dos matrices, $A\\in\\mathbb{R}^{4\\times 3}$ y $B\\in\\mathbb{R}^{3\\times 4}$ (no las busque en Internet, trate de proponer los valores por si mismo), y utilizando numpy muestre que las siguientes propiedades se cumplen con sus matrices propuestas.\n",
    "\n",
    "**Note** que ni A ni B son cuadradas, y no tienen las mismas dimensiones.\n"
   ]
  },
  {
   "cell_type": "code",
   "execution_count": 2,
   "metadata": {},
   "outputs": [
    {
     "name": "stdout",
     "output_type": "stream",
     "text": [
      "Shape of A: (4, 3)\n",
      "Shape of B: (3, 4)\n"
     ]
    }
   ],
   "source": [
    "import numpy as np\n",
    "\n",
    "A = np.matrix([[6, 8, 9], [4, 1 ,-8], [-12, 8, 9], [-12, 72, 0]])\n",
    "B = np.matrix([[43, 9, -2, -32], [4, 0, 44, 11], [4, 32, -8, -1]])\n",
    "\n",
    "print(f\"Shape of A: {A.shape}\")\n",
    "print(f\"Shape of B: {B.shape}\")"
   ]
  },
  {
   "cell_type": "markdown",
   "metadata": {},
   "source": [
    "**1.1 (15 puntos)**\n",
    "\n",
    "- $\\left(A^{T}\\right)^{T}=A$\n"
   ]
  },
  {
   "cell_type": "code",
   "execution_count": 3,
   "metadata": {},
   "outputs": [
    {
     "data": {
      "text/plain": [
       "True"
      ]
     },
     "execution_count": 3,
     "metadata": {},
     "output_type": "execute_result"
    }
   ],
   "source": [
    "import numpy as np\n",
    "\n",
    "np.array_equal(A.T.T, A)"
   ]
  },
  {
   "cell_type": "markdown",
   "metadata": {},
   "source": [
    "**1.2 (15 puntos)**\n",
    "\n",
    "- $\\left(AB\\right)^{T}=B^{T}A^{T}$\n"
   ]
  },
  {
   "cell_type": "code",
   "execution_count": 4,
   "metadata": {},
   "outputs": [
    {
     "data": {
      "text/plain": [
       "True"
      ]
     },
     "execution_count": 4,
     "metadata": {},
     "output_type": "execute_result"
    }
   ],
   "source": [
    "np.array_equal(np.matmul(A, B).T, np.matmul(B.T, A.T))"
   ]
  },
  {
   "cell_type": "markdown",
   "metadata": {},
   "source": [
    "**1.3 (15 puntos)**\n",
    "\n",
    "Para este ejercicio, **proponga dos matrices de igual dimensionalidad**\n",
    "\n",
    "\n",
    "- $\\left(A+B\\right)^{T}=A^{T}+B^{T}$.\n"
   ]
  },
  {
   "cell_type": "code",
   "execution_count": 5,
   "metadata": {},
   "outputs": [
    {
     "data": {
      "text/plain": [
       "True"
      ]
     },
     "execution_count": 5,
     "metadata": {},
     "output_type": "execute_result"
    }
   ],
   "source": [
    "A = np.matrix([[6, 8, 9], [4, 1 ,-8], [-12, 8, 9]])\n",
    "B = np.matrix([[43, 9, -32], [4, 0, 11], [32, -8, -1]])\n",
    "\n",
    "np.array_equal((A + B).T, (A.T + B.T))"
   ]
  },
  {
   "cell_type": "markdown",
   "metadata": {
    "colab_type": "text",
    "id": "QJ6O85pM5Ns3"
   },
   "source": [
    "---\n",
    "\n",
    "**Pregunta 2**\n",
    "\n",
    "\n",
    "Un conjunto de vectores $\\left\\{ \\vec{x}_{1},\\vec{x}_{2},\\ldots,\\vec{x}_{n}\\right\\} \\in\\mathbb{R}^{m}$ se dice que es linealmente independiente, si ningún vector de tal conjunto puede ser representado como una combinación lineal del resto de vectores. De lo contrario, si uno de los vectores en tal conjunto puede ser representado como una combinación lineal del resto de vectores, entonces los vectores son linealmente dependientes, lo que se expresa como: \n",
    "\n",
    "\\begin{equation}\n",
    "\\vec{x}_{j}=\\sum_{i=1}^{n-1}\\alpha_{i}\\vec{x}_{i}\n",
    "\\end{equation}\n",
    "\n",
    "para cualquier conjunto de valores escalares $\\alpha_{1},\\ldots,\\alpha_{n-1}\\in\\mathbb{R}$ se dice que el vector $\\vec{x}_{j}\\in\\mathbb{R}^{m}$ es linealmente dependiente de los vectores $\\vec{x}_{i}$. \n"
   ]
  },
  {
   "cell_type": "markdown",
   "metadata": {},
   "source": [
    "**2.1 (15 puntos)**\n",
    "\n",
    "Proponga una matriz $A\\in\\mathbb{R}^{4\\times 3}$, cuyos vectores columnas sean linealmente independientes, calcule su rango para mostrar que es de rango $3$ (puede utilizar matrix_rank).\n"
   ]
  },
  {
   "cell_type": "code",
   "execution_count": 6,
   "metadata": {},
   "outputs": [
    {
     "data": {
      "text/plain": [
       "3"
      ]
     },
     "execution_count": 6,
     "metadata": {},
     "output_type": "execute_result"
    }
   ],
   "source": [
    "from numpy.linalg import matrix_rank\n",
    "\n",
    "A = np.matrix([[1, 3, 4], [-8, 1 ,0], [-12, 8, 9], [7, 13, -7]])\n",
    "\n",
    "matrix_rank(A)"
   ]
  },
  {
   "cell_type": "markdown",
   "metadata": {},
   "source": [
    "**2.2 (15 puntos)**\n",
    "\n",
    "Ahora haga los cambios necesarios a su matriz de manera que pase a rango $2$. "
   ]
  },
  {
   "cell_type": "code",
   "execution_count": 8,
   "metadata": {},
   "outputs": [
    {
     "data": {
      "text/plain": [
       "2"
      ]
     },
     "execution_count": 8,
     "metadata": {},
     "output_type": "execute_result"
    }
   ],
   "source": [
    "A = np.matrix([[1, 3, 4], [-8, -24 ,0], [-12, -36, 9], [7, 21, -7]])\n",
    "\n",
    "matrix_rank(A)"
   ]
  },
  {
   "cell_type": "markdown",
   "metadata": {},
   "source": [
    "---\n",
    "\n",
    "**Pregunta 3 (25 puntos)**\n",
    "\n",
    "Utilizando el archivo \"Dataset_usar.csv\", haga:\n",
    "- Cargue el archivo.\n",
    "- Utilizando el modelo $Ax=b$\n",
    "    - Conforme la matriz $A$ con las primeras 8 columnas.\n",
    "    - Conforme el vector $b$ con la última columna de la derecha.\n",
    "    - Calcule el vector de pesos ($x$), del tipo $A^{-1}b=x$\n",
    "    - Calcule un b_estimado con $A$ e $x$\n",
    "    - Calcule la norma 2 de la diferencia entre b y b_estimado.\n",
    "    - Grafique b y b_estimado.\n",
    "\n"
   ]
  },
  {
   "cell_type": "code",
   "execution_count": 31,
   "metadata": {},
   "outputs": [
    {
     "data": {
      "text/html": [
       "<div>\n",
       "<style scoped>\n",
       "    .dataframe tbody tr th:only-of-type {\n",
       "        vertical-align: middle;\n",
       "    }\n",
       "\n",
       "    .dataframe tbody tr th {\n",
       "        vertical-align: top;\n",
       "    }\n",
       "\n",
       "    .dataframe thead th {\n",
       "        text-align: right;\n",
       "    }\n",
       "</style>\n",
       "<table border=\"1\" class=\"dataframe\">\n",
       "  <thead>\n",
       "    <tr style=\"text-align: right;\">\n",
       "      <th></th>\n",
       "      <th>bias</th>\n",
       "      <th>Length</th>\n",
       "      <th>Diameter</th>\n",
       "      <th>Height</th>\n",
       "      <th>Whole</th>\n",
       "      <th>Shucked</th>\n",
       "      <th>Sex_Female</th>\n",
       "      <th>Sex_Masculine</th>\n",
       "      <th>Shellweight</th>\n",
       "    </tr>\n",
       "  </thead>\n",
       "  <tbody>\n",
       "    <tr>\n",
       "      <th>0</th>\n",
       "      <td>1</td>\n",
       "      <td>0.186567</td>\n",
       "      <td>0.155963</td>\n",
       "      <td>0.195652</td>\n",
       "      <td>0.011688</td>\n",
       "      <td>0.333333</td>\n",
       "      <td>0</td>\n",
       "      <td>1</td>\n",
       "      <td>0.010</td>\n",
       "    </tr>\n",
       "    <tr>\n",
       "      <th>1</th>\n",
       "      <td>1</td>\n",
       "      <td>0.813433</td>\n",
       "      <td>0.761468</td>\n",
       "      <td>0.826087</td>\n",
       "      <td>0.433327</td>\n",
       "      <td>0.333333</td>\n",
       "      <td>1</td>\n",
       "      <td>0</td>\n",
       "      <td>0.435</td>\n",
       "    </tr>\n",
       "    <tr>\n",
       "      <th>2</th>\n",
       "      <td>1</td>\n",
       "      <td>0.410448</td>\n",
       "      <td>0.376147</td>\n",
       "      <td>0.369565</td>\n",
       "      <td>0.074022</td>\n",
       "      <td>0.333333</td>\n",
       "      <td>1</td>\n",
       "      <td>0</td>\n",
       "      <td>0.068</td>\n",
       "    </tr>\n",
       "    <tr>\n",
       "      <th>3</th>\n",
       "      <td>1</td>\n",
       "      <td>0.537313</td>\n",
       "      <td>0.504587</td>\n",
       "      <td>0.500000</td>\n",
       "      <td>0.143085</td>\n",
       "      <td>0.333333</td>\n",
       "      <td>1</td>\n",
       "      <td>0</td>\n",
       "      <td>0.096</td>\n",
       "    </tr>\n",
       "    <tr>\n",
       "      <th>4</th>\n",
       "      <td>1</td>\n",
       "      <td>0.507463</td>\n",
       "      <td>0.495413</td>\n",
       "      <td>0.565217</td>\n",
       "      <td>0.146981</td>\n",
       "      <td>0.333333</td>\n",
       "      <td>0</td>\n",
       "      <td>1</td>\n",
       "      <td>0.144</td>\n",
       "    </tr>\n",
       "  </tbody>\n",
       "</table>\n",
       "</div>"
      ],
      "text/plain": [
       "   bias    Length  Diameter    Height     Whole   Shucked  Sex_Female  \\\n",
       "0     1  0.186567  0.155963  0.195652  0.011688  0.333333           0   \n",
       "1     1  0.813433  0.761468  0.826087  0.433327  0.333333           1   \n",
       "2     1  0.410448  0.376147  0.369565  0.074022  0.333333           1   \n",
       "3     1  0.537313  0.504587  0.500000  0.143085  0.333333           1   \n",
       "4     1  0.507463  0.495413  0.565217  0.146981  0.333333           0   \n",
       "\n",
       "   Sex_Masculine  Shellweight  \n",
       "0              1        0.010  \n",
       "1              0        0.435  \n",
       "2              0        0.068  \n",
       "3              0        0.096  \n",
       "4              1        0.144  "
      ]
     },
     "execution_count": 31,
     "metadata": {},
     "output_type": "execute_result"
    }
   ],
   "source": [
    "import pandas as pd\n",
    "\n",
    "df = pd.read_csv(\"Dataset_usar.csv\", sep=';')\n",
    "\n",
    "df.head()"
   ]
  },
  {
   "cell_type": "code",
   "execution_count": 42,
   "metadata": {},
   "outputs": [
    {
     "data": {
      "text/plain": [
       "1.0"
      ]
     },
     "execution_count": 42,
     "metadata": {},
     "output_type": "execute_result"
    }
   ],
   "source": [
    "LAST_INDEX = 8\n",
    "\n",
    "df_numpy = df.to_numpy()\n",
    "A = []\n",
    "B = []\n",
    "for row in df_numpy:\n",
    "     A.append(row[0:LAST_INDEX])\n",
    "     B.append(row[LAST_INDEX])\n"
   ]
  }
 ],
 "metadata": {
  "colab": {
   "collapsed_sections": [],
   "name": "Trabajo_Práctico_1_Matemática_para_Ciencia_de_los_Datos.ipynb",
   "provenance": []
  },
  "kernelspec": {
   "display_name": "Python 3 (ipykernel)",
   "language": "python",
   "name": "python3"
  },
  "language_info": {
   "codemirror_mode": {
    "name": "ipython",
    "version": 3
   },
   "file_extension": ".py",
   "mimetype": "text/x-python",
   "name": "python",
   "nbconvert_exporter": "python",
   "pygments_lexer": "ipython3",
   "version": "3.10.3"
  }
 },
 "nbformat": 4,
 "nbformat_minor": 1
}
