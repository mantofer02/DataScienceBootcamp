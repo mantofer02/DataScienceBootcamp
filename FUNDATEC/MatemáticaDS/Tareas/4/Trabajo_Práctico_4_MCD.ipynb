{
 "cells": [
  {
   "cell_type": "markdown",
   "metadata": {
    "id": "GItxU96mTk16"
   },
   "source": [
    "# Matemática para Ciencia de los Datos\n",
    "# Trabajo Práctico 4\n",
    "\n",
    "Profesor: Luis Alexánder Calvo Valverde \n",
    "\n",
    "Instituto Tecnológico de Costa Rica, \n",
    "\n",
    "Programa Ciencia de Datos\n",
    "\n",
    "---\n",
    "\n",
    "Fecha de entrega: Lunes 22 de Mayo del 2023, a más tardar a las 3:00 pm.\n",
    "\n",
    "Medio de entrega: Por medio del TEC-Digital.\n",
    "\n",
    "Entregables: Un archivo jupyter ( .IPYNB ). \n",
    "\n",
    "Estudiante(s):\n",
    "1. **Nombre_Estudiante_1**\n",
    "1. **Nombre_Estudiante_2**\n"
   ]
  },
  {
   "cell_type": "markdown",
   "metadata": {
    "id": "tgcoZAm82q8Y"
   },
   "source": [
    "\n",
    "---\n",
    "\n",
    "## Parte 1\n",
    "\n",
    "Dada la siguiente matriz:\n",
    "\n",
    "\\begin{equation}\n",
    "A= \\begin{bmatrix}\n",
    "   1.,2. \\\\\n",
    "   3.,4.\n",
    "\\end{bmatrix}\n",
    "\\end{equation}\n",
    "\n",
    "\n"
   ]
  },
  {
   "cell_type": "markdown",
   "metadata": {
    "id": "lFwss7hSAJT3"
   },
   "source": [
    "**Ejercicio 1.1 (25 puntos)**\n",
    "\n",
    "En una celda de texto, calcule los auto-valores y los auto-vectores como los ejemplos vistos en clase. Debe mostrar todo el procedimiento.  Lo que si puede es usar la calculadora (o instrucciones de python) para resolver las ecuaciones al final --indique cual opción utilizó--."
   ]
  },
  {
   "cell_type": "markdown",
   "metadata": {
    "id": "tCGUhHInAJT4"
   },
   "source": [
    "\n"
   ]
  },
  {
   "cell_type": "markdown",
   "metadata": {
    "id": "xhrJq1ZxAJT4"
   },
   "source": [
    "**Ejercicio 1.2 (25 puntos)**\n",
    "\n",
    "En una celda de código y utilizando la función eig de numpy, calcule los auto-valores y auto-vectores y haga las operaciones en el código para mostrar que se cumple: $A\\,\\vec{x} = \\lambda\\vec{x}$ (No olvide las pequeñas posibles diferencias por precisión de la representación numérica).\n"
   ]
  },
  {
   "cell_type": "code",
   "execution_count": null,
   "metadata": {},
   "outputs": [],
   "source": []
  },
  {
   "cell_type": "markdown",
   "metadata": {
    "id": "GxgMhL8hAJT7"
   },
   "source": [
    "\n",
    "---\n",
    "\n",
    "## Parte 2\n",
    "\n",
    "\n",
    "Realice lo siguiente: **(40 puntos)**\n",
    "1. Similar a los ejemplos vistos, aplíquele la estrategia PCA a los datos en el archivo adjunto \"data_banknote_authentication.csv\" (el $Y$ corresponde a la columna llamada clase). \n",
    "1. En este caso use los tres primeros componentes principales (no dos como en el ejemplo).\n",
    "1. El ejercicio termina graficando la varianza acumulada versus los componentes principales.\n",
    "\n",
    "---\n",
    "\n"
   ]
  },
  {
   "cell_type": "code",
   "execution_count": null,
   "metadata": {},
   "outputs": [],
   "source": []
  },
  {
   "cell_type": "markdown",
   "metadata": {},
   "source": [
    "___\n",
    "\n",
    "## Parte 3\n",
    "\n",
    "Como en el segundo gráfico del cuaderno visto en clase sobre PCA, grafique los tres mayores componentes principales utilizando la bibioteca **plotly** https://plotly.com/python/3d-scatter-plots/  **(10 puntos)**\n",
    "\n",
    "\n",
    "___"
   ]
  },
  {
   "cell_type": "code",
   "execution_count": null,
   "metadata": {},
   "outputs": [],
   "source": []
  }
 ],
 "metadata": {
  "colab": {
   "collapsed_sections": [],
   "name": "Quiz_2_MCD - solución.ipynb",
   "provenance": []
  },
  "kernelspec": {
   "display_name": "Python 3 (ipykernel)",
   "language": "python",
   "name": "python3"
  },
  "language_info": {
   "codemirror_mode": {
    "name": "ipython",
    "version": 3
   },
   "file_extension": ".py",
   "mimetype": "text/x-python",
   "name": "python",
   "nbconvert_exporter": "python",
   "pygments_lexer": "ipython3",
   "version": "3.9.13"
  }
 },
 "nbformat": 4,
 "nbformat_minor": 1
}
