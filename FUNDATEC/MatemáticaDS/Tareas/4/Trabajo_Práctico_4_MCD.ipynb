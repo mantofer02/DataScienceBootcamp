{
 "cells": [
  {
   "attachments": {},
   "cell_type": "markdown",
   "metadata": {
    "id": "GItxU96mTk16"
   },
   "source": [
    "# Matemática para Ciencia de los Datos\n",
    "# Trabajo Práctico 4\n",
    "\n",
    "Profesor: Luis Alexánder Calvo Valverde \n",
    "\n",
    "Instituto Tecnológico de Costa Rica, \n",
    "\n",
    "Programa Ciencia de Datos\n",
    "\n",
    "---\n",
    "\n",
    "Fecha de entrega: Lunes 22 de Mayo del 2023, a más tardar a las 3:00 pm.\n",
    "\n",
    "Medio de entrega: Por medio del TEC-Digital.\n",
    "\n",
    "Entregables: Un archivo jupyter ( .IPYNB ). \n",
    "\n",
    "Estudiante(s):\n",
    "1. **Nombre_Estudiante_1**\n",
    "1. **Nombre_Estudiante_2**\n"
   ]
  },
  {
   "attachments": {},
   "cell_type": "markdown",
   "metadata": {
    "id": "tgcoZAm82q8Y"
   },
   "source": [
    "\n",
    "---\n",
    "\n",
    "## Parte 1\n",
    "\n",
    "Dada la siguiente matriz:\n",
    "\n",
    "\\begin{equation}\n",
    "A= \\begin{bmatrix}\n",
    "   1.,2. \\\\\n",
    "   3.,4.\n",
    "\\end{bmatrix}\n",
    "\\end{equation}\n",
    "\n",
    "\n"
   ]
  },
  {
   "attachments": {},
   "cell_type": "markdown",
   "metadata": {
    "id": "lFwss7hSAJT3"
   },
   "source": [
    "**Ejercicio 1.1 (25 puntos)**\n",
    "\n",
    "En una celda de texto, calcule los auto-valores y los auto-vectores como los ejemplos vistos en clase. Debe mostrar todo el procedimiento.  Lo que si puede es usar la calculadora (o instrucciones de python) para resolver las ecuaciones al final --indique cual opción utilizó--."
   ]
  },
  {
   "attachments": {},
   "cell_type": "markdown",
   "metadata": {
    "id": "tCGUhHInAJT4"
   },
   "source": [
    "Se utilizó una caculadora cientifica:\n",
    "\n",
    "$ (1 - \\lambda)(4 - \\lambda) - (2 * 3) = 0 $\n",
    "\n",
    "$ (4 - \\lambda - 4\\lambda + \\lambda^2) - 6 = 0 $\n",
    "\n",
    "$ (\\lambda^2 - 5\\lambda + 4) - 6 = 0 $\n",
    "\n",
    "$ \\lambda^2 - 5\\lambda  - 2  = 0 $\n",
    "\n",
    "\n",
    "$ x = (5 \\pm \\sqrt{33})/ 2  $\n",
    "\n",
    "$ x_1 = (5 + \\sqrt{33})/ 2  $\n",
    "\n",
    "$ x_1 = 5.37228...  $\n",
    "\n",
    "$ x_2 = (5 - \\sqrt{33})/ 2  $\n",
    "\n",
    "$ x_2 = -0.37228...  $\n"
   ]
  },
  {
   "attachments": {},
   "cell_type": "markdown",
   "metadata": {},
   "source": [
    "$ \\lambda_1 = 5.37228... $\n",
    "\n",
    "Ecuación 1:\n",
    "\n",
    "$ -4.37228a + 2b = 0$\n",
    "\n",
    "$ 4.37228a = 2b$\n",
    "\n",
    "$ b =  \\frac{4.37228a}{2}$\n",
    "\n",
    "Ecuación 2:\n",
    "\n",
    "$ 3a + -1.37228b = 0$\n",
    "\n",
    "$ 3a -1.37228*\\frac{4.37228a}{2} = 0$"
   ]
  },
  {
   "attachments": {},
   "cell_type": "markdown",
   "metadata": {
    "id": "xhrJq1ZxAJT4"
   },
   "source": [
    "**Ejercicio 1.2 (25 puntos)**\n",
    "\n",
    "En una celda de código y utilizando la función eig de numpy, calcule los auto-valores y auto-vectores y haga las operaciones en el código para mostrar que se cumple: $A\\,\\vec{x} = \\lambda\\vec{x}$ (No olvide las pequeñas posibles diferencias por precisión de la representación numérica).\n"
   ]
  },
  {
   "cell_type": "code",
   "execution_count": 1,
   "metadata": {},
   "outputs": [
    {
     "name": "stdout",
     "output_type": "stream",
     "text": [
      "Proof for eigenvalue 0 with a value of -2.0\n",
      "Respective eigenvector [ 0.31622777 -0.9486833 ]\n",
      "\n",
      "A * v = [-0.63245553  1.8973666 ]\n",
      "lambda * v = [-0.63245553  1.8973666 ]\n",
      "Error: [-1.11022302e-16  0.00000000e+00]\n",
      "\n",
      "Proof for eigenvalue 1 with a value of 8.0\n",
      "Respective eigenvector [-0.9486833  -0.31622777]\n",
      "\n",
      "A * v = [-7.58946638 -2.52982213]\n",
      "lambda * v = [-7.58946638 -2.52982213]\n",
      "Error: [ 0.0000000e+00 -4.4408921e-16]\n",
      "\n"
     ]
    }
   ],
   "source": [
    "\n",
    "import numpy as np\n",
    "\n",
    "# np.linalg.eigh(A) returns eighenvector normalized!\n",
    "\n",
    "A = np.array([[7., 3.], [3., -1.]], dtype='float64')\n",
    "w, v = np.linalg.eigh(A)\n",
    "\n",
    "for i in range(len(w)):\n",
    "    print(f\"Proof for eigenvalue {i} with a value of {w[i]}\")\n",
    "    print(f\"Respective eigenvector {v[:, i]}\")\n",
    "    print()\n",
    "    \n",
    "    mul_1 = np.matmul(A, v[:, i])\n",
    "    print(f\"A * v = {mul_1}\")\n",
    "    \n",
    "    mul_2 = w[i] * v[:, i]\n",
    "    print(f\"lambda * v = {mul_2}\")\n",
    "\n",
    "    error = mul_1 - mul_2\n",
    "    print(f\"Error: {error}\")\n",
    "    print()\n"
   ]
  },
  {
   "attachments": {},
   "cell_type": "markdown",
   "metadata": {
    "id": "GxgMhL8hAJT7"
   },
   "source": [
    "\n",
    "---\n",
    "\n",
    "## Parte 2\n",
    "\n",
    "\n",
    "Realice lo siguiente: **(40 puntos)**\n",
    "1. Similar a los ejemplos vistos, aplíquele la estrategia PCA a los datos en el archivo adjunto \"data_banknote_authentication.csv\" (el $Y$ corresponde a la columna llamada clase). \n",
    "1. En este caso use los tres primeros componentes principales (no dos como en el ejemplo).\n",
    "1. El ejercicio termina graficando la varianza acumulada versus los componentes principales.\n",
    "\n",
    "---\n",
    "\n"
   ]
  },
  {
   "cell_type": "code",
   "execution_count": 1,
   "metadata": {},
   "outputs": [
    {
     "data": {
      "text/html": [
       "<div>\n",
       "<style scoped>\n",
       "    .dataframe tbody tr th:only-of-type {\n",
       "        vertical-align: middle;\n",
       "    }\n",
       "\n",
       "    .dataframe tbody tr th {\n",
       "        vertical-align: top;\n",
       "    }\n",
       "\n",
       "    .dataframe thead th {\n",
       "        text-align: right;\n",
       "    }\n",
       "</style>\n",
       "<table border=\"1\" class=\"dataframe\">\n",
       "  <thead>\n",
       "    <tr style=\"text-align: right;\">\n",
       "      <th></th>\n",
       "      <th>varianceofWavelet</th>\n",
       "      <th>skewnessofWavelet</th>\n",
       "      <th>curtosisofWavelet</th>\n",
       "      <th>entropyofimage</th>\n",
       "      <th>class</th>\n",
       "    </tr>\n",
       "  </thead>\n",
       "  <tbody>\n",
       "    <tr>\n",
       "      <th>0</th>\n",
       "      <td>3.62160</td>\n",
       "      <td>8.66610</td>\n",
       "      <td>-2.8073</td>\n",
       "      <td>-0.44699</td>\n",
       "      <td>0</td>\n",
       "    </tr>\n",
       "    <tr>\n",
       "      <th>1</th>\n",
       "      <td>4.54590</td>\n",
       "      <td>8.16740</td>\n",
       "      <td>-2.4586</td>\n",
       "      <td>-1.46210</td>\n",
       "      <td>0</td>\n",
       "    </tr>\n",
       "    <tr>\n",
       "      <th>2</th>\n",
       "      <td>3.86600</td>\n",
       "      <td>-2.63830</td>\n",
       "      <td>1.9242</td>\n",
       "      <td>0.10645</td>\n",
       "      <td>0</td>\n",
       "    </tr>\n",
       "    <tr>\n",
       "      <th>3</th>\n",
       "      <td>3.45660</td>\n",
       "      <td>9.52280</td>\n",
       "      <td>-4.0112</td>\n",
       "      <td>-3.59440</td>\n",
       "      <td>0</td>\n",
       "    </tr>\n",
       "    <tr>\n",
       "      <th>4</th>\n",
       "      <td>0.32924</td>\n",
       "      <td>-4.45520</td>\n",
       "      <td>4.5718</td>\n",
       "      <td>-0.98880</td>\n",
       "      <td>0</td>\n",
       "    </tr>\n",
       "    <tr>\n",
       "      <th>...</th>\n",
       "      <td>...</td>\n",
       "      <td>...</td>\n",
       "      <td>...</td>\n",
       "      <td>...</td>\n",
       "      <td>...</td>\n",
       "    </tr>\n",
       "    <tr>\n",
       "      <th>1367</th>\n",
       "      <td>0.40614</td>\n",
       "      <td>1.34920</td>\n",
       "      <td>-1.4501</td>\n",
       "      <td>-0.55949</td>\n",
       "      <td>1</td>\n",
       "    </tr>\n",
       "    <tr>\n",
       "      <th>1368</th>\n",
       "      <td>-1.38870</td>\n",
       "      <td>-4.87730</td>\n",
       "      <td>6.4774</td>\n",
       "      <td>0.34179</td>\n",
       "      <td>1</td>\n",
       "    </tr>\n",
       "    <tr>\n",
       "      <th>1369</th>\n",
       "      <td>-3.75030</td>\n",
       "      <td>-13.45860</td>\n",
       "      <td>17.5932</td>\n",
       "      <td>-2.77710</td>\n",
       "      <td>1</td>\n",
       "    </tr>\n",
       "    <tr>\n",
       "      <th>1370</th>\n",
       "      <td>-3.56370</td>\n",
       "      <td>-8.38270</td>\n",
       "      <td>12.3930</td>\n",
       "      <td>-1.28230</td>\n",
       "      <td>1</td>\n",
       "    </tr>\n",
       "    <tr>\n",
       "      <th>1371</th>\n",
       "      <td>-2.54190</td>\n",
       "      <td>-0.65804</td>\n",
       "      <td>2.6842</td>\n",
       "      <td>1.19520</td>\n",
       "      <td>1</td>\n",
       "    </tr>\n",
       "  </tbody>\n",
       "</table>\n",
       "<p>1372 rows × 5 columns</p>\n",
       "</div>"
      ],
      "text/plain": [
       "      varianceofWavelet  skewnessofWavelet  curtosisofWavelet  entropyofimage  \\\n",
       "0               3.62160            8.66610            -2.8073        -0.44699   \n",
       "1               4.54590            8.16740            -2.4586        -1.46210   \n",
       "2               3.86600           -2.63830             1.9242         0.10645   \n",
       "3               3.45660            9.52280            -4.0112        -3.59440   \n",
       "4               0.32924           -4.45520             4.5718        -0.98880   \n",
       "...                 ...                ...                ...             ...   \n",
       "1367            0.40614            1.34920            -1.4501        -0.55949   \n",
       "1368           -1.38870           -4.87730             6.4774         0.34179   \n",
       "1369           -3.75030          -13.45860            17.5932        -2.77710   \n",
       "1370           -3.56370           -8.38270            12.3930        -1.28230   \n",
       "1371           -2.54190           -0.65804             2.6842         1.19520   \n",
       "\n",
       "      class  \n",
       "0         0  \n",
       "1         0  \n",
       "2         0  \n",
       "3         0  \n",
       "4         0  \n",
       "...     ...  \n",
       "1367      1  \n",
       "1368      1  \n",
       "1369      1  \n",
       "1370      1  \n",
       "1371      1  \n",
       "\n",
       "[1372 rows x 5 columns]"
      ]
     },
     "execution_count": 1,
     "metadata": {},
     "output_type": "execute_result"
    }
   ],
   "source": [
    "import pandas as pd\n",
    "\n",
    "df = pd.read_csv(\"data_banknote_authentication.csv\", sep=';')\n",
    "\n",
    "df"
   ]
  },
  {
   "cell_type": "code",
   "execution_count": null,
   "metadata": {},
   "outputs": [],
   "source": [
    "y_true = df['Shellweight']\n",
    "\n",
    "y_true = y_true.to_numpy()\n",
    "y_true.shape"
   ]
  },
  {
   "attachments": {},
   "cell_type": "markdown",
   "metadata": {},
   "source": [
    "___\n",
    "\n",
    "## Parte 3\n",
    "\n",
    "Como en el segundo gráfico del cuaderno visto en clase sobre PCA, grafique los tres mayores componentes principales utilizando la bibioteca **plotly** https://plotly.com/python/3d-scatter-plots/  **(10 puntos)**\n",
    "\n",
    "\n",
    "___"
   ]
  },
  {
   "cell_type": "code",
   "execution_count": null,
   "metadata": {},
   "outputs": [],
   "source": []
  }
 ],
 "metadata": {
  "colab": {
   "collapsed_sections": [],
   "name": "Quiz_2_MCD - solución.ipynb",
   "provenance": []
  },
  "kernelspec": {
   "display_name": "Python 3 (ipykernel)",
   "language": "python",
   "name": "python3"
  },
  "language_info": {
   "codemirror_mode": {
    "name": "ipython",
    "version": 3
   },
   "file_extension": ".py",
   "mimetype": "text/x-python",
   "name": "python",
   "nbconvert_exporter": "python",
   "pygments_lexer": "ipython3",
   "version": "3.10.11"
  }
 },
 "nbformat": 4,
 "nbformat_minor": 1
}
