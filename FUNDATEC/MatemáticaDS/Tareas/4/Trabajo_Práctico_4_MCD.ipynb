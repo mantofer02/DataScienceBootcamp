{
 "cells": [
  {
   "attachments": {},
   "cell_type": "markdown",
   "metadata": {
    "id": "GItxU96mTk16"
   },
   "source": [
    "# Matemática para Ciencia de los Datos\n",
    "# Trabajo Práctico 4\n",
    "\n",
    "Profesor: Luis Alexánder Calvo Valverde \n",
    "\n",
    "Instituto Tecnológico de Costa Rica, \n",
    "\n",
    "Programa Ciencia de Datos\n",
    "\n",
    "---\n",
    "\n",
    "Fecha de entrega: Lunes 22 de Mayo del 2023, a más tardar a las 3:00 pm.\n",
    "\n",
    "Medio de entrega: Por medio del TEC-Digital.\n",
    "\n",
    "Entregables: Un archivo jupyter ( .IPYNB ). \n",
    "\n",
    "Estudiante(s):\n",
    "1. **Nombre_Estudiante_1**\n",
    "1. **Nombre_Estudiante_2**\n"
   ]
  },
  {
   "attachments": {},
   "cell_type": "markdown",
   "metadata": {
    "id": "tgcoZAm82q8Y"
   },
   "source": [
    "\n",
    "---\n",
    "\n",
    "## Parte 1\n",
    "\n",
    "Dada la siguiente matriz:\n",
    "\n",
    "\\begin{equation}\n",
    "A= \\begin{bmatrix}\n",
    "   1.,2. \\\\\n",
    "   3.,4.\n",
    "\\end{bmatrix}\n",
    "\\end{equation}\n",
    "\n",
    "\n"
   ]
  },
  {
   "attachments": {},
   "cell_type": "markdown",
   "metadata": {
    "id": "lFwss7hSAJT3"
   },
   "source": [
    "**Ejercicio 1.1 (25 puntos)**\n",
    "\n",
    "En una celda de texto, calcule los auto-valores y los auto-vectores como los ejemplos vistos en clase. Debe mostrar todo el procedimiento.  Lo que si puede es usar la calculadora (o instrucciones de python) para resolver las ecuaciones al final --indique cual opción utilizó--."
   ]
  },
  {
   "attachments": {},
   "cell_type": "markdown",
   "metadata": {
    "id": "tCGUhHInAJT4"
   },
   "source": [
    "Se utilizó una caculadora cientifica:\n",
    "\n",
    "$ (1 - \\lambda)(4 - \\lambda) - (2 * 3) = 0 $\n",
    "\n",
    "$ (4 - \\lambda - 4\\lambda + \\lambda^2) - 6 = 0 $\n",
    "\n",
    "$ (\\lambda^2 - 5\\lambda + 4) - 6 = 0 $\n",
    "\n",
    "$ \\lambda^2 - 5\\lambda  - 2  = 0 $\n",
    "\n",
    "\n",
    "$ x = (5 \\pm \\sqrt{33})/ 2  $\n",
    "\n",
    "$ x_1 = (5 + \\sqrt{33})/ 2  $\n",
    "\n",
    "$ x_1 = 5.37228...  $\n",
    "\n",
    "$ x_2 = (5 - \\sqrt{33})/ 2  $\n",
    "\n",
    "$ x_2 = -0.37228...  $\n"
   ]
  },
  {
   "attachments": {},
   "cell_type": "markdown",
   "metadata": {},
   "source": [
    "$ \\lambda_1 = 5.37228... $\n",
    "\n",
    "Ecuación 1:\n",
    "\n",
    "$ -4.37228a + 2b = 0$\n",
    "\n",
    "$ 4.37228a = 2b$\n",
    "\n",
    "$ b =  \\frac{4.37228a}{2}$\n",
    "\n",
    "Ecuación 2:\n",
    "\n",
    "$ 3a + -1.37228b = 0$\n",
    "\n",
    "$ 3a -1.37228*\\frac{4.37228a}{2} = 0$"
   ]
  },
  {
   "attachments": {},
   "cell_type": "markdown",
   "metadata": {
    "id": "xhrJq1ZxAJT4"
   },
   "source": [
    "**Ejercicio 1.2 (25 puntos)**\n",
    "\n",
    "En una celda de código y utilizando la función eig de numpy, calcule los auto-valores y auto-vectores y haga las operaciones en el código para mostrar que se cumple: $A\\,\\vec{x} = \\lambda\\vec{x}$ (No olvide las pequeñas posibles diferencias por precisión de la representación numérica).\n"
   ]
  },
  {
   "cell_type": "code",
   "execution_count": 4,
   "metadata": {},
   "outputs": [
    {
     "name": "stdout",
     "output_type": "stream",
     "text": [
      "Proof for eigenvalue 0 with a value of -0.8541019662496848\n",
      "Respective eigenvector [-0.85065081  0.52573111]\n",
      "\n",
      "A * v = [ 0.20081142 -0.44902798]\n",
      "lambda * v = [ 0.72654253 -0.44902798]\n",
      "Error: [-5.25731112e-01 -2.77555756e-16]\n",
      "\n",
      "Proof for eigenvalue 1 with a value of 5.854101966249685\n",
      "Respective eigenvector [0.52573111 0.85065081]\n",
      "\n",
      "A * v = [2.22703273 4.97979657]\n",
      "lambda * v = [3.07768354 4.97979657]\n",
      "Error: [-8.50650808e-01 -8.88178420e-16]\n",
      "\n"
     ]
    }
   ],
   "source": [
    "\n",
    "import numpy as np\n",
    "\n",
    "A = np.array([[1., 2.], [3., 4.]], dtype='float64')\n",
    "w, v = np.linalg.eigh(A)\n",
    "\n",
    "for i in range(len(w)):\n",
    "    print(f\"Proof for eigenvalue {i} with a value of {w[i]}\")\n",
    "    print(f\"Respective eigenvector {v[:, i]}\")\n",
    "    print()\n",
    "    \n",
    "    mul_1 = np.matmul(A, v[:, i])\n",
    "    print(f\"A * v = {mul_1}\")\n",
    "    \n",
    "    mul_2 = w[i] * v[:, i]\n",
    "    print(f\"lambda * v = {mul_2}\")\n",
    "\n",
    "    error = mul_1 - mul_2\n",
    "    print(f\"Error: {error}\")\n",
    "    print()\n"
   ]
  },
  {
   "attachments": {},
   "cell_type": "markdown",
   "metadata": {
    "id": "GxgMhL8hAJT7"
   },
   "source": [
    "\n",
    "---\n",
    "\n",
    "## Parte 2\n",
    "\n",
    "\n",
    "Realice lo siguiente: **(40 puntos)**\n",
    "1. Similar a los ejemplos vistos, aplíquele la estrategia PCA a los datos en el archivo adjunto \"data_banknote_authentication.csv\" (el $Y$ corresponde a la columna llamada clase). \n",
    "1. En este caso use los tres primeros componentes principales (no dos como en el ejemplo).\n",
    "1. El ejercicio termina graficando la varianza acumulada versus los componentes principales.\n",
    "\n",
    "---\n",
    "\n"
   ]
  },
  {
   "cell_type": "code",
   "execution_count": null,
   "metadata": {},
   "outputs": [],
   "source": []
  },
  {
   "attachments": {},
   "cell_type": "markdown",
   "metadata": {},
   "source": [
    "___\n",
    "\n",
    "## Parte 3\n",
    "\n",
    "Como en el segundo gráfico del cuaderno visto en clase sobre PCA, grafique los tres mayores componentes principales utilizando la bibioteca **plotly** https://plotly.com/python/3d-scatter-plots/  **(10 puntos)**\n",
    "\n",
    "\n",
    "___"
   ]
  },
  {
   "cell_type": "code",
   "execution_count": null,
   "metadata": {},
   "outputs": [],
   "source": []
  }
 ],
 "metadata": {
  "colab": {
   "collapsed_sections": [],
   "name": "Quiz_2_MCD - solución.ipynb",
   "provenance": []
  },
  "kernelspec": {
   "display_name": "Python 3 (ipykernel)",
   "language": "python",
   "name": "python3"
  },
  "language_info": {
   "codemirror_mode": {
    "name": "ipython",
    "version": 3
   },
   "file_extension": ".py",
   "mimetype": "text/x-python",
   "name": "python",
   "nbconvert_exporter": "python",
   "pygments_lexer": "ipython3",
   "version": "3.10.3"
  }
 },
 "nbformat": 4,
 "nbformat_minor": 1
}
