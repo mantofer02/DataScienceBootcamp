{
 "cells": [
  {
   "attachments": {},
   "cell_type": "markdown",
   "metadata": {
    "colab_type": "text",
    "id": "GItxU96mTk16"
   },
   "source": [
    "# Matemática para Ciencia de los Datos\n",
    "# Trabajo Práctico 3\n",
    "\n",
    "Profesor: Luis Alexánder Calvo Valverde \n",
    "\n",
    "Instituto Tecnológico de Costa Rica, \n",
    "\n",
    "Programa Ciencia de Datos\n",
    "\n",
    "---\n",
    "\n",
    "Fecha de entrega: Lunes 15 de Mayo del 2023, a más tardar a las 3:00 pm.\n",
    "\n",
    "Medio de entrega: Por medio del TEC-Digital.\n",
    "\n",
    "Entregables: Un archivo jupyter ( .IPYNB ). \n",
    "\n",
    "Estudiante(s):\n",
    "1. **Marco Ferraro**\n"
   ]
  },
  {
   "attachments": {},
   "cell_type": "markdown",
   "metadata": {
    "colab_type": "text",
    "id": "jdtaAwa8XzNA"
   },
   "source": [
    "---\n",
    "\n",
    "**Pregunta 1**\n",
    "\n",
    "\n",
    "\n",
    "Se puede demostrar que para los vectores generadores de un subespacio $E=\\textrm{espacioGenerado}\\left\\{ \\vec{v}_{1},\\vec{v}_{2},\\ldots,\\vec{v}_{m}\\right\\}$ , con $V=\\left[\\vec{v}_{1},\\vec{v}_{2},\\ldots,\\vec{v}_{m}\\right]$,con $\\vec{v}_{m}\\in\\mathbb{R}^{n}$ si son ortonormales, la ecuación de la proyección de un vector $\\vec{u}\\in\\mathbb{R}^{n}$ originalmente dada por:\n",
    "\n",
    "$$\\textrm{proy}\\left(\\vec{u};V\\right)=\\textrm{argmin}_{\\vec{v}\\in E}\\left\\Vert \\vec{v}-\\vec{u}\\right\\Vert _{2}=V\\,\\left(V^{T}V\\right)^{-1}V^{T}\\vec{u}$$\n",
    "\n",
    "se puede reescribir como: \n",
    "\n",
    "$$\\textrm{proy}\\left(\\vec{u};V\\right)=\\textrm{argmin}_{\\vec{v}\\in E}\\left\\Vert \\vec{v}-\\vec{u}\\right\\Vert _{2}=V\\,V^{T}\\vec{u}$$\n",
    "\n",
    "con $V\\in\\mathbb{R}^{n\\times m}$.\n",
    "\n",
    "\n",
    "\n",
    "\n",
    "\n",
    "\n",
    "\n"
   ]
  },
  {
   "attachments": {},
   "cell_type": "markdown",
   "metadata": {},
   "source": [
    "**1.1 (25 puntos)**\n",
    "\n",
    "Utilizando numpy, proponga una matriz ortonormal de dimensiones 3x3, para ello utilice una fuente como \"Proceso de ortonormalización de  Gram - Schmidt\" (https://blog.nekomath.com/algebra-lineal-i-proceso-de-gram-schmidt/) para producir una matriz ortonormal a partir de una matriz que no es ni ortonormal ni ortogonal. \n",
    "\n",
    "Finalmente muestre en numpy que su matriz resultante es ortonormal ($V$).\n",
    "\n"
   ]
  },
  {
   "attachments": {},
   "cell_type": "markdown",
   "metadata": {},
   "source": [
    "Matriz original: \n",
    "\n",
    "\\begin{pmatrix}\n",
    "3 & 1\\\\\n",
    "0 & 2 \n",
    "\\end{pmatrix}\n",
    "\n",
    "\n",
    "Matriz ortonormalizada: \n",
    "\n",
    "\\begin{pmatrix}\n",
    "1 & 0\\\\\n",
    "0 & 1\n",
    "\\end{pmatrix}"
   ]
  },
  {
   "cell_type": "code",
   "execution_count": 28,
   "metadata": {},
   "outputs": [
    {
     "data": {
      "text/plain": [
       "matrix([[1., 0.],\n",
       "        [0., 1.]])"
      ]
     },
     "execution_count": 28,
     "metadata": {},
     "output_type": "execute_result"
    }
   ],
   "source": [
    "import numpy as np\n",
    "import math\n",
    "\n",
    "\n",
    "A = np.matrix([[1., 0], [0, 1]])\n",
    "\n",
    "\n",
    "np.matmul(A.T, A)"
   ]
  },
  {
   "attachments": {},
   "cell_type": "markdown",
   "metadata": {},
   "source": [
    "**1.2 (15 puntos)**\n",
    "\n",
    "Proponga un vector $\\vec{u}$ y programe en numpy las operaciones algebraicas siguientes (tome $V$ del paso anterior).\n",
    "\n",
    "$V\\,\\left(V^{T}V\\right)^{-1}V^{T}\\vec{u}$\n",
    "\n",
    "y,\n",
    "\n",
    "$V\\,V^{T}\\vec{u}$\n"
   ]
  },
  {
   "cell_type": "code",
   "execution_count": 29,
   "metadata": {},
   "outputs": [
    {
     "data": {
      "text/plain": [
       "matrix([[4., 9.]])"
      ]
     },
     "execution_count": 29,
     "metadata": {},
     "output_type": "execute_result"
    }
   ],
   "source": [
    "from numpy.linalg import inv\n",
    "\n",
    "b = [4, 9]\n",
    "\n",
    "inv_mult = np.matmul(A.T, A)\n",
    "inv_mult = inv(inv_mult)\n",
    "\n",
    "proyec_1 = np.matmul(np.matmul(np.matmul(A, inv_mult), A.T), b)\n",
    "proyec_1"
   ]
  },
  {
   "cell_type": "code",
   "execution_count": 30,
   "metadata": {},
   "outputs": [],
   "source": [
    "proyec_2 = np.matmul(np.matmul(A, A.T), b)"
   ]
  },
  {
   "attachments": {},
   "cell_type": "markdown",
   "metadata": {},
   "source": [
    "**1.3 (10 puntos)**\n",
    "\n",
    "Programe en python para calcular el error de proyección obtenido para los casos del punto **1.2**."
   ]
  },
  {
   "cell_type": "code",
   "execution_count": 31,
   "metadata": {},
   "outputs": [
    {
     "data": {
      "text/plain": [
       "0.0"
      ]
     },
     "execution_count": 31,
     "metadata": {},
     "output_type": "execute_result"
    }
   ],
   "source": [
    "from numpy import linalg as LA\n",
    "\n",
    "def proyection_error(v, u):\n",
    "    return abs(LA.norm(v) - LA.norm(u))\n",
    "\n",
    "\n",
    "proyection_error(proyec_1, proyec_2)"
   ]
  },
  {
   "attachments": {},
   "cell_type": "markdown",
   "metadata": {
    "colab_type": "text",
    "id": "jdtaAwa8XzNA"
   },
   "source": [
    "---\n",
    "\n",
    "**Pregunta 2 (10 puntos)**\n",
    "\n",
    "\n",
    "Programe en python la función calculeDet2, que recibe como parámetro una matriz cuadrada de dimensiones 2x2, llamada M, y retorna el determinante de esa matriz. Usted debe programar las operaciones matemáticas necesarias, no utilizar una función tipo det para calcularla. Pruébela con dos matrices que Usted proponga.\n",
    "\n",
    "def calculeDet2( M ):\n",
    "\n",
    "\n",
    "\n"
   ]
  },
  {
   "cell_type": "code",
   "execution_count": 32,
   "metadata": {},
   "outputs": [],
   "source": [
    "def calculeDet2(M):\n",
    "    diagonalUno = M[0][0] * M[1][1]\n",
    "    diagonalDos = M[0][1] * M[1][0]\n",
    "\n",
    "    return diagonalUno - diagonalDos"
   ]
  },
  {
   "cell_type": "code",
   "execution_count": 33,
   "metadata": {},
   "outputs": [
    {
     "data": {
      "text/plain": [
       "38"
      ]
     },
     "execution_count": 33,
     "metadata": {},
     "output_type": "execute_result"
    }
   ],
   "source": [
    "calculeDet2([[5, -3], [6, 4]])"
   ]
  },
  {
   "attachments": {},
   "cell_type": "markdown",
   "metadata": {
    "colab_type": "text",
    "id": "jdtaAwa8XzNA"
   },
   "source": [
    "---\n",
    "\n",
    "**Pregunta 3 (10 puntos)**\n",
    "\n",
    "\n",
    "Programe en python la función calculeDet3, que recibe como parámetro una matriz cuadrada de dimensiones 3x3, llamada M, y retorna el determinante de esa matriz. Usted debe programar las operaciones matemáticas necesarias, no utilizar una función de numpy tipo det para calcularla (sí puede usar función que programó en la **Pregunta 2**). Pruébela con dos matrices que Usted proponga.\n",
    "\n",
    "def calculeDet3( M ):\n",
    "\n",
    "\n",
    "\n",
    "\n"
   ]
  },
  {
   "cell_type": "code",
   "execution_count": 34,
   "metadata": {},
   "outputs": [],
   "source": [
    "def calculeDet3(M):\n",
    "    comp1 = M[0][0] * calculeDet2([[M[1][1], M[1][2]], [M[2][1], M[2][2]]])\n",
    "    comp2 = -1 * M[0][1] * calculeDet2([[M[1][0], M[1][2]], [M[2][0], M[2][2]]])\n",
    "    comp3 = M[0][2] * calculeDet2([[M[1][0], M[1][1]], [M[2][0], M[2][1]]])\n",
    "\n",
    "    return comp1 + comp2 + comp3\n",
    "\n"
   ]
  },
  {
   "cell_type": "code",
   "execution_count": 35,
   "metadata": {},
   "outputs": [],
   "source": [
    "A = [[-2, 4, 5], [6, 7, -3], [3, 0, 2]]\n",
    "B = [[1, 2, 1], [1, -3, 4], [-1, 0, -2]]"
   ]
  },
  {
   "cell_type": "code",
   "execution_count": 36,
   "metadata": {},
   "outputs": [
    {
     "data": {
      "text/plain": [
       "-217"
      ]
     },
     "execution_count": 36,
     "metadata": {},
     "output_type": "execute_result"
    }
   ],
   "source": [
    "calculeDet3(A)"
   ]
  },
  {
   "cell_type": "code",
   "execution_count": 37,
   "metadata": {},
   "outputs": [
    {
     "data": {
      "text/plain": [
       "-217.00000000000003"
      ]
     },
     "execution_count": 37,
     "metadata": {},
     "output_type": "execute_result"
    }
   ],
   "source": [
    "np.linalg.det(A)"
   ]
  },
  {
   "cell_type": "code",
   "execution_count": 38,
   "metadata": {},
   "outputs": [
    {
     "data": {
      "text/plain": [
       "-1"
      ]
     },
     "execution_count": 38,
     "metadata": {},
     "output_type": "execute_result"
    }
   ],
   "source": [
    "calculeDet3(B)"
   ]
  },
  {
   "cell_type": "code",
   "execution_count": 39,
   "metadata": {},
   "outputs": [
    {
     "data": {
      "text/plain": [
       "-1.0000000000000009"
      ]
     },
     "execution_count": 39,
     "metadata": {},
     "output_type": "execute_result"
    }
   ],
   "source": [
    "np.linalg.det(B)"
   ]
  },
  {
   "attachments": {},
   "cell_type": "markdown",
   "metadata": {
    "colab_type": "text",
    "id": "jdtaAwa8XzNA"
   },
   "source": [
    "---\n",
    "\n",
    "**Pregunta 4 (15 puntos)**\n",
    "\n",
    "Se tiene que:\n",
    "\n",
    "$$\\textrm{det}\\left(A\\,B\\right)=\\textrm{det}\\left(A\\right)\\,\\textrm{det}\\left(B\\right)$$\n",
    "\n",
    "Proponga dos matrices de 4x4 ( $A$ e $B$) y programando en numpy muestre esta igualdad (puede usar de numpy las funciones det y la de multiplicar matrices).\n",
    "\n",
    "\n",
    "\n",
    "\n"
   ]
  },
  {
   "cell_type": "code",
   "execution_count": 40,
   "metadata": {},
   "outputs": [
    {
     "name": "stdout",
     "output_type": "stream",
     "text": [
      "det(AB) =  24876096.00\n",
      "det(A)det(B) =  24876096.00\n"
     ]
    }
   ],
   "source": [
    "A = [[4, 5, -2, 4], [0, -4, 2, 8], [9, -9, 3, 11], [1, 3, 9, 1]]\n",
    "B = [[0, -9, -3, 1], [8, 6, -3, 5], [5, 5, 1, -4], [-7, 3, -3, -4]]\n",
    "\n",
    "\n",
    "print(f\"det(AB) = {np.linalg.det(np.matmul(A, B)): .2f}\")\n",
    "print(f\"det(A)det(B) = {(np.linalg.det(A)) * (np.linalg.det(B)): .2f}\")\n"
   ]
  },
  {
   "attachments": {},
   "cell_type": "markdown",
   "metadata": {
    "colab_type": "text",
    "id": "jdtaAwa8XzNA"
   },
   "source": [
    "---\n",
    "\n",
    "**Pregunta 5 (15 puntos)**\n",
    "\n",
    "\n",
    "Utilizando el archivo \"Dataset_usar.csv\", haga:\n",
    "- Cargue el archivo.\n",
    "- Muestre cuántas filas por cuántas columnas tiene el conjunto de datos.\n",
    "- Utilizando el modelo $Ax=b$\n",
    "    - Conforme la matriz $A$ con todas las columnas menos la última de la derecha.\n",
    "    - Conforme el vector $b$ con la última columna de la derecha.\n",
    "    - Calcule el vector de pesos ($x$), utilizando el concepto de mínimos cuadrados $\\left(A^{T}A\\right)^{-1}A^{T}\\vec{b}$\n",
    "    - Calcule un b_estimado con $A$ e $x$\n",
    "    - Calcule la norma 2 de la diferencia entre b y b_estimado.\n",
    "    - Grafique b y b_estimado.\n",
    "\n"
   ]
  },
  {
   "cell_type": "code",
   "execution_count": 41,
   "metadata": {},
   "outputs": [
    {
     "data": {
      "text/html": [
       "<div>\n",
       "<style scoped>\n",
       "    .dataframe tbody tr th:only-of-type {\n",
       "        vertical-align: middle;\n",
       "    }\n",
       "\n",
       "    .dataframe tbody tr th {\n",
       "        vertical-align: top;\n",
       "    }\n",
       "\n",
       "    .dataframe thead th {\n",
       "        text-align: right;\n",
       "    }\n",
       "</style>\n",
       "<table border=\"1\" class=\"dataframe\">\n",
       "  <thead>\n",
       "    <tr style=\"text-align: right;\">\n",
       "      <th></th>\n",
       "      <th>bias</th>\n",
       "      <th>Length</th>\n",
       "      <th>Diameter</th>\n",
       "      <th>Height</th>\n",
       "      <th>Whole</th>\n",
       "      <th>Shucked</th>\n",
       "      <th>Sex_Female</th>\n",
       "      <th>Sex_Masculine</th>\n",
       "      <th>Shellweight</th>\n",
       "    </tr>\n",
       "  </thead>\n",
       "  <tbody>\n",
       "    <tr>\n",
       "      <th>0</th>\n",
       "      <td>1</td>\n",
       "      <td>0.186567</td>\n",
       "      <td>0.155963</td>\n",
       "      <td>0.195652</td>\n",
       "      <td>0.011688</td>\n",
       "      <td>0.333333</td>\n",
       "      <td>0</td>\n",
       "      <td>1</td>\n",
       "      <td>0.0100</td>\n",
       "    </tr>\n",
       "    <tr>\n",
       "      <th>1</th>\n",
       "      <td>1</td>\n",
       "      <td>0.813433</td>\n",
       "      <td>0.761468</td>\n",
       "      <td>0.826087</td>\n",
       "      <td>0.433327</td>\n",
       "      <td>0.333333</td>\n",
       "      <td>1</td>\n",
       "      <td>0</td>\n",
       "      <td>0.4350</td>\n",
       "    </tr>\n",
       "    <tr>\n",
       "      <th>2</th>\n",
       "      <td>1</td>\n",
       "      <td>0.410448</td>\n",
       "      <td>0.376147</td>\n",
       "      <td>0.369565</td>\n",
       "      <td>0.074022</td>\n",
       "      <td>0.333333</td>\n",
       "      <td>1</td>\n",
       "      <td>0</td>\n",
       "      <td>0.0680</td>\n",
       "    </tr>\n",
       "    <tr>\n",
       "      <th>3</th>\n",
       "      <td>1</td>\n",
       "      <td>0.537313</td>\n",
       "      <td>0.504587</td>\n",
       "      <td>0.500000</td>\n",
       "      <td>0.143085</td>\n",
       "      <td>0.333333</td>\n",
       "      <td>1</td>\n",
       "      <td>0</td>\n",
       "      <td>0.0960</td>\n",
       "    </tr>\n",
       "    <tr>\n",
       "      <th>4</th>\n",
       "      <td>1</td>\n",
       "      <td>0.507463</td>\n",
       "      <td>0.495413</td>\n",
       "      <td>0.565217</td>\n",
       "      <td>0.146981</td>\n",
       "      <td>0.333333</td>\n",
       "      <td>0</td>\n",
       "      <td>1</td>\n",
       "      <td>0.1440</td>\n",
       "    </tr>\n",
       "    <tr>\n",
       "      <th>...</th>\n",
       "      <td>...</td>\n",
       "      <td>...</td>\n",
       "      <td>...</td>\n",
       "      <td>...</td>\n",
       "      <td>...</td>\n",
       "      <td>...</td>\n",
       "      <td>...</td>\n",
       "      <td>...</td>\n",
       "      <td>...</td>\n",
       "    </tr>\n",
       "    <tr>\n",
       "      <th>993</th>\n",
       "      <td>1</td>\n",
       "      <td>0.261194</td>\n",
       "      <td>0.247706</td>\n",
       "      <td>0.217391</td>\n",
       "      <td>0.026386</td>\n",
       "      <td>0.333333</td>\n",
       "      <td>1</td>\n",
       "      <td>0</td>\n",
       "      <td>0.0245</td>\n",
       "    </tr>\n",
       "    <tr>\n",
       "      <th>994</th>\n",
       "      <td>1</td>\n",
       "      <td>0.514925</td>\n",
       "      <td>0.495413</td>\n",
       "      <td>0.456522</td>\n",
       "      <td>0.101470</td>\n",
       "      <td>0.333333</td>\n",
       "      <td>0</td>\n",
       "      <td>1</td>\n",
       "      <td>0.1135</td>\n",
       "    </tr>\n",
       "    <tr>\n",
       "      <th>995</th>\n",
       "      <td>1</td>\n",
       "      <td>0.432836</td>\n",
       "      <td>0.440367</td>\n",
       "      <td>0.369565</td>\n",
       "      <td>0.087834</td>\n",
       "      <td>0.333333</td>\n",
       "      <td>1</td>\n",
       "      <td>0</td>\n",
       "      <td>0.0800</td>\n",
       "    </tr>\n",
       "    <tr>\n",
       "      <th>996</th>\n",
       "      <td>1</td>\n",
       "      <td>0.574627</td>\n",
       "      <td>0.596330</td>\n",
       "      <td>0.543478</td>\n",
       "      <td>0.170002</td>\n",
       "      <td>0.333333</td>\n",
       "      <td>0</td>\n",
       "      <td>1</td>\n",
       "      <td>0.1450</td>\n",
       "    </tr>\n",
       "    <tr>\n",
       "      <th>997</th>\n",
       "      <td>1</td>\n",
       "      <td>0.880597</td>\n",
       "      <td>0.889908</td>\n",
       "      <td>0.717391</td>\n",
       "      <td>0.476359</td>\n",
       "      <td>0.333333</td>\n",
       "      <td>0</td>\n",
       "      <td>1</td>\n",
       "      <td>0.4150</td>\n",
       "    </tr>\n",
       "  </tbody>\n",
       "</table>\n",
       "<p>998 rows × 9 columns</p>\n",
       "</div>"
      ],
      "text/plain": [
       "     bias    Length  Diameter    Height     Whole   Shucked  Sex_Female  \\\n",
       "0       1  0.186567  0.155963  0.195652  0.011688  0.333333           0   \n",
       "1       1  0.813433  0.761468  0.826087  0.433327  0.333333           1   \n",
       "2       1  0.410448  0.376147  0.369565  0.074022  0.333333           1   \n",
       "3       1  0.537313  0.504587  0.500000  0.143085  0.333333           1   \n",
       "4       1  0.507463  0.495413  0.565217  0.146981  0.333333           0   \n",
       "..    ...       ...       ...       ...       ...       ...         ...   \n",
       "993     1  0.261194  0.247706  0.217391  0.026386  0.333333           1   \n",
       "994     1  0.514925  0.495413  0.456522  0.101470  0.333333           0   \n",
       "995     1  0.432836  0.440367  0.369565  0.087834  0.333333           1   \n",
       "996     1  0.574627  0.596330  0.543478  0.170002  0.333333           0   \n",
       "997     1  0.880597  0.889908  0.717391  0.476359  0.333333           0   \n",
       "\n",
       "     Sex_Masculine  Shellweight  \n",
       "0                1       0.0100  \n",
       "1                0       0.4350  \n",
       "2                0       0.0680  \n",
       "3                0       0.0960  \n",
       "4                1       0.1440  \n",
       "..             ...          ...  \n",
       "993              0       0.0245  \n",
       "994              1       0.1135  \n",
       "995              0       0.0800  \n",
       "996              1       0.1450  \n",
       "997              1       0.4150  \n",
       "\n",
       "[998 rows x 9 columns]"
      ]
     },
     "execution_count": 41,
     "metadata": {},
     "output_type": "execute_result"
    }
   ],
   "source": [
    "import pandas as pd\n",
    "\n",
    "df = pd.read_csv(\"Dataset_usar.csv\", sep=';')\n",
    "\n",
    "df"
   ]
  },
  {
   "cell_type": "code",
   "execution_count": 42,
   "metadata": {},
   "outputs": [
    {
     "data": {
      "text/plain": [
       "(998, 9)"
      ]
     },
     "execution_count": 42,
     "metadata": {},
     "output_type": "execute_result"
    }
   ],
   "source": [
    "df.shape"
   ]
  },
  {
   "cell_type": "code",
   "execution_count": 43,
   "metadata": {},
   "outputs": [
    {
     "data": {
      "text/plain": [
       "(998,)"
      ]
     },
     "execution_count": 43,
     "metadata": {},
     "output_type": "execute_result"
    }
   ],
   "source": [
    "b = df['Shellweight']\n",
    "\n",
    "b = b.to_numpy()\n",
    "b.shape"
   ]
  },
  {
   "cell_type": "code",
   "execution_count": 44,
   "metadata": {},
   "outputs": [
    {
     "data": {
      "text/plain": [
       "(998, 8)"
      ]
     },
     "execution_count": 44,
     "metadata": {},
     "output_type": "execute_result"
    }
   ],
   "source": [
    "A = df.drop(df.columns[-1], axis=1)\n",
    "\n",
    "A = A.to_numpy()\n",
    "A.shape"
   ]
  },
  {
   "cell_type": "code",
   "execution_count": 45,
   "metadata": {},
   "outputs": [
    {
     "data": {
      "text/plain": [
       "(998,)"
      ]
     },
     "execution_count": 45,
     "metadata": {},
     "output_type": "execute_result"
    }
   ],
   "source": [
    "\n",
    "weight =  np.linalg.inv(np.matmul(A.T, A))\n",
    "weight = np.matmul(np.matmul(weight, A.T), b)\n",
    "\n",
    "b_predict = np.matmul(A, weight)\n",
    "\n",
    "b_predict.shape"
   ]
  },
  {
   "cell_type": "code",
   "execution_count": 46,
   "metadata": {},
   "outputs": [],
   "source": [
    "import matplotlib.pyplot as plt\n",
    "import numpy as np\n",
    "\n",
    "def plot_vectors(a, b, x_lim=30, y_lim=30, label_a='vector a', label_b='vector b'):\n",
    "  # Create a plot\n",
    "  plt.figure()\n",
    "\n",
    "  # Plot the vectors as arrows\n",
    "  plt.arrow(0, 0, a[0], a[1], head_width=0.05, head_length=0.05, color='b', label=label_a)\n",
    "  plt.arrow(0, 0, b[0], b[1], head_width=0.05, head_length=0.05, color='r', label=label_b)\n",
    "\n",
    "   \n",
    "\n",
    "  # Set the x and y limits of the plot\n",
    "  plt.xlim(-1 * x_lim, x_lim)\n",
    "  plt.ylim(-1 * y_lim, y_lim)\n",
    "\n",
    "  # Add a grid and legend\n",
    "  plt.grid()\n",
    "  plt.legend()\n",
    "\n",
    "  # Show the plot\n",
    "  plt.show()"
   ]
  },
  {
   "cell_type": "code",
   "execution_count": 52,
   "metadata": {},
   "outputs": [
    {
     "data": {
      "image/png": "[encoded data removed]",
      "text/plain": [
       "<Figure size 640x480 with 1 Axes>"
      ]
     },
     "metadata": {},
     "output_type": "display_data"
    }
   ],
   "source": [
    "plot_vectors(b, b_predict, x_lim=1, y_lim=1, label_a=\"b true\", label_b=\"b predict\")"
   ]
  }
 ],
 "metadata": {
  "colab": {
   "collapsed_sections": [],
   "name": "Trabajo_Práctico_1_Matemática_para_Ciencia_de_los_Datos.ipynb",
   "provenance": []
  },
  "kernelspec": {
   "display_name": "Python 3 (ipykernel)",
   "language": "python",
   "name": "python3"
  },
  "language_info": {
   "codemirror_mode": {
    "name": "ipython",
    "version": 3
   },
   "file_extension": ".py",
   "mimetype": "text/x-python",
   "name": "python",
   "nbconvert_exporter": "python",
   "pygments_lexer": "ipython3",
   "version": "3.10.3"
  }
 },
 "nbformat": 4,
 "nbformat_minor": 1
}
