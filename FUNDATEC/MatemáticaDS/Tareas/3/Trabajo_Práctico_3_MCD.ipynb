{
 "cells": [
  {
   "attachments": {},
   "cell_type": "markdown",
   "metadata": {
    "colab_type": "text",
    "id": "GItxU96mTk16"
   },
   "source": [
    "# Matemática para Ciencia de los Datos\n",
    "# Trabajo Práctico 3\n",
    "\n",
    "Profesor: Luis Alexánder Calvo Valverde \n",
    "\n",
    "Instituto Tecnológico de Costa Rica, \n",
    "\n",
    "Programa Ciencia de Datos\n",
    "\n",
    "---\n",
    "\n",
    "Fecha de entrega: Lunes 15 de Mayo del 2023, a más tardar a las 3:00 pm.\n",
    "\n",
    "Medio de entrega: Por medio del TEC-Digital.\n",
    "\n",
    "Entregables: Un archivo jupyter ( .IPYNB ). \n",
    "\n",
    "Estudiante(s):\n",
    "1. **Marco Ferraro**\n"
   ]
  },
  {
   "attachments": {},
   "cell_type": "markdown",
   "metadata": {
    "colab_type": "text",
    "id": "jdtaAwa8XzNA"
   },
   "source": [
    "---\n",
    "\n",
    "**Pregunta 1**\n",
    "\n",
    "\n",
    "\n",
    "Se puede demostrar que para los vectores generadores de un subespacio $E=\\textrm{espacioGenerado}\\left\\{ \\vec{v}_{1},\\vec{v}_{2},\\ldots,\\vec{v}_{m}\\right\\}$ , con $V=\\left[\\vec{v}_{1},\\vec{v}_{2},\\ldots,\\vec{v}_{m}\\right]$,con $\\vec{v}_{m}\\in\\mathbb{R}^{n}$ si son ortonormales, la ecuación de la proyección de un vector $\\vec{u}\\in\\mathbb{R}^{n}$ originalmente dada por:\n",
    "\n",
    "$$\\textrm{proy}\\left(\\vec{u};V\\right)=\\textrm{argmin}_{\\vec{v}\\in E}\\left\\Vert \\vec{v}-\\vec{u}\\right\\Vert _{2}=V\\,\\left(V^{T}V\\right)^{-1}V^{T}\\vec{u}$$\n",
    "\n",
    "se puede reescribir como: \n",
    "\n",
    "$$\\textrm{proy}\\left(\\vec{u};V\\right)=\\textrm{argmin}_{\\vec{v}\\in E}\\left\\Vert \\vec{v}-\\vec{u}\\right\\Vert _{2}=V\\,V^{T}\\vec{u}$$\n",
    "\n",
    "con $V\\in\\mathbb{R}^{n\\times m}$.\n",
    "\n",
    "\n",
    "\n",
    "\n",
    "\n",
    "\n",
    "\n"
   ]
  },
  {
   "attachments": {},
   "cell_type": "markdown",
   "metadata": {},
   "source": [
    "**1.1 (25 puntos)**\n",
    "\n",
    "Utilizando numpy, proponga una matriz ortonormal de dimensiones 3x3, para ello utilice una fuente como \"Proceso de ortonormalización de  Gram - Schmidt\" (https://blog.nekomath.com/algebra-lineal-i-proceso-de-gram-schmidt/) para producir una matriz ortonormal a partir de una matriz que no es ni ortonormal ni ortogonal. \n",
    "\n",
    "Finalmente muestre en numpy que su matriz resultante es ortonormal ($V$).\n",
    "\n"
   ]
  },
  {
   "cell_type": "code",
   "execution_count": null,
   "metadata": {},
   "outputs": [],
   "source": []
  },
  {
   "attachments": {},
   "cell_type": "markdown",
   "metadata": {},
   "source": [
    "**1.2 (15 puntos)**\n",
    "\n",
    "Proponga un vector $\\vec{u}$ y programe en numpy las operaciones algebraicas siguientes (tome $V$ del paso anterior).\n",
    "\n",
    "$V\\,\\left(V^{T}V\\right)^{-1}V^{T}\\vec{u}$\n",
    "\n",
    "y,\n",
    "\n",
    "$V\\,V^{T}\\vec{u}$\n"
   ]
  },
  {
   "cell_type": "code",
   "execution_count": null,
   "metadata": {},
   "outputs": [],
   "source": []
  },
  {
   "attachments": {},
   "cell_type": "markdown",
   "metadata": {},
   "source": [
    "**1.3 (10 puntos)**\n",
    "\n",
    "Programe en python para calcular el error de proyección obtenido para los casos del punto **1.2**."
   ]
  },
  {
   "cell_type": "code",
   "execution_count": null,
   "metadata": {},
   "outputs": [],
   "source": []
  },
  {
   "attachments": {},
   "cell_type": "markdown",
   "metadata": {
    "colab_type": "text",
    "id": "jdtaAwa8XzNA"
   },
   "source": [
    "---\n",
    "\n",
    "**Pregunta 2 (10 puntos)**\n",
    "\n",
    "\n",
    "Programe en python la función calculeDet2, que recibe como parámetro una matriz cuadrada de dimensiones 2x2, llamada M, y retorna el determinante de esa matriz. Usted debe programar las operaciones matemáticas necesarias, no utilizar una función tipo det para calcularla. Pruébela con dos matrices que Usted proponga.\n",
    "\n",
    "def calculeDet2( M ):\n",
    "\n",
    "\n",
    "\n"
   ]
  },
  {
   "cell_type": "code",
   "execution_count": null,
   "metadata": {},
   "outputs": [],
   "source": [
    "def calculeDet2(M):\n",
    "    diagonalUno = M[0][0] * M[1][1]\n",
    "    diagonalDos = M[0][1] * M[1][0]\n",
    "\n",
    "    return diagonalUno - diagonalDos"
   ]
  },
  {
   "attachments": {},
   "cell_type": "markdown",
   "metadata": {
    "colab_type": "text",
    "id": "jdtaAwa8XzNA"
   },
   "source": [
    "---\n",
    "\n",
    "**Pregunta 3 (10 puntos)**\n",
    "\n",
    "\n",
    "Programe en python la función calculeDet3, que recibe como parámetro una matriz cuadrada de dimensiones 3x3, llamada M, y retorna el determinante de esa matriz. Usted debe programar las operaciones matemáticas necesarias, no utilizar una función de numpy tipo det para calcularla (sí puede usar función que programó en la **Pregunta 2**). Pruébela con dos matrices que Usted proponga.\n",
    "\n",
    "def calculeDet3( M ):\n",
    "\n",
    "\n",
    "\n",
    "\n"
   ]
  },
  {
   "cell_type": "code",
   "execution_count": null,
   "metadata": {},
   "outputs": [],
   "source": []
  },
  {
   "attachments": {},
   "cell_type": "markdown",
   "metadata": {
    "colab_type": "text",
    "id": "jdtaAwa8XzNA"
   },
   "source": [
    "---\n",
    "\n",
    "**Pregunta 4 (15 puntos)**\n",
    "\n",
    "Se tiene que:\n",
    "\n",
    "$$\\textrm{det}\\left(A\\,B\\right)=\\textrm{det}\\left(A\\right)\\,\\textrm{det}\\left(B\\right)$$\n",
    "\n",
    "Proponga dos matrices de 4x4 ( $A$ e $B$) y programando en numpy muestre esta igualdad (puede usar de numpy las funciones det y la de multiplicar matrices).\n",
    "\n",
    "\n",
    "\n",
    "\n"
   ]
  },
  {
   "cell_type": "code",
   "execution_count": null,
   "metadata": {},
   "outputs": [],
   "source": []
  },
  {
   "attachments": {},
   "cell_type": "markdown",
   "metadata": {
    "colab_type": "text",
    "id": "jdtaAwa8XzNA"
   },
   "source": [
    "---\n",
    "\n",
    "**Pregunta 5 (15 puntos)**\n",
    "\n",
    "\n",
    "Utilizando el archivo \"Dataset_usar.csv\", haga:\n",
    "- Cargue el archivo.\n",
    "- Muestre cuántas filas por cuántas columnas tiene el conjunto de datos.\n",
    "- Utilizando el modelo $Ax=b$\n",
    "    - Conforme la matriz $A$ con todas las columnas menos la última de la derecha.\n",
    "    - Conforme el vector $b$ con la última columna de la derecha.\n",
    "    - Calcule el vector de pesos ($x$), utilizando el concepto de mínimos cuadrados $\\left(A^{T}A\\right)^{-1}A^{T}\\vec{b}$\n",
    "    - Calcule un b_estimado con $A$ e $x$\n",
    "    - Calcule la norma 2 de la diferencia entre b y b_estimado.\n",
    "    - Grafique b y b_estimado.\n",
    "\n"
   ]
  },
  {
   "cell_type": "code",
   "execution_count": null,
   "metadata": {},
   "outputs": [],
   "source": []
  }
 ],
 "metadata": {
  "colab": {
   "collapsed_sections": [],
   "name": "Trabajo_Práctico_1_Matemática_para_Ciencia_de_los_Datos.ipynb",
   "provenance": []
  },
  "kernelspec": {
   "display_name": "Python 3 (ipykernel)",
   "language": "python",
   "name": "python3"
  },
  "language_info": {
   "codemirror_mode": {
    "name": "ipython",
    "version": 3
   },
   "file_extension": ".py",
   "mimetype": "text/x-python",
   "name": "python",
   "nbconvert_exporter": "python",
   "pygments_lexer": "ipython3",
   "version": "3.9.13"
  }
 },
 "nbformat": 4,
 "nbformat_minor": 1
}
