{
 "cells": [
  {
   "attachments": {},
   "cell_type": "markdown",
   "metadata": {
    "colab_type": "text",
    "id": "iyUvAxOzdgMc"
   },
   "source": [
    "# Matemática para Ciencia de los Datos\n",
    "- Documento base: Saúl Calderón, Žiga Emeršič, Ángel García, Blaž Meden, Felipe Meza, Martín Solís, Juan Esquivel, Mauro Méndez, Manuel Zumbado, Luis-Alexánder Calvo-Valverde.\n"
   ]
  },
  {
   "attachments": {},
   "cell_type": "markdown",
   "metadata": {
    "colab_type": "text",
    "id": "7cgawCmWJBdt"
   },
   "source": [
    "# PCA (Análisis de componentes principales)\n",
    "\n",
    "El PCA se basa en el cálculo de los auto-valores y auto-vectores. Los auto-vectores $\\vec{v}$ y auto valores $\\lambda$ cumplen la siguiente ecuación:\n",
    "\n",
    "$$A\\vec{v}=\\lambda\\vec{v}\\rightarrow(A-\\lambda I)\\,\\vec{v}=0$$\n",
    "\n",
    "Esta ecuación examina el comportamiento de la matriz A como una transformación de escalamiento (pues $\\lambda\\in\\mathbb{R}$ es un escalar). Por ejemplo, en caso de que en la solución de tal sistema de ecuaciones se llegue a valores de $\\lambda$ muy altos, se presenta un caso de escalamiento muy alto para el auto vector $\\vec{v}$. \n",
    "\n",
    "En datos de dimensionalidades muy altas es frecuentemente útil encontrar cuales componentes (ejes o dimensiones de los datos) son los mas significativos, es decir, los principales. Por ejemplo, en la siguiente Figura se muestra gráficamente un conjunto de datos especifico en tres dimensiones. \n",
    "\n",
    "![](https://drive.google.com/uc?id=1g6zSWWT4BcOW30rt-wNoQeGtS40UhRpw)\n",
    "\n",
    "El PCA se basa en el concepto de encontrar los vectores o dimensiones que aportan mayor información en la distribución de los datos observados. Esto significa encontrar los «ejes» que impliquen una mayor variación de los datos respecto a cada uno de ellos, tal y como lo ilustra la Figura siguiente:\n",
    "\n",
    "![](https://drive.google.com/uc?id=1SYRvkaeTo5QRJoTqgsl5jvm18JuNTdRi)\n",
    "\n",
    "Retomando brevemente unos conceptos:\n",
    "\n",
    "![](https://drive.google.com/uc?id=1-YCVEq3WPj0N2UZSSFGJDK72qfdZ5UTw)\n",
    "\n",
    "**Matriz de varianza-covarianza**\n",
    "\n",
    "![](https://drive.google.com/uc?id=16oDSmgS-u-nbmJl9o7NAIT7YL4wMgOuS)\n",
    "\n",
    "\n",
    "Los «ejes» con varianza baja respecto a los datos implican un aporte pequeño de información por lo que pueden ser descartados, como por ejemplo para el nuevo eje $ev_{3}$ diagramado en la siguiente Figura.\n",
    "\n",
    "![](https://drive.google.com/uc?id=1DJed5Mz-iHsxgDVJUsJi1GMXBoCH9FX-)\n",
    "\n",
    "Para encontrar tales «ejes», el PCA propone la descomposición en auto-valores y auto-vectores de la matriz de covarianza $\\Sigma$ asociada a la matriz de datos A. La matriz de covarianza $\\Sigma$ para datos de dimensionalidad $n$ es de dimensiones $n\\,x\\,n$, con la diagonal especificando la variación de los datos en cada dimensión, y en las entradas distintas a la diagonal, definiendo la variación entre el par de dimensiones especificas. \n",
    "\n",
    "Los «ejes» ejemplificados, al corresponder a los auto-vectores de la matriz de covarianza, tienen asociados auto-valores, los cuales definen el aporte en la distribución de los datos de su auto-vector. De esta manera es posible reducir la dimensionalidad de los datos, creando un nuevo espacio vectorial el cual incluye los auto-vectores con los valores mayores de sus auto-valores. \n",
    "\n",
    "Por ejemplo, tal reducción consiste en tomar los primeros auto-vectores, digamos dos, lo cual se grafica en la siguiente Figura\n",
    "\n",
    "![](https://drive.google.com/uc?id=1fAaAWqW4Ut5Ms74QWvkkhU8EDWZoiU5A)\n",
    "\n",
    "**El proceso de PCA es el siguiente:**\n",
    "\n",
    "* Cálculo de la matriz de covarianza $\\Sigma$ de la matriz $A$.\n",
    "\n",
    "* Generación del nuevo espacio vectorial: Se calculan los auto-vectores $\\left\\{ \\vec{v}_{1},\\vec{v}_{2},\\ldots,\\vec{v}_{q}\\right\\}$  y auto-valores correspondientes $\\left\\{ \\lambda_{1},\\lambda_{2},\\ldots,\\lambda_{q}\\right\\}$  y se eligen $n'<q$ auto-vectores más significativos para crear el nuevo espacio vectorial en $\\mathbb{R}^{n'} \\textrm{espacioGenerado}\\left\\{ \\vec{v}_{1},\\vec{v}_{2},\\ldots,\\vec{v}_{n'}\\right\\}$  generado por tales auto-vectores.\n",
    "\n",
    "* Proyección de los datos en el espacio $\\mathbb{R}^{n}$ al nuevo espacio $\\textrm{espacioGenerado}\\left\\{ \\vec{v}_{1},\\vec{v}_{2},\\ldots,\\vec{v}_{n'}\\right\\}$ , con dimensionalidad $\\mathbb{R}^{n'}$. \n",
    "\n",
    "\n",
    "\n",
    "**Materiales:**\n",
    "Explicación gráfica de PCA, incluyendo matriz de covarianza y auto-vectores y auto-valores. \n",
    "* Link: https://www.youtube.com/watch?v=AniiwysJ-2Y\n",
    "* Promedio, varianza, co-varianza: Minuto 6:00\n",
    "* Auto-vectores y auto-valores: de 15:45 a 23.10  (duración: 7 minutos 25 seguntos)\n",
    "* Duración total del video:  31 minutos y 15 segundos\n"
   ]
  },
  {
   "attachments": {},
   "cell_type": "markdown",
   "metadata": {},
   "source": [
    "## Ejemplo: Conjunto de datos Iris\n",
    "\n",
    "[Iris flower dataset](https://en.wikipedia.org/wiki/Iris_flower_data_set). \n",
    "\n",
    "Los datos son multivariados, con 150 mediciones de 4 atributos (length and width cm de ambos:  sepal and petal) en tres distintas especies de Iris. De las 150 mediciones, hay 50 mediciones para _Iris setosa_, _Iris versicolor_, e _Iris virginica_.\n",
    "\n",
    "[Scikit Learn's `datasets`](http://scikit-learn.org/stable/datasets/) incluye el conjunto de datos Iris.\n",
    "\n",
    "![](https://drive.google.com/uc?id=125KRc9v-vQ5dVfO2IR7jkqyRChoDtCHI)\n",
    "\n",
    "Fuente: https://www.researchgate.net/publication/265877256_How_plants_grow_and_move/figures?lo=1"
   ]
  },
  {
   "cell_type": "code",
   "execution_count": 2,
   "metadata": {},
   "outputs": [],
   "source": [
    "%matplotlib inline\n",
    "\n",
    "import pandas as pd\n",
    "import numpy as np\n",
    "import sklearn.datasets\n",
    "import matplotlib.pyplot as plt\n",
    "\n",
    "plt.rcParams['figure.figsize'] = [8, 4]"
   ]
  },
  {
   "cell_type": "code",
   "execution_count": 3,
   "metadata": {},
   "outputs": [
    {
     "name": "stdout",
     "output_type": "stream",
     "text": [
      "Ejemplo de muestras del conjunto de datos:\n",
      "   sepal length (cm)  sepal width (cm)  petal length (cm)  petal width (cm)\n",
      "0                5.1               3.5                1.4               0.2\n",
      "1                4.9               3.0                1.4               0.2\n",
      "2                4.7               3.2                1.3               0.2\n",
      "3                4.6               3.1                1.5               0.2\n",
      "4                5.0               3.6                1.4               0.2\n",
      "5                5.4               3.9                1.7               0.4\n",
      "6                4.6               3.4                1.4               0.3\n",
      "   target species\n",
      "0       0  setosa\n",
      "1       0  setosa\n",
      "2       0  setosa\n",
      "3       0  setosa\n",
      "4       0  setosa\n",
      "5       0  setosa\n",
      "6       0  setosa\n",
      "Tipos de especies:  ['setosa' 'versicolor' 'virginica']\n",
      "   sepal length (cm)  sepal width (cm)  petal length (cm)  petal width (cm)\n",
      "0          -0.897674          1.015602          -1.335752         -1.311052\n",
      "1          -1.139200         -0.131539          -1.335752         -1.311052\n",
      "2          -1.380727          0.327318          -1.392399         -1.311052\n",
      "\n",
      "\n",
      "\n",
      "Names:\n",
      "['setosa' 'versicolor' 'virginica']\n",
      "\n",
      "\n",
      "\n",
      "Y\n",
      "     target    species\n",
      "0         0     setosa\n",
      "1         0     setosa\n",
      "2         0     setosa\n",
      "3         0     setosa\n",
      "4         0     setosa\n",
      "..      ...        ...\n",
      "145       2  virginica\n",
      "146       2  virginica\n",
      "147       2  virginica\n",
      "148       2  virginica\n",
      "149       2  virginica\n",
      "\n",
      "[150 rows x 2 columns]\n",
      "\n",
      "\n",
      "\n",
      "Y[species]\n",
      "0         setosa\n",
      "1         setosa\n",
      "2         setosa\n",
      "3         setosa\n",
      "4         setosa\n",
      "         ...    \n",
      "145    virginica\n",
      "146    virginica\n",
      "147    virginica\n",
      "148    virginica\n",
      "149    virginica\n",
      "Name: species, Length: 150, dtype: object\n"
     ]
    }
   ],
   "source": [
    "# carga un dataset\n",
    "iris = sklearn.datasets.load_iris()\n",
    "X = pd.DataFrame(iris.data, columns=iris.feature_names)\n",
    "\n",
    "# Normaliza los datos en X\n",
    "X_zscaled = (X - X.mean()) / X.std(ddof=1)\n",
    "\n",
    "# carga Y\n",
    "Y = pd.DataFrame(iris.target, columns=['target'])\n",
    "Y['species'] = Y.apply(lambda r: iris.target_names[r])\n",
    "print(\"Ejemplo de muestras del conjunto de datos:\")\n",
    "print(X.head(7))\n",
    "print(Y.head(7))\n",
    "\n",
    "tiposEspecies = np.unique(Y['species'] )\n",
    "print(\"Tipos de especies: \", tiposEspecies)\n",
    "print( X_zscaled[0:3])\n",
    "\n",
    "print(\"\\n\\n\\nNames:\")\n",
    "print( iris.target_names )\n",
    "print(\"\\n\\n\\nY\")\n",
    "print(Y)\n",
    "print(\"\\n\\n\\nY[species]\")\n",
    "print( Y['species']  )"
   ]
  },
  {
   "cell_type": "code",
   "execution_count": 4,
   "metadata": {},
   "outputs": [
    {
     "data": {
      "text/plain": [
       "array(['setosa', 'versicolor', 'virginica'], dtype='<U10')"
      ]
     },
     "execution_count": 4,
     "metadata": {},
     "output_type": "execute_result"
    }
   ],
   "source": [
    "iris.target_names"
   ]
  },
  {
   "cell_type": "code",
   "execution_count": 5,
   "metadata": {},
   "outputs": [
    {
     "name": "stdout",
     "output_type": "stream",
     "text": [
      "     sepal length (cm)  sepal width (cm)  petal length (cm)  petal width (cm)\n",
      "0            -0.897674          1.015602          -1.335752         -1.311052\n",
      "1            -1.139200         -0.131539          -1.335752         -1.311052\n",
      "2            -1.380727          0.327318          -1.392399         -1.311052\n",
      "3            -1.501490          0.097889          -1.279104         -1.311052\n",
      "4            -1.018437          1.245030          -1.335752         -1.311052\n",
      "..                 ...               ...                ...               ...\n",
      "145           1.034539         -0.131539           0.816859          1.443994\n",
      "146           0.551486         -1.278680           0.703564          0.919223\n",
      "147           0.793012         -0.131539           0.816859          1.050416\n",
      "148           0.430722          0.786174           0.930154          1.443994\n",
      "149           0.068433         -0.131539           0.760211          0.788031\n",
      "\n",
      "[150 rows x 4 columns]\n"
     ]
    }
   ],
   "source": [
    "print( X_zscaled )"
   ]
  },
  {
   "cell_type": "code",
   "execution_count": 11,
   "metadata": {},
   "outputs": [
    {
     "data": {
      "text/plain": [
       "1.0"
      ]
     },
     "execution_count": 11,
     "metadata": {},
     "output_type": "execute_result"
    }
   ],
   "source": [
    "eigenvalues, eigenvectors = np.linalg.eig( np.cov(X_zscaled,rowvar=False))\n",
    "\n",
    "eigenvalues = eigenvalues / np.linalg.norm(eigenvalues)\n",
    "\n",
    "np.linalg.norm(eigenvalues)"
   ]
  },
  {
   "cell_type": "code",
   "execution_count": 7,
   "metadata": {},
   "outputs": [
    {
     "name": "stdout",
     "output_type": "stream",
     "text": [
      "idx:  [3 2 1 0]\n",
      "\n",
      "\n",
      "idx[::-1]:  [0 1 2 3]\n",
      "Auto-valores:\n",
      "[2.91849782 0.91403047 0.14675688 0.02071484]\n",
      "Auto-vectores:\n",
      "[[ 0.52106591 -0.37741762 -0.71956635  0.26128628]\n",
      " [-0.26934744 -0.92329566  0.24438178 -0.12350962]\n",
      " [ 0.5804131  -0.02449161  0.14212637 -0.80144925]\n",
      " [ 0.56485654 -0.06694199  0.63427274  0.52359713]]\n",
      "eigenvalues_normalized:\n",
      "[0.72962445 0.22850762 0.03668922 0.00517871]\n",
      "Varianza explicada:\n",
      "[0.72962445 0.95813207 0.99482129 1.        ]\n"
     ]
    }
   ],
   "source": [
    "# calcula los auto-valores y auto-vectores\n",
    "eigenvalues, eigenvectors = np.linalg.eig( np.cov(X_zscaled,rowvar=False))\n",
    "'''\n",
    "Para np.cov\n",
    "rowvar : [bool, optional] If rowvar is True (default), then each row represents a\n",
    "variable, with observations in the columns. Otherwise, the relationship is transposed\n",
    "'''\n",
    "# los normaliza\n",
    "eigenvalues_normalized = eigenvalues / eigenvalues.sum()\n",
    "# calcula la varianza explicada\n",
    "cumvar_explained = np.cumsum(eigenvalues_normalized)\n",
    "\n",
    "############################################################\n",
    "# Ordenar de mayor a menor, \n",
    "# debido a que np.linalg.eig no asegura que vengan ordenados\n",
    "idx = np.argsort(eigenvalues) \n",
    "print( \"idx: \", idx )\n",
    "idx = idx[::-1]     \n",
    "print(\"\\n\\nidx[::-1]: \", idx  )\n",
    "\n",
    "# Ordenar tanto los autovalroes como los autovectores\n",
    "eigenvectors = eigenvectors[:,idx]\n",
    "eigenvalues = eigenvalues[idx] \n",
    "\n",
    "\n",
    "print(\"Auto-valores:\")\n",
    "print(eigenvalues)\n",
    "print(\"Auto-vectores:\")\n",
    "print( eigenvectors)\n",
    "print(\"eigenvalues_normalized:\")\n",
    "print(eigenvalues_normalized)\n",
    "print(\"Varianza explicada:\")\n",
    "print( cumvar_explained )\n"
   ]
  },
  {
   "cell_type": "code",
   "execution_count": null,
   "metadata": {},
   "outputs": [],
   "source": []
  },
  {
   "cell_type": "code",
   "execution_count": 8,
   "metadata": {},
   "outputs": [
    {
     "name": "stdout",
     "output_type": "stream",
     "text": [
      "Parte de las muestras proyectadas\n",
      "        pc1       pc2       pc3       pc4 species\n",
      "0 -2.257141 -0.478424 -0.127280  0.024088  setosa\n",
      "1 -2.074013  0.671883 -0.233826  0.102663  setosa\n",
      "2 -2.356335  0.340766  0.044054  0.028282  setosa\n",
      "3 -2.291707  0.595400  0.090985 -0.065735  setosa\n",
      "4 -2.381863 -0.644676  0.015686 -0.035803  setosa\n"
     ]
    }
   ],
   "source": [
    "# Proyecta los datos y los grafica\n",
    "T = pd.DataFrame(X_zscaled.dot(eigenvectors))\n",
    "\n",
    "# Nombres de columnas\n",
    "T.columns = ['pc1', 'pc2', 'pc3', 'pc4']\n",
    "\n",
    "# agrega la etiqueta de las especies\n",
    "T = pd.concat([T, Y.species], axis=1)\n",
    "\n",
    "print(\"Parte de las muestras proyectadas\")\n",
    "print(T.head(5))"
   ]
  },
  {
   "cell_type": "code",
   "execution_count": 9,
   "metadata": {},
   "outputs": [
    {
     "data": {
      "image/png": "[encoded data removed]",
      "text/plain": [
       "<Figure size 800x400 with 2 Axes>"
      ]
     },
     "metadata": {},
     "output_type": "display_data"
    }
   ],
   "source": [
    "#########################################\n",
    "# Primer gráfico\n",
    "#########################################\n",
    "# Separa por la etiqueta \n",
    "irises = [T[T.species=='setosa'], \n",
    "          T[T.species=='versicolor'], \n",
    "          T[T.species=='virginica']]\n",
    "\n",
    "# define un color por especie\n",
    "colors = ['#1b9e77', '#d95f02', '#7570b3']\n",
    "\n",
    "_, (ax1, ax2) = plt.subplots(1, 2, sharey=False)\n",
    "\n",
    "# muestra el componente principal respecto al total de varianza en los datos\n",
    "ax1.plot([1,2,3,4],\n",
    "         eigenvalues_normalized,\n",
    "         '-o',\n",
    "         color='#8da0cb',\n",
    "         label='auto-valor (normalizado)',\n",
    "         alpha=0.8,\n",
    "         zorder=1000)\n",
    "\n",
    "ax1.plot([1,2,3,4],\n",
    "         cumvar_explained,\n",
    "         '-o',\n",
    "         color='#fc8d62',\n",
    "         label='varianza explicada',\n",
    "         alpha=0.8,\n",
    "         zorder=1000)\n",
    "\n",
    "ax1.set_xlim(0.8, 4.2)\n",
    "ax1.set_xticks([1,2,3,4])\n",
    "ax1.set_xlabel('PCA')\n",
    "ax1.set_ylabel('Varianza')\n",
    "ax1.legend(loc='center right', fontsize=7)\n",
    "ax1.grid(color='#fdfefe')\n",
    "ax1.set_facecolor('#f4f6f7')\n",
    "\n",
    "#########################################\n",
    "# Segundo gráfico\n",
    "#########################################\n",
    "# Usa solo dos, pc1 y pc2\n",
    "for group, color in zip(irises, colors):\n",
    "    ax2.scatter(group.pc1,\n",
    "                group.pc2,\n",
    "                marker='^',\n",
    "                color=color,\n",
    "                label=group.species,\n",
    "                alpha=0.5,\n",
    "                zorder=1000)\n",
    "ax2.set_xlabel(r'PC-1')\n",
    "ax2.set_ylabel(r'PC-2')\n",
    "ax2.grid(color='#fdfefe')\n",
    "ax2.set_facecolor('#f4f6f7')\n",
    "ax2.legend(labels=iris.target_names, fontsize=7)\n",
    "\n",
    "plt.suptitle(r'Visualización del PCA via auto-valores y auto-vectores, 2D')\n",
    "plt.tight_layout(pad=3.0)\n",
    "plt.show()    "
   ]
  },
  {
   "cell_type": "code",
   "execution_count": null,
   "metadata": {},
   "outputs": [],
   "source": []
  }
 ],
 "metadata": {
  "colab": {
   "collapsed_sections": [],
   "name": "4_LACV_DeterminanteyAutoVectores.ipynb",
   "provenance": [],
   "toc_visible": true
  },
  "kernelspec": {
   "display_name": "Python 3 (ipykernel)",
   "language": "python",
   "name": "python3"
  },
  "language_info": {
   "codemirror_mode": {
    "name": "ipython",
    "version": 3
   },
   "file_extension": ".py",
   "mimetype": "text/x-python",
   "name": "python",
   "nbconvert_exporter": "python",
   "pygments_lexer": "ipython3",
   "version": "3.10.3"
  }
 },
 "nbformat": 4,
 "nbformat_minor": 4
}
