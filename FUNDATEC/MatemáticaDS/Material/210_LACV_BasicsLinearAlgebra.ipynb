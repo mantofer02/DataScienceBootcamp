{
 "cells": [
  {
   "cell_type": "markdown",
   "metadata": {
    "colab_type": "text",
    "id": "jYQE37rOc539"
   },
   "source": [
    "# Matemática para Ciencia de los Datos\n",
    "\n",
    "-Profesor: Luis Alexánder Calvo Valverde.\n",
    "\n",
    "- Documento base: Saúl Calderón, Žiga Emeršič, Ángel García, Blaž Meden, Felipe Meza, Martín Solís, Juan Esquivel, Mauro Méndez, Manuel Zumbado."
   ]
  },
  {
   "cell_type": "markdown",
   "metadata": {
    "colab_type": "text",
    "id": "-ROgYfJVH5_8"
   },
   "source": [
    "# Sistemas lineales \n",
    "\n",
    "Gran parte del curso se basará en el estudio de sistemas o modelos lineales para realizar desde el filtrado de una señal (ya sea para eliminar aspectos indeseados, o mejorar cualidades de importancia), hasta la construcción de modelos de clasificación. \n",
    "\n",
    "Aunque gran parte de los sistemas reales son no lineales, modelos aproximados lineales de tales sistemas facilitan su análisis. Se presentan entonces el concepto básico de linealidad, fundamental en el desarrollo del curso. \n",
    "\n",
    "Un sistema es lineal si su respuesta ante la suma de dos entradas cualesquiera es la suma de su respuesta a cada una de las entradas por separado "
   ]
  },
  {
   "cell_type": "markdown",
   "metadata": {
    "colab_type": "text",
    "id": "8chJbeF0dXmO"
   },
   "source": [
    "# Linealidad\n",
    "\n",
    "Sea $L\\left\\{ \\cdot\\right\\}$  un operador, $f(x)$, $f_{1}\\left(x\\right)$ y $f_{2}\\left(x\\right)$ funciones de una variable $x\\in\\mathbb{R}$ (que en señales unidimensionales corresponde usualmente al tiempo), con los escalares $\\alpha\\in\\mathbb{R}$ y $\\beta\\in\\mathbb{R}$. \n",
    "\n",
    "Se dice que el operador $L$ es lineal si cumple con las propiedades de homogeneidad (también conocida como escalamiento) y superposición\n",
    "\n",
    "Homogeneidad (escalamiento) \n",
    "$$\n",
    " L\\{\\alpha f(x)\\}= \\alpha L\\{f(x)\\}\n",
    "$$\n",
    "Superposición\n",
    "$$\n",
    " L\\{f_1(x)+f_2(x)\\}= L\\{f_1(x)\\}+L\\{f_2(x)\\}\n",
    "$$\n",
    "\n",
    "Lo cual se puede resumir en una sola ecuación como: \n",
    "\n",
    "$$L\\left\\{ \\alpha f_{1}\\left(x\\right)+\\beta f_{2}\\left(x\\right)\\right\\} =\\alpha L\\left\\{ f_{1}(x)\\right\\} +\\beta L\\left\\{ f_{2}(x)\\right\\}$$\n"
   ]
  },
  {
   "cell_type": "markdown",
   "metadata": {
    "colab_type": "text",
    "id": "fb2fBM_twC7Y"
   },
   "source": [
    "## Ejemplos\n",
    "\n",
    "Sean los siguientes sistemas L cuya entrada es la función u(t) y la salida es g(t).\n",
    "\n"
   ]
  },
  {
   "cell_type": "markdown",
   "metadata": {
    "colab_type": "text",
    "id": "ZObH4Wa1LSya"
   },
   "source": [
    "\n",
    "---\n",
    "\n",
    "\n",
    "*  $g(t)=5\\,u(t)$ \n",
    "\n",
    "$L\\left\\{ \\alpha f_{1}\\left(x\\right)+\\beta f_{2}\\left(x\\right)\\right\\}$  $=?$  $\\alpha L\\left\\{ f_{1}(x)\\right\\} +\\beta L\\left\\{ f_{2}(x)\\right\\}$\n",
    "\n",
    "$5\\left(\\alpha u_{1}(t)+\\beta u_{2}(t)\\right)$ $=?$ $\\alpha\\,5\\,u_{1}(t)+\\beta\\,5\\,u_{2}(t)$\n",
    "\n",
    "$5\\alpha\\,u_{1}(t)+5\\beta\\,u_{2}(t)$  $=?$  $\\alpha\\,5\\,u_{1}(t)+\\beta\\,5\\,u_{2}(t)$\n",
    "\n",
    "$\\alpha\\,5\\,u_{1}(t)+\\beta\\,5,u_{2}(t)=\\alpha\\,5\\,u_{1}(t)+\\beta\\,5\\,u_{2}(t)$\n",
    "\n",
    "\n",
    "por lo tanto el sistema es lineal.\n",
    "\n"
   ]
  },
  {
   "attachments": {},
   "cell_type": "markdown",
   "metadata": {
    "colab_type": "text",
    "id": "rosiWjBXWW9E"
   },
   "source": [
    "---\n",
    "\n",
    "\n",
    "\n",
    "*   $g(t)=\\sqrt{u(t)}$ \n",
    "\n",
    "$L\\left\\{ \\alpha f_{1}\\left(x\\right)+\\beta f_{2}\\left(x\\right)\\right\\}$ $=$ $\\alpha L\\left\\{ f_{1}(x)\\right\\} +\\beta L\\left\\{ f_{2}(x)\\right\\}$\n",
    "\n",
    "\n",
    "$\\sqrt{\\left(\\alpha u_{1}(t)+\\beta u_{2}(t)\\right)}$ $=?$ $ \\alpha\\sqrt{u_{1}(t)}+\\beta\\sqrt{u_{2}(t)}$\n",
    "\n",
    "\n",
    "por lo tanto el sistema no es lineal. \n",
    "\n",
    "\n"
   ]
  },
  {
   "cell_type": "markdown",
   "metadata": {
    "colab_type": "text",
    "id": "vdkgDyPlWY2n"
   },
   "source": [
    "---\n",
    "\n",
    "\n",
    "\n",
    "*   $g(t)=u(t)\\,\\cos\\left(\\omega t\\right)$   \n",
    "\n",
    "$L\\left\\{ \\alpha f_{1}\\left(x\\right)+\\beta f_{2}\\left(x\\right)\\right\\} =\\alpha L\\left\\{ f_{1}(x)\\right\\} +\\beta L\\left\\{ f_{2}(x)\\right\\}$\n",
    "\n",
    "$(\\alpha u_{1}(t)+\\beta u_{2}(t))\\cos\\left(\\omega t\\right)$ $=?$ $\\alpha u_{1}(t)\\cos\\left(\\omega t\\right)+\\beta u_{2}(t)\\cos\\left(\\omega t\\right) $\n",
    "\n",
    "$(\\alpha u_{1}(t)+\\beta u_{2}(t))\\cos\\left(\\omega t\\right)$ $=$ $(\\alpha u_{1}(t)+\\beta u_{2}(t))\\cos\\left(\\omega t\\right) $\n",
    "\n",
    "por lo tanto el sistema es lineal. \n",
    "\n",
    "\n"
   ]
  },
  {
   "cell_type": "markdown",
   "metadata": {
    "colab_type": "text",
    "id": "VaHi5JYXWgRB"
   },
   "source": [
    "\n",
    "---\n",
    "\n",
    "\n",
    "*   $g(t)=\\frac{1}{1+\\exp\\left(-u(t)\\right)}$  \n",
    "\n",
    "$L\\left\\{ \\alpha f_{1}\\left(x\\right)+\\beta f_{2}\\left(x\\right)\\right\\}$ $=$ $\\alpha L\\left\\{ f_{1}(x)\\right\\} +\\beta L\\left\\{ f_{2}(x)\\right\\}$\n",
    "\n",
    "$\\frac{1}{1+\\exp\\left(-\\alpha u_{1}(t)-\\beta u_{2}(t)\\right)}$ $=?$  $\\frac{\\alpha}{1+\\exp\\left(-u_{1}(t)\\right)}+\\frac{\\beta}{1+\\exp\\left(-u_{2}(t)\\right)}$\n",
    "\n",
    "$\\frac{1}{1+\\exp\\left(-\\alpha u_{1}(t)\\right)\\exp\\left(-\\beta u_{2}(t)\\right)}$ $=?$  $\\frac{\\alpha\\left(1+\\exp\\left(-u_{2}(t)\\right)\\right)+\\beta\\left(1+\\exp\\left(-u_{1}(t)\\right)\\right)}{\\left(1+\\exp\\left(-u_{1}(t)\\right)\\right)\\left(1+\\exp\\left(-u_{2}(t)\\right)\\right)}$\n",
    "\n",
    "\n",
    "por lo que el sistema es no lineal.\n",
    "\n"
   ]
  },
  {
   "cell_type": "markdown",
   "metadata": {
    "colab_type": "text",
    "id": "3uCtcT9FFQ_X"
   },
   "source": [
    "## Instalar dependencias"
   ]
  },
  {
   "cell_type": "markdown",
   "metadata": {},
   "source": [
    "**numpy**: https://numpy.org/"
   ]
  },
  {
   "cell_type": "code",
   "execution_count": 1,
   "metadata": {
    "colab": {
     "base_uri": "https://localhost:8080/",
     "height": 35
    },
    "colab_type": "code",
    "id": "yqk8N_AeFRFX",
    "outputId": "725587d3-4068-4616-e43a-f307417be591"
   },
   "outputs": [],
   "source": [
    "###############################################################################\n",
    "import numpy as np\n",
    "###############################################################################\n"
   ]
  },
  {
   "cell_type": "markdown",
   "metadata": {
    "colab_type": "text",
    "id": "CrarwtFB60_N"
   },
   "source": [
    "# Vectores: magnitud, dirección, sentido\n",
    "\n",
    "**Definición:** Un vector es una colección de $n$ números ordenados, comúnmente escritos como una columna:\n",
    "$$$$\n",
    "\n",
    "$$\n",
    "x = \\begin{bmatrix}x_1 \\\\ x_2 \\\\ ... \\\\ x_n\\end{bmatrix}\n",
    "$$\n",
    "\n",
    "$$$$\n",
    "Los números $x_1, ... , x_n$ son coordenadas o componentes del vector $x$. \n",
    "$$$$\n",
    "Los componentes de un vector normalmente son números reales o complejos. En el primer caso $x_i \\in\\mathbb{R}^n$, en el segundo $x_i \\in \\mathbb{C}^n$.\n",
    "\n",
    "Los vectores también se pueden representar como líneas en espacio $n$-dimensional\n",
    "$$$$\n",
    "\n",
    "![](https://drive.google.com/uc?id=1RhR0ukfBlZrApIhE05vD2TfHjPzPL4mi)\n",
    "\n",
    "**Fuente:** https://www.fisic.ch/contenidos/elementos-matem%C3%A1ticos-b%C3%A1sicos/vectores/#:~:text=Direcci%C3%B3n%3A%20corresponde%20a%20la%20inclinaci%C3%B3n,puntos%20cardinales%20para%20la%20direcci%C3%B3n.\n",
    "\n",
    "**Dirección:** Corresponde a la inclinación de la recta y representa el ángulo entre ella y un eje horizontal imaginario.\n",
    "\n",
    "**Longitud, magnitud o módulo:** Está representado por el tamaño del vector y representa la intensidad de la magnitud.\n",
    "\n",
    "**Sentido:** Indicado por la punta de la flecha.\n",
    "\n",
    "Dos líneas que describen un vector pueden tener la misma dirección y la misma longitud, pero originarse en puntos diferentes. La convención estándar es que puntos en $\\mathbb{R}^2$, por ejemplo, son dibujados en el plano de coordenadas desde el origen (0, 0) hasta el punto $A$, donde los puntos $x_1, x_2$ de $A$, representan los componentes.\n"
   ]
  },
  {
   "cell_type": "code",
   "execution_count": 2,
   "metadata": {
    "colab": {
     "base_uri": "https://localhost:8080/",
     "height": 34
    },
    "colab_type": "code",
    "id": "kjkc4mSb5m04",
    "outputId": "4f176408-749d-4bbb-cd04-fe4f84ac0a8f"
   },
   "outputs": [
    {
     "name": "stdout",
     "output_type": "stream",
     "text": [
      "[1. 4. 5. 6.]\n",
      "4\n"
     ]
    }
   ],
   "source": [
    "x = np.array( [1.,4.,5.,6.], dtype=np.float64 )\n",
    "print(x)\n",
    "print( len( x )  )"
   ]
  },
  {
   "cell_type": "code",
   "execution_count": 3,
   "metadata": {},
   "outputs": [
    {
     "name": "stdout",
     "output_type": "stream",
     "text": [
      "int32\n"
     ]
    }
   ],
   "source": [
    "x = np.array([3,5,7])\n",
    "print( x.dtype)"
   ]
  },
  {
   "cell_type": "code",
   "execution_count": 4,
   "metadata": {},
   "outputs": [
    {
     "name": "stdout",
     "output_type": "stream",
     "text": [
      "float64\n"
     ]
    }
   ],
   "source": [
    "x = np.array([3.0, 5,7.33])\n",
    "print( x.dtype)"
   ]
  },
  {
   "cell_type": "code",
   "execution_count": 6,
   "metadata": {},
   "outputs": [
    {
     "data": {
      "text/plain": [
       "array([3, 4, 4, 5, 7, 6])"
      ]
     },
     "execution_count": 6,
     "metadata": {},
     "output_type": "execute_result"
    }
   ],
   "source": [
    "s = np.array([3,4 , 4,5, 7,6])\n",
    "s\n"
   ]
  },
  {
   "cell_type": "code",
   "execution_count": 7,
   "metadata": {},
   "outputs": [
    {
     "data": {
      "text/plain": [
       "array([3.4, 4.5, 7.6])"
      ]
     },
     "execution_count": 7,
     "metadata": {},
     "output_type": "execute_result"
    }
   ],
   "source": [
    "s2 = np.array([3.4 , 4.5, 7.6])\n",
    "s2"
   ]
  },
  {
   "cell_type": "markdown",
   "metadata": {},
   "source": [
    "**Tipos en numpy:** https://numpy.org/doc/stable/user/basics.types.html"
   ]
  },
  {
   "cell_type": "markdown",
   "metadata": {
    "colab_type": "text",
    "id": "IX5GLlF4659a"
   },
   "source": [
    "# Operaciones con vectores\n",
    "\n",
    "**Definición**: El producto del vector $x$ por el escalar $\\alpha$ es un vector\n",
    "$$$$\n",
    "$$\n",
    "\\alpha x = \\alpha \\begin{bmatrix}x_1 \\\\ x_2 \\\\ ... \\\\ x_n\\end{bmatrix} = \n",
    "            \\begin{bmatrix} \\alpha x_1 \\\\ \\alpha x_2 \\\\ ... \\\\ \\alpha x_n\\end{bmatrix}\n",
    "$$\n",
    "\n",
    "$$$$\n",
    "\n",
    "Los vectores $a$ and $b$ para los que existe un escalar $\\alpha$ que cumple $a = \\alpha b$ or $b = \\alpha a$, son llamados $\\mathbf{vectores~colineales}$. Estos vectores, como su nombre sugiere, se encuentran sobre líneas paralelas."
   ]
  },
  {
   "cell_type": "code",
   "execution_count": 8,
   "metadata": {
    "colab": {
     "base_uri": "https://localhost:8080/",
     "height": 122
    },
    "colab_type": "code",
    "id": "0u_RoE5Y58lI",
    "outputId": "b2714915-ba06-4336-de33-ff4663eefa43"
   },
   "outputs": [
    {
     "name": "stdout",
     "output_type": "stream",
     "text": [
      "10.0\n",
      "[1. 4. 5. 6.]\n",
      "[10. 40. 50. 60.]\n"
     ]
    }
   ],
   "source": [
    "# producto de un escalar por un vector\n",
    "a =10.\n",
    "print( a )\n",
    "x = np.array( [1.,4.,5.,6.])\n",
    "print( x )\n",
    "ax = a * x\n",
    "print( ax )"
   ]
  },
  {
   "cell_type": "code",
   "execution_count": 9,
   "metadata": {},
   "outputs": [
    {
     "name": "stdout",
     "output_type": "stream",
     "text": [
      "[1. 4. 5. 6.]\n",
      "True\n",
      "Son colineales\n"
     ]
    }
   ],
   "source": [
    "# vectores colineales\n",
    "a = np.array( [1.,4.,5.,6.])\n",
    "b = np.array( [10.,40.,50.,60.])\n",
    "alpha = 0.1\n",
    "print( alpha * b )\n",
    "comparacion = np.array_equal( a , alpha * b) \n",
    "print( comparacion )\n",
    "# 1 es True y 0 es False\n",
    "if comparacion == True:\n",
    "  print(\"Son colineales\")\n",
    "else:\n",
    "  print(\"No son colineales\")"
   ]
  },
  {
   "cell_type": "code",
   "execution_count": 10,
   "metadata": {
    "colab": {
     "base_uri": "https://localhost:8080/",
     "height": 70
    },
    "colab_type": "code",
    "id": "WVKibY9Hcq_R",
    "outputId": "a9395a1d-8edf-43b0-b9c6-86ef75c06078"
   },
   "outputs": [
    {
     "name": "stdout",
     "output_type": "stream",
     "text": [
      "True\n",
      "2.0\n",
      "2.6666666666666665\n",
      "2\n",
      "3\n"
     ]
    }
   ],
   "source": [
    "print( max( True, False)  )\n",
    "print(  40.0 // 15.0)\n",
    "print( 40.0 / 15.0 )\n",
    "print( 19 // 8)\n",
    "print( 19 % 8 )"
   ]
  },
  {
   "cell_type": "code",
   "execution_count": 12,
   "metadata": {},
   "outputs": [
    {
     "name": "stdout",
     "output_type": "stream",
     "text": [
      "0.3\n"
     ]
    }
   ],
   "source": [
    "porcentajeGrasa = 0.30\n",
    "print( porcentajeGrasa)"
   ]
  },
  {
   "cell_type": "markdown",
   "metadata": {
    "colab_type": "text",
    "id": "DwxhkwGG65zy"
   },
   "source": [
    "## Suma de vectores\n",
    "\n",
    "**Definición:** La suma de dos vectores $x$ y $y$ es un vector (aplica para la resta - )\n",
    "$$$$\n",
    "$$\n",
    " x + y = \\begin{bmatrix}x_1 \\\\ x_2 \\\\ ... \\\\ x_n\\end{bmatrix} + \n",
    "         \\begin{bmatrix}y_1 \\\\ y_2 \\\\ ... \\\\ y_n\\end{bmatrix} = \n",
    "         \\begin{bmatrix} x_1 + y_1 \\\\ x_2 + y_2 \\\\ ... \\\\ x_n + y_n \\end{bmatrix}\n",
    "$$\n",
    "$$$$\n",
    "**Atención!** Los vectores que se suman deben tener el mismo número de componentes."
   ]
  },
  {
   "cell_type": "code",
   "execution_count": 5,
   "metadata": {
    "colab": {
     "base_uri": "https://localhost:8080/",
     "height": 70
    },
    "colab_type": "code",
    "id": "lmtNkXJrDn0I",
    "outputId": "f9ecb7d5-907d-4069-b854-75b84222ef51"
   },
   "outputs": [
    {
     "name": "stdout",
     "output_type": "stream",
     "text": [
      "[11. 44. 55. 66.]\n",
      "[ 9. 36. 45. 54.]\n",
      "[11. 44. 55. 66.]\n"
     ]
    }
   ],
   "source": [
    "\n",
    "x = np.array( [1,4,5,6], dtype=np.float64)\n",
    "y = np.array( [10,40,50,60], dtype=np.float64)\n",
    "z1 = x + y\n",
    "print( z1 )\n",
    "z2 = y - x\n",
    "print( z2 )\n",
    "\n",
    "# Otra forma\n",
    "z3 = np.add(x, y) \n",
    "print(z3)"
   ]
  },
  {
   "cell_type": "markdown",
   "metadata": {
    "colab_type": "text",
    "id": "cQ3bycsH7EuL"
   },
   "source": [
    "## Vector nulo\n",
    "\n",
    "**Definición:** El vector $0$ se define como el vector que causa $a + 0 = a$ y $0 + a = a$\n",
    "para cada vector $a$. Todos los componentes del vector cero son igual a $0$. Cada vector $a$ tiene un vector opuesto $-a$ tal que $a + (-a) = 0$. La diferencia de dos vectores $a$ y $b$ es la suma $a + (-b)$ y se escribe de la misma forma que la operación básica para escalares $a - b$.\n",
    "$$$$\n",
    "$$\n",
    " a + 0 = \\begin{bmatrix}a_1 \\\\ a_2 \\\\ ... \\\\ a_n\\end{bmatrix} + \n",
    "         \\begin{bmatrix} 0 \\\\ 0 \\\\ ... \\\\ 0\\end{bmatrix} = \n",
    "         \\begin{bmatrix} a_1 \\\\ a_2 \\\\ ... \\\\ a_n\\end{bmatrix} = 0 + a = a\n",
    "$$"
   ]
  },
  {
   "cell_type": "code",
   "execution_count": 6,
   "metadata": {
    "colab": {
     "base_uri": "https://localhost:8080/",
     "height": 122
    },
    "colab_type": "code",
    "id": "qaGD4le-EoWG",
    "outputId": "16ee7bf4-a855-46c8-bebf-e0ed18405e21"
   },
   "outputs": [
    {
     "name": "stdout",
     "output_type": "stream",
     "text": [
      "[1. 4. 5. 6. 4. 3. 8.]\n",
      "[0. 0. 0. 0. 0. 0. 0.]\n",
      "[1. 4. 5. 6. 4. 3. 8.]\n",
      "largo 7\n"
     ]
    }
   ],
   "source": [
    "x = np.array( [1.,4.,5.,6. , 4. , 3., 8.])\n",
    "print( x )\n",
    "largo = x.shape[0]\n",
    "nulo = np.zeros( largo  )\n",
    "print( nulo )\n",
    "z = x + nulo\n",
    "print( z )\n",
    "print( \"largo\", largo)"
   ]
  },
  {
   "cell_type": "code",
   "execution_count": 13,
   "metadata": {},
   "outputs": [
    {
     "data": {
      "text/plain": [
       "array([0.64119066, 0.29300936, 0.48150388, 0.24873508])"
      ]
     },
     "execution_count": 13,
     "metadata": {},
     "output_type": "execute_result"
    }
   ],
   "source": [
    "x = np.random.rand(4)\n",
    "x"
   ]
  },
  {
   "cell_type": "markdown",
   "metadata": {},
   "source": [
    "**Recurso adicional:** \n",
    "- Video: Vectores, ¿qué son realmente? Esencia del álgebra lineal\n",
    "\n",
    "- https://www.youtube.com/watch?v=fNk_zzaMoSs&list=PLZHQObOWTQDPD3MizzM2xVFitgF8hE_ab&index=1\n"
   ]
  },
  {
   "cell_type": "markdown",
   "metadata": {
    "colab_type": "text",
    "id": "frWoMOaz7EcR"
   },
   "source": [
    "## Combinación lineal de vectores\n",
    "\n",
    "Cuando el producto por un escalar es combinado en secuencia con operaciones con otros vectores, obtenemos combinaciones lineales.\n",
    "\n",
    "\n",
    "**Definición:** La combinación lineal de vectores $x$ e $y$ es la suma $\\alpha x + \\beta y$.\n",
    "\n",
    "$$\n",
    " \\alpha x + \\beta y = \\alpha \\begin{bmatrix}x_1 \\\\ x_2 \\\\ ... \\\\ x_n\\end{bmatrix} + \n",
    "       \\beta \\begin{bmatrix}y_1 \\\\ y_2 \\\\ ... \\\\ y_n\\end{bmatrix}\n",
    "$$\n",
    "$$$$\n",
    "De manera similar, una combinación lineal de varios vectores puede ser construída en secuencia, e.g.\n",
    "$\\alpha a + \\beta b + · · · + \\zeta z$ es una combinación lineal de vectores $a, b, ... , z$.\n",
    "\n",
    "\n",
    "**Atención!** Todos los vectores en la combinación lineal deben tener la misma cantidad de componentes\n",
    "\n",
    "\n"
   ]
  },
  {
   "cell_type": "code",
   "execution_count": 14,
   "metadata": {
    "colab": {
     "base_uri": "https://localhost:8080/",
     "height": 34
    },
    "colab_type": "code",
    "id": "CDOeGiu0EkgC",
    "outputId": "31d66a5e-19b8-49e5-ea05-f94cbc696601"
   },
   "outputs": [
    {
     "name": "stdout",
     "output_type": "stream",
     "text": [
      "[ 3. 12. 15. 18.]\n",
      "[ 70. 280. 350. 420.]\n",
      "[ 73. 292. 365. 438.]\n"
     ]
    }
   ],
   "source": [
    "x = np.array( [1,4,5,6], dtype=np.float64)\n",
    "y = np.array( [10,40,50,60], dtype=np.float64)\n",
    "alpha = 3.\n",
    "beta = 7.\n",
    "parte1 = ( alpha * x )\n",
    "parte2 = (beta * y)\n",
    "r =  parte1 + parte2\n",
    "print(parte1)\n",
    "print(parte2)\n",
    "print(r)\n"
   ]
  },
  {
   "cell_type": "markdown",
   "metadata": {
    "colab_type": "text",
    "id": "s_ixDh1n7ELi"
   },
   "source": [
    "## Producto escalar (producto punto, producto interno)\n",
    "\n",
    "\n",
    "**Definición:** El producto escalar de vectores\n",
    "\n",
    "$x = \\begin{bmatrix}x_1 \\\\ x_2 \\\\ ... \\\\ x_n\\end{bmatrix}$ e \n",
    "$y = \\begin{bmatrix}y_1 \\\\ y_2 \\\\ ... \\\\ y_n\\end{bmatrix}$ \n",
    "\n",
    "es el número $x \\cdot y = x_1y_1 + x_2y_2 + · · · + x_ny_n$.  \n",
    "\n",
    "\n",
    "**Atención!** Los vectores utilizados en el producto escalar deben tener el mismo número de componentes.\n",
    "\n",
    "$$$$\n",
    "\n",
    "Puede ser fácilmente verificado que el producto escalar tiene las siguientes propiedades:\n",
    "    \n",
    "$$$$\n",
    "$\\mathbf{Propiedad~1:}$ Conmutativa: $x · y = y · x$.\n",
    "$$$$\n",
    "$\\mathbf{Propiedad~2:}$ Distributiva: $x · (y + z) = x · y + x · z$.\n",
    "$$$$\n",
    "$\\mathbf{Propiedad~3:}$ Asociativa: $x · (\\alpha y) = \\alpha(x · y) = (\\alpha x) · y$.\n",
    "\n",
    "**Recurso adicional:** \n",
    "- Video: Producto escalar (solo el inicio del video)\n",
    "- https://www.youtube.com/watch?v=LyGKycYT2v0&list=PLZHQObOWTQDPD3MizzM2xVFitgF8hE_ab&index=9\n"
   ]
  },
  {
   "cell_type": "code",
   "execution_count": 15,
   "metadata": {
    "colab": {
     "base_uri": "https://localhost:8080/",
     "height": 34
    },
    "colab_type": "code",
    "id": "LknCHIiutZoU",
    "outputId": "2c3fecba-e04d-4887-9f7e-97129733a380"
   },
   "outputs": [
    {
     "name": "stdout",
     "output_type": "stream",
     "text": [
      "94.0\n"
     ]
    }
   ],
   "source": [
    "x = np.array( [1,4,5,6], dtype=np.float64)\n",
    "y = np.array( [5,7,5,6], dtype=np.float64)\n",
    "r =  np.dot( x ,  y )\n",
    "print(r)"
   ]
  },
  {
   "cell_type": "markdown",
   "metadata": {
    "colab_type": "text",
    "id": "gRg8HuoN7Whu"
   },
   "source": [
    "## Largo, norma\n",
    "En el conjunto $\\mathbb{R}^2$ se puede utilizar la regla de Pitágoras para calcular el largo de un vector. Los catetos están formados por el eje de las $x$, siguiendo la distancia indicada por el vector, y una línea paralela al eje $y$. De esta forma, se tiene un triángulo rectangular cuya hipotenusa es el vector en cuestión. Su largo, por ende, se puede calcular como $\\sqrt{x^2 + y^2}$.\n",
    "\n",
    "$$$$\n",
    "Para vectores en más dimensiones $\\mathbb{R}^N$, el largo del vector puede ser calculado de manera similar:\n",
    "$x_1^2 + x_2^2 + ... + x_n^2$, que puede ser expresado en forma de vector como $\\sqrt{x \\cdot x}$.\n",
    "    \n",
    "\n",
    "\n",
    "$$$$\n",
    "$\\mathbf{Definicion:}$ El largo del vector x es\n",
    "$ \\|x\\| = \\sqrt{x \\cdot x}$.\n",
    "$$$$\n",
    "\n",
    "\n",
    "$$$$\n",
    "$\\mathbf{Definicion:}$ El vector unitario tiene un largo de $1$.\n",
    "$$$$"
   ]
  },
  {
   "cell_type": "markdown",
   "metadata": {
    "colab_type": "text",
    "id": "SIgZCNaRMT7W"
   },
   "source": [
    "**Norma**\n",
    "\n",
    "El concepto de largo (longitud, magnitud o módulo) visto anteriormente, se conoce como la distancia Eucliciana o norma $\\ell_{2}$, la cual se refiere al largo de un vector, como vimos. La norma euclidiana se puede reescribir como:\n",
    "\n",
    "$$\\left\\Vert x\\right\\Vert _{2}=\\sqrt{\\sum_{i=1}^{n}x_{i}^{2}}$$\n",
    "\n",
    "\n",
    "Generalizando la ecuación anterior como una norma $\\ell_{p}$, con $p\\geq1$, se tiene que:\n",
    "\n",
    "$$\\left\\Vert x\\right\\Vert _{p}=\\left(\\sum_{i=1}^{n}\\left|x_{i}\\right|^{p}\\right)^{1/p}$$\n",
    "\n",
    "A partir de tal definición general, se tiene la norma $\\ell_{1}$ también conocida como Manhattan o distancia de bloques: \n",
    "\n",
    "$$\\left\\Vert x\\right\\Vert _{1}=\\left(\\sum_{i=1}^{n}\\left|x_{i}\\right|\\right)$$\n",
    "\n",
    "La norma $\\ell_{\\infty}$ se define entonces como: \n",
    "\n",
    "$$\\left\\Vert x\\right\\Vert _{\\infty}=\\left(\\sum_{i=1}^{n}\\left|x_{i}\\right|^{\\infty}\\right)^{1/\\infty}$$\n",
    "\n",
    "\n"
   ]
  },
  {
   "cell_type": "code",
   "execution_count": 16,
   "metadata": {
    "colab": {
     "base_uri": "https://localhost:8080/",
     "height": 87
    },
    "colab_type": "code",
    "id": "Fruda2sTt9g4",
    "outputId": "c983f25b-fe1f-42b3-8a05-b74b44903091"
   },
   "outputs": [
    {
     "name": "stdout",
     "output_type": "stream",
     "text": [
      "7.874007874011811\n",
      "7.230426792525689\n",
      "7.000001413660219\n"
     ]
    }
   ],
   "source": [
    "from numpy import linalg as LA\n",
    "\n",
    "x = np.array( [ 2. , 7., -3.] )\n",
    "\n",
    "# Norma 2\n",
    "normaX = LA.norm(x,2)\n",
    "print(normaX)\n",
    "\n",
    "# Norma 3\n",
    "normaX = LA.norm(x,3)\n",
    "print(normaX)\n",
    "\n",
    "# Norma 15\n",
    "normaX = LA.norm(x,15)\n",
    "print(normaX)\n",
    "\n"
   ]
  },
  {
   "cell_type": "code",
   "execution_count": null,
   "metadata": {},
   "outputs": [],
   "source": [
    "# Vector unitario\n",
    "x = np.array( [1.,0.,0.] )\n",
    "normaX = LA.norm(x)\n",
    "print(normaX)\n"
   ]
  },
  {
   "cell_type": "markdown",
   "metadata": {
    "colab_type": "text",
    "id": "wCl9eJ7k7YVZ"
   },
   "source": [
    "## Ángulo entre dos vectores\n",
    "$$$$\n",
    "$\\mathbf{Teorema:}$ Los vectores $x$ y $y$ son ortogonales (o rectangulares) exactamente cuando  $x · y = 0$.\n",
    "$$$$\n",
    "$\\mathbf{Teorema:}$ Si denotamos el ángulo entre dos vectores $x$ y $y$ como $\\varphi$ entonces\n",
    "$$$$\n",
    "$$\\frac{x \\cdot y}{\\|x\\| \\cdot \\|y\\|} = \\cos \\varphi$$"
   ]
  },
  {
   "cell_type": "markdown",
   "metadata": {
    "colab_type": "text",
    "id": "NImxSJuz2H36"
   },
   "source": [
    "Función seno:\n",
    "sin(θ) = Opuesto / Hipotenusa\n",
    "\n",
    "Función coseno:\n",
    "cos(θ) = Adyacente / Hipotenusa\n",
    "\n",
    "Función tangente:\n",
    "tan(θ) = Opuesto / Adyacente\n",
    "\n",
    "Función secante:\n",
    "sec(θ) = Hipotenusa / Adyacente\t(=1/cos)\n",
    "\n",
    "Función cosecante:\n",
    "csc(θ) = Hipotenusa / Opuesto\t(=1/sin)\n",
    "\n",
    "Función cotangente:\n",
    "cot(θ) = Adyacente / Opuesto\t(=1/tan)\n"
   ]
  },
  {
   "cell_type": "code",
   "execution_count": 10,
   "metadata": {
    "colab": {
     "base_uri": "https://localhost:8080/",
     "height": 304
    },
    "colab_type": "code",
    "id": "UT2uKqHyxqQI",
    "outputId": "d4fa6175-8d44-452f-c6e7-0f50494b0954"
   },
   "outputs": [
    {
     "data": {
      "image/png": "[encoded data removed]",
      "text/plain": [
       "<Figure size 432x288 with 1 Axes>"
      ]
     },
     "metadata": {
      "needs_background": "light"
     },
     "output_type": "display_data"
    },
    {
     "name": "stdout",
     "output_type": "stream",
     "text": [
      "coseno del ángulo_Fi:  0.0\n",
      "En Radianes el ángulo_Fi:  1.5707963267948966\n",
      "En Grados el ángulo_Fi:  90.0\n"
     ]
    }
   ],
   "source": [
    "import matplotlib.pyplot as plt\n",
    "import numpy as np\n",
    "from numpy import linalg as LA\n",
    "import math\n",
    "%matplotlib inline\n",
    "\n",
    "# graficar\n",
    "X = np.array([0.,0.] )\n",
    "Y = np.array([0.,0.] )\n",
    "U = np.array([0.,4.] )\n",
    "V = np.array([7.,0.] )\n",
    "\n",
    "\n",
    "fig, ax = plt.subplots()\n",
    "ax.quiver(X, Y, U, V,color=[\"r\",\"b\"],angles='xy', scale_units='xy', scale=1)\n",
    "ax.axis([-10.,10.,-10.,10.])\n",
    "ax.set_aspect('equal')\n",
    "plt.show()\n",
    "\n",
    "x = np.array( [U[0], V[0] ] )\n",
    "y = np.array( [U[1], V[1] ] )\n",
    "cosFI = np.dot(x,y) / ( np.dot( LA.norm(x), LA.norm(y) ))\n",
    "print(\"coseno del ángulo_Fi: \",  cosFI )\n",
    "radianes = math.acos(cosFI)\n",
    "print(\"En Radianes el ángulo_Fi: \", radianes)\n",
    "grados = math.degrees( radianes )\n",
    "print(\"En Grados el ángulo_Fi: \", grados )\n",
    "\n",
    "# Trigonometría en Python\n",
    "# http://elclubdelautodidacta.es/wp/2013/03/trigonometria-en-python/\n",
    "\n",
    "# Radianes y grados\n",
    "# https://www.montereyinstitute.org/courses/DevelopmentalMath/TEXTGROUP-15-19_RESOURCE/U19_L2_T1_text_final_es.html\n"
   ]
  },
  {
   "cell_type": "markdown",
   "metadata": {},
   "source": [
    "Los radianes y los grados están relacionados por $360^{\\circ} = 2 \\cdot \\pi \\cdot radianes$. \n",
    "\n",
    "Si se quiere convertir de grados a radianes, se multiplica la medida en grados por $\\frac{\\pi}{180^{\\circ}}$\n",
    "\n",
    "Si se quiere convertir de radianes a grados, se multiplica la medida en radianes por $\\frac{180^{\\circ}}{\\pi}$"
   ]
  },
  {
   "cell_type": "markdown",
   "metadata": {
    "colab_type": "text",
    "id": "AH_sp76k7clR"
   },
   "source": [
    "## Dirección de un vector\n",
    "$$$$\n",
    "$\\mathbf{Teorema:}$ Un vector $x$ puede ser normalizado al dividir sus componentes por el largo $\\|x\\|$: $x_{norma} = \\frac{x}{\\|x\\|}$. \n",
    "El vector $x_{norma}$ representa la dirección del vector inicial.\n",
    "    \n",
    "$$$$\n",
    "Podemos escribir los componentes del vector normalizado como cosenos direccionales: \n",
    "        \n",
    "$$x_{norma} = \\begin{bmatrix} \\frac{x_1}{\\|x\\|} \\\\ \\frac{x_2}{\\|x\\|} \\\\ \\frac{x_3}{\\|x\\|} \\end{bmatrix}\n",
    "= \\begin{bmatrix} \\cos \\alpha \\\\ \\cos \\beta \\\\ \\cos \\gamma \\end{bmatrix}, $$\n",
    "\n",
    "donde $\\alpha, \\beta, \\gamma$ son los ángulos direccionales definidos con respecto a los ejes base.\n"
   ]
  },
  {
   "cell_type": "code",
   "execution_count": 11,
   "metadata": {
    "colab": {
     "base_uri": "https://localhost:8080/",
     "height": 52
    },
    "colab_type": "code",
    "id": "GUOIzpHnLBRs",
    "outputId": "e47c6379-9446-4858-d406-96ab72eecf42"
   },
   "outputs": [
    {
     "data": {
      "image/png": "[encoded data removed]",
      "text/plain": [
       "<Figure size 432x288 with 1 Axes>"
      ]
     },
     "metadata": {
      "needs_background": "light"
     },
     "output_type": "display_data"
    },
    {
     "name": "stdout",
     "output_type": "stream",
     "text": [
      "X:  [4. 7.]\n",
      "X_norma:  [0.49613894 0.86824314]\n",
      "Vector normalizado en Grados:  60.25511870305777 29.74488129694221\n"
     ]
    }
   ],
   "source": [
    "x = np.array( [4.] )\n",
    "y = np.array( [ 7.] )\n",
    "\n",
    "fig, ax = plt.subplots()\n",
    "origen= np.array([0.] )\n",
    "ax.quiver(origen, origen, x, y, color=[\"r\"],angles='xy', scale_units='xy', scale=1)\n",
    "ax.axis([-10.,10.,-10.,10.])\n",
    "ax.set_aspect('equal')\n",
    "plt.show()\n",
    "\n",
    "X = np.array( [ x[0], y[0] ] )\n",
    "print( \"X: \", X )\n",
    "normaX = LA.norm(X)\n",
    "X_norm = X / normaX\n",
    "print( \"X_norma: \", X_norm)\n",
    "coseno_a = X_norm[0]\n",
    "coseno_b = X_norm[1]\n",
    "\n",
    "radianes_a = math.acos(coseno_a)\n",
    "radianes_b = math.acos(coseno_b)\n",
    "\n",
    "grados_a = math.degrees( radianes_a )\n",
    "grados_b = math.degrees( radianes_b )\n",
    "\n",
    "print(\"Vector normalizado en Grados: \", grados_a, grados_b )\n",
    "\n"
   ]
  },
  {
   "cell_type": "markdown",
   "metadata": {
    "colab_type": "text",
    "id": "rkToAidB7f0b"
   },
   "source": [
    "## Producto vectorial (producto cruz)\n",
    "\n",
    "**Definición:** El producto de dos vectores $a$ y $b$ es otro vector: \n",
    "\n",
    "$$ a \\times b = \\begin{bmatrix}a_1 \\\\ a_2 \\\\ a_3\\end{bmatrix} \\times \n",
    "              \\begin{bmatrix} b_1 \\\\ b_2 \\\\ b_3\\end{bmatrix} = \n",
    "              \\begin{bmatrix}a_2 b_3 - a_3 b_2 \\\\ a_3 b_1 - a_1 b_3 \\\\ a_1 b_2 - a_2 b_1\\end{bmatrix} $$\n",
    "\n",
    "\n",
    "El producto cruz $a \\times b$ es un vector que es perpendicular al plano en el que los vectores $a$ y $b$ se encuentran.\n",
    "\n",
    "Su largo es igual al paralelogramo que los vectores $a$ y $b$ contienen.\n"
   ]
  },
  {
   "cell_type": "code",
   "execution_count": 12,
   "metadata": {
    "colab": {
     "base_uri": "https://localhost:8080/",
     "height": 34
    },
    "colab_type": "code",
    "id": "U6exHvUgLo5Q",
    "outputId": "9cf1e0ee-b9ca-4a05-9d52-52c2af251fd3"
   },
   "outputs": [
    {
     "name": "stdout",
     "output_type": "stream",
     "text": [
      "[ -5.  15. -10.]\n"
     ]
    }
   ],
   "source": [
    "x = np.array( [1. , 3. , 4. ])\n",
    "y = np.array( [4. , 2. , 1. ])\n",
    "r = np.cross( x, y)\n",
    "print( r )"
   ]
  },
  {
   "cell_type": "markdown",
   "metadata": {},
   "source": [
    "**Video: ** https://www.youtube.com/watch?v=eu6i7WJeinw&list=PLZHQObOWTQDPD3MizzM2xVFitgF8hE_ab&index=11"
   ]
  },
  {
   "cell_type": "code",
   "execution_count": null,
   "metadata": {},
   "outputs": [],
   "source": []
  }
 ],
 "metadata": {
  "accelerator": "GPU",
  "colab": {
   "collapsed_sections": [],
   "name": "1_LACV_BasicsLinearAlgebra.ipynb",
   "provenance": []
  },
  "kernelspec": {
   "display_name": "Python 3 (ipykernel)",
   "language": "python",
   "name": "python3"
  },
  "language_info": {
   "codemirror_mode": {
    "name": "ipython",
    "version": 3
   },
   "file_extension": ".py",
   "mimetype": "text/x-python",
   "name": "python",
   "nbconvert_exporter": "python",
   "pygments_lexer": "ipython3",
   "version": "3.10.3"
  }
 },
 "nbformat": 4,
 "nbformat_minor": 1
}
