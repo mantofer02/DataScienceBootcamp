{
 "cells": [
  {
   "attachments": {},
   "cell_type": "markdown",
   "metadata": {},
   "source": [
    "# Quiz 1 | Aprendizaje Automático\n",
    "## Estudiante: Marco Ferraro"
   ]
  },
  {
   "attachments": {},
   "cell_type": "markdown",
   "metadata": {},
   "source": [
    "## 1.0 Cargar Datos y Visualizar\n",
    "\n",
    "En esta sección se cargan los datos y se visualizan para tener una idea de la distribución de los mismos. Adicionalmente se utilizará estadistica descriptiva para tener un mejor entendimiento de la naturaleza de los datos."
   ]
  },
  {
   "attachments": {},
   "cell_type": "markdown",
   "metadata": {},
   "source": [
    "### 1.1 Cargar Datos\n",
    "\n",
    "Se cargan los datos utilizando la librería pandas y se visualizan las primeras 5 filas para tener una idea de la estructura de los datos."
   ]
  },
  {
   "cell_type": "code",
   "execution_count": null,
   "metadata": {},
   "outputs": [],
   "source": [
    "import pandas as pd\n",
    "import matplotlib.pyplot as plt\n",
    "import numpy as np\n",
    "\n",
    "cars_df = pd.read_csv('./data/imports-85.data', header=None, delimiter=',')\n",
    "\n",
    "# Manually assign column names\n",
    "num_columns = len(cars_df.columns)\n",
    "column_names = ['column_{}'.format(i+1) for i in range(num_columns)]\n",
    "cars_df.columns = column_names\n",
    "\n",
    "cars_df.head()"
   ]
  },
  {
   "cell_type": "code",
   "execution_count": null,
   "metadata": {},
   "outputs": [],
   "source": [
    "cars_df.shape"
   ]
  },
  {
   "attachments": {},
   "cell_type": "markdown",
   "metadata": {},
   "source": [
    "### 1.2 Estadistica Descriptiva\n",
    "\n",
    "Se utiliza la función describe() de pandas para obtener estadistica descriptiva de los datos. Esto nos permite tener una idea de la distribución de los datos y de la naturaleza de los mismos. "
   ]
  },
  {
   "cell_type": "code",
   "execution_count": null,
   "metadata": {},
   "outputs": [],
   "source": [
    "cars_df.describe()"
   ]
  },
  {
   "attachments": {},
   "cell_type": "markdown",
   "metadata": {},
   "source": [
    "Recordemos que el data frame posee 26 columnas, pero estamos viendo solo las columna que posee datos numéricos, no las columnas que poseen datos categóricos.\n",
    "\n",
    "Llama la atencion que la columna 14 posee una desviación estandar de 520, lo cual es muy alto comparado con el resto de las columnas. Esto puede indicar que la columna posee valores atípicos o outliers."
   ]
  },
  {
   "attachments": {},
   "cell_type": "markdown",
   "metadata": {},
   "source": [
    "### 1.3 Visualización de Datos\n",
    "\n",
    "Se visualizan los datos utilizando la librería matplotlib. Al igual que la tarea anterior, se utilizarán varios gráficos para tener una idea de la distribución de los datos."
   ]
  },
  {
   "attachments": {},
   "cell_type": "markdown",
   "metadata": {},
   "source": [
    "#### 1.3.1 Boxplot\n",
    "\n",
    "El boxplot o diagrama de caja y bigotes es un gráfico que permite visualizar la distribución de los datos. Esta representación gráfica permite visualizar la mediana, los cuartiles, los valores atípicos y el rango intercuartil. \n",
    "\n",
    "Vamos a visualizar el diagrama de caja de cada columna con valores numéricos para tener una idea de la distribución de los datos. Empezaremos con la columna 1."
   ]
  },
  {
   "cell_type": "code",
   "execution_count": null,
   "metadata": {},
   "outputs": [],
   "source": [
    "plt.boxplot(cars_df['column_1'], vert=False)\n",
    "\n",
    "plt.xlabel('column_1')\n",
    "plt.ylabel('Boxplot')\n",
    "\n",
    "plt.title('Boxplot of column_1 in Cars Dataset')\n",
    "\n",
    "\n",
    "plt.show()"
   ]
  },
  {
   "attachments": {},
   "cell_type": "markdown",
   "metadata": {},
   "source": [
    "Podemos ver que la columna 1 mantiene valores entre -2 y 3. Sin embargo, este gráfico no nos aporta mucho ya que el describe de pandas nos representa valores númericos de forma exacta. La mejor opción es visualizar las columnas que se ven atipicas con este tipo de gráfico."
   ]
  },
  {
   "cell_type": "code",
   "execution_count": null,
   "metadata": {},
   "outputs": [],
   "source": [
    "plt.boxplot(cars_df['column_14'], vert=False)\n",
    "\n",
    "plt.xlabel('column_14')\n",
    "plt.ylabel('Boxplot')\n",
    "\n",
    "plt.title('Boxplot of column_1 in Cars Dataset')\n",
    "\n",
    "\n",
    "plt.show()"
   ]
  },
  {
   "attachments": {},
   "cell_type": "markdown",
   "metadata": {},
   "source": [
    "Al visualizar los valores de la columna 14 nos damos cuenta que posee un rango muy grande, y mantiene un rango intercuartil muy grande. Sin embargo, no se visualizan valores atípicos o outliers, a como se había mencionado anteriormente."
   ]
  },
  {
   "attachments": {},
   "cell_type": "markdown",
   "metadata": {},
   "source": [
    "#### 1.3.2 Matriz de Correlación\n",
    "\n",
    "Debido a las ensezanazas de la tarea anterior se utilizará una matriz de correlación para visualizar la relación entre las variables. Esto es de gran ayuda ya que podemo visualizar de una forma más clara cuales columnas poseen una relación lineal entre ellas. Recordemos que para esto solo vamos a utilizar las columnas que poseen valores numéricos."
   ]
  },
  {
   "cell_type": "code",
   "execution_count": null,
   "metadata": {},
   "outputs": [],
   "source": [
    "import seaborn as sns\n",
    "import matplotlib.pyplot as plt\n",
    "\n",
    "columns = ['column_1',\t'column_10', 'column_11',\t'column_12',\t'column_13', \t'column_14',\t'column_17',\t'column_21',\t'column_24',\t'column_25']\n",
    "\n",
    "matrix = cars_df[columns].corr()\n",
    "\n",
    "matrix"
   ]
  },
  {
   "cell_type": "code",
   "execution_count": null,
   "metadata": {},
   "outputs": [],
   "source": [
    "mask = np.triu(np.ones_like(matrix, dtype=bool))\n",
    "sns.heatmap(matrix, annot=True, fmt=\".0%\", mask=mask, cmap='coolwarm')\n",
    "\n",
    "# Display the plot\n",
    "plt.show()"
   ]
  },
  {
   "attachments": {},
   "cell_type": "markdown",
   "metadata": {},
   "source": [
    "Estamos ignorando la diagonal ya que la correlación de una variable consigo misma es 1.0. Dicho esto, podemos apreciar que la columna 24 con la columna 25 poseen una correlación de 97%, lo cual es muy alto. Esto nos indica que estas dos columnas poseen una relación lineal muy fuerte y de forma positiva. Hay otras relaciones que son de este nivel, como la 10 con la 11.\n",
    "\n",
    "La columna 13 y 17 poseen una correlacion del 7%, lo cual es muy bajo. Esto nos indica que estas dos columnas no poseen una relación lineal fuerte.\n",
    "\n",
    "Tambien podemos apreciar que columnas, como la 14 y 25 poseen una correlación negativa muy acentuada.\n",
    "\n",
    "Vamos a realizar un gráfico de dispersión para visualizar la relación entre este set de ejemplos"
   ]
  },
  {
   "attachments": {},
   "cell_type": "markdown",
   "metadata": {},
   "source": [
    "#### 1.3.3 Gráfico de Dispersión\n",
    "\n",
    "Se realizarán 3 gráficos de dispersión para visualizar la relación entre las variables. Se utilizarán las columnas 10 y 11, 13 y 17, y 14 y 25 ya que poseen una correlación muy fuerte, muy baja y negativa, respectivamente. Vamos a graficar una recta de mejor ajuste para visualizar la relación entre las variables."
   ]
  },
  {
   "cell_type": "code",
   "execution_count": null,
   "metadata": {},
   "outputs": [],
   "source": [
    "import numpy as np\n",
    "import matplotlib.pyplot as plt\n",
    "from sklearn.linear_model import LinearRegression\n",
    "\n",
    "def plot_scatter_plot(x, y, x_label='X', y_label='Y', title='Scatter Plot'):\n",
    "\n",
    "# Create a linear regression model\n",
    "  model = LinearRegression()\n",
    "  model.fit(x, y)\n",
    "\n",
    "  # Predict the y-values based on the linear regression model\n",
    "  y_pred = model.predict(x)\n",
    "\n",
    "# Create scatter plot\n",
    "  plt.scatter(x, y)\n",
    "\n",
    "# Add best-fit line\n",
    "  plt.plot(x, y_pred, color='red')\n",
    "\n",
    "# Add labels and title\n",
    "  plt.xlabel(x_label)\n",
    "  plt.ylabel(y_label)\n",
    "  plt.title(title)\n",
    "\n",
    "  plt.show()\n"
   ]
  },
  {
   "cell_type": "code",
   "execution_count": null,
   "metadata": {},
   "outputs": [],
   "source": [
    "plot_scatter_plot(cars_df['column_10'].values.reshape(-1, 1), cars_df['column_11'].values.reshape(-1, 1), 'column_10', 'column_11', 'Scatter Plot of column_10 vs column_11') "
   ]
  },
  {
   "cell_type": "code",
   "execution_count": null,
   "metadata": {},
   "outputs": [],
   "source": [
    "plot_scatter_plot(cars_df['column_13'].values.reshape(-1, 1), cars_df['column_17'].values.reshape(-1, 1), 'column_13', 'column_17', 'Scatter Plot of column_13 vs column_17')"
   ]
  },
  {
   "cell_type": "code",
   "execution_count": null,
   "metadata": {},
   "outputs": [],
   "source": [
    "plot_scatter_plot(cars_df['column_14'].values.reshape(-1, 1), cars_df['column_25'].values.reshape(-1, 1), 'column_14', 'column_25', 'Scatter Plot of column_14 vs column_25')"
   ]
  },
  {
   "attachments": {},
   "cell_type": "markdown",
   "metadata": {},
   "source": [
    "### 2.0 Atributos Categóricos\n",
    "\n",
    "En esta sección realizaremos una busqueda en el dataset para encontrar atributos categóricos. Una vez que encontremos que una columna posee datos categoricos vamos a buscar todas las etiquetas únicas y determinar si son ordinames o nominales."
   ]
  },
  {
   "cell_type": "code",
   "execution_count": null,
   "metadata": {},
   "outputs": [],
   "source": [
    "cars_df.head()"
   ]
  },
  {
   "cell_type": "code",
   "execution_count": null,
   "metadata": {},
   "outputs": [],
   "source": [
    "cars_df['column_3'].value_counts()\n"
   ]
  },
  {
   "attachments": {},
   "cell_type": "markdown",
   "metadata": {},
   "source": [
    "La columna 3 posee datos categoricos. Las etiquetas únicas correspondes a marcas de autos, por lo que son datos nominales. Vemos que la marca más popular es 'toyota' con 32 ejemplos, seguido por 'nissan' con 18 ejemplos."
   ]
  },
  {
   "cell_type": "code",
   "execution_count": null,
   "metadata": {},
   "outputs": [],
   "source": [
    "cars_df['column_4'].value_counts()"
   ]
  },
  {
   "attachments": {},
   "cell_type": "markdown",
   "metadata": {},
   "source": [
    "La columna 4 posee datos que corresponden a etiquetas con valores de `gas` o `diesel`. Estos datos son nominales ya que no existe un orden entre ellos. Vemos que la etiqueta más popular es `gas` con 185 ejemplos, seguido por `diesel` con 20 ejemplos."
   ]
  },
  {
   "cell_type": "code",
   "execution_count": null,
   "metadata": {},
   "outputs": [],
   "source": [
    "cars_df['column_5'].value_counts()"
   ]
  },
  {
   "attachments": {},
   "cell_type": "markdown",
   "metadata": {},
   "source": [
    "Otra columna con datos categoricos es la columna 5. Estos datos corresponden a etiquetas con valores de `std` o `turbo`. Estos datos son nominales ya que no existe un orden entre ellos. Vemos que la etiqueta más popular es `std` con 168 ejemplos, seguido por `turbo` con 37 ejemplos."
   ]
  },
  {
   "cell_type": "code",
   "execution_count": null,
   "metadata": {},
   "outputs": [],
   "source": [
    "cars_df['column_6'].value_counts()"
   ]
  },
  {
   "attachments": {},
   "cell_type": "markdown",
   "metadata": {},
   "source": [
    "Un caso particular es la columna 6, ya que posee datos faltantes. Sin embargo, podemos ver que los datos que posee son `four`, `two` y `?`. Estos datos son nominales ya que no existe un orden debido a los datos faltantes, sin embargo si se remplazan los datos faltantes por `four` o `two` se puede considerar que existe un orden entre ellos. Vemos que la etiqueta más popular es `four` con 114 ejemplos, seguido por `two` con 89 ejemplos. "
   ]
  },
  {
   "cell_type": "code",
   "execution_count": null,
   "metadata": {},
   "outputs": [],
   "source": [
    "cars_df['column_7'].value_counts()"
   ]
  },
  {
   "attachments": {},
   "cell_type": "markdown",
   "metadata": {},
   "source": [
    "La columna 7 posee datos que se refieren al tipo de modelo de un carro. Estos datos son nominales ya que no existe un orden entre ellos. Vemos que la etiqueta más popular es `sedan` y la menos popular es `convertibel`"
   ]
  },
  {
   "cell_type": "code",
   "execution_count": null,
   "metadata": {},
   "outputs": [],
   "source": [
    "cars_df['column_8'].value_counts()"
   ]
  },
  {
   "attachments": {},
   "cell_type": "markdown",
   "metadata": {},
   "source": [
    "Es esta caso vemos que las etiquetas corresponden a la tracción de un carro. Estos datos son nominales. Vemos que la etiqueta más popular es `fwd` con 120 ejemplos, seguido por `rwd` con 76 ejemplos."
   ]
  },
  {
   "cell_type": "code",
   "execution_count": null,
   "metadata": {},
   "outputs": [],
   "source": [
    "cars_df['column_9'].value_counts()"
   ]
  },
  {
   "attachments": {},
   "cell_type": "markdown",
   "metadata": {},
   "source": [
    "Estas etiquetas tienen los valores de `front` y `rear`. Estos datos son nominales. Vemos que la etiqueta más popular es `front` con 202 ejemplos."
   ]
  },
  {
   "cell_type": "code",
   "execution_count": null,
   "metadata": {},
   "outputs": [],
   "source": [
    "cars_df['column_15'].value_counts()"
   ]
  },
  {
   "attachments": {},
   "cell_type": "markdown",
   "metadata": {},
   "source": [
    "Estas etiquetas correspondes al diseño del motor de un carro. Estos datos son nominales. Vemos que la etiqueta más popular es `ohc` con 148 ejemplos."
   ]
  },
  {
   "cell_type": "code",
   "execution_count": null,
   "metadata": {},
   "outputs": [],
   "source": [
    "cars_df['column_16'].value_counts()"
   ]
  },
  {
   "attachments": {},
   "cell_type": "markdown",
   "metadata": {},
   "source": [
    "Es este caso, los datos son ordinales, ya que corresponden a números con un orden. Vemos que la etiqueta más popular es `four` con 159 ejemplos."
   ]
  },
  {
   "cell_type": "code",
   "execution_count": null,
   "metadata": {},
   "outputs": [],
   "source": [
    "cars_df['column_18'].value_counts()"
   ]
  },
  {
   "attachments": {},
   "cell_type": "markdown",
   "metadata": {},
   "source": [
    "Y, para la última columna los datos correspondes al modelo del carburador. Estos datos son nominales ya que no se pueden ordenar con alguna jerarquía. Vemos que la etiqueta más popular es `mpfi` con 94 ejemplos."
   ]
  }
 ],
 "metadata": {
  "kernelspec": {
   "display_name": "Python 3",
   "language": "python",
   "name": "python3"
  },
  "language_info": {
   "codemirror_mode": {
    "name": "ipython",
    "version": 3
   },
   "file_extension": ".py",
   "mimetype": "text/x-python",
   "name": "python",
   "nbconvert_exporter": "python",
   "pygments_lexer": "ipython3",
   "version": "3.10.3"
  },
  "orig_nbformat": 4
 },
 "nbformat": 4,
 "nbformat_minor": 2
}
