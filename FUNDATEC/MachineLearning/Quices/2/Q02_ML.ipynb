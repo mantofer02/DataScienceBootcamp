{
 "cells": [
  {
   "cell_type": "markdown",
   "metadata": {
    "colab_type": "text",
    "id": "GItxU96mTk16"
   },
   "source": [
    "## Escuela de Ingeniería en Computación, ITCR \n",
    "\n",
    "## Aprendizaje automático\n",
    "\n",
    " \n",
    "### Quiz 02 \n",
    "\n",
    "\n",
    "Profesora: María Auxiliadora Mora\n",
    "\n",
    "Medio de entrega: Por medio del TEC-Digital.\n",
    "\n",
    "Entregables: Un archivo en Jupyter ( .IPYNB ). \n",
    "\n",
    "Modo de trabajo: Individual\n",
    "\n",
    "---\n",
    "\n",
    "Resumen: En el presente quiz se realizarán ejercicios para repasar algunos conceptos sobre proyectos de clasificación binaria utilizando Python y PyTorch.\n",
    "\n",
    "---\n",
    "\n"
   ]
  },
  {
   "cell_type": "markdown",
   "metadata": {
    "colab_type": "text",
    "id": "jdtaAwa8XzNA"
   },
   "source": [
    "**Ejercicio. Realice un análisis comparativo de resultados de clasificación binaria utilizando los algoritmos perceptrón multicapa, árboles de decisión y bosques aleatorios**\n",
    "\n",
    "Se le proporciona el archivo diabetes.csv, en el cual las primeras 8 columnas corresponden a $X$ y la última columna a $y$ ---o atributo de clase (Outcome)---.\n",
    "\n",
    "***Datos para el ejercicio***\n",
    "* Fuente: https://www.kaggle.com/uciml/pima-indians-diabetes-database\n",
    "* Descripción textual:\n",
    "The datasets consist of several medical predictor (independent) variables and one target (dependent) variable, Outcome. Independent variables include the number of pregnancies the patient has had, their BMI, insulin level, age, and so on.\n",
    "\n",
    "* Columns:\n",
    "    * Pregnancies: Number of times pregnant\n",
    "    * Glucose: Plasma glucose concentration a 2 hours in an oral glucose tolerance test\n",
    "    * BloodPressure: Diastolic blood pressure\n",
    "    * SkinThickness: Triceps skin fold thickness\n",
    "    * Insulin: 2-Hour serum insulin\n",
    "    * BMI: Body mass index\n",
    "    * DiabetesPedigreeFunction: Diabetes pedigree function\n",
    "    * Age: Age\n",
    "    * Outcome: Class variable (0 or 1)\n",
    "\n",
    "Realice lo siguiente:\n",
    "\n",
    "**1. Preprocesamiento**\n",
    "- a) (1 punto) Describa el conjunto de datos y referencie la fuente. \n",
    "- b) Cargue el conjunto de datos.\n",
    "- c) (2 puntos) Explore el conjunto de datos, visualice algunas estadísticas, limpie el conjunto de datos y verifique que no existan valores faltantes.\n",
    "- d) (2 puntos) Escale los datos.\n",
    "- e) (1 punto) Separe los datos en datos de entrenamiento y evaluación (80/20% respectivamente).\n",
    "\n",
    "**2. Generación y evaluación de modelos**\n",
    "\n",
    "**Árboles de decisión**\n",
    "- f) (2 puntos) Utilice árboles de decisión para resolver el problema de clasificación binaria.\n",
    "- g) (2 puntos) Utilice validación cruzada para evaluar la exactitud (accuracy) del modelo. \n",
    "- h) (5 puntos) Realice el ejercicio con al menos 5 niveles diferentes de profundidad de árboles (max_depth) y recomiende cuál es la mejor configuración para este parámetro.\n",
    "- i) (3 puntos) Imprima el árbol con la profundidad que genera el mejor desempeño, explique la estructura del árbol (sobre todo qué significan las hojas) y clasifique la siguiente muestra (0, 118, 84, 47, 230, 45.8, 0.551, 31) explique la ruta que siguió en el árbol y el resultado obtenido. Los datos corresponden a las siguientes características (Pregnancies, Glucose, BloodPressure, SkinThickness, Insulin, BMI, DiabetesPedigreeFunction, Age).\n",
    "\n",
    "\n",
    "**Random Forest**\n",
    "- j) (2 puntos) Aplique el algoritmo de Random Forest al ejercicio de clasificación binaria.\n",
    "- k) (2 puntos) Utilice validación cruzada para evaluar la exactitud (accuracy) del modelo.\n",
    "- l) (5 puntos) Realice el ejercicio con al menos 5 cantidades diferentes de estimadores (n_estimators) y recomiende cuál es la mejor configuración para este parámetro.\n",
    "\n",
    "**(10% extra) Perceptron multicapa con PyTorch**\n",
    "- m) (5%) Defina un modelo utilizando una **red profunda de perceptrón multicapa** implementada con PyTorch.\n",
    "- n) (3%) Realice el entrenamiento del modelo. Aún no vamos a utilizar la curva de error para ajustar las épocas del entrenamiento del modelo apropiadamente por lo que inicialmente pueden usar un valor que ustedes consideren conveniente.\n",
    "- ñ)(1%) Calcule la exactitud (accuracy) del modelo.\n",
    "- o) (1%) Clasifique la siguiente muestra (0, 118, 84, 47, 230, 45.8, 0.551, 31). Los datos corresponden a las siguientes características (Pregnancies, Glucose, BloodPressure, SkinThickness, Insulin, BMI, DiabetesPedigreeFunction, Age).\n",
    "\n",
    "\n",
    "**3. Análisis comparativo de resultados**\n",
    "\n",
    " p) (4 puntos) Genere al menos cuatro conclusiones al respecto de los resultados del ejercicio (incluya comparaciones de resultados entre modelos).\n",
    "\n",
    " \n",
    "\n",
    "---"
   ]
  },
  {
   "cell_type": "code",
   "execution_count": null,
   "metadata": {},
   "outputs": [],
   "source": []
  }
 ],
 "metadata": {
  "colab": {
   "collapsed_sections": [],
   "name": "Trabajo_Práctico_1_Matemática_para_Ciencia_de_los_Datos.ipynb",
   "provenance": []
  },
  "kernelspec": {
   "display_name": "Python 3 (ipykernel)",
   "language": "python",
   "name": "python3"
  },
  "language_info": {
   "codemirror_mode": {
    "name": "ipython",
    "version": 3
   },
   "file_extension": ".py",
   "mimetype": "text/x-python",
   "name": "python",
   "nbconvert_exporter": "python",
   "pygments_lexer": "ipython3",
   "version": "3.9.15"
  }
 },
 "nbformat": 4,
 "nbformat_minor": 4
}
