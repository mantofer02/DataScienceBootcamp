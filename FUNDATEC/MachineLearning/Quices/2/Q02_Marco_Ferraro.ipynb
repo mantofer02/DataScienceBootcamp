{
 "cells": [
  {
   "cell_type": "markdown",
   "metadata": {
    "colab_type": "text",
    "id": "GItxU96mTk16"
   },
   "source": [
    "## Escuela de Ingeniería en Computación, ITCR \n",
    "\n",
    "## Aprendizaje automático\n",
    "\n",
    " \n",
    "### Quiz 02 \n",
    "\n",
    "\n",
    "Profesora: María Auxiliadora Mora\n",
    "\n",
    "Estudiante: Marco Ferraro Rodríguez\n",
    "\n",
    "Medio de entrega: Por medio del TEC-Digital.\n",
    "\n",
    "Entregables: Un archivo en Jupyter ( .IPYNB ). \n",
    "\n",
    "Modo de trabajo: Individual\n",
    "\n",
    "---\n",
    "\n",
    "Resumen: En el presente quiz se realizarán ejercicios para repasar algunos conceptos sobre proyectos de clasificación binaria utilizando Python y PyTorch.\n",
    "\n",
    "---\n",
    "\n"
   ]
  },
  {
   "cell_type": "markdown",
   "metadata": {
    "colab_type": "text",
    "id": "jdtaAwa8XzNA"
   },
   "source": [
    "**Ejercicio. Realice un análisis comparativo de resultados de clasificación binaria utilizando los algoritmos perceptrón multicapa, árboles de decisión y bosques aleatorios**\n",
    "\n",
    "Se le proporciona el archivo diabetes.csv, en el cual las primeras 8 columnas corresponden a $X$ y la última columna a $y$ ---o atributo de clase (Outcome)---.\n",
    "\n",
    "***Datos para el ejercicio***\n",
    "* Fuente: https://www.kaggle.com/uciml/pima-indians-diabetes-database\n",
    "* Descripción textual:\n",
    "The datasets consist of several medical predictor (independent) variables and one target (dependent) variable, Outcome. Independent variables include the number of pregnancies the patient has had, their BMI, insulin level, age, and so on.\n",
    "\n",
    "* Columns:\n",
    "    * Pregnancies: Number of times pregnant\n",
    "    * Glucose: Plasma glucose concentration a 2 hours in an oral glucose tolerance test\n",
    "    * BloodPressure: Diastolic blood pressure\n",
    "    * SkinThickness: Triceps skin fold thickness\n",
    "    * Insulin: 2-Hour serum insulin\n",
    "    * BMI: Body mass index\n",
    "    * DiabetesPedigreeFunction: Diabetes pedigree function\n",
    "    * Age: Age\n",
    "    * Outcome: Class variable (0 or 1)\n",
    "\n",
    "Realice lo siguiente:\n",
    "\n",
    "**1. Preprocesamiento**\n",
    "- a) (1 punto) Describa el conjunto de datos y referencie la fuente. \n",
    "- b) Cargue el conjunto de datos.\n",
    "- c) (2 puntos) Explore el conjunto de datos, visualice algunas estadísticas, limpie el conjunto de datos y verifique que no existan valores faltantes.\n",
    "- d) (2 puntos) Escale los datos.\n",
    "- e) (1 punto) Separe los datos en datos de entrenamiento y evaluación (80/20% respectivamente).\n",
    "\n",
    "**2. Generación y evaluación de modelos**\n",
    "\n",
    "**Árboles de decisión**\n",
    "- f) (2 puntos) Utilice árboles de decisión para resolver el problema de clasificación binaria.\n",
    "- g) (2 puntos) Utilice validación cruzada para evaluar la exactitud (accuracy) del modelo. \n",
    "- h) (5 puntos) Realice el ejercicio con al menos 5 niveles diferentes de profundidad de árboles (max_depth) y recomiende cuál es la mejor configuración para este parámetro.\n",
    "- i) (3 puntos) Imprima el árbol con la profundidad que genera el mejor desempeño, explique la estructura del árbol (sobre todo qué significan las hojas) y clasifique la siguiente muestra (0, 118, 84, 47, 230, 45.8, 0.551, 31) explique la ruta que siguió en el árbol y el resultado obtenido. Los datos corresponden a las siguientes características (Pregnancies, Glucose, BloodPressure, SkinThickness, Insulin, BMI, DiabetesPedigreeFunction, Age).\n",
    "\n",
    "\n",
    "**Random Forest**\n",
    "- j) (2 puntos) Aplique el algoritmo de Random Forest al ejercicio de clasificación binaria.\n",
    "- k) (2 puntos) Utilice validación cruzada para evaluar la exactitud (accuracy) del modelo.\n",
    "- l) (5 puntos) Realice el ejercicio con al menos 5 cantidades diferentes de estimadores (n_estimators) y recomiende cuál es la mejor configuración para este parámetro.\n",
    "\n",
    "**(10% extra) Perceptron multicapa con PyTorch**\n",
    "- m) (5%) Defina un modelo utilizando una **red profunda de perceptrón multicapa** implementada con PyTorch.\n",
    "- n) (3%) Realice el entrenamiento del modelo. Aún no vamos a utilizar la curva de error para ajustar las épocas del entrenamiento del modelo apropiadamente por lo que inicialmente pueden usar un valor que ustedes consideren conveniente.\n",
    "- ñ)(1%) Calcule la exactitud (accuracy) del modelo.\n",
    "- o) (1%) Clasifique la siguiente muestra (0, 118, 84, 47, 230, 45.8, 0.551, 31). Los datos corresponden a las siguientes características (Pregnancies, Glucose, BloodPressure, SkinThickness, Insulin, BMI, DiabetesPedigreeFunction, Age).\n",
    "\n",
    "\n",
    "**3. Análisis comparativo de resultados**\n",
    "\n",
    " p) (4 puntos) Genere al menos cuatro conclusiones al respecto de los resultados del ejercicio (incluya comparaciones de resultados entre modelos).\n",
    "\n",
    " \n",
    "\n",
    "---"
   ]
  },
  {
   "cell_type": "markdown",
   "metadata": {},
   "source": [
    "## 1 Prepocesamiento\n",
    "\n",
    "En esta sección realizaremos un prepocesamiento del dataset de datos proporcionado"
   ]
  },
  {
   "cell_type": "markdown",
   "metadata": {},
   "source": [
    "### 1.1  Descripción del conjunto de datos\n",
    "\n",
    "Según la página dee Kaggle, el dataset  es originario del Instituto Nacional de Diabetes y Enfermedades de Riñones. El objetivo es predicir, con este dataset si un paciente padece de diabetes. \n",
    "\n",
    "Hay ciertas restricciones dentro del espacio muestral de datos. El más claro es que los datos son de pacientes de mujeres de, por lo menos 21 años de edad, que contienen ascendencia india. \n",
    "\n",
    "1. Embarazos: Esta columna representa la cantidad de veces que la persona ha estado embarazada.\n",
    "\n",
    "2. Glucosa: La glucosa se refiere al nivel de azúcar en la sangre del individuo, medido en mg/dL (miligramos por decilitro).\n",
    "\n",
    "3. Presión sanguínea: La presión sanguínea es la fuerza de la sangre contra las paredes de las arterias, medida en mm Hg (milímetros de mercurio).\n",
    "\n",
    "4. Grosor del pliegue cutáneo: El grosor del pliegue cutáneo es la medida del grosor del pliegue de la piel en el tríceps, medido en mm (milímetros).\n",
    "\n",
    "5. Insulina: La insulina es una hormona producida por el páncreas que ayuda a regular los niveles de azúcar en la sangre. Los valores en esta columna representan los niveles de insulina medidos en mu U/ml (micro-unidades por mililitro).\n",
    "\n",
    "6. Índice de masa corporal (IMC): El IMC es una medida de la grasa corporal basada en el peso y la altura del individuo. Se calcula dividiendo el peso en kilogramos entre el cuadrado de la altura en metros (kg/m²).\n",
    "\n",
    "7. Función de pedigrí de la diabetes: Esta columna proporciona una función que representa la influencia genética de la diabetes basada en la historia familiar.\n",
    "\n",
    "8. Edad: La edad del individuo en años.\n",
    "\n",
    "9. Resultado: Esta es la variable objetivo o etiqueta de clase que indica si el individuo tiene diabetes o no. Toma valores binarios: 0 (sin diabetes) y 1 (con diabetes).\n",
    "\n",
    "UCI Machine Learning Repository. (s.f.). Pima Indians Diabetes Database. Recuperado de https://www.kaggle.com/datasets/uciml/pima-indians-diabetes-database."
   ]
  },
  {
   "cell_type": "markdown",
   "metadata": {},
   "source": [
    "### 1.2 Carga y Exploración de conjuntos de datos. \n",
    "\n",
    "En esta sección vamos a cargar el dataset, visualizare estadística y generar una limpieza del conjunto."
   ]
  },
  {
   "cell_type": "code",
   "execution_count": 36,
   "metadata": {},
   "outputs": [
    {
     "data": {
      "text/html": [
       "<div>\n",
       "<style scoped>\n",
       "    .dataframe tbody tr th:only-of-type {\n",
       "        vertical-align: middle;\n",
       "    }\n",
       "\n",
       "    .dataframe tbody tr th {\n",
       "        vertical-align: top;\n",
       "    }\n",
       "\n",
       "    .dataframe thead th {\n",
       "        text-align: right;\n",
       "    }\n",
       "</style>\n",
       "<table border=\"1\" class=\"dataframe\">\n",
       "  <thead>\n",
       "    <tr style=\"text-align: right;\">\n",
       "      <th></th>\n",
       "      <th>Pregnancies</th>\n",
       "      <th>Glucose</th>\n",
       "      <th>BloodPressure</th>\n",
       "      <th>SkinThickness</th>\n",
       "      <th>Insulin</th>\n",
       "      <th>BMI</th>\n",
       "      <th>DiabetesPedigreeFunction</th>\n",
       "      <th>Age</th>\n",
       "      <th>Outcome</th>\n",
       "    </tr>\n",
       "  </thead>\n",
       "  <tbody>\n",
       "    <tr>\n",
       "      <th>0</th>\n",
       "      <td>6</td>\n",
       "      <td>148</td>\n",
       "      <td>72</td>\n",
       "      <td>35</td>\n",
       "      <td>0</td>\n",
       "      <td>33.6</td>\n",
       "      <td>0.627</td>\n",
       "      <td>50</td>\n",
       "      <td>1</td>\n",
       "    </tr>\n",
       "    <tr>\n",
       "      <th>1</th>\n",
       "      <td>1</td>\n",
       "      <td>85</td>\n",
       "      <td>66</td>\n",
       "      <td>29</td>\n",
       "      <td>0</td>\n",
       "      <td>26.6</td>\n",
       "      <td>0.351</td>\n",
       "      <td>31</td>\n",
       "      <td>0</td>\n",
       "    </tr>\n",
       "    <tr>\n",
       "      <th>2</th>\n",
       "      <td>8</td>\n",
       "      <td>183</td>\n",
       "      <td>64</td>\n",
       "      <td>0</td>\n",
       "      <td>0</td>\n",
       "      <td>23.3</td>\n",
       "      <td>0.672</td>\n",
       "      <td>32</td>\n",
       "      <td>1</td>\n",
       "    </tr>\n",
       "    <tr>\n",
       "      <th>3</th>\n",
       "      <td>1</td>\n",
       "      <td>89</td>\n",
       "      <td>66</td>\n",
       "      <td>23</td>\n",
       "      <td>94</td>\n",
       "      <td>28.1</td>\n",
       "      <td>0.167</td>\n",
       "      <td>21</td>\n",
       "      <td>0</td>\n",
       "    </tr>\n",
       "    <tr>\n",
       "      <th>4</th>\n",
       "      <td>0</td>\n",
       "      <td>137</td>\n",
       "      <td>40</td>\n",
       "      <td>35</td>\n",
       "      <td>168</td>\n",
       "      <td>43.1</td>\n",
       "      <td>2.288</td>\n",
       "      <td>33</td>\n",
       "      <td>1</td>\n",
       "    </tr>\n",
       "  </tbody>\n",
       "</table>\n",
       "</div>"
      ],
      "text/plain": [
       "   Pregnancies  Glucose  BloodPressure  SkinThickness  Insulin   BMI  \\\n",
       "0            6      148             72             35        0  33.6   \n",
       "1            1       85             66             29        0  26.6   \n",
       "2            8      183             64              0        0  23.3   \n",
       "3            1       89             66             23       94  28.1   \n",
       "4            0      137             40             35      168  43.1   \n",
       "\n",
       "   DiabetesPedigreeFunction  Age  Outcome  \n",
       "0                     0.627   50        1  \n",
       "1                     0.351   31        0  \n",
       "2                     0.672   32        1  \n",
       "3                     0.167   21        0  \n",
       "4                     2.288   33        1  "
      ]
     },
     "execution_count": 36,
     "metadata": {},
     "output_type": "execute_result"
    }
   ],
   "source": [
    "import pandas as pd\n",
    "\n",
    "df = pd.read_csv('./diabetes.csv')\n",
    "\n",
    "df.head()"
   ]
  },
  {
   "cell_type": "code",
   "execution_count": 37,
   "metadata": {},
   "outputs": [
    {
     "data": {
      "text/html": [
       "<div>\n",
       "<style scoped>\n",
       "    .dataframe tbody tr th:only-of-type {\n",
       "        vertical-align: middle;\n",
       "    }\n",
       "\n",
       "    .dataframe tbody tr th {\n",
       "        vertical-align: top;\n",
       "    }\n",
       "\n",
       "    .dataframe thead th {\n",
       "        text-align: right;\n",
       "    }\n",
       "</style>\n",
       "<table border=\"1\" class=\"dataframe\">\n",
       "  <thead>\n",
       "    <tr style=\"text-align: right;\">\n",
       "      <th></th>\n",
       "      <th>Pregnancies</th>\n",
       "      <th>Glucose</th>\n",
       "      <th>BloodPressure</th>\n",
       "      <th>SkinThickness</th>\n",
       "      <th>Insulin</th>\n",
       "      <th>BMI</th>\n",
       "      <th>DiabetesPedigreeFunction</th>\n",
       "      <th>Age</th>\n",
       "      <th>Outcome</th>\n",
       "    </tr>\n",
       "  </thead>\n",
       "  <tbody>\n",
       "    <tr>\n",
       "      <th>count</th>\n",
       "      <td>768.000000</td>\n",
       "      <td>768.000000</td>\n",
       "      <td>768.000000</td>\n",
       "      <td>768.000000</td>\n",
       "      <td>768.000000</td>\n",
       "      <td>768.000000</td>\n",
       "      <td>768.000000</td>\n",
       "      <td>768.000000</td>\n",
       "      <td>768.000000</td>\n",
       "    </tr>\n",
       "    <tr>\n",
       "      <th>mean</th>\n",
       "      <td>3.845052</td>\n",
       "      <td>120.894531</td>\n",
       "      <td>69.105469</td>\n",
       "      <td>20.536458</td>\n",
       "      <td>79.799479</td>\n",
       "      <td>31.992578</td>\n",
       "      <td>0.471876</td>\n",
       "      <td>33.240885</td>\n",
       "      <td>0.348958</td>\n",
       "    </tr>\n",
       "    <tr>\n",
       "      <th>std</th>\n",
       "      <td>3.369578</td>\n",
       "      <td>31.972618</td>\n",
       "      <td>19.355807</td>\n",
       "      <td>15.952218</td>\n",
       "      <td>115.244002</td>\n",
       "      <td>7.884160</td>\n",
       "      <td>0.331329</td>\n",
       "      <td>11.760232</td>\n",
       "      <td>0.476951</td>\n",
       "    </tr>\n",
       "    <tr>\n",
       "      <th>min</th>\n",
       "      <td>0.000000</td>\n",
       "      <td>0.000000</td>\n",
       "      <td>0.000000</td>\n",
       "      <td>0.000000</td>\n",
       "      <td>0.000000</td>\n",
       "      <td>0.000000</td>\n",
       "      <td>0.078000</td>\n",
       "      <td>21.000000</td>\n",
       "      <td>0.000000</td>\n",
       "    </tr>\n",
       "    <tr>\n",
       "      <th>25%</th>\n",
       "      <td>1.000000</td>\n",
       "      <td>99.000000</td>\n",
       "      <td>62.000000</td>\n",
       "      <td>0.000000</td>\n",
       "      <td>0.000000</td>\n",
       "      <td>27.300000</td>\n",
       "      <td>0.243750</td>\n",
       "      <td>24.000000</td>\n",
       "      <td>0.000000</td>\n",
       "    </tr>\n",
       "    <tr>\n",
       "      <th>50%</th>\n",
       "      <td>3.000000</td>\n",
       "      <td>117.000000</td>\n",
       "      <td>72.000000</td>\n",
       "      <td>23.000000</td>\n",
       "      <td>30.500000</td>\n",
       "      <td>32.000000</td>\n",
       "      <td>0.372500</td>\n",
       "      <td>29.000000</td>\n",
       "      <td>0.000000</td>\n",
       "    </tr>\n",
       "    <tr>\n",
       "      <th>75%</th>\n",
       "      <td>6.000000</td>\n",
       "      <td>140.250000</td>\n",
       "      <td>80.000000</td>\n",
       "      <td>32.000000</td>\n",
       "      <td>127.250000</td>\n",
       "      <td>36.600000</td>\n",
       "      <td>0.626250</td>\n",
       "      <td>41.000000</td>\n",
       "      <td>1.000000</td>\n",
       "    </tr>\n",
       "    <tr>\n",
       "      <th>max</th>\n",
       "      <td>17.000000</td>\n",
       "      <td>199.000000</td>\n",
       "      <td>122.000000</td>\n",
       "      <td>99.000000</td>\n",
       "      <td>846.000000</td>\n",
       "      <td>67.100000</td>\n",
       "      <td>2.420000</td>\n",
       "      <td>81.000000</td>\n",
       "      <td>1.000000</td>\n",
       "    </tr>\n",
       "  </tbody>\n",
       "</table>\n",
       "</div>"
      ],
      "text/plain": [
       "       Pregnancies     Glucose  BloodPressure  SkinThickness     Insulin  \\\n",
       "count   768.000000  768.000000     768.000000     768.000000  768.000000   \n",
       "mean      3.845052  120.894531      69.105469      20.536458   79.799479   \n",
       "std       3.369578   31.972618      19.355807      15.952218  115.244002   \n",
       "min       0.000000    0.000000       0.000000       0.000000    0.000000   \n",
       "25%       1.000000   99.000000      62.000000       0.000000    0.000000   \n",
       "50%       3.000000  117.000000      72.000000      23.000000   30.500000   \n",
       "75%       6.000000  140.250000      80.000000      32.000000  127.250000   \n",
       "max      17.000000  199.000000     122.000000      99.000000  846.000000   \n",
       "\n",
       "              BMI  DiabetesPedigreeFunction         Age     Outcome  \n",
       "count  768.000000                768.000000  768.000000  768.000000  \n",
       "mean    31.992578                  0.471876   33.240885    0.348958  \n",
       "std      7.884160                  0.331329   11.760232    0.476951  \n",
       "min      0.000000                  0.078000   21.000000    0.000000  \n",
       "25%     27.300000                  0.243750   24.000000    0.000000  \n",
       "50%     32.000000                  0.372500   29.000000    0.000000  \n",
       "75%     36.600000                  0.626250   41.000000    1.000000  \n",
       "max     67.100000                  2.420000   81.000000    1.000000  "
      ]
     },
     "execution_count": 37,
     "metadata": {},
     "output_type": "execute_result"
    }
   ],
   "source": [
    "df.describe()"
   ]
  },
  {
   "cell_type": "code",
   "execution_count": 38,
   "metadata": {},
   "outputs": [
    {
     "name": "stdout",
     "output_type": "stream",
     "text": [
      "The DataFrame does not have any missing values.\n"
     ]
    }
   ],
   "source": [
    "has_missing_values = df.isnull().any().any()\n",
    "\n",
    "if has_missing_values:\n",
    "    print(\"The DataFrame contains missing values.\")\n",
    "else:\n",
    "    print(\"The DataFrame does not have any missing values.\")"
   ]
  },
  {
   "cell_type": "markdown",
   "metadata": {},
   "source": [
    "### 1.3 Escalado de datos. \n",
    "\n",
    "Acá haremos un escalado de datos utilizando el escalador estandar de Scikit Learn."
   ]
  },
  {
   "cell_type": "code",
   "execution_count": 39,
   "metadata": {},
   "outputs": [
    {
     "data": {
      "text/plain": [
       "(768, 8)"
      ]
     },
     "execution_count": 39,
     "metadata": {},
     "output_type": "execute_result"
    }
   ],
   "source": [
    "y = df['Outcome']\n",
    "X = df.drop(columns='Outcome')\n",
    "\n",
    "X.shape"
   ]
  },
  {
   "cell_type": "code",
   "execution_count": 40,
   "metadata": {},
   "outputs": [
    {
     "data": {
      "text/plain": [
       "array([[ 0.63994726,  0.84832379,  0.14964075, ...,  0.20401277,\n",
       "         0.46849198,  1.4259954 ],\n",
       "       [-0.84488505, -1.12339636, -0.16054575, ..., -0.68442195,\n",
       "        -0.36506078, -0.19067191],\n",
       "       [ 1.23388019,  1.94372388, -0.26394125, ..., -1.10325546,\n",
       "         0.60439732, -0.10558415],\n",
       "       ...,\n",
       "       [ 0.3429808 ,  0.00330087,  0.14964075, ..., -0.73518964,\n",
       "        -0.68519336, -0.27575966],\n",
       "       [-0.84488505,  0.1597866 , -0.47073225, ..., -0.24020459,\n",
       "        -0.37110101,  1.17073215],\n",
       "       [-0.84488505, -0.8730192 ,  0.04624525, ..., -0.20212881,\n",
       "        -0.47378505, -0.87137393]])"
      ]
     },
     "execution_count": 40,
     "metadata": {},
     "output_type": "execute_result"
    }
   ],
   "source": [
    "from sklearn.preprocessing import StandardScaler\n",
    "\n",
    "\n",
    "scaler = StandardScaler()\n",
    "X_scaled = scaler.fit_transform(X)\n",
    "\n",
    "X = X_scaled\n",
    "X"
   ]
  },
  {
   "cell_type": "markdown",
   "metadata": {},
   "source": [
    "### 1.4 Separación de datos.\n",
    "\n",
    "Se necesitará separar los datos utilizando la regla 80/20. La idea es realizar un set de datos para prueba y otro para validación."
   ]
  },
  {
   "cell_type": "code",
   "execution_count": 41,
   "metadata": {},
   "outputs": [
    {
     "data": {
      "text/plain": [
       "(614, 8)"
      ]
     },
     "execution_count": 41,
     "metadata": {},
     "output_type": "execute_result"
    }
   ],
   "source": [
    "from sklearn.model_selection import train_test_split\n",
    "\n",
    "X_train, X_test, y_train, y_test = train_test_split(X, y, test_size=0.2, random_state=42)\n",
    "\n",
    "X_train.shape"
   ]
  },
  {
   "cell_type": "markdown",
   "metadata": {},
   "source": [
    "## 2 Arbol de Decision\n",
    "\n",
    "Existe un modelo de clasificacion llamado arbol de decisión.\n",
    "\n",
    "El árbol de decisión se representa como una estructura jerárquica en forma de árbol, donde cada nodo interno representa una pregunta o prueba sobre una característica específica del conjunto de datos, y cada rama representa una posible respuesta a esa pregunta. Los nodos hoja del árbol representan las decisiones finales o las salidas del modelo.\n",
    "\n",
    "El proceso de construcción del árbol de decisión implica dividir el conjunto de datos en diferentes subconjuntos en función de las características que mejor separan las clases objetivo o explican la variable objetivo (en el caso de regresión). El objetivo es maximizar la pureza de las clases en cada nodo del árbol, es decir, agrupar instancias similares en la misma rama.\n",
    "\n",
    "Para tomar una decisión en un árbol de decisión, comenzamos desde la raíz y seguimos el camino adecuado basado en las características de la instancia hasta llegar a un nodo hoja que nos proporciona la clasificación o el valor de salida correspondiente."
   ]
  },
  {
   "cell_type": "markdown",
   "metadata": {},
   "source": [
    "### 2.1 Implementación del modelo\n",
    "\n",
    "Para instanciar el modelo usamos la libreria de scikit learn que maneja su propio modelo. Usamos los datos separados para entrenar y generar predicciones."
   ]
  },
  {
   "cell_type": "code",
   "execution_count": 42,
   "metadata": {},
   "outputs": [
    {
     "name": "stdout",
     "output_type": "stream",
     "text": [
      "Accuracy: 0.7662337662337663\n"
     ]
    }
   ],
   "source": [
    "\n",
    "from sklearn.tree import DecisionTreeClassifier\n",
    "from sklearn.metrics import accuracy_score \n",
    "\n",
    "model = DecisionTreeClassifier()\n",
    "model.fit(X_train, y_train)\n",
    "\n",
    "y_pred = model.predict(X_test)\n",
    "\n",
    "\n",
    "accuracy = accuracy_score(y_test, y_pred)\n",
    "print(\"Accuracy:\", accuracy)\n"
   ]
  },
  {
   "cell_type": "markdown",
   "metadata": {},
   "source": [
    "### 2.2 Crossvalidation\n",
    "\n",
    "Cross-validation es una técnica utilizada en el aprendizaje automático para evaluar la eficacia de un modelo utilizando todo el conjunto de datos disponible. Consiste en dividir los datos en múltiples subconjuntos (folds), entrenar el modelo en algunos de estos subconjuntos y evaluarlo en los restantes. Esto ayuda a estimar el rendimiento del modelo de manera más robusta y evitar sesgos causados por una sola división de datos.\n",
    "\n",
    "Para este caso, vamos a usar 5 folds."
   ]
  },
  {
   "cell_type": "code",
   "execution_count": 43,
   "metadata": {},
   "outputs": [
    {
     "name": "stdout",
     "output_type": "stream",
     "text": [
      "Accuracy scores for each fold: [0.68831169 0.68181818 0.7012987  0.79084967 0.74509804]\n",
      "Mean accuracy: 0.7214752567693743\n"
     ]
    }
   ],
   "source": [
    "from sklearn.model_selection import cross_val_score\n",
    "import numpy as np\n",
    "\n",
    "model = DecisionTreeClassifier()\n",
    "cv_scores = cross_val_score(model, X, y, cv=5, scoring='accuracy')\n",
    "\n",
    "print(\"Accuracy scores for each fold:\", cv_scores)\n",
    "print(\"Mean accuracy:\", np.mean(cv_scores))"
   ]
  },
  {
   "cell_type": "code",
   "execution_count": 44,
   "metadata": {},
   "outputs": [
    {
     "name": "stdout",
     "output_type": "stream",
     "text": [
      "Max Depth: 1, Mean Accuracy: 0.7227315168491639\n",
      "Max Depth: 2, Mean Accuracy: 0.7357100415923945\n",
      "Max Depth: 3, Mean Accuracy: 0.7278669043374926\n",
      "Max Depth: 4, Mean Accuracy: 0.7292250233426704\n",
      "Max Depth: 5, Mean Accuracy: 0.7474747474747474\n",
      "Max Depth: 6, Mean Accuracy: 0.7175112469230116\n",
      "Max Depth: 7, Mean Accuracy: 0.7201256260079789\n",
      "Max Depth: 8, Mean Accuracy: 0.7110007639419405\n",
      "Max Depth: 9, Mean Accuracy: 0.7084288260758849\n",
      "Max Depth: 10, Mean Accuracy: 0.71883541295306\n",
      "Best Max Depth: 5\n"
     ]
    }
   ],
   "source": [
    "max_depth_values = range(1, 11)\n",
    "mean_accuracy_scores = []\n",
    "tree_array = []\n",
    "\n",
    "for max_depth_val in max_depth_values:\n",
    "    dt_classifier = DecisionTreeClassifier(max_depth=max_depth_val)\n",
    "    cv_scores = cross_val_score(dt_classifier, X, y, cv=5, scoring='accuracy')\n",
    "\n",
    "    mean_accuracy = np.mean(cv_scores)\n",
    "\n",
    "    mean_accuracy_scores.append(mean_accuracy)\n",
    "    tree_array.append(dt_classifier)\n",
    "    print(f\"Max Depth: {max_depth_val}, Mean Accuracy: {mean_accuracy}\")\n",
    "\n",
    "\n",
    "best_max_depth = max_depth_values[np.argmax(mean_accuracy_scores)]\n",
    "best_idx = best_max_depth - 1\n",
    "print(\"Best Max Depth:\", best_max_depth)\n"
   ]
  },
  {
   "cell_type": "markdown",
   "metadata": {},
   "source": [
    "### 2.3 Análisis de resultados.\n",
    "\n",
    "Ahora bien, como interpretamos el resultado de este árbol. Al ver el texto de salida recorremos el arbol de esta forma.\n",
    "\n",
    "\n",
    "Si una entrada de datos tiene un nivel de glucosa menor o igual a 0.21 nos vamos por el lado derecho del arbol, si no por el izquierdo.\n",
    "\n",
    "De esta forma, vamos recorriendo cada nivel dentro del árbol hasta llegar a las ojas de la estructura. En las ojas se nos da un nivel de clasificación para el target value.\n"
   ]
  },
  {
   "cell_type": "code",
   "execution_count": 45,
   "metadata": {},
   "outputs": [
    {
     "name": "stdout",
     "output_type": "stream",
     "text": [
      "|--- Glucose <= 0.21\n",
      "|   |--- Age <= -0.40\n",
      "|   |   |--- BMI <= -0.13\n",
      "|   |   |   |--- DiabetesPedigreeFunction <= 0.60\n",
      "|   |   |   |   |--- class: 0\n",
      "|   |   |   |--- DiabetesPedigreeFunction >  0.60\n",
      "|   |   |   |   |--- DiabetesPedigreeFunction <= 0.65\n",
      "|   |   |   |   |   |--- class: 1\n",
      "|   |   |   |   |--- DiabetesPedigreeFunction >  0.65\n",
      "|   |   |   |   |   |--- class: 0\n",
      "|   |   |--- BMI >  -0.13\n",
      "|   |   |   |--- BloodPressure <= -1.66\n",
      "|   |   |   |   |--- class: 1\n",
      "|   |   |   |--- BloodPressure >  -1.66\n",
      "|   |   |   |   |--- DiabetesPedigreeFunction <= 0.09\n",
      "|   |   |   |   |   |--- class: 0\n",
      "|   |   |   |   |--- DiabetesPedigreeFunction >  0.09\n",
      "|   |   |   |   |   |--- class: 0\n",
      "|   |--- Age >  -0.40\n",
      "|   |   |--- BMI <= -0.72\n",
      "|   |   |   |--- BMI <= -2.84\n",
      "|   |   |   |   |--- class: 1\n",
      "|   |   |   |--- BMI >  -2.84\n",
      "|   |   |   |   |--- class: 0\n",
      "|   |   |--- BMI >  -0.72\n",
      "|   |   |   |--- Glucose <= -0.83\n",
      "|   |   |   |   |--- Glucose <= -2.89\n",
      "|   |   |   |   |   |--- class: 1\n",
      "|   |   |   |   |--- Glucose >  -2.89\n",
      "|   |   |   |   |   |--- class: 0\n",
      "|   |   |   |--- Glucose >  -0.83\n",
      "|   |   |   |   |--- DiabetesPedigreeFunction <= 0.15\n",
      "|   |   |   |   |   |--- class: 0\n",
      "|   |   |   |   |--- DiabetesPedigreeFunction >  0.15\n",
      "|   |   |   |   |   |--- class: 1\n",
      "|--- Glucose >  0.21\n",
      "|   |--- BMI <= -0.26\n",
      "|   |   |--- Glucose <= 0.80\n",
      "|   |   |   |--- BloodPressure <= -0.73\n",
      "|   |   |   |   |--- Insulin <= -0.33\n",
      "|   |   |   |   |   |--- class: 1\n",
      "|   |   |   |   |--- Insulin >  -0.33\n",
      "|   |   |   |   |   |--- class: 0\n",
      "|   |   |   |--- BloodPressure >  -0.73\n",
      "|   |   |   |   |--- Glucose <= 0.44\n",
      "|   |   |   |   |   |--- class: 0\n",
      "|   |   |   |   |--- Glucose >  0.44\n",
      "|   |   |   |   |   |--- class: 0\n",
      "|   |   |--- Glucose >  0.80\n",
      "|   |   |   |--- Age <= 2.45\n",
      "|   |   |   |   |--- Age <= 0.66\n",
      "|   |   |   |   |   |--- class: 0\n",
      "|   |   |   |   |--- Age >  0.66\n",
      "|   |   |   |   |   |--- class: 1\n",
      "|   |   |   |--- Age >  2.45\n",
      "|   |   |   |   |--- class: 0\n",
      "|   |--- BMI >  -0.26\n",
      "|   |   |--- Glucose <= 1.40\n",
      "|   |   |   |--- Age <= -0.23\n",
      "|   |   |   |   |--- BloodPressure <= -0.42\n",
      "|   |   |   |   |   |--- class: 1\n",
      "|   |   |   |   |--- BloodPressure >  -0.42\n",
      "|   |   |   |   |   |--- class: 0\n",
      "|   |   |   |--- Age >  -0.23\n",
      "|   |   |   |   |--- DiabetesPedigreeFunction <= -0.13\n",
      "|   |   |   |   |   |--- class: 1\n",
      "|   |   |   |   |--- DiabetesPedigreeFunction >  -0.13\n",
      "|   |   |   |   |   |--- class: 1\n",
      "|   |   |--- Glucose >  1.40\n",
      "|   |   |   |--- DiabetesPedigreeFunction <= 2.89\n",
      "|   |   |   |   |--- DiabetesPedigreeFunction <= -0.50\n",
      "|   |   |   |   |   |--- class: 1\n",
      "|   |   |   |   |--- DiabetesPedigreeFunction >  -0.50\n",
      "|   |   |   |   |   |--- class: 1\n",
      "|   |   |   |--- DiabetesPedigreeFunction >  2.89\n",
      "|   |   |   |   |--- Glucose <= 1.90\n",
      "|   |   |   |   |   |--- class: 1\n",
      "|   |   |   |   |--- Glucose >  1.90\n",
      "|   |   |   |   |   |--- class: 0\n",
      "\n"
     ]
    }
   ],
   "source": [
    "from sklearn.tree import export_text\n",
    "\n",
    "best_tree = tree_array[best_idx]\n",
    "best_tree.fit(X_train, y_train)\n",
    "\n",
    "\n",
    "feature_names = df.drop('Outcome', axis=1).columns.tolist()\n",
    "\n",
    "tree_text = export_text(best_tree, feature_names=feature_names)\n",
    "print(tree_text)"
   ]
  },
  {
   "cell_type": "markdown",
   "metadata": {},
   "source": [
    "```\n",
    "|--- Glucose <= 0.21\n",
    "|   |--- Age <= -0.40\n",
    "|   |   |--- BMI <= -0.13\n",
    "|   |   |   |--- DiabetesPedigreeFunction <= 0.60\n",
    "|   |   |   |   |--- class: 0\n",
    "|   |   |   |--- DiabetesPedigreeFunction >  0.60\n",
    "|   |   |   |   |--- DiabetesPedigreeFunction <= 0.65\n",
    "|   |   |   |   |   |--- class: 1\n",
    "|   |   |   |   |--- DiabetesPedigreeFunction >  0.65\n",
    "|   |   |   |   |   |--- class: 0\n",
    "|   |   |--- BMI >  -0.13\n",
    "|   |   |   |--- BloodPressure <= -1.66\n",
    "|   |   |   |   |--- class: 1\n",
    "|   |   |   |--- BloodPressure >  -1.66\n",
    "|   |   |   |   |--- DiabetesPedigreeFunction <= 0.09\n",
    "|   |   |   |   |   |--- class: 0\n",
    "|   |   |   |   |--- DiabetesPedigreeFunction >  0.09\n",
    "|   |   |   |   |   |--- class: 0\n",
    "|   |--- Age >  -0.40\n",
    "|   |   |--- BMI <= -0.72\n",
    "|   |   |   |--- BMI <= -2.84\n",
    "|   |   |   |   |--- class: 1\n",
    "|   |   |   |--- BMI >  -2.84\n",
    "|   |   |   |   |--- class: 0\n",
    "|   |   |--- BMI >  -0.72\n",
    "|   |   |   |--- Glucose <= -0.83\n",
    "|   |   |   |   |--- Glucose <= -2.89\n",
    "|   |   |   |   |   |--- class: 1\n",
    "|   |   |   |   |--- Glucose >  -2.89\n",
    "|   |   |   |   |   |--- class: 0\n",
    "|   |   |   |--- Glucose >  -0.83\n",
    "|   |   |   |   |--- DiabetesPedigreeFunction <= 0.15\n",
    "|   |   |   |   |   |--- class: 0\n",
    "|   |   |   |   |--- DiabetesPedigreeFunction >  0.15\n",
    "|   |   |   |   |   |--- class: 1\n",
    "|--- Glucose >  0.21\n",
    "|   |--- BMI <= -0.26\n",
    "|   |   |--- Glucose <= 0.80\n",
    "|   |   |   |--- BloodPressure <= -0.73\n",
    "|   |   |   |   |--- DiabetesPedigreeFunction <= 0.17\n",
    "|   |   |   |   |   |--- class: 1\n",
    "|   |   |   |   |--- DiabetesPedigreeFunction >  0.17\n",
    "|   |   |   |   |   |--- class: 0\n",
    "|   |   |   |--- BloodPressure >  -0.73\n",
    "|   |   |   |   |--- Glucose <= 0.44\n",
    "|   |   |   |   |   |--- class: 0\n",
    "|   |   |   |   |--- Glucose >  0.44\n",
    "|   |   |   |   |   |--- class: 0\n",
    "|   |   |--- Glucose >  0.80\n",
    "|   |   |   |--- Age <= 2.45\n",
    "|   |   |   |   |--- Age <= 0.66\n",
    "|   |   |   |   |   |--- class: 0\n",
    "|   |   |   |   |--- Age >  0.66\n",
    "|   |   |   |   |   |--- class: 1\n",
    "|   |   |   |--- Age >  2.45\n",
    "|   |   |   |   |--- class: 0\n",
    "|   |--- BMI >  -0.26\n",
    "|   |   |--- Glucose <= 1.40\n",
    "|   |   |   |--- Age <= -0.23\n",
    "|   |   |   |   |--- BloodPressure <= -0.42\n",
    "|   |   |   |   |   |--- class: 1\n",
    "|   |   |   |   |--- BloodPressure >  -0.42\n",
    "|   |   |   |   |   |--- class: 0\n",
    "|   |   |   |--- Age >  -0.23\n",
    "|   |   |   |   |--- DiabetesPedigreeFunction <= -0.13\n",
    "|   |   |   |   |   |--- class: 1\n",
    "|   |   |   |   |--- DiabetesPedigreeFunction >  -0.13\n",
    "|   |   |   |   |   |--- class: 1\n",
    "|   |   |--- Glucose >  1.40\n",
    "|   |   |   |--- DiabetesPedigreeFunction <= 2.89\n",
    "|   |   |   |   |--- DiabetesPedigreeFunction <= -0.50\n",
    "|   |   |   |   |   |--- class: 1\n",
    "|   |   |   |   |--- DiabetesPedigreeFunction >  -0.50\n",
    "|   |   |   |   |   |--- class: 1\n",
    "|   |   |   |--- DiabetesPedigreeFunction >  2.89\n",
    "|   |   |   |   |--- Glucose <= 1.90\n",
    "|   |   |   |   |   |--- class: 1\n",
    "|   |   |   |   |--- Glucose >  1.90\n",
    "|   |   |   |   |   |--- class: 0\n",
    "\n",
    "```"
   ]
  },
  {
   "cell_type": "markdown",
   "metadata": {},
   "source": [
    "### 2.4 Predicción.\n",
    "\n",
    "Para este ejemplo, realizamos un array de entradas para realizar una sola predicción. Sin embargo, para realizar esta predicción hay que estandarizar el los valores.\n",
    "\n",
    "Para entender el recorrido, vamos a ir iterativamente:\n",
    "\n",
    "1. Hay un valor de -0.09 de Glucosa, por lo que se se inicia al lado derecho.\n",
    "2. De ahí tenemos un valor de -0.19 por lo que vamos al lado izquierdo.\n",
    "3. BMI tiene un valor de 1.75, por lo que nos vamos al lado Derecjo.\n",
    "4. Subsequentemente, volvemos a hacer un split basado en glucosa, por lo que nos vamos al lado izquierdo. \n",
    "5. Finalmente, DiabetesPedigree lo usamos como el último criterio por lo que nos vamos al lado izquierdo, dando como valor de predicción 1\n"
   ]
  },
  {
   "cell_type": "code",
   "execution_count": 46,
   "metadata": {},
   "outputs": [
    {
     "name": "stdout",
     "output_type": "stream",
     "text": [
      "Standarized array:  [[-1.14185152 -0.09059057  0.77001375  1.66000666  1.30417549  1.75242756\n",
      "   0.23896296 -0.19067191]]\n",
      "Predicted Class: 1\n"
     ]
    },
    {
     "name": "stderr",
     "output_type": "stream",
     "text": [
      "c:\\Python310\\lib\\site-packages\\sklearn\\base.py:450: UserWarning: X does not have valid feature names, but StandardScaler was fitted with feature names\n",
      "  warnings.warn(\n"
     ]
    }
   ],
   "source": [
    "X_sample = np.array([0, 118, 84, 47, 230, 45.8, 0.551, 31]).reshape(1, -1)\n",
    "X_tree_test_standardized = scaler.transform(X_sample)\n",
    "print(\"Standarized array: \", X_tree_test_standardized)\n",
    "\n",
    "pred = best_tree.predict(X_tree_test_standardized)\n",
    "print(\"Predicted Class:\", pred[0])"
   ]
  },
  {
   "cell_type": "markdown",
   "metadata": {},
   "source": [
    "## 3 Random Forest\n",
    "\n"
   ]
  },
  {
   "cell_type": "markdown",
   "metadata": {},
   "source": [
    "### 3.1 Implementación de Random Forest\n",
    "\n",
    "Random Forest es un algoritmo de aprendizaje automático supervisado que se utiliza para problemas de clasificación y regresión. Se basa en la idea de combinar múltiples árboles de decisión independientes y no correlacionados para mejorar la precisión y reducir el sobreajuste.\n",
    "\n",
    "Como en el ejercicio anterior, vamos a utilizar 5 folds para realizar una validación cruzada y obtener el accuracy."
   ]
  },
  {
   "cell_type": "code",
   "execution_count": 47,
   "metadata": {},
   "outputs": [
    {
     "name": "stdout",
     "output_type": "stream",
     "text": [
      "Accuracy scores for each fold: [0.75324675 0.74675325 0.74025974 0.83660131 0.75163399]\n",
      "Mean accuracy: 0.7656990068754774\n"
     ]
    }
   ],
   "source": [
    "\n",
    "from sklearn.ensemble import RandomForestClassifier\n",
    "from sklearn.model_selection import cross_val_score\n",
    "\n",
    "\n",
    "rf_classifier = RandomForestClassifier(random_state=42)\n",
    "cv_scores = cross_val_score(rf_classifier, X, y, cv=5, scoring='accuracy')\n",
    "\n",
    "\n",
    "print(\"Accuracy scores for each fold:\", cv_scores)\n",
    "print(\"Mean accuracy:\", np.mean(cv_scores))"
   ]
  },
  {
   "cell_type": "markdown",
   "metadata": {},
   "source": [
    "### 3.2 Diferentes Configuraciones\n",
    "\n",
    "En este ejercicio, vamos a probar diferentes configuraciones para Random Forest. Vamos a guardar el mejor resultado."
   ]
  },
  {
   "cell_type": "code",
   "execution_count": 48,
   "metadata": {},
   "outputs": [
    {
     "name": "stdout",
     "output_type": "stream",
     "text": [
      "n_estimators: 50, Mean Accuracy: 0.7747559629912572\n",
      "n_estimators: 100, Mean Accuracy: 0.7656990068754774\n",
      "n_estimators: 150, Mean Accuracy: 0.7722179781003311\n",
      "n_estimators: 200, Mean Accuracy: 0.7670061964179611\n",
      "n_estimators: 500, Mean Accuracy: 0.7670061964179611\n",
      "n_estimators: 1000, Mean Accuracy: 0.7696120872591461\n",
      "\n",
      "Best setup: n_estimators=50, Mean Accuracy=0.7747559629912572\n"
     ]
    }
   ],
   "source": [
    "import numpy as np\n",
    "from sklearn.ensemble import RandomForestClassifier\n",
    "from sklearn.model_selection import cross_val_score\n",
    "\n",
    "\n",
    "n_estimators_values = [50, 100, 150, 200, 500, 1000]\n",
    "rf_array = []\n",
    "best_accuracy = 0.0\n",
    "best_index = -1\n",
    "\n",
    "for index, n_estimators_val in enumerate(n_estimators_values):\n",
    "    rf_classifier = RandomForestClassifier(n_estimators=n_estimators_val, random_state=42)\n",
    "    cv_scores = cross_val_score(rf_classifier, X, y, cv=5, scoring='accuracy')\n",
    "    mean_accuracy = np.mean(cv_scores)\n",
    "\n",
    "    if mean_accuracy > best_accuracy:\n",
    "        best_accuracy = mean_accuracy\n",
    "        best_index = index\n",
    "    \n",
    "    rf_array.append(rf_classifier)\n",
    "    print(f\"n_estimators: {n_estimators_val}, Mean Accuracy: {mean_accuracy}\")\n",
    "\n",
    "best_n_estimators = n_estimators_values[best_index]\n",
    "best_rf = rf_array[best_index]\n",
    "\n",
    "print(f\"\\nBest setup: n_estimators={best_n_estimators}, Mean Accuracy={best_accuracy}\")"
   ]
  },
  {
   "cell_type": "markdown",
   "metadata": {},
   "source": [
    "## 4 Perceptron"
   ]
  },
  {
   "cell_type": "markdown",
   "metadata": {},
   "source": [
    "### 4.1 Definición de Perceeptron\n",
    "\n",
    "Como en las tareas pasadas, vamos a evaluar un Perceptron de multicapas. Sin embargo, para la capa de salida vamos a utilizar la función Softmax para generar la salida de predicción."
   ]
  },
  {
   "cell_type": "code",
   "execution_count": 49,
   "metadata": {},
   "outputs": [],
   "source": [
    "import numpy as np\n",
    "import torch\n",
    "import torch.nn as nn\n",
    "import torch.optim as optim\n",
    "from torch.utils.data import DataLoader, TensorDataset\n",
    "\n",
    "y_test = y_test.values\n",
    "\n",
    "X_train_tensor = torch.tensor(X_train, dtype=torch.float32)\n",
    "y_train_tensor = torch.tensor(y_train, dtype=torch.int64)\n",
    "X_test_tensor = torch.tensor(X_test, dtype=torch.float32)\n",
    "y_test_tensor = torch.tensor(y_test, dtype=torch.int64)\n",
    "\n",
    "train_dataset = TensorDataset(X_train_tensor, y_train_tensor)\n",
    "train_loader = DataLoader(train_dataset, batch_size=32, shuffle=True)\n",
    "test_dataset = TensorDataset(X_test_tensor, y_test_tensor)\n",
    "test_loader = DataLoader(test_dataset, batch_size=32, shuffle=False)\n"
   ]
  },
  {
   "cell_type": "code",
   "execution_count": 50,
   "metadata": {},
   "outputs": [],
   "source": [
    "class MLPClassifier(nn.Module):\n",
    "    def __init__(self, input_size, hidden_size1, hidden_size2, output_size):\n",
    "        super(MLPClassifier, self).__init__()\n",
    "        self.fc1 = nn.Linear(input_size, hidden_size1)\n",
    "        self.fc2 = nn.Linear(hidden_size1, hidden_size2)\n",
    "        self.fc3 = nn.Linear(hidden_size2, output_size)\n",
    "        self.relu = nn.ReLU()\n",
    "        self.softmax = nn.Softmax(dim=1)\n",
    "\n",
    "    def forward(self, x):\n",
    "        x = self.relu(self.fc1(x))\n",
    "        x = self.relu(self.fc2(x))\n",
    "        x = self.fc3(x)\n",
    "        return self.softmax(x)"
   ]
  },
  {
   "cell_type": "code",
   "execution_count": 51,
   "metadata": {},
   "outputs": [
    {
     "data": {
      "text/plain": [
       "MLPClassifier(\n",
       "  (fc1): Linear(in_features=8, out_features=64, bias=True)\n",
       "  (fc2): Linear(in_features=64, out_features=32, bias=True)\n",
       "  (fc3): Linear(in_features=32, out_features=2, bias=True)\n",
       "  (relu): ReLU()\n",
       "  (softmax): Softmax(dim=1)\n",
       ")"
      ]
     },
     "execution_count": 51,
     "metadata": {},
     "output_type": "execute_result"
    }
   ],
   "source": [
    "input_size = X_train.shape[1]\n",
    "hidden_size1 = 64\n",
    "hidden_size2 = 32\n",
    "output_size = len(np.unique(y))\n",
    "model = MLPClassifier(input_size, hidden_size1, hidden_size2, output_size)\n",
    "model"
   ]
  },
  {
   "cell_type": "code",
   "execution_count": 52,
   "metadata": {},
   "outputs": [
    {
     "name": "stdout",
     "output_type": "stream",
     "text": [
      "Test Accuracy: 0.6948\n"
     ]
    }
   ],
   "source": [
    "criterion = nn.CrossEntropyLoss()\n",
    "optimizer = optim.Adam(model.parameters(), lr=0.001)\n",
    "\n",
    "num_epochs = 300\n",
    "for epoch in range(num_epochs):\n",
    "    for inputs, targets in train_loader:\n",
    "        optimizer.zero_grad()\n",
    "        outputs = model(inputs)\n",
    "        loss = criterion(outputs, targets)\n",
    "        loss.backward()\n",
    "        optimizer.step()\n",
    "\n",
    "\n",
    "model.eval()\n",
    "total_correct = 0\n",
    "total_samples = 0\n",
    "with torch.no_grad():\n",
    "    for inputs, targets in test_loader:\n",
    "        outputs = model(inputs)\n",
    "        _, predicted = torch.max(outputs, 1)\n",
    "        total_correct += (predicted == targets).sum().item()\n",
    "        total_samples += targets.size(0)\n",
    "\n",
    "test_accuracy = total_correct / total_samples\n",
    "print(f'Test Accuracy: {test_accuracy:.4f}')"
   ]
  },
  {
   "cell_type": "markdown",
   "metadata": {},
   "source": [
    "### 4.2 Resultados\n",
    "\n",
    "Hemos obtenido un accuracy de 69%. Además vamos a realizar una predicción con un arreglo que se va a estandarizar."
   ]
  },
  {
   "cell_type": "code",
   "execution_count": 53,
   "metadata": {},
   "outputs": [
    {
     "name": "stdout",
     "output_type": "stream",
     "text": [
      "Predicted Class: 1\n"
     ]
    },
    {
     "name": "stderr",
     "output_type": "stream",
     "text": [
      "c:\\Python310\\lib\\site-packages\\sklearn\\base.py:450: UserWarning: X does not have valid feature names, but StandardScaler was fitted with feature names\n",
      "  warnings.warn(\n"
     ]
    }
   ],
   "source": [
    "X_sample = np.array([[0, 118, 84, 47, 230, 45.8, 0.551, 31]])\n",
    "\n",
    "X_sample_standardized = scaler.transform(X_sample)\n",
    "sample_tensor = torch.tensor(X_sample_standardized, dtype=torch.float32)\n",
    "model.eval()\n",
    "\n",
    "with torch.no_grad():\n",
    "    output = model(sample_tensor)\n",
    "    _, predicted_class = torch.max(output, 1)\n",
    "\n",
    "predicted_class = predicted_class.numpy()[0]\n",
    "print(\"Predicted Class:\", predicted_class)"
   ]
  },
  {
   "cell_type": "markdown",
   "metadata": {},
   "source": [
    "### Conclusiones\n",
    "\n",
    "1. Precisión del Árbol de Clasificación: El modelo de Árbol de Clasificación obtuvo el mejor resultado en términos de precisión en comparación con los otros dos modelos (Perceptrón y Random Forest). Esto sugiere que el Árbol de Clasificación es más efectivo en capturar patrones y relaciones en los datos para hacer predicciones.\n",
    "\n",
    "2. Desempeño del Perceptrón: El Perceptrón mostró el peor rendimiento en términos de precisión en comparación con los otros modelos. Esto puede deberse a que el Perceptrón es un modelo de aprendizaje lineal y puede no ser adecuado para problemas más complejos o no lineales.\n",
    "\n",
    "3. Limitaciones en el Accuracy: A pesar de que el Árbol de Clasificación fue el mejor modelo, ninguno de los modelos alcanzó un accuracy de 0.8. Esto podría sugerir que el conjunto de datos es desafiante o que se necesita más trabajo en la ingeniería de características para mejorar el rendimiento.\n",
    "\n",
    "4. Posible mejora al Random Forest: Dado que el Random Forest es conocido por su robustez y capacidad para reducir el sobreajuste, es posible que ajustando los hiperparámetros del modelo o incrementando el número de árboles, se pueda mejorar su rendimiento y acercarlo al del Árbol de Clasificación."
   ]
  }
 ],
 "metadata": {
  "colab": {
   "collapsed_sections": [],
   "name": "Trabajo_Práctico_1_Matemática_para_Ciencia_de_los_Datos.ipynb",
   "provenance": []
  },
  "kernelspec": {
   "display_name": "Python 3 (ipykernel)",
   "language": "python",
   "name": "python3"
  },
  "language_info": {
   "codemirror_mode": {
    "name": "ipython",
    "version": 3
   },
   "file_extension": ".py",
   "mimetype": "text/x-python",
   "name": "python",
   "nbconvert_exporter": "python",
   "pygments_lexer": "ipython3",
   "version": "3.10.3"
  }
 },
 "nbformat": 4,
 "nbformat_minor": 4
}
