{
 "cells": [
  {
   "cell_type": "markdown",
   "metadata": {},
   "source": [
    "# Tarea Programada 4\n",
    "\n",
    "**Profesora**: María Auxiliadora Mora\n",
    "\n",
    "**Estudiante**: Marco Ferraro\n",
    "\n",
    "Profesora: María Auxiliadora Mora\n",
    "\n",
    "Estudiante: Marco Ferraro Rodríguez\n",
    "\n",
    "Medio de entrega: Por medio del TEC-Digital.\n",
    "\n",
    "Entregables: Un archivo en Jupyter ( .IPYNB ). \n",
    "\n",
    "Modo de trabajo: Individual\n",
    "\n",
    "---\n",
    "\n",
    "Resumen: En el presente trabajo se realizarán ejercicios para repasar algunos conceptos sobre clustering\n",
    "\n",
    "---\n"
   ]
  },
  {
   "cell_type": "markdown",
   "metadata": {},
   "source": [
    "## 1. Datos\n",
    "\n",
    "Para este proyecto se va a usar datos relacionados a Costa Rica. Para la tarea vamos a usar datos relacionados a los aeropuertos del país. \n",
    "\n",
    "Los datos utilizados se pueden encontrar en el siguiente enlace: https://data.world/ourairports/f715d50b-b28f-4644-abc9-0004e0f894c9"
   ]
  },
  {
   "cell_type": "markdown",
   "metadata": {},
   "source": [
    "### 1.1 Carga de datos\n",
    "\n",
    "En esta sección se cargaran los datos a un data frame utilizando pandas."
   ]
  },
  {
   "cell_type": "code",
   "execution_count": 1,
   "metadata": {},
   "outputs": [
    {
     "data": {
      "text/html": [
       "<div>\n",
       "<style scoped>\n",
       "    .dataframe tbody tr th:only-of-type {\n",
       "        vertical-align: middle;\n",
       "    }\n",
       "\n",
       "    .dataframe tbody tr th {\n",
       "        vertical-align: top;\n",
       "    }\n",
       "\n",
       "    .dataframe thead th {\n",
       "        text-align: right;\n",
       "    }\n",
       "</style>\n",
       "<table border=\"1\" class=\"dataframe\">\n",
       "  <thead>\n",
       "    <tr style=\"text-align: right;\">\n",
       "      <th></th>\n",
       "      <th>id</th>\n",
       "      <th>ident</th>\n",
       "      <th>type</th>\n",
       "      <th>name</th>\n",
       "      <th>latitude_deg</th>\n",
       "      <th>longitude_deg</th>\n",
       "      <th>elevation_ft</th>\n",
       "      <th>continent</th>\n",
       "      <th>iso_country</th>\n",
       "      <th>iso_region</th>\n",
       "      <th>municipality</th>\n",
       "      <th>scheduled_service</th>\n",
       "      <th>gps_code</th>\n",
       "      <th>iata_code</th>\n",
       "      <th>local_code</th>\n",
       "      <th>home_link</th>\n",
       "      <th>wikipedia_link</th>\n",
       "      <th>keywords</th>\n",
       "      <th>score</th>\n",
       "      <th>last_updated</th>\n",
       "    </tr>\n",
       "  </thead>\n",
       "  <tbody>\n",
       "    <tr>\n",
       "      <th>1</th>\n",
       "      <td>4810</td>\n",
       "      <td>MROC</td>\n",
       "      <td>medium_airport</td>\n",
       "      <td>Juan Santamaria International Airport</td>\n",
       "      <td>9.993860244750977</td>\n",
       "      <td>-84.20880126953125</td>\n",
       "      <td>3021</td>\n",
       "      <td>NaN</td>\n",
       "      <td>CR</td>\n",
       "      <td>CR-A</td>\n",
       "      <td>San Jose</td>\n",
       "      <td>1</td>\n",
       "      <td>MROC</td>\n",
       "      <td>SJO</td>\n",
       "      <td>NaN</td>\n",
       "      <td>NaN</td>\n",
       "      <td>http://en.wikipedia.org/wiki/Juan_Santamar%C3%...</td>\n",
       "      <td>NaN</td>\n",
       "      <td>1050</td>\n",
       "      <td>2008-08-10T07:52:45+00:00</td>\n",
       "    </tr>\n",
       "    <tr>\n",
       "      <th>2</th>\n",
       "      <td>4806</td>\n",
       "      <td>MRLB</td>\n",
       "      <td>large_airport</td>\n",
       "      <td>Daniel Oduber Quiros International Airport</td>\n",
       "      <td>10.5933</td>\n",
       "      <td>-85.544403</td>\n",
       "      <td>270</td>\n",
       "      <td>NaN</td>\n",
       "      <td>CR</td>\n",
       "      <td>CR-G</td>\n",
       "      <td>Liberia</td>\n",
       "      <td>1</td>\n",
       "      <td>MRLB</td>\n",
       "      <td>LIR</td>\n",
       "      <td>NaN</td>\n",
       "      <td>NaN</td>\n",
       "      <td>http://en.wikipedia.org/wiki/Daniel_Oduber_Qui...</td>\n",
       "      <td>NaN</td>\n",
       "      <td>875</td>\n",
       "      <td>2018-07-12T02:50:33+00:00</td>\n",
       "    </tr>\n",
       "    <tr>\n",
       "      <th>3</th>\n",
       "      <td>4813</td>\n",
       "      <td>MRPV</td>\n",
       "      <td>medium_airport</td>\n",
       "      <td>Tobias Bolanos International Airport</td>\n",
       "      <td>9.957050323486328</td>\n",
       "      <td>-84.13980102539062</td>\n",
       "      <td>3287</td>\n",
       "      <td>NaN</td>\n",
       "      <td>CR</td>\n",
       "      <td>CR-SJ</td>\n",
       "      <td>San Jose</td>\n",
       "      <td>1</td>\n",
       "      <td>MRPV</td>\n",
       "      <td>SYQ</td>\n",
       "      <td>NaN</td>\n",
       "      <td>NaN</td>\n",
       "      <td>http://en.wikipedia.org/wiki/Tob%C3%ADas_Bola%...</td>\n",
       "      <td>NaN</td>\n",
       "      <td>875</td>\n",
       "      <td>2008-09-27T10:20:14+00:00</td>\n",
       "    </tr>\n",
       "    <tr>\n",
       "      <th>4</th>\n",
       "      <td>4814</td>\n",
       "      <td>MRQP</td>\n",
       "      <td>medium_airport</td>\n",
       "      <td>Quepos Managua Airport</td>\n",
       "      <td>9.443160057067871</td>\n",
       "      <td>-84.12979888916016</td>\n",
       "      <td>85</td>\n",
       "      <td>NaN</td>\n",
       "      <td>CR</td>\n",
       "      <td>CR-P</td>\n",
       "      <td>Quepos</td>\n",
       "      <td>1</td>\n",
       "      <td>MRQP</td>\n",
       "      <td>XQP</td>\n",
       "      <td>NaN</td>\n",
       "      <td>NaN</td>\n",
       "      <td>http://en.wikipedia.org/wiki/Quepos_Managua_Ai...</td>\n",
       "      <td>NaN</td>\n",
       "      <td>800</td>\n",
       "      <td>2008-06-13T14:30:04+00:00</td>\n",
       "    </tr>\n",
       "    <tr>\n",
       "      <th>5</th>\n",
       "      <td>4796</td>\n",
       "      <td>MRBA</td>\n",
       "      <td>medium_airport</td>\n",
       "      <td>Buenos Aires Airport</td>\n",
       "      <td>9.163949</td>\n",
       "      <td>-83.330171</td>\n",
       "      <td>1214</td>\n",
       "      <td>NaN</td>\n",
       "      <td>CR</td>\n",
       "      <td>CR-P</td>\n",
       "      <td>Punta Arenas</td>\n",
       "      <td>0</td>\n",
       "      <td>MRBA</td>\n",
       "      <td>BAI</td>\n",
       "      <td>NaN</td>\n",
       "      <td>NaN</td>\n",
       "      <td>https://en.wikipedia.org/wiki/Buenos_Aires_Air...</td>\n",
       "      <td>NaN</td>\n",
       "      <td>250</td>\n",
       "      <td>2016-06-06T07:31:45+00:00</td>\n",
       "    </tr>\n",
       "  </tbody>\n",
       "</table>\n",
       "</div>"
      ],
      "text/plain": [
       "     id ident            type                                        name  \\\n",
       "1  4810  MROC  medium_airport       Juan Santamaria International Airport   \n",
       "2  4806  MRLB   large_airport  Daniel Oduber Quiros International Airport   \n",
       "3  4813  MRPV  medium_airport        Tobias Bolanos International Airport   \n",
       "4  4814  MRQP  medium_airport                      Quepos Managua Airport   \n",
       "5  4796  MRBA  medium_airport                        Buenos Aires Airport   \n",
       "\n",
       "        latitude_deg       longitude_deg elevation_ft continent iso_country  \\\n",
       "1  9.993860244750977  -84.20880126953125         3021       NaN          CR   \n",
       "2            10.5933          -85.544403          270       NaN          CR   \n",
       "3  9.957050323486328  -84.13980102539062         3287       NaN          CR   \n",
       "4  9.443160057067871  -84.12979888916016           85       NaN          CR   \n",
       "5           9.163949          -83.330171         1214       NaN          CR   \n",
       "\n",
       "  iso_region  municipality scheduled_service gps_code iata_code local_code  \\\n",
       "1       CR-A      San Jose                 1     MROC       SJO        NaN   \n",
       "2       CR-G       Liberia                 1     MRLB       LIR        NaN   \n",
       "3      CR-SJ      San Jose                 1     MRPV       SYQ        NaN   \n",
       "4       CR-P        Quepos                 1     MRQP       XQP        NaN   \n",
       "5       CR-P  Punta Arenas                 0     MRBA       BAI        NaN   \n",
       "\n",
       "  home_link                                     wikipedia_link keywords score  \\\n",
       "1       NaN  http://en.wikipedia.org/wiki/Juan_Santamar%C3%...      NaN  1050   \n",
       "2       NaN  http://en.wikipedia.org/wiki/Daniel_Oduber_Qui...      NaN   875   \n",
       "3       NaN  http://en.wikipedia.org/wiki/Tob%C3%ADas_Bola%...      NaN   875   \n",
       "4       NaN  http://en.wikipedia.org/wiki/Quepos_Managua_Ai...      NaN   800   \n",
       "5       NaN  https://en.wikipedia.org/wiki/Buenos_Aires_Air...      NaN   250   \n",
       "\n",
       "                last_updated  \n",
       "1  2008-08-10T07:52:45+00:00  \n",
       "2  2018-07-12T02:50:33+00:00  \n",
       "3  2008-09-27T10:20:14+00:00  \n",
       "4  2008-06-13T14:30:04+00:00  \n",
       "5  2016-06-06T07:31:45+00:00  "
      ]
     },
     "execution_count": 1,
     "metadata": {},
     "output_type": "execute_result"
    }
   ],
   "source": [
    "import pandas as pd\n",
    "\n",
    "df = pd.read_csv('./data/data.csv')\n",
    "df = df.drop(df.index[0])\n",
    "\n",
    "\n",
    "df.head()"
   ]
  },
  {
   "cell_type": "code",
   "execution_count": 2,
   "metadata": {},
   "outputs": [
    {
     "data": {
      "text/plain": [
       "array(['medium_airport', 'large_airport', 'small_airport', 'closed',\n",
       "       'heliport'], dtype=object)"
      ]
     },
     "execution_count": 2,
     "metadata": {},
     "output_type": "execute_result"
    }
   ],
   "source": [
    "labels = df['type']\n",
    "\n",
    "labels.unique()"
   ]
  },
  {
   "cell_type": "code",
   "execution_count": 3,
   "metadata": {},
   "outputs": [
    {
     "data": {
      "text/plain": [
       "1    medium_airport\n",
       "2     large_airport\n",
       "3    medium_airport\n",
       "4    medium_airport\n",
       "5    medium_airport\n",
       "Name: type, dtype: object"
      ]
     },
     "execution_count": 3,
     "metadata": {},
     "output_type": "execute_result"
    }
   ],
   "source": [
    "labels.head()"
   ]
  },
  {
   "cell_type": "markdown",
   "metadata": {},
   "source": [
    "### 1.2 Preprocesamiento\n",
    "\n",
    "Este dataset maneja muchas columnas. Para un algoritmo de clustering es mejor reducir la dimensionalidad del dataset. Por lo tanto se van a eliminar varias columnas."
   ]
  },
  {
   "cell_type": "code",
   "execution_count": 4,
   "metadata": {},
   "outputs": [
    {
     "data": {
      "text/html": [
       "<div>\n",
       "<style scoped>\n",
       "    .dataframe tbody tr th:only-of-type {\n",
       "        vertical-align: middle;\n",
       "    }\n",
       "\n",
       "    .dataframe tbody tr th {\n",
       "        vertical-align: top;\n",
       "    }\n",
       "\n",
       "    .dataframe thead th {\n",
       "        text-align: right;\n",
       "    }\n",
       "</style>\n",
       "<table border=\"1\" class=\"dataframe\">\n",
       "  <thead>\n",
       "    <tr style=\"text-align: right;\">\n",
       "      <th></th>\n",
       "      <th>latitude_deg</th>\n",
       "      <th>longitude_deg</th>\n",
       "      <th>elevation_ft</th>\n",
       "      <th>municipality</th>\n",
       "      <th>score</th>\n",
       "    </tr>\n",
       "  </thead>\n",
       "  <tbody>\n",
       "    <tr>\n",
       "      <th>1</th>\n",
       "      <td>9.993860244750977</td>\n",
       "      <td>-84.20880126953125</td>\n",
       "      <td>3021</td>\n",
       "      <td>San Jose</td>\n",
       "      <td>1050</td>\n",
       "    </tr>\n",
       "    <tr>\n",
       "      <th>2</th>\n",
       "      <td>10.5933</td>\n",
       "      <td>-85.544403</td>\n",
       "      <td>270</td>\n",
       "      <td>Liberia</td>\n",
       "      <td>875</td>\n",
       "    </tr>\n",
       "    <tr>\n",
       "      <th>3</th>\n",
       "      <td>9.957050323486328</td>\n",
       "      <td>-84.13980102539062</td>\n",
       "      <td>3287</td>\n",
       "      <td>San Jose</td>\n",
       "      <td>875</td>\n",
       "    </tr>\n",
       "    <tr>\n",
       "      <th>4</th>\n",
       "      <td>9.443160057067871</td>\n",
       "      <td>-84.12979888916016</td>\n",
       "      <td>85</td>\n",
       "      <td>Quepos</td>\n",
       "      <td>800</td>\n",
       "    </tr>\n",
       "    <tr>\n",
       "      <th>5</th>\n",
       "      <td>9.163949</td>\n",
       "      <td>-83.330171</td>\n",
       "      <td>1214</td>\n",
       "      <td>Punta Arenas</td>\n",
       "      <td>250</td>\n",
       "    </tr>\n",
       "  </tbody>\n",
       "</table>\n",
       "</div>"
      ],
      "text/plain": [
       "        latitude_deg       longitude_deg elevation_ft  municipality score\n",
       "1  9.993860244750977  -84.20880126953125         3021      San Jose  1050\n",
       "2            10.5933          -85.544403          270       Liberia   875\n",
       "3  9.957050323486328  -84.13980102539062         3287      San Jose   875\n",
       "4  9.443160057067871  -84.12979888916016           85        Quepos   800\n",
       "5           9.163949          -83.330171         1214  Punta Arenas   250"
      ]
     },
     "execution_count": 4,
     "metadata": {},
     "output_type": "execute_result"
    }
   ],
   "source": [
    "columns_to_drop = [\n",
    "                      \"id\", \"ident\", \"type\", \"name\", \"continent\", \"iso_country\", \"iso_region\", \"scheduled_service\", \"gps_code\", \"iata_code\", \"local_code\", \"home_link\", \"wikipedia_link\", \"keywords\", \"last_updated\"\n",
    "                  ]\n",
    "\n",
    "df = df.drop(columns=columns_to_drop)\n",
    "\n",
    "df.head()"
   ]
  },
  {
   "cell_type": "markdown",
   "metadata": {},
   "source": [
    "Se decidió solo utilizar las columnas `latitude_deg`, `longitude_deg`, `elevation_ft`, `municipality` y `score`. Se decidieron estas columnas ya que son las que, intuitivamente nos ayudan a agrupar las caracteristicas de un aeropuerto.\n",
    "\n",
    "`municipality` es una variable categorica, por lo que hay que representarlo de forma númerica. A continuación se hara un mappeo de todas la municipalidades en el dataset y se le asignará un valor único a cada municipalidad."
   ]
  },
  {
   "cell_type": "code",
   "execution_count": 5,
   "metadata": {},
   "outputs": [
    {
     "data": {
      "text/plain": [
       "array(['San Jose', 'Liberia', 'Quepos', 'Punta Arenas', 'Nicoya',\n",
       "       'Puerto Limon', 'Pococi', 'Roxana', 'La Fortuna/San Carlos',\n",
       "       'Nicoya/Guanacate', 'Puntarenas', 'Tamarindo', 'Corredores',\n",
       "       'Golfito', 'Palmar Sur', 'Puerto Jimenez', 'Nandayure',\n",
       "       'Coto Brus', 'Los Chiles', 'Upala', 'Abangares', 'Alajuela',\n",
       "       'Amubri', 'Bagaces', 'Brasilito', 'Cañas', 'Carrillo', 'Carrizal',\n",
       "       'Chorotega', 'Filadelfia', 'Florencia', 'Garza', 'Guacimo',\n",
       "       'Guanacaste', 'Guapiles', 'Jaco', 'La Cruz', 'Las Trancas',\n",
       "       'Limón', 'Miramar', 'Orotina', 'Paquera', 'Parrita', 'Paso Canoas',\n",
       "       'Pérez Zeledón', 'Portalón', 'Puerto Cortés',\n",
       "       'Rio Frio / Progreso', 'Ron Ron', 'Salama', 'San Carlos',\n",
       "       'San Pedro', 'Santa Cruz', 'Sarapiqui', 'Siquirres', 'Sixaola',\n",
       "       'Talamanca', 'Ticabán', 'Turrialba', 'Zapotal', nan,\n",
       "       'AltaGracia Resort', 'Area metropolitana', 'Escazu',\n",
       "       'Marina Resort', 'Península de Osa', 'Potrero Grande',\n",
       "       'San Isidro', 'San José', 'Tortuguero', 'Trinidad', 'Uvita'],\n",
       "      dtype=object)"
      ]
     },
     "execution_count": 5,
     "metadata": {},
     "output_type": "execute_result"
    }
   ],
   "source": [
    "locations = df['municipality'].unique()\n",
    "\n",
    "locations"
   ]
  },
  {
   "cell_type": "code",
   "execution_count": 6,
   "metadata": {},
   "outputs": [
    {
     "data": {
      "text/html": [
       "<div>\n",
       "<style scoped>\n",
       "    .dataframe tbody tr th:only-of-type {\n",
       "        vertical-align: middle;\n",
       "    }\n",
       "\n",
       "    .dataframe tbody tr th {\n",
       "        vertical-align: top;\n",
       "    }\n",
       "\n",
       "    .dataframe thead th {\n",
       "        text-align: right;\n",
       "    }\n",
       "</style>\n",
       "<table border=\"1\" class=\"dataframe\">\n",
       "  <thead>\n",
       "    <tr style=\"text-align: right;\">\n",
       "      <th></th>\n",
       "      <th>latitude_deg</th>\n",
       "      <th>longitude_deg</th>\n",
       "      <th>elevation_ft</th>\n",
       "      <th>municipality</th>\n",
       "      <th>score</th>\n",
       "    </tr>\n",
       "  </thead>\n",
       "  <tbody>\n",
       "    <tr>\n",
       "      <th>1</th>\n",
       "      <td>9.993860244750977</td>\n",
       "      <td>-84.20880126953125</td>\n",
       "      <td>3021</td>\n",
       "      <td>0</td>\n",
       "      <td>1050</td>\n",
       "    </tr>\n",
       "    <tr>\n",
       "      <th>2</th>\n",
       "      <td>10.5933</td>\n",
       "      <td>-85.544403</td>\n",
       "      <td>270</td>\n",
       "      <td>1</td>\n",
       "      <td>875</td>\n",
       "    </tr>\n",
       "    <tr>\n",
       "      <th>3</th>\n",
       "      <td>9.957050323486328</td>\n",
       "      <td>-84.13980102539062</td>\n",
       "      <td>3287</td>\n",
       "      <td>0</td>\n",
       "      <td>875</td>\n",
       "    </tr>\n",
       "    <tr>\n",
       "      <th>4</th>\n",
       "      <td>9.443160057067871</td>\n",
       "      <td>-84.12979888916016</td>\n",
       "      <td>85</td>\n",
       "      <td>2</td>\n",
       "      <td>800</td>\n",
       "    </tr>\n",
       "    <tr>\n",
       "      <th>5</th>\n",
       "      <td>9.163949</td>\n",
       "      <td>-83.330171</td>\n",
       "      <td>1214</td>\n",
       "      <td>3</td>\n",
       "      <td>250</td>\n",
       "    </tr>\n",
       "  </tbody>\n",
       "</table>\n",
       "</div>"
      ],
      "text/plain": [
       "        latitude_deg       longitude_deg elevation_ft  municipality score\n",
       "1  9.993860244750977  -84.20880126953125         3021             0  1050\n",
       "2            10.5933          -85.544403          270             1   875\n",
       "3  9.957050323486328  -84.13980102539062         3287             0   875\n",
       "4  9.443160057067871  -84.12979888916016           85             2   800\n",
       "5           9.163949          -83.330171         1214             3   250"
      ]
     },
     "execution_count": 6,
     "metadata": {},
     "output_type": "execute_result"
    }
   ],
   "source": [
    "mapping = {location: index for index, location in enumerate(locations)}\n",
    "\n",
    "# Replace the values in the 'municipality' column with their indices\n",
    "df['municipality'] = df['municipality'].replace(mapping)\n",
    "\n",
    "\n",
    "\n",
    "df.head()"
   ]
  },
  {
   "cell_type": "markdown",
   "metadata": {},
   "source": [
    "Otro aspecto importante es que vamos a eliminar las filas que tengan valores faltantes. Asimismo vamos a pasar el df actual como nuestra X. Recordemos que los labels los habiamos extraidos previamente."
   ]
  },
  {
   "cell_type": "code",
   "execution_count": 7,
   "metadata": {},
   "outputs": [
    {
     "data": {
      "text/html": [
       "<div>\n",
       "<style scoped>\n",
       "    .dataframe tbody tr th:only-of-type {\n",
       "        vertical-align: middle;\n",
       "    }\n",
       "\n",
       "    .dataframe tbody tr th {\n",
       "        vertical-align: top;\n",
       "    }\n",
       "\n",
       "    .dataframe thead th {\n",
       "        text-align: right;\n",
       "    }\n",
       "</style>\n",
       "<table border=\"1\" class=\"dataframe\">\n",
       "  <thead>\n",
       "    <tr style=\"text-align: right;\">\n",
       "      <th></th>\n",
       "      <th>latitude_deg</th>\n",
       "      <th>longitude_deg</th>\n",
       "      <th>elevation_ft</th>\n",
       "      <th>municipality</th>\n",
       "      <th>score</th>\n",
       "    </tr>\n",
       "  </thead>\n",
       "  <tbody>\n",
       "    <tr>\n",
       "      <th>1</th>\n",
       "      <td>9.993860244750977</td>\n",
       "      <td>-84.20880126953125</td>\n",
       "      <td>3021</td>\n",
       "      <td>0</td>\n",
       "      <td>1050</td>\n",
       "    </tr>\n",
       "    <tr>\n",
       "      <th>2</th>\n",
       "      <td>10.5933</td>\n",
       "      <td>-85.544403</td>\n",
       "      <td>270</td>\n",
       "      <td>1</td>\n",
       "      <td>875</td>\n",
       "    </tr>\n",
       "    <tr>\n",
       "      <th>3</th>\n",
       "      <td>9.957050323486328</td>\n",
       "      <td>-84.13980102539062</td>\n",
       "      <td>3287</td>\n",
       "      <td>0</td>\n",
       "      <td>875</td>\n",
       "    </tr>\n",
       "    <tr>\n",
       "      <th>4</th>\n",
       "      <td>9.443160057067871</td>\n",
       "      <td>-84.12979888916016</td>\n",
       "      <td>85</td>\n",
       "      <td>2</td>\n",
       "      <td>800</td>\n",
       "    </tr>\n",
       "    <tr>\n",
       "      <th>5</th>\n",
       "      <td>9.163949</td>\n",
       "      <td>-83.330171</td>\n",
       "      <td>1214</td>\n",
       "      <td>3</td>\n",
       "      <td>250</td>\n",
       "    </tr>\n",
       "    <tr>\n",
       "      <th>...</th>\n",
       "      <td>...</td>\n",
       "      <td>...</td>\n",
       "      <td>...</td>\n",
       "      <td>...</td>\n",
       "      <td>...</td>\n",
       "    </tr>\n",
       "    <tr>\n",
       "      <th>128</th>\n",
       "      <td>9.933333396911621</td>\n",
       "      <td>-84.16666412353516</td>\n",
       "      <td>3296</td>\n",
       "      <td>68</td>\n",
       "      <td>0</td>\n",
       "    </tr>\n",
       "    <tr>\n",
       "      <th>129</th>\n",
       "      <td>10.316699981689453</td>\n",
       "      <td>-83.91670227050781</td>\n",
       "      <td>889</td>\n",
       "      <td>53</td>\n",
       "      <td>0</td>\n",
       "    </tr>\n",
       "    <tr>\n",
       "      <th>130</th>\n",
       "      <td>10.569</td>\n",
       "      <td>-83.5149</td>\n",
       "      <td>19</td>\n",
       "      <td>69</td>\n",
       "      <td>0</td>\n",
       "    </tr>\n",
       "    <tr>\n",
       "      <th>131</th>\n",
       "      <td>9.363861</td>\n",
       "      <td>-83.626046</td>\n",
       "      <td>2822</td>\n",
       "      <td>70</td>\n",
       "      <td>0</td>\n",
       "    </tr>\n",
       "    <tr>\n",
       "      <th>132</th>\n",
       "      <td>9.157537</td>\n",
       "      <td>-83.735446</td>\n",
       "      <td>18</td>\n",
       "      <td>71</td>\n",
       "      <td>0</td>\n",
       "    </tr>\n",
       "  </tbody>\n",
       "</table>\n",
       "<p>131 rows × 5 columns</p>\n",
       "</div>"
      ],
      "text/plain": [
       "           latitude_deg       longitude_deg elevation_ft  municipality score\n",
       "1     9.993860244750977  -84.20880126953125         3021             0  1050\n",
       "2               10.5933          -85.544403          270             1   875\n",
       "3     9.957050323486328  -84.13980102539062         3287             0   875\n",
       "4     9.443160057067871  -84.12979888916016           85             2   800\n",
       "5              9.163949          -83.330171         1214             3   250\n",
       "..                  ...                 ...          ...           ...   ...\n",
       "128   9.933333396911621  -84.16666412353516         3296            68     0\n",
       "129  10.316699981689453  -83.91670227050781          889            53     0\n",
       "130              10.569            -83.5149           19            69     0\n",
       "131            9.363861          -83.626046         2822            70     0\n",
       "132            9.157537          -83.735446           18            71     0\n",
       "\n",
       "[131 rows x 5 columns]"
      ]
     },
     "execution_count": 7,
     "metadata": {},
     "output_type": "execute_result"
    }
   ],
   "source": [
    "df = df.dropna()\n",
    "df"
   ]
  },
  {
   "cell_type": "code",
   "execution_count": 8,
   "metadata": {},
   "outputs": [
    {
     "data": {
      "text/plain": [
       "array([['9.993860244750977', '-84.20880126953125', '3021', 0, '1050'],\n",
       "       ['10.5933', '-85.544403', '270', 1, '875'],\n",
       "       ['9.957050323486328', '-84.13980102539062', '3287', 0, '875'],\n",
       "       ['9.443160057067871', '-84.12979888916016', '85', 2, '800'],\n",
       "       ['9.163949', '-83.330171', '1214', 3, '250'],\n",
       "       ['9.73852', '-85.013802', '33', 4, '50'],\n",
       "       ['9.95796012878418', '-83.02200317382812', '7', 5, '875'],\n",
       "       ['10.768699645996094', '-83.58560180664062', '3', 6, '800'],\n",
       "       ['10.42', '-83.6095', '92', 7, '800'],\n",
       "       ['10.2172002792', '-83.79699707030001', '883', 6, '250'],\n",
       "       ['10.478', '-84.634499', '342', 8, '50'],\n",
       "       ['10.649999618530273', '-85.53299713134766', '177', 1, '50'],\n",
       "       ['10.139399528503418', '-85.44580078125', '365', 9, '50'],\n",
       "       ['9.98141002655', '-84.7726974487', '7', 10, '50'],\n",
       "       ['8.71889019012', '-83.6417007446', '12', 10, '50'],\n",
       "       ['9.391960144042969', '-84.12590026855469', '15', 2, '50'],\n",
       "       ['10.313500404358', '-85.815498352051', '41', 11, '50'],\n",
       "       ['8.60155963897705', '-82.96859741210938', '26', 12, '800'],\n",
       "       ['8.654009819030762', '-83.18219757080078', '49', 13, '800'],\n",
       "       ['9.976490020750001', '-85.65299987790002', '33', 4, '800'],\n",
       "       ['8.951029777526855', '-83.46859741210938', '49', 14, '800'],\n",
       "       ['8.533329963684082', '-83.30000305175781', '7', 15, '800'],\n",
       "       ['9.856109619140625', '-85.37079620361328', '7', 16, '450'],\n",
       "       ['10.355699539185', '-85.852897644043', '33', 4, '450'],\n",
       "       ['8.826109886169434', '-82.95890045166016', '3228', 17, '250'],\n",
       "       ['11.035300254821777', '-84.70610046386719', '131', 18, '250'],\n",
       "       ['10.8922', '-85.016197', '184', 19, '250'],\n",
       "       ['10.083333015441895', '-85.26667022705078', '66', 20, '50'],\n",
       "       ['10.683333396911621', '-84.83333587646484', '164', 21, '50'],\n",
       "       ['9.52163028717041', '-82.95469665527344', '301', 22, '50'],\n",
       "       ['10.516667366027832', '-85.3499984741211', '361', 23, '50'],\n",
       "       ['10.418600082397461', '-85.78269958496094', '270', 24, '50'],\n",
       "       ['10.449999809265137', '-85.1500015258789', '164', 25, '50'],\n",
       "       ['10.366666793823242', '-85.19999694824219', '82', 25, '50'],\n",
       "       ['10.4307003021', '-85.17459869380001', '87', 25, '50'],\n",
       "       ['10.350000381469727', '-85.19999694824219', '108', 25, '50'],\n",
       "       ['9.8705101013184', '-85.481399536133', '50', 26, '50'],\n",
       "       ['10.087599754333496', '-84.16950225830078', '4650', 27, '50'],\n",
       "       ['9.927909851074219', '-84.98999786376953', '16', 28, '50'],\n",
       "       ['10.45359992980957', '-85.55819702148438', '59', 29, '50'],\n",
       "       ['10.399999618530273', '-84.48332977294922', '197', 30, '50'],\n",
       "       ['9.91670036315918', '-85.63330078125', '3', 31, '50'],\n",
       "       ['8.445110321044922', '-83.46499633789062', '16', 13, '50'],\n",
       "       ['10.219499588012695', '-83.58450317382812', '102', 32, '50'],\n",
       "       ['10.333333015441895', '-83.66666412353516', '151', 32, '50'],\n",
       "       ['9.81112003326416', '-85.29550170898438', '43', 33, '50'],\n",
       "       ['10.266667366027832', '-85.43333435058594', '328', 33, '50'],\n",
       "       ['10.483599662780762', '-85.46199798583984', '39', 33, '50'],\n",
       "       ['10.4139995575', '-85.0916976929', '328', 34, '50'],\n",
       "       ['10.351499557495117', '-83.63050079345703', '79', 34, '50'],\n",
       "       ['10.267000198364258', '-83.61699676513672', '32', 34, '50'],\n",
       "       ['9.555270195007324', '-84.556396484375', '20', 35, '50'],\n",
       "       ['10.916666984558105', '-85.71666717529297', '66', 36, '50'],\n",
       "       ['10.567000389099121', '-85.5999984741211', '68', 37, '50'],\n",
       "       ['10.51694393157959', '-85.56555938720703', '66', 1, '50'],\n",
       "       ['10.667222023010254', '-85.51139068603516', '262', 1, '50'],\n",
       "       ['10.68120002746582', '-85.5280990600586', '230', 1, '50'],\n",
       "       ['10.486700057983398', '-85.41419982910156', '49', 1, '50'],\n",
       "       ['9.732170104980469', '-82.98320007324219', '98', 38, '50'],\n",
       "       ['10.288299560546875', '-83.7135009765625', '262', 38, '50'],\n",
       "       ['10.146599769592285', '-83.48819732666016', '88', 38, '50'],\n",
       "       ['10.083333015441895', '-83.31666564941406', '39', 38, '50'],\n",
       "       ['9.550000190734863', '-82.88333129882812', '161', 38, '50'],\n",
       "       ['10.308199882507324', '-83.75430297851562', '312', 38, '50'],\n",
       "       ['10.057268', '-84.807556', '52', 39, '50'],\n",
       "       ['9.851409912109375', '-85.23789978027344', '324', 16, '50'],\n",
       "       ['10.420700073242188', '-85.47200012207031', '33', 4, '50'],\n",
       "       ['10.30840015411377', '-85.46839904785156', '33', 4, '50'],\n",
       "       ['9.733332633972168', '-85.23332977294922', '7', 9, '50'],\n",
       "       ['9.916666984558105', '-84.61666870117188', '417', 40, '50'],\n",
       "       ['9.858309745788574', '-84.69439697265625', '30', 41, '50'],\n",
       "       ['9.533332824707031', '-84.46666717529297', '20', 42, '50'],\n",
       "       ['9.515270233154297', '-84.30149841308594', '16', 42, '50'],\n",
       "       ['9.550000190734863', '-84.56666564941406', '13', 42, '50'],\n",
       "       ['8.534', '-82.866', '328', 43, '50'],\n",
       "       ['9.300000190734863', '-83.61666870117188', '1995', 44, '50'],\n",
       "       ['9.352620124816895', '-83.71309661865234', '2100', 44, '50'],\n",
       "       ['10.300000190734863', '-83.3499984741211', '7', 6, '50'],\n",
       "       ['10.449999809265137', '-83.66666412353516', '492', 6, '50'],\n",
       "       ['10.366666793823242', '-83.8499984741211', '246', 6, '50'],\n",
       "       ['9.357979774475098', '-83.97949981689453', '206', 45, '50'],\n",
       "       ['8.957706', '-83.550308', '26', 46, '50'],\n",
       "       ['8.916350364685059', '-83.5073013305664', '25', 10, '50'],\n",
       "       ['8.90369987487793', '-83.42980194091797', '19', 10, '50'],\n",
       "       ['8.65250015258789', '-83.06529998779297', '36', 10, '50'],\n",
       "       ['8.440409660339355', '-82.90650177001953', '65', 10, '50'],\n",
       "       ['8.64999', '-83.432998657227', '6', 10, '50'],\n",
       "       ['8.35731029510498', '-83.13690185546875', '16', 10, '50'],\n",
       "       ['9.122420310974121', '-83.7063980102539', '7', 10, '50'],\n",
       "       ['9.566666603088379', '-84.51667022705078', '33', 10, '50'],\n",
       "       ['10.066666603088379', '-84.88333129882812', '66', 10, '50'],\n",
       "       ['9.45777702331543', '-84.20899963378906', '18', 2, '50'],\n",
       "       ['10.327400207519531', '-83.88760375976562', '350', 47, '50'],\n",
       "       ['10.300299644470215', '-84.45010375976562', '2109', 48, '50'],\n",
       "       ['8.833000183105469', '-83.25', '32', 49, '50'],\n",
       "       ['10.51669979095459', '-84.36669921875', '226', 50, '50'],\n",
       "       ['10.866700172424316', '-84.5333023071289', '23', 50, '50'],\n",
       "       ['10.447400093078613', '-84.36900329589844', '617', 50, '50'],\n",
       "       ['10.800000190734863', '-84.36666870117188', '230', 50, '50'],\n",
       "       ['10.5', '-84.56666564941406', '259', 50, '50'],\n",
       "       ['10.558300018310547', '-83.9740982055664', '98', 50, '50'],\n",
       "       ['10.47189998626709', '-83.90699768066406', '164', 50, '50'],\n",
       "       ['10.417900085449219', '-83.75299835205078', '230', 51, '50'],\n",
       "       ['10.315600395202637', '-85.6780014038086', '98', 52, '50'],\n",
       "       ['10.316666603088379', '-85.33333587646484', '33', 52, '50'],\n",
       "       ['10.273799896240234', '-85.59149932861328', '206', 52, '50'],\n",
       "       ['10.449999809265137', '-84.08333587646484', '98', 53, '50'],\n",
       "       ['10.566666603088379', '-84.1500015258789', '197', 53, '50'],\n",
       "       ['10.20199966430664', '-83.47219848632812', '56', 54, '50'],\n",
       "       ['10.133333206176758', '-83.58333587646484', '591', 54, '50'],\n",
       "       ['10.066666603088379', '-83.58333587646484', '1325', 54, '50'],\n",
       "       ['9.503219604492188', '-82.63279724121094', '26', 55, '50'],\n",
       "       ['9.580769538879395', '-82.95989990234375', '20', 56, '50'],\n",
       "       ['10.533332824707031', '-83.8499984741211', '33', 57, '50'],\n",
       "       ['9.850000381469727', '-83.6500015258789', '1936', 58, '50'],\n",
       "       ['10.800000190734863', '-84.91666412353516', '295', 19, '50'],\n",
       "       ['9.994009971618652', '-85.3102035522461', '1305', 59, '50'],\n",
       "       ['9.070512', '-83.084948', '3182', 60, '0'],\n",
       "       ['9.011229', '-83.043617', '2526', 60, '0'],\n",
       "       ['9.332707', '-83.582653', '3168', 61, '0'],\n",
       "       ['9.935449600219727', '-84.08049774169922', '102', 62, '0'],\n",
       "       ['9.925832748413086', '-84.08333587646484', '3461', 63, '0'],\n",
       "       ['9.677499771118164', '-84.67166900634766', '16', 64, '0'],\n",
       "       ['9.012758', '-83.180511', '546', 66, '0'],\n",
       "       ['9.38862', '-83.68812', '2575', 67, '0'],\n",
       "       ['9.389821', '-83.677897', '2643', 67, '0'],\n",
       "       ['9.933333396911621', '-84.16666412353516', '3296', 68, '0'],\n",
       "       ['10.316699981689453', '-83.91670227050781', '889', 53, '0'],\n",
       "       ['10.569', '-83.5149', '19', 69, '0'],\n",
       "       ['9.363861', '-83.626046', '2822', 70, '0'],\n",
       "       ['9.157537', '-83.735446', '18', 71, '0']], dtype=object)"
      ]
     },
     "execution_count": 8,
     "metadata": {},
     "output_type": "execute_result"
    }
   ],
   "source": [
    "X = df.to_numpy()\n",
    "X"
   ]
  },
  {
   "cell_type": "markdown",
   "metadata": {},
   "source": [
    "## 2. Clustering\n",
    "\n",
    "El clustering es una técnica de análisis de datos que agrupa objetos similares en conjuntos llamados \"clusters\" o grupos, con el objetivo de encontrar patrones o estructuras ocultas en los datos. Se utiliza en diversas aplicaciones, como segmentación de clientes, análisis de redes sociales, clasificación de documentos y más. Los algoritmos de clustering asignan elementos a grupos en función de similitudes entre ellos, como distancia euclidiana o medidas de similitud. Algunos métodos populares son k-means, jerárquico y DBSCAN."
   ]
  },
  {
   "cell_type": "markdown",
   "metadata": {},
   "source": [
    "### 2.1 DBSCAN \n",
    "\n",
    "DBSCAN es un algoritmo de agrupamiento que encuentra grupos en datos basados en la cercanía entre puntos. Encuentra grupos de diferentes formas y tamaños, y también puede identificar puntos ruidosos. No requiere predefinir el número de grupos y es útil para datos con densidades variables.\n",
    "\n",
    "Se utilizará scikit learn."
   ]
  },
  {
   "cell_type": "code",
   "execution_count": 9,
   "metadata": {},
   "outputs": [
    {
     "data": {
      "image/png": "[encoded data removed]",
      "text/plain": [
       "<Figure size 640x480 with 1 Axes>"
      ]
     },
     "metadata": {},
     "output_type": "display_data"
    }
   ],
   "source": [
    "import numpy as np\n",
    "import matplotlib.pyplot as plt\n",
    "from sklearn.cluster import DBSCAN\n",
    "from sklearn.preprocessing import StandardScaler\n",
    "\n",
    "\n",
    "\n",
    "scaler = StandardScaler()\n",
    "X_scaled = scaler.fit_transform(X)\n",
    "dbscan = DBSCAN(eps=0.5, min_samples=2)\n",
    "yhat = dbscan.fit_predict(X)\n",
    "clusters = np.unique(yhat)\n",
    "\n",
    "# Plot the clusters\n",
    "for cluster in clusters:\n",
    "    row_ix = np.where(yhat == cluster)[0]\n",
    "    plt.scatter(X_scaled[row_ix, 0], X_scaled[row_ix, 1])\n",
    "\n",
    "plt.title('DBSCAN Clustering')\n",
    "plt.show()\n"
   ]
  },
  {
   "cell_type": "markdown",
   "metadata": {},
   "source": [
    "Podemos notar que con 2 min_samples DBSCAN logra acentuar dos clusters."
   ]
  },
  {
   "cell_type": "markdown",
   "metadata": {},
   "source": [
    "### 2.2 K-Means \n",
    "\n",
    "K-means es un algoritmo de agrupamiento que divide datos en grupos basados en similitudes. Funciona asignando puntos a grupos centrados alrededor de \"centroides\". Iterativamente, ajusta los centroides para minimizar las distancias internas y maximizar las distancias entre grupos. Requiere especificar previamente el número de grupos (k) y es eficaz para datos con estructuras claras y bien definidas.\n",
    "\n",
    "Scikit learn nos ofrece un modelo."
   ]
  },
  {
   "cell_type": "code",
   "execution_count": 10,
   "metadata": {},
   "outputs": [
    {
     "name": "stderr",
     "output_type": "stream",
     "text": [
      "c:\\Users\\Marco\\AppData\\Local\\Programs\\Python\\Python311\\Lib\\site-packages\\sklearn\\cluster\\_kmeans.py:1412: FutureWarning: The default value of `n_init` will change from 10 to 'auto' in 1.4. Set the value of `n_init` explicitly to suppress the warning\n",
      "  super()._check_params_vs_input(X, default_n_init=10)\n"
     ]
    },
    {
     "data": {
      "image/png": "[encoded data removed]",
      "text/plain": [
       "<Figure size 640x480 with 1 Axes>"
      ]
     },
     "metadata": {},
     "output_type": "display_data"
    }
   ],
   "source": [
    "import numpy as np\n",
    "import matplotlib.pyplot as plt\n",
    "from sklearn.cluster import KMeans\n",
    "from sklearn.preprocessing import StandardScaler\n",
    "\n",
    "\n",
    "scaler = StandardScaler()\n",
    "X_scaled = scaler.fit_transform(X_scaled)\n",
    "\n",
    "kmeans = KMeans(n_clusters=5, random_state=0)\n",
    "yhat = kmeans.fit_predict(X_scaled)\n",
    "clusters = np.unique(yhat)\n",
    "\n",
    "for cluster in clusters:\n",
    "    row_ix = np.where(yhat == cluster)[0]\n",
    "    plt.scatter(X_scaled[row_ix, 0], X_scaled[row_ix, 1])\n",
    "\n",
    "plt.title('Kmeans Clustering')\n",
    "plt.show()\n"
   ]
  },
  {
   "cell_type": "markdown",
   "metadata": {},
   "source": [
    "Arbitrariamente definimos 5 clusters y obtenemos este gráfico. Notese que, aunque hay 5 clusters, no estan definidos con claridad."
   ]
  },
  {
   "cell_type": "markdown",
   "metadata": {},
   "source": [
    "### 2.3 Birch\n",
    "\n",
    "BIRCH (Balanced Iterative Reducing and Clustering using Hierarchies) es un algoritmo de agrupamiento jerárquico diseñado para manejar grandes conjuntos de datos de manera eficiente. Utiliza una estructura de árbol para reducir los datos gradualmente mientras construye una jerarquía de clusters. Esto permite un procesamiento más rápido y es útil cuando se enfrenta a grandes cantidades de datos. BIRCH se centra en la eficiencia y es adecuado para datos que pueden ser representados en forma de \"resumen\" en lugar de puntos individuales."
   ]
  },
  {
   "cell_type": "code",
   "execution_count": 11,
   "metadata": {},
   "outputs": [
    {
     "data": {
      "image/png": "[encoded data removed]",
      "text/plain": [
       "<Figure size 640x480 with 1 Axes>"
      ]
     },
     "metadata": {},
     "output_type": "display_data"
    }
   ],
   "source": [
    "from sklearn.cluster import Birch\n",
    "\n",
    "scaler = StandardScaler()\n",
    "X_scaled = scaler.fit_transform(X)\n",
    "\n",
    "# Apply BIRCH clustering\n",
    "birch = Birch(n_clusters=5)\n",
    "yhat = birch.fit_predict(X_scaled)\n",
    "clusters = np.unique(yhat)\n",
    "\n",
    "# Plot the BIRCH clusters\n",
    "for cluster in clusters:\n",
    "    row_indices = np.where(yhat == cluster)[0]\n",
    "    plt.scatter(X_scaled[row_indices, 0], X_scaled[row_indices, 1])\n",
    "\n",
    "plt.xlabel('Feature 1')\n",
    "plt.ylabel('Feature 2')\n",
    "plt.title('BIRCH Clustering')\n",
    "plt.show()\n",
    "\n"
   ]
  },
  {
   "cell_type": "markdown",
   "metadata": {},
   "source": [
    "## 3. Hipertunning\n",
    "\n",
    "Para esta sección haremos refinamiento o hipertunning de parametros para todos los modelos anteriores. Adicionalmente volveremos a medir el rendimiento de estos modelos con los parametros respectivos.\n",
    "\n"
   ]
  },
  {
   "cell_type": "markdown",
   "metadata": {},
   "source": [
    "### 3.1 K Means con Elbow Method.\n",
    "\n",
    "El método del codo con K-means ayuda a elegir el número óptimo de grupos al trazar la relación entre la cantidad de grupos y la variación en los datos. Se busca el punto en el gráfico donde la disminución de variación se desacelera significativamente, lo que indica el número adecuado de grupos."
   ]
  },
  {
   "cell_type": "code",
   "execution_count": 12,
   "metadata": {},
   "outputs": [
    {
     "name": "stderr",
     "output_type": "stream",
     "text": [
      "c:\\Users\\Marco\\AppData\\Local\\Programs\\Python\\Python311\\Lib\\site-packages\\sklearn\\cluster\\_kmeans.py:1412: FutureWarning: The default value of `n_init` will change from 10 to 'auto' in 1.4. Set the value of `n_init` explicitly to suppress the warning\n",
      "  super()._check_params_vs_input(X, default_n_init=10)\n",
      "c:\\Users\\Marco\\AppData\\Local\\Programs\\Python\\Python311\\Lib\\site-packages\\sklearn\\cluster\\_kmeans.py:1412: FutureWarning: The default value of `n_init` will change from 10 to 'auto' in 1.4. Set the value of `n_init` explicitly to suppress the warning\n",
      "  super()._check_params_vs_input(X, default_n_init=10)\n",
      "c:\\Users\\Marco\\AppData\\Local\\Programs\\Python\\Python311\\Lib\\site-packages\\sklearn\\cluster\\_kmeans.py:1412: FutureWarning: The default value of `n_init` will change from 10 to 'auto' in 1.4. Set the value of `n_init` explicitly to suppress the warning\n",
      "  super()._check_params_vs_input(X, default_n_init=10)\n",
      "c:\\Users\\Marco\\AppData\\Local\\Programs\\Python\\Python311\\Lib\\site-packages\\sklearn\\cluster\\_kmeans.py:1412: FutureWarning: The default value of `n_init` will change from 10 to 'auto' in 1.4. Set the value of `n_init` explicitly to suppress the warning\n",
      "  super()._check_params_vs_input(X, default_n_init=10)\n",
      "c:\\Users\\Marco\\AppData\\Local\\Programs\\Python\\Python311\\Lib\\site-packages\\sklearn\\cluster\\_kmeans.py:1412: FutureWarning: The default value of `n_init` will change from 10 to 'auto' in 1.4. Set the value of `n_init` explicitly to suppress the warning\n",
      "  super()._check_params_vs_input(X, default_n_init=10)\n",
      "c:\\Users\\Marco\\AppData\\Local\\Programs\\Python\\Python311\\Lib\\site-packages\\sklearn\\cluster\\_kmeans.py:1412: FutureWarning: The default value of `n_init` will change from 10 to 'auto' in 1.4. Set the value of `n_init` explicitly to suppress the warning\n",
      "  super()._check_params_vs_input(X, default_n_init=10)\n",
      "c:\\Users\\Marco\\AppData\\Local\\Programs\\Python\\Python311\\Lib\\site-packages\\sklearn\\cluster\\_kmeans.py:1412: FutureWarning: The default value of `n_init` will change from 10 to 'auto' in 1.4. Set the value of `n_init` explicitly to suppress the warning\n",
      "  super()._check_params_vs_input(X, default_n_init=10)\n",
      "c:\\Users\\Marco\\AppData\\Local\\Programs\\Python\\Python311\\Lib\\site-packages\\sklearn\\cluster\\_kmeans.py:1412: FutureWarning: The default value of `n_init` will change from 10 to 'auto' in 1.4. Set the value of `n_init` explicitly to suppress the warning\n",
      "  super()._check_params_vs_input(X, default_n_init=10)\n",
      "c:\\Users\\Marco\\AppData\\Local\\Programs\\Python\\Python311\\Lib\\site-packages\\sklearn\\cluster\\_kmeans.py:1412: FutureWarning: The default value of `n_init` will change from 10 to 'auto' in 1.4. Set the value of `n_init` explicitly to suppress the warning\n",
      "  super()._check_params_vs_input(X, default_n_init=10)\n",
      "c:\\Users\\Marco\\AppData\\Local\\Programs\\Python\\Python311\\Lib\\site-packages\\sklearn\\cluster\\_kmeans.py:1412: FutureWarning: The default value of `n_init` will change from 10 to 'auto' in 1.4. Set the value of `n_init` explicitly to suppress the warning\n",
      "  super()._check_params_vs_input(X, default_n_init=10)\n"
     ]
    },
    {
     "data": {
      "image/png": "[encoded data removed]",
      "text/plain": [
       "<Figure size 640x480 with 1 Axes>"
      ]
     },
     "metadata": {},
     "output_type": "display_data"
    }
   ],
   "source": [
    "scaler = StandardScaler()\n",
    "X_scaled = scaler.fit_transform(X)\n",
    "\n",
    "inertia = []\n",
    "for k in range(1, 11):\n",
    "    kmeans = KMeans(n_clusters=k, random_state=0)\n",
    "    kmeans.fit(X_scaled)\n",
    "    inertia.append(kmeans.inertia_)\n",
    "\n",
    "plt.plot(range(1, 11), inertia, marker='o')\n",
    "plt.xlabel('Number of Clusters (k)')\n",
    "plt.ylabel('Inertia')\n",
    "plt.title('Elbow Method for Optimal k')\n",
    "plt.xticks(range(1, 11))\n",
    "plt.show()"
   ]
  },
  {
   "cell_type": "markdown",
   "metadata": {},
   "source": [
    "En la gráfico podemos vere como, al aumentar el número de clusters la inercia tiende a bajar."
   ]
  },
  {
   "cell_type": "markdown",
   "metadata": {},
   "source": [
    "### 3.2 K means con método de silueta\n",
    "\n",
    "El método de la silueta con K-means evalúa cuán bien los puntos están agrupados midiendo su cercanía dentro de un clúster y su distancia a otros clústeres. Ayuda a elegir el número correcto de clústeres al mostrar cuándo la agrupación es sólida y separada.\n",
    "\n",
    "Utilizaremos un arreglo para almacenar los valores de silueta y poder graficarlos."
   ]
  },
  {
   "cell_type": "code",
   "execution_count": 13,
   "metadata": {},
   "outputs": [
    {
     "name": "stderr",
     "output_type": "stream",
     "text": [
      "c:\\Users\\Marco\\AppData\\Local\\Programs\\Python\\Python311\\Lib\\site-packages\\sklearn\\cluster\\_kmeans.py:1412: FutureWarning: The default value of `n_init` will change from 10 to 'auto' in 1.4. Set the value of `n_init` explicitly to suppress the warning\n",
      "  super()._check_params_vs_input(X, default_n_init=10)\n",
      "c:\\Users\\Marco\\AppData\\Local\\Programs\\Python\\Python311\\Lib\\site-packages\\sklearn\\cluster\\_kmeans.py:1412: FutureWarning: The default value of `n_init` will change from 10 to 'auto' in 1.4. Set the value of `n_init` explicitly to suppress the warning\n",
      "  super()._check_params_vs_input(X, default_n_init=10)\n",
      "c:\\Users\\Marco\\AppData\\Local\\Programs\\Python\\Python311\\Lib\\site-packages\\sklearn\\cluster\\_kmeans.py:1412: FutureWarning: The default value of `n_init` will change from 10 to 'auto' in 1.4. Set the value of `n_init` explicitly to suppress the warning\n",
      "  super()._check_params_vs_input(X, default_n_init=10)\n",
      "c:\\Users\\Marco\\AppData\\Local\\Programs\\Python\\Python311\\Lib\\site-packages\\sklearn\\cluster\\_kmeans.py:1412: FutureWarning: The default value of `n_init` will change from 10 to 'auto' in 1.4. Set the value of `n_init` explicitly to suppress the warning\n",
      "  super()._check_params_vs_input(X, default_n_init=10)\n",
      "c:\\Users\\Marco\\AppData\\Local\\Programs\\Python\\Python311\\Lib\\site-packages\\sklearn\\cluster\\_kmeans.py:1412: FutureWarning: The default value of `n_init` will change from 10 to 'auto' in 1.4. Set the value of `n_init` explicitly to suppress the warning\n",
      "  super()._check_params_vs_input(X, default_n_init=10)\n",
      "c:\\Users\\Marco\\AppData\\Local\\Programs\\Python\\Python311\\Lib\\site-packages\\sklearn\\cluster\\_kmeans.py:1412: FutureWarning: The default value of `n_init` will change from 10 to 'auto' in 1.4. Set the value of `n_init` explicitly to suppress the warning\n",
      "  super()._check_params_vs_input(X, default_n_init=10)\n",
      "c:\\Users\\Marco\\AppData\\Local\\Programs\\Python\\Python311\\Lib\\site-packages\\sklearn\\cluster\\_kmeans.py:1412: FutureWarning: The default value of `n_init` will change from 10 to 'auto' in 1.4. Set the value of `n_init` explicitly to suppress the warning\n",
      "  super()._check_params_vs_input(X, default_n_init=10)\n",
      "c:\\Users\\Marco\\AppData\\Local\\Programs\\Python\\Python311\\Lib\\site-packages\\sklearn\\cluster\\_kmeans.py:1412: FutureWarning: The default value of `n_init` will change from 10 to 'auto' in 1.4. Set the value of `n_init` explicitly to suppress the warning\n",
      "  super()._check_params_vs_input(X, default_n_init=10)\n",
      "c:\\Users\\Marco\\AppData\\Local\\Programs\\Python\\Python311\\Lib\\site-packages\\sklearn\\cluster\\_kmeans.py:1412: FutureWarning: The default value of `n_init` will change from 10 to 'auto' in 1.4. Set the value of `n_init` explicitly to suppress the warning\n",
      "  super()._check_params_vs_input(X, default_n_init=10)\n"
     ]
    },
    {
     "data": {
      "image/png": "[encoded data removed]",
      "text/plain": [
       "<Figure size 640x480 with 1 Axes>"
      ]
     },
     "metadata": {},
     "output_type": "display_data"
    }
   ],
   "source": [
    "import matplotlib.pyplot as plt\n",
    "from sklearn.cluster import KMeans\n",
    "from sklearn.metrics import silhouette_score\n",
    "from sklearn.preprocessing import StandardScaler\n",
    "\n",
    "\n",
    "scaler = StandardScaler()\n",
    "X_scaled = scaler.fit_transform(X)\n",
    "\n",
    "\n",
    "silhouette_scores = []\n",
    "for k in range(2, 11): \n",
    "    kmeans = KMeans(n_clusters=k, random_state=0)\n",
    "    labels = kmeans.fit_predict(X_scaled)\n",
    "    silhouette_avg = silhouette_score(X_scaled, labels)\n",
    "    silhouette_scores.append(silhouette_avg)\n",
    "\n",
    "plt.plot(range(2, 11), silhouette_scores, marker='o')\n",
    "plt.xlabel('Number of Clusters (k)')\n",
    "plt.ylabel('Silhouette Score')\n",
    "plt.title('Silhouette Score for Optimal k')\n",
    "plt.xticks(range(2, 11))\n",
    "plt.show()\n"
   ]
  },
  {
   "cell_type": "markdown",
   "metadata": {},
   "source": [
    "Como se puede ver en el gráfico, al usar el método de silueta como métrica de evaluación vemos que el número óptimo de clusters es 6. Por lo tanto, el resultado del Silhouette Score es el siguiente"
   ]
  },
  {
   "cell_type": "code",
   "execution_count": 14,
   "metadata": {},
   "outputs": [
    {
     "name": "stdout",
     "output_type": "stream",
     "text": [
      "Silhouette Score of the Final Model: 0.35887361127428363\n"
     ]
    }
   ],
   "source": [
    "print(\"Silhouette Score of the Final Model:\", silhouette_scores[5])"
   ]
  },
  {
   "cell_type": "markdown",
   "metadata": {},
   "source": [
    "Para el resto de modelos vamos a definir una función reutilizable."
   ]
  },
  {
   "cell_type": "code",
   "execution_count": 15,
   "metadata": {},
   "outputs": [],
   "source": [
    "from sklearn.metrics import silhouette_score\n",
    "\n",
    "def custom_scoring(estimator, X):\n",
    "    labels = estimator.predict(X)\n",
    "    score = silhouette_score(X, labels)\n",
    "    return score"
   ]
  },
  {
   "cell_type": "markdown",
   "metadata": {},
   "source": [
    "### 3.3 BIRCH con Silueta\n",
    "\n",
    "El método de la silueta con el algoritmo BIRCH evalúa la calidad de las agrupaciones al medir la separación de los puntos en los clústeres. Es importante usar validación cruzada aleatoria (random CV) en BIRCH debido a su naturaleza sensible a la inicialización de los centroides, a diferencia de K-means.\n",
    "\n",
    "En BIRCH, la elección inicial de los centroides puede afectar significativamente el resultado de la agrupación. Emplear validación cruzada aleatoria ayuda a mitigar el impacto de una inicialización inadecuada, mejorando la robustez y estabilidad de los resultados de BIRCH. Por otro lado, en K-means, la aleatoriedad en la inicialización es menos problemática debido a que la optimización tiende a converger hacia una solución aceptable.\n",
    "\n",
    "Scikit learn nos permide usar Randomized Search para el tunning de hiperparámetros."
   ]
  },
  {
   "cell_type": "code",
   "execution_count": 16,
   "metadata": {},
   "outputs": [
    {
     "data": {
      "image/png": "[encoded data removed]",
      "text/plain": [
       "<Figure size 640x480 with 1 Axes>"
      ]
     },
     "metadata": {},
     "output_type": "display_data"
    },
    {
     "name": "stdout",
     "output_type": "stream",
     "text": [
      "Best Hyperparameters: {'threshold': 0.4, 'branching_factor': 25}\n",
      "Silhouette Score of the Final Model: 0.3481184103904369\n"
     ]
    }
   ],
   "source": [
    "import numpy as np\n",
    "import matplotlib.pyplot as plt\n",
    "from sklearn.cluster import Birch\n",
    "from sklearn.preprocessing import StandardScaler\n",
    "\n",
    "from sklearn.model_selection import RandomizedSearchCV\n",
    "\n",
    "\n",
    "scaler = StandardScaler()\n",
    "X_scaled = scaler.fit_transform(df)\n",
    "\n",
    "param_dist = {\n",
    "    'branching_factor': np.arange(10, 31),\n",
    "    'threshold': np.arange(0.1, 0.4, 0.1)\n",
    "}\n",
    "\n",
    "birch = Birch(n_clusters=None)\n",
    "random_search = RandomizedSearchCV(birch, param_distributions=param_dist, scoring=custom_scoring, cv=3, n_iter=5)\n",
    "random_search.fit(X_scaled)\n",
    "\n",
    "best_birch = random_search.best_estimator_\n",
    "\n",
    "yhat = best_birch.fit_predict(X_scaled)\n",
    "clusters = np.unique(yhat)\n",
    "\n",
    "for cluster in clusters:\n",
    "    row_ix = np.where(yhat == cluster)\n",
    "    plt.scatter(X_scaled[row_ix, 0], X_scaled[row_ix, 1])\n",
    "\n",
    "plt.title('BIRCH Clustering')\n",
    "plt.show()\n",
    "\n",
    "print(\"Best Hyperparameters:\", random_search.best_params_)\n",
    "silhouette_avg = silhouette_score(X_scaled, yhat)\n",
    "print(\"Silhouette Score of the Final Model:\", silhouette_avg)\n"
   ]
  },
  {
   "cell_type": "markdown",
   "metadata": {},
   "source": [
    "Vemos como el gráfico difiere a la iteración anterior, sin embargo no estan claros los clusters."
   ]
  },
  {
   "cell_type": "markdown",
   "metadata": {},
   "source": [
    "### 3.4 DBSCAN con Silueta\n",
    "\n",
    "El método de la silueta también se aplica al algoritmo DBSCAN para evaluar cómo los puntos están distribuidos en los clústeres. A diferencia de BIRCH, no es tan necesario recurrir a la validación cruzada aleatoria en DBSCAN debido a su enfoque particular. Sin embargo vamos a usarlo para mantener las pruebas esntandarizadas.\n",
    "\n",
    "\n",
    "Para el random search se elige una distribución de epsilon de 0.1 a 1.1, y del hiperparametro `min_samples` de 1 a 11. Esto debido al rendimiento del modelo."
   ]
  },
  {
   "cell_type": "code",
   "execution_count": 17,
   "metadata": {},
   "outputs": [
    {
     "name": "stderr",
     "output_type": "stream",
     "text": [
      "c:\\Users\\Marco\\AppData\\Local\\Programs\\Python\\Python311\\Lib\\site-packages\\sklearn\\model_selection\\_validation.py:824: UserWarning: Scoring failed. The score on this train-test partition for these parameters will be set to nan. Details: \n",
      "Traceback (most recent call last):\n",
      "  File \"c:\\Users\\Marco\\AppData\\Local\\Programs\\Python\\Python311\\Lib\\site-packages\\sklearn\\model_selection\\_validation.py\", line 811, in _score\n",
      "    scores = scorer(estimator, X_test)\n",
      "             ^^^^^^^^^^^^^^^^^^^^^^^^^\n",
      "  File \"C:\\Users\\Marco\\AppData\\Local\\Temp\\ipykernel_18724\\2944539377.py\", line 10, in custom_scoring\n",
      "    score = silhouette_score(X, labels)\n",
      "            ^^^^^^^^^^^^^^^^^^^^^^^^^^^\n",
      "  File \"c:\\Users\\Marco\\AppData\\Local\\Programs\\Python\\Python311\\Lib\\site-packages\\sklearn\\utils\\_param_validation.py\", line 211, in wrapper\n",
      "    return func(*args, **kwargs)\n",
      "           ^^^^^^^^^^^^^^^^^^^^^\n",
      "  File \"c:\\Users\\Marco\\AppData\\Local\\Programs\\Python\\Python311\\Lib\\site-packages\\sklearn\\metrics\\cluster\\_unsupervised.py\", line 131, in silhouette_score\n",
      "    return np.mean(silhouette_samples(X, labels, metric=metric, **kwds))\n",
      "                   ^^^^^^^^^^^^^^^^^^^^^^^^^^^^^^^^^^^^^^^^^^^^^^^^^^^^\n",
      "  File \"c:\\Users\\Marco\\AppData\\Local\\Programs\\Python\\Python311\\Lib\\site-packages\\sklearn\\utils\\_param_validation.py\", line 184, in wrapper\n",
      "    return func(*args, **kwargs)\n",
      "           ^^^^^^^^^^^^^^^^^^^^^\n",
      "  File \"c:\\Users\\Marco\\AppData\\Local\\Programs\\Python\\Python311\\Lib\\site-packages\\sklearn\\metrics\\cluster\\_unsupervised.py\", line 277, in silhouette_samples\n",
      "    check_number_of_labels(len(le.classes_), n_samples)\n",
      "  File \"c:\\Users\\Marco\\AppData\\Local\\Programs\\Python\\Python311\\Lib\\site-packages\\sklearn\\metrics\\cluster\\_unsupervised.py\", line 37, in check_number_of_labels\n",
      "    raise ValueError(\n",
      "ValueError: Number of labels is 1. Valid values are 2 to n_samples - 1 (inclusive)\n",
      "\n",
      "  warnings.warn(\n",
      "c:\\Users\\Marco\\AppData\\Local\\Programs\\Python\\Python311\\Lib\\site-packages\\sklearn\\model_selection\\_validation.py:824: UserWarning: Scoring failed. The score on this train-test partition for these parameters will be set to nan. Details: \n",
      "Traceback (most recent call last):\n",
      "  File \"c:\\Users\\Marco\\AppData\\Local\\Programs\\Python\\Python311\\Lib\\site-packages\\sklearn\\model_selection\\_validation.py\", line 811, in _score\n",
      "    scores = scorer(estimator, X_test)\n",
      "             ^^^^^^^^^^^^^^^^^^^^^^^^^\n",
      "  File \"C:\\Users\\Marco\\AppData\\Local\\Temp\\ipykernel_18724\\2944539377.py\", line 10, in custom_scoring\n",
      "    score = silhouette_score(X, labels)\n",
      "            ^^^^^^^^^^^^^^^^^^^^^^^^^^^\n",
      "  File \"c:\\Users\\Marco\\AppData\\Local\\Programs\\Python\\Python311\\Lib\\site-packages\\sklearn\\utils\\_param_validation.py\", line 211, in wrapper\n",
      "    return func(*args, **kwargs)\n",
      "           ^^^^^^^^^^^^^^^^^^^^^\n",
      "  File \"c:\\Users\\Marco\\AppData\\Local\\Programs\\Python\\Python311\\Lib\\site-packages\\sklearn\\metrics\\cluster\\_unsupervised.py\", line 131, in silhouette_score\n",
      "    return np.mean(silhouette_samples(X, labels, metric=metric, **kwds))\n",
      "                   ^^^^^^^^^^^^^^^^^^^^^^^^^^^^^^^^^^^^^^^^^^^^^^^^^^^^\n",
      "  File \"c:\\Users\\Marco\\AppData\\Local\\Programs\\Python\\Python311\\Lib\\site-packages\\sklearn\\utils\\_param_validation.py\", line 184, in wrapper\n",
      "    return func(*args, **kwargs)\n",
      "           ^^^^^^^^^^^^^^^^^^^^^\n",
      "  File \"c:\\Users\\Marco\\AppData\\Local\\Programs\\Python\\Python311\\Lib\\site-packages\\sklearn\\metrics\\cluster\\_unsupervised.py\", line 277, in silhouette_samples\n",
      "    check_number_of_labels(len(le.classes_), n_samples)\n",
      "  File \"c:\\Users\\Marco\\AppData\\Local\\Programs\\Python\\Python311\\Lib\\site-packages\\sklearn\\metrics\\cluster\\_unsupervised.py\", line 37, in check_number_of_labels\n",
      "    raise ValueError(\n",
      "ValueError: Number of labels is 1. Valid values are 2 to n_samples - 1 (inclusive)\n",
      "\n",
      "  warnings.warn(\n",
      "c:\\Users\\Marco\\AppData\\Local\\Programs\\Python\\Python311\\Lib\\site-packages\\sklearn\\model_selection\\_validation.py:824: UserWarning: Scoring failed. The score on this train-test partition for these parameters will be set to nan. Details: \n",
      "Traceback (most recent call last):\n",
      "  File \"c:\\Users\\Marco\\AppData\\Local\\Programs\\Python\\Python311\\Lib\\site-packages\\sklearn\\model_selection\\_validation.py\", line 811, in _score\n",
      "    scores = scorer(estimator, X_test)\n",
      "             ^^^^^^^^^^^^^^^^^^^^^^^^^\n",
      "  File \"C:\\Users\\Marco\\AppData\\Local\\Temp\\ipykernel_18724\\2944539377.py\", line 10, in custom_scoring\n",
      "    score = silhouette_score(X, labels)\n",
      "            ^^^^^^^^^^^^^^^^^^^^^^^^^^^\n",
      "  File \"c:\\Users\\Marco\\AppData\\Local\\Programs\\Python\\Python311\\Lib\\site-packages\\sklearn\\utils\\_param_validation.py\", line 211, in wrapper\n",
      "    return func(*args, **kwargs)\n",
      "           ^^^^^^^^^^^^^^^^^^^^^\n",
      "  File \"c:\\Users\\Marco\\AppData\\Local\\Programs\\Python\\Python311\\Lib\\site-packages\\sklearn\\metrics\\cluster\\_unsupervised.py\", line 131, in silhouette_score\n",
      "    return np.mean(silhouette_samples(X, labels, metric=metric, **kwds))\n",
      "                   ^^^^^^^^^^^^^^^^^^^^^^^^^^^^^^^^^^^^^^^^^^^^^^^^^^^^\n",
      "  File \"c:\\Users\\Marco\\AppData\\Local\\Programs\\Python\\Python311\\Lib\\site-packages\\sklearn\\utils\\_param_validation.py\", line 184, in wrapper\n",
      "    return func(*args, **kwargs)\n",
      "           ^^^^^^^^^^^^^^^^^^^^^\n",
      "  File \"c:\\Users\\Marco\\AppData\\Local\\Programs\\Python\\Python311\\Lib\\site-packages\\sklearn\\metrics\\cluster\\_unsupervised.py\", line 277, in silhouette_samples\n",
      "    check_number_of_labels(len(le.classes_), n_samples)\n",
      "  File \"c:\\Users\\Marco\\AppData\\Local\\Programs\\Python\\Python311\\Lib\\site-packages\\sklearn\\metrics\\cluster\\_unsupervised.py\", line 37, in check_number_of_labels\n",
      "    raise ValueError(\n",
      "ValueError: Number of labels is 1. Valid values are 2 to n_samples - 1 (inclusive)\n",
      "\n",
      "  warnings.warn(\n",
      "c:\\Users\\Marco\\AppData\\Local\\Programs\\Python\\Python311\\Lib\\site-packages\\sklearn\\model_selection\\_search.py:976: UserWarning: One or more of the test scores are non-finite: [ 0.27050931  0.11369364         nan  0.10531194 -0.09442738]\n",
      "  warnings.warn(\n"
     ]
    },
    {
     "data": {
      "image/png": "[encoded data removed]",
      "text/plain": [
       "<Figure size 640x480 with 1 Axes>"
      ]
     },
     "metadata": {},
     "output_type": "display_data"
    },
    {
     "name": "stdout",
     "output_type": "stream",
     "text": [
      "Best Hyperparameters: {'min_samples': 5, 'eps': 0.8}\n",
      "Silhouette Score of the Final Model: 0.18154210635887047\n"
     ]
    }
   ],
   "source": [
    "import numpy as np\n",
    "import matplotlib.pyplot as plt\n",
    "from sklearn.cluster import DBSCAN\n",
    "from sklearn.preprocessing import StandardScaler\n",
    "from sklearn.model_selection import RandomizedSearchCV\n",
    "from sklearn.metrics import silhouette_score\n",
    "\n",
    "def custom_scoring(estimator, X):\n",
    "    labels = estimator.fit_predict(X)\n",
    "    score = silhouette_score(X, labels)\n",
    "    return score\n",
    "\n",
    "scaler = StandardScaler()\n",
    "X_scaled = scaler.fit_transform(df)\n",
    "\n",
    "param_dist = {\n",
    "    'eps': np.arange(0.1, 1.1, 0.1),\n",
    "    'min_samples': np.arange(1, 11)\n",
    "}\n",
    "\n",
    "dbscan = DBSCAN()\n",
    "\n",
    "random_search = RandomizedSearchCV(dbscan, param_distributions=param_dist, scoring=custom_scoring, cv=3, n_iter=5)\n",
    "random_search.fit(X_scaled)\n",
    "best_dbscan = random_search.best_estimator_\n",
    "yhat = best_dbscan.fit_predict(X_scaled)\n",
    "\n",
    "\n",
    "\n",
    "clusters = np.unique(yhat)\n",
    "\n",
    "for cluster in clusters:\n",
    "    row_ix = np.where(yhat == cluster)\n",
    "    plt.scatter(X_scaled[row_ix, 0], X_scaled[row_ix, 1])\n",
    "\n",
    "plt.title('DBSCAN Clustering')\n",
    "plt.show()\n",
    "\n",
    "print(\"Best Hyperparameters:\", random_search.best_params_)\n",
    "silhouette_avg = silhouette_score(X_scaled, yhat)\n",
    "print(\"Silhouette Score of the Final Model:\", silhouette_avg)\n"
   ]
  },
  {
   "cell_type": "markdown",
   "metadata": {},
   "source": [
    "### 4. Conclusiones\n",
    "\n",
    "* K-Means y Segmentación Compacta: El alto valor del coeficiente de silueta (0.358) para K-Means sugiere que este modelo ha logrado formar clusters más compactos y bien separados en comparación con los otros algoritmos. La naturaleza iterativa de K-Means y su objetivo de minimizar la varianza intra-cluster pueden haber permitido encontrar grupos más definidos en el conjunto de datos, lo que lo convierte en una elección eficaz cuando la distribución de los datos es más uniforme y los grupos son de forma esférica o similar.\n",
    "\n",
    "* BIRCH y Densidad en Conjuntos Grandes: Aunque el coeficiente de silueta para BIRCH (0.328) es ligeramente menor que el de K-Means, sigue siendo significativo. BIRCH es eficiente en términos de uso de memoria y es especialmente útil cuando se trata de conjuntos de datos grandes, ya que utiliza estructuras de árbol para agrupar los datos en función de la densidad. Esto sugiere que en el contexto de aeropuertos de Costa Rica, BIRCH podría haber identificado clusters con densidades variables, lo que puede ser beneficioso para detectar aeropuertos con distintos niveles de tráfico y conectividad.\n",
    "\n",
    "* DBSCAN y Detección de Anomalías: El bajo coeficiente de silueta para DBSCAN (0.031) indica que este algoritmo puede no ser tan adecuado para el conjunto de datos de aeropuertos de Costa Rica en su forma actual. DBSCAN se destaca en la detección de clusters con formas y densidades irregulares, así como en la identificación de puntos anómalos. La baja eficiencia de DBSCAN en este caso podría sugerir que la mayoría de los aeropuertos tienen características relativamente homogéneas en términos de proximidad y densidad, lo que dificulta la identificación de clusters significativos mediante este enfoque.\n",
    "\n",
    "* Consideraciones Contextuales: La eficiencia relativa de los modelos también puede depender de factores contextuales y de negocio. Es importante considerar la naturaleza de los datos y los objetivos del análisis. Por ejemplo, si la planificación de rutas aéreas o la identificación de hubs son prioridades, entonces BIRCH y K-Means podrían ser más útiles. Si se busca detectar aeropuertos con características inusuales o anómalas, DBSCAN podría ser más relevante."
   ]
  },
  {
   "cell_type": "markdown",
   "metadata": {},
   "source": [
    "### Referencias\n",
    "\n",
    "Ahmed, M., Seraj, R., & Islam, S. M. S. (2020). The k-means algorithm: A comprehensive survey and performance evaluation. Electronics, 9(8), 1295.\n",
    "\n",
    "Zhang, T., Ramakrishnan, R., & Livny, M. (1996). BIRCH: an efficient data clustering method for very large databases. ACM sigmod record, 25(2), 103-114.\n",
    "\n",
    "Birant, D., & Kut, A. (2007). ST-DBSCAN: An algorithm for clustering spatial–temporal data. Data & knowledge engineering, 60(1), 208-221.\n",
    "\n",
    "Barlow, H. B. (1989). Unsupervised learning. Neural computation, 1(3), 295-311."
   ]
  }
 ],
 "metadata": {
  "kernelspec": {
   "display_name": "Python 3",
   "language": "python",
   "name": "python3"
  },
  "language_info": {
   "codemirror_mode": {
    "name": "ipython",
    "version": 3
   },
   "file_extension": ".py",
   "mimetype": "text/x-python",
   "name": "python",
   "nbconvert_exporter": "python",
   "pygments_lexer": "ipython3",
   "version": "3.11.4"
  },
  "orig_nbformat": 4
 },
 "nbformat": 4,
 "nbformat_minor": 2
}
