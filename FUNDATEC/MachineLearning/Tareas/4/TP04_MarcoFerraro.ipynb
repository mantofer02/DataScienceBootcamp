{
 "cells": [
  {
   "cell_type": "markdown",
   "metadata": {},
   "source": [
    "# Tarea Programada 4\n",
    "\n",
    "**Profesora**: María Auxiliadora Mora\n",
    "\n",
    "**Estudiante**: Marco Ferraro"
   ]
  }
 ],
 "metadata": {
  "language_info": {
   "name": "python"
  },
  "orig_nbformat": 4
 },
 "nbformat": 4,
 "nbformat_minor": 2
}
