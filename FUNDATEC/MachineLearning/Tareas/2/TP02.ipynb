{
 "cells": [
  {
   "attachments": {},
   "cell_type": "markdown",
   "metadata": {
    "colab_type": "text",
    "id": "TGvdZZ7C16o5"
   },
   "source": [
    "## Escuela de Ingeniería en Computación, ITCR \n",
    "\n",
    "## Aprendizaje automático\n",
    "\n",
    " \n",
    "### Segunda tarea programada, julio 2023\n",
    "\n",
    "\n",
    "Profesora: María Auxiliadora Mora\n",
    "\n",
    "Medio de entrega: Por medio del TEC-Digital.\n",
    "\n",
    "Entregables: Un archivo en Jupyter ( .IPYNB ). \n",
    "\n",
    "Modo de trabajo: Individual o en grupos de máximo dos personas.\n",
    "\n",
    "---\n",
    "\n",
    "\n",
    "Objetivo: En el presente trabajo se repasarán conceptos elementales de regresión y aprendizaje profundo con la biblioteca de PyTorch.\n",
    "\n",
    "\n",
    "**Rúbrica:**\n",
    "- **Todas las secciones del código deben estar debidamente documentadas (5 puntos).**\n",
    "- **Deben incluir las referencias del material utilizado (1 punto)**\n",
    "- **El resto de la rúbrica está incluida en las definición de los ejercicios.**\n",
    "\n",
    "---\n"
   ]
  },
  {
   "attachments": {},
   "cell_type": "markdown",
   "metadata": {},
   "source": [
    "## Pregunta 1. Análisis de regresión con aprendizaje profundo (con PyTorch)"
   ]
  },
  {
   "attachments": {},
   "cell_type": "markdown",
   "metadata": {},
   "source": [
    "Para realizar el análisis se utilizará un conjunto de datos generado por la Facultad de Ciencias de la Información y la Computación Donald Bren de la Universidad de California en Irvine disponibles en https://www.kaggle.com/rodolfomendes/abalone-dataset.   \n",
    "\n",
    "Descripción de los datos:\n",
    "El conjunto de datos puede ser utilizado para entrenar modelos para predecir la edad de los abulones (moluscos también conocidos como orejas de mar) a partir de mediciones físicas. Comúnmente, la edad de un abulón se determina cortando la concha a través del cono, tiñéndola y contando el número de anillos a través de un microscopio, una tarea que requiere mucho tiempo. Sin embargo, es posible utilizar datos morfológicos del individuo, que son más fáciles de obtener y permiten predecir la edad este. Una descripción detallada de los datos está disponible en https://archive.ics.uci.edu/ml/datasets/abalone. \n",
    "\n",
    "Dado el conjunto de datos de abulones se **desea crear un modelo de regresión utilizando un perceptrón multicapa para predecir la cantidad de anillos (columna Rings) de estos a partir del conjunto de características**.\n",
    "\n",
    "Realice lo siguiente:\n",
    "\n",
    "**(Es requisito indispensable para tomar en cuenta el ejercicio usar PyTorch).**\n",
    "\n",
    "- a) (1 punto) Describa el conjunto de datos, cada uno de sus campos y referencie la fuente. \n",
    "- b) Cargue el conjunto de datos.\n",
    "- c) (2 puntos) Explore, limpie el conjunto de datos y visualice algunas estadísticas.\n",
    "- d) (1 puntos) Escale los datos datos.\n",
    "- e) (2 puntos) Seleccione las características que más contribuyen al proceso de modelización utilizando los algoritmos vistos en clase. Explique los resultados.\n",
    "- f) (5 puntos) Defina una **red profunda con arquitectura de perceptrón multicapa** implementada con PyTorch.\n",
    "- g) (3 puntos) Intancie un modelo y realice el entrenamiento de este.\n",
    "- h) (2 puntos) Calcule la pérdida utilizando el error cuadrático medio (MSE) y error absoluto medio (MAE).\n",
    "- i) (1 puntos) Prepare un ejemplo de uso del modelo seleccionado y explique el resultado.\n",
    "- j) (3 puntos) Realice al menos tres conclusiones sobre el ejercicio.\n"
   ]
  },
  {
   "attachments": {},
   "cell_type": "markdown",
   "metadata": {},
   "source": [
    "#### 1.1 Descripcion del conjunto de datos\n",
    "\n",
    "El conjunto de datos se refiere a caracteristicas de abulones, los cuales son moluscos que se encuentran en las costas de Nueva Zelanda, Australia, Sudáfrica y Japón. Estos moluscos son muy apreciados por su carne y por su concha, la cual es utilizada para hacer joyas. A continuación se van a describir los campos de los datos:\n",
    "\n",
    "1. Sex: Sexo del abulón. Puede ser masculino, femenino o infantil. Variable categórica nominal.\n",
    "2. Length: Longitud del abulón en mm. Variable numérica continua.\n",
    "3. Diameter: Diámetro del abulón en mm. Variable numérica continua.\n",
    "4. Height: Altura del abulón en mm. Variable numérica continua.\n",
    "5. Whole weight: Peso del abulón entero en gramos. Variable numérica continua.\n",
    "6. Shucked weight: Peso de la carne del abulón en gramos. Variable numérica continua.\n",
    "7. Viscera weight: Peso de las vísceras del abulón en gramos. Variable numérica continua.\n",
    "8. Shell weight: Peso de la concha del abulón en gramos. Variable numérica continua.\n",
    "9. Rings: Cantidad de anillos del abulón. Variable numérica discreta. Esta variable es la que se desea predecir. La cantidad de anillos + 1.5 es la edad del abulón en años."
   ]
  },
  {
   "attachments": {},
   "cell_type": "markdown",
   "metadata": {},
   "source": [
    "#### 1.2 Carga de datos\n",
    "\n",
    "Se procederá a cargar los datos con la libreria pandas."
   ]
  },
  {
   "cell_type": "code",
   "execution_count": 1,
   "metadata": {},
   "outputs": [
    {
     "data": {
      "text/html": [
       "<div>\n",
       "<style scoped>\n",
       "    .dataframe tbody tr th:only-of-type {\n",
       "        vertical-align: middle;\n",
       "    }\n",
       "\n",
       "    .dataframe tbody tr th {\n",
       "        vertical-align: top;\n",
       "    }\n",
       "\n",
       "    .dataframe thead th {\n",
       "        text-align: right;\n",
       "    }\n",
       "</style>\n",
       "<table border=\"1\" class=\"dataframe\">\n",
       "  <thead>\n",
       "    <tr style=\"text-align: right;\">\n",
       "      <th></th>\n",
       "      <th>Sex</th>\n",
       "      <th>Length</th>\n",
       "      <th>Diameter</th>\n",
       "      <th>Height</th>\n",
       "      <th>Whole weight</th>\n",
       "      <th>Shucked weight</th>\n",
       "      <th>Viscera weight</th>\n",
       "      <th>Shell weight</th>\n",
       "      <th>Rings</th>\n",
       "    </tr>\n",
       "  </thead>\n",
       "  <tbody>\n",
       "    <tr>\n",
       "      <th>0</th>\n",
       "      <td>M</td>\n",
       "      <td>0.455</td>\n",
       "      <td>0.365</td>\n",
       "      <td>0.095</td>\n",
       "      <td>0.5140</td>\n",
       "      <td>0.2245</td>\n",
       "      <td>0.1010</td>\n",
       "      <td>0.150</td>\n",
       "      <td>15</td>\n",
       "    </tr>\n",
       "    <tr>\n",
       "      <th>1</th>\n",
       "      <td>M</td>\n",
       "      <td>0.350</td>\n",
       "      <td>0.265</td>\n",
       "      <td>0.090</td>\n",
       "      <td>0.2255</td>\n",
       "      <td>0.0995</td>\n",
       "      <td>0.0485</td>\n",
       "      <td>0.070</td>\n",
       "      <td>7</td>\n",
       "    </tr>\n",
       "    <tr>\n",
       "      <th>2</th>\n",
       "      <td>F</td>\n",
       "      <td>0.530</td>\n",
       "      <td>0.420</td>\n",
       "      <td>0.135</td>\n",
       "      <td>0.6770</td>\n",
       "      <td>0.2565</td>\n",
       "      <td>0.1415</td>\n",
       "      <td>0.210</td>\n",
       "      <td>9</td>\n",
       "    </tr>\n",
       "    <tr>\n",
       "      <th>3</th>\n",
       "      <td>M</td>\n",
       "      <td>0.440</td>\n",
       "      <td>0.365</td>\n",
       "      <td>0.125</td>\n",
       "      <td>0.5160</td>\n",
       "      <td>0.2155</td>\n",
       "      <td>0.1140</td>\n",
       "      <td>0.155</td>\n",
       "      <td>10</td>\n",
       "    </tr>\n",
       "    <tr>\n",
       "      <th>4</th>\n",
       "      <td>I</td>\n",
       "      <td>0.330</td>\n",
       "      <td>0.255</td>\n",
       "      <td>0.080</td>\n",
       "      <td>0.2050</td>\n",
       "      <td>0.0895</td>\n",
       "      <td>0.0395</td>\n",
       "      <td>0.055</td>\n",
       "      <td>7</td>\n",
       "    </tr>\n",
       "  </tbody>\n",
       "</table>\n",
       "</div>"
      ],
      "text/plain": [
       "  Sex  Length  Diameter  Height  Whole weight  Shucked weight  Viscera weight  \\\n",
       "0   M   0.455     0.365   0.095        0.5140          0.2245          0.1010   \n",
       "1   M   0.350     0.265   0.090        0.2255          0.0995          0.0485   \n",
       "2   F   0.530     0.420   0.135        0.6770          0.2565          0.1415   \n",
       "3   M   0.440     0.365   0.125        0.5160          0.2155          0.1140   \n",
       "4   I   0.330     0.255   0.080        0.2050          0.0895          0.0395   \n",
       "\n",
       "   Shell weight  Rings  \n",
       "0         0.150     15  \n",
       "1         0.070      7  \n",
       "2         0.210      9  \n",
       "3         0.155     10  \n",
       "4         0.055      7  "
      ]
     },
     "execution_count": 1,
     "metadata": {},
     "output_type": "execute_result"
    }
   ],
   "source": [
    "import pandas as pd\n",
    "import numpy as np\n",
    "\n",
    "abalone_df = pd.read_csv('./datos/abalone.csv', header=0)\n",
    "\n",
    "abalone_df.head()"
   ]
  },
  {
   "attachments": {},
   "cell_type": "markdown",
   "metadata": {},
   "source": [
    "#### 1.3 Exploración y limpieza de datos\n",
    "\n",
    "El primer proceso de limpieza es volver los datos categoricos en numericos. \n",
    "\n",
    "Vamos a usar la libreria pandas para generar variables númericas."
   ]
  },
  {
   "cell_type": "code",
   "execution_count": 2,
   "metadata": {},
   "outputs": [
    {
     "data": {
      "text/html": [
       "<div>\n",
       "<style scoped>\n",
       "    .dataframe tbody tr th:only-of-type {\n",
       "        vertical-align: middle;\n",
       "    }\n",
       "\n",
       "    .dataframe tbody tr th {\n",
       "        vertical-align: top;\n",
       "    }\n",
       "\n",
       "    .dataframe thead th {\n",
       "        text-align: right;\n",
       "    }\n",
       "</style>\n",
       "<table border=\"1\" class=\"dataframe\">\n",
       "  <thead>\n",
       "    <tr style=\"text-align: right;\">\n",
       "      <th></th>\n",
       "      <th>Length</th>\n",
       "      <th>Diameter</th>\n",
       "      <th>Height</th>\n",
       "      <th>Whole weight</th>\n",
       "      <th>Shucked weight</th>\n",
       "      <th>Viscera weight</th>\n",
       "      <th>Shell weight</th>\n",
       "      <th>Rings</th>\n",
       "      <th>F</th>\n",
       "      <th>M</th>\n",
       "    </tr>\n",
       "  </thead>\n",
       "  <tbody>\n",
       "    <tr>\n",
       "      <th>0</th>\n",
       "      <td>0.455</td>\n",
       "      <td>0.365</td>\n",
       "      <td>0.095</td>\n",
       "      <td>0.5140</td>\n",
       "      <td>0.2245</td>\n",
       "      <td>0.1010</td>\n",
       "      <td>0.150</td>\n",
       "      <td>15</td>\n",
       "      <td>0</td>\n",
       "      <td>1</td>\n",
       "    </tr>\n",
       "    <tr>\n",
       "      <th>1</th>\n",
       "      <td>0.350</td>\n",
       "      <td>0.265</td>\n",
       "      <td>0.090</td>\n",
       "      <td>0.2255</td>\n",
       "      <td>0.0995</td>\n",
       "      <td>0.0485</td>\n",
       "      <td>0.070</td>\n",
       "      <td>7</td>\n",
       "      <td>0</td>\n",
       "      <td>1</td>\n",
       "    </tr>\n",
       "    <tr>\n",
       "      <th>2</th>\n",
       "      <td>0.530</td>\n",
       "      <td>0.420</td>\n",
       "      <td>0.135</td>\n",
       "      <td>0.6770</td>\n",
       "      <td>0.2565</td>\n",
       "      <td>0.1415</td>\n",
       "      <td>0.210</td>\n",
       "      <td>9</td>\n",
       "      <td>1</td>\n",
       "      <td>0</td>\n",
       "    </tr>\n",
       "    <tr>\n",
       "      <th>3</th>\n",
       "      <td>0.440</td>\n",
       "      <td>0.365</td>\n",
       "      <td>0.125</td>\n",
       "      <td>0.5160</td>\n",
       "      <td>0.2155</td>\n",
       "      <td>0.1140</td>\n",
       "      <td>0.155</td>\n",
       "      <td>10</td>\n",
       "      <td>0</td>\n",
       "      <td>1</td>\n",
       "    </tr>\n",
       "    <tr>\n",
       "      <th>4</th>\n",
       "      <td>0.330</td>\n",
       "      <td>0.255</td>\n",
       "      <td>0.080</td>\n",
       "      <td>0.2050</td>\n",
       "      <td>0.0895</td>\n",
       "      <td>0.0395</td>\n",
       "      <td>0.055</td>\n",
       "      <td>7</td>\n",
       "      <td>0</td>\n",
       "      <td>0</td>\n",
       "    </tr>\n",
       "  </tbody>\n",
       "</table>\n",
       "</div>"
      ],
      "text/plain": [
       "   Length  Diameter  Height  Whole weight  Shucked weight  Viscera weight  \\\n",
       "0   0.455     0.365   0.095        0.5140          0.2245          0.1010   \n",
       "1   0.350     0.265   0.090        0.2255          0.0995          0.0485   \n",
       "2   0.530     0.420   0.135        0.6770          0.2565          0.1415   \n",
       "3   0.440     0.365   0.125        0.5160          0.2155          0.1140   \n",
       "4   0.330     0.255   0.080        0.2050          0.0895          0.0395   \n",
       "\n",
       "   Shell weight  Rings  F  M  \n",
       "0         0.150     15  0  1  \n",
       "1         0.070      7  0  1  \n",
       "2         0.210      9  1  0  \n",
       "3         0.155     10  0  1  \n",
       "4         0.055      7  0  0  "
      ]
     },
     "execution_count": 2,
     "metadata": {},
     "output_type": "execute_result"
    }
   ],
   "source": [
    "abalone_df = pd.get_dummies(abalone_df, columns=['Sex'], prefix='')\n",
    "abalone_df.columns = abalone_df.columns.str.replace('_','')\n",
    "abalone_df = abalone_df.drop(['I'], axis=1)\n",
    "\n",
    "abalone_df.head()"
   ]
  },
  {
   "attachments": {},
   "cell_type": "markdown",
   "metadata": {},
   "source": [
    "Vamos a usar una matriz de correlación para ver la relación entre las variables."
   ]
  },
  {
   "cell_type": "code",
   "execution_count": 3,
   "metadata": {},
   "outputs": [
    {
     "data": {
      "image/png": "[encoded data removed]",
      "text/plain": [
       "<Figure size 640x480 with 2 Axes>"
      ]
     },
     "metadata": {},
     "output_type": "display_data"
    }
   ],
   "source": [
    "import seaborn as sns\n",
    "import matplotlib.pyplot as plt\n",
    "\n",
    "matrix = abalone_df.corr()\n",
    "\n",
    "mask = np.triu(np.ones_like(matrix, dtype=bool))\n",
    "sns.heatmap(matrix, annot=True, fmt=\".0%\", mask=mask, cmap='coolwarm')\n",
    "\n",
    "# Display the plot\n",
    "plt.show()"
   ]
  },
  {
   "attachments": {},
   "cell_type": "markdown",
   "metadata": {},
   "source": [
    "Como se puede ver, las variables con más correlación es Lenght y Diameter. Por lo que se van a usar estas dos variables para el modelo.\n"
   ]
  },
  {
   "cell_type": "code",
   "execution_count": 4,
   "metadata": {},
   "outputs": [],
   "source": [
    "from sklearn.linear_model import LinearRegression\n",
    "\n",
    "def plot_scatter_plot(x, y, x_label='X', y_label='Y', title='Scatter Plot'):\n",
    "\n",
    "# Create a linear regression model\n",
    "  model = LinearRegression()\n",
    "  model.fit(x, y)\n",
    "\n",
    "  # Predict the y-values based on the linear regression model\n",
    "  y_pred = model.predict(x)\n",
    "\n",
    "# Create scatter plot\n",
    "  plt.scatter(x, y)\n",
    "\n",
    "# Add best-fit line\n",
    "  plt.plot(x, y_pred, color='red')\n",
    "\n",
    "# Add labels and title\n",
    "  plt.xlabel(x_label)\n",
    "  plt.ylabel(y_label)\n",
    "  plt.title(title)\n",
    "\n",
    "  plt.show()"
   ]
  },
  {
   "cell_type": "code",
   "execution_count": 5,
   "metadata": {},
   "outputs": [
    {
     "data": {
      "image/png": "[encoded data removed]",
      "text/plain": [
       "<Figure size 640x480 with 1 Axes>"
      ]
     },
     "metadata": {},
     "output_type": "display_data"
    }
   ],
   "source": [
    "plot_scatter_plot(abalone_df['Length'].values.reshape(-1, 1), abalone_df['Diameter'].values.reshape(-1, 1), 'Length', 'Diameter', 'Lenght vs Diameter')"
   ]
  },
  {
   "attachments": {},
   "cell_type": "markdown",
   "metadata": {},
   "source": [
    "#### 1.4 Escalado de Datos\n",
    "\n",
    "Se procederá a escalar los datos con la libreria sklearn.\n"
   ]
  },
  {
   "cell_type": "code",
   "execution_count": 6,
   "metadata": {},
   "outputs": [
    {
     "data": {
      "text/plain": [
       "Length            1.00012\n",
       "Diameter          1.00012\n",
       "Height            1.00012\n",
       "Whole weight      1.00012\n",
       "Shucked weight    1.00012\n",
       "Viscera weight    1.00012\n",
       "Shell weight      1.00012\n",
       "Rings             1.00012\n",
       "F                 1.00012\n",
       "M                 1.00012\n",
       "dtype: float64"
      ]
     },
     "execution_count": 6,
     "metadata": {},
     "output_type": "execute_result"
    }
   ],
   "source": [
    "from sklearn import preprocessing\n",
    "\n",
    "scaled_df = pd.DataFrame(preprocessing.scale(abalone_df), columns = abalone_df.columns)\n",
    "\n",
    "abalone_df.iloc[:, :] = scaled_df.values\n",
    "\n",
    "abalone_df.std(axis=0)"
   ]
  },
  {
   "attachments": {},
   "cell_type": "markdown",
   "metadata": {},
   "source": [
    "#### 1.5 Selección de características\n",
    "Como se vio en la seccion anteriormente, hay variables fuertemente correlacionadas. Para este caso, vamos a elmininar una de las variables fuertemente relacionadas. En este caso, se va a eliminar la variable Length."
   ]
  },
  {
   "cell_type": "code",
   "execution_count": 7,
   "metadata": {},
   "outputs": [
    {
     "data": {
      "text/html": [
       "<div>\n",
       "<style scoped>\n",
       "    .dataframe tbody tr th:only-of-type {\n",
       "        vertical-align: middle;\n",
       "    }\n",
       "\n",
       "    .dataframe tbody tr th {\n",
       "        vertical-align: top;\n",
       "    }\n",
       "\n",
       "    .dataframe thead th {\n",
       "        text-align: right;\n",
       "    }\n",
       "</style>\n",
       "<table border=\"1\" class=\"dataframe\">\n",
       "  <thead>\n",
       "    <tr style=\"text-align: right;\">\n",
       "      <th></th>\n",
       "      <th>Diameter</th>\n",
       "      <th>Height</th>\n",
       "      <th>Whole weight</th>\n",
       "      <th>Shucked weight</th>\n",
       "      <th>Viscera weight</th>\n",
       "      <th>Shell weight</th>\n",
       "      <th>Rings</th>\n",
       "      <th>F</th>\n",
       "      <th>M</th>\n",
       "    </tr>\n",
       "  </thead>\n",
       "  <tbody>\n",
       "    <tr>\n",
       "      <th>0</th>\n",
       "      <td>-0.432149</td>\n",
       "      <td>-1.064424</td>\n",
       "      <td>-0.641898</td>\n",
       "      <td>-0.607685</td>\n",
       "      <td>-0.726212</td>\n",
       "      <td>-0.638217</td>\n",
       "      <td>1.571544</td>\n",
       "      <td>-0.674834</td>\n",
       "      <td>1.316677</td>\n",
       "    </tr>\n",
       "    <tr>\n",
       "      <th>1</th>\n",
       "      <td>-1.439929</td>\n",
       "      <td>-1.183978</td>\n",
       "      <td>-1.230277</td>\n",
       "      <td>-1.170910</td>\n",
       "      <td>-1.205221</td>\n",
       "      <td>-1.212987</td>\n",
       "      <td>-0.910013</td>\n",
       "      <td>-0.674834</td>\n",
       "      <td>1.316677</td>\n",
       "    </tr>\n",
       "    <tr>\n",
       "      <th>2</th>\n",
       "      <td>0.122130</td>\n",
       "      <td>-0.107991</td>\n",
       "      <td>-0.309469</td>\n",
       "      <td>-0.463500</td>\n",
       "      <td>-0.356690</td>\n",
       "      <td>-0.207139</td>\n",
       "      <td>-0.289624</td>\n",
       "      <td>1.481846</td>\n",
       "      <td>-0.759488</td>\n",
       "    </tr>\n",
       "    <tr>\n",
       "      <th>3</th>\n",
       "      <td>-0.432149</td>\n",
       "      <td>-0.347099</td>\n",
       "      <td>-0.637819</td>\n",
       "      <td>-0.648238</td>\n",
       "      <td>-0.607600</td>\n",
       "      <td>-0.602294</td>\n",
       "      <td>0.020571</td>\n",
       "      <td>-0.674834</td>\n",
       "      <td>1.316677</td>\n",
       "    </tr>\n",
       "    <tr>\n",
       "      <th>4</th>\n",
       "      <td>-1.540707</td>\n",
       "      <td>-1.423087</td>\n",
       "      <td>-1.272086</td>\n",
       "      <td>-1.215968</td>\n",
       "      <td>-1.287337</td>\n",
       "      <td>-1.320757</td>\n",
       "      <td>-0.910013</td>\n",
       "      <td>-0.674834</td>\n",
       "      <td>-0.759488</td>\n",
       "    </tr>\n",
       "  </tbody>\n",
       "</table>\n",
       "</div>"
      ],
      "text/plain": [
       "   Diameter    Height  Whole weight  Shucked weight  Viscera weight  \\\n",
       "0 -0.432149 -1.064424     -0.641898       -0.607685       -0.726212   \n",
       "1 -1.439929 -1.183978     -1.230277       -1.170910       -1.205221   \n",
       "2  0.122130 -0.107991     -0.309469       -0.463500       -0.356690   \n",
       "3 -0.432149 -0.347099     -0.637819       -0.648238       -0.607600   \n",
       "4 -1.540707 -1.423087     -1.272086       -1.215968       -1.287337   \n",
       "\n",
       "   Shell weight     Rings         F         M  \n",
       "0     -0.638217  1.571544 -0.674834  1.316677  \n",
       "1     -1.212987 -0.910013 -0.674834  1.316677  \n",
       "2     -0.207139 -0.289624  1.481846 -0.759488  \n",
       "3     -0.602294  0.020571 -0.674834  1.316677  \n",
       "4     -1.320757 -0.910013 -0.674834 -0.759488  "
      ]
     },
     "execution_count": 7,
     "metadata": {},
     "output_type": "execute_result"
    }
   ],
   "source": [
    "abalone_df = abalone_df.drop(['Length'], axis=1)\n",
    "\n",
    "abalone_df.head()"
   ]
  },
  {
   "attachments": {},
   "cell_type": "markdown",
   "metadata": {},
   "source": [
    "Ahora, usando la libreria sklearn, se va a usar el metodo de la varianza para seleccionar las variables que más contribuyen al proceso de modelización. Se va a usar un umbral de 0.3."
   ]
  },
  {
   "cell_type": "code",
   "execution_count": 8,
   "metadata": {},
   "outputs": [
    {
     "data": {
      "text/plain": [
       "(4177, 8)"
      ]
     },
     "execution_count": 8,
     "metadata": {},
     "output_type": "execute_result"
    }
   ],
   "source": [
    "X = abalone_df.drop(['Rings'], axis=1)\n",
    "y = abalone_df['Rings']\n",
    "\n",
    "X.shape"
   ]
  },
  {
   "cell_type": "code",
   "execution_count": 9,
   "metadata": {},
   "outputs": [
    {
     "data": {
      "text/plain": [
       "-0.289624    689\n",
       " 0.020571    634\n",
       "-0.599818    568\n",
       " 0.330765    487\n",
       "-0.910013    391\n",
       " 0.640960    267\n",
       "-1.220208    259\n",
       " 0.951154    203\n",
       " 1.261349    126\n",
       "-1.530402    115\n",
       " 1.571544    103\n",
       " 1.881738     67\n",
       " 2.191933     58\n",
       "-1.840597     57\n",
       " 2.502127     42\n",
       " 2.812322     32\n",
       " 3.122516     26\n",
       "-2.150791     15\n",
       " 3.432711     14\n",
       " 4.053100      9\n",
       " 3.742906      6\n",
       " 5.293878      2\n",
       " 4.363295      2\n",
       "-2.771180      1\n",
       " 4.983684      1\n",
       " 5.914268      1\n",
       "-2.460986      1\n",
       " 4.673489      1\n",
       "Name: Rings, dtype: int64"
      ]
     },
     "execution_count": 9,
     "metadata": {},
     "output_type": "execute_result"
    }
   ],
   "source": [
    "y.value_counts()"
   ]
  },
  {
   "cell_type": "code",
   "execution_count": 10,
   "metadata": {},
   "outputs": [
    {
     "data": {
      "text/plain": [
       "array([0.39591815, 0.40246025, 0.39359332, 0.3316522 , 0.37406444,\n",
       "       0.46734   , 0.05335037, 0.02434766])"
      ]
     },
     "execution_count": 10,
     "metadata": {},
     "output_type": "execute_result"
    }
   ],
   "source": [
    "from sklearn.feature_selection import mutual_info_regression\n",
    "\n",
    "THRESHOLD = 3e-1\n",
    "\n",
    "mi_score = mutual_info_regression(X, y)\n",
    "\n",
    "mi_score\n"
   ]
  },
  {
   "cell_type": "code",
   "execution_count": 11,
   "metadata": {},
   "outputs": [
    {
     "data": {
      "text/html": [
       "<div>\n",
       "<style scoped>\n",
       "    .dataframe tbody tr th:only-of-type {\n",
       "        vertical-align: middle;\n",
       "    }\n",
       "\n",
       "    .dataframe tbody tr th {\n",
       "        vertical-align: top;\n",
       "    }\n",
       "\n",
       "    .dataframe thead th {\n",
       "        text-align: right;\n",
       "    }\n",
       "</style>\n",
       "<table border=\"1\" class=\"dataframe\">\n",
       "  <thead>\n",
       "    <tr style=\"text-align: right;\">\n",
       "      <th></th>\n",
       "      <th>Diameter</th>\n",
       "      <th>Height</th>\n",
       "      <th>Whole weight</th>\n",
       "      <th>Shucked weight</th>\n",
       "      <th>Viscera weight</th>\n",
       "      <th>Shell weight</th>\n",
       "    </tr>\n",
       "  </thead>\n",
       "  <tbody>\n",
       "    <tr>\n",
       "      <th>0</th>\n",
       "      <td>-0.432149</td>\n",
       "      <td>-1.064424</td>\n",
       "      <td>-0.641898</td>\n",
       "      <td>-0.607685</td>\n",
       "      <td>-0.726212</td>\n",
       "      <td>-0.638217</td>\n",
       "    </tr>\n",
       "    <tr>\n",
       "      <th>1</th>\n",
       "      <td>-1.439929</td>\n",
       "      <td>-1.183978</td>\n",
       "      <td>-1.230277</td>\n",
       "      <td>-1.170910</td>\n",
       "      <td>-1.205221</td>\n",
       "      <td>-1.212987</td>\n",
       "    </tr>\n",
       "    <tr>\n",
       "      <th>2</th>\n",
       "      <td>0.122130</td>\n",
       "      <td>-0.107991</td>\n",
       "      <td>-0.309469</td>\n",
       "      <td>-0.463500</td>\n",
       "      <td>-0.356690</td>\n",
       "      <td>-0.207139</td>\n",
       "    </tr>\n",
       "    <tr>\n",
       "      <th>3</th>\n",
       "      <td>-0.432149</td>\n",
       "      <td>-0.347099</td>\n",
       "      <td>-0.637819</td>\n",
       "      <td>-0.648238</td>\n",
       "      <td>-0.607600</td>\n",
       "      <td>-0.602294</td>\n",
       "    </tr>\n",
       "    <tr>\n",
       "      <th>4</th>\n",
       "      <td>-1.540707</td>\n",
       "      <td>-1.423087</td>\n",
       "      <td>-1.272086</td>\n",
       "      <td>-1.215968</td>\n",
       "      <td>-1.287337</td>\n",
       "      <td>-1.320757</td>\n",
       "    </tr>\n",
       "    <tr>\n",
       "      <th>...</th>\n",
       "      <td>...</td>\n",
       "      <td>...</td>\n",
       "      <td>...</td>\n",
       "      <td>...</td>\n",
       "      <td>...</td>\n",
       "      <td>...</td>\n",
       "    </tr>\n",
       "    <tr>\n",
       "      <th>4172</th>\n",
       "      <td>0.424464</td>\n",
       "      <td>0.609334</td>\n",
       "      <td>0.118813</td>\n",
       "      <td>0.047908</td>\n",
       "      <td>0.532900</td>\n",
       "      <td>0.073062</td>\n",
       "    </tr>\n",
       "    <tr>\n",
       "      <th>4173</th>\n",
       "      <td>0.323686</td>\n",
       "      <td>-0.107991</td>\n",
       "      <td>0.279929</td>\n",
       "      <td>0.358808</td>\n",
       "      <td>0.309362</td>\n",
       "      <td>0.155685</td>\n",
       "    </tr>\n",
       "    <tr>\n",
       "      <th>4174</th>\n",
       "      <td>0.676409</td>\n",
       "      <td>1.565767</td>\n",
       "      <td>0.708212</td>\n",
       "      <td>0.748559</td>\n",
       "      <td>0.975413</td>\n",
       "      <td>0.496955</td>\n",
       "    </tr>\n",
       "    <tr>\n",
       "      <th>4175</th>\n",
       "      <td>0.777187</td>\n",
       "      <td>0.250672</td>\n",
       "      <td>0.541998</td>\n",
       "      <td>0.773341</td>\n",
       "      <td>0.733627</td>\n",
       "      <td>0.410739</td>\n",
       "    </tr>\n",
       "    <tr>\n",
       "      <th>4176</th>\n",
       "      <td>1.482634</td>\n",
       "      <td>1.326659</td>\n",
       "      <td>2.283681</td>\n",
       "      <td>2.640993</td>\n",
       "      <td>1.787449</td>\n",
       "      <td>1.840481</td>\n",
       "    </tr>\n",
       "  </tbody>\n",
       "</table>\n",
       "<p>4177 rows × 6 columns</p>\n",
       "</div>"
      ],
      "text/plain": [
       "      Diameter    Height  Whole weight  Shucked weight  Viscera weight  \\\n",
       "0    -0.432149 -1.064424     -0.641898       -0.607685       -0.726212   \n",
       "1    -1.439929 -1.183978     -1.230277       -1.170910       -1.205221   \n",
       "2     0.122130 -0.107991     -0.309469       -0.463500       -0.356690   \n",
       "3    -0.432149 -0.347099     -0.637819       -0.648238       -0.607600   \n",
       "4    -1.540707 -1.423087     -1.272086       -1.215968       -1.287337   \n",
       "...        ...       ...           ...             ...             ...   \n",
       "4172  0.424464  0.609334      0.118813        0.047908        0.532900   \n",
       "4173  0.323686 -0.107991      0.279929        0.358808        0.309362   \n",
       "4174  0.676409  1.565767      0.708212        0.748559        0.975413   \n",
       "4175  0.777187  0.250672      0.541998        0.773341        0.733627   \n",
       "4176  1.482634  1.326659      2.283681        2.640993        1.787449   \n",
       "\n",
       "      Shell weight  \n",
       "0        -0.638217  \n",
       "1        -1.212987  \n",
       "2        -0.207139  \n",
       "3        -0.602294  \n",
       "4        -1.320757  \n",
       "...            ...  \n",
       "4172      0.073062  \n",
       "4173      0.155685  \n",
       "4174      0.496955  \n",
       "4175      0.410739  \n",
       "4176      1.840481  \n",
       "\n",
       "[4177 rows x 6 columns]"
      ]
     },
     "execution_count": 11,
     "metadata": {},
     "output_type": "execute_result"
    }
   ],
   "source": [
    "mi_score_selected_index = np.where(mi_score > THRESHOLD)\n",
    "\n",
    "X = X.iloc[:, mi_score_selected_index[0]]\n",
    "\n",
    "X"
   ]
  },
  {
   "attachments": {},
   "cell_type": "markdown",
   "metadata": {},
   "source": [
    "Con el valor de 0.3, logramos reudcir las variables a 6. Estas variables son Diameter, Height, Whole weight, Shucked weight, Viscera weight y Shell weight."
   ]
  },
  {
   "attachments": {},
   "cell_type": "markdown",
   "metadata": {},
   "source": [
    "#### 1.6 Definición de la red profunda\n",
    "\n",
    "Se va a definir una red profunda con arquitectura de perceptrón multicapa implementada con PyTorch. Se usará una función de activación ReLU.\n",
    "\n",
    "El primer paso es separar los datos en datos de entrenamiento y datos de prueba. Se va a usar un 80% para entrenamiento y un 20% para prueba."
   ]
  },
  {
   "cell_type": "code",
   "execution_count": 12,
   "metadata": {},
   "outputs": [],
   "source": [
    "from sklearn.model_selection import train_test_split\n",
    "\n",
    "X_train, X_test, y_train, y_test = train_test_split(X, y, test_size=.2, random_state=26)"
   ]
  },
  {
   "cell_type": "code",
   "execution_count": 13,
   "metadata": {},
   "outputs": [
    {
     "data": {
      "text/plain": [
       "(3341, 6)"
      ]
     },
     "execution_count": 13,
     "metadata": {},
     "output_type": "execute_result"
    }
   ],
   "source": [
    "X_train.shape"
   ]
  },
  {
   "attachments": {},
   "cell_type": "markdown",
   "metadata": {},
   "source": [
    "Pytorch permite utilizar el GPU para el procesamiento de los datos. Si el dispositivo no tiene una GPU se utilizará la CPU.\n",
    "Para esto, se va a usar la siguiente linea de código:"
   ]
  },
  {
   "cell_type": "code",
   "execution_count": 14,
   "metadata": {},
   "outputs": [
    {
     "data": {
      "text/plain": [
       "device(type='cuda', index=0)"
      ]
     },
     "execution_count": 14,
     "metadata": {},
     "output_type": "execute_result"
    }
   ],
   "source": [
    "import torch\n",
    "\n",
    "device = torch.device(\"cuda:0\" if torch.cuda.is_available() else \"cpu\")\n",
    "device\n"
   ]
  },
  {
   "cell_type": "code",
   "execution_count": 15,
   "metadata": {},
   "outputs": [],
   "source": [
    "from torch.utils.data import Dataset, DataLoader\n",
    "\n",
    "BATCH_SIZE = 64\n",
    "\n",
    "class Data(Dataset):\n",
    "    def __init__(self, X, y):\n",
    "        self.X_data = torch.from_numpy(np.asarray(X)).float().to(device)\n",
    "        self.y_data = torch.from_numpy(np.asarray(y)).float().to(device)\n",
    "        self.len = self.X_data.shape[0]\n",
    "\n",
    "    def __getitem__(self, index):\n",
    "        return self.X_data[index], self.y_data[index]\n",
    "    \n",
    "    def __len__(self):\n",
    "        return self.len\n"
   ]
  },
  {
   "cell_type": "code",
   "execution_count": 16,
   "metadata": {},
   "outputs": [
    {
     "name": "stdout",
     "output_type": "stream",
     "text": [
      "Batch: 1\n",
      "X shape: torch.Size([64, 6])\n",
      "y shape: torch.Size([64])\n",
      "Batch: 2\n",
      "X shape: torch.Size([64, 6])\n",
      "y shape: torch.Size([64])\n",
      "Batch: 3\n",
      "X shape: torch.Size([64, 6])\n",
      "y shape: torch.Size([64])\n",
      "Batch: 4\n",
      "X shape: torch.Size([64, 6])\n",
      "y shape: torch.Size([64])\n",
      "Batch: 5\n",
      "X shape: torch.Size([64, 6])\n",
      "y shape: torch.Size([64])\n",
      "Batch: 6\n",
      "X shape: torch.Size([64, 6])\n",
      "y shape: torch.Size([64])\n",
      "Batch: 7\n",
      "X shape: torch.Size([64, 6])\n",
      "y shape: torch.Size([64])\n",
      "Batch: 8\n",
      "X shape: torch.Size([64, 6])\n",
      "y shape: torch.Size([64])\n",
      "Batch: 9\n",
      "X shape: torch.Size([64, 6])\n",
      "y shape: torch.Size([64])\n",
      "Batch: 10\n",
      "X shape: torch.Size([64, 6])\n",
      "y shape: torch.Size([64])\n",
      "Batch: 11\n",
      "X shape: torch.Size([64, 6])\n",
      "y shape: torch.Size([64])\n",
      "Batch: 12\n",
      "X shape: torch.Size([64, 6])\n",
      "y shape: torch.Size([64])\n",
      "Batch: 13\n",
      "X shape: torch.Size([64, 6])\n",
      "y shape: torch.Size([64])\n",
      "Batch: 14\n",
      "X shape: torch.Size([64, 6])\n",
      "y shape: torch.Size([64])\n",
      "Batch: 15\n",
      "X shape: torch.Size([64, 6])\n",
      "y shape: torch.Size([64])\n",
      "Batch: 16\n",
      "X shape: torch.Size([64, 6])\n",
      "y shape: torch.Size([64])\n",
      "Batch: 17\n",
      "X shape: torch.Size([64, 6])\n",
      "y shape: torch.Size([64])\n",
      "Batch: 18\n",
      "X shape: torch.Size([64, 6])\n",
      "y shape: torch.Size([64])\n",
      "Batch: 19\n",
      "X shape: torch.Size([64, 6])\n",
      "y shape: torch.Size([64])\n",
      "Batch: 20\n",
      "X shape: torch.Size([64, 6])\n",
      "y shape: torch.Size([64])\n",
      "Batch: 21\n",
      "X shape: torch.Size([64, 6])\n",
      "y shape: torch.Size([64])\n",
      "Batch: 22\n",
      "X shape: torch.Size([64, 6])\n",
      "y shape: torch.Size([64])\n",
      "Batch: 23\n",
      "X shape: torch.Size([64, 6])\n",
      "y shape: torch.Size([64])\n",
      "Batch: 24\n",
      "X shape: torch.Size([64, 6])\n",
      "y shape: torch.Size([64])\n",
      "Batch: 25\n",
      "X shape: torch.Size([64, 6])\n",
      "y shape: torch.Size([64])\n",
      "Batch: 26\n",
      "X shape: torch.Size([64, 6])\n",
      "y shape: torch.Size([64])\n",
      "Batch: 27\n",
      "X shape: torch.Size([64, 6])\n",
      "y shape: torch.Size([64])\n",
      "Batch: 28\n",
      "X shape: torch.Size([64, 6])\n",
      "y shape: torch.Size([64])\n",
      "Batch: 29\n",
      "X shape: torch.Size([64, 6])\n",
      "y shape: torch.Size([64])\n",
      "Batch: 30\n",
      "X shape: torch.Size([64, 6])\n",
      "y shape: torch.Size([64])\n",
      "Batch: 31\n",
      "X shape: torch.Size([64, 6])\n",
      "y shape: torch.Size([64])\n",
      "Batch: 32\n",
      "X shape: torch.Size([64, 6])\n",
      "y shape: torch.Size([64])\n",
      "Batch: 33\n",
      "X shape: torch.Size([64, 6])\n",
      "y shape: torch.Size([64])\n",
      "Batch: 34\n",
      "X shape: torch.Size([64, 6])\n",
      "y shape: torch.Size([64])\n",
      "Batch: 35\n",
      "X shape: torch.Size([64, 6])\n",
      "y shape: torch.Size([64])\n",
      "Batch: 36\n",
      "X shape: torch.Size([64, 6])\n",
      "y shape: torch.Size([64])\n",
      "Batch: 37\n",
      "X shape: torch.Size([64, 6])\n",
      "y shape: torch.Size([64])\n",
      "Batch: 38\n",
      "X shape: torch.Size([64, 6])\n",
      "y shape: torch.Size([64])\n",
      "Batch: 39\n",
      "X shape: torch.Size([64, 6])\n",
      "y shape: torch.Size([64])\n",
      "Batch: 40\n",
      "X shape: torch.Size([64, 6])\n",
      "y shape: torch.Size([64])\n",
      "Batch: 41\n",
      "X shape: torch.Size([64, 6])\n",
      "y shape: torch.Size([64])\n",
      "Batch: 42\n",
      "X shape: torch.Size([64, 6])\n",
      "y shape: torch.Size([64])\n",
      "Batch: 43\n",
      "X shape: torch.Size([64, 6])\n",
      "y shape: torch.Size([64])\n",
      "Batch: 44\n",
      "X shape: torch.Size([64, 6])\n",
      "y shape: torch.Size([64])\n",
      "Batch: 45\n",
      "X shape: torch.Size([64, 6])\n",
      "y shape: torch.Size([64])\n",
      "Batch: 46\n",
      "X shape: torch.Size([64, 6])\n",
      "y shape: torch.Size([64])\n",
      "Batch: 47\n",
      "X shape: torch.Size([64, 6])\n",
      "y shape: torch.Size([64])\n",
      "Batch: 48\n",
      "X shape: torch.Size([64, 6])\n",
      "y shape: torch.Size([64])\n",
      "Batch: 49\n",
      "X shape: torch.Size([64, 6])\n",
      "y shape: torch.Size([64])\n",
      "Batch: 50\n",
      "X shape: torch.Size([64, 6])\n",
      "y shape: torch.Size([64])\n",
      "Batch: 51\n",
      "X shape: torch.Size([64, 6])\n",
      "y shape: torch.Size([64])\n",
      "Batch: 52\n",
      "X shape: torch.Size([64, 6])\n",
      "y shape: torch.Size([64])\n",
      "Batch: 53\n",
      "X shape: torch.Size([13, 6])\n",
      "y shape: torch.Size([13])\n"
     ]
    }
   ],
   "source": [
    "train_data = Data(X_train, y_train)\n",
    "train_dataloader = DataLoader(dataset=train_data, batch_size=BATCH_SIZE, shuffle=False)\n",
    "\n",
    "test_data = Data(X_test, y_test)\n",
    "test_dataloader = DataLoader(dataset=test_data, batch_size=BATCH_SIZE, shuffle=False)\n",
    "\n",
    "for batch, (X, y) in enumerate(train_dataloader):\n",
    "    print(f\"Batch: {batch + 1}\")\n",
    "    print(f\"X shape: {X.shape}\")\n",
    "    print(f\"y shape: {y.shape}\")"
   ]
  },
  {
   "cell_type": "code",
   "execution_count": 17,
   "metadata": {},
   "outputs": [
    {
     "name": "stdout",
     "output_type": "stream",
     "text": [
      "Training dataset size: 3341\n",
      "Batch size: 64\n"
     ]
    }
   ],
   "source": [
    "print(\"Training dataset size:\", len(train_data))\n",
    "print(\"Batch size:\", BATCH_SIZE)\n"
   ]
  },
  {
   "cell_type": "code",
   "execution_count": 18,
   "metadata": {},
   "outputs": [],
   "source": [
    "import torch\n",
    "\n",
    "from torch import nn\n",
    "from torch import optim\n",
    "\n",
    "\n",
    "\n",
    "class NueralNetwork(nn.Module):\n",
    "    def __init__(self, input_size, hidden_size, output_size):\n",
    "        super(NueralNetwork, self).__init__()\n",
    "        self.input_layer = nn.Linear(input_size, hidden_size)\n",
    "        self.dropout1 = nn.Dropout(p=0.5)\n",
    "        self.layer2 = nn.Linear(hidden_size, hidden_size)\n",
    "        self.dropout2 = nn.Dropout(p=0.5)\n",
    "        self.layer3 = nn.Linear(hidden_size, hidden_size)\n",
    "        self.dropout3 = nn.Dropout(p=0.5)\n",
    "        self.output_layer = nn.Linear(hidden_size, output_size)\n",
    "        self.batch_norm = nn.BatchNorm1d(hidden_size)\n",
    "        self.activation = nn.ReLU()\n",
    "\n",
    "        self.init_weights()\n",
    "\n",
    "    def init_weights(self):\n",
    "        nn.init.zeros_(self.input_layer.bias)\n",
    "        nn.init.zeros_(self.layer2.bias)\n",
    "        nn.init.zeros_(self.layer3.bias)\n",
    "        nn.init.zeros_(self.output_layer.bias)\n",
    "\n",
    "        nn.init.xavier_uniform_(self.input_layer.weight)\n",
    "        nn.init.xavier_uniform_(self.layer2.weight)\n",
    "        nn.init.xavier_uniform_(self.layer3.weight)\n",
    "\n",
    "    def forward(self, x):\n",
    "        x = self.activation(self.batch_norm(self.input_layer(x)))\n",
    "        x = self.dropout1(x)\n",
    "        x = self.activation(self.batch_norm(self.layer2(x)))\n",
    "        x = self.dropout2(x)\n",
    "        x = self.activation(self.batch_norm(self.layer3(x)))\n",
    "        x = self.dropout3(x)\n",
    "        x = self.output_layer(x)\n",
    "        return x\n",
    "    \n",
    "\n",
    "INTERMEDIATE_LAYERS = 20"
   ]
  },
  {
   "cell_type": "code",
   "execution_count": 19,
   "metadata": {},
   "outputs": [],
   "source": [
    "model = NueralNetwork(X.shape[1], INTERMEDIATE_LAYERS, 1).to(device)"
   ]
  },
  {
   "cell_type": "code",
   "execution_count": 20,
   "metadata": {},
   "outputs": [],
   "source": [
    "learning_rate = 0.01\n",
    "\n",
    "loss_fn = nn.MSELoss().to(device)\n",
    "optimizer = torch.optim.SGD(model.parameters(), lr=learning_rate, momentum=0.9)"
   ]
  },
  {
   "cell_type": "code",
   "execution_count": 21,
   "metadata": {},
   "outputs": [],
   "source": [
    "num_epochs = 500\n",
    "loss_values = []\n",
    "\n",
    "\n",
    "for epoch in range(num_epochs):\n",
    "    model.train()\n",
    "    epoch_loss = 0.0\n",
    "    for X, y in train_dataloader:\n",
    "        optimizer.zero_grad()\n",
    "        output = model(X)\n",
    "        target = y.unsqueeze(1)\n",
    "        loss = loss_fn(output, target)\n",
    "        loss.backward()\n",
    "        optimizer.step()\n",
    "        epoch_loss += loss.item()\n",
    "\n",
    "    epoch_loss /= len(train_dataloader)\n",
    "    loss_values.append(epoch_loss)\n",
    "    \n",
    "        # Print loss value for monitoring\n",
    "        #print(f\"Epoch: {epoch+1}/{num_epochs}, Loss: {loss.item()}\")"
   ]
  },
  {
   "cell_type": "code",
   "execution_count": 22,
   "metadata": {},
   "outputs": [
    {
     "data": {
      "image/png": "[encoded data removed]",
      "text/plain": [
       "<Figure size 640x480 with 1 Axes>"
      ]
     },
     "metadata": {},
     "output_type": "display_data"
    }
   ],
   "source": [
    "plt.plot(range(num_epochs), loss_values)\n",
    "plt.xlabel('Epoch')\n",
    "plt.ylabel('Loss')\n",
    "plt.title('Training Loss')\n",
    "plt.show()"
   ]
  },
  {
   "cell_type": "code",
   "execution_count": 23,
   "metadata": {},
   "outputs": [
    {
     "data": {
      "image/png": "[encoded data removed]",
      "text/plain": [
       "<Figure size 640x480 with 1 Axes>"
      ]
     },
     "metadata": {},
     "output_type": "display_data"
    }
   ],
   "source": [
    "import numpy as np\n",
    "\n",
    "window_size = 10\n",
    "smoothed_loss_values = np.convolve(loss_values, np.ones(window_size)/window_size, mode='valid')\n",
    "\n",
    "# Adjusting x-axis range\n",
    "x_range = range(window_size, window_size + len(smoothed_loss_values))\n",
    "\n",
    "# Plotting the smoothed loss graph\n",
    "plt.plot(x_range, smoothed_loss_values)\n",
    "plt.xlabel('Epoch')\n",
    "plt.ylabel('Loss')\n",
    "plt.title('Smoothed Training Loss')\n",
    "plt.show()\n"
   ]
  },
  {
   "attachments": {},
   "cell_type": "markdown",
   "metadata": {},
   "source": [
    "## Pregunta 2. Aplique regresión Ridge sobre el conjunto de datos de los abulones\n",
    "\n",
    "- a) (2 puntos) Aplique regresión Ridge al conjunto de datos limpio y escalado. \n",
    "- b) (1 puntos) Calcule la pérdida utilizando el MSE y el MAE.\n",
    "- c) (2 puntos) Compare los resultados con los del ejercicio anterior."
   ]
  },
  {
   "attachments": {},
   "cell_type": "markdown",
   "metadata": {},
   "source": [
    "## Pregunta 3. Implemente un perceptrón de una capa \n",
    "\n",
    "**Es requisito indispensable para tomar en cuenta el ejercicio, usar tensores de PyTorch.**\n",
    "\n",
    "- a)(10 puntos) Implemente el algoritmo del perceptrón de una capa prescindiendo al máximo de estructuras de tipo for, usando en su lugar operaciones matriciales. Debe implementarlo sin utilizar ninguna biblioteca, es decir, no se puede usar ninguna clase o funcionalidad desarrollada por PyTorch o alguna otra biblioteca (por ejemplo no se puede usar la clase de PyTorch nn.Module).\n",
    "- b)(2 puntos) Cree una columna adicional en los datos limpios y escalados de los abulones que nos permita hacer una clasificación binaria de estos. Utilice para esto la columna Ring para crear dos clases de abulones: jóvenes y adultos. Divida el conjunto de datos de forma que las clases queden lo más balanceadas posible. Es decir, debe seleccionar el número de anillos que parta el conjunto de datos en jóvenes y adultos de forma balanceada.   \n",
    "- c)(3 puntos) Utilice el perceptrón desarrollado en a) para realizar un clasificación binaria con los datos de los abulones.\n",
    "- d) (2 puntos) Calcule la exactitud (accuracy) del modelo. \n",
    "- e) (3 puntos) Realice al menos tres conclusiones sobre el ejercicio."
   ]
  },
  {
   "cell_type": "code",
   "execution_count": null,
   "metadata": {},
   "outputs": [],
   "source": []
  }
 ],
 "metadata": {
  "colab": {
   "collapsed_sections": [],
   "name": "Quiz_1_Matemática_para_ciencia_de_los_datos.ipynb",
   "provenance": []
  },
  "kernelspec": {
   "display_name": "Python 3 (ipykernel)",
   "language": "python",
   "name": "python3"
  },
  "language_info": {
   "codemirror_mode": {
    "name": "ipython",
    "version": 3
   },
   "file_extension": ".py",
   "mimetype": "text/x-python",
   "name": "python",
   "nbconvert_exporter": "python",
   "pygments_lexer": "ipython3",
   "version": "3.10.3"
  }
 },
 "nbformat": 4,
 "nbformat_minor": 4
}
