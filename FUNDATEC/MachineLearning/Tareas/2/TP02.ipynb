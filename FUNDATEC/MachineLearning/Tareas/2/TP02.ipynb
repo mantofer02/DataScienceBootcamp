{
 "cells": [
  {
   "attachments": {},
   "cell_type": "markdown",
   "metadata": {
    "colab_type": "text",
    "id": "TGvdZZ7C16o5"
   },
   "source": [
    "## Escuela de Ingeniería en Computación, ITCR \n",
    "\n",
    "## Aprendizaje automático\n",
    "\n",
    " \n",
    "### Segunda tarea programada, julio 2023\n",
    "\n",
    "\n",
    "Profesora: María Auxiliadora Mora\n",
    "\n",
    "Medio de entrega: Por medio del TEC-Digital.\n",
    "\n",
    "Entregables: Un archivo en Jupyter ( .IPYNB ). \n",
    "\n",
    "Modo de trabajo: Individual o en grupos de máximo dos personas.\n",
    "\n",
    "---\n",
    "\n",
    "\n",
    "Objetivo: En el presente trabajo se repasarán conceptos elementales de regresión y aprendizaje profundo con la biblioteca de PyTorch.\n",
    "\n",
    "\n",
    "**Rúbrica:**\n",
    "- **Todas las secciones del código deben estar debidamente documentadas (5 puntos).**\n",
    "- **Deben incluir las referencias del material utilizado (1 punto)**\n",
    "- **El resto de la rúbrica está incluida en las definición de los ejercicios.**\n",
    "\n",
    "---\n"
   ]
  },
  {
   "attachments": {},
   "cell_type": "markdown",
   "metadata": {},
   "source": [
    "## Pregunta 1. Análisis de regresión con aprendizaje profundo (con PyTorch)"
   ]
  },
  {
   "attachments": {},
   "cell_type": "markdown",
   "metadata": {},
   "source": [
    "Para realizar el análisis se utilizará un conjunto de datos generado por la Facultad de Ciencias de la Información y la Computación Donald Bren de la Universidad de California en Irvine disponibles en https://www.kaggle.com/rodolfomendes/abalone-dataset.   \n",
    "\n",
    "Descripción de los datos:\n",
    "El conjunto de datos puede ser utilizado para entrenar modelos para predecir la edad de los abulones (moluscos también conocidos como orejas de mar) a partir de mediciones físicas. Comúnmente, la edad de un abulón se determina cortando la concha a través del cono, tiñéndola y contando el número de anillos a través de un microscopio, una tarea que requiere mucho tiempo. Sin embargo, es posible utilizar datos morfológicos del individuo, que son más fáciles de obtener y permiten predecir la edad este. Una descripción detallada de los datos está disponible en https://archive.ics.uci.edu/ml/datasets/abalone. \n",
    "\n",
    "Dado el conjunto de datos de abulones se **desea crear un modelo de regresión utilizando un perceptrón multicapa para predecir la cantidad de anillos (columna Rings) de estos a partir del conjunto de características**.\n",
    "\n",
    "Realice lo siguiente:\n",
    "\n",
    "**(Es requisito indispensable para tomar en cuenta el ejercicio usar PyTorch).**\n",
    "\n",
    "- a) (1 punto) Describa el conjunto de datos, cada uno de sus campos y referencie la fuente. \n",
    "- b) Cargue el conjunto de datos.\n",
    "- c) (2 puntos) Explore, limpie el conjunto de datos y visualice algunas estadísticas.\n",
    "- d) (1 puntos) Escale los datos datos.\n",
    "- e) (2 puntos) Seleccione las características que más contribuyen al proceso de modelización utilizando los algoritmos vistos en clase. Explique los resultados.\n",
    "- f) (5 puntos) Defina una **red profunda con arquitectura de perceptrón multicapa** implementada con PyTorch.\n",
    "- g) (3 puntos) Intancie un modelo y realice el entrenamiento de este.\n",
    "- h) (2 puntos) Calcule la pérdida utilizando el error cuadrático medio (MSE) y error absoluto medio (MAE).\n",
    "- i) (1 puntos) Prepare un ejemplo de uso del modelo seleccionado y explique el resultado.\n",
    "- j) (3 puntos) Realice al menos tres conclusiones sobre el ejercicio.\n"
   ]
  },
  {
   "attachments": {},
   "cell_type": "markdown",
   "metadata": {},
   "source": [
    "#### 1.1 Descripcion del conjunto de datos\n",
    "\n",
    "El conjunto de datos se refiere a caracteristicas de abulones, los cuales son moluscos que se encuentran en las costas de Nueva Zelanda, Australia, Sudáfrica y Japón. Estos moluscos son muy apreciados por su carne y por su concha, la cual es utilizada para hacer joyas. A continuación se van a describir los campos de los datos:\n",
    "\n",
    "1. Sex: Sexo del abulón. Puede ser masculino, femenino o infantil. Variable categórica nominal.\n",
    "2. Length: Longitud del abulón en mm. Variable numérica continua.\n",
    "3. Diameter: Diámetro del abulón en mm. Variable numérica continua.\n",
    "4. Height: Altura del abulón en mm. Variable numérica continua.\n",
    "5. Whole weight: Peso del abulón entero en gramos. Variable numérica continua.\n",
    "6. Shucked weight: Peso de la carne del abulón en gramos. Variable numérica continua.\n",
    "7. Viscera weight: Peso de las vísceras del abulón en gramos. Variable numérica continua.\n",
    "8. Shell weight: Peso de la concha del abulón en gramos. Variable numérica continua.\n",
    "9. Rings: Cantidad de anillos del abulón. Variable numérica discreta. Esta variable es la que se desea predecir. La cantidad de anillos + 1.5 es la edad del abulón en años."
   ]
  },
  {
   "attachments": {},
   "cell_type": "markdown",
   "metadata": {},
   "source": [
    "#### 1.2 Carga de datos\n",
    "\n",
    "Se procederá a cargar los datos con la libreria pandas."
   ]
  },
  {
   "cell_type": "code",
   "execution_count": null,
   "metadata": {},
   "outputs": [],
   "source": [
    "import pandas as pd\n",
    "import numpy as np\n",
    "\n",
    "abalone_df = pd.read_csv('./datos/abalone.csv', header=0)\n",
    "\n",
    "abalone_df.head()"
   ]
  },
  {
   "attachments": {},
   "cell_type": "markdown",
   "metadata": {},
   "source": [
    "#### 1.3 Exploración y limpieza de datos\n",
    "\n",
    "El primer proceso de limpieza es volver los datos categoricos en numericos. \n",
    "\n",
    "Vamos a usar la libreria pandas para generar variables númericas."
   ]
  },
  {
   "cell_type": "code",
   "execution_count": null,
   "metadata": {},
   "outputs": [],
   "source": [
    "abalone_df = pd.get_dummies(abalone_df, columns=['Sex'], prefix='')\n",
    "abalone_df.columns = abalone_df.columns.str.replace('_','')\n",
    "abalone_df = abalone_df.drop(['I'], axis=1)\n",
    "\n",
    "abalone_df.head()"
   ]
  },
  {
   "attachments": {},
   "cell_type": "markdown",
   "metadata": {},
   "source": [
    "## Pregunta 2. Aplique regresión Ridge sobre el conjunto de datos de los abulones\n",
    "\n",
    "- a) (2 puntos) Aplique regresión Ridge al conjunto de datos limpio y escalado. \n",
    "- b) (1 puntos) Calcule la pérdida utilizando el MSE y el MAE.\n",
    "- c) (2 puntos) Compare los resultados con los del ejercicio anterior."
   ]
  },
  {
   "attachments": {},
   "cell_type": "markdown",
   "metadata": {},
   "source": [
    "## Pregunta 3. Implemente un perceptrón de una capa \n",
    "\n",
    "**Es requisito indispensable para tomar en cuenta el ejercicio, usar tensores de PyTorch.**\n",
    "\n",
    "- a)(10 puntos) Implemente el algoritmo del perceptrón de una capa prescindiendo al máximo de estructuras de tipo for, usando en su lugar operaciones matriciales. Debe implementarlo sin utilizar ninguna biblioteca, es decir, no se puede usar ninguna clase o funcionalidad desarrollada por PyTorch o alguna otra biblioteca (por ejemplo no se puede usar la clase de PyTorch nn.Module).\n",
    "- b)(2 puntos) Cree una columna adicional en los datos limpios y escalados de los abulones que nos permita hacer una clasificación binaria de estos. Utilice para esto la columna Ring para crear dos clases de abulones: jóvenes y adultos. Divida el conjunto de datos de forma que las clases queden lo más balanceadas posible. Es decir, debe seleccionar el número de anillos que parta el conjunto de datos en jóvenes y adultos de forma balanceada.   \n",
    "- c)(3 puntos) Utilice el perceptrón desarrollado en a) para realizar un clasificación binaria con los datos de los abulones.\n",
    "- d) (2 puntos) Calcule la exactitud (accuracy) del modelo. \n",
    "- e) (3 puntos) Realice al menos tres conclusiones sobre el ejercicio."
   ]
  },
  {
   "cell_type": "code",
   "execution_count": null,
   "metadata": {},
   "outputs": [],
   "source": []
  }
 ],
 "metadata": {
  "colab": {
   "collapsed_sections": [],
   "name": "Quiz_1_Matemática_para_ciencia_de_los_datos.ipynb",
   "provenance": []
  },
  "kernelspec": {
   "display_name": "Python 3 (ipykernel)",
   "language": "python",
   "name": "python3"
  },
  "language_info": {
   "codemirror_mode": {
    "name": "ipython",
    "version": 3
   },
   "file_extension": ".py",
   "mimetype": "text/x-python",
   "name": "python",
   "nbconvert_exporter": "python",
   "pygments_lexer": "ipython3",
   "version": "3.10.3"
  }
 },
 "nbformat": 4,
 "nbformat_minor": 4
}
