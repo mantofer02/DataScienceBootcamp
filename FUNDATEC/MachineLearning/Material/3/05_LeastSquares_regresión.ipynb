{
 "cells": [
  {
   "cell_type": "markdown",
   "metadata": {
    "colab_type": "text",
    "id": "view-in-github"
   },
   "source": [
    "<a href=\"https://colab.research.google.com/github/fmejias/CienciasDeLosDatosTEC/blob/master/MatematicasCienciasDeLosDatos/TP3/TP3.ipynb\" target=\"_parent\"><img src=\"https://colab.research.google.com/assets/colab-badge.svg\" alt=\"Open In Colab\"/></a>"
   ]
  },
  {
   "cell_type": "markdown",
   "metadata": {
    "colab_type": "text",
    "id": "jYQE37rOc539"
   },
   "source": [
    "# Matemáticas para Ciencias de los Datos\n",
    "## Ejemplo mínimos cuadrados para un problema de regresión\n",
    "\n",
    "Profesora: María Auxiliadora Mora"
   ]
  },
  {
   "cell_type": "code",
   "execution_count": 1,
   "metadata": {
    "colab": {},
    "colab_type": "code",
    "id": "jGgKy32qS_2U"
   },
   "outputs": [],
   "source": [
    "# Libraries required \n",
    "import torch as torch\n",
    "import numpy as np\n",
    "import math\n",
    "\n",
    "from sklearn.datasets import make_regression\n",
    "import matplotlib.pyplot as plt\n"
   ]
  },
  {
   "cell_type": "markdown",
   "metadata": {},
   "source": [
    "## Objetivo\n",
    "El objetivo del ejemplo es repasar aspectos básicos del algoritmo de mínimos cuadrados aplicado a un ejemplo de regresión.\n",
    "\n",
    "## Actividad\n",
    "1. Se generará un conjunto de datos ejemplo. \n",
    "\n",
    "2. Se estimará el vector de pesos óptimo utilizando mínimos cuadrados.\n",
    "\n",
    "3. Se estimarán las salidas implementando la función forward que permita realizar la regresión lineal.\n",
    "\n",
    "4. Se evaluará el error, es decir la distancia euclidiana entre la estimación y sus etiquetas.\n"
   ]
  },
  {
   "cell_type": "markdown",
   "metadata": {
    "colab_type": "text",
    "id": "8chJbeF0dXmO"
   },
   "source": [
    "# 1) Generar conjuntos de datos\n",
    "Con sklearn se genera un problema random de regresión usando la función make_regression.\n",
    "\n",
    "Algunos parámetros:\n",
    "\n",
    "- n_samples int, default=100. Número de muestras.\n",
    "\n",
    "- n_features int, default=100. El número de atributos.\n",
    "\n",
    "- n_informative int, default=10.  La cantidad de características informativas, es decir, la cantidad de características utilizadas para construir el modelo lineal utilizado para generar la salida. \n",
    "\n",
    "- bias float, default=0.0. El bias en el modelo lineal subyacente. \n",
    "\n",
    "- noise float, default=0.0. La desviación estándar del ruido gaussiano aplicado a la salida. \n",
    "\n",
    "- random_state: Determina la generación de números aleatorios para la creación de conjuntos de datos. Pase un int para una salida reproducible en múltiples llamadas a funciones.\n"
   ]
  },
  {
   "cell_type": "code",
   "execution_count": 10,
   "metadata": {
    "colab": {
     "base_uri": "https://localhost:8080/",
     "height": 521
    },
    "colab_type": "code",
    "id": "K_SXtYheNn9E",
    "outputId": "d8d0eb71-bc18-4d56-c132-f677f7d1d5b3"
   },
   "outputs": [],
   "source": [
    "X, y = make_regression(n_features=1, n_informative=1,\n",
    "                       bias=1, noise=20, random_state=10)"
   ]
  },
  {
   "cell_type": "code",
   "execution_count": 11,
   "metadata": {},
   "outputs": [
    {
     "data": {
      "text/plain": [
       "<matplotlib.collections.PathCollection at 0x7fb0aa9b8490>"
      ]
     },
     "execution_count": 11,
     "metadata": {},
     "output_type": "execute_result"
    },
    {
     "data": {
      "image/png": "[encoded data removed]",
      "text/plain": [
       "<Figure size 640x480 with 1 Axes>"
      ]
     },
     "metadata": {},
     "output_type": "display_data"
    }
   ],
   "source": [
    "# Data visualization\n",
    "plt.scatter(X, y)"
   ]
  },
  {
   "cell_type": "markdown",
   "metadata": {
    "colab_type": "text",
    "id": "Tblj2F8swO-6"
   },
   "source": [
    "# 2) Se estima el vector de pesos óptimo utilizando mínimos cuadrados"
   ]
  },
  {
   "cell_type": "code",
   "execution_count": 12,
   "metadata": {
    "colab": {},
    "colab_type": "code",
    "id": "EL9t6NiMwO-9"
   },
   "outputs": [],
   "source": [
    "def estimateOptimumW(TargetsAll, SamplesAll):\n",
    "    \"\"\" \n",
    "    Estimate the optimum W with least squares\n",
    "    :param TargetsAll, a tensor with the targets.\n",
    "    :param SamplesAll, a tensor with samples. \n",
    "    return \n",
    "       wOpt, array with optimum weights\n",
    "    \"\"\"\n",
    "    # Calculate w = Apinverse*Targets\n",
    "    samplesAllPinv = torch.tensor(np.linalg.pinv(SamplesAll))\n",
    "    wOpt = samplesAllPinv.mm(TargetsAll)\n",
    "    return wOpt\n",
    " \n",
    "\n",
    "# The data is converted to Pytorch tensors.    \n",
    "TargetsAll = torch.tensor(y)\n",
    "SamplesAll = torch.tensor(X)\n",
    "\n",
    "# The targets are adjusted to be able to compute the multiplication. \n",
    "TargetsAll=TargetsAll.reshape([TargetsAll.shape[0],1])\n",
    "    \n",
    "# Optimun w for sample data  \n",
    "wOpt = estimateOptimumW( TargetsAll, SamplesAll)\n"
   ]
  },
  {
   "cell_type": "markdown",
   "metadata": {
    "colab_type": "text",
    "id": "V6bmFMdOz9qL"
   },
   "source": [
    "# 3) Se estiman las salidas implementando la función forward \n",
    "La función forward estima las salidas, del modelo al hacer  $T =X\\,\\vec{w}_{opt}$"
   ]
  },
  {
   "cell_type": "code",
   "execution_count": 13,
   "metadata": {
    "colab": {},
    "colab_type": "code",
    "id": "DOax2hGhzf9x"
   },
   "outputs": [],
   "source": [
    "def forward(SamplesAll, wOpt):\n",
    "    \"\"\"\n",
    "    Get model output\n",
    "    param: SamplesAll, a matrix with dimensions NumSamples x NumDimensions \n",
    "    return: Estimates the model outputs activation function \n",
    "    \"\"\"\n",
    "    EstimatedTargets = SamplesAll.mm(wOpt)\n",
    "    \n",
    "    return EstimatedTargets\n",
    "\n",
    "# Estimated target for sample data    \n",
    "EstimatedTargetsAll = forward(SamplesAll, wOpt)\n",
    "\n"
   ]
  },
  {
   "cell_type": "markdown",
   "metadata": {
    "colab_type": "text",
    "id": "6pqZBZtSTIGF"
   },
   "source": [
    "# 4) Se evalúa la distancia euclidiana entre la estimación y sus etiquetas para calcular el error."
   ]
  },
  {
   "cell_type": "code",
   "execution_count": 14,
   "metadata": {
    "colab": {},
    "colab_type": "code",
    "id": "N8KOGkIdTIGL"
   },
   "outputs": [],
   "source": [
    "def evaluateError(TargetsAll, EstimatedTargetsAll):\n",
    "    \"\"\"\n",
    "    Evaluate model error using the euclidian distance.\n",
    "    param TargetsAll, real targets\n",
    "    param EstimatedTargets\n",
    "    \"\"\"\n",
    "    error = torch.norm(TargetsAll - EstimatedTargetsAll, 2)\n",
    "    return error\n",
    "  \n",
    "  \n",
    "# Error for sample data  \n",
    "error = evaluateError(TargetsAll, EstimatedTargetsAll)\n",
    "\n"
   ]
  },
  {
   "cell_type": "markdown",
   "metadata": {
    "colab_type": "text",
    "id": "fq5MUQ2zh8bi"
   },
   "source": [
    "# 5) Se visualizan los resultados y se reporta el error "
   ]
  },
  {
   "cell_type": "code",
   "execution_count": 15,
   "metadata": {
    "colab": {
     "base_uri": "https://localhost:8080/",
     "height": 769
    },
    "colab_type": "code",
    "id": "-KCmtLcjh8bp",
    "outputId": "f1af21a2-f004-49b9-aa4c-c85a9bb53010"
   },
   "outputs": [
    {
     "data": {
      "image/png": "[encoded data removed]",
      "text/plain": [
       "<Figure size 640x480 with 1 Axes>"
      ]
     },
     "metadata": {},
     "output_type": "display_data"
    }
   ],
   "source": [
    "def plotBestFitLine(X, y, EstimatedTargetsAll):\n",
    "    \"\"\"\n",
    "    Plot the best fit line using wOpt, the samples and targets.\n",
    "    param: \n",
    "        X: Values on the X axis. \n",
    "        y: y values.  \n",
    "        EstimatedTargetsAll: model with estimated values.\n",
    "    \"\"\"\n",
    "\n",
    "    plt.scatter(X, y)\n",
    "    plt.plot(X, EstimatedTargetsAll.numpy(), color='red')\n",
    "\n",
    "    \n",
    "plotBestFitLine(X, y, EstimatedTargetsAll) "
   ]
  },
  {
   "cell_type": "code",
   "execution_count": 91,
   "metadata": {},
   "outputs": [
    {
     "name": "stdout",
     "output_type": "stream",
     "text": [
      "tensor(454.7783, dtype=torch.float64)\n"
     ]
    }
   ],
   "source": [
    "print(error)"
   ]
  },
  {
   "cell_type": "code",
   "execution_count": null,
   "metadata": {},
   "outputs": [],
   "source": []
  }
 ],
 "metadata": {
  "accelerator": "GPU",
  "colab": {
   "collapsed_sections": [],
   "include_colab_link": true,
   "name": "TP3.ipynb",
   "provenance": [],
   "version": "0.3.2"
  },
  "kernelspec": {
   "display_name": "Python 3 (ipykernel)",
   "language": "python",
   "name": "python3"
  },
  "language_info": {
   "codemirror_mode": {
    "name": "ipython",
    "version": 3
   },
   "file_extension": ".py",
   "mimetype": "text/x-python",
   "name": "python",
   "nbconvert_exporter": "python",
   "pygments_lexer": "ipython3",
   "version": "3.9.15"
  }
 },
 "nbformat": 4,
 "nbformat_minor": 1
}
