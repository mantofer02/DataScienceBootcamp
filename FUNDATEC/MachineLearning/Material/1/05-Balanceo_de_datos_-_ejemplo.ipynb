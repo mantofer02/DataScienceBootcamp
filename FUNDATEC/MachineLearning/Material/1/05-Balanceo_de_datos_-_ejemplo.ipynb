{
 "cells": [
  {
   "cell_type": "markdown",
   "id": "5ab17470",
   "metadata": {},
   "source": [
    "# Instituto Tecnológico de Costa Rica (ITCR)\n",
    "# Ciencia de Datos\n",
    "\n",
    "## Balanceo de datos (ejemplo)\n",
    "\n",
    "-Profesora: María Auxiliadora Mora"
   ]
  },
  {
   "cell_type": "markdown",
   "id": "ce4854ab",
   "metadata": {},
   "source": [
    "## Introducción\n",
    "\n",
    "El concepto **datos desbalanceados** se refiere a un problema relacionado con actividades de clasificación en donde las clases no están representadas por igual en el conjunto de datos.\n",
    "\n",
    "**La mayoría de los conjuntos de datos utilizados en procesos de clasificación están desbalanceados por la naturaleza del fenómeno que representan**. Por ejemplo, en el caso de clasificación de imágenes de pacientes con cáncer de piel, se espera que la mayor parte de los exámenes realizados a pacientes va a pertencer a la clase \"No cáncer\".\n",
    "\n",
    "Algunas recomendaciones:\n",
    "- Para medir la precisión de modelos generados con datos desbalanceados la métrica del accuracy no es recomendada, es mejor utilizar la matriz de confusión y las métricas precision, recall y F1. Adicionalmente, se podrían utilizar las métricas Cohen’s kappa y la curva ROC.\n",
    "\n",
    "### Ejemplo\n",
    "\n",
    "Se va a utilizar un conjunto de datos con clases balanceadas y uno que contiene clases desbalancedas para comparar resultados de algoritmos y hacer evidente el impacto en los resultados. \n",
    "\n",
    "**Objetivo de la clasificación**: El principal objetivo de proceso de clasificación es el mismo en ambos casos, predecir si las recetas y lista de ingredientes son indias o no. El atributo is_indian es 1 si la receta corresponde a comida india y 0 si no. \n",
    "\n",
    "**Conjunto de datos**\n",
    "\n",
    "Se va a utilizar dos conjuntos de datos, uno balanceado y el otro no: \n",
    "- recipes.csv: datos desbalanceados\n",
    "- recipes-indian.csv: datos balanceados\n",
    "\n",
    "Ambos conjuntos de datos contienen el origen de la receta en la columna (cuisine), la lista de ingredientes (ingredient_list) y la clase a la que pertenecen que corresponde a 1 si es comida india y 0 si no (is_indian).\n",
    "\n"
   ]
  },
  {
   "cell_type": "code",
   "execution_count": 1,
   "id": "ef4e9447",
   "metadata": {},
   "outputs": [],
   "source": [
    "#!pip install -U imbalanced-learn"
   ]
  },
  {
   "cell_type": "code",
   "execution_count": 13,
   "id": "9766dd6a",
   "metadata": {},
   "outputs": [],
   "source": [
    "# Libraries\n",
    "import pandas as pd\n",
    "\n",
    "# evaluate models applied to unbalanced data\n",
    "from sklearn.feature_extraction.text import TfidfVectorizer\n",
    "from sklearn.svm import LinearSVC\n",
    "from sklearn.model_selection import train_test_split\n",
    "from sklearn.metrics import confusion_matrix\n",
    "\n",
    "# imbalanced-learn to to preprocess the unbalanced data\n",
    "from imblearn.under_sampling import RandomUnderSampler\n",
    "from imblearn.over_sampling import RandomOverSampler\n",
    "from imblearn.over_sampling import ADASYN, SMOTE"
   ]
  },
  {
   "cell_type": "code",
   "execution_count": 14,
   "id": "98a5e793",
   "metadata": {},
   "outputs": [
    {
     "data": {
      "text/html": [
       "<div>\n",
       "<style scoped>\n",
       "    .dataframe tbody tr th:only-of-type {\n",
       "        vertical-align: middle;\n",
       "    }\n",
       "\n",
       "    .dataframe tbody tr th {\n",
       "        vertical-align: top;\n",
       "    }\n",
       "\n",
       "    .dataframe thead th {\n",
       "        text-align: right;\n",
       "    }\n",
       "</style>\n",
       "<table border=\"1\" class=\"dataframe\">\n",
       "  <thead>\n",
       "    <tr style=\"text-align: right;\">\n",
       "      <th></th>\n",
       "      <th>cuisine</th>\n",
       "      <th>id</th>\n",
       "      <th>ingredient_list</th>\n",
       "      <th>is_indian</th>\n",
       "    </tr>\n",
       "  </thead>\n",
       "  <tbody>\n",
       "    <tr>\n",
       "      <th>0</th>\n",
       "      <td>indian</td>\n",
       "      <td>23348</td>\n",
       "      <td>minced ginger, garlic, oil, coriander powder, ...</td>\n",
       "      <td>1</td>\n",
       "    </tr>\n",
       "    <tr>\n",
       "      <th>1</th>\n",
       "      <td>indian</td>\n",
       "      <td>18869</td>\n",
       "      <td>chicken, chicken breasts</td>\n",
       "      <td>1</td>\n",
       "    </tr>\n",
       "    <tr>\n",
       "      <th>2</th>\n",
       "      <td>indian</td>\n",
       "      <td>36405</td>\n",
       "      <td>flour, rose essence, frying oil, powdered milk...</td>\n",
       "      <td>1</td>\n",
       "    </tr>\n",
       "    <tr>\n",
       "      <th>3</th>\n",
       "      <td>indian</td>\n",
       "      <td>11494</td>\n",
       "      <td>soda, ghee, sugar, khoa, maida flour, milk, oil</td>\n",
       "      <td>1</td>\n",
       "    </tr>\n",
       "    <tr>\n",
       "      <th>4</th>\n",
       "      <td>indian</td>\n",
       "      <td>32675</td>\n",
       "      <td>tumeric, garam masala, salt, chicken, curry le...</td>\n",
       "      <td>1</td>\n",
       "    </tr>\n",
       "  </tbody>\n",
       "</table>\n",
       "</div>"
      ],
      "text/plain": [
       "  cuisine     id                                    ingredient_list  is_indian\n",
       "0  indian  23348  minced ginger, garlic, oil, coriander powder, ...          1\n",
       "1  indian  18869                           chicken, chicken breasts          1\n",
       "2  indian  36405  flour, rose essence, frying oil, powdered milk...          1\n",
       "3  indian  11494    soda, ghee, sugar, khoa, maida flour, milk, oil          1\n",
       "4  indian  32675  tumeric, garam masala, salt, chicken, curry le...          1"
      ]
     },
     "execution_count": 14,
     "metadata": {},
     "output_type": "execute_result"
    }
   ],
   "source": [
    "# Load balanced datasets\n",
    "ingredients_balanced_dataset = pd.read_csv('../../Data/recipes-indian.csv')\n",
    "\n",
    "ingredients_balanced_dataset.head()"
   ]
  },
  {
   "cell_type": "code",
   "execution_count": 15,
   "id": "af343dca",
   "metadata": {},
   "outputs": [
    {
     "data": {
      "text/plain": [
       "1    3000\n",
       "0    3000\n",
       "Name: is_indian, dtype: int64"
      ]
     },
     "execution_count": 15,
     "metadata": {},
     "output_type": "execute_result"
    }
   ],
   "source": [
    "# Records per class\n",
    "\n",
    "ingredients_balanced_dataset.is_indian.value_counts()"
   ]
  },
  {
   "cell_type": "code",
   "execution_count": 16,
   "id": "d6c9651e",
   "metadata": {},
   "outputs": [
    {
     "data": {
      "text/html": [
       "<div>\n",
       "<style scoped>\n",
       "    .dataframe tbody tr th:only-of-type {\n",
       "        vertical-align: middle;\n",
       "    }\n",
       "\n",
       "    .dataframe tbody tr th {\n",
       "        vertical-align: top;\n",
       "    }\n",
       "\n",
       "    .dataframe thead th {\n",
       "        text-align: right;\n",
       "    }\n",
       "</style>\n",
       "<table border=\"1\" class=\"dataframe\">\n",
       "  <thead>\n",
       "    <tr style=\"text-align: right;\">\n",
       "      <th></th>\n",
       "      <th>cuisine</th>\n",
       "      <th>id</th>\n",
       "      <th>ingredient_list</th>\n",
       "      <th>is_indian</th>\n",
       "    </tr>\n",
       "  </thead>\n",
       "  <tbody>\n",
       "    <tr>\n",
       "      <th>0</th>\n",
       "      <td>greek</td>\n",
       "      <td>10259</td>\n",
       "      <td>romaine lettuce, black olives, grape tomatoes,...</td>\n",
       "      <td>0</td>\n",
       "    </tr>\n",
       "    <tr>\n",
       "      <th>1</th>\n",
       "      <td>southern_us</td>\n",
       "      <td>25693</td>\n",
       "      <td>plain flour, ground pepper, salt, tomatoes, gr...</td>\n",
       "      <td>0</td>\n",
       "    </tr>\n",
       "    <tr>\n",
       "      <th>2</th>\n",
       "      <td>filipino</td>\n",
       "      <td>20130</td>\n",
       "      <td>eggs, pepper, salt, mayonaise, cooking oil, gr...</td>\n",
       "      <td>0</td>\n",
       "    </tr>\n",
       "    <tr>\n",
       "      <th>3</th>\n",
       "      <td>indian</td>\n",
       "      <td>22213</td>\n",
       "      <td>water, vegetable oil, wheat, salt</td>\n",
       "      <td>1</td>\n",
       "    </tr>\n",
       "    <tr>\n",
       "      <th>4</th>\n",
       "      <td>indian</td>\n",
       "      <td>13162</td>\n",
       "      <td>black pepper, shallots, cornflour, cayenne pep...</td>\n",
       "      <td>1</td>\n",
       "    </tr>\n",
       "  </tbody>\n",
       "</table>\n",
       "</div>"
      ],
      "text/plain": [
       "       cuisine     id                                    ingredient_list  \\\n",
       "0        greek  10259  romaine lettuce, black olives, grape tomatoes,...   \n",
       "1  southern_us  25693  plain flour, ground pepper, salt, tomatoes, gr...   \n",
       "2     filipino  20130  eggs, pepper, salt, mayonaise, cooking oil, gr...   \n",
       "3       indian  22213                  water, vegetable oil, wheat, salt   \n",
       "4       indian  13162  black pepper, shallots, cornflour, cayenne pep...   \n",
       "\n",
       "   is_indian  \n",
       "0          0  \n",
       "1          0  \n",
       "2          0  \n",
       "3          1  \n",
       "4          1  "
      ]
     },
     "execution_count": 16,
     "metadata": {},
     "output_type": "execute_result"
    }
   ],
   "source": [
    "# Load un-balanced datasets\n",
    "ingredients_unbalanced_dataset = pd.read_csv('../../Data/recipes.csv')\n",
    "ingredients_unbalanced_dataset['is_indian'] = (ingredients_unbalanced_dataset.cuisine == \"indian\").astype(int)\n",
    "\n",
    "\n",
    "ingredients_unbalanced_dataset.head()"
   ]
  },
  {
   "cell_type": "code",
   "execution_count": 17,
   "id": "6f71d93a",
   "metadata": {},
   "outputs": [
    {
     "data": {
      "text/plain": [
       "0    36771\n",
       "1     3003\n",
       "Name: is_indian, dtype: int64"
      ]
     },
     "execution_count": 17,
     "metadata": {},
     "output_type": "execute_result"
    }
   ],
   "source": [
    "# Records per class\n",
    "\n",
    "ingredients_unbalanced_dataset.is_indian.value_counts()"
   ]
  },
  {
   "cell_type": "markdown",
   "id": "bb300d72",
   "metadata": {},
   "source": [
    "## Ejemplo de Procesamiento de Lengiaje Natural (NLP) \n",
    "\n",
    "Objetivo clasificar los contenidos del texto para predecir si corresponden a comidia India o no. Primero utilizando los datos balanceados y luego los desbalanceados para comprarar los resultados.\n",
    "\n",
    "Note que en NLP: que la extracción de características consiste en vectorizar los tokens que forman los textos de los ingredientes.\n",
    "\n",
    "\n",
    "### Evaluación de modelos de clasificación:\n",
    "Para evaluar los modelos resultantes se utilizará una **Matriz de Confusión**:\n",
    "La Matriz de Confusión es una métricas muy sencilla de entender y visualizar para calcular la **precisión y exactitud del modelo**. Es una de las métricas más utilizada para evaluar modelos en actividades de clasificación con dos o más clases\n",
    "\n",
    "![](../imagenes/Matriz_confusion.jpg)\n",
    "\n",
    "Imagen de https://consultorjava.com/blog/matriz-de-confusion-efectividad-del-modelo-de-clasificacion/"
   ]
  },
  {
   "cell_type": "code",
   "execution_count": 18,
   "id": "02228147",
   "metadata": {},
   "outputs": [],
   "source": [
    "# utility functions\n",
    "\n",
    "def classify_data(X_train, X_test, y_train, y_test):\n",
    "    \"\"\"\n",
    "    Classify the recipies text and display a confusion matrix\n",
    "    Parameters:\n",
    "      X_train: training data.  Matrix with data vectorized unsing Tf-idf\n",
    "      X_test: test data.\n",
    "      y_train, y_test: target (the class, 1 = Indian recipe and 0 = no)\n",
    "    \"\"\"\n",
    "    # Build a classifier and train it (Support Vector Machine)\n",
    "    clf = LinearSVC()\n",
    "    clf.fit(X_train, y_train)\n",
    "\n",
    "    # Test our classifier and build a confusion matrix\n",
    "    y_true = y_test\n",
    "    y_pred = clf.predict(X_test)\n",
    "    matrix = confusion_matrix(y_true, y_pred)\n",
    "\n",
    "    return matrix"
   ]
  },
  {
   "cell_type": "markdown",
   "id": "1904c596",
   "metadata": {},
   "source": [
    "### Extracción de características en NLP\n",
    "\n",
    "**feature_extraction.text.TfidfVectorizer** convierte una colección de documentos en una matriz de características TF-IDF."
   ]
  },
  {
   "cell_type": "code",
   "execution_count": 19,
   "id": "3b8162e6",
   "metadata": {},
   "outputs": [
    {
     "data": {
      "text/plain": [
       "1    3000\n",
       "0    3000\n",
       "Name: is_indian, dtype: int64"
      ]
     },
     "execution_count": 19,
     "metadata": {},
     "output_type": "execute_result"
    }
   ],
   "source": [
    "# Results using the balanced dataset\n",
    "\n",
    "# Vectorize the text field using Term Frequency–Inverse Document Frequency (TF-IDF) \n",
    "vectorizer = TfidfVectorizer()\n",
    "\n",
    "# Apply the vectorizer instance to text.\n",
    "balanced_matrix = vectorizer.fit_transform(ingredients_balanced_dataset.ingredient_list)\n",
    "\n",
    "# The features are the balanced_matrix of tf-idf values\n",
    "X = balanced_matrix\n",
    "y = ingredients_balanced_dataset.is_indian\n",
    "\n",
    "y.value_counts()"
   ]
  },
  {
   "cell_type": "code",
   "execution_count": 20,
   "id": "cc3bb1a0",
   "metadata": {},
   "outputs": [
    {
     "name": "stdout",
     "output_type": "stream",
     "text": [
      "[[0. 0. 0. ... 0. 0. 0.]\n",
      " [0. 0. 0. ... 0. 0. 0.]\n",
      " [0. 0. 0. ... 0. 0. 0.]\n",
      " ...\n",
      " [0. 0. 0. ... 0. 0. 0.]\n",
      " [0. 0. 0. ... 0. 0. 0.]\n",
      " [0. 0. 0. ... 0. 0. 0.]]\n",
      "Máximo de la fila 0 0.34941044709979274\n"
     ]
    }
   ],
   "source": [
    "# Explore vectorizer contents\n",
    "print(X.toarray())\n",
    "\n",
    "# The representation is not empty\n",
    "print(\"Máximo de la fila 0\",max(X.toarray()[0,:]))\n"
   ]
  },
  {
   "cell_type": "code",
   "execution_count": 21,
   "id": "a5ea08c2",
   "metadata": {},
   "outputs": [
    {
     "name": "stdout",
     "output_type": "stream",
     "text": [
      "{'minced': 1019, 'ginger': 670, 'garlic': 659, 'oil': 1100, 'coriander': 401, 'powder': 1264, 'chickpeas': 317, 'onions': 1108, 'chopped': 341, 'tomatoes': 1669, 'salt': 1406, 'lemon': 905, 'juice': 831, 'fenugreek': 569, 'leaves': 899, 'chili': 325, 'cumin': 460, 'seed': 1441, 'ground': 723, 'chicken': 314, 'breasts': 189, 'flour': 612, 'rose': 1375, 'essence': 551, 'frying': 642, 'powdered': 1265, 'milk': 1016, 'ghee': 667, 'sugar': 1592, 'baking': 86, 'soda': 1508, 'khoa': 862, 'maida': 956, 'tumeric': 1689, 'garam': 654, 'masala': 985, 'curry': 470, 'water': 1755, 'cinnamon': 353, 'sticks': 1568, 'fresh': 629, 'spinach': 1536, 'crushed': 446, 'red': 1334, 'pepper': 1188, 'flakes': 597, 'mustard': 1056, 'seeds': 1443, 'tomato': 1668, 'sauce': 1419, 'wine': 1780, 'vinegar': 1743, 'cilantro': 352, 'fat': 563, 'free': 624, 'less': 910, 'sodium': 1509, 'broth': 199, 'pork': 1252, 'tenderloin': 1635, 'diced': 492, 'canola': 247, 'brown': 200, 'rice': 1346, 'kaffir': 837, 'lime': 916, 'whole': 1776, 'cloves': 365, 'cardamom': 262, 'grated': 711, 'nutmeg': 1091, 'coconut': 372, 'lemongrass': 907, 'peanut': 1171, 'kosher': 881, 'shallots': 1454, 'thai': 1642, 'chile': 321, 'turmeric': 1695, 'fennel': 568, 'candlenuts': 240, 'chickpea': 316, 'cabbage': 223, 'boiling': 158, 'potatoes': 1258, 'cauliflower': 277, 'green': 718, 'chilies': 326, 'ricotta': 1348, 'cheese': 305, 'root': 1373, 'dried': 515, 'peppers': 1194, 'olive': 1104, 'coarse': 367, 'sea': 1434, 'sour': 1520, 'cream': 426, 'finely': 584, 'onion': 1107, 'low': 940, 'vegetable': 1725, 'extra': 553, 'firm': 590, 'tofu': 1664, 'carrots': 267, 'basmati': 101, 'paste': 1164, 'wheat': 1764, 'kale': 840, 'sweet': 1603, 'white': 1773, 'kidney': 864, 'beans': 109, 'yellow': 1799, 'light': 913, 'frozen': 636, 'peas': 1177, 'plain': 1234, 'yogurt': 1801, 'nonfat': 1081, 'italian': 811, 'dressing': 513, 'peeled': 1184, 'boneless': 162, 'skinless': 1490, 'breast': 188, 'halves': 743, 'scallions': 1429, 'jalapeno': 816, 'button': 221, 'mushrooms': 1054, 'cooked': 396, 'black': 142, 'cayenne': 283, 'eggs': 538, 'crust': 447, 'stock': 1572, 'peppercorns': 1190, 'bone': 161, 'in': 804, 'thighs': 1649, 'serrano': 1451, 'blanched': 146, 'almonds': 28, 'pistachio': 1228, 'nuts': 1094, 'half': 740, 'saffron': 1397, 'purple': 1293, 'safflower': 1396, 'hot': 789, 'herbs': 769, 'almond': 27, 'butter': 217, 'meat': 999, 'min': 1018, 'beef': 113, 'spices': 1534, 'fruit': 638, 'mango': 962, 'fish': 592, 'asafetida': 66, 'tamarind': 1618, 'cashew': 268, 'bell': 119, 'clove': 364, 'lentils': 909, 'prawns': 1267, 'extract': 554, 'capsicum': 256, 'dinner': 496, 'rolls': 1368, 'wedge': 1760, 'roasted': 1360, 'sweetened': 1605, 'flat': 600, 'iron': 810, 'steaks': 1557, 'yoghurt': 1800, 'shortening': 1472, 'tenderizer': 1634, 'paprika': 1149, 'bay': 106, 'leaf': 895, 'rajma': 1319, 'kasuri': 849, 'methi': 1010, 'garbanzo': 655, 'florets': 610, 'greek': 717, 'shrimp': 1476, 'natural': 1062, 'thigh': 1648, 'cooking': 399, 'tandoori': 1619, 'paneer': 1140, 'amchur': 33, 'corn': 402, 'starch': 1553, 'vegetables': 1726, 'threads': 1651, 'thyme': 1652, 'virgin': 1744, 'salad': 1401, 'fine': 583, 'field': 575, 'lettuce': 911, 'hamachi': 745, 'fillets': 581, 'vinaigrette': 1740, 'mint': 1022, 'kernels': 857, 'waxy': 1759, 'urad': 1715, 'dal': 478, 'pods': 1240, 'condensed': 390, 'pickled': 1209, 'freshly': 630, 'naan': 1058, 'warm': 1753, 'style': 1587, 'cucumber': 456, 'lamb': 886, 'peanuts': 1172, 'orzo': 1118, 'pasta': 1163, 'jalape': 815, 'canned': 243, 'chapati': 297, 'plum': 1236, 'sherry': 1465, 'concentrate': 389, 'large': 889, 'eggplant': 535, 'wholemeal': 1777, 'split': 1539, 'tortillas': 1678, 'gold': 683, 'neutral': 1072, 'chilli': 327, 'long': 936, 'grain': 693, 'star': 1552, 'anise': 45, 'pieces': 1215, 'lentil': 908, 'stems': 1562, 'dark': 479, 'oyster': 1122, 'purée': 1295, 'yukon': 1807, 'hothouse': 790, 'knorr': 872, 'sides': 1481, 'flavor': 602, 'zucchini': 1812, 'unsalted': 1709, 'shoulder': 1473, 'couscous': 415, 'mace': 949, 'all': 25, 'purpose': 1294, 'caraway': 260, 'baby': 77, 'bird': 133, 'heavy': 763, 'mild': 1015, 'spelt': 1532, 'poppy': 1249, 'shahi': 1453, 'jeera': 825, 'russet': 1392, 'smoked': 1502, 'barley': 97, 'kirby': 869, 'cucumbers': 457, 'pomegranate': 1243, 'idaho': 800, 'chaat': 289, 'strong': 1584, 'bread': 184, 'yeast': 1798, 'honey': 784, 'gravy': 714, 'ketchup': 859, 'cold': 381, 'ice': 796, 'cubes': 455, 'splenda': 1538, 'raw': 1331, 'nutella': 1090, 'unsweetened': 1713, 'bananas': 90, 'food': 618, 'coloring': 386, 'gram': 695, 'mayonaise': 994, 'peel': 1183, 'vermicelli': 1732, 'raisins': 1317, 'jaggery': 814, 'halibut': 741, 'lite': 926, 'soymilk': 1525, 'crumbs': 444, 'crystallized': 451, 'golden': 684, 'vodka': 1746, 'granulated': 702, 'semolina': 1450, 'non': 1080, 'chutney': 349, 'channa': 295, 'chat': 301, 'brussels': 203, 'sprouts': 1546, 'jasmine': 824, 'seedless': 1442, 'swiss': 1607, 'chard': 300, 'dry': 521, 'roast': 1359, 'asafoetida': 67, 'gin': 669, 'tea': 1630, 'pistachios': 1229, 'dhal': 491, 'eyed': 556, 'steamer': 1559, 'apricot': 51, 'preserves': 1273, 'bean': 108, 'cashews': 269, 'broccoli': 197, 'grapeseed': 707, 'wedges': 1761, 'roasting': 1361, 'chickens': 315, 'evaporated': 552, 'sprigs': 1542, 'mutton': 1057, 'chillies': 328, 'roti': 1382, 'ravva': 1330, 'chops': 342, 'bengal': 122, 'parsley': 1156, 'homemade': 782, 'toasted': 1661, 'sesame': 1452, 'turnips': 1697, 'cracked': 420, 'loin': 935, 'chiles': 324, 'store': 1574, 'bought': 170, 'pulp': 1288, 'okra': 1101, 'cider': 351, 'spanish': 1528, 'with': 1787, 'piece': 1214, 'spray': 1540, 'legs': 903, 'curds': 464, 'orange': 1111, 'flower': 613, 'barberries': 95, 'hand': 747, 'de': 483, 'arbol': 54, 'moong': 1038, 'pure': 1291, 'distilled': 500, 'mulato': 1048, 'bass': 102, 'roma': 1369, 'mixed': 1029, 'cherries': 307, 'pitted': 1232, 'date': 481, 'dijon': 493, 'plums': 1237, 'raita': 1318, 'grained': 694, 'lipton': 922, 'iced': 798, 'mix': 1028, 'feta': 571, 'potato': 1257, 'granny': 699, 'smith': 1500, 'apples': 48, 'allspice': 26, 'sliced': 1496, 'margarine': 969, 'medium': 1002, 'currants': 469, 'quinces': 1304, 'salmon': 1404, 'soy': 1523, 'active': 10, 'racks': 1310, 'celery': 284, 'ribs': 1345, 'neck': 1065, 'atta': 73, 'slices': 1497, 'pineapple': 1223, 'hearts': 762, 'of': 1099, 'romaine': 1370, 'sunflower': 1599, 'kappa': 845, 'pappadams': 1147, 'wafer': 1747, 'gingerroot': 671, 'cuminseed': 461, 'poha': 1241, 'garden': 657, 'poppyseeds': 1250, 'chana': 294, 'balsamic': 87, 'spring': 1543, 'stewed': 1565, 'masoor': 988, 'scotch': 1431, 'bonnet': 165, 'squash': 1547, 'pearl': 1174, 'stew': 1564, 'liver': 928, 'keema': 852, 'stick': 1567, 'madras': 952, 'skimmed': 1488, 'greens': 719, 'leav': 898, 'pita': 1230, 'grate': 710, 'poblano': 1238, 'leeks': 901, 'parboiled': 1151, 'and': 41, 'slivered': 1498, 'confectioners': 392, 'chocolate': 338, 'tenderloins': 1636, 'fingers': 587, 'ajwain': 18, 'seasoning': 1438, 'lean': 897, 'pitas': 1231, 'cubed': 454, 'sweetener': 1606, 'buttermilk': 218, 'millet': 1017, 'calabash': 229, 'mashed': 987, 'refrigerated': 1337, 'piecrusts': 1216, 'nido': 1075, 'teas': 1632, 'organic': 1115, 'shredded': 1475, 'porcini': 1251, 'bulb': 207, 'portabello': 1255, 'mushroom': 1053, 'port': 1254, 'whipping': 1771, 'vegan': 1722, 'roll': 1366, 'wrappers': 1793, 'phyllo': 1205, 'pastry': 1165, 'toor': 1672, 'veggies': 1729, 'guy': 733, 'spicy': 1535, 'double': 506, 'colouring': 387, 'biryani': 134, 'drumsticks': 520, 'no': 1079, 'added': 11, 'pumpkin': 1289, 'passata': 1161, 'caster': 272, 'guajillo': 729, 'shanks': 1457, 'butternut': 219, 'chuck': 346, 'apple': 47, 'full': 644, 'mission': 1027, 'figs': 577, 'cranberries': 423, 'steamed': 1558, 'bones': 163, 'cantaloupe': 249, 'trout': 1685, 'fillet': 580, 'agave': 14, 'nectar': 1066, 'husks': 794, 'english': 545, 'hamburger': 746, 'buns': 211, 'radicchio': 1312, 'nutmegs': 1092, 'nigella': 1076, 'runny': 1391, 'demerara': 487, 'salted': 1407, 'leg': 902, 'lower': 941, 'edamame': 532, 'mung': 1050, 'buckwheat': 204, 'finger': 585, 'marsala': 980, 'besan': 126, 'hard': 750, 'boiled': 157, 'egg': 534, 'squid': 1549, 'cardamon': 263, 'habanero': 736, 'whitefish': 1774, 'sandwiches': 1412, 'country': 414, 'loaf': 932, 'new': 1073, 'haloumi': 742, 'kewra': 860, 'peaches': 1170, 'clarified': 359, 'french': 626, 'fried': 632, 'dates': 482, 'flatbread': 601, 'wheels': 1767, 'vanilla': 1718, 'ic': 795, 'quinoa': 1305, 'flaked': 596, 'reduced': 1335, 'applesauce': 49, 'swordfish': 1608, 'bliss': 148, 'soften': 1511, 'deveined': 490, 'arhar': 57, 'crimini': 434, 'true': 1686, 'rapeseed': 1324, 'rosewater': 1378, 'spice': 1533, 'groundnut': 724, 'turkey': 1693, 'grapes': 706, 'skin': 1489, 'on': 1106, 'malt': 959, 'papaya': 1145, 'chives': 336, 'zest': 1808, 'melted': 1006, 'parsnips': 1157, 'parmesan': 1153, 'lobster': 934, 'cassia': 271, 'strawberries': 1578, 'hing': 773, 'monterey': 1036, 'jack': 812, 'string': 1580, 'sooji': 1515, 'small': 1499, 'unbleached': 1703, 'popcorn': 1247, 'rib': 1344, 'pepitas': 1187, 'banana': 89, 'sandwich': 1411, 'bulgur': 208, 'sun': 1598, 'bhindi': 130, 'whites': 1775, 'dipping': 498, 'sauces': 1420, 'panko': 1142, 'club': 366, 'turkish': 1694, 'hungarian': 793, 'cherry': 308, 'beaten': 111, 'luke': 943, 'radishes': 1314, 'chai': 290, 'idli': 801, 'mozzarella': 1043, 'marjoram': 975, 'chop': 340, 'flora': 609, 'original': 1116, 'lima': 915, 'rolled': 1367, 'oats': 1097, 'shark': 1459, 'steak': 1556, 'rotisserie': 1384, 'haricots': 752, 'verts': 1734, 'daal': 475, 'bittersweet': 140, 'chips': 334, 'self': 1446, 'rising': 1357, 'goat': 679, 'soft': 1510, 'maui': 993, 'marinade': 973, 'grating': 712, 'persimmon': 1199, 'pears': 1176, 'korma': 880, 'sultana': 1595, 'slice': 1495, 'puff': 1285, 'sheets': 1461, 'creamy': 428, 'marmalade': 976, 'crumb': 441, 'cannellini': 244, 'puree': 1292, 'broad': 196, 'tamari': 1617, 'molasses': 1033, 'scallops': 1430, 'unsalt': 1708, 'watercress': 1756, 'grape': 704, 'mayonnaise': 996, 'pandanus': 1139, 'grass': 709, 'tiger': 1655, 'prawn': 1266, 'bouillon': 171, 'heirloom': 764, 'asparagus': 70, 'shell': 1462, 'butt': 216, 'catfish': 274, 'aleppo': 23, 'bicarbonate': 132, 'clotted': 363, 'rock': 1363, 'silver': 1483, 'dragees': 509, 'cake': 227, 'basil': 100, 'bawang': 105, 'goreng': 687, 'puffed': 1286, 'rings': 1351, 'semi': 1448, 'morsels': 1040, 'cocoa': 371, 'palm': 1131, 'bengali': 123, 'snapper': 1504, 'ancho': 38, 'japanese': 822, 'eggplants': 536, 'carrot': 266, 'pinenuts': 1225, 'assorted': 72, 'tahini': 1615, 'wings': 1784, 'table': 1612, 'plantains': 1235, 'sago': 1399, 'instant': 806, 'pigeon': 1218, 'anaheim': 36, 'gluten': 676, 'cane': 242, 'artificial': 63, 'range': 1323, 'for': 619, 'chinese': 329, 'five': 594, 'minute': 1023, 'pecans': 1180, 'neem': 1068, 'taro': 1623, 'tapioca': 1622, 'pearls': 1175, 'bok': 159, 'choy': 345, 'beets': 117, 'flounder': 611, 'germ': 665, 'haddock': 738, 'granular': 701, 'sucrolose': 1590, 'petals': 1201, 'quarters': 1300, 'braising': 177, 'syrup': 1609, 'beansprouts': 110, 'sourdough': 1521, 'starter': 1555, 'chunky': 348, 'veget': 1723, 'crumbles': 443, 'yams': 1796, 'pickles': 1210, 'tenders': 1637, 'king': 867, 'vindaloo': 1741, 'worcestershire': 1791, 'dogs': 503, 'dog': 502, 'bun': 210, 'ceylon': 288, 'meal': 998, 'maple': 967, 'skim': 1487, 'bitter': 138, 'gourd': 690, 'vidalia': 1735, 'yolks': 1803, 'stir': 1571, 'fry': 640, 'blend': 147, 'cod': 373, 'alphabet': 29, 'currant': 468, 'quick': 1302, 'wonton': 1789, 'tawny': 1629, 'pie': 1213, 'medjool': 1003, 'soup': 1519, 'legumes': 904, 'arrowroot': 59, 'quorn': 1306, 'chik': 320, 'fingerling': 586, 'fresno': 631, 'coffee': 375, 'dough': 507, 'ear': 529, 'dill': 494, 'poppadoms': 1248, 'carbonated': 261, 'cuisine': 458, 'peppermint': 1191, 'alaskan': 19, 'shelled': 1463, 'indian': 805, 'persian': 1198, 'duck': 522, 'sole': 1513, 'bags': 82, 'kiwi': 871, 'fryer': 641, 'kalonji': 841, 'salami': 1402, 'pink': 1226, 'breadcrumbs': 185, 'tempeh': 1633, 'salsa': 1405, 'pattypan': 1167, 'durum': 526, 'whipped': 1770, 'grill': 720, 'sirloin': 1486, 'rind': 1350, 'stone': 1573, 'arctic': 56, 'char': 299, 'galangal': 650, 'hash': 755, 'winter': 1785, 'melon': 1005, 'amba': 32, 'massaman': 989, 'candied': 239, 'mussels': 1055, 'oz': 1124, 'jackfruit': 813, 'scallion': 1428, 'lump': 944, 'crab': 417, 'dusting': 527, 'croissants': 438, 'harissa': 754, 'bottle': 168, 'drain': 510, 'bamboo': 88, 'shoots': 1470, 'cornflour': 406, 'oregano': 1114, 'walnuts': 1752, 'broccolini': 198, 'farina': 559, 'substitute': 1588, 'rounds': 1386, 'cottage': 412, 'cremini': 430, 'eye': 555, 'batter': 104, 'color': 385, 'orang': 1110, 'olives': 1105, 'kashmiri': 846, 'nonstick': 1082, 'short': 1471, 'liqueur': 923, 'nut': 1089, 'tart': 1625, 'limeade': 917, 'slaw': 1494, 'cornmeal': 409, 'gooseberries': 686, 'prunes': 1283, 'acorn': 9, 'delicious': 486, 'wing': 1782, 'drummettes': 518, 'back': 78, 'himalayan': 772, 'flank': 599, 'papad': 1143, 'daikon': 476, 'pickling': 1211, 'garbonzo': 656, 'liquid': 924, 'masur': 990, 'pots': 1259, 'elmlea': 541, 'single': 1485, 'crusty': 449, 'arugula': 64, 'avocado': 74, 'citric': 355, 'acid': 7, 'noodles': 1083, 'chapatti': 298, 'raspberry': 1328, 'center': 286, 'cut': 472, 'seasoned': 1437, 'crème': 452, 'fraîche': 623, 'weed': 1762, 'glaze': 674, 'pea': 1168, 'breakfast': 187, 'starchy': 1554, 'aminos': 35, 'strained': 1576, 'chiffonade': 318, 'calamari': 232, 'braeburn': 176, 'tips': 1659, 'baguette': 83, 'dairy': 477, 'up': 1714, 'mascarpone': 986, 'iodized': 808, 'tikka': 1656, 'horseradish': 788, 'szechwan': 1610, 'cheddar': 303, 'sorbet': 1517, 'mackerel': 950, 'kingfish': 868, 'kokum': 874, 'strips': 1583, 'poultry': 1260, 'fleshed': 607, 'apricots': 52, 'nutritional': 1093, 'oleo': 1103, 'manischewitz': 965, 'tzatziki': 1699, 'matzo': 992, 'nakano': 1059, 'lotus': 938, 'softened': 1512, 'sriracha': 1551, 'sparkling': 1530, 'lemonade': 906, 'chow': 344, 'mein': 1004, 'shucked': 1478, 'oysters': 1123, 'espresso': 550, 'toast': 1660, 'polenta': 1242, 'truffles': 1688, 'roots': 1374, 'cutlet': 473, 'sugarcane': 1593, 'bhaji': 129, 'tabasco': 1611, 'aioli': 17, 'lavash': 892, 'sweeten': 1604, 'whip': 1769, 'vine': 1742, 'assam': 71, 'buttery': 220, 'firmly': 591, 'packed': 1127, 'tilapia': 1657, 'head': 760, 'amaretto': 31, 'mazola': 997, 'nectarines': 1067, 'paratha': 1150, 'dumpling': 524, 'thick': 1647, 'unsulphured': 1712, 'chipotle': 332, 'adobo': 12, 'petite': 1202, 'strawberry': 1579, '14': 1, 'kabuli': 836, 'fire': 589, 'watermelon': 1757, 'seitan': 1444, 'rosemary': 1377, 'rockfish': 1365, 'snappers': 1505, 'mini': 1020, 'marshmallows': 981, 'crispy': 436, 'cereal': 287, 'pizza': 1233, 'top': 1673, 'ramps': 1321, 'vadouvan': 1716, 'biscuit': 135, 'berries': 124, 'gouda': 689, 'veal': 1721, 'chunks': 347, 'calabaza': 230, 'philadelphia': 1203, 'part': 1158, 'stewing': 1566, 'sausage': 1423, 'mooli': 1037, 'citrus': 356, 'mahimahi': 955, 'monkfish': 1035, 'champagne': 293, 'baked': 85, 'lowfat': 942, 'pineapples': 1224, 'crabmeat': 418, 'cornish': 408, 'game': 652, 'hens': 766, 'ti': 1653, 'whey': 1768, 'panch': 1136, 'phoran': 1204, 'chipotles': 333, 'tops': 1675, 'bran': 178, 'burger': 212, 'flaxseed': 606, 'celtic': 285, 'fed': 566, 'granules': 703, 'creamed': 427, 'summer': 1597, 'iceberg': 797, 'crackers': 422, 'flavored': 603, 'ponzu': 1246, 'unseasoned': 1710, 'baton': 103, 'flowerets': 614, 'cummin': 462, 'cointreau': 377, 'key': 861, 'tequila': 1639, 'collard': 383, 'multigrain': 1049, 'rabbit': 1307, 'cured': 465, 'california': 234, 'pancit': 1137, 'verde': 1731, 'crock': 437, 'spread': 1541, 'tortilla': 1677, 'taco': 1613, 'zesty': 1809, 'kasu': 848, 'miso': 1026, 'chilean': 322, 'mirin': 1024, 'brandy': 180, 'bourbon': 173, 'whiskey': 1772, 'rum': 1389, 'enchilada': 543, 'fava': 565, 'leafy': 896, 'sambal': 1409, 'ulek': 1701, 'cotija': 411, 'epazote': 547, 'pimentos': 1221, 'sharp': 1460, 'provolone': 1281, 'sausages': 1424, 'asian': 69, 'kernel': 856, 'cajun': 226, 'shiitake': 1467, 'preserved': 1272, 'ras': 1326, 'el': 539, 'hanout': 749, 'imitation': 802, 'gari': 658, 'seaweed': 1439, 'coke': 378, 'soba': 1507, 'quickcooking': 1303, 'grits': 722, 'ranch': 1322, 'bacon': 79, 'crawfish': 425, 'processed': 1275, 'teriyaki': 1640, 'parmigiano': 1155, 'reggiano': 1338, 'spaghetti': 1526, 'angel': 43, 'hair': 739, 'capers': 252, 'crema': 429, 'pesto': 1200, 'linguini': 919, 'refried': 1336, 'prepared': 1271, 'curd': 463, 'navel': 1063, 'oranges': 1112, 'raspberries': 1327, 'kalamata': 839, 'hoisin': 778, 'dashi': 480, 'collards': 384, 'round': 1385, 'hoja': 779, 'santa': 1413, 'chayotes': 302, 'tomatillos': 1667, 'jumbo': 833, 'bouquet': 172, 'garni': 660, 'pancetta': 1135, 'goose': 685, 'haricot': 751, 'mexicana': 1012, 'brewed': 190, 'feet': 567, 'tongue': 1671, 'meatballs': 1000, 'jelly': 826, 'hoagie': 775, 'cho': 337, 'artichokes': 62, 'rigatoni': 1349, 'yakisoba': 1795, 'napa': 1061, 'tangerine': 1620, 'mexican': 1011, 'piloncillo': 1219, 'pasilla': 1159, 'bolillo': 160, 'lard': 888, 'hominy': 783, 'pound': 1261, 'ham': 744, 'fig': 576, 'irish': 809, 'shells': 1464, 'sprinkles': 1544, 'sage': 1398, 'andouille': 42, 'coulis': 413, 'truffle': 1687, 'kerrygold': 858, 'pecan': 1179, 'bibb': 131, 'gorgonzola': 688, 'graham': 692, 'pompano': 1245, 'deli': 485, 'cornichons': 407, 'unflavored': 1707, 'gelatin': 662, 'lasagna': 890, 'beefsteak': 114, 'candy': 241, 'creole': 431, 'gruyère': 727, 'amaretti': 30, 'cookies': 398, 'barbecue': 93, 'sargento': 1416, 'traditional': 1681, 'calamansi': 231, 'links': 921, 'clams': 358, 'spareribs': 1529, 'coca': 369, 'cola': 379, 'chees': 304, 'hock': 776, 'guacamole': 728, 'superfine': 1600, 'littleneck': 927, 'tarragon': 1624, 'marinara': 974, 'pecorino': 1181, 'romano': 1371, 'ditalini': 501, 'ravioli': 1329, 'fleur': 608, 'sel': 1445, 'shaoxing': 1458, 'drained': 511, 'gai': 648, 'lan': 887, 'grilled': 721, 'tostada': 1679, 'radish': 1313, 'boysenberries': 175, 'pinto': 1227, 'brine': 192, 'coleslaw': 382, 'canton': 250, 'demi': 488, 'glace': 672, 'juniper': 834, 'beer': 115, 'ragu': 1315, 'cheesi': 306, 'classic': 360, 'alfredo': 24, 'sauc': 1418, 'fettucine': 573, 'seafood': 1435, 'relish': 1340, 'arborio': 55, 'wild': 1779, 'escarole': 549, 'bow': 174, 'tie': 1654, 'gyoza': 734, 'chestnuts': 311, 'caps': 255, 'spears': 1531, 'crookneck': 439, 'blackberries': 143, 'jam': 818, 'tartar': 1626, 'loosely': 937, 'hellmann': 765, 'or': 1109, 'best': 127, 'real': 1333, 'mayonnais': 995, 'masa': 984, 'pudding': 1284, 'topping': 1674, 'won': 1788, 'ton': 1670, 'gruyere': 726, 'strip': 1581, 'blue': 152, 'crabs': 419, 'sake': 1400, 'risotto': 1358, 'tostadas': 1680, 'tip': 1658, 'stout': 1575, 'emerils': 542, 'tuna': 1690, 'jamaican': 820, 'rye': 1395, 'decorating': 484, 'sugars': 1594, 'blueberries': 153, 'chorizo': 343, 'unbaked': 1702, 'crusts': 448, 'hocks': 777, 'elbow': 540, 'macaroni': 948, 'penne': 1185, 'prosciutto': 1277, 'walnut': 1751, 'ramen': 1320, 'tortellini': 1676, 'cook': 395, 'cornflake': 405, 'casings': 270, 'doughs': 508, 'converted': 394, 'blossoms': 151, 'textured': 1641, 'protein': 1279, 'soya': 1524, 'kimchi': 866, 'kumquats': 883, 'grand': 698, 'marnier': 978, 'pepperoni': 1193, 'bisquick': 137, 'prebaked': 1268, 'buffalo': 206, 'linguine': 918, 'hanger': 748, 'poussins': 1263, 'sauterne': 1425, 'lavender': 893, 'flowers': 615, 'caramel': 258, 'drippings': 517, 'mirlitons': 1025, 'farfalline': 558, 'biscuits': 136, 'hazelnuts': 759, 'colby': 380, 'lumpia': 945, 'skins': 1491, 'uncooked': 1705, 'kahlua': 838, 'rioja': 1353, 'anchovy': 40, 'hazelnut': 758, 'flavoring': 604, 'old': 1102, 'pancake': 1133, 'pear': 1173, 'barbecued': 94, 'ripe': 1354, 'nopales': 1084, 'lager': 885, 'queso': 1301, 'fresco': 628, 'fontina': 617, 'cognac': 376, 'clam': 357, 'cocktail': 370, 'pico': 1212, 'gallo': 651, 'orecchiette': 1113, 'brie': 191, 'rhubarb': 1343, 'rotini': 1383, 'dri': 514, 'niçoise': 1078, 'pâté': 1298, 'maggi': 953, 'world': 1792, 'paddy': 1129, 'herb': 767, 'fresca': 627, 'wasabi': 1754, 'livers': 929, 'stevia': 1563, 'shank': 1456, 'rump': 1390, 'madeira': 951, 'cookie': 397, 'smoke': 1501, 'triple': 1683, 'sec': 1440, 'mochiko': 1032, 'sucralose': 1589, 'asiago': 68, 'straw': 1577, 'base': 99, 'pan': 1132, 'great': 716, 'northern': 1086, 'crystal': 450, 'farms': 560, 'marble': 968, 'navy': 1064, 'yolk': 1802, 'ale': 22, 'honeydew': 785, 'varnish': 1719, 'tomatillo': 1666, 'german': 666, 'fusilli': 646, 'msg': 1044, 'albacore': 20, 'uncook': 1704, 'pickle': 1208, 'picholine': 1207, 'belgian': 118, 'endive': 544, 'cornbread': 403, 'aged': 16, 'louisiana': 939, 'cachaca': 224, 'blood': 149, 'kefir': 854, 'liquor': 925, 'brats': 182, 'rack': 1309, 'rabe': 1308, 'shuck': 1477, 'jicama': 828, 'havarti': 757, 'breadfruit': 186, 'bottled': 169, 'carambola': 257, 'blueberry': 154, 'filling': 582, 'turnip': 1696, 'chive': 335, 'nori': 1085, 'parma': 1152, 'snow': 1506, '95': 2, 'hass': 756, 'prime': 1274, 'tapenade': 1621, 'frosting': 635, 'branzino': 181, 'bulk': 209, 'sausag': 1422, 'oxtails': 1121, 'annatto': 46, 'holy': 780, 'shoyu': 1474, 'bosc': 166, 'jerk': 827, 'calimyrna': 235, 'vietnamese': 1737, 'flax': 605, 'armagnac': 58, 'yucca': 1806, 'maltose': 960, 'york': 1805, 'panetini': 1141, 'toasts': 1662, 'campbell': 238, 'swanson': 1602, 'pace': 1125, 'kefalotyri': 853, 'jalapenos': 817, 'mesclun': 1009, 'peach': 1169, 'gran': 696, 'home': 781, 'originals': 1117, 'anchovies': 39, 'hong': 787, 'kong': 877, 'chilegarlic': 323, 'marmite': 977, 'tagliatelle': 1614, 'gochujang': 681, 'ladyfingers': 884, 'semisweet': 1449, 'confit': 393, 'glutinous': 677, 'crush': 445, 'chihuahua': 319, 'sichuan': 1479, 'vermouth': 1733, 'turbinado': 1692, 'farro': 561, 'grapefruit': 705, 'framboise': 621, 'mochi': 1031, 'muffins': 1047, 'covered': 416, 'toffee': 1663, 'kirsch': 870, 'vin': 1738, 'santo': 1414, 'blossom': 150, 'carnaroli': 265, 'rotelle': 1381, 'caramels': 259, 'flan': 598, 'chinkiang': 330, 'ciabatta': 350, 'pine': 1222, 'dutch': 528, 'muffin': 1046, 'hidden': 770, 'valley': 1717, 'dips': 499, 'bonito': 164, 'fromage': 633, 'blanc': 145, 'slab': 1493, 'croutons': 440, 'soppressata': 1516, 'porridge': 1253, 'treacle': 1682, 'mahi': 954, 'wagon': 1750, 'wheel': 1766, 'frangelico': 622, 'codfish': 374, 'clear': 362, 'oat': 1095, 'bertolli': 125, 'classico': 361, 'undrain': 1706, 'paso': 1160, 'caul': 276, 'fatback': 564, 'capon': 254, 'glass': 673, 'bâtarde': 222, 'burrata': 215, 'mostarda': 1042, 'applewood': 50, 'zinfandel': 1810, 'waffle': 1749, 'raclette': 1311, 'jarlsberg': 823, 'medal': 1001, 'peppercorn': 1189, 'kecap': 851, 'manis': 964, 'artichok': 60, 'heart': 761, 'marin': 972, 'gemelli': 664, 'veggie': 1728, 'patties': 1166, 'jamaica': 819, 'ackee': 8, 'equal': 548, 'regular': 1339, 'beet': 116, 'seltzer': 1447, 'artichoke': 61, 'eggroll': 537, 'boston': 167, 'well': 1763, 'scrub': 1432, 'rub': 1387, 'cracker': 421, 'other': 1119, 'dumplings': 525, 'kangkong': 844, 'thin': 1650, 'grouper': 725, 'thaw': 1644, 'aquavit': 53, 'sauerkraut': 1421, 'kielbasa': 865, 'beluga': 121, 'manzanilla': 966, 'abalone': 3, 'wide': 1778, 'pimento': 1220, 'stuffed': 1585, 'loaves': 933, 'canning': 246, 'fronds': 634, 'cutlets': 474, 'cavatappi': 279, 'anasazi': 37, '10': 0, 'thawed': 1645, 'squeezed': 1548, 'matcha': 991, 'paper': 1146, 'perilla': 1195, 'custard': 471, 'fino': 588, 'herbes': 768, 'provence': 1280, 'muscovado': 1052, 'nuoc': 1088, 'cham': 292, 'mizkan': 1030, 'solid': 1514, 'pack': 1126, 'morel': 1039, 'silken': 1482, 'konbu': 876, 'dillweed': 495, 'wafers': 1748, 'cornstarch': 410, 'passion': 1162, 'cavatelli': 280, 'banger': 91, 'simple': 1484, 'angostura': 44, 'bitters': 139, 'brisket': 194, 'cakes': 228, 'manicotti': 963, 'papalo': 1144, 'rutabaga': 1394, 'suet': 1591, 'stem': 1561, 'sushi': 1601, 'grade': 691, 'fuji': 643, 'fettuccine': 572, 'flageolet': 595, 'guinness': 730, 'crescent': 432, 'yardlong': 1797, 'portobello': 1256, 'peasant': 1178, 'pectin': 1182, 'lasagne': 891, 'kabocha': 835, 'meyer': 1013, 'gala': 649, 'file': 578, 'meringue': 1008, 'nests': 1070, 'tuong': 1691, 'tatsoi': 1628, 'glazed': 675, 'cranberry': 424, 'korean': 879, 'grana': 697, 'padano': 1128, 'fermented': 570, 'tropic': 1684, 'alcohol': 21, 'muscat': 1051, 'nian': 1074, 'gao': 653, 'goji': 682, 'pernod': 1196, 'high': 771, 'fructose': 637, 'bar': 92, 'bars': 98, 'açai': 76, 'prepar': 1270, 'caviar': 281, 'ears': 530, 'peperoncini': 1186, 'cauliflowerets': 278, 'shanghai': 1455, 'haas': 735, 'avocados': 75, 'belly': 120, 'callaloo': 236, 'doritos': 504, 'manchego': 961, 'stilton': 1570, 'burgers': 213, 'barilla': 96, 'oven': 1120, 'ready': 1332, 'salata': 1403, 'pepperoncini': 1192, 'challa': 291, 'crumbled': 442, 'condiments': 391, 'miniature': 1021, 'rosé': 1379, 'icing': 799, 'marzipan': 983, 'poured': 1262, 'fondant': 616, 'gel': 661, 'raising': 1316, 'pandan': 1138, 'four': 620, 'eau': 531, 'vie': 1736, 'ziti': 1811, 'russian': 1393, 'vegeta': 1724, 'tuscan': 1698, 'curly': 467, 'udon': 1700, 'kombu': 875, 'gochugaru': 680, 'margherita': 971, 'ripened': 1355, 'filet': 579, 'mignon': 1014, 'nilla': 1077, 'caesar': 225, 'san': 1410, 'marzano': 982, 'puffs': 1287, 'pumpkinseed': 1290, 'pancakes': 1134, 'gem': 663, 'levain': 912, 'rocket': 1364, 'scrubbed': 1433, 'fregola': 625, 'spaghettini': 1527, 'branca': 179, 'menta': 1007, 'pâte': 1297, 'brisée': 195, 'chianti': 313, 'shichimi': 1466, 'togarashi': 1665, 'mole': 1034, 'drumstick': 519, 'harina': 753, 'capicola': 253, 'savoy': 1427, 'southern': 1522, 'comfort': 388, 'vay': 1720, 'brazil': 183, 'chia': 312, 'kasseri': 847, 'catalina': 273, 'kidnei': 863, 'rins': 1352, 'hummus': 792, 'lo': 931, 'huckleberries': 791, 'habas': 737, 'velveeta': 1730, 'rotel': 1380, 'sprite': 1545, 'neufchâtel': 1071, 'pig': 1217, 'grease': 715, 'prosecco': 1278, 'muesli': 1045, 'culinary': 459, 'rich': 1347, 'chervil': 309, 'stuffing': 1586, 'chanterelle': 296, 'squirt': 1550, 'not': 1087, 'rapid': 1325, 'rise': 1356, 'striped': 1582, 'pockets': 1239, 'gumbo': 732, 'devein': 489, 'burgundy': 214, 'nam': 1060, 'into': 807, 'gaeta': 647, 'caper': 251, 'eel': 533, 'liverwurst': 930, 'maldon': 958, 'fashioned': 562, 'cannelloni': 245, 'virginia': 1745, 'calvados': 237, 'fajita': 557, 'cipollini': 354, 'blackberry': 144, 'dip': 497, 'kochujang': 873, 'johnsonville': 830, 'kamaboko': 842, 'bbq': 107, 'rooster': 1372, 'unsmoked': 1711, 'sum': 1596, 'lily': 914, 'buds': 205, 'octopuses': 1098, 'wish': 1786, 'robusto': 1362, 'bechamel': 112, 'abura': 4, 'age': 15, 'kelp': 855, 'konnyaku': 878, 'kampyo': 843, 'katsuo': 850, 'sicilian': 1480, 'browning': 201, 'jiffy': 829, 'adzuki': 13, 'saltines': 1408, 'better': 128, 'than': 1643, 'xanthan': 1794, 'gum': 731, 'sticky': 1569, 'yoplait': 1804, 'reposado': 1342, 'kraft': 882, 'the': 1646, 'cob': 368, 'cool': 400, 'cantal': 248, 'corned': 404, 'chestnut': 310, 'drink': 516, 'enriched': 546, 'pak': 1130, 'choi': 339, 'browns': 202, 'rendered': 1341, 'cavolo': 282, 'nero': 1069, 'jambalaya': 821, 'parmigiana': 1154, 'bagel': 80, 'tails': 1616, 'rubbed': 1388, 'honeysuckle': 786, 'curing': 466, 'skirt': 1492, 'lea': 894, 'perrins': 1197, 'cress': 433, 'puy': 1296, 'savory': 1426, 'vegetarian': 1727, 'tentacles': 1638, 'pappardelle': 1148, 'boar': 155, 'morton': 1041, 'asadero': 65, 'graviera': 713, 'jujube': 832, 'shimeji': 1468, 'maitake': 957, 'satsuma': 1417, 'imo': 803, 'prune': 1282, 'gherkins': 668, 'linguisa': 920, 'season': 1436, 'caribbean': 264, 'rosemari': 1376, 'vinaigrett': 1739, 'dress': 512, 'prego': 1269, 'sorrel': 1518, 'margarita': 970, 'picante': 1206, 'doubanjiang': 505, 'sardines': 1415, 'achiote': 6, 'wood': 1790, 'marrow': 979, 'quail': 1299, 'catsup': 275, 'bagels': 81, 'cuban': 453, 'fideos': 574, 'american': 34, 'promise': 1276, 'chip': 331, 'tasso': 1627, 'acai': 5, 'granola': 700, 'brioche': 193, 'wingettes': 1783, 'grappa': 708, 'fully': 645, 'fruits': 639, 'lychees': 946, 'winesap': 1781, 'pomelo': 1244, 'hoagi': 774, 'crisco': 435, 'spiral': 1537, 'macadamia': 947, 'steel': 1560, 'oatmeal': 1096, 'wheatberries': 1765, 'teardrop': 1631, 'bocconcini': 156, 'gnocchi': 678, 'shoepeg': 1469, 'fishcake': 593, 'calamata': 233, 'dulce': 523, 'leche': 900, 'blacan': 141, 'wax': 1758, 'snails': 1503, 'baileys': 84}\n"
     ]
    }
   ],
   "source": [
    "print(vectorizer.vocabulary_)"
   ]
  },
  {
   "cell_type": "markdown",
   "id": "34e96944",
   "metadata": {},
   "source": [
    "### Clasificación con datos balanceados"
   ]
  },
  {
   "cell_type": "code",
   "execution_count": 26,
   "id": "4ea494b1",
   "metadata": {},
   "outputs": [
    {
     "data": {
      "text/html": [
       "<div>\n",
       "<style scoped>\n",
       "    .dataframe tbody tr th:only-of-type {\n",
       "        vertical-align: middle;\n",
       "    }\n",
       "\n",
       "    .dataframe tbody tr th {\n",
       "        vertical-align: top;\n",
       "    }\n",
       "\n",
       "    .dataframe thead th {\n",
       "        text-align: right;\n",
       "    }\n",
       "</style>\n",
       "<table border=\"1\" class=\"dataframe\">\n",
       "  <thead>\n",
       "    <tr style=\"text-align: right;\">\n",
       "      <th></th>\n",
       "      <th>Predicted not indian</th>\n",
       "      <th>Predicted indian</th>\n",
       "    </tr>\n",
       "  </thead>\n",
       "  <tbody>\n",
       "    <tr>\n",
       "      <th>Is not indian</th>\n",
       "      <td>0.992048</td>\n",
       "      <td>0.007952</td>\n",
       "    </tr>\n",
       "    <tr>\n",
       "      <th>Is indian</th>\n",
       "      <td>0.188482</td>\n",
       "      <td>0.811518</td>\n",
       "    </tr>\n",
       "  </tbody>\n",
       "</table>\n",
       "</div>"
      ],
      "text/plain": [
       "               Predicted not indian  Predicted indian\n",
       "Is not indian              0.992048          0.007952\n",
       "Is indian                  0.188482          0.811518"
      ]
     },
     "execution_count": 26,
     "metadata": {},
     "output_type": "execute_result"
    }
   ],
   "source": [
    "# Results using balanced dataset\n",
    "# Split into test and train data \n",
    "X_train, X_test, y_train, y_test = train_test_split(X, y)\n",
    "\n",
    "# data classification.\n",
    "matrix = classify_data(X_train, X_test, y_train, y_test )\n",
    "\n",
    "# Visualize the confusion matrix\n",
    "label_names = pd.Series(['not indian', 'indian'])\n",
    "pd.DataFrame(matrix,\n",
    "         columns='Predicted ' + label_names,\n",
    "         index='Is ' + label_names).div(matrix.sum(axis=1), axis=0)\n",
    "\n"
   ]
  },
  {
   "cell_type": "markdown",
   "id": "f7e79aed",
   "metadata": {},
   "source": [
    "### Clasificación con datos desbalanceados"
   ]
  },
  {
   "cell_type": "code",
   "execution_count": 30,
   "id": "5d56ca72",
   "metadata": {},
   "outputs": [
    {
     "data": {
      "text/plain": [
       "0    36771\n",
       "1     3003\n",
       "Name: is_indian, dtype: int64"
      ]
     },
     "execution_count": 30,
     "metadata": {},
     "output_type": "execute_result"
    }
   ],
   "source": [
    "# Results using unbalanced dataset\n",
    "# Create a vectorizer and train it\n",
    "vectorizer = TfidfVectorizer()\n",
    "unbalanced_matrix = vectorizer.fit_transform(ingredients_unbalanced_dataset.ingredient_list)\n",
    "\n",
    "# Features are our matrix of tf-idf values\n",
    "# labels are whether each recipe is Indian or not\n",
    "X = unbalanced_matrix\n",
    "y = ingredients_unbalanced_dataset.is_indian\n",
    "\n",
    "# How many are Indian?\n",
    "y.value_counts()"
   ]
  },
  {
   "cell_type": "code",
   "execution_count": 32,
   "id": "461de477",
   "metadata": {},
   "outputs": [
    {
     "data": {
      "text/html": [
       "<div>\n",
       "<style scoped>\n",
       "    .dataframe tbody tr th:only-of-type {\n",
       "        vertical-align: middle;\n",
       "    }\n",
       "\n",
       "    .dataframe tbody tr th {\n",
       "        vertical-align: top;\n",
       "    }\n",
       "\n",
       "    .dataframe thead th {\n",
       "        text-align: right;\n",
       "    }\n",
       "</style>\n",
       "<table border=\"1\" class=\"dataframe\">\n",
       "  <thead>\n",
       "    <tr style=\"text-align: right;\">\n",
       "      <th></th>\n",
       "      <th>Predicted not indian</th>\n",
       "      <th>Predicted indian</th>\n",
       "    </tr>\n",
       "  </thead>\n",
       "  <tbody>\n",
       "    <tr>\n",
       "      <th>Is not indian</th>\n",
       "      <td>0.991849</td>\n",
       "      <td>0.008151</td>\n",
       "    </tr>\n",
       "    <tr>\n",
       "      <th>Is indian</th>\n",
       "      <td>0.165545</td>\n",
       "      <td>0.834455</td>\n",
       "    </tr>\n",
       "  </tbody>\n",
       "</table>\n",
       "</div>"
      ],
      "text/plain": [
       "               Predicted not indian  Predicted indian\n",
       "Is not indian              0.991849          0.008151\n",
       "Is indian                  0.165545          0.834455"
      ]
     },
     "execution_count": 32,
     "metadata": {},
     "output_type": "execute_result"
    }
   ],
   "source": [
    "# Split into test and train data \n",
    "X_train, X_test, y_train, y_test = train_test_split(X, y)\n",
    "\n",
    "# data classification.\n",
    "matrix = classify_data(X_train, X_test, y_train, y_test)\n",
    "\n",
    "# Visualize the confusion matrix\n",
    "pd.DataFrame(matrix,\n",
    "         columns='Predicted ' + label_names,\n",
    "         index='Is ' + label_names).div(matrix.sum(axis=1), axis=0)"
   ]
  },
  {
   "cell_type": "markdown",
   "id": "df5ca89a",
   "metadata": {},
   "source": [
    "### Resultados\n",
    "\n",
    "Cuando se realizó la clasificación de los datos balanceados el resultado fue muy bueno (más del 90% de éxito en las predicciones). Con datos desbalanceados el resultado baja a larededor del 80%.  \n",
    "\n",
    "Una forma fácil de explicar el resultado es que **cuando se trata de una decisión arriesgada, siempre es más seguro adivinar \"no indio\" porque hay más probabilidad de estar en lo correcto**. De hecho, si siempre supusiéramos que no es indio, pase lo que pase, el resultado del modelo sería muy bueno."
   ]
  },
  {
   "cell_type": "markdown",
   "id": "6ec213de",
   "metadata": {},
   "source": [
    "## Posibles soluciones \n",
    "\n",
    "**1) Sub-muestreo o subsampling**: Elimina las muestras de la clase con mayor número de muestras que sobrepasan la cantidad de muestras de la otra clase.\n",
    "\n",
    "Se utilizará la técnica de **submuestreo** para disminuir las recetas no indias aleatoriamente de forma que  coincidan con la cantidad de recetas indias. Este proceso se debe realizar solo con los datos de entrenamiento."
   ]
  },
  {
   "cell_type": "code",
   "execution_count": 34,
   "id": "37a1b7c8",
   "metadata": {},
   "outputs": [
    {
     "data": {
      "text/plain": [
       "0    2260\n",
       "1    2260\n",
       "Name: is_indian, dtype: int64"
      ]
     },
     "execution_count": 34,
     "metadata": {},
     "output_type": "execute_result"
    }
   ],
   "source": [
    "# Under samplig\n",
    "resampler = RandomUnderSampler()\n",
    "\n",
    "# Resample X and y so there are equal numbers of each y\n",
    "X_train_resampled, y_train_resampled = resampler.fit_resample(X_train, y_train)\n",
    "\n",
    "# count samples per class.\n",
    "y_train_resampled.value_counts()"
   ]
  },
  {
   "cell_type": "code",
   "execution_count": 36,
   "id": "a128ba7f",
   "metadata": {},
   "outputs": [
    {
     "data": {
      "text/html": [
       "<div>\n",
       "<style scoped>\n",
       "    .dataframe tbody tr th:only-of-type {\n",
       "        vertical-align: middle;\n",
       "    }\n",
       "\n",
       "    .dataframe tbody tr th {\n",
       "        vertical-align: top;\n",
       "    }\n",
       "\n",
       "    .dataframe thead th {\n",
       "        text-align: right;\n",
       "    }\n",
       "</style>\n",
       "<table border=\"1\" class=\"dataframe\">\n",
       "  <thead>\n",
       "    <tr style=\"text-align: right;\">\n",
       "      <th></th>\n",
       "      <th>Predicted not indian</th>\n",
       "      <th>Predicted indian</th>\n",
       "    </tr>\n",
       "  </thead>\n",
       "  <tbody>\n",
       "    <tr>\n",
       "      <th>Is not indian</th>\n",
       "      <td>0.969677</td>\n",
       "      <td>0.030323</td>\n",
       "    </tr>\n",
       "    <tr>\n",
       "      <th>Is indian</th>\n",
       "      <td>0.063257</td>\n",
       "      <td>0.936743</td>\n",
       "    </tr>\n",
       "  </tbody>\n",
       "</table>\n",
       "</div>"
      ],
      "text/plain": [
       "               Predicted not indian  Predicted indian\n",
       "Is not indian              0.969677          0.030323\n",
       "Is indian                  0.063257          0.936743"
      ]
     },
     "execution_count": 36,
     "metadata": {},
     "output_type": "execute_result"
    }
   ],
   "source": [
    "# data classification.\n",
    "matrix = classify_data(X_train_resampled, X_test, y_train_resampled , y_test)\n",
    "\n",
    "# Visualize the confusion matrix\n",
    "pd.DataFrame(matrix,\n",
    "         columns='Predicted ' + label_names,\n",
    "         index='Is ' + label_names).div(matrix.sum(axis=1), axis=0)"
   ]
  },
  {
   "cell_type": "markdown",
   "id": "0acc5f1a",
   "metadata": {},
   "source": [
    "**2) Sobre-muestreo u oversampling**: Consiste en generar las muestras faltantes para el conjunto de datos, repitiendo las muestras de la clase con menos muestras tantas veces sea necesario y de forma\n",
    "aleatoria."
   ]
  },
  {
   "cell_type": "code",
   "execution_count": 37,
   "id": "54794459",
   "metadata": {},
   "outputs": [
    {
     "data": {
      "text/plain": [
       "1    27570\n",
       "0    27570\n",
       "Name: is_indian, dtype: int64"
      ]
     },
     "execution_count": 37,
     "metadata": {},
     "output_type": "execute_result"
    }
   ],
   "source": [
    "# Over sampling.\n",
    "resampler = RandomOverSampler()\n",
    "\n",
    "# Resample X and y so there are equal numbers of each y\n",
    "X_train_resampled, y_train_resampled = resampler.fit_resample(X_train, y_train)\n",
    "\n",
    "# count samples per class.\n",
    "y_train_resampled.value_counts()"
   ]
  },
  {
   "cell_type": "code",
   "execution_count": 38,
   "id": "81952db1",
   "metadata": {},
   "outputs": [
    {
     "data": {
      "text/html": [
       "<div>\n",
       "<style scoped>\n",
       "    .dataframe tbody tr th:only-of-type {\n",
       "        vertical-align: middle;\n",
       "    }\n",
       "\n",
       "    .dataframe tbody tr th {\n",
       "        vertical-align: top;\n",
       "    }\n",
       "\n",
       "    .dataframe thead th {\n",
       "        text-align: right;\n",
       "    }\n",
       "</style>\n",
       "<table border=\"1\" class=\"dataframe\">\n",
       "  <thead>\n",
       "    <tr style=\"text-align: right;\">\n",
       "      <th></th>\n",
       "      <th>Predicted not indian</th>\n",
       "      <th>Predicted indian</th>\n",
       "    </tr>\n",
       "  </thead>\n",
       "  <tbody>\n",
       "    <tr>\n",
       "      <th>Is not indian</th>\n",
       "      <td>0.969460</td>\n",
       "      <td>0.030540</td>\n",
       "    </tr>\n",
       "    <tr>\n",
       "      <th>Is indian</th>\n",
       "      <td>0.059219</td>\n",
       "      <td>0.940781</td>\n",
       "    </tr>\n",
       "  </tbody>\n",
       "</table>\n",
       "</div>"
      ],
      "text/plain": [
       "               Predicted not indian  Predicted indian\n",
       "Is not indian              0.969460          0.030540\n",
       "Is indian                  0.059219          0.940781"
      ]
     },
     "execution_count": 38,
     "metadata": {},
     "output_type": "execute_result"
    }
   ],
   "source": [
    "# data classification.\n",
    "matrix = classify_data(X_train_resampled, X_test, y_train_resampled , y_test)\n",
    "\n",
    "# Visualize the confusion matrix\n",
    "pd.DataFrame(matrix,\n",
    "         columns='Predicted ' + label_names,\n",
    "         index='Is ' + label_names).div(matrix.sum(axis=1), axis=0)"
   ]
  },
  {
   "cell_type": "markdown",
   "id": "5b3a6564",
   "metadata": {},
   "source": [
    "**3) Generación de nuevas muestras usando aprendizaje generativo**: El aprendizaje generativo se enfoca en aprender la distribución de los datos.\n",
    "\n",
    "Además del muestreo aleatorio con reemplazo, la biblioteca imbalanced-learn implementa dos métodos populares para sobremuestrear las clases minoritarias: la técnica de **Sobremuestreo de Minorías Sintéticas (SMOTE)** y el método de **Muestreo Sintético Adaptativo (ADASYN)**. "
   ]
  },
  {
   "cell_type": "markdown",
   "id": "88bd8d14",
   "metadata": {},
   "source": [
    "**3.1) la técnica de Sobremuestreo de Minorías Sintéticas (SMOTE):**\n",
    "\n",
    "SMOTE es una técnica estadística de sobremuestreo de minorías sintéticas para aumentar el número de muestras de un conjunto de datos de forma equilibrada. **El algoritmo  genera nuevas instancias a partir de casos minoritarios existentes que se proporcionan como entrada**. \n",
    "\n",
    "Las instancias nuevas no son copias de los casos minoritarios existentes. En su lugar, **el algoritmo toma muestras del espacio de características de cada clase de destino y de sus vecinos más próximos**. Luego **genera nuevos ejemplos que combinan las características del caso que nos ocupa con características de sus vecinos**. Este enfoque aumenta las características disponibles para cada clase y hace que las muestras sean más generales.\n",
    "\n",
    "SMOTE toma todo el conjunto de datos como una entrada, pero **solo aumenta el porcentaje de los casos minoritarios**. (Chawla et al., 2002)"
   ]
  },
  {
   "cell_type": "code",
   "execution_count": 39,
   "id": "38385e79",
   "metadata": {},
   "outputs": [
    {
     "data": {
      "text/plain": [
       "1    27570\n",
       "0    27570\n",
       "Name: is_indian, dtype: int64"
      ]
     },
     "execution_count": 39,
     "metadata": {},
     "output_type": "execute_result"
    }
   ],
   "source": [
    "# Advanced oversampling methods\n",
    "# SMOTE\n",
    "resampler = SMOTE()\n",
    "\n",
    "# Resample X and y so there are equal numbers of each y\n",
    "X_train_resampled, y_train_resampled = resampler.fit_resample(X_train, y_train)\n",
    "\n",
    "# count samples per class.\n",
    "y_train_resampled.value_counts()"
   ]
  },
  {
   "cell_type": "code",
   "execution_count": 40,
   "id": "25895673",
   "metadata": {},
   "outputs": [
    {
     "data": {
      "text/html": [
       "<div>\n",
       "<style scoped>\n",
       "    .dataframe tbody tr th:only-of-type {\n",
       "        vertical-align: middle;\n",
       "    }\n",
       "\n",
       "    .dataframe tbody tr th {\n",
       "        vertical-align: top;\n",
       "    }\n",
       "\n",
       "    .dataframe thead th {\n",
       "        text-align: right;\n",
       "    }\n",
       "</style>\n",
       "<table border=\"1\" class=\"dataframe\">\n",
       "  <thead>\n",
       "    <tr style=\"text-align: right;\">\n",
       "      <th></th>\n",
       "      <th>Predicted not indian</th>\n",
       "      <th>Predicted indian</th>\n",
       "    </tr>\n",
       "  </thead>\n",
       "  <tbody>\n",
       "    <tr>\n",
       "      <th>Is not indian</th>\n",
       "      <td>0.977732</td>\n",
       "      <td>0.022268</td>\n",
       "    </tr>\n",
       "    <tr>\n",
       "      <th>Is indian</th>\n",
       "      <td>0.100894</td>\n",
       "      <td>0.899106</td>\n",
       "    </tr>\n",
       "  </tbody>\n",
       "</table>\n",
       "</div>"
      ],
      "text/plain": [
       "               Predicted not indian  Predicted indian\n",
       "Is not indian              0.977732          0.022268\n",
       "Is indian                  0.100894          0.899106"
      ]
     },
     "execution_count": 40,
     "metadata": {},
     "output_type": "execute_result"
    }
   ],
   "source": [
    "# data classification.\n",
    "matrix = classify_data(X_train_resampled, X_test, y_train_resampled , y_test)\n",
    "\n",
    "# Visualize the confusion matrix\n",
    "pd.DataFrame(matrix,\n",
    "         columns='Predicted ' + label_names,\n",
    "         index='Is ' + label_names).div(matrix.sum(axis=1), axis=0)"
   ]
  },
  {
   "cell_type": "markdown",
   "id": "4437fa37",
   "metadata": {},
   "source": [
    "**3.2.) Método de Muestreo Sintético Adaptativo (ADASYN)**\n",
    "\n",
    "ADASYN es una extensión de SMOTE que busca darle mayor peso a los datos de la clase minoritaria que son difíciles de aprender (He et al., 2008).\n"
   ]
  },
  {
   "cell_type": "code",
   "execution_count": 41,
   "id": "05575908",
   "metadata": {},
   "outputs": [
    {
     "data": {
      "text/plain": [
       "1    27744\n",
       "0    27610\n",
       "Name: is_indian, dtype: int64"
      ]
     },
     "execution_count": 41,
     "metadata": {},
     "output_type": "execute_result"
    }
   ],
   "source": [
    "# Advanced oversampling methods\n",
    "# ADASYN\n",
    "resampler = ADASYN()\n",
    "\n",
    "# Resample X and y so there are equal numbers of each y\n",
    "X_train_resampled, y_train_resampled = resampler.fit_resample(X_train, y_train)\n",
    "\n",
    "# count samples per class.\n",
    "y_train_resampled.value_counts()"
   ]
  },
  {
   "cell_type": "code",
   "execution_count": 20,
   "id": "82b8d734",
   "metadata": {},
   "outputs": [
    {
     "data": {
      "text/html": [
       "<div>\n",
       "<style scoped>\n",
       "    .dataframe tbody tr th:only-of-type {\n",
       "        vertical-align: middle;\n",
       "    }\n",
       "\n",
       "    .dataframe tbody tr th {\n",
       "        vertical-align: top;\n",
       "    }\n",
       "\n",
       "    .dataframe thead th {\n",
       "        text-align: right;\n",
       "    }\n",
       "</style>\n",
       "<table border=\"1\" class=\"dataframe\">\n",
       "  <thead>\n",
       "    <tr style=\"text-align: right;\">\n",
       "      <th></th>\n",
       "      <th>Predicted not indian</th>\n",
       "      <th>Predicted indian</th>\n",
       "    </tr>\n",
       "  </thead>\n",
       "  <tbody>\n",
       "    <tr>\n",
       "      <th>Is not indian</th>\n",
       "      <td>0.970540</td>\n",
       "      <td>0.029460</td>\n",
       "    </tr>\n",
       "    <tr>\n",
       "      <th>Is indian</th>\n",
       "      <td>0.089791</td>\n",
       "      <td>0.910209</td>\n",
       "    </tr>\n",
       "  </tbody>\n",
       "</table>\n",
       "</div>"
      ],
      "text/plain": [
       "               Predicted not indian  Predicted indian\n",
       "Is not indian              0.970540          0.029460\n",
       "Is indian                  0.089791          0.910209"
      ]
     },
     "execution_count": 20,
     "metadata": {},
     "output_type": "execute_result"
    }
   ],
   "source": [
    "# data classification.\n",
    "matrix = classify_data(X_train_resampled, X_test, y_train_resampled , y_test)\n",
    "\n",
    "# Visualize the confusion matrix\n",
    "pd.DataFrame(matrix,\n",
    "         columns='Predicted ' + label_names,\n",
    "         index='Is ' + label_names).div(matrix.sum(axis=1), axis=0)"
   ]
  },
  {
   "cell_type": "markdown",
   "id": "292bdacf",
   "metadata": {},
   "source": [
    "## Conclusiones\n",
    "\n",
    "- La división desigual de muestras pertenecientes a las clases objetivo puede causar un rendimiento subóptimo de los algoritmos de clasificación. \n",
    "\n",
    "- Se presentan tres diferentes enfoques para resolver el problema: submuestreo, sobremuestreo y generación de nuevas muestras usando aprendizaje generativo. Estos enfoques mejoran el rendimiento de los modelos en comparación con trabajar directamente con el conjunto de datos desequilibrado.\n"
   ]
  },
  {
   "cell_type": "markdown",
   "id": "13bd253d",
   "metadata": {},
   "source": [
    "### Referencias\n",
    "\n",
    "[1] Classification problems with imbalanced inputs. Recuperado de https://colab.research.google.com/github/littlecolumns/ds4j-notebooks/blob/master/classification/notebooks/Correcting%20for%20imbalanced%20datasets.ipynb#scrollTo=56BufhD27c-V\n",
    "\n",
    "[2] imbalanced-learn.org. imbalanced-learn documentation. Recuperado de https://imbalanced-learn.org/stable/\n",
    "\n",
    "[3] Chawla,N., Bowyer, K., Hall, L., and Kegelmeyer, P.(2002). Smote: synthetic minority over-sampling technique. Journal of artificial intelligence research, 16:321–357\n",
    "\n",
    "[4] He, H., Bai, Y., Garcia, E. and Li, S. (2008). Adasyn: adaptive synthetic sampling approach for imbalanced learning. In 2008 IEEE International Joint Conference on Neural Networks (IEEE World Congress on Computational Intelligence), 1322–1328. IEEE.\n"
   ]
  },
  {
   "cell_type": "code",
   "execution_count": null,
   "id": "c508adc5",
   "metadata": {},
   "outputs": [],
   "source": []
  }
 ],
 "metadata": {
  "kernelspec": {
   "display_name": "Python 3 (ipykernel)",
   "language": "python",
   "name": "python3"
  },
  "language_info": {
   "codemirror_mode": {
    "name": "ipython",
    "version": 3
   },
   "file_extension": ".py",
   "mimetype": "text/x-python",
   "name": "python",
   "nbconvert_exporter": "python",
   "pygments_lexer": "ipython3",
   "version": "3.9.15"
  }
 },
 "nbformat": 4,
 "nbformat_minor": 5
}
