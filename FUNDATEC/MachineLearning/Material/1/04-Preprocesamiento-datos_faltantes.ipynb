{
 "cells": [
  {
   "cell_type": "markdown",
   "id": "d90156bd",
   "metadata": {},
   "source": [
    "# Instituto Tecnológico de Costa Rica (ITCR)\n",
    "# Ciencia de Datos\n",
    "\n",
    "## Manejo de datos faltantes (ejemplo)\n",
    "\n",
    "-Profesora: María Auxiliadora Mora\n",
    "        "
   ]
  },
  {
   "cell_type": "markdown",
   "id": "48f0ef99",
   "metadata": {},
   "source": [
    "### Conjunto de datos a utilizar en el ejemplo\n",
    "\n",
    "Título: [Pima Indians Diabetes Database](https://raw.githubusercontent.com/jbrownlee/Datasets/master/pima-indians-diabetes.names)\n",
    "\n",
    "Descripción: Conjunto de datos utilizado para clasificación pacientes femeninas con/sin diabetes utilizando los atributos disponibles en la base de datos. La variable diagnóstica de valor binario investigada es si la paciente muestra signos de diabetes según los criterios de la Organización Mundial de la Salud (es decir, si la glucosa plasmática 2 horas después de la carga fue al menos 200 mg/dl en cualquier examen). La población estudiada vive cerca de Phoenix, Arizona, Estados Unidos.\n",
    "\n",
    "Fuente: National Institute of Diabetes and Digestive and Kidney Diseases\n",
    "\n",
    "Datos:\n",
    "   1. Number of times pregnant\n",
    "   2. Plasma glucose concentration a 2 hours in an oral glucose tolerance test\n",
    "   3. Diastolic blood pressure (mm Hg)\n",
    "   4. Triceps skin fold thickness (mm)\n",
    "   5. 2-Hour serum insulin (mu U/ml)\n",
    "   6. Body mass index (weight in kg/(height in m)^2)\n",
    "   7. Diabetes pedigree function\n",
    "   8. Age (years)\n",
    "   9. Class variable (0 or 1)\n",
    "   \n",
    "Disponibles en: https://www.kaggle.com/datasets/uciml/pima-indians-diabetes-database   "
   ]
  },
  {
   "cell_type": "code",
   "execution_count": 1,
   "id": "87b13856",
   "metadata": {},
   "outputs": [],
   "source": [
    "# Libraries\n",
    "from pandas import read_csv\n",
    "from numpy import nan\n",
    "from numpy import isnan\n",
    "\n",
    "# missing values imputation\n",
    "from sklearn.impute import SimpleImputer\n",
    "\n",
    "# evaluate results\n",
    "from numpy import mean\n",
    "from numpy import std\n",
    "from sklearn.ensemble import RandomForestClassifier\n",
    "from sklearn.model_selection import cross_val_score\n",
    "from sklearn.model_selection import RepeatedStratifiedKFold\n",
    "from sklearn.pipeline import Pipeline\n",
    "from matplotlib import pyplot\n"
   ]
  },
  {
   "cell_type": "code",
   "execution_count": 2,
   "id": "8ca61fe4",
   "metadata": {},
   "outputs": [
    {
     "name": "stdout",
     "output_type": "stream",
     "text": [
      "       Pregnancies     Glucose  BloodPressure  SkinThickness     Insulin  \\\n",
      "count   768.000000  768.000000     768.000000     768.000000  768.000000   \n",
      "mean      3.845052  120.894531      69.105469      20.536458   79.799479   \n",
      "std       3.369578   31.972618      19.355807      15.952218  115.244002   \n",
      "min       0.000000    0.000000       0.000000       0.000000    0.000000   \n",
      "25%       1.000000   99.000000      62.000000       0.000000    0.000000   \n",
      "50%       3.000000  117.000000      72.000000      23.000000   30.500000   \n",
      "75%       6.000000  140.250000      80.000000      32.000000  127.250000   \n",
      "max      17.000000  199.000000     122.000000      99.000000  846.000000   \n",
      "\n",
      "              BMI  DiabetesPedigreeFunction         Age     Outcome  \n",
      "count  768.000000                768.000000  768.000000  768.000000  \n",
      "mean    31.992578                  0.471876   33.240885    0.348958  \n",
      "std      7.884160                  0.331329   11.760232    0.476951  \n",
      "min      0.000000                  0.078000   21.000000    0.000000  \n",
      "25%     27.300000                  0.243750   24.000000    0.000000  \n",
      "50%     32.000000                  0.372500   29.000000    0.000000  \n",
      "75%     36.600000                  0.626250   41.000000    1.000000  \n",
      "max     67.100000                  2.420000   81.000000    1.000000  \n"
     ]
    }
   ],
   "source": [
    "# Load the Pima Indians Diabete dataset\n",
    "pima_dataset = read_csv('../../Data/Pima_Indians_diabetes.csv')\n",
    "# summarize the dataset\n",
    "print(pima_dataset.describe())"
   ]
  },
  {
   "cell_type": "markdown",
   "id": "2a3f96e0",
   "metadata": {},
   "source": [
    "Los **valores faltantes** se pueden detactar verificando entradas fuera de rango, por ejemplo:\n",
    "- números negativos en un campo numérico que normalmente solo es positivo (ej. la edad), \n",
    "- un 0 en un campo numérico que normalmente nunca puede ser 0 (ej. la masa corporal) o \n",
    "- valores nulos.\n",
    "\n",
    "En el ejemplo específicamente, podemos notar que las columnas Glucose, BloodPressure, SkinThickness, Insulin, y el BMI tiene valor mínimo en 0. En el caso de columnas como Pregnancies un valor de cero es posible. "
   ]
  },
  {
   "cell_type": "code",
   "execution_count": 3,
   "id": "748eea72",
   "metadata": {},
   "outputs": [
    {
     "name": "stdout",
     "output_type": "stream",
     "text": [
      "   Pregnancies  Glucose  BloodPressure  SkinThickness  Insulin   BMI  \\\n",
      "0            6      148             72             35        0  33.6   \n",
      "1            1       85             66             29        0  26.6   \n",
      "2            8      183             64              0        0  23.3   \n",
      "3            1       89             66             23       94  28.1   \n",
      "4            0      137             40             35      168  43.1   \n",
      "5            5      116             74              0        0  25.6   \n",
      "6            3       78             50             32       88  31.0   \n",
      "7           10      115              0              0        0  35.3   \n",
      "8            2      197             70             45      543  30.5   \n",
      "9            8      125             96              0        0   0.0   \n",
      "\n",
      "   DiabetesPedigreeFunction  Age  Outcome  \n",
      "0                     0.627   50        1  \n",
      "1                     0.351   31        0  \n",
      "2                     0.672   32        1  \n",
      "3                     0.167   21        0  \n",
      "4                     2.288   33        1  \n",
      "5                     0.201   30        0  \n",
      "6                     0.248   26        1  \n",
      "7                     0.134   29        0  \n",
      "8                     0.158   53        1  \n",
      "9                     0.232   54        1  \n",
      "(768, 9)\n"
     ]
    }
   ],
   "source": [
    "print(pima_dataset.head(10))\n",
    "print(pima_dataset.shape)"
   ]
  },
  {
   "cell_type": "code",
   "execution_count": 4,
   "id": "64b1a330",
   "metadata": {},
   "outputs": [
    {
     "name": "stdout",
     "output_type": "stream",
     "text": [
      "===== Columnas con ceros =====\n",
      "Glucose            5\n",
      "BloodPressure     35\n",
      "SkinThickness    227\n",
      "Insulin          374\n",
      "BMI               11\n",
      "dtype: int64\n"
     ]
    }
   ],
   "source": [
    "# count the number of 0 values for each column\n",
    "def count_ceros (dataset, columns):\n",
    "    num_cero_values = (dataset[columns] == 0).sum()\n",
    "    return num_cero_values\n",
    "\n",
    "num_cero_values = count_ceros (pima_dataset,['Glucose', 'BloodPressure', 'SkinThickness', 'Insulin', 'BMI'])\n",
    "\n",
    "# Display the results\n",
    "print(\"===== Columnas con ceros =====\")\n",
    "print(num_cero_values)"
   ]
  },
  {
   "cell_type": "code",
   "execution_count": 7,
   "id": "ffb17fee",
   "metadata": {},
   "outputs": [
    {
     "name": "stdout",
     "output_type": "stream",
     "text": [
      "    Pregnancies  Glucose  BloodPressure  SkinThickness  Insulin   BMI  \\\n",
      "0             6    148.0           72.0           35.0      NaN  33.6   \n",
      "1             1     85.0           66.0           29.0      NaN  26.6   \n",
      "2             8    183.0           64.0            NaN      NaN  23.3   \n",
      "3             1     89.0           66.0           23.0     94.0  28.1   \n",
      "4             0    137.0           40.0           35.0    168.0  43.1   \n",
      "5             5    116.0           74.0            NaN      NaN  25.6   \n",
      "6             3     78.0           50.0           32.0     88.0  31.0   \n",
      "7            10    115.0            NaN            NaN      NaN  35.3   \n",
      "8             2    197.0           70.0           45.0    543.0  30.5   \n",
      "9             8    125.0           96.0            NaN      NaN   NaN   \n",
      "10            4    110.0           92.0            NaN      NaN  37.6   \n",
      "11           10    168.0           74.0            NaN      NaN  38.0   \n",
      "12           10    139.0           80.0            NaN      NaN  27.1   \n",
      "13            1    189.0           60.0           23.0    846.0  30.1   \n",
      "14            5    166.0           72.0           19.0    175.0  25.8   \n",
      "15            7    100.0            NaN            NaN      NaN  30.0   \n",
      "16            0    118.0           84.0           47.0    230.0  45.8   \n",
      "17            7    107.0           74.0            NaN      NaN  29.6   \n",
      "18            1    103.0           30.0           38.0     83.0  43.3   \n",
      "19            1    115.0           70.0           30.0     96.0  34.6   \n",
      "\n",
      "    DiabetesPedigreeFunction  Age  Outcome  \n",
      "0                      0.627   50        1  \n",
      "1                      0.351   31        0  \n",
      "2                      0.672   32        1  \n",
      "3                      0.167   21        0  \n",
      "4                      2.288   33        1  \n",
      "5                      0.201   30        0  \n",
      "6                      0.248   26        1  \n",
      "7                      0.134   29        0  \n",
      "8                      0.158   53        1  \n",
      "9                      0.232   54        1  \n",
      "10                     0.191   30        0  \n",
      "11                     0.537   34        1  \n",
      "12                     1.441   57        0  \n",
      "13                     0.398   59        1  \n",
      "14                     0.587   51        1  \n",
      "15                     0.484   32        1  \n",
      "16                     0.551   31        1  \n",
      "17                     0.254   31        1  \n",
      "18                     0.183   33        0  \n",
      "19                     0.529   32        1  \n"
     ]
    }
   ],
   "source": [
    "# Due to library request, first we have to replace '0' values with 'nan'\n",
    "pima_dataset[['Glucose', 'BloodPressure',\n",
    "              'SkinThickness', 'Insulin', \n",
    "              'BMI']]                    = pima_dataset[['Glucose', 'BloodPressure', \n",
    "                                                         'SkinThickness', 'Insulin', \n",
    "                                                         'BMI']].replace(0, nan)\n",
    "\n",
    "# print the first 20 rows of data\n",
    "print(pima_dataset.head(20))"
   ]
  },
  {
   "cell_type": "code",
   "execution_count": 9,
   "id": "c993ad62",
   "metadata": {},
   "outputs": [
    {
     "name": "stdout",
     "output_type": "stream",
     "text": [
      "===== Columnas con ceros =====\n",
      "Glucose          0\n",
      "BloodPressure    0\n",
      "SkinThickness    0\n",
      "Insulin          0\n",
      "BMI              0\n",
      "dtype: int64\n"
     ]
    }
   ],
   "source": [
    "# count the number of 0 values for each column, there should be no zeros.\n",
    "\n",
    "num_cero_values = count_ceros (pima_dataset,['Glucose', 'BloodPressure', 'SkinThickness', 'Insulin', 'BMI'])\n",
    "\n",
    "# Display the results\n",
    "print(\"===== Columnas con ceros =====\")\n",
    "print(num_cero_values)"
   ]
  },
  {
   "cell_type": "code",
   "execution_count": 10,
   "id": "129ca7c0",
   "metadata": {},
   "outputs": [
    {
     "data": {
      "text/plain": [
       "0    500\n",
       "1    268\n",
       "Name: Outcome, dtype: int64"
      ]
     },
     "execution_count": 10,
     "metadata": {},
     "output_type": "execute_result"
    }
   ],
   "source": [
    "# Records per class\n",
    "\n",
    "pima_dataset.Outcome.value_counts()"
   ]
  },
  {
   "cell_type": "markdown",
   "id": "a3c4d288",
   "metadata": {},
   "source": [
    "## Opciones de trabajo con valores faltantes\n",
    "\n",
    "  1. Remover las filas con valores faltantes, con el inconveniente que se pierden registros.\n",
    "  2. Utilizar mecanismos para limpiar esos registros: por ejemplo el **mecanismo de imputación**. El mecanismo de imputación utiliza un modelo o un algoritmo para proporcionar una predicción de los valores faltantes (Goodfellow et al.,2016)  \n"
   ]
  },
  {
   "cell_type": "markdown",
   "id": "7c6ca229",
   "metadata": {},
   "source": [
    "**1. Remover las filas con valores nan**"
   ]
  },
  {
   "cell_type": "code",
   "execution_count": 11,
   "id": "95d6ade8",
   "metadata": {},
   "outputs": [
    {
     "name": "stdout",
     "output_type": "stream",
     "text": [
      "Contenido original (768, 9)\n",
      "Contenido luego de remover los valores nan (392, 9)\n"
     ]
    }
   ],
   "source": [
    "# remove rows with nan values.\n",
    "print(\"Contenido original\", pima_dataset.shape)\n",
    "\n",
    "# inplace: whether to modify the DataFrame rather than creating a new one.\n",
    "pima_dataset.dropna(inplace=True)\n",
    "\n",
    "print(\"Contenido luego de remover los valores nan\", pima_dataset.shape)\n"
   ]
  },
  {
   "cell_type": "markdown",
   "id": "763fa967",
   "metadata": {},
   "source": [
    "**2. Imputación de valores faltantes**\n",
    "\n",
    "La imputación puede realizar se muchas formas:\n",
    "- La **media, mediana o la moda de una columna**. Una variante de este enfoque es utilizar la salida de un algoritmo de clustering para calcular la media, mediana o moda tomando en cuenta el grupo al que pertenece la muestra.\n",
    "- Un **valor de otro registro** seleccionado aleatoriamente.\n",
    "- Un valor **estimado por un modelo predictivo** (puede ser una red neuronal) u otro algoritmo.\n",
    "- Un valor **constante**.\n",
    "\n",
    "Nota: algunos algoritmos funcionan bien con valores faltantes, por ejemplo Naive Bayes.\n",
    "\n",
    "Recordemos que: \n",
    "- La media corresponde a sumar todas las entradas del valor observado y dividir ese total entre el número de muestras. \n",
    "- La mediana es el valor que divide la secuencia ordenada de observaciones en dos partes iguales. Aplica para atributos ordinales. \n",
    "- La moda es el valor más frecuente."
   ]
  },
  {
   "cell_type": "code",
   "execution_count": 12,
   "id": "a4664ba9",
   "metadata": {},
   "outputs": [
    {
     "name": "stdout",
     "output_type": "stream",
     "text": [
      "Pregnancies                 0\n",
      "Glucose                     0\n",
      "BloodPressure               0\n",
      "SkinThickness               0\n",
      "Insulin                     0\n",
      "BMI                         0\n",
      "DiabetesPedigreeFunction    0\n",
      "Age                         0\n",
      "Outcome                     0\n",
      "dtype: int64\n"
     ]
    }
   ],
   "source": [
    "# fill missing values with mean column values\n",
    "pima_dataset.fillna(pima_dataset.mean(), inplace=True)\n",
    "# count the number of NaN values in each column\n",
    "print(pima_dataset.isnull().sum())"
   ]
  },
  {
   "cell_type": "markdown",
   "id": "f79c5e26",
   "metadata": {},
   "source": [
    "**Scikit-Learn** implementa la clase  [SimpleImputer](https://scikit-learn.org/stable/modules/generated/sklearn.impute.SimpleImputer.html) para trabajar fácilmente los valores faltantes utilizando la media, la mediana o la moda.\n",
    "\n",
    "El parámetro strategy (default='mean') define la estratégia de imputación. Las estrategias pueden ser las siguientes (scikit-learn v1.2.1):\n",
    "\n",
    "- “mean”, se reemplazan los valores faltantes usando la media a lo largo de cada columna. Solo se puede utilizar con datos numéricos.\n",
    "\n",
    "- “median”, idem usando la mediana.\n",
    "\n",
    "- “most_frequent”, idem usando la moda. Se puede utilizar con atributos numéricos o categóricos. Si hay más de un  valor que cumple, se utiliza el más pequeño.\n",
    "\n",
    "- “constant”, se reemplazan los valores faltantes con un valor constante a lo largo de cada columna. Se puede utilizar con atributos numéricos o categóricos.\n"
   ]
  },
  {
   "cell_type": "code",
   "execution_count": 13,
   "id": "5b5ce1fe",
   "metadata": {},
   "outputs": [
    {
     "name": "stdout",
     "output_type": "stream",
     "text": [
      "Valores faltantes: 0\n"
     ]
    }
   ],
   "source": [
    "# retrieve the numpy array\n",
    "pima_values = pima_dataset.values\n",
    "# define the imputer\n",
    "simple_imputer = SimpleImputer(missing_values=nan, strategy='mean')\n",
    "# transform the dataset\n",
    "transformed_values = simple_imputer.fit_transform(pima_values)\n",
    "# count the number of NaN values in each column\n",
    "print('Valores faltantes: %d' % isnan(transformed_values).sum())"
   ]
  },
  {
   "cell_type": "code",
   "execution_count": 8,
   "id": "741b0bcc",
   "metadata": {},
   "outputs": [
    {
     "name": "stdout",
     "output_type": "stream",
     "text": [
      "[[  6.    148.     72.    ...   0.627  50.      1.   ]\n",
      " [  1.     85.     66.    ...   0.351  31.      0.   ]\n",
      " [  8.    183.     64.    ...   0.672  32.      1.   ]\n",
      " ...\n",
      " [  5.    121.     72.    ...   0.245  30.      0.   ]\n",
      " [  1.    126.     60.    ...   0.349  47.      1.   ]\n",
      " [  1.     93.     70.    ...   0.315  23.      0.   ]]\n"
     ]
    }
   ],
   "source": [
    "print(transformed_values)"
   ]
  },
  {
   "cell_type": "markdown",
   "id": "1a84573c",
   "metadata": {},
   "source": [
    "## Imputación y evaluación de modelos \n",
    "\n",
    "Ejemplo completo a manera de prueba utilizando el algoritmo Random Forest.\n",
    "\n",
    "Etapas:\n",
    "1. Dividir los datos en datos de entrenamiento y pruebas\n",
    "2. Pruebas de imputación.\n",
    "3. Evaluación de los resultados con validación cruzada.\n",
    "\n",
    "\n",
    "Es una buena práctica evaluar los modelos de aprendizaje automático en un conjunto de datos mediante la **validación cruzada (k-fold cross-validation)**. La **validación cruzada** es un procedimiento de remuestreo utilizado para evaluar modelos de aprendizaje automático en una muestra de datos limitada.\n",
    "\n",
    "El **procedimiento general es el siguiente**:\n",
    "\n",
    "- Mezclar aleatoriamente el conjunto de datos.\n",
    "- Dividir el conjunto de datos en k grupos.\n",
    "- Para cada grupo:\n",
    "    - Tomar el grupo como un conjunto de datos de prueba.\n",
    "    - Tomar los grupos restantes como un conjunto de datos de entrenamiento\n",
    "    - Ajustar un modelo en el conjunto de entrenamiento y evaluarlo en el conjunto de prueba\n",
    "    - Conservar la puntuación de evaluación y descartar el modelo\n",
    "- Visualice el rendimiento del modelo usando los puntajes obtenidos.\n",
    "\n",
    "Aplicar validación cruzada **estratificada** significa que se divide el conjunto de datos de tal manera que conserva aproximadamente la misma distribución de clases (es decir, el mismo porcentaje de muestras de cada clase) en cada subconjunto/pliegue que en el conjunto de datos original.\n",
    "\n",
    "Para aplicar correctamente la imputación de datos faltantes con métodos estadísticos, se requiere que las estadísticas sean calculadas para cada columna **solo en el conjunto de datos de entrenamiento y luego se apliquen a los conjuntos de entrenamiento** y prueba para cada grupo del k-fold (Brownlee, 2020)."
   ]
  },
  {
   "cell_type": "code",
   "execution_count": 15,
   "id": "1f71bd12",
   "metadata": {},
   "outputs": [
    {
     "name": "stdout",
     "output_type": "stream",
     "text": [
      "Mean Accuracy: 0.781 (0.052)\n"
     ]
    }
   ],
   "source": [
    "# Pipeline example using RandomForestClassifier and SimpleImputer \n",
    "\n",
    "# retrieve the numpy array\n",
    "data = pima_dataset.values\n",
    "\n",
    "# split data in features and target\n",
    "# Target (column 8) = Outcome \n",
    "ix = [i for i in range(data.shape[1]) if i != 8]\n",
    "X, y = data[:, ix], data[:, 8]\n",
    "\n",
    "# define the model pipeline\n",
    "model = RandomForestClassifier()\n",
    "imputer = SimpleImputer(strategy='mean')\n",
    "pipeline = Pipeline(steps=[('i', imputer), ('m', model)])\n",
    "\n",
    "# define the model evaluation\n",
    "cv = RepeatedStratifiedKFold(n_splits=10, n_repeats=3, random_state=1)\n",
    "\n",
    "# evaluate the model\n",
    "scores = cross_val_score(pipeline, X, y, scoring='accuracy', cv=cv, n_jobs=-1)\n",
    "print('Mean Accuracy: %.3f (%.3f)' % (mean(scores), std(scores)))\n"
   ]
  },
  {
   "cell_type": "code",
   "execution_count": 10,
   "id": "973f8a51",
   "metadata": {},
   "outputs": [
    {
     "name": "stdout",
     "output_type": "stream",
     "text": [
      "Desempeño (media y desviación estándar) de: mean 0.761 (0.044)\n",
      "Desempeño (media y desviación estándar) de: median 0.757 (0.053)\n",
      "Desempeño (media y desviación estándar) de: most_frequent 0.762 (0.045)\n",
      "Desempeño (media y desviación estándar) de: constant 0.753 (0.047)\n",
      "Cantidad de estrategias: 4\n",
      "Cantidad de evaluaciones por estrategia: 30\n"
     ]
    }
   ],
   "source": [
    "# Compare results of different statistical strategies of \n",
    "# the SimpleImputer and the RandomForestClassifier\n",
    "\n",
    "# retrieve the numpy array\n",
    "data = pima_dataset.values\n",
    "\n",
    "# split data in features and target\n",
    "# Target (column 8) = Outcome \n",
    "ix = [i for i in range(data.shape[1]) if i != 8]\n",
    "X, y = data[:, ix], data[:, 8]\n",
    "\n",
    "# evaluate each strategy on the dataset\n",
    "results = list()\n",
    "strategies = ['mean', 'median', 'most_frequent', 'constant']\n",
    "for s in strategies:\n",
    "\n",
    "    # create the modeling pipeline\n",
    "    pipeline = Pipeline(steps=[('i', SimpleImputer(strategy=s)), ('m', RandomForestClassifier())])\n",
    "    \n",
    "    # evaluate the model (30 results)\n",
    "    # cv = the cross-validation splitting strategy. \n",
    "    cv = RepeatedStratifiedKFold(n_splits=10, n_repeats=3, random_state=1)\n",
    "    scores = cross_val_score(pipeline, X, y, scoring='accuracy', cv=cv, n_jobs=-1)\n",
    "\n",
    "    # store results\n",
    "    results.append(scores)\n",
    "    print('Desempeño (media y desviación estándar) de: %s %.3f (%.3f)' % (s, mean(scores), std(scores)))\n",
    "\n",
    "# plot model performance for comparison\n",
    "print(\"Cantidad de estrategias:\", len(results))\n",
    "print(\"Cantidad de evaluaciones por estrategia:\", len(results[1]))\n",
    "\n"
   ]
  },
  {
   "cell_type": "markdown",
   "id": "a9fb03b4",
   "metadata": {},
   "source": [
    "### Diagrama de cajas o diagrama de caja y bigotes (box plot)\n",
    "\n",
    "Un diagrama de caja es una forma de visualización estandarizada para presentar una serie de datos numéricos a través de sus cuartiles. De esta manera, se muestran a simple vista la mediana, los cuartiles de los datos y sus valores atípicos. \n",
    "\n",
    "Ejemplos en https://es.wikipedia.org/wiki/Diagrama_de_caja\n",
    "\n",
    "https://www.estadisticaparatodos.es/taller/graficas/cajas.html"
   ]
  },
  {
   "cell_type": "code",
   "execution_count": 11,
   "id": "4362b4fa",
   "metadata": {},
   "outputs": [
    {
     "data": {
      "image/png": "[encoded data removed]",
      "text/plain": [
       "<Figure size 640x480 with 1 Axes>"
      ]
     },
     "metadata": {},
     "output_type": "display_data"
    }
   ],
   "source": [
    "title = \"Diagrama de caja y bigotes de las estrategias de imputación estadística aplicadas a los datos de diabetes\"\n",
    "pyplot.boxplot(results, labels=strategies, showmeans=True)\n",
    "pyplot.show()"
   ]
  },
  {
   "cell_type": "markdown",
   "id": "570e5f5e",
   "metadata": {},
   "source": [
    "Los promedios del accuracy de las cuatro estategias son muy parecidos. El diagrama de caja y bigotes(boxplots o box and whiskers) muestra la distribución de puntajes de precisión para cada una de las estrategias (ie. mínimo, primer cuartil, mediana y 3er cuartil y máximo). El rango intercuartílico (longitud de la caja) indica la dispersión del 50% medio de los resultados. \n",
    "\n",
    "\n",
    "Nota: Debido a la condición estocástica del ejemplo los resultados pueden variar.  "
   ]
  },
  {
   "cell_type": "markdown",
   "id": "24d82661",
   "metadata": {},
   "source": [
    "## Referencias\n",
    "\n",
    "Brownlee, J. (2017). How to Handle Missing Data with Python. https://machinelearningmastery.com/handle-missing-data-python/\n",
    "\n",
    "Goodfellow, I., Bengio, Y., & Courville, A. Deep Learning (2016). Recuperado de https://www.deeplearningbook.org/\n",
    "\n",
    "scikit-learn v1.2.1. sklearn.impute.SimpleImputer. Recuperado de https://scikit-learn.org/stable/modules/generated/sklearn.impute.SimpleImputer.html\n",
    "\n",
    "Brownlee, J. (2020). Statistical Imputation for Missing Values in Machine Learning. Recuperado de https://machinelearningmastery.com/statistical-imputation-for-missing-values-in-machine-learning/"
   ]
  },
  {
   "cell_type": "code",
   "execution_count": null,
   "id": "fe33ec84",
   "metadata": {},
   "outputs": [],
   "source": []
  }
 ],
 "metadata": {
  "kernelspec": {
   "display_name": "Python 3 (ipykernel)",
   "language": "python",
   "name": "python3"
  },
  "language_info": {
   "codemirror_mode": {
    "name": "ipython",
    "version": 3
   },
   "file_extension": ".py",
   "mimetype": "text/x-python",
   "name": "python",
   "nbconvert_exporter": "python",
   "pygments_lexer": "ipython3",
   "version": "3.9.15"
  }
 },
 "nbformat": 4,
 "nbformat_minor": 5
}
