{
 "cells": [
  {
   "cell_type": "markdown",
   "metadata": {
    "colab_type": "text",
    "id": "e7L1u5m7vGPH"
   },
   "source": [
    "# ITCR - Ciencias de Datos\n",
    "\n",
    "## Aprendizaje Automático \n",
    "\n",
    "## Regresión paramétrica\n",
    "\n",
    "Profesora: María Auxiliadora Mora\n",
    "\n",
    "Autores: Saúl Calderón, Juan Esquivel, Luis-Alexander Calvo-Valverde, María Auxiliadora Mora"
   ]
  },
  {
   "cell_type": "markdown",
   "metadata": {
    "colab_type": "text",
    "id": "pWClLAjfvtAA"
   },
   "source": [
    "# Regresión Paramétrica\n",
    "El objetivo de la regresión es predecir el valor de una o más variables continuas dado el valor de un vector D-dimensional $x$ de las variables de entrada."
   ]
  },
  {
   "cell_type": "markdown",
   "metadata": {
    "colab_type": "text",
    "id": "sPD8sqQXo3_P"
   },
   "source": [
    "## El problema de ajuste de curvas\n",
    "\n",
    "\n",
    "El problema de ajuste de curvas se refiere a la **construcción de un modelo que permita predecir el comportamiento de un fenómeno a estudiar**.  Este fenómeno puede caracterizarse mediante una serie de valores en su entrada, con lo cual es posible medir su comportamiento a la salida del fenómeno. \n",
    "  \n",
    "![](../imagenes/Curve_fitting.jpeg)\n",
    "\n",
    "- Figura 1 (Wikipedia). Puntos de ajuste de curvas polinómicas generados con una función seno. La **línea punteada negra corresponde a los datos**, la **línea roja es un polinomio de primer grado**, la **línea verde es de segundo grado**, la **línea naranja es de tercer grado** y la **línea azul es de cuarto grado**.\n",
    "\n",
    "\n",
    "**El objetivo del ajuste de curvas es encontrar un modelo que se ajuste al conjunto de observaciones $\\mathcal{D}=\\left\\{ \\vec{x},\\vec{t}\\right\\} $, y que posibilite la predicción de de la salida $t$ para una nueva muestra $x$.**\n",
    "\n",
    "Estudiaremos un **modelo con pesos lineales respecto al vector de pesos o parámetros del modelo $\\vec{w}$** con funciones base polinomiales, de la forma:\n",
    "\n",
    "\\begin{equation}\n",
    "y(x,\\vec{w})=w_{0}+w_{1}x+w_{2}x^{2}+\\ldots+w_{M}x^{M}=\\sum_{j=0}^{M}w_{j}x^{j}\n",
    "\\end{equation}\n",
    "  \n",
    "por lo que $\\vec{w}\\in\\mathbb{R}^{M+1}$, definiendo $M+1$ la dimensionalidad\n",
    "del modelo, y constituyendo la cantidad de parámetros desconocidos\n",
    "a estimar. Observe que la regresión lineal es un caso particular de\n",
    "la regresión polinomial con $M=1$: \n",
    "  \n",
    "\\begin{equation}\n",
    "y(x,\\vec{w})=w_{0}+w_{1}x=\\sum_{j=0}^{1}w_{j}x^{j}\n",
    "\\end{equation}\n",
    "\n",
    "En general, si otras funciones base distintas a $\\phi_{j}(x)=x^{j}$\n",
    "son usadas, la expresión del modelo viene dada por: \n",
    "  \n",
    "\\begin{equation}\n",
    "y(x,\\vec{w})=\\sum_{j=0}^{M}w_{j}\\phi_{j}(x)\n",
    "\\end{equation}\n",
    "  \n",
    "\\begin{equation}\n",
    "\\Rightarrow y(x,\\vec{w})=\\vec{w}\\cdot\\vec{\\phi}(x)\n",
    "\\end{equation}\n",
    "  \n",
    "donde el conjunto de funcionales $\\{\\phi_{1}(x),\\phi_{2}(x),\\ldots,\\phi_{M}(x)\\}$\n",
    "se le denomina conjunto base, o **conjunto de funciones base**.\n",
    "\n",
    "En estos modelos, **el orden viene dado por la cantidad de términos\n",
    "en la combinación lineal $M$, el cual define la complejidad del modelo**.\n",
    "Una vez definido el modelo a implementar (lineal o no lineal, conjunto\n",
    "de funciones base), **el problema general de ajuste de modelo al conjunto\n",
    "de observaciones $\\mathcal{D}=\\left\\{ \\vec{x},\\vec{t}\\right\\} $ se\n",
    "reduce a determinar el valor de los pesos $\\vec{w}$**. Un enfoque sencillo\n",
    "para calcular los valores de $\\vec{w}$ óptimos es el de **mínimos\n",
    "cuadrados**, el cual propone la expresión de la función de error como\n",
    "sigue:\n",
    "\n",
    "\\begin{equation}\n",
    "E(\\vec{w})=\\frac{1}{2}\\sum_{n=0}^{N}\\left\\{ y\\left(x_{n},\\vec{w}\\right)-t_{n}\\right\\} ^{2}=\\frac{1}{2}\\sum_{n=1}^{N}\\left\\{ \\sum_{j=0}^{M}w_{j}x_{n}^{j}-t_{n}\\right\\} ^{2}\n",
    "\\end{equation}\n",
    "\n",
    "En tal esquema de mínimos cuadrados, el error se define entonces \n",
    "como la diferencia al cuadrado de la evaluación del modelo en cada\n",
    "muestra de $\\vec{x}=\\left[x_{0},...,.x_{N}\\right]^{T}$ con cada uno\n",
    "de las muestras de su salida $\\vec{t}=\\left[t_{0},...,.t_{N}\\right]^{T}$\n",
    "usando entonces el conjunto de datos de entrenamiento $\\mathcal{D}=\\left\\{ \\vec{x},\\vec{t}\\right\\} $.\n",
    "  \n",
    "  \n",
    "Nótese que es posible **utilizar otras funciones de error** como,\n",
    "por ejemplo, la diferencia absoluta. **El enfoque de mínimos cuadrados\n",
    "propone minimizar la expresión de error propuesta en la ecuación anterior,\n",
    "por cada uno de los pesos en el vector $\\vec{w}$**. Para ello, dicha ecuación\n",
    "es derivada parcialmente respecto a $w_{i}$ e igualada\n",
    "a cero:\n",
    "\n",
    "\\begin{equation}\n",
    "\\frac{\\partial E\\left(\\vec{w}\\right)}{w_{i}}=\\sum_{n=1}^{N}\\left\\{ \\sum_{j=0}^{M}w_{j}x_{n}^{j}-t_{n}\\right\\} x_{n}^{i}=0\n",
    "\\end{equation}\n",
    "\n",
    "Despejando entonces la expresión, se obtiene un conjunto de $M+1$ ecuaciones $(i=0,1,2,3,\\ldots,M)$ donde los valores $w_{j}$ son desconocidos, por lo que para una ecuación $i$ tenemos:\n",
    "\n",
    "\\begin{equation}\n",
    "\\sum_{n=1}^{N}\\sum_{j=0}^{M}w_{j}x_{n}^{j+i}=\\sum_{n=0}^{N}t_{n}x_{n}^{i}\n",
    "\\end{equation}\n",
    "y cambiando el orden a las sumatorias se obtiene:\n",
    "\n",
    "\\begin{equation}\n",
    "\\sum_{j=0}^{M}\\sum_{n=1}^{N}w_{j}x_{n}^{j+i}=\\sum_{n=0}^{N}t_{n}x_{n}^{i}\n",
    "\\end{equation}\n",
    " \n",
    "Los valores $w_{j}$ obtenidos al resolver este sistema de ecuaciones\n",
    "anterior se representan en el vector de pesos óptimo $\\vec{w}_{\\textrm{opt}}$. \n",
    "\n",
    "En términos matriciales, lo anterior se desarrolla como:\n",
    "  \n",
    "$\n",
    "\\begin{bmatrix}\\sum_{n=1}^{N}1 & \\sum_{n=1}^{N}x_{n} & \\sum_{n=1}^{N}x_{n}^{2} & \\ldots & \\sum_{n=1}^{N}x_{n}^{M}\\\\\n",
    "\\sum_{n=1}^{N}x_{n} & \\sum_{n=1}^{N}x_{n}^{2} & \\sum_{n=1}^{N}x_{n}^{3} &  & \\sum_{n=1}^{N}x_{n}^{M+1}\\\\\n",
    "\\sum_{n=1}^{N}x_{n}^{2} & \\sum_{n=1}^{N}x_{n}^{3} & \\sum_{n=1}^{N}x_{n}^{4} &  & \\sum_{n=1}^{N}x_{n}^{M+2}\\\\\n",
    " &  & \\vdots\\\\\n",
    "\\sum_{n=1}^{N}x_{n}^{M} & \\sum_{n=1}^{N}x_{n}^{M+1} & \\sum_{n=1}^{N}x_{n}^{M+2} &  & \\sum_{n=1}^{N}x_{n}^{2M}\n",
    "\\end{bmatrix}\\:\\vec{w}=\\begin{bmatrix}\\sum_{n=1}^{N}t_{n}\\\\\n",
    "\\sum_{n=1}^{N}x_{n}t_{n}\\\\\n",
    "\\sum_{n=1}^{N}x_{n}^{2}t_{n}\\\\\n",
    "\\vdots\\\\\n",
    "\\sum_{n=1}^{N}x_{n}^{M}t_{n}\n",
    "\\end{bmatrix}\n",
    "$\n",
    "  \n",
    "Para lo cual, si $A$ es la primer matriz de izquierda a derecha,\n",
    "y $B$ la matriz al lado derecho de la igualdad, se tiene que:\n",
    "  \n",
    "$$\n",
    "\\vec{w}_{\\textrm{opt}}=A^{-1}\\:B\n",
    "$$\n",
    "\n",
    "Para evaluar el error resultante de ajustar un modelo de dimensión\n",
    "$M$ y con pesos $\\vec{w}_{\\textrm{opt}}$, se utiliza el error normalizado\n",
    "o **error RMS (raíz del error cuadrático medioa)**, expresado como sigue:\n",
    "\n",
    "\\begin{equation}\n",
    "E\\left(\\vec{w}_{\\textrm{opt}}\\right)_{\\textrm{RMS}}=\\sqrt{2E\\left(\\vec{w}_{\\textrm{opt}}\\right)/N}.\n",
    "\\end{equation}\n",
    "\n",
    "Un modelo más complejo, es decir, con una dimensionalidad $M$ más\n",
    "alta, minimiza el error frente al conjunto de datos de *entrenamiento*\n",
    "$\\vec{t}$, como la siguiente Figura muestra el ajuste de la curva con distintos $M$. \n",
    "\n",
    "\n",
    "![](../imagenes/multiplesm.png)\n",
    "\n",
    "El ajuste a los datos depende la cantidad de parámetros $M$ y la cantidad de datos $N$, como además lo muestra la Figura anterior, puesto que una cantidad de parámetros alta frente una cantidad de muestras baja, producirá un mayor sobreajuste.\n",
    "\n",
    "\n",
    "![](../imagenes/overfitting.png)\n",
    "\n",
    "\n",
    "La Figura anterior, muestra además que **de sobre-ajustarse\n",
    "a una gran cantidad de datos con sesgos o ruido, el modelo no realizará\n",
    "una estimación adecuada ante nuevos datos**. Es por ello que es recomendable\n",
    "**no sobre-ajustar el modelo a los datos**, escogiendo una cantidad\n",
    "de parámetros $M$ apropiada. Para eliminar la relación entre la cantidad\n",
    "de datos y la cantidad de parámetros, se utilizan **modelos\n",
    "regularizados**.\n",
    "\n",
    "En resumen: \n",
    "- La regresión polinomial es una forma de análisis de regresión en la que la relación entre las variables independientes y las variables dependientes se modelan por medio de un polinomio de grado n.\n",
    "\n",
    "- Los modelos de regresión polinomial generalmente se ajustan con el método de mínimos cuadrados.\n",
    "\n",
    "- El comportamiento de una variable dependiente puede explicarse por una relación aditiva lineal, o curvilínea, entre la variable dependiente y un conjunto de k variables independientes (xi, i=1 a k).\n",
    "\n",
    "- La relación entre la variable dependiente y cualquier variable independiente es lineal o curvilínea (específicamente polinomial).\n",
    "\n",
    "- Las variables independientes son independientes entre sí.\n",
    "\n",
    "- A medida que se aumenta el grado del polinomio, tiende a aumentar el rendimiento del modelo. Sin embargo, aumentar los grados del modelo también aumenta el riesgo de sobreajuste o ajuste insuficiente de los datos.\n"
   ]
  },
  {
   "cell_type": "code",
   "execution_count": 1,
   "metadata": {},
   "outputs": [],
   "source": [
    "## Ejemplo\n",
    "## bibliotecas necesarias\n",
    "\n",
    "import numpy as np\n",
    "import matplotlib.pyplot as plt\n",
    "from sklearn.model_selection import train_test_split\n",
    "from sklearn.linear_model import LinearRegression\n",
    "from sklearn.preprocessing import PolynomialFeatures\n",
    "from sklearn.metrics import r2_score"
   ]
  },
  {
   "cell_type": "code",
   "execution_count": 2,
   "metadata": {},
   "outputs": [
    {
     "data": {
      "text/plain": [
       "Text(0, 0.5, 'Y')"
      ]
     },
     "execution_count": 2,
     "metadata": {},
     "output_type": "execute_result"
    },
    {
     "data": {
      "image/png": "[encoded data removed]",
      "text/plain": [
       "<Figure size 640x480 with 1 Axes>"
      ]
     },
     "metadata": {},
     "output_type": "display_data"
    }
   ],
   "source": [
    "# Crear los datos con un error gausiano\n",
    " \n",
    "X = 8 * np.random.rand(300, 1) - 5\n",
    "y = 0.9 * X**2 + 0.97*X + np.random.randn(300, 1) \n",
    "\n",
    "\n",
    "# Graficar los datos\n",
    "plt.plot(X, y, 'b.')\n",
    "plt.xlabel(\"X\")\n",
    "plt.ylabel(\"Y\")"
   ]
  },
  {
   "cell_type": "markdown",
   "metadata": {},
   "source": [
    "### El coeficiente de determinación $R²$\n",
    "\n",
    "Este coeficiente determina la calidad del modelo para replicar los resultados, y la proporción de variación de los resultados que puede explicarse por el modelo. **$R²$ representa la proporción de la variación en la variable dependiente que es predecible a partir de la(s) variable(s) independiente(s)**.\n",
    "\n",
    "El valor de $R²$ varía de 0 a 1, donde 0 significa que no hay relación entre las variables y 1 significa una relación del 100%."
   ]
  },
  {
   "cell_type": "code",
   "execution_count": 3,
   "metadata": {},
   "outputs": [
    {
     "name": "stdout",
     "output_type": "stream",
     "text": [
      "R2 en regresión lineal 0.2700751113032742\n"
     ]
    }
   ],
   "source": [
    "# train_test_split, particiona los datos\n",
    "x_train, x_test, y_train, y_test = train_test_split(X, y, test_size=0.2, random_state=2)\n",
    "\n",
    "# Se realiza la regresión lineal\n",
    "lr = LinearRegression()\n",
    "lr.fit(x_train, y_train)\n",
    "\n",
    "# Se realiza una predicción según la regresión realizada\n",
    "y_pred = lr.predict(x_test)\n",
    "\n",
    "# se comparan las aproximaciones por medio de un error.\n",
    "# Calculando la proporción de variación de la variable dependiente \n",
    "# que es predecible a partir de la(s) variable(s) independiente(s)\n",
    "print(\"R2 en regresión lineal\", r2_score(y_test, y_pred))\n"
   ]
  },
  {
   "cell_type": "code",
   "execution_count": 4,
   "metadata": {},
   "outputs": [
    {
     "data": {
      "image/png": "[encoded data removed]",
      "text/plain": [
       "<Figure size 640x480 with 1 Axes>"
      ]
     },
     "metadata": {},
     "output_type": "display_data"
    }
   ],
   "source": [
    "plt.plot(x_train, lr.predict(x_train), color=\"r\")\n",
    "plt.plot(X, y, \"b.\")\n",
    "plt.xlabel(\"X\")\n",
    "plt.ylabel(\"Y\")\n",
    "plt.show()"
   ]
  },
  {
   "cell_type": "code",
   "execution_count": 8,
   "metadata": {},
   "outputs": [
    {
     "name": "stdout",
     "output_type": "stream",
     "text": [
      "R2 regresión polinomial 0.9633721400817279\n"
     ]
    }
   ],
   "source": [
    "# Regresión polinomial \n",
    "\n",
    "# regresión polinomial para polinomio grado bajo\n",
    "poly = PolynomialFeatures(degree=2, include_bias=True)\n",
    "x_train_trans = poly.fit_transform(X)\n",
    "\n",
    "# aplicación de la regresión\n",
    "lr = LinearRegression()\n",
    "lr.fit(x_train_trans, y)\n",
    "\n",
    "# resultados de la aproximación\n",
    "y_pred = lr.predict(x_train_trans)\n",
    "print(\"R2 regresión polinomial\", r2_score(y, y_pred))\n"
   ]
  },
  {
   "cell_type": "code",
   "execution_count": 9,
   "metadata": {},
   "outputs": [
    {
     "data": {
      "image/png": "[encoded data removed]",
      "text/plain": [
       "<Figure size 640x480 with 1 Axes>"
      ]
     },
     "metadata": {},
     "output_type": "display_data"
    }
   ],
   "source": [
    "# definición de los puntos de predicción\n",
    "X_new = np.linspace(-5, 3, 200).reshape(200, 1)\n",
    "X_new_poly = poly.transform(X_new)\n",
    "y_new = lr.predict(X_new_poly)\n",
    "\n",
    "# graficación de los datos\n",
    "plt.plot(X_new, y_new, \"r-\", linewidth=2, label=\"Modelo\")\n",
    "plt.plot(x_train, y_train, \"b.\",label='Puntos generados')\n",
    "plt.plot(x_test, y_test, \"g.\",label='Puntos utilizados para pruebas')\n",
    "plt.xlabel(\"X\")\n",
    "plt.ylabel(\"y\")\n",
    "plt.legend()\n",
    "plt.show()"
   ]
  },
  {
   "cell_type": "markdown",
   "metadata": {},
   "source": [
    "### Modelo con sobreajuste \n",
    "\n",
    "Observe como R2 tiende a bajar al evaluarse el modelo en los datos de prueba.\n"
   ]
  },
  {
   "cell_type": "code",
   "execution_count": 10,
   "metadata": {},
   "outputs": [
    {
     "name": "stdout",
     "output_type": "stream",
     "text": [
      "R2 regresión polinomial 0.9494194329180285\n"
     ]
    },
    {
     "data": {
      "image/png": "[encoded data removed]",
      "text/plain": [
       "<Figure size 640x480 with 1 Axes>"
      ]
     },
     "metadata": {},
     "output_type": "display_data"
    }
   ],
   "source": [
    "# Modelo con sobreajuste, observe el R2 que tiende a bajar en los datos de prueba.\n",
    "\n",
    "# regresión polinomial para polinomio grado mayor\n",
    "poly = PolynomialFeatures(degree=25, include_bias=True)\n",
    "x_train_trans = poly.fit_transform(x_train)\n",
    "x_test_trans = poly.transform(x_test)\n",
    "\n",
    "# aplicación de la regresión\n",
    "lr = LinearRegression()\n",
    "lr.fit(x_train_trans, y_train)\n",
    "\n",
    "# resultados de la aproximación\n",
    "y_pred = lr.predict(x_test_trans)\n",
    "print(\"R2 regresión polinomial\", r2_score(y_test, y_pred))\n",
    "\n",
    "# definición de los puntos de predicción\n",
    "X_new = np.linspace(-5, 3, 200).reshape(200, 1)\n",
    "X_new_poly = poly.transform(X_new)\n",
    "y_new = lr.predict(X_new_poly)\n",
    "\n",
    "# graficación de los datos\n",
    "plt.plot(X_new, y_new, \"r-\", linewidth=2, label=\"Prediccion del modelo\")\n",
    "plt.plot(x_train, y_train, \"b.\",label='Puntos originales')\n",
    "plt.plot(x_test, y_test, \"g.\",label='Puntos de prueba')\n",
    "plt.xlabel(\"X\")\n",
    "plt.ylabel(\"y\")\n",
    "plt.legend()\n",
    "plt.show()"
   ]
  },
  {
   "cell_type": "markdown",
   "metadata": {
    "colab_type": "text",
    "id": "MVvaYZkfrJvY"
   },
   "source": [
    "## Mínimos cuadrados regularizado\n",
    "\n",
    "El método de mínimos cuadrados regularizado es una forma de resolver problemas de regresión con mínimos cuadrados con una restricción adicional en la solución (la regularización). **La regularización fomenta modelos más simples que tienen valores de coeficiente más pequeños por medio de añadir un término de penalización al error y evitando así el sobreajuste del modelo**.\n",
    "\n",
    "La expresión de error regularizada agrega un término $\\frac{\\lambda}{2}\\left\\Vert \\vec{w}\\right\\Vert _{2}^{2}$\n",
    "con magnitud $\\ell=2$, para controlar la magnitud del vector de pesos\n",
    "$\\vec{w}$ y su dimensionalidad, de forma más simple:\n",
    "\n",
    "\\begin{equation}\n",
    "E(\\vec{w})=\\frac{1}{2}\\sum_{n=1}^{N}\\left\\{ y\\left(x_{n},\\vec{w}\\right)-t_{n}\\right\\} ^{2}+\\frac{\\lambda}{2}\\left\\Vert \\vec{w}\\right\\Vert ^{2}\n",
    "\\end{equation}\n",
    "\n",
    "\\begin{equation}\n",
    "E(\\vec{w})=\\frac{1}{2}\\sum_{n=1}^{N}\\left\\{ \\sum_{j=0}^{M}w_{j}x_{n}^{j}-t_{n}\\right\\} ^{2}+\\frac{\\lambda}{2}\\left\\Vert \\vec{w}\\right\\Vert ^{2}\n",
    "\\end{equation}\n",
    "\n",
    "En términos matriciales $E(\\vec{w})$, se define\n",
    "\n",
    "\\begin{equation}\n",
    "X=\\begin{bmatrix}1 & x_{1} & x_{1}^{2} & x_{1}^{3} & \\ldots & x_{1}^{M}\\\\\n",
    "1 & x_{2} & x_{2}^{2} & x_{2}^{3} & \\ldots & x_{2}^{M}\\\\\n",
    "1 & x_{3} & x_{3}^{2} & x_{3}^{3} & \\cdots & x_{3}^{M}\\\\\n",
    "\\vdots & \\vdots & \\vdots & \\vdots & \\ddots & \\vdots\\\\\n",
    "1 & x_{N} & x_{N}^{2} & x_{N}^{3} & \\ldots & x_{N}^{M}\n",
    "\\end{bmatrix},\n",
    "\\end{equation}\n",
    "\n",
    "\n",
    "para el caso del modelo polinomial, por lo que $X$ es de dimensiones\n",
    "$\\mathbb{R}^{N\\times M}$, $\\vec{t}$ de $\\mathbb{R}^{N\\times1}$\n",
    "y $\\vec{w}\\in\\mathbb{R}^{M\\times1}$ . Recordando además que la norma\n",
    "al cuadrado de un vector como $\\left\\Vert \\vec{w}\\right\\Vert ^{2}=\\vec{w}^{T}\\,\\vec{w}$.\n",
    "Se puede reescribir matricialmente la salida del modelo definido en\n",
    "la sección de ajuste de curvas como:\n",
    "\n",
    "\\begin{equation}\n",
    "y(X,\\vec{w})=X\\,\\vec{w}=\\begin{bmatrix}1 & x_{1} & x_{1}^{2} & x_{1}^{3} & \\ldots & x_{1}^{M}\\\\\n",
    "1 & x_{2} & x_{2}^{2} & x_{2}^{3} & \\ldots & x_{2}^{M}\\\\\n",
    "1 & x_{3} & x_{3}^{2} & x_{3}^{3} & \\cdots & x_{3}^{M}\\\\\n",
    "\\vdots & \\vdots & \\vdots & \\vdots & \\ddots & \\vdots\\\\\n",
    "1 & x_{N} & x_{N}^{2} & x_{N}^{3} & \\ldots & x_{N}^{M}\n",
    "\\end{bmatrix}\\,\\begin{bmatrix}w_{0}\\\\\n",
    "w_{1}\\\\\n",
    "\\vdots\\\\\n",
    "w_{M}\n",
    "\\end{bmatrix}=\\begin{bmatrix}\\sum_{m=0}^{M}w_{m}\\:x_{1}^{m}\\\\\n",
    "\\sum_{m=0}^{M}w_{m}\\:x_{2}^{m}\\\\\n",
    "\\sum_{m=0}^{M}w_{m}\\:x_{3}^{m}\\\\\n",
    "\\vdots\\\\\n",
    "\\sum_{m=0}^{M}w_{m}\\:x_{N}^{m}\n",
    "\\end{bmatrix},\n",
    "\\end{equation}\n",
    "\n",
    "y la ecuación con regularización es reescrita en términos matriciales:\n",
    "\n",
    "\\begin{equation}\n",
    "E\\left(\\vec{w}\\right)=\\frac{1}{2}\\left\\Vert X\\,\\vec{w}-\\vec{t}\\right\\Vert ^{2}+\\frac{\\lambda}{2}\\left\\Vert \\vec{w}\\right\\Vert ^{2}=\\frac{1}{2}\\left(X\\,\\vec{w}-\\vec{t}\\right)^{T}\\left(X\\,\\vec{w}-\\vec{t}\\right)+\\frac{\\lambda}{2}\\vec{w}^{T}\\,\\vec{w}\n",
    "\\end{equation}\n",
    "\n",
    "\\begin{equation}\n",
    "\\Rightarrow E\\left(\\vec{w}\\right)=\\frac{1}{2}\\left(\\vec{w}^{T}X^{T}-\\vec{t}^{T}\\right)\\left(X\\,\\vec{w}-\\vec{t}\\right)+\\frac{\\lambda}{2}\\vec{w}^{T}\\,\\vec{w}\n",
    "\\end{equation}\n",
    "\n",
    "\\begin{equation}\n",
    "\\Rightarrow E\\left(\\vec{w}\\right)=\\frac{1}{2}\\vec{w}^{T}X^{T}X\\,\\vec{w}-\\frac{1}{2}\\vec{w}^{T}X^{T}\\vec{t}-\\frac{1}{2}\\vec{t}^{T}X\\,\\vec{w}+\\frac{1}{2}\\vec{t}^{T}\\,\\vec{t}+\\frac{\\lambda}{2}\\vec{w}^{T}\\,\\vec{w}\n",
    "\\end{equation}\n",
    "\n",
    "Calculando el gradiente de $\\vec{w}$ e igualando a cero, para encontrar\n",
    "el mínimo error, para lo cual recordamos las reglas básicas del cálculo\n",
    "matricial: \n",
    "\n",
    "\n",
    "  1) $\\nabla_{\\vec{x}}\\left(\\vec{x}^{T}\\vec{x}\\right)=2\\,\\vec{x}$\n",
    "  2) $\\nabla_{\\vec{x}}\\left(\\left(A\\,\\vec{x}\\right)^{T}\\left(A\\,\\vec{x}\\right)\\right)=2\\,A\\,\\vec{x}$\n",
    "  3)  $\\nabla_{\\vec{x}}\\left(\\vec{b}^{T}\\vec{x}\\right)=\\vec{b}$\n",
    "  4)  $\\nabla_{\\vec{x}}\\left(\\vec{x}^{T}\\vec{b}^{T}\\right)=\\nabla_{\\vec{x}}\\left(\\vec{b}\\,\\vec{x}\\right)^{T}=\\vec{b}^{T}$\n",
    "  5) $\\nabla_{\\vec{x}}\\left(\\vec{x}^{T}\\,A\\,\\vec{x}\\right)=2\\,A\\,\\vec{x}$\n",
    "\n",
    "\n",
    "la ecuación matricial se convierte en:\n",
    "\n",
    "\\begin{equation}\n",
    "\\nabla_{\\vec{w}}\\left(E\\left(\\vec{w}\\right)\\right)=0\\Rightarrow\\nabla_{\\vec{w}}\\left(\\frac{1}{2}\\vec{w}^{T}X^{T}X\\,\\vec{w}-\\frac{1}{2}\\vec{w}^{T}X^{T}\\vec{t}-\\frac{1}{2}\\vec{t}^{T}X\\,\\vec{w}+\\frac{\\lambda}{2}\\vec{w}^{T}\\,\\vec{w},\\right)=0,\n",
    "\\end{equation}\n",
    "\n",
    "Para evaluar el gradiente observe que:\n",
    "- En el primer término se puede utilizar la regla 5)\n",
    "- Para el segundo y el tercer término: \n",
    "Observe con atención los términos $\\vec{w}^{T}\\,X^{T}\\vec{t}$ y $\\vec{t}^{T}X\\:\\vec{w}$. El primer término corresponde a un producto de matrices con dimensiones $1\\times n\\,n\\times m\\,m\\times1$ lo cual resulta en un escalar, al igual que el segundo término asociado al producto $1\\times m\\,m\\times n\\,n\\times1$.\n",
    "\n",
    "Esto quiere decir que al tomar la transpuesta del terecer término por ejemplo, el escalar sigue siendo el mismo, por lo que entonces el tercer término es igual a $\\frac{1}{2}\\vec{w}^{T}X^{T}\\:\\vec{t}$,\n",
    "\n",
    "Con lo que podemos reescribir la ecuación como:\n",
    "\n",
    "\\begin{equation}\n",
    "\\nabla_{\\vec{w}}\\left(E\\left(\\vec{w}\\right)\\right)=0\\Rightarrow\\nabla_{\\vec{w}}\\left(\\frac{1}{2}\\vec{w}^{T}X^{T}X\\,\\vec{w}-\\vec{w}^{T}X^{T}\\vec{t}+\\frac{\\lambda}{2}\\vec{w}^{T}\\,\\vec{w},\\right)=0,\n",
    "\\end{equation}\n",
    "\n",
    "Entonces el gradiente corresponde a (utilizando en el último término la regla 1):\n",
    "\n",
    "\\begin{equation}\n",
    "\\nabla_{\\vec{w}}\\left(E\\left(\\vec{w}\\right)\\right)=X^{T}X\\,\\vec{w}-X^{T}\\vec{t}+\\lambda\\vec{w}=0,\n",
    "\\end{equation}\n",
    "\n",
    "\n",
    "que equivale a:\n",
    "\n",
    "\\begin{equation}\n",
    "\\left(X^{T}X+\\lambda I\\right)\\vec{w}=X^{T}\\vec{t},\n",
    "\\end{equation}\n",
    "\n",
    "para finalmente obtener la expresión de $\\vec{w}$:\n",
    "\\begin{equation}\n",
    "\\vec{w}=\\left(X^{T}X+\\lambda I\\right)^{-1}X^{T}\\vec{t}.\n",
    "\\end{equation}\n"
   ]
  },
  {
   "cell_type": "markdown",
   "metadata": {
    "colab_type": "text",
    "id": "Jqf-Y8C83dyw"
   },
   "source": [
    "## Preprocesamiento de las muestras\n",
    "Para evitar problemas de *castigos* en el término de regularización dependientes de la\n",
    "escala de las muestras en las $N$ observaciones $\\vec{x}=\\left[x_{1},...,.x_{N}\\right]^{T}$\n",
    ", se recomienda normalizar las muestras respecto a la desviación estándar,\n",
    "de modo que:\n",
    "\n",
    "\\begin{equation}\n",
    "\\tilde{x}_{i}=\\frac{x_{i}}{\\sqrt{\\frac{1}{N-1}\\sum_{j=0}^{^{N-1}}\\left(x_{j}-\\overline{x}\\right)^{2}}}\n",
    "\\end{equation}\n",
    "\n",
    "En estadística, usualmente el modelo se define de la siguiente forma:\n",
    "\n",
    "\\begin{equation}\n",
    "y(x,\\vec{w})=\\beta+w_{1}x+w_{2}x^{2}+\\ldots+w_{M}x^{M}=\\sum_{j=1}^{M}w_{j}x^{j}+\\beta\n",
    "\\end{equation}\n",
    "\n",
    "donde $\\beta$ se le llama el **sesgo** o ***bias***."
   ]
  },
  {
   "cell_type": "markdown",
   "metadata": {
    "colab_type": "text",
    "id": "BgtuLj234IBa"
   },
   "source": [
    "# Regresión multivariable y selección de características por el método empotrado\n",
    "\n",
    "En la regresión multivariable, se define cada muestra como un vector\n",
    "de $D$ dimensiones, componentes o características de forma que una\n",
    "muestra $i$ está dada por $\\vec{x}_{i}\\in\\mathbb{R}^{D}$. De esta\n",
    "forma, la salida del modelo $y$ viene dada por:\n",
    "\n",
    "\\begin{equation}\n",
    "y\\left(\\vec{x},W\\right)=\\sum_{i=0}^{D-1}\\sum_{j=0}^{M}x_{i}^{j}W_{i,j}=\\sum_{i=0}^{D-1}\\sum_{j=1}^{M}x_{i}^{j}W_{i,j}+\\beta\n",
    "\\end{equation}\n",
    "\n",
    "donde  los pesos a estimar pasan a estar representados en\n",
    "la matriz $W\\in\\mathbb{R}^{D\\times M}$ , y se le asigna entonces\n",
    "un peso distinto a cada dimensión y a cada componente del polinomio\n",
    "de grado $M$. Observe como entonces el aumentar la dimensionalidad\n",
    "$D$ de cada muestra, aumenta la cantidad de parámetros a estimar,\n",
    "y aumenta por ende el riesgo de sobreajuste, lo cual se corresponde\n",
    "con la **maldición de la dimensionalidad**.\n",
    "\n",
    "**Observe que por ejemplo**, si se desea implementar un modelo lineal\n",
    "($M=1$) para una muestra de $D=3$, en este caso, la expresión desarrollada\n",
    "del modelo viene dada por:\n",
    "\n",
    "\\begin{equation}\n",
    "y\\left(\\vec{x},W\\right)=\\sum_{i=0}^{2}\\sum_{j=0}^{1}x_{i}^{j}W_{i,j}=W_{0,0}+x_{0}W_{0,1}+W_{1,0}+x_{1}W_{1,1}+W_{2,0}+x_{2}W_{2,1}=\\beta+x_{0}W_{0,1}+x_{1}W_{1,1}+x_{2}W_{2,1}\n",
    "\\end{equation}\n",
    "\n",
    "con el sesgo definido por $\\beta=W_{0,0}+W_{1,0}+W_{2,0}$, con lo\n",
    "que la cantidad total de parámetros a estimar viene dada por $D\\times M+1$. \n",
    "\n",
    "Para la **selección de características** o dimensiones más importantes,\n",
    "es usual utilizar modelos sencillos y evaluar su error en un conjunto\n",
    "de datos. Por ejemplo se puede seleccionar para muestras $\\vec{x}_{i}\\in\\mathbb{R}^{D}$\n",
    "la búsqueda de los parámetros de un modelo de orden $M=1$, con lo\n",
    "que entonces el modelo se define como:\n",
    "\n",
    "\\begin{equation}\n",
    "y\\left(\\vec{x},W\\right)=\\sum_{i=0}^{D-1}x_{i}W_{i}+\\beta\n",
    "\\end{equation}\n",
    "\n",
    "**en la regularización LASSO, como se verá más adelante, es posible interpretar el resultado para posibilitar la eliminación de características que aportan poco valor al modelo**."
   ]
  },
  {
   "cell_type": "markdown",
   "metadata": {
    "colab_type": "text",
    "id": "2Gam0SeG7A_0"
   },
   "source": [
    "## Métodos de achicamiento\n",
    "\n",
    "La regularización generalizada con la norma $\\ell=p$:\n",
    "\n",
    "\\begin{equation}\n",
    "E(\\vec{w})=\\frac{1}{2}\\sum_{n=1}^{N}\\left\\{ y\\left(\\vec{x}_{n},\\vec{w}\\right)-t_{n}\\right\\} ^{2}+\\frac{\\lambda}{2}\\left\\Vert \\vec{w}\\right\\Vert _{p}^{2}\n",
    "\\end{equation}\n",
    "\n",
    "agrega el término de regularización $\\frac{\\lambda}{2}\\left\\Vert \\vec{w}\\right\\Vert _{p}^{2}$\n",
    "el cuál es también referido en el aprendizaje estadístico como la\n",
    "**penalización de achicamiento** o *shrinkage penalty*.\n"
   ]
  },
  {
   "cell_type": "markdown",
   "metadata": {
    "colab_type": "text",
    "id": "G6eHcLXx8DOK"
   },
   "source": [
    "### Regresión Ridge\n",
    "\n",
    "La regresión Ridge implementa una penalización de achicamiento $\\ell=2$,\n",
    "con $\\vec{w}\\in\\mathbb{R}^{M-1}$\n",
    "\n",
    "\\begin{equation}\n",
    "E(\\vec{w})=\\frac{1}{2}\\sum_{n=1}^{N}\\left\\{ y\\left(x_{n},\\vec{w}\\right)-t_{n}\\right\\} ^{2}+\\frac{\\lambda}{2}\\left\\Vert \\vec{w}\\right\\Vert _{2}^{2}\n",
    "\\end{equation}\n",
    "\n",
    "donde en este caso el sesgo $\\beta$ no es regularizado, de estar\n",
    "forma el sesgo queda libre e independiente del coeficiente de regularización\n",
    "$\\lambda$, por lo que usualmente cuando $\\lambda\\rightarrow\\infty$,\n",
    "el sesgo tiende también a crecer $\\beta\\rightarrow\\infty$. Cuando\n",
    "$\\lambda\\rightarrow\\infty$ la flexibilidad o varianza del modelo\n",
    "$y\\left(x_{n},\\vec{w}\\right)$ tiende a decrecer, lo que se conoce\n",
    "como el **intercambio entre varianza y sesgo**. Una cantidad\n",
    "alta de parámetros $M\\rightarrow\\infty$ hará que **todos los\n",
    "coeficientes se achiquen** con un $\\lambda$ adecuado, por lo que la\n",
    "regresión Ridge da un peso similar a todas las muestras $x$. "
   ]
  },
  {
   "cell_type": "markdown",
   "metadata": {
    "colab_type": "text",
    "id": "p-zIxcbM8gyD"
   },
   "source": [
    "### Regresión por valor absoluto menor para selección y achicamiento o LASSO\n",
    "\n",
    "En la regresión LASSO se implementa una regularización con norma $\\ell=1$\n",
    "($\\left\\Vert \\vec{w}\\right\\Vert _{1}=\\left|\\vec{w}\\right|$). La regresión\n",
    "LASSO (*least absolute shrinkage and selection operator*) permite\n",
    "poner en cero los coeficientes de las dimensiones o características\n",
    "en cada muestra $\\vec{x}$, lo cual permite seleccionar un subconjunto\n",
    "de dimensiones o características específicas. Para ello usaremos el\n",
    "modelo de orden $M=1$ comentado anteriormente,\n",
    "\n",
    "\\begin{equation}\n",
    "y\\left(\\vec{x},W\\right)=\\sum_{i=0}^{D-1}x_{i}W_{i}+\\beta\n",
    "\\end{equation}\n",
    "\n",
    "con regularización por norma $\\ell=1$:\n",
    "\n",
    "\\begin{equation}\n",
    "E(\\vec{w})=\\frac{1}{2}\\sum_{n=1}^{N}\\left\\{ y\\left(\\vec{x}_{n},\\vec{w}\\right)-t_{n}\\right\\} ^{2}+\\lambda\\left|\\vec{w}\\right|\n",
    "\\end{equation}\n",
    "\n",
    "de forma similar con Ridge, LASSO, cuando $\\lambda\\rightarrow\\infty$,\n",
    "los coeficientes se achican. Sin embargo, en el caso de LASSO, la\n",
    "norma $\\ell=1$ tiene el **efecto de forzar a algunos de los\n",
    "pesos a ser exactamente cero** o a ser muy pequeños respecto a los\n",
    "demás coeficientes, cuando $\\lambda$ es lo suficientemente grande.\n",
    "Es por esto que LASSO es utilizado para la **selección de características**.\n",
    "Esto facilita la interpretación de los modelos generados por LASSO,\n",
    "respecto a los modelos generados por Ridge, pues los pesos que tienden\n",
    "a cero indican características que contribuyen poco al modelo. "
   ]
  },
  {
   "cell_type": "code",
   "execution_count": 22,
   "metadata": {
    "colab": {
     "base_uri": "https://localhost:8080/",
     "height": 1000
    },
    "colab_type": "code",
    "id": "97M0T3dtYRH8",
    "outputId": "b3213c07-5cda-4086-d655-692007f61fe7"
   },
   "outputs": [],
   "source": [
    "import numpy as np\n",
    "from sklearn import linear_model\n",
    "from numpy import genfromtxt\n",
    "from sklearn.preprocessing import MinMaxScaler\n",
    "from sklearn.linear_model import LassoCV\n",
    "from sklearn.model_selection import RepeatedKFold\n",
    "from sklearn.linear_model import RidgeCV\n",
    "#from numpy import arange"
   ]
  },
  {
   "cell_type": "code",
   "execution_count": 23,
   "metadata": {
    "colab": {
     "base_uri": "https://localhost:8080/",
     "height": 1000
    },
    "colab_type": "code",
    "id": "97M0T3dtYRH8",
    "outputId": "b3213c07-5cda-4086-d655-692007f61fe7"
   },
   "outputs": [
    {
     "name": "stdout",
     "output_type": "stream",
     "text": [
      "Dimensiones del conjunto de datos: (500, 18)\n",
      "500\n",
      "[[1.         1.         0.5        1.         0.5        0.09090909\n",
      "  0.         0.01394791 0.00407403 0.01476885 0.0088347  0.00758725\n",
      "  0.00226775 0.02741117 0.02518892 0.01075269 0.01527456 0.02151899]\n",
      " [1.         1.         0.5        1.         0.33333333 0.40909091\n",
      "  0.         0.05671264 0.01665928 0.12654024 0.11944518 0.08421851\n",
      "  0.01006353 0.11472081 0.25166018 0.01344086 0.02513534 0.03670886]\n",
      " [1.         1.         1.         1.         0.33333333 0.09090909\n",
      "  0.         0.01206711 0.00342702 0.01468146 0.00918809 0.00733434\n",
      "  0.00202752 0.02473643 0.02816579 0.         0.01276102 0.01772152]\n",
      " [1.         1.         0.5        1.         0.16666667 0.40909091\n",
      "  1.         0.27679453 0.0787781  0.19243205 0.06899903 0.05614568\n",
      "  0.05460296 0.62108551 0.31531944 0.15591398 0.30394432 0.18607595]\n",
      " [1.         1.         0.5        1.         0.16666667 0.09090909\n",
      "  0.         0.03886996 0.01173638 0.05785196 0.03542716 0.02888214\n",
      "  0.00511259 0.05786802 0.08861919 0.05107527 0.06283836 0.06202532]]\n",
      "[ 100.  164.   80. 1777.  393.]\n"
     ]
    }
   ],
   "source": [
    "my_data = genfromtxt('dataset_Facebook.csv', delimiter=';',filling_values=0.0,skip_header=1)\n",
    "\n",
    "print(\"Dimensiones del conjunto de datos:\", my_data.shape)\n",
    "\n",
    "# información conjunto de datos\n",
    "# https://archive.ics.uci.edu/ml/datasets/Facebook+metrics#\n",
    "X = my_data[:,0:-1]\n",
    "\n",
    "transformer = MinMaxScaler().fit(X)\n",
    "X = transformer.transform(X)\n",
    "\n",
    "cantidad_muestras = len(my_data)\n",
    "bias = np.ones((cantidad_muestras,1))\n",
    "X = np.append(bias,X, axis=1)\n",
    "y = my_data[:,-1]\n",
    "print(cantidad_muestras)\n",
    "print(X[0:5])\n",
    "print(y[0:5])"
   ]
  },
  {
   "cell_type": "markdown",
   "metadata": {},
   "source": [
    "### Regresión lineal"
   ]
  },
  {
   "cell_type": "code",
   "execution_count": 24,
   "metadata": {
    "colab": {
     "base_uri": "https://localhost:8080/",
     "height": 1000
    },
    "colab_type": "code",
    "id": "97M0T3dtYRH8",
    "outputId": "b3213c07-5cda-4086-d655-692007f61fe7"
   },
   "outputs": [
    {
     "name": "stdout",
     "output_type": "stream",
     "text": [
      "\n",
      "\n",
      "Regresión lineal\n",
      "Coeficientes:  [ 0.00000000e+00  3.80486493e-13 -7.66141954e-13  4.81602184e-13\n",
      " -2.15165893e-13  1.29279656e-12 -1.52878544e-13 -4.83615754e-12\n",
      "  1.10527680e-11 -1.16345943e-11  1.61013554e-11 -1.22172665e-13\n",
      " -1.31580102e-11 -5.16475423e-13 -2.85369502e-12  3.72000000e+02\n",
      "  5.17200000e+03  7.90000000e+02]\n",
      "Score:  1.0\n",
      "Intersección o término independiente en el modelo lineal:  -3.694822225952521e-13\n"
     ]
    }
   ],
   "source": [
    "print(\"\\n\")\n",
    "print( \"Regresión lineal\")\n",
    "reg = linear_model.LinearRegression().fit(X, y)\n",
    "print( \"Coeficientes: \", reg.coef_)\n",
    "print( \"Score: \", reg.score(X, y) )\n",
    "print( \"Intersección o término independiente en el modelo lineal: \", reg.intercept_ )\n"
   ]
  },
  {
   "cell_type": "markdown",
   "metadata": {},
   "source": [
    "### Regresión Lasso"
   ]
  },
  {
   "cell_type": "code",
   "execution_count": 25,
   "metadata": {
    "colab": {
     "base_uri": "https://localhost:8080/",
     "height": 1000
    },
    "colab_type": "code",
    "id": "97M0T3dtYRH8",
    "outputId": "b3213c07-5cda-4086-d655-692007f61fe7"
   },
   "outputs": [
    {
     "name": "stdout",
     "output_type": "stream",
     "text": [
      "\n",
      "\n",
      "Lasso\n",
      "Cantidad de valores en X:  9000\n",
      "Score:  0.9993653505262751\n",
      "Coeficientes:  [ 0.00000000e+00  0.00000000e+00  3.43374046e-01 -0.00000000e+00\n",
      " -0.00000000e+00 -0.00000000e+00  0.00000000e+00  0.00000000e+00\n",
      "  0.00000000e+00  0.00000000e+00  0.00000000e+00  0.00000000e+00\n",
      "  0.00000000e+00  9.29572306e+00  0.00000000e+00  3.08956496e+02\n",
      "  5.20065472e+03  6.31743717e+02]\n",
      "Intersección:  4.399021541527162\n"
     ]
    },
    {
     "name": "stderr",
     "output_type": "stream",
     "text": [
      "/home/mmora/anaconda3/envs/ml_env/lib/python3.9/site-packages/sklearn/linear_model/_base.py:148: FutureWarning: 'normalize' was deprecated in version 1.0 and will be removed in 1.2. Please leave the normalize parameter to its default value to silence this warning. The default behavior of this estimator is to not do any normalization. If normalization is needed please use sklearn.preprocessing.StandardScaler instead.\n",
      "  warnings.warn(\n"
     ]
    }
   ],
   "source": [
    "print(\"\\n\")\n",
    "print(\"Lasso\")\n",
    "reg = linear_model.Lasso(alpha=0.5, normalize=False).fit(X, y)\n",
    "print(\"Cantidad de valores en X: \", X.size)\n",
    "print( \"Score: \", reg.score(X, y) )\n",
    "print( \"Coeficientes: \", reg.coef_ )\n",
    "print( \"Intersección: \", reg.intercept_ )"
   ]
  },
  {
   "cell_type": "markdown",
   "metadata": {},
   "source": [
    "### ¿Cómo sabemos cuál valor de alpha utilizar? no sabemos. \n",
    "\n",
    "Es una buena práctica probar un conjunto de configuraciones diferentes y descubrir qué funciona mejor para nuestro conjunto de datos. Un enfoque puede ser probar valores entre 0,01 y 1,0 con incrementos de 0,01. "
   ]
  },
  {
   "cell_type": "code",
   "execution_count": 26,
   "metadata": {},
   "outputs": [
    {
     "name": "stdout",
     "output_type": "stream",
     "text": [
      "alpha: 0.010000\n"
     ]
    }
   ],
   "source": [
    "# define model evaluation method\n",
    "cv = RepeatedKFold(n_splits=10, n_repeats=10, random_state=1)\n",
    "\n",
    "# LassCV Lasso linear model with iterative fitting along a regularization path.\n",
    "model = LassoCV(alphas=np.arange(0.01, 1, 0.01), cv=cv, n_jobs=-1)\n",
    "# fit model\n",
    "model.fit(X, y)\n",
    "\n",
    "# summarize chosen configuration\n",
    "print('alpha: %f' % model.alpha_)"
   ]
  },
  {
   "cell_type": "code",
   "execution_count": 28,
   "metadata": {},
   "outputs": [
    {
     "name": "stdout",
     "output_type": "stream",
     "text": [
      "\n",
      "\n",
      "lasso\n",
      "Cantidad de valores en X:  9000\n",
      "Score:  0.9999997455054818\n",
      "Coeficientes:  [ 0.00000000e+00 -0.00000000e+00  4.28517996e-02 -0.00000000e+00\n",
      " -0.00000000e+00 -0.00000000e+00  0.00000000e+00  0.00000000e+00\n",
      "  0.00000000e+00  0.00000000e+00  0.00000000e+00  0.00000000e+00\n",
      "  0.00000000e+00  1.78795758e-01  0.00000000e+00  3.72563007e+02\n",
      "  5.17284985e+03  7.84834532e+02]\n",
      "Intersección:  0.09533094676226028\n"
     ]
    },
    {
     "name": "stderr",
     "output_type": "stream",
     "text": [
      "/home/mmora/anaconda3/envs/ml_env/lib/python3.9/site-packages/sklearn/linear_model/_base.py:148: FutureWarning: 'normalize' was deprecated in version 1.0 and will be removed in 1.2. Please leave the normalize parameter to its default value to silence this warning. The default behavior of this estimator is to not do any normalization. If normalization is needed please use sklearn.preprocessing.StandardScaler instead.\n",
      "  warnings.warn(\n"
     ]
    }
   ],
   "source": [
    "# Using the selected alpha\n",
    "print(\"\\n\")\n",
    "print(\"lasso\")\n",
    "reg = linear_model.Lasso(alpha=0.01, normalize=False).fit(X, y)\n",
    "print(\"Cantidad de valores en X: \", X.size)\n",
    "print( \"Score: \", reg.score(X, y) )\n",
    "print( \"Coeficientes: \", reg.coef_ )\n",
    "print( \"Intersección: \", reg.intercept_ )"
   ]
  },
  {
   "cell_type": "code",
   "execution_count": 29,
   "metadata": {
    "colab": {
     "base_uri": "https://localhost:8080/",
     "height": 1000
    },
    "colab_type": "code",
    "id": "97M0T3dtYRH8",
    "outputId": "b3213c07-5cda-4086-d655-692007f61fe7"
   },
   "outputs": [
    {
     "name": "stdout",
     "output_type": "stream",
     "text": [
      "\n",
      "\n",
      "Ridge\n",
      "Atributos X:  9000\n",
      "Score:  0.9724607224306105\n",
      "Coeficientes:  [   0.           12.02146877   48.80740796   30.23569159   -7.22696739\n",
      "    3.36316964    7.83570484  158.55591101 -176.10569885  489.12133\n",
      " -441.14425711  -30.39866117  -51.01613845  340.9764464    22.50490614\n",
      " 1195.57403132 2467.96416721 1516.33427078]\n",
      "Intersección:  -52.793124033929985\n"
     ]
    },
    {
     "name": "stderr",
     "output_type": "stream",
     "text": [
      "/home/mmora/anaconda3/envs/ml_env/lib/python3.9/site-packages/sklearn/linear_model/_base.py:148: FutureWarning: 'normalize' was deprecated in version 1.0 and will be removed in 1.2. Please leave the normalize parameter to its default value to silence this warning. The default behavior of this estimator is to not do any normalization. If normalization is needed please use sklearn.preprocessing.StandardScaler instead.\n",
      "  warnings.warn(\n"
     ]
    }
   ],
   "source": [
    "print(\"\\n\")\n",
    "print(\"Ridge\")\n",
    "reg = linear_model.Ridge(alpha=.5, normalize=False).fit(X, y)\n",
    "print(\"Atributos X: \", X.size)\n",
    "print( \"Score: \", reg.score(X, y) )\n",
    "print( \"Coeficientes: \", reg.coef_ )\n",
    "print( \"Intersección: \", reg.intercept_ )\n"
   ]
  },
  {
   "cell_type": "code",
   "execution_count": 30,
   "metadata": {},
   "outputs": [
    {
     "name": "stdout",
     "output_type": "stream",
     "text": [
      "alpha: 0.010000\n"
     ]
    }
   ],
   "source": [
    "# To select alpha\n",
    "\n",
    "# define model\n",
    "model = RidgeCV(alphas=np.arange(0.01, 1, 0.01))\n",
    "# fit model\n",
    "model.fit(X, y)\n",
    "# summarize chosen configuration\n",
    "print('alpha: %f' % model.alpha_)"
   ]
  },
  {
   "cell_type": "code",
   "execution_count": 31,
   "metadata": {},
   "outputs": [
    {
     "name": "stdout",
     "output_type": "stream",
     "text": [
      "\n",
      "\n",
      "Ridge\n",
      "Atributos X:  9000\n",
      "Score:  0.9998676887967263\n",
      "Coeficientes:  [ 0.00000000e+00  2.57565052e+00  2.47239166e+00 -1.11847996e+00\n",
      " -4.95206636e-01  4.14065868e-01  4.48927229e-01  8.13974286e+00\n",
      " -2.69967864e+01  8.02784006e+02 -7.99113155e+02  7.49846386e+00\n",
      "  1.50413652e+01  1.97542753e+01  7.49083026e+00  4.36890105e+02\n",
      "  4.65486276e+03  9.38828199e+02]\n",
      "Intersección:  -3.2887508442086357\n"
     ]
    },
    {
     "name": "stderr",
     "output_type": "stream",
     "text": [
      "/home/mmora/anaconda3/envs/ml_env/lib/python3.9/site-packages/sklearn/linear_model/_base.py:148: FutureWarning: 'normalize' was deprecated in version 1.0 and will be removed in 1.2. Please leave the normalize parameter to its default value to silence this warning. The default behavior of this estimator is to not do any normalization. If normalization is needed please use sklearn.preprocessing.StandardScaler instead.\n",
      "  warnings.warn(\n"
     ]
    }
   ],
   "source": [
    "# Using the selected alpha\n",
    "print(\"\\n\")\n",
    "print(\"Ridge\")\n",
    "reg = linear_model.Ridge(alpha=.01, normalize=False).fit(X, y)\n",
    "print(\"Atributos X: \", X.size)\n",
    "print( \"Score: \", reg.score(X, y) )\n",
    "print( \"Coeficientes: \", reg.coef_ )\n",
    "print( \"Intersección: \", reg.intercept_ )\n"
   ]
  },
  {
   "cell_type": "markdown",
   "metadata": {},
   "source": [
    "## Referencias y materiales adicionales\n",
    "\n",
    "Bishop, C. (2006). Pattern recognition and machine learning. springer. Recuperado de https://www.microsoft.com/en-us/research/uploads/prod/2006/01/Bishop-Pattern-Recognition-and-Machine-Learning-2006.pdf\n",
    "\n",
    "Abhigyan (2020). Understanding Polynomial Regression. Recuperado de https://medium.com/analytics-vidhya/understanding-polynomial-regression-5ac25b970e18\n",
    "\n",
    "Wilkinson, P. (2022). An Introduction Lasso and Ridge Regression using scitkit-learn. https://towardsdatascience.com/an-introduction-lasso-and-ridge-regression-using-scitkit-learn-d3427700679c\n",
    "\n",
    "\n",
    "Brownlee, J (2020). How to Develop LASSO Regression Models in Python. Recuperado de https://machinelearningmastery.com/lasso-regression-with-python/"
   ]
  },
  {
   "cell_type": "code",
   "execution_count": null,
   "metadata": {},
   "outputs": [],
   "source": []
  }
 ],
 "metadata": {
  "colab": {
   "collapsed_sections": [],
   "name": "ML_LACV_Ajuste de curvas.ipynb",
   "provenance": []
  },
  "kernelspec": {
   "display_name": "Python 3 (ipykernel)",
   "language": "python",
   "name": "python3"
  },
  "language_info": {
   "codemirror_mode": {
    "name": "ipython",
    "version": 3
   },
   "file_extension": ".py",
   "mimetype": "text/x-python",
   "name": "python",
   "nbconvert_exporter": "python",
   "pygments_lexer": "ipython3",
   "version": "3.9.15"
  }
 },
 "nbformat": 4,
 "nbformat_minor": 4
}
