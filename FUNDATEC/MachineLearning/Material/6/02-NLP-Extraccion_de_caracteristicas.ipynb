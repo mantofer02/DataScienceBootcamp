{
 "cells": [
  {
   "cell_type": "markdown",
   "id": "6de7338c",
   "metadata": {},
   "source": [
    "## ITCR - Escuela de Computación\n",
    "### Procesamiento de Lenguaje Natural (NLP) con Aprendizaje Automático\n",
    "\n",
    "### Extracción de características en textos\n",
    "\n",
    "**Profesora: María Auxiliadora Mora**"
   ]
  },
  {
   "cell_type": "markdown",
   "id": "d09297ca",
   "metadata": {},
   "source": [
    "#### Introducción \n",
    "\n",
    "La **extracción de características** consiste en obtener datos de los textos y **producir representaciones de características que sean apropiadas** para el tipo de tarea en NLP que se está tratando de realizar y el tipo de algoritmo que se tiene planificado utilizar.\n",
    "\n",
    "Este documento presenta algunos ejemplos de métodos de extracción de características basados en (Scikit-Learn,2022; Brownlee, 2017a; Brownlee, 2017b). \n",
    "\n",
    "Los contenidos de **los textos no pueden utilizarse directamente en algoritmos de NLP**, ya que la mayoría de ellos esperan vectores de características numéricas con un tamaño fijo en lugar de documentos de texto sin procesar con longitud variable.\n",
    "\n",
    "Debio a lo anterior, las bibliotecas de NLP proporcionan funcionalidad para extraer características numéricas del contenido del texto, entre estas:\n",
    "\n",
    "- **Tokenizar y asignar una identificación (un número entero) a cada token**, por ejemplo, en el caso del español se usan espacios en blanco y puntuación como separadores de tokens.\n",
    "\n",
    "- **Contar las ocurrencias** de cada token en cada documento.\n",
    "\n",
    "- Normalizar y **asignar un peso a las ocurrencias de tokens de acuerdo a su importancia**.\n",
    "\n",
    "\n",
    "Las características y muestras se definen de la siguiente forma:\n",
    "\n",
    "- Las **frecuencia de ocurrencia de token individual** (normalizada o no) se trata como una característica.\n",
    "\n",
    "- El **vector de todas las frecuencias de los tokens para un documento dado** se considera una muestra multivariada.\n",
    "\n",
    "Por lo tanto, **un corpus de documentos puede representarse mediante una matriz con una fila por documento y una columna por token que aparecen en el corpus** (o alrevés).\n",
    "\n",
    "Se denomina **vectorización** al proceso general de convertir una colección de documentos de texto en vectores de características numéricas. La estrategia específica, que consiste en tokenización, conteo y normalización, se denomina **Bolsa de Palabras o “Bolsa de n-gramas”**. Los documentos se describen por ocurrencias de palabras mientras se ignora por completo la información de posición relativa de las palabras en el documento. La siguiente imagen (fuente: datapeaker.com) es un ejemplo de esta representación.\n",
    "\n",
    "![](../imagenes/Feature_extraction.png)\n",
    "\n",
    "\n",
    "**Sparsity**\n",
    "La mayoría de los documentos generalmente utilizan un subconjunto muy pequeño de las palabras del corpus, entonces la matriz resultante va a contener muchos valores de características en ceros (típicamente más del 99% de ellas).\n",
    "\n",
    "Por ejemplo, una colección de 10,000 documentos de texto cortos (como correos electrónicos) utilizará un vocabulario con un tamaño en el orden de 100,000 palabras únicas en total, mientras que cada documento usará de 100 a 1000 palabras únicas individualmente.\n",
    "\n",
    "Para poder almacenar dicha matriz en la memoria pero también acelerar las operaciones algebraicas Matrix / Vector, las implementaciones generalmente utilizan una matrzi rala, como las implementaciones disponibles en el paquete Scipy.sparse.\n",
    "\n",
    "**Bolsa de palabras (Bag-of-Words o BOW)**\n",
    "El modelo de bolsa de palabras es una representación simplificada utilizada en NLP. En este modelo, un texto se representa como la bolsa de sus palabras, prescindiendo de la gramática e incluso del orden de las palabras pero manteniendo la multiplicidad. \n",
    "\n",
    "Una bolsa de palabras es una representación de texto que describe la ocurrencia de palabras dentro de un documento. Se sustenta en dos elementos:\n",
    "\n",
    "- Un vocabulario de palabras conocidas.\n",
    "- Una medida de la presencia de palabras conocidas.\n",
    "\n",
    "Por ejemplo, si se utiliza la clase CountVectorizer de la biblioteca de Scikit-Learn podemos extraer características de un corpus de la siguiente forma:"
   ]
  },
  {
   "cell_type": "code",
   "execution_count": 6,
   "id": "6052a31e",
   "metadata": {},
   "outputs": [
    {
     "name": "stdout",
     "output_type": "stream",
     "text": [
      "(4, 9)\n"
     ]
    }
   ],
   "source": [
    "from sklearn.feature_extraction.text import CountVectorizer\n",
    "\n",
    "vectorizer = CountVectorizer() \n",
    "\n",
    "corpus = ['This is the first document.',\n",
    "          'This is the second second document.',\n",
    "          'And the third one and the second.',\n",
    "          'Is this the first document?']\n",
    "X = vectorizer.fit_transform(corpus)\n",
    "print(X.shape)"
   ]
  },
  {
   "cell_type": "code",
   "execution_count": 2,
   "id": "3f5be1e9",
   "metadata": {},
   "outputs": [
    {
     "name": "stdout",
     "output_type": "stream",
     "text": [
      "['and', 'document', 'first', 'is', 'one', 'second', 'the', 'third', 'this']\n",
      "[[0 1 1 1 0 0 1 0 1]\n",
      " [0 1 0 1 0 2 1 0 1]\n",
      " [2 0 0 0 1 1 2 1 0]\n",
      " [0 1 1 1 0 0 1 0 1]]\n"
     ]
    },
    {
     "name": "stderr",
     "output_type": "stream",
     "text": [
      "/home/mmora/anaconda3/envs/ml_env/lib/python3.9/site-packages/sklearn/utils/deprecation.py:87: FutureWarning: Function get_feature_names is deprecated; get_feature_names is deprecated in 1.0 and will be removed in 1.2. Please use get_feature_names_out instead.\n",
      "  warnings.warn(msg, category=FutureWarning)\n"
     ]
    }
   ],
   "source": [
    "# Extraer los nombres de las características\n",
    "\n",
    "print(vectorizer.get_feature_names())\n",
    "\n",
    "# Extraer la matriz de caractarísticas\n",
    "print(X.toarray())"
   ]
  },
  {
   "cell_type": "markdown",
   "id": "e38b4d5d",
   "metadata": {},
   "source": [
    "**CountVectorizer**\n",
    "\n",
    "Convierte una colección de documentos de texto en una matriz que contiene el conteo de ocurrencias de tokens. Adicionalment, se puede realizar un preprocesmiento del texto.\n",
    "\n",
    "Por ejemplo, se puede realizar:\n",
    "\n",
    "- **strip_accents** {‘ascii’, ‘unicode’}, default=None. Elimina los acentos y realiza otra normalización de caracteres durante el preprocesamiento.  \n",
    "   - 'ascii' es un método rápido que solo funciona en caracteres que tienen un mapeo ASCII directo. \n",
    "   - 'unicode' es un método un poco más lento que \n",
    "        funciona con cualquier carácter.\n",
    "\n",
    "- **lowercase**: bool, default=True. Convierte todos los caracteres a minúsculas antes de tokenizar.\n",
    "   \n",
    "- **stop_words**, list, default=None\n",
    "   \n",
    "- **token_pattern**: permite utilizar expresiones regulares para definir qué es un token. El es default=r”(?u)\\b\\w\\w+\\b” Solo se usa si analyzer == 'word'. La expresión regular define token como dos o más caracteres alfanuméricos (la puntuación se ignora por completo y siempre se trata como un separador de token). (?u) corresponde a la bandera UNICODE.    \n"
   ]
  },
  {
   "cell_type": "code",
   "execution_count": 7,
   "id": "8d0ba4d3",
   "metadata": {},
   "outputs": [
    {
     "name": "stdout",
     "output_type": "stream",
     "text": [
      "5\n"
     ]
    }
   ],
   "source": [
    "# Posición en la lista de palabras\n",
    "print(vectorizer.vocabulary_.get('second'))"
   ]
  },
  {
   "cell_type": "code",
   "execution_count": 9,
   "id": "2498cdb2",
   "metadata": {},
   "outputs": [
    {
     "name": "stdout",
     "output_type": "stream",
     "text": [
      "[[0 0 0 0 0 0 0 0 0]]\n"
     ]
    }
   ],
   "source": [
    "# ¿Qué pasa con las palabras que no están en el corpus?\n",
    "print(vectorizer.transform(['Aparece algo nuevo en otro idioma.']).toarray())"
   ]
  },
  {
   "cell_type": "code",
   "execution_count": 10,
   "id": "a942ed53",
   "metadata": {},
   "outputs": [
    {
     "name": "stdout",
     "output_type": "stream",
     "text": [
      "['bi', 'grams', 'are', 'cool', 'bi grams', 'grams are', 'are cool']\n"
     ]
    }
   ],
   "source": [
    "# Para conservar parte de la información del orden de las palabras\n",
    "# se pueden extraer bi-gramas y palabras individuales.\n",
    "bigram_vectorizer = CountVectorizer(ngram_range=(1, 2),\n",
    "                                    token_pattern=r'\\b\\w+\\b', min_df=1)\n",
    "analyze = bigram_vectorizer.build_analyzer()\n",
    "print(analyze('Bi-grams are cool!'))"
   ]
  },
  {
   "cell_type": "code",
   "execution_count": 11,
   "id": "cbdca504",
   "metadata": {},
   "outputs": [
    {
     "name": "stdout",
     "output_type": "stream",
     "text": [
      "['and', 'and the', 'document', 'first', 'first document', 'is', 'is the', 'is this', 'one', 'one and', 'second', 'second document', 'second second', 'the', 'the first', 'the second', 'the third', 'third', 'third one', 'this', 'this is', 'this the']\n",
      "[[0 0 1 1 1 1 1 0 0 0 0 0 0 1 1 0 0 0 0 1 1 0]\n",
      " [0 0 1 0 0 1 1 0 0 0 2 1 1 1 0 1 0 0 0 1 1 0]\n",
      " [2 2 0 0 0 0 0 0 1 1 1 0 0 2 0 1 1 1 1 0 0 0]\n",
      " [0 0 1 1 1 1 0 1 0 0 0 0 0 1 1 0 0 0 0 1 0 1]]\n"
     ]
    }
   ],
   "source": [
    "# Procesamos el corpus con bi-gramas\n",
    "X_2 = bigram_vectorizer.fit_transform(corpus).toarray()\n",
    "\n",
    "# Extraer los nombres de las características\n",
    "print(bigram_vectorizer.get_feature_names())\n",
    "\n",
    "# Extraer la matriz de caractarísticas\n",
    "print(X_2)"
   ]
  },
  {
   "cell_type": "markdown",
   "id": "da4f32d4",
   "metadata": {},
   "source": [
    "**Stop words**\n",
    "Las 'stop words' son tokens poco informativos para representar el contenido de un texto y se pueden eliminar para evitar que se interpreten y se utilicen en procesos de predicción. A veces, sin embargo, pueden ser útiles para predecir el estilo de escritura o la personalidad del que escribe."
   ]
  },
  {
   "cell_type": "markdown",
   "id": "c73339e8",
   "metadata": {},
   "source": [
    "### Frecuencia de término - frecuencia inversa de documento (TF-IDF o Term-frequency Inverse document-frequency)\n",
    "\n",
    "En un corpus grande, algunas palabras van a estar muy bien representadas (ej., \"the\", \"a\", \"is\" en inglés), por lo que van a aportar muy poca información significativa sobre el contenido real del documento. Estas apalabras se conocen comunmente como stop words. Dependiendo de la actividades de NLP y sobre todo de los datos a utilizar, si se extraen características directamente del texto sin tratar de disminuir el efecto de las stop words, puede ser que los resultados no sean los deseados.\n",
    "\n",
    "El enfoque consiste en **penalizar las puntuaciones de palabras frecuentes como los artículos, conjunciones, preposiciones, entre otros**. En este enfoque:\n",
    "\n",
    "- **Frecuencia de términos**: es una puntuación de la frecuencia de la palabra en el documento actual.\n",
    "\n",
    "- **Frecuencia inversa de documento**: es una puntuación de cuán rara es la palabra en el corpus.\n",
    "\n",
    "Las puntuaciones tienen el efecto de resaltar palabras que son distintas (contienen información útil) en un documento determinado.\n",
    "\n",
    "**Es muy común usar la transformación TF-IDF**. Originalmente **el algoritmo fue desarrollado para la recuperación de información** (como una función de clasificación para los resultados de los motores de búsqueda) pero también ha sido aplicado a la clasificación y agrupación de documentos.\n",
    "\n",
    "$$ tf-idf(t,d) = tf(t,d) * idf(t) $$\n",
    "\n",
    "Que calcula la frecuencia del término $tf(t,d)$, es decir el número de veces que aparece un término en un documento determinado y esta se multiplica por el componente $idf(t)$, que se calcula como (de acuerdo con la implementación del Scikit-Learn de la función TfidfTransformer y TfidfVectorizer):\n",
    "\n",
    "$$idf(t)=\\log\\frac{1+n}{1+df(t)}+1$$\n",
    "\n",
    "Donde $n$ corresponde al número total de documentos, $df(t)$ es el número de documentos del conjunto que contienen el término. Los vectores Tf-idf resultantes luego se normalizan usando la norma Euclidiana:\n",
    "$$V_{norm}=\\frac{v}{||v||_{2}}$$\n",
    "\n"
   ]
  },
  {
   "cell_type": "code",
   "execution_count": 17,
   "id": "deac19c6",
   "metadata": {},
   "outputs": [],
   "source": [
    "from sklearn.feature_extraction.text import TfidfTransformer\n",
    "\n",
    "transformer = TfidfTransformer()"
   ]
  },
  {
   "cell_type": "code",
   "execution_count": 18,
   "id": "5bff7a27",
   "metadata": {},
   "outputs": [
    {
     "data": {
      "text/plain": [
       "array([[0.85151335, 0.        , 0.52433293],\n",
       "       [1.        , 0.        , 0.        ],\n",
       "       [1.        , 0.        , 0.        ],\n",
       "       [1.        , 0.        , 0.        ],\n",
       "       [0.55422893, 0.83236428, 0.        ],\n",
       "       [0.63035731, 0.        , 0.77630514]])"
      ]
     },
     "execution_count": 18,
     "metadata": {},
     "output_type": "execute_result"
    }
   ],
   "source": [
    "# En el siguiente ejemplo: \n",
    "\n",
    "counts = [[3, 0, 1],\n",
    "          [2, 0, 0],\n",
    "          [3, 0, 0],\n",
    "          [4, 0, 0],\n",
    "          [3, 2, 0],\n",
    "          [3, 0, 2]]\n",
    "\n",
    "tfidf = transformer.fit_transform(counts)\n",
    "\n",
    "tfidf.toarray()"
   ]
  },
  {
   "cell_type": "markdown",
   "id": "c49fabff",
   "metadata": {},
   "source": [
    "Como tf–idf se usa muy a menudo para extracción de características de texto, Scikit-Learn implementa una clase llamada TfidfVectorizer que combina todas las opciones de CountVectorizer y TfidfTransformer. Es decir:\n",
    "\n",
    "### TfidfVectorizer = CountVectorizer + TfidfTransformer"
   ]
  },
  {
   "cell_type": "code",
   "execution_count": 19,
   "id": "498db902",
   "metadata": {},
   "outputs": [
    {
     "name": "stdout",
     "output_type": "stream",
     "text": [
      "====================================\n",
      "['This is the first document.', 'This is the second second document.', 'And the third one and the second.', 'Is this the first document?']\n",
      "====================================\n",
      "[[0.         0.43877674 0.54197657 0.43877674 0.         0.\n",
      "  0.35872874 0.         0.43877674]\n",
      " [0.         0.3199074  0.         0.3199074  0.         0.79029857\n",
      "  0.26154526 0.         0.3199074 ]\n",
      " [0.72024192 0.         0.         0.         0.36012096 0.2839235\n",
      "  0.37585211 0.36012096 0.        ]\n",
      " [0.         0.43877674 0.54197657 0.43877674 0.         0.\n",
      "  0.35872874 0.         0.43877674]]\n",
      "['and', 'document', 'first', 'is', 'one', 'second', 'the', 'third', 'this']\n"
     ]
    },
    {
     "name": "stderr",
     "output_type": "stream",
     "text": [
      "/home/mmora/anaconda3/envs/ml_env/lib/python3.9/site-packages/sklearn/utils/deprecation.py:87: FutureWarning: Function get_feature_names is deprecated; get_feature_names is deprecated in 1.0 and will be removed in 1.2. Please use get_feature_names_out instead.\n",
      "  warnings.warn(msg, category=FutureWarning)\n"
     ]
    }
   ],
   "source": [
    "from sklearn.feature_extraction.text import TfidfVectorizer\n",
    "vectorizer = TfidfVectorizer()\n",
    "X_3= vectorizer.fit_transform(corpus)\n",
    "\n",
    "print('====================================')\n",
    "print(corpus)\n",
    "print('====================================')\n",
    "\n",
    "#Matriz de características\n",
    "print(X_3.toarray())\n",
    "\n",
    "# Extraer los nombres de las características\n",
    "print(vectorizer.get_feature_names())"
   ]
  },
  {
   "cell_type": "markdown",
   "id": "cb91f44b",
   "metadata": {},
   "source": [
    "### Limitaciones de las bolsa de palabras\n",
    "\n",
    "El modelo de bolsa de palabras es muy simple de entender e implementar y ofrece mucha flexibilidad para la personalización de datos de texto específicos. Se ha utilizado con gran éxito en problemas de predicción como modelización de lenguaje y clasificación de documentos.\n",
    "\n",
    "Sin embargo, adolece de algunas deficiencias, tales como:\n",
    "\n",
    "- Vocabulario: el vocabulario requiere un diseño cuidadoso, por ejemplo, para administrar el tamaño de la representación de los documentos.\n",
    "\n",
    "- Dispersión: las representaciones dispersas son más difíciles de modelar tanto por razones computacionales (complejidad de espacio y tiempo) como por razones de información, donde el desafío es que los modelos aprovechen tan poca información en un espacio de representación tan grande.\n",
    "\n",
    "- Significado: descartar el orden de las palabras ignora el contexto y, por lo tanto, el significado de las palabras en el documento (semántica). El contexto y el significado pueden ofrecer mucho al modelo."
   ]
  },
  {
   "cell_type": "markdown",
   "id": "77b55072",
   "metadata": {},
   "source": [
    "### Word embeddings\n",
    "\n",
    "Los algoritmos de word embeddings como word2vec y GloVe son clave para los resultados de vanguardia logrados por los modelos de redes neuronales en problemas de procesamiento del lenguaje natural. Estos algoritmos representan una mejora con respecto a los esquemas de bolsa de palabras más simples, que describen documentos pero no el significado de las palabras.  \n",
    "\n",
    "Word embeddings es un enfoque para proporcionar una representación vectorial densa de palabras que captura parte del significado del texto. Esta representación muestra con qué frecuencia una palabra aparece cerca de otras palabras, un factor importante en la forma en que se usan. **Por ejemplo**, la palabra Juegos Olímpicos puede aparecer cerca de palabras como correr, saltar y lanzar, pero con menos frecuencia junto a palabras como electrón o átomo.\n",
    "\n",
    "Word embeddings funciona mediante el uso de algoritmos para entrenar un conjunto de vectores densos de valores continuos de longitud fija basados en un gran corpus de texto. Cada palabra está representada por un punto en el espacio n dimensional y esta representación se aprende en función de las palabras que rodean la palabra objetivo.\n",
    "\n",
    "La representación del espacio vectorial de las palabras proporciona una proyección donde las palabras con significados similares se agrupan localmente dentro del espacio.\n",
    "\n",
    "\n",
    "### word2vec\n",
    "\n",
    "Word2vec es un algoritmo para apredizaje de word embeddings a partir de un corpus de texto.\n",
    "\n",
    "Los modelos de Word2Vec requieren mucho texto para entrenar, por ejemplo, todo el corpus de Wikipedia. \n",
    "\n",
    "Para el ejemplo, se va a utilizar la biblioteca de código abierto Gensim de Python.\n",
    "\n",
    "Algunos de los parámetros requeridos por la clase Word2vec de Gensim se describen a continuación:\n",
    "\n",
    "- size: (default 100) El número de dimensiones del espacio, p. la longitud del vector para representar cada token.\n",
    "\n",
    "- window: (default 5) La distancia máxima entre una palabra objetivo y las palabras alrededor de la palabra objetivo.\n",
    "\n",
    "- min_count: (default 5) El recuento mínimo de palabras a considerar al entrenar el modelo; las palabras con una aparición menor que este número serán ignoradas.\n",
    "\n",
    "- workers: (default 3) El número de subprocesos a usar durante el entrenamiento.\n",
    "\n",
    "- sg: (defualt 0 o CBOW) El algoritmo de entrenamiento, ya sea CBOW (0) o salto de gramo (1).  Hay dos algoritmos de entrenamiento principales que se pueden usar en word embeding; son bolsa continua de palabras (CBOW) y skip grams. Estos algoritmos generalmente trabajan con una ventana de palabras para cada palabra objetivo para proporcionar contexto, este enfoque fue desarrollado por Tomas Mikolov (durante su trabajo en Google)."
   ]
  },
  {
   "cell_type": "code",
   "execution_count": 32,
   "id": "fd103001",
   "metadata": {},
   "outputs": [
    {
     "name": "stdout",
     "output_type": "stream",
     "text": [
      "Requirement already satisfied: gensim in /home/maria/Applications/anaconda3/envs/ml_env/lib/python3.7/site-packages (4.0.1)\n",
      "Collecting gensim\n",
      "  Downloading gensim-4.2.0-cp37-cp37m-manylinux_2_12_x86_64.manylinux2010_x86_64.whl (24.1 MB)\n",
      "\u001b[K     |████████████████████████████████| 24.1 MB 4.4 MB/s eta 0:00:01\n",
      "\u001b[?25hRequirement already satisfied: smart-open>=1.8.1 in /home/maria/Applications/anaconda3/envs/ml_env/lib/python3.7/site-packages (from gensim) (5.1.0)\n",
      "Requirement already satisfied: numpy>=1.17.0 in /home/maria/Applications/anaconda3/envs/ml_env/lib/python3.7/site-packages (from gensim) (1.21.4)\n",
      "Requirement already satisfied: scipy>=0.18.1 in /home/maria/Applications/anaconda3/envs/ml_env/lib/python3.7/site-packages (from gensim) (1.6.3)\n",
      "Installing collected packages: gensim\n",
      "  Attempting uninstall: gensim\n",
      "    Found existing installation: gensim 4.0.1\n",
      "    Uninstalling gensim-4.0.1:\n",
      "      Successfully uninstalled gensim-4.0.1\n",
      "Successfully installed gensim-4.2.0\n"
     ]
    }
   ],
   "source": [
    "#!pip install --upgrade gensim"
   ]
  },
  {
   "cell_type": "code",
   "execution_count": 21,
   "id": "bceba98e",
   "metadata": {},
   "outputs": [
    {
     "name": "stderr",
     "output_type": "stream",
     "text": [
      "[nltk_data] Downloading package brown to /home/mmora/nltk_data...\n",
      "[nltk_data]   Package brown is already up-to-date!\n"
     ]
    },
    {
     "name": "stdout",
     "output_type": "stream",
     "text": [
      "Modelo generado\n",
      "Word2Vec(vocab=10003, vector_size=100, alpha=0.025)\n",
      "Modelo cargado\n",
      "Word2Vec(vocab=10003, vector_size=100, alpha=0.025)\n"
     ]
    }
   ],
   "source": [
    "import string\n",
    "import nltk\n",
    "from nltk.corpus import brown\n",
    "from gensim.models import Word2Vec\n",
    "\n",
    "# Cargar el corpus (http://icame.uib.no/brown/bcm.html)\n",
    "# BROWN fue el primer corpus general disponible en formato electrónico. \n",
    "# Se inició en Brown University en los años 60 y contiene\n",
    "# 500 textos en inglés, con un total de aproximadamente un millón de palabras, \n",
    "nltk.download(\"brown\")\n",
    "\n",
    "# Preprocesamiento de datos para convertir a minúsculas las palabras \n",
    "# y eliminar signos de puntuación.\n",
    "document = brown.sents()\n",
    "data = []\n",
    "for sent in document:\n",
    "  new_sent = []\n",
    "  for word in sent:\n",
    "    new_word = word.lower()\n",
    "    if new_word[0] not in string.punctuation:\n",
    "      new_sent.append(new_word)\n",
    "  if len(new_sent) > 0:\n",
    "    data.append(new_sent)\n",
    "\n",
    "# Entrenar el modelo\n",
    "model = Word2Vec(\n",
    "    sentences = data,\n",
    "    vector_size=100, \n",
    "    workers=4,\n",
    "    window = 10,\n",
    "    min_count = 8)\n",
    "\n",
    "# Salvar el modelo\n",
    "print(\"Modelo generado\")\n",
    "print(model)\n",
    "model.save('model.bin')\n",
    "\n",
    "# Cargar modelo\n",
    "new_model = Word2Vec.load('model.bin')\n",
    "print(\"Modelo cargado\")\n",
    "print(new_model)\n"
   ]
  },
  {
   "cell_type": "code",
   "execution_count": 22,
   "id": "122a86d5",
   "metadata": {},
   "outputs": [
    {
     "name": "stdout",
     "output_type": "stream",
     "text": [
      "Palabras más similares a car\n",
      "('room', 0.9213138222694397)\n",
      "('door', 0.9115716218948364)\n",
      "('kitchen', 0.9092123508453369)\n",
      "('road', 0.9087992906570435)\n",
      "('house', 0.9015535712242126)\n",
      "('front', 0.8863642811775208)\n",
      "('window', 0.8859817385673523)\n",
      "\n"
     ]
    }
   ],
   "source": [
    "# Encontrar palabras similares\n",
    "print(\"Palabras más similares a car\")\n",
    "words = model.wv.most_similar(\"car\", topn=7)\n",
    "for word in words:\n",
    "  print(word)\n",
    "print()"
   ]
  },
  {
   "cell_type": "code",
   "execution_count": 23,
   "id": "3a12ee0a",
   "metadata": {},
   "outputs": [
    {
     "name": "stdout",
     "output_type": "stream",
     "text": [
      "Vector para la palabra computer:\n",
      "[-0.03604862  0.05121509 -0.02396346 -0.0085889  -0.05040662 -0.03673574\n",
      "  0.00179215  0.0722314  -0.05065439 -0.07554799 -0.03139101 -0.09836347\n",
      " -0.0049033  -0.00584337  0.03154455 -0.06173988  0.0586599  -0.02589302\n",
      " -0.02334855 -0.11061144  0.1346137  -0.07496943  0.09068335  0.01085116\n",
      "  0.0394261  -0.02411014 -0.01287874  0.00637258 -0.03041109  0.08109049\n",
      "  0.0612925  -0.02578927  0.04342756 -0.04670171  0.01775894 -0.03444069\n",
      "  0.0657719  -0.02215198 -0.01282383 -0.05879624  0.05167796 -0.09366933\n",
      " -0.06408255  0.04367359  0.06287163 -0.06450263 -0.00520573 -0.05946862\n",
      "  0.12522626  0.05857875 -0.01202331 -0.12489131  0.01071086  0.01485831\n",
      "  0.00760071  0.02070701  0.02110663 -0.05841156 -0.07881989  0.11259755\n",
      " -0.0217547   0.01374645  0.01781989  0.02159745  0.03020551  0.0891817\n",
      "  0.01713677  0.05191241 -0.04623032  0.03701176  0.04663664 -0.01699249\n",
      "  0.07375539  0.01142242  0.07182162  0.02218673  0.04478203  0.02686435\n",
      " -0.01657715 -0.0701406  -0.05295428  0.00440708 -0.05765258  0.0426902\n",
      " -0.06478231 -0.06082666  0.04873494 -0.0234781   0.07968448 -0.02699419\n",
      " -0.00246932 -0.0037854  -0.03197308  0.02332434  0.06006371  0.00783445\n",
      "  0.07512021 -0.11284468  0.01490461  0.04617959]\n",
      "\n"
     ]
    }
   ],
   "source": [
    "# Obtener el vector de una palabra\n",
    "print(\"Vector para la palabra computer:\")\n",
    "print(model.wv[\"computer\"])\n",
    "print()\n"
   ]
  },
  {
   "cell_type": "code",
   "execution_count": 24,
   "id": "05b9dd77",
   "metadata": {},
   "outputs": [
    {
     "data": {
      "image/png": "[encoded data removed]",
      "text/plain": [
       "<Figure size 640x480 with 1 Axes>"
      ]
     },
     "metadata": {},
     "output_type": "display_data"
    }
   ],
   "source": [
    "from sklearn.decomposition import PCA\n",
    "from matplotlib import pyplot\n",
    "\n",
    "#Visualizar datos\n",
    "def plot_words(words):\n",
    "    # Extraer los vectores de las palabras \n",
    "    X = model.wv[words]\n",
    "\n",
    "    # Análisis de componentes principales para reducir la dimensionalidad de los datos\n",
    "    pca = PCA(n_components=2)\n",
    "    result = pca.fit_transform(X)\n",
    " \n",
    "    # Visualización    \n",
    "    pyplot.scatter(result[:, 0], result[:, 1])\n",
    "    for i, word in enumerate(words):\n",
    "        pyplot.annotate(word, xy=(result[i, 0], result[i, 1]))\n",
    "    pyplot.show()\n",
    "    \n",
    "words = [\"france\", \"germany\", \"india\", \"truck\", \"boat\", \"road\", \"teacher\", \"student\"]\n",
    "plot_words(words)    "
   ]
  },
  {
   "cell_type": "code",
   "execution_count": 26,
   "id": "c5a48a38",
   "metadata": {},
   "outputs": [
    {
     "name": "stdout",
     "output_type": "stream",
     "text": [
      "[('twenty-one', 0.9177592396736145)]\n"
     ]
    }
   ],
   "source": [
    "\"\"\"\n",
    "Algo interesante, es que se puede hacer cálculos de álgebra lineal con palabras. Actualmente, \n",
    "investigadores exploran algunas de las propiedades matemáticas de este espacio vectorial: \n",
    "por ejemplo, que al sumar y restar vectores produce otro vector en el mismo espacio.\n",
    "\n",
    "Un ejemplo popular, descrito en conferencias y documentos de introducción a la \n",
    "linguistica computacional es:\n",
    "\n",
    "queen = (king - man) + woman\n",
    "\n",
    "Es decir, la palabra reina es la palabra más cercana dada la resta \n",
    "de la noción de hombre de la noción de rey y la suma de la palabra mujer. \n",
    "La \"masculinidad\" en el rey se reemplaza con la \"feminidad\" para darnos la reina. \n",
    "\"\"\"\n",
    "\n",
    "result = model.wv.most_similar(positive=['woman', 'king'], negative=['man'], topn=1)\n",
    "print(result)"
   ]
  },
  {
   "cell_type": "code",
   "execution_count": 27,
   "id": "07d88af6",
   "metadata": {},
   "outputs": [
    {
     "data": {
      "image/png": "[encoded data removed]",
      "text/plain": [
       "<Figure size 640x480 with 1 Axes>"
      ]
     },
     "metadata": {},
     "output_type": "display_data"
    }
   ],
   "source": [
    "words = [\"queen\", \"king\", \"man\", \"aunt\", \"woman\"]\n",
    "\n",
    "plot_words(words)    "
   ]
  },
  {
   "cell_type": "markdown",
   "id": "4a97d6b2",
   "metadata": {},
   "source": [
    "### Referencias\n",
    "\n",
    "Scikit-Learn (2022). 6.2. Feature extraction. Recuperado de https://scikit-learn.org/stable/modules/feature_extraction.html#text-feature-extraction\n",
    "\n",
    "Brownlee , J. (2017a). A Gentle Introduction to the Bag-of-Words Model. Recuperado de https://machinelearningmastery.com/gentle-introduction-bag-words-model/\n",
    "\n",
    "Brownlee , J. (2017b). How to Develop Word Embeddings in Python with Gensim. Recuperado de https://machinelearningmastery.com/develop-word-embeddings-python-gensim/\n",
    "\n",
    "Brownlee, J. (2017c). What Are Word Embeddings for Text?. Recuperado de https://machinelearningmastery.com/what-are-word-embeddings/\n",
    "\n",
    "radimrehurek.com (s.f.). Gensim Manual: Word2vec embeddings. Recuperado dehttps://radimrehurek.com/gensim/models/word2vec.html\n"
   ]
  },
  {
   "cell_type": "code",
   "execution_count": null,
   "id": "fb45fb18",
   "metadata": {},
   "outputs": [],
   "source": []
  }
 ],
 "metadata": {
  "kernelspec": {
   "display_name": "Python 3 (ipykernel)",
   "language": "python",
   "name": "python3"
  },
  "language_info": {
   "codemirror_mode": {
    "name": "ipython",
    "version": 3
   },
   "file_extension": ".py",
   "mimetype": "text/x-python",
   "name": "python",
   "nbconvert_exporter": "python",
   "pygments_lexer": "ipython3",
   "version": "3.9.15"
  }
 },
 "nbformat": 4,
 "nbformat_minor": 5
}
