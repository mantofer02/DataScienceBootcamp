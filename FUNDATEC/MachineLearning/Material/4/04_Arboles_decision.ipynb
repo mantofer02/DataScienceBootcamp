{
 "cells": [
  {
   "cell_type": "markdown",
   "metadata": {
    "id": "TGvdZZ7C16o5"
   },
   "source": [
    "## Escuela de Ingeniería en Computación, ITCR \n",
    "\n",
    "## Aprendizaje automático\n",
    "\n",
    "\n",
    "## Árboles de decisión"
   ]
  },
  {
   "cell_type": "markdown",
   "metadata": {
    "id": "OVq3iOWmHcnq"
   },
   "source": [
    "## Introducción\n",
    "\n",
    "Un **árbol de decisión** es un algoritmo de aprendizaje supervisado **no paramétrico**, que se utiliza tanto para tareas de clasificación como de regresión y proporciona un conjunto de reglas que se van aplicando sobre los ejemplos nuevos para decidir, por ejemplo, qué clasificación es la más adecuada dados sus atributos o propiedades. Son métodos de predicción poderosos y extremadamente populares por su facilidad de interpretación.\n",
    "\n",
    "Los árboles de decisión proporcionan la base para métodos de ensamble más avanzados, como bagging, random forests y gradient boosting.\n",
    "\n",
    "\n",
    "### Tipos de árboles de decisión\n",
    "El algoritmo de Hunt (1960) para modelar el aprendizaje humano en Psicología, forma la base de muchos algoritmos de árboles de decisión populares, como los siguientes: \n",
    "\n",
    "- **ID3 o \"Iterative Dichotomiser 3\"** (Quinlan, 1979): Este algoritmo aprovecha la entropía y la ganancia de información como métricas para evaluar las divisiones de candidatos.\n",
    "\n",
    "- **C4.5**: consiste en una iteración posterior de ID3, que también fue desarrollado por Quinlan. Puede utilizar la ganancia de información o las proporciones de ganancia para evaluar los puntos de división dentro de los árboles de decisión. \n",
    "\n",
    "- **CART o \"árboles de clasificación y regresión\"**: fue introducido por Leo Breiman. Este algoritmo, generalmente utiliza la impureza de Gini para identificar el atributo ideal para la división. La impureza de Gini mide la frecuencia con la que se clasifica incorrectamente un atributo elegido al azar (un valor menor es más ideal). \n",
    "\n",
    "La representación del **modelo CART es un árbol binario**. Un nodo representa una sola variable de entrada (X) y un punto de división en esa variable, suponiendo que la variable sea numérica. Los nodos hoja (también llamados nodos terminales) del árbol contienen una variable de salida (y) que se usa para hacer una predicción.\n",
    "\n",
    "Una vez creado, se puede navegar por un árbol con una nueva muestra a procesar siguiendo cada rama con las divisiones hasta que se llega a la predicción final.\n",
    "\n",
    "\n",
    "### Creación de un árbol de decisión\n",
    "\n",
    "La **creación de un árbol de decisión** es un proceso de división del espacio de entrada. Se utiliza un enfoque codicioso para dividir el espacio llamado **división recursiva**. Este es un procedimiento numérico en el que todos los valores se alinean y se prueban diferentes puntos de división utilizando una función de costo. Se selecciona la división con el mejor costo. \n",
    "\n",
    "Las funciones de costo:\n",
    "\n",
    " - Regresión: la función de costo que se minimiza para elegir puntos de división es la suma del error cuadrático en todas las muestras de entrenamiento que se encuentran dentro del rectángulo.\n",
    "\n",
    " - Clasificación: se usa la función de costo Gini, que proporciona una indicación de qué tan puros son los nodos, donde la pureza del nodo se refiere a qué tan mezclados están los datos de entrenamiento asignados a cada nodo.\n",
    "\n",
    "La división continúa hasta que los nodos contienen un número mínimo de ejemplos de entrenamiento o se alcanza una profundidad de árbol máxima.\n",
    "\n",
    "\n",
    "### Estructura de un árbol de decisión \n",
    "\n",
    "![title](../imagenes/img2.png)\n",
    "\n",
    "\n",
    "Un árbol de decisión está formado por un conjunto de nodos de decisión (interiores) y de nodos-respuesta (hojas):\n",
    "\n",
    "* Un **nodo de decisión está asociado a uno de los atributos** y tiene ramas que salen de él, cada una de ellas representando los posibles valores que puede tomar el atributo asociado. Un nodo de decisión es una pregunta que se le hace al ejemplo analizado, y dependiendo de la respuesta que de, el flujo tomará una de las ramas salientes.\n",
    "\n",
    "\n",
    "* Un **nodo-respuesta está asociado a la clasificación que se quiere proporcionar**, y devuelve la decisión del árbol con respecto al ejemplo de entrada.\n",
    "\n",
    "\n",
    "\n",
    "### ¿Cómo se construye un árbol de decisión?\n",
    "\n",
    "La idea básica es la siguiente:\n",
    "\n",
    "1. Se selecciona el mejor atributo utilizando medidas de selección de atributos (ASM) para dividir los registros. \n",
    "\n",
    "2. Se crea un nodo de decisión para el atributo seleccionado y se divide el conjunto de datos en subconjuntos más pequeños recursivamente para cada hijo hasta que ocurre una de las siguientes condiciones:\n",
    "    * Todas las tuplas pertenecen al mismo valor de atributo.\n",
    "    * No quedan más atributos.\n",
    "    * No hay más instancias.\n",
    "    \n",
    "    \n",
    "    \n",
    "![title](../imagenes/img4.png)\n",
    "\n",
    "\n",
    "\n",
    "\n",
    "### Medidas de selección de atributos\n",
    "\n",
    "**Entropía y ganancia de información**\n",
    "\n",
    "####  Ganancia de información\n",
    "\n",
    "La ganancia de información es una propiedad estadística que mide qué tan bien un atributo dado separa los ejemplos de entrenamiento de acuerdo con sus clasificación objetivo.\n",
    "\n",
    "Para poder calcular la ganancia de información, primero se debe definir el término entropía de un conjunto de datos.\n",
    "\n",
    "\n",
    "**La Entropia:** En física y matemáticas, la entropía se conoce como aleatoriedad o impureza en el sistema.  En teoría de la información, se refiere a la impureza en un grupo de ejemplos.\n",
    "\n",
    "La ganancia de información es una disminución de la entropía.\n",
    "\n",
    "\n",
    "![title](../imagenes/img6.png)\n",
    "\n",
    "\n",
    "\n",
    "La fórmula de la entropía es la siguiente:\n",
    "\n",
    "$$Entropy(S)=-\\sum_{c\\epsilon C}p(c)\\log_{2}p(c)$$\n",
    "\n",
    "Con\n",
    "- S que representa el conjunto de datos \n",
    "- c representa las clases en el conjunto de datos S\n",
    "- y p(c) representa la proporción de muestras que pertenecen a la clase c del total de muestras en el conjunto de datos S\n",
    "\n",
    "Los valores de entropía pueden estar entre 0 y 1. Si todas las muestras en el conjunto de datos S pertenecen a una clase, entonces la entropía será igual a cero. Si la mitad de las muestras se clasifican en una clase y la otra mitad en otra clase, la entropía estará en su punto más alto en 1. \n",
    "\n",
    "Para seleccionar la mejor característica para dividir y encontrar el árbol de decisión óptimo, se debe usar el atributo con **la menor entropía**.\n",
    "\n",
    "La **ganancia de información** representa la diferencia de entropía antes y después de una división en un atributo determinado. El **atributo con la ganancia de información más alta producirá la mejor división**, ya que hace el mejor trabajo al clasificar los datos de entrenamiento de acuerdo con su clasificación de destino. La ganancia de información generalmente se representa con la siguiente fórmula, donde: \n",
    "\n",
    "$$InformationGain(S,a)=Entropy(S)-\\sum_{v\\epsilon values(a)}\\frac{|S_{v}|}{|S|}Entropy(S_{v})$$\n",
    "\n",
    "\n",
    "Con:\n",
    "- **a** que representa una característica.\n",
    "- **Entropy(S)** es la entropía del conjunto de datos S\n",
    "- **$\\frac{|S_{v}|}{|S|}$** representa la proporción de los valores en $S_{v}$ del número de valores en el conjunto de datos, S. Con v un valor de etiqueta de la clase a.\n",
    "- $Entropy(S_{v})$ es la entropía del conjunto de datos, $S_{v}$.\n",
    "\n",
    "**Ejemplo**\n",
    "\n",
    "Se tiene el siguiente conjunto de datos (IBM, n.d.):\n",
    "\n",
    "![](../imagenes/tabla.png)\n",
    "\n",
    "\n",
    "Para este conjunto de datos, la entropía es 0.94. Esto se puede calcular al encontrar la proporción de días en los que \"Jugar al tenis\" es \"Sí\", que es 9/14, y la proporción de días en los que \"Jugar al tenis\" es \"No\", que es 5/14. Luego, estos valores se pueden usar en la fórmula de entropía anterior:\n",
    "\n",
    "Entropía (S) = -(9/14) log2(9/14) – (5/14) log2 (5/14) = 0.94\n",
    "\n",
    "Entonces podemos calcular la ganancia de información para cada uno de los atributos individualmente. Por ejemplo, la ganancia de información para el atributo \"Humedad\" sería la siguiente:\n",
    "\n",
    "Ganancia (S, Humedad) = (0.94)-(7/14)*(0.985) – (7/14)*(0.592) = 0.151\n",
    "\n",
    "\n",
    "Explicación de los cálculos:\n",
    "\n",
    "- 7/14 representa la proporción de valores donde la humedad es igual a \"alta\" respecto al número total de valores de humedad. En este caso, el número de valores donde la humedad es igual a \"alta\" es el mismo que el número de valores donde la humedad es igual a \"normal\".\n",
    "- 0.985 es la entropía cuando Humedad es = a \"alta\"\n",
    "- 0.59 es la entropía cuando Humedad es = a \"normal\"\n",
    "\n",
    "Luego, **repita el cálculo de la ganancia de información para cada atributo de la tabla anterior y seleccione el atributo con la ganancia de información más alta** para que sea el primer punto de división en el árbol de decisión. En este caso, Outlook produce la mayor ganancia de información. A partir de ahí, el proceso se repite para cada subárbol. \n",
    "\n",
    "\n",
    "**Impureza de Gini** \n",
    "\n",
    "La impureza de Gini es la probabilidad de clasificar incorrectamente un punto de datos aleatorio en el conjunto de datos si se etiquetara en función de la distribución de clases del conjunto de datos. Similar a la entropía, **si el conjunto S es puro (es decir, pertenece a una clase), entonces su impureza es cero**. Esto se denota mediante la siguiente fórmula: \n",
    "\n",
    "$$GiniImpurity=1-\\sum_{i}(p_{i})^{2}$$\n",
    "\n",
    "Donde \n",
    "- $p_{i}$ corresponde a la proporción de muestras de esa clase en un nodo particular del árbol respecto al total de muestras.\n",
    "\n",
    "(ejemplo de cálculo abajo con dataset Iris)"
   ]
  },
  {
   "cell_type": "code",
   "execution_count": 11,
   "metadata": {
    "colab": {
     "base_uri": "https://localhost:8080/"
    },
    "id": "_zaVILF4Hcn1",
    "outputId": "632981e6-fa10-4b38-b7ad-4e6eb4b3a7b4"
   },
   "outputs": [
    {
     "name": "stdout",
     "output_type": "stream",
     "text": [
      "====================================================\n",
      "Muestras de conjunto de datos\n",
      "['setosa' 'versicolor' 'virginica']\n",
      "====================================================\n",
      "====================================================\n",
      "Muestras de conjunto de datos\n",
      "Características [[4.6 3.2 1.4 0.2]\n",
      " [5.3 3.7 1.5 0.2]\n",
      " [5.  3.3 1.4 0.2]\n",
      " [7.  3.2 4.7 1.4]\n",
      " [6.4 3.2 4.5 1.5]\n",
      " [6.9 3.1 4.9 1.5]]\n",
      "Clase a la que pertenecen o target [0 0 0 1 1 1]\n",
      "====================================================\n",
      "Predicción\n",
      "[0 0 0 1 1 1]\n",
      "====================================================\n",
      "Probabilidades de que una muestra peetenezca a la clase\n",
      "[[1.         0.         0.        ]\n",
      " [1.         0.         0.        ]\n",
      " [1.         0.         0.        ]\n",
      " [0.         0.90740741 0.09259259]\n",
      " [0.         0.90740741 0.09259259]\n",
      " [0.         0.90740741 0.09259259]]\n"
     ]
    }
   ],
   "source": [
    "# Entrenar y predecir con árboles de decisión para clasificación\n",
    "\n",
    "from sklearn.datasets import load_iris # datos de iris\n",
    "from sklearn.tree import DecisionTreeClassifier # árbol de decisión para clasificación\n",
    "from sklearn import tree\n",
    "\n",
    "# Conjunto de datos Iris\n",
    "iris = load_iris()\n",
    "print(\"====================================================\")\n",
    "print(\"Muestras de conjunto de datos\")\n",
    "print(iris.target_names)\n",
    "print(\"====================================================\")\n",
    "\n",
    "# Entrenar un árbol de decisión para clasificar los datos de Iris\n",
    "treeM = DecisionTreeClassifier(max_depth=2, random_state=42)\n",
    "treeM.fit(iris.data, iris.target) # entrenamiento del árbol\n",
    "print(\"====================================================\")\n",
    "print(\"Muestras de conjunto de datos\")\n",
    "print(\"Características\", iris.data[47:53])\n",
    "print(\"Clase a la que pertenecen o target\", iris.target[47:53])\n",
    "print(\"====================================================\")\n",
    "\n",
    "# Se utiliza el método predict para obtener predicciones\n",
    "print(\"Predicción\")\n",
    "print( treeM.predict(iris.data[47:53]) )\n",
    "print(\"====================================================\")\n",
    "print(\"Probabilidades de que una muestra peetenezca a la clase\")\n",
    "# si queremos saber las probabilidades podemos usar el método predict_proba\n",
    "print( treeM.predict_proba(iris.data[47:53]) )\n",
    "# la primera clase (Setosa) corresponde a la primera columna, la segunda clase en la segunda, etc..\n",
    "# este es el resultado:\n",
    "# [[1.         0.         0.        ]\n",
    "#  [1.         0.         0.        ]\n",
    "#  [1.         0.         0.        ]\n",
    "#  [0.         0.90740741 0.09259259]\n",
    "#  [0.         0.90740741 0.09259259]\n",
    "#  [0.         0.90740741 0.09259259]]"
   ]
  },
  {
   "cell_type": "code",
   "execution_count": 8,
   "metadata": {},
   "outputs": [
    {
     "data": {
      "text/plain": [
       "[Text(0.4, 0.8333333333333334, 'X[2] <= 2.45\\ngini = 0.667\\nsamples = 150\\nvalue = [50, 50, 50]'),\n",
       " Text(0.2, 0.5, 'gini = 0.0\\nsamples = 50\\nvalue = [50, 0, 0]'),\n",
       " Text(0.6, 0.5, 'X[3] <= 1.75\\ngini = 0.5\\nsamples = 100\\nvalue = [0, 50, 50]'),\n",
       " Text(0.4, 0.16666666666666666, 'gini = 0.168\\nsamples = 54\\nvalue = [0, 49, 5]'),\n",
       " Text(0.8, 0.16666666666666666, 'gini = 0.043\\nsamples = 46\\nvalue = [0, 1, 45]')]"
      ]
     },
     "execution_count": 8,
     "metadata": {},
     "output_type": "execute_result"
    },
    {
     "data": {
      "image/png": "[encoded data removed]",
      "text/plain": [
       "<Figure size 640x480 with 1 Axes>"
      ]
     },
     "metadata": {},
     "output_type": "display_data"
    }
   ],
   "source": [
    "# Visualizar el árbol\n",
    "# En el nodo hoja los valores en el vector value indican la cantidad \n",
    "# de muestras en cada una de las clases que cumplen con los \n",
    "# criterios utilizados. Se selecciona la clase con más muestras.\n",
    "\n",
    "tree.plot_tree(treeM)"
   ]
  },
  {
   "cell_type": "code",
   "execution_count": 16,
   "metadata": {},
   "outputs": [
    {
     "name": "stdout",
     "output_type": "stream",
     "text": [
      "sepal length (cm): 0.026703117716071825\n",
      "sepal width (cm): 0.0\n",
      "petal length (cm): 0.0\n",
      "petal width (cm): 0.0\n"
     ]
    }
   ],
   "source": [
    "# Importancia de los atributos en un árbol de decisión\n",
    "for name, importance in zip(iris.feature_names, adr.feature_importances_):\n",
    "    print(name + ': ' + str(importance))\n"
   ]
  },
  {
   "cell_type": "markdown",
   "metadata": {},
   "source": [
    "**En el ejemplo de las Iris (abajo)** \n",
    "gini = 0.168 (de la hoja 2 del árbol de izquierda a derecha) \n",
    "\n",
    "Se calcula como: \n",
    "$Gini_{versicolor}=1-\\sum_{i}(p_{i})^{2}=1-(\\frac{0}{54})^{2}-(\\frac{49}{54})^{2}-(\\frac{5}{54})^{2}=0.168$"
   ]
  },
  {
   "cell_type": "markdown",
   "metadata": {},
   "source": [
    "### Ejemplo de uso de árboles de desición en análisis de regresión"
   ]
  },
  {
   "cell_type": "code",
   "execution_count": 14,
   "metadata": {
    "id": "X7mJkWpTi4WM"
   },
   "outputs": [
    {
     "name": "stdout",
     "output_type": "stream",
     "text": [
      "Precisión del modelo:\n",
      "0.8191643710397213\n"
     ]
    },
    {
     "name": "stderr",
     "output_type": "stream",
     "text": [
      "/home/mmora/anaconda3/envs/ml_env/lib/python3.9/site-packages/sklearn/utils/deprecation.py:87: FutureWarning: Function load_boston is deprecated; `load_boston` is deprecated in 1.0 and will be removed in 1.2.\n",
      "\n",
      "    The Boston housing prices dataset has an ethical problem. You can refer to\n",
      "    the documentation of this function for further details.\n",
      "\n",
      "    The scikit-learn maintainers therefore strongly discourage the use of this\n",
      "    dataset unless the purpose of the code is to study and educate about\n",
      "    ethical issues in data science and machine learning.\n",
      "\n",
      "    In this special case, you can fetch the dataset from the original\n",
      "    source::\n",
      "\n",
      "        import pandas as pd\n",
      "        import numpy as np\n",
      "\n",
      "\n",
      "        data_url = \"http://lib.stat.cmu.edu/datasets/boston\"\n",
      "        raw_df = pd.read_csv(data_url, sep=\"\\s+\", skiprows=22, header=None)\n",
      "        data = np.hstack([raw_df.values[::2, :], raw_df.values[1::2, :2]])\n",
      "        target = raw_df.values[1::2, 2]\n",
      "\n",
      "    Alternative datasets include the California housing dataset (i.e.\n",
      "    :func:`~sklearn.datasets.fetch_california_housing`) and the Ames housing\n",
      "    dataset. You can load the datasets as follows::\n",
      "\n",
      "        from sklearn.datasets import fetch_california_housing\n",
      "        housing = fetch_california_housing()\n",
      "\n",
      "    for the California housing dataset and::\n",
      "\n",
      "        from sklearn.datasets import fetch_openml\n",
      "        housing = fetch_openml(name=\"house_prices\", as_frame=True)\n",
      "\n",
      "    for the Ames housing dataset.\n",
      "    \n",
      "  warnings.warn(msg, category=FutureWarning)\n"
     ]
    }
   ],
   "source": [
    "# Entrenar y predecir con árboles de decisión para regresión\n",
    "\n",
    "import numpy as np\n",
    "import matplotlib.pyplot as plt\n",
    "from sklearn import datasets\n",
    "from sklearn.model_selection import train_test_split\n",
    "from sklearn.tree import DecisionTreeRegressor\n",
    "\n",
    "# Se importan los datos de la misma librería de scikit-learn\n",
    "boston = datasets.load_boston()\n",
    "\n",
    "#Se selecciona solamente la columna 6 del dataset\n",
    "#X_adr = boston.data[:, np.newaxis, 5]\n",
    "X =  boston.data\n",
    "\n",
    "# Se define los datos correspondientes a los targets\n",
    "y = boston.target\n",
    "\n",
    "#Se separan los datos de entrenamiento y pruebas\n",
    "X_train, X_test, y_train, y_test = train_test_split(X, y, test_size=0.3)\n",
    "\n",
    "# Se instancia el modelo\n",
    "adr = DecisionTreeRegressor(max_depth = 5)\n",
    "\n",
    "# Se entrena el modelo\n",
    "adr.fit(X_train, y_train)\n",
    "\n",
    "# Se realiza una predicción\n",
    "Y_pred = adr.predict(X_test)\n",
    "\n",
    "# Coeficiente de determinación R2 o la suma de los cuadrados de la pérdida \n",
    "# ((y_true - y_pred)** 2).sum().\n",
    "# Recuerden que la mejor puntuación posible es 1,0 y puede ser negativa \n",
    "# (porque el modelo puede ser arbitrariamente malo). \n",
    "print('Precisión del modelo:')\n",
    "print(adr.score(X_test, y_test))"
   ]
  },
  {
   "cell_type": "code",
   "execution_count": 17,
   "metadata": {
    "colab": {
     "base_uri": "https://localhost:8080/"
    },
    "id": "p7noAKshkmCy",
    "outputId": "f74d75e5-5aa7-43d0-a043-b8fb3c40c8c2"
   },
   "outputs": [
    {
     "name": "stdout",
     "output_type": "stream",
     "text": [
      "CRIM: 0.026703117716071825\n",
      "ZN: 0.0\n",
      "INDUS: 0.0\n",
      "CHAS: 0.0\n",
      "NOX: 0.006431017227437397\n",
      "RM: 0.24297501750903727\n",
      "AGE: 0.007987096173748631\n",
      "DIS: 0.07838913598907865\n",
      "RAD: 0.0\n",
      "TAX: 0.0\n",
      "PTRATIO: 0.01261317186863124\n",
      "B: 0.013304946092806288\n",
      "LSTAT: 0.6115964974231888\n"
     ]
    }
   ],
   "source": [
    "# Importancia de los atributos en un árbol de decisión\n",
    "for name, importance in zip(boston.feature_names, adr.feature_importances_):\n",
    "    print(name + ': ' + str(importance))\n"
   ]
  },
  {
   "cell_type": "markdown",
   "metadata": {},
   "source": [
    "### Ventajas de los árboles de decisión (Scikit-Learn, v1.2.2):\n",
    "\n",
    "- Fácil de entender y de interpretar. Los árboles se pueden visualizar.\n",
    "\n",
    "- Requiere poca preparación de datos. Otras técnicas a menudo requieren la normalización de datos, es necesario crear variables ficticias y eliminar valores en blanco. Sin embargo, algunas bibliotecas no admiten valores faltantes.\n",
    "\n",
    "- El costo de usar el árbol (es decir, predecir datos) es logarítmico en la cantidad de puntos de datos usados para entrenar el árbol.\n",
    "\n",
    "- Capaz de manejar datos numéricos y categóricos. Sin embargo, la implementación de scikit-learn no admite variables categóricas por ahora.\n",
    "\n",
    "- Utiliza un modelo de caja blanca. Si una situación dada es observable en un modelo, la explicación de la condición se explica fácilmente mediante lógica booleana. Por el contrario, en un modelo de caja negra (por ejemplo, en una red neuronal artificial), los resultados pueden ser más difíciles de interpretar.\n",
    "\n",
    "- Posibilidad de validar un modelo mediante pruebas estadísticas. Eso permite dar cuenta de la fiabilidad del modelo.\n",
    "\n",
    "\n",
    "\n",
    "**Desventajas de los árboles de decisión**\n",
    "\n",
    "- Los árboles demasiado complejos puede que no generalicen bien. Esto se llama sobreajuste. Para evitar este problema, son necesarios mecanismos como la poda, establecer el número mínimo de muestras requeridas en un nodo hoja o establecer la profundidad máxima del árbol.\n",
    "\n",
    "- Los árboles de decisión pueden ser inestables porque pequeñas variaciones en los datos pueden generar un árbol completamente diferente. Este problema se mitiga mediante el uso de árboles de decisión dentro de un ensamble (ej. Random Forest).\n",
    "\n",
    "- Se sabe que el problema de aprender un árbol de decisión óptimo es NP-completo bajo varios aspectos de optimización e incluso para conceptos simples. En consecuencia, los algoritmos prácticos de aprendizaje del árbol de decisiones se basan en algoritmos heurísticos, como el algoritmo voraz, en el que se toman decisiones localmente óptimas en cada nodo. Dichos algoritmos no pueden garantizar la devolución del árbol de decisión globalmente óptimo. Esto se puede mitigar entrenando varios árboles en un ensamble.\n",
    "\n",
    "- Hay conceptos que son difíciles de aprender porque los árboles de decisión no los expresan fácilmente, como la función XOR.\n",
    "\n",
    "- Los árboles de decisión pueden estar sesgados si las clases no están balanceadas. "
   ]
  },
  {
   "cell_type": "markdown",
   "metadata": {},
   "source": [
    "### Ensambles: Random Forest\n",
    "\n",
    "Los bosques aleatorios o los bosques de decisiones aleatorias son un método de aprendizaje por ensamble para clasificación o regresión  que opera mediante la construcción de un conjunto de árboles de decisión durante el entrenamiento. Para las tareas de clasificación, la salida del bosque aleatorio es la clase seleccionada por la mayoría de los árboles para regresión se utiliza el promedio de las salidas."
   ]
  },
  {
   "cell_type": "code",
   "execution_count": 19,
   "metadata": {},
   "outputs": [
    {
     "name": "stdout",
     "output_type": "stream",
     "text": [
      "0.9823000000000001\n",
      "1.0\n"
     ]
    }
   ],
   "source": [
    "from sklearn.model_selection import cross_val_score\n",
    "from sklearn.datasets import make_blobs\n",
    "from sklearn.ensemble import RandomForestClassifier\n",
    "from sklearn.ensemble import ExtraTreesClassifier\n",
    "from sklearn.tree import DecisionTreeClassifier\n",
    "\n",
    "X, y = make_blobs(n_samples=10000, n_features=10, centers=100,\n",
    "     random_state=0)\n",
    "\n",
    "clf = DecisionTreeClassifier(max_depth=None, random_state=0)\n",
    "scores = cross_val_score(clf, X, y, cv=5)\n",
    "print(scores.mean())\n",
    "\n",
    "clf = RandomForestClassifier(n_estimators=50, max_depth=None,\n",
    "     min_samples_split=2, random_state=0)\n",
    "scores = cross_val_score(clf, X, y, cv=5)\n",
    "print(scores.mean())\n",
    "\n"
   ]
  },
  {
   "cell_type": "markdown",
   "metadata": {},
   "source": [
    "## ¿Cómo seleccionar el número de árboles? \n",
    "\n",
    "**Una opción es utilizar validación cruzada K-fold**\n",
    "\n",
    "La validación cruzada K-fold es un procedimiento en el que un conjunto de datos se divide en múltiples conjuntos de entrenamiento y validación (pliegues), donde k es el número de ellos, para ayudar a proteger el modelo contra el sesgo aleatorio causado por la selección de un solo entrenamiento y validación.\n",
    "\n",
    "La validación cruzada K-fold se puede utilizar para evaluar los modelos y para afinar parámetros, por ejemplo en este caso el número de árboles requeridos.\n",
    "\n",
    "La evaluación del modelo implica el uso del conjunto de datos disponible para ajustar un modelo y estimar su rendimiento al hacer predicciones sobre ejemplos no vistos. Este es un problema desafiante, ya que tanto el conjunto de datos de entrenamiento utilizado para ajustar el modelo como el conjunto de prueba utilizado para evaluarlo deben ser lo suficientemente grandes y representativos del problema subyacente para que la estimación resultante del rendimiento del modelo no sea demasiado optimista o pesimista.\n",
    "\n",
    "Los dos enfoques más comunes utilizados para la evaluación del modelo son **la división de datos de entrenamiento/pruebas y el procedimiento de validación cruzada de k-fold**. Ambos enfoques pueden ser muy efectivos en general, aunque pueden generar resultados engañosos y fallar potencialmente cuando se usan en problemas de clasificación con clases desbalanceadas. En este caso se puede utilizar validación cruzada estratificada. La validación cruzada estratificada asegura que la proporción de ejemplos positivos y negativos que se encuentran en la distribución original se respeta en todos los pliegues (folds)."
   ]
  },
  {
   "cell_type": "code",
   "execution_count": 21,
   "metadata": {},
   "outputs": [
    {
     "name": "stdout",
     "output_type": "stream",
     "text": [
      "{'10': RandomForestClassifier(n_estimators=10)}\n",
      "{'10': RandomForestClassifier(n_estimators=10), '50': RandomForestClassifier(n_estimators=50)}\n",
      "{'10': RandomForestClassifier(n_estimators=10), '50': RandomForestClassifier(n_estimators=50), '100': RandomForestClassifier()}\n",
      "{'10': RandomForestClassifier(n_estimators=10), '50': RandomForestClassifier(n_estimators=50), '100': RandomForestClassifier(), '500': RandomForestClassifier(n_estimators=500)}\n",
      "{'10': RandomForestClassifier(n_estimators=10), '50': RandomForestClassifier(n_estimators=50), '100': RandomForestClassifier(), '500': RandomForestClassifier(n_estimators=500), '1000': RandomForestClassifier(n_estimators=1000)}\n",
      "Número de árboles, precisión promedio y desviación promedio >10 0.873 (0.032)\n",
      "Número de árboles, precisión promedio y desviación promedio >50 0.901 (0.025)\n",
      "Número de árboles, precisión promedio y desviación promedio >100 0.904 (0.025)\n",
      "Número de árboles, precisión promedio y desviación promedio >500 0.905 (0.024)\n",
      "Número de árboles, precisión promedio y desviación promedio >1000 0.907 (0.026)\n"
     ]
    },
    {
     "data": {
      "image/png": "[encoded data removed]",
      "text/plain": [
       "<Figure size 640x480 with 1 Axes>"
      ]
     },
     "metadata": {},
     "output_type": "display_data"
    }
   ],
   "source": [
    "# explore random forest number of trees effect on performance\n",
    "from numpy import mean\n",
    "from numpy import std\n",
    "from sklearn.datasets import make_classification\n",
    "from sklearn.model_selection import cross_val_score\n",
    "from sklearn.model_selection import RepeatedStratifiedKFold\n",
    "from sklearn.ensemble import RandomForestClassifier\n",
    "from matplotlib import pyplot\n",
    " \n",
    "# get the dataset\n",
    "def get_dataset():\n",
    " X, y = make_classification(n_samples=1000, n_features=20, n_informative=15, n_redundant=5, random_state=3)\n",
    " return X, y\n",
    " \n",
    "\n",
    "def get_models():\n",
    " \"\"\"\n",
    " # generate a list of models to evaluate\n",
    " \"\"\"\n",
    "\n",
    " # model dictionary   \n",
    " models = dict()\n",
    " # define the number of trees to define in each model.\n",
    " n_trees = [10, 50, 100, 500, 1000]\n",
    " # instantiate models    \n",
    " for n in n_trees:\n",
    "     models[str(n)] = RandomForestClassifier(n_estimators=n)\n",
    "     print(models)\n",
    " return models\n",
    " \n",
    "def evaluate_model(model, X, y):\n",
    " \"\"\"\n",
    " Evaluate a given model using cross-validation\n",
    " return: the model accuracy.\n",
    " \"\"\"\n",
    " # define the evaluation procedure\n",
    " cv = RepeatedStratifiedKFold(n_splits=10, n_repeats=3, random_state=1)\n",
    " # evaluate the model and collect the results\n",
    " scores = cross_val_score(model, X, y, scoring='accuracy', cv=cv, n_jobs=-1)\n",
    " return scores\n",
    " \n",
    "# define dataset\n",
    "X, y = get_dataset()\n",
    "\n",
    "# get the models to evaluate\n",
    "models = get_models()\n",
    "\n",
    "# evaluate the models and store results\n",
    "results, names = list(), list()\n",
    "for name, model in models.items():\n",
    " # evaluate the model\n",
    " scores = evaluate_model(model, X, y)\n",
    " # store the results\n",
    " results.append(scores)\n",
    " names.append(name)\n",
    " # summarize the performance along the way\n",
    " print(\"Número de árboles, precisión promedio y desviación promedio\", '>%s %.3f (%.3f)' % (name, mean(scores), std(scores)))\n",
    "# plot model performance for comparison\n",
    "pyplot.boxplot(results, labels=names, showmeans=True)\n",
    "pyplot.show()"
   ]
  },
  {
   "cell_type": "markdown",
   "metadata": {},
   "source": [
    "Se observa que el rendimiento aumenta y se mantiene después de unos 100 árboles. Los resultados pueden variar debido a los estocástico del ejemplo."
   ]
  },
  {
   "cell_type": "markdown",
   "metadata": {
    "id": "ZVFAwgX_Hcn0"
   },
   "source": [
    "## Bibliografia\n",
    "\n",
    "- Quinlan, J.R. (1979) Discovering Rules by Induction from Large Collections of Examples. Expert Sys-tems in the Micro Electronic Age. Edinburgh University Press. (Introducing ID3).\n",
    "\n",
    "- IBM (n.d). ¿Qué es un árbol de decisión?. Recuperado de https://www.ibm.com/es-es/topics/decision-trees\n",
    "- Scikit-Learn (v1.2.2). sklearn.tree.DecisionTreeClassifier. Recuperado de https://scikit-learn.org/stable/modules/generated/sklearn.tree.DecisionTreeClassifier.html#sklearn.tree.DecisionTreeClassifier\n",
    "\n",
    "- Brownlee, J. (2016). How To Implement The Decision Tree Algorithm From Scratch In Python. Recuperado de https://machinelearningmastery.com/implement-decision-tree-algorithm-scratch-python/\n",
    "\n",
    "- Brownlee, J. (2020). How to Develop a Random Forest Ensemble in Python.\n",
    "Recuperado de https://machinelearningmastery.com/random-forest-ensemble-in-python/\n",
    "\n",
    "- Brownlee, J. (2020). How to Fix k-Fold Cross-Validation for Imbalanced Classification. Recuperado de https://machinelearningmastery.com/cross-validation-for-imbalanced-classification/"
   ]
  },
  {
   "cell_type": "code",
   "execution_count": null,
   "metadata": {},
   "outputs": [],
   "source": []
  }
 ],
 "metadata": {
  "colab": {
   "collapsed_sections": [],
   "name": "Arboles_decision.ipynb",
   "provenance": []
  },
  "kernelspec": {
   "display_name": "Python 3 (ipykernel)",
   "language": "python",
   "name": "python3"
  },
  "language_info": {
   "codemirror_mode": {
    "name": "ipython",
    "version": 3
   },
   "file_extension": ".py",
   "mimetype": "text/x-python",
   "name": "python",
   "nbconvert_exporter": "python",
   "pygments_lexer": "ipython3",
   "version": "3.9.15"
  }
 },
 "nbformat": 4,
 "nbformat_minor": 1
}
