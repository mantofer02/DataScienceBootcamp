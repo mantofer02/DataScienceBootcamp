{
  "cells": [
    {
      "cell_type": "markdown",
      "metadata": {
        "id": "fT4WuLOSUdtT"
      },
      "source": [
        "# Trabajo Práctico 0:  Algoritmo de Maximización de la Esperanza\n",
        "\n",
        "**Profesor**: Saúl Calderón Ramírez\n",
        "\n",
        "**Estudiantes**:\n",
        "\n",
        "* Ricardo Chacon\n",
        "* Marco Ferraro\n",
        "* Gabriel Valentine\n"
      ]
    },
    {
      "cell_type": "markdown",
      "metadata": {
        "id": "cUs05U8IUdtd"
      },
      "source": [
        "## 1. Algoritmo de Maximización de la Esperanza con datos artificiales\n",
        "\n",
        "En esta sección se llevará a cabo una implementación de un algoritmo de maximización de la esperanza. Se utilizará un grupo de funciones base."
      ]
    },
    {
      "cell_type": "markdown",
      "metadata": {
        "id": "-pxVaRf2Udtf"
      },
      "source": [
        "### 1.1 Generate Data\n",
        "\n",
        "Esta función se encarga de generar observaciones aleatorias de `K` distribuciones Gaussianas. Por defecto `K` va a presentar valor de 2.  Se recibe de parametro `N` que representa la tolidad de puntos u observaciones que se quiere generar. Un array de medias y otro de desviaciones estandar de las distribuciones respectivas.\n",
        "\n",
        "Cabe destacar que esta función retorna todas las observaciones en una matriz de dimension `Nx1`."
      ]
    },
    {
      "cell_type": "code",
      "execution_count": 74,
      "metadata": {
        "id": "Zlv1uwYGUdtg"
      },
      "outputs": [],
      "source": [
        "import numpy as np\n",
        "\n",
        "def generate_data(N, means: np.ndarray, stds: np.ndarray, K=2):\n",
        "  if len(means) != len(stds):\n",
        "    print(\"Error in dimensions\")\n",
        "    return None\n",
        "  else:\n",
        "    data = []\n",
        "    for i in range(K):\n",
        "      y = np.sqrt(-2 * np.log(np.random.rand(N // K))) * np.cos(2 * np.pi * np.random.rand(N // 2))\n",
        "      y = (y * stds[i]) + means[i]\n",
        "\n",
        "      data.append(y)\n",
        "\n",
        "    X = np.concatenate(data)\n",
        "\n",
        "    # Mezclar datos para que no esten ordenados\n",
        "    np.random.shuffle(X)\n",
        "\n",
        "    return X.reshape(-1, 1)\n",
        "\n"
      ]
    },
    {
      "cell_type": "code",
      "execution_count": 75,
      "metadata": {
        "colab": {
          "base_uri": "https://localhost:8080/"
        },
        "id": "Jx7UaCJ7Udti",
        "outputId": "6542f87d-c6eb-40bc-e07d-ea80e4823a1a"
      },
      "outputs": [
        {
          "data": {
            "text/plain": [
              "array([[7.95833999],\n",
              "       [3.53599756],\n",
              "       [2.36597353],\n",
              "       [5.96658963],\n",
              "       [7.63915525],\n",
              "       [4.07100672],\n",
              "       [3.37098027],\n",
              "       [7.30924707],\n",
              "       [6.67137135],\n",
              "       [6.1965262 ],\n",
              "       [3.54340543],\n",
              "       [2.46593521],\n",
              "       [8.15572925],\n",
              "       [8.14587477],\n",
              "       [6.8071011 ],\n",
              "       [6.87868857],\n",
              "       [5.83361248],\n",
              "       [3.50320837],\n",
              "       [7.65939407],\n",
              "       [7.71835628],\n",
              "       [5.85482329],\n",
              "       [7.24609929],\n",
              "       [3.43111236],\n",
              "       [6.19153713],\n",
              "       [2.47046749],\n",
              "       [7.29094225],\n",
              "       [3.11587335],\n",
              "       [8.42703734],\n",
              "       [2.63426307],\n",
              "       [2.92376897],\n",
              "       [6.89967512],\n",
              "       [7.63512944],\n",
              "       [7.30629805],\n",
              "       [5.08417341],\n",
              "       [5.99326778],\n",
              "       [5.90916379],\n",
              "       [2.80825765],\n",
              "       [7.9305508 ],\n",
              "       [2.89530347],\n",
              "       [2.40170398],\n",
              "       [7.82210877],\n",
              "       [7.7427205 ],\n",
              "       [7.32778518],\n",
              "       [2.99981597],\n",
              "       [3.14782381],\n",
              "       [3.78857846],\n",
              "       [3.40979143],\n",
              "       [5.82985783],\n",
              "       [3.30972277],\n",
              "       [8.80729669],\n",
              "       [2.73959402],\n",
              "       [3.12549415],\n",
              "       [6.17346765],\n",
              "       [6.17494735],\n",
              "       [3.78706494],\n",
              "       [2.64596512],\n",
              "       [3.79242082],\n",
              "       [3.34995802],\n",
              "       [6.57469581],\n",
              "       [7.98862358],\n",
              "       [3.73576085],\n",
              "       [6.66958216],\n",
              "       [3.42143996],\n",
              "       [6.76340793],\n",
              "       [6.47911703],\n",
              "       [3.17682904],\n",
              "       [2.59162766],\n",
              "       [4.26312994],\n",
              "       [8.01350542],\n",
              "       [2.93899427],\n",
              "       [6.54876502],\n",
              "       [6.64409366],\n",
              "       [2.54366555],\n",
              "       [6.74134506],\n",
              "       [6.16445686],\n",
              "       [3.31506561],\n",
              "       [5.03046497],\n",
              "       [2.82969511],\n",
              "       [2.17880042],\n",
              "       [2.94448415],\n",
              "       [2.73892193],\n",
              "       [2.55314654],\n",
              "       [6.14146587],\n",
              "       [6.30004966],\n",
              "       [7.93359289],\n",
              "       [5.43041964],\n",
              "       [2.97552977],\n",
              "       [5.77134352],\n",
              "       [2.27325506],\n",
              "       [2.80442694],\n",
              "       [2.51062261],\n",
              "       [1.87754291],\n",
              "       [2.30944703],\n",
              "       [3.07405954],\n",
              "       [3.08500735],\n",
              "       [7.67197834],\n",
              "       [2.80729438],\n",
              "       [3.3966145 ],\n",
              "       [7.86347268],\n",
              "       [2.86085915]])"
            ]
          },
          "execution_count": 75,
          "metadata": {},
          "output_type": "execute_result"
        }
      ],
      "source": [
        "N = 100\n",
        "\n",
        "means = [3.0, 7.0]\n",
        "stds = [0.5, 0.8]\n",
        "\n",
        "data = generate_data(N=100, means=means, stds=stds)\n",
        "data"
      ]
    },
    {
      "cell_type": "code",
      "execution_count": 76,
      "metadata": {
        "id": "Sto3JcgHUdtj"
      },
      "outputs": [],
      "source": [
        "import matplotlib.pyplot as plt\n",
        "import numpy as np\n",
        "\n",
        "def plot_data(data, title='Two Normal Distributions'):\n",
        "    hist_values, bin_edges = np.histogram(data, bins=20)\n",
        "    fig, ax = plt.subplots(figsize=(8, 6))\n",
        "    ax.bar(bin_edges[:-1], hist_values, width=np.diff(bin_edges), color='skyblue', alpha=0.7, label='Frequency')\n",
        "    ax.scatter(data, np.zeros_like(data), marker='o', s=30, color='b', label='Data')\n",
        "\n",
        "    y_min, y_max = ax.get_ylim()\n",
        "    ax.set_ylim(y_min - 0.5, y_max + 0.1)\n",
        "\n",
        "    ax.set_xlabel('Value')\n",
        "    ax.set_ylabel('Frequency')\n",
        "    ax.set_title(title)\n",
        "    ax.grid(True, which='both')\n",
        "\n",
        "    ax.legend()\n",
        "    plt.show()"
      ]
    },
    {
      "cell_type": "code",
      "execution_count": 77,
      "metadata": {
        "colab": {
          "base_uri": "https://localhost:8080/",
          "height": 564
        },
        "id": "fo48HGMEUdtk",
        "outputId": "2d57a466-5691-4d24-b5cc-73231931381f"
      },
      "outputs": [
        {
          "data": {
            "image/png": "[encoded data removed]",
            "text/plain": [
              "<Figure size 800x600 with 1 Axes>"
            ]
          },
          "metadata": {},
          "output_type": "display_data"
        }
      ],
      "source": [
        "plot_data(data)"
      ]
    },
    {
      "cell_type": "code",
      "execution_count": 78,
      "metadata": {
        "id": "OW88APJkUdtm"
      },
      "outputs": [],
      "source": [
        "\n",
        "# El asterisco es para desempacar la tupla.\n",
        "def init_random_parameters(K, mean_range=(0, 10), std_range=(0, 1)):\n",
        "  means = np.random.uniform(*mean_range, size=K)\n",
        "  stds = np.random.uniform(*std_range, size=K)\n",
        "\n",
        "  params = np.column_stack((means, stds)).tolist()\n",
        "\n",
        "  return params"
      ]
    },
    {
      "cell_type": "code",
      "execution_count": 79,
      "metadata": {
        "colab": {
          "base_uri": "https://localhost:8080/"
        },
        "id": "TIAz4qbvUdto",
        "outputId": "08899c47-22d2-4637-d9f3-fb8ec6c89b55"
      },
      "outputs": [
        {
          "data": {
            "text/plain": [
              "[[1.5343251599978802, 0.2776627896955861],\n",
              " [5.599847565798095, 0.568447164765027],\n",
              " [2.0604762111253128, 0.581055784807348]]"
            ]
          },
          "execution_count": 79,
          "metadata": {},
          "output_type": "execute_result"
        }
      ],
      "source": [
        "init_random_parameters(3)"
      ]
    },
    {
      "cell_type": "code",
      "execution_count": 80,
      "metadata": {
        "colab": {
          "base_uri": "https://localhost:8080/"
        },
        "id": "CQAGAKClW3mp",
        "outputId": "8ee4c54b-c5b9-419f-96d8-084c0b613119"
      },
      "outputs": [],
      "source": [
        "import numpy as np\n",
        "\n",
        "def calculate_likelihood_gaussian_observation(x_n, mu_k, sigma_k):\n",
        "     if sigma_k == 0:\n",
        "          return None\n",
        "     else:\n",
        "          log_likelihood = -0.5 * np.log(2 * np.pi * sigma_k**2) - 0.5 * (1 / sigma_k) * (x_n - mu_k)**2\n",
        "          return log_likelihood\n"
      ]
    },
    {
      "cell_type": "code",
      "execution_count": 81,
      "metadata": {},
      "outputs": [],
      "source": [
        "import unittest\n",
        "import numpy as np\n",
        "\n",
        "class TestCalculateLikelihood(unittest.TestCase):\n",
        "\n",
        "    def test_likelihood_with_zero_sigma(self):\n",
        "        x_n = 1.0\n",
        "        mu_k = 1.0\n",
        "        sigma_k = 0.0\n",
        "        result = calculate_likelihood_gaussian_observation(x_n, mu_k, sigma_k)\n",
        "\n",
        "        self.assertIsNone(result)\n",
        "\n",
        "    def test_likelihood_1(self):\n",
        "        sigma_k = 1.0\n",
        "        x_n = 0.0\n",
        "        mu_k = 0.0\n",
        "\n",
        "        result = calculate_likelihood_gaussian_observation(x_n, mu_k, sigma_k)\n",
        "\n",
        "        expected_result = -0.9189385332046727\n",
        "        self.assertAlmostEqual(result, expected_result, places=5)\n",
        "\n",
        "    def test_likelihood_2(self):\n",
        "        sigma_k = 2.0\n",
        "        x_n = 3.0\n",
        "        mu_k = 1.5\n",
        "\n",
        "        result = calculate_likelihood_gaussian_observation(x_n, mu_k, sigma_k)\n",
        "        expected_result = -2.174585713764618\n",
        "        self.assertAlmostEqual(result, expected_result, places=5)\n"
      ]
    },
    {
      "cell_type": "code",
      "execution_count": 82,
      "metadata": {},
      "outputs": [
        {
          "name": "stderr",
          "output_type": "stream",
          "text": [
            "...\n",
            "----------------------------------------------------------------------\n",
            "Ran 3 tests in 0.001s\n",
            "\n",
            "OK\n"
          ]
        }
      ],
      "source": [
        "if __name__ == '__main__':\n",
        "    loader = unittest.TestLoader()\n",
        "    suite = loader.loadTestsFromTestCase(TestCalculateLikelihood)\n",
        "    runner = unittest.TextTestRunner()\n",
        "    runner.run(suite)\n"
      ]
    },
    {
      "cell_type": "code",
      "execution_count": 83,
      "metadata": {},
      "outputs": [
        {
          "name": "stdout",
          "output_type": "stream",
          "text": [
            "Likelihood: -1.4189385332046727\n"
          ]
        }
      ],
      "source": [
        "x_n = 1.0\n",
        "mu_k = 0.0\n",
        "sigma_k = 1.0\n",
        "\n",
        "likelihood = calculate_likelihood_gaussian_observation(x_n, mu_k, sigma_k)\n",
        "\n",
        "# Comprobación\n",
        "print(f'Likelihood: {likelihood}')"
      ]
    },
    {
      "cell_type": "code",
      "execution_count": 84,
      "metadata": {
        "colab": {
          "base_uri": "https://localhost:8080/"
        },
        "id": "pHB7M_S7Xqtp",
        "outputId": "aa59846b-8ca9-43f1-d26e-492437c69b9f"
      },
      "outputs": [
        {
          "name": "stdout",
          "output_type": "stream",
          "text": [
            "Matriz de Membresía:\n",
            "[[0.41479957 0.58520043]\n",
            " [0.18081647 0.81918353]\n",
            " [0.86403014 0.13596986]\n",
            " [0.62617475 0.37382525]]\n"
          ]
        },
        {
          "name": "stderr",
          "output_type": "stream",
          "text": [
            "C:\\Users\\Marco\\AppData\\Local\\Temp\\ipykernel_9944\\3771472917.py:11: DeprecationWarning: Conversion of an array with ndim > 0 to a scalar is deprecated, and will error in future. Ensure you extract a single element from your array before performing this operation. (Deprecated NumPy 1.25.)\n",
            "  M[i, k] = log_likelihood\n"
          ]
        }
      ],
      "source": [
        "import numpy as np\n",
        "\n",
        "def calculate_membership_dataset(X_dataset, Parameters_matrix):\n",
        "    N, K = X_dataset.shape[0], Parameters_matrix.shape[0]\n",
        "    M = np.zeros((N, K))\n",
        "\n",
        "    for i in range(N):\n",
        "        for k in range(K):\n",
        "            mu_k, sigma_k = Parameters_matrix[k]\n",
        "            log_likelihood = calculate_likelihood_gaussian_observation(X_dataset[i], mu_k, sigma_k)\n",
        "            M[i, k] = log_likelihood\n",
        "\n",
        "    # Aplicar normalización softmax para obtener valores entre 0 y 1\n",
        "    M = np.exp(M - np.max(M, axis=1, keepdims=True))\n",
        "    M /= np.sum(M, axis=1, keepdims=True)\n",
        "\n",
        "    return M\n",
        "\n",
        "# Prueba Unitaria\n",
        "X_dataset = np.array([[2.5], [3.0], [1.8], [2.2]])  # Ejemplo de dataset (4 observaciones)\n",
        "Parameters_matrix = np.array([[2.0, 0.5], [3.0, 0.3]])  # Ejemplo de matriz de parámetros (2 clusters)\n",
        "\n",
        "membership_matrix = calculate_membership_dataset(X_dataset, Parameters_matrix)\n",
        "\n",
        "# Comprobación\n",
        "print(\"Matriz de Membresía:\")\n",
        "print(membership_matrix)\n"
      ]
    },
    {
      "cell_type": "code",
      "execution_count": 85,
      "metadata": {
        "colab": {
          "base_uri": "https://localhost:8080/"
        },
        "id": "flGomcnTYVw_",
        "outputId": "3f6efbcc-a25d-46f9-856a-1d2ed09a197a"
      },
      "outputs": [
        {
          "name": "stdout",
          "output_type": "stream",
          "text": [
            "Nuevas Medias:\n",
            "[[2.41 2.41]\n",
            " [2.34 2.34]]\n",
            "\n",
            "Nuevas Desviaciones Estándar:\n",
            "[[0.42532343 0.42532343]\n",
            " [0.4476606  0.4476606 ]]\n"
          ]
        }
      ],
      "source": [
        "import torch\n",
        "\n",
        "def recalculate_parameters(X_dataset, Membership_data):\n",
        "    X_torch = torch.tensor(X_dataset, dtype=torch.float32)\n",
        "    Membership_torch = torch.tensor(Membership_data, dtype=torch.float32)\n",
        "\n",
        "    # Calcular nuevas medias\n",
        "    new_means = torch.matmul(Membership_torch.T, X_torch) / torch.sum(Membership_torch, dim=0, keepdim=True)\n",
        "\n",
        "    # Calcular nuevas desviaciones estándar\n",
        "    deviations = X_torch.unsqueeze(1) - new_means\n",
        "    squared_deviations = deviations ** 2\n",
        "    weighted_squared_deviations = squared_deviations * Membership_torch.unsqueeze(2)\n",
        "    new_std = torch.sqrt(torch.sum(weighted_squared_deviations, dim=0) / torch.sum(Membership_torch, dim=0, keepdim=True))\n",
        "\n",
        "    return new_means.numpy(), new_std.numpy()\n",
        "\n",
        "# Ejemplo de uso\n",
        "X_dataset = np.array([[2.5], [3.0], [1.8], [2.2]], dtype=np.float32)\n",
        "Membership_data = np.array([[0.2, 0.8], [0.6, 0.4], [0.3, 0.7], [0.9, 0.1]], dtype=np.float32)\n",
        "\n",
        "new_means, new_std = recalculate_parameters(X_dataset, Membership_data)\n",
        "\n",
        "print(\"Nuevas Medias:\")\n",
        "print(new_means)\n",
        "\n",
        "print(\"\\nNuevas Desviaciones Estándar:\")\n",
        "print(new_std)\n",
        "\n"
      ]
    }
  ],
  "metadata": {
    "colab": {
      "provenance": []
    },
    "kernelspec": {
      "display_name": "Python 3",
      "language": "python",
      "name": "python3"
    },
    "language_info": {
      "codemirror_mode": {
        "name": "ipython",
        "version": 3
      },
      "file_extension": ".py",
      "mimetype": "text/x-python",
      "name": "python",
      "nbconvert_exporter": "python",
      "pygments_lexer": "ipython3",
      "version": "3.11.4"
    },
    "orig_nbformat": 4
  },
  "nbformat": 4,
  "nbformat_minor": 0
}
