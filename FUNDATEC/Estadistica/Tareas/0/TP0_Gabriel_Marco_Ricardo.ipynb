{
  "cells": [
    {
      "cell_type": "markdown",
      "metadata": {
        "id": "fT4WuLOSUdtT"
      },
      "source": [
        "# Trabajo Práctico 0:  Algoritmo de Maximización de la Esperanza\n",
        "\n",
        "**Profesor**: Saúl Calderón Ramírez\n",
        "\n",
        "**Estudiantes**:\n",
        "\n",
        "* Ricardo Chacon\n",
        "* Marco Ferraro\n",
        "* Gabriel Valentine\n"
      ]
    },
    {
      "cell_type": "markdown",
      "metadata": {
        "id": "cUs05U8IUdtd"
      },
      "source": [
        "## 1. Algoritmo de Maximización de la Esperanza con datos artificiales\n",
        "\n",
        "En esta sección se llevará a cabo una implementación de un algoritmo de maximización de la esperanza. Se utilizará un grupo de funciones base."
      ]
    },
    {
      "cell_type": "markdown",
      "metadata": {
        "id": "-pxVaRf2Udtf"
      },
      "source": [
        "### 1.1 Generate Data\n",
        "\n",
        "Esta función se encarga de generar observaciones aleatorias de `K` distribuciones Gaussianas. Por defecto `K` va a presentar valor de 2.  Se recibe de parametro `N` que representa la tolidad de puntos u observaciones que se quiere generar. Un array de medias y otro de desviaciones estandar de las distribuciones respectivas.\n",
        "\n",
        "Cabe destacar que esta función retorna todas las observaciones en una matriz de dimension `Nx1`."
      ]
    },
    {
      "cell_type": "code",
      "execution_count": null,
      "metadata": {
        "id": "Zlv1uwYGUdtg"
      },
      "outputs": [],
      "source": [
        "import numpy as np\n",
        "\n",
        "def generate_data(N, means: np.ndarray, stds: np.ndarray, K=2):\n",
        "  if len(means) != len(stds):\n",
        "    print(\"Error in dimensions\")\n",
        "    return None\n",
        "  else:\n",
        "    data = []\n",
        "    for i in range(K):\n",
        "      y = np.sqrt(-2 * np.log(np.random.rand(N // K))) * np.cos(2 * np.pi * np.random.rand(N // 2))\n",
        "      y = (y * stds[i]) + means[i]\n",
        "\n",
        "      data.append(y)\n",
        "\n",
        "    X = np.concatenate(data)\n",
        "\n",
        "    # Mezclar datos para que no esten ordenados\n",
        "    np.random.shuffle(X)\n",
        "\n",
        "    return X.reshape(-1, 1)\n",
        "\n"
      ]
    },
    {
      "cell_type": "code",
      "execution_count": null,
      "metadata": {
        "colab": {
          "base_uri": "https://localhost:8080/"
        },
        "id": "Jx7UaCJ7Udti",
        "outputId": "6542f87d-c6eb-40bc-e07d-ea80e4823a1a"
      },
      "outputs": [
        {
          "data": {
            "text/plain": [
              "array([[3.66998415],\n",
              "       [2.96718433],\n",
              "       [2.9220508 ],\n",
              "       [7.79426522],\n",
              "       [2.7936846 ],\n",
              "       [6.96646044],\n",
              "       [6.16664415],\n",
              "       [6.01462627],\n",
              "       [3.1296402 ],\n",
              "       [7.35408865],\n",
              "       [6.71840042],\n",
              "       [3.79040569],\n",
              "       [7.41733791],\n",
              "       [2.73690029],\n",
              "       [2.83156193],\n",
              "       [7.00611524],\n",
              "       [3.22154884],\n",
              "       [6.23137016],\n",
              "       [6.60546887],\n",
              "       [6.60670872],\n",
              "       [4.88989333],\n",
              "       [2.56863175],\n",
              "       [6.7249571 ],\n",
              "       [2.64472541],\n",
              "       [2.80693647],\n",
              "       [2.18953746],\n",
              "       [6.82934018],\n",
              "       [6.47325327],\n",
              "       [6.2862851 ],\n",
              "       [2.44595136],\n",
              "       [8.20100829],\n",
              "       [3.1528138 ],\n",
              "       [2.59612949],\n",
              "       [7.44996365],\n",
              "       [5.81656996],\n",
              "       [6.66268237],\n",
              "       [2.32620336],\n",
              "       [3.26296068],\n",
              "       [6.52780487],\n",
              "       [3.23847058],\n",
              "       [2.59987619],\n",
              "       [3.16590535],\n",
              "       [2.52950167],\n",
              "       [5.73771761],\n",
              "       [3.23953492],\n",
              "       [2.49359436],\n",
              "       [3.04965915],\n",
              "       [2.84676577],\n",
              "       [3.50773758],\n",
              "       [7.17652505],\n",
              "       [5.36031957],\n",
              "       [3.15580353],\n",
              "       [6.82647332],\n",
              "       [6.73014399],\n",
              "       [2.9965986 ],\n",
              "       [7.05325262],\n",
              "       [7.58255764],\n",
              "       [3.04609945],\n",
              "       [5.92621542],\n",
              "       [7.63880287],\n",
              "       [5.95343953],\n",
              "       [6.2854437 ],\n",
              "       [2.99625143],\n",
              "       [2.76241736],\n",
              "       [7.30284222],\n",
              "       [7.3021516 ],\n",
              "       [5.85443584],\n",
              "       [3.8836875 ],\n",
              "       [3.27577759],\n",
              "       [2.83867052],\n",
              "       [4.11381166],\n",
              "       [2.95423382],\n",
              "       [2.37787343],\n",
              "       [7.42502748],\n",
              "       [2.73722074],\n",
              "       [3.52581986],\n",
              "       [2.64401807],\n",
              "       [2.18955485],\n",
              "       [6.86983162],\n",
              "       [6.01238302],\n",
              "       [6.98937502],\n",
              "       [2.27708504],\n",
              "       [6.32571212],\n",
              "       [7.24057359],\n",
              "       [3.23051452],\n",
              "       [7.73816625],\n",
              "       [7.65280196],\n",
              "       [6.83004175],\n",
              "       [3.98462582],\n",
              "       [3.21275713],\n",
              "       [5.6964275 ],\n",
              "       [3.60215159],\n",
              "       [8.43737805],\n",
              "       [6.79683314],\n",
              "       [2.91125508],\n",
              "       [7.1203461 ],\n",
              "       [3.31281185],\n",
              "       [5.95621215],\n",
              "       [8.01011659],\n",
              "       [6.47546309]])"
            ]
          },
          "execution_count": 3,
          "metadata": {},
          "output_type": "execute_result"
        }
      ],
      "source": [
        "N = 100\n",
        "\n",
        "means = [3.0, 7.0]\n",
        "stds = [0.5, 0.8]\n",
        "\n",
        "data = generate_data(N=100, means=means, stds=stds)\n",
        "data"
      ]
    },
    {
      "cell_type": "code",
      "execution_count": null,
      "metadata": {
        "id": "Sto3JcgHUdtj"
      },
      "outputs": [],
      "source": [
        "import matplotlib.pyplot as plt\n",
        "import numpy as np\n",
        "\n",
        "def plot_data(data, title='Two Normal Distributions'):\n",
        "    hist_values, bin_edges = np.histogram(data, bins=20)\n",
        "    fig, ax = plt.subplots(figsize=(8, 6))\n",
        "    ax.bar(bin_edges[:-1], hist_values, width=np.diff(bin_edges), color='skyblue', alpha=0.7, label='Frequency')\n",
        "    ax.scatter(data, np.zeros_like(data), marker='o', s=30, color='b', label='Data')\n",
        "\n",
        "    y_min, y_max = ax.get_ylim()\n",
        "    ax.set_ylim(y_min - 0.5, y_max + 0.1)\n",
        "\n",
        "    ax.set_xlabel('Value')\n",
        "    ax.set_ylabel('Frequency')\n",
        "    ax.set_title(title)\n",
        "    ax.grid(True, which='both')\n",
        "\n",
        "    ax.legend()\n",
        "    plt.show()"
      ]
    },
    {
      "cell_type": "code",
      "execution_count": null,
      "metadata": {
        "colab": {
          "base_uri": "https://localhost:8080/",
          "height": 564
        },
        "id": "fo48HGMEUdtk",
        "outputId": "2d57a466-5691-4d24-b5cc-73231931381f"
      },
      "outputs": [
        {
          "data": {
            "image/png": "[encoded data removed]",
            "text/plain": [
              "<Figure size 800x600 with 1 Axes>"
            ]
          },
          "metadata": {},
          "output_type": "display_data"
        }
      ],
      "source": [
        "plot_data(data)"
      ]
    },
    {
      "cell_type": "code",
      "execution_count": null,
      "metadata": {
        "id": "OW88APJkUdtm"
      },
      "outputs": [],
      "source": [
        "\n",
        "# El asterisco es para desempacar la tupla.\n",
        "def init_random_parameters(K, mean_range=(0, 10), std_range=(0, 1)):\n",
        "  means = np.random.uniform(*mean_range, size=K)\n",
        "  stds = np.random.uniform(*std_range, size=K)\n",
        "\n",
        "  params = np.column_stack((means, stds)).tolist()\n",
        "\n",
        "  return params"
      ]
    },
    {
      "cell_type": "code",
      "execution_count": null,
      "metadata": {
        "colab": {
          "base_uri": "https://localhost:8080/"
        },
        "id": "TIAz4qbvUdto",
        "outputId": "08899c47-22d2-4637-d9f3-fb8ec6c89b55"
      },
      "outputs": [
        {
          "data": {
            "text/plain": [
              "[[7.065079293907514, 0.23386200242383015],\n",
              " [8.359163627456542, 0.481536877138774],\n",
              " [3.791742857806563, 0.45383778855691903],\n",
              " [1.9012224822214685, 0.17143595210428797],\n",
              " [7.437920981438372, 0.8207967987216976]]"
            ]
          },
          "execution_count": 8,
          "metadata": {},
          "output_type": "execute_result"
        }
      ],
      "source": [
        "init_random_parameters(3)"
      ]
    },
    {
      "cell_type": "code",
      "execution_count": null,
      "metadata": {
        "colab": {
          "base_uri": "https://localhost:8080/"
        },
        "id": "CQAGAKClW3mp",
        "outputId": "8ee4c54b-c5b9-419f-96d8-084c0b613119"
      },
      "outputs": [
        {
          "name": "stdout",
          "output_type": "stream",
          "text": [
            "Likelihood: -1.4189385332046727\n"
          ]
        }
      ],
      "source": [
        "import numpy as np\n",
        "\n",
        "def calculate_likelihood_gaussian_observation(x_n, mu_k, sigma_k):\n",
        "    log_likelihood = -0.5 * np.log(2 * np.pi * sigma_k**2) - 0.5 * ((x_n - mu_k) / sigma_k)**2\n",
        "    return log_likelihood\n",
        "\n",
        "# Prueba Unitaria\n",
        "x_n = 3.0\n",
        "mu_k = 2.0\n",
        "sigma_k = 1.0\n",
        "\n",
        "likelihood = calculate_likelihood_gaussian_observation(x_n, mu_k, sigma_k)\n",
        "\n",
        "# Comprobación\n",
        "print(f'Likelihood: {likelihood}')\n"
      ]
    },
    {
      "cell_type": "code",
      "execution_count": null,
      "metadata": {
        "colab": {
          "base_uri": "https://localhost:8080/"
        },
        "id": "pHB7M_S7Xqtp",
        "outputId": "aa59846b-8ca9-43f1-d26e-492437c69b9f"
      },
      "outputs": [
        {
          "name": "stdout",
          "output_type": "stream",
          "text": [
            "Matriz de Membresía:\n",
            "[[5.93405901e-01 4.06594099e-01]\n",
            " [7.51027396e-02 9.24897260e-01]\n",
            " [9.99394696e-01 6.05303929e-04]\n",
            " [9.50955067e-01 4.90449332e-02]]\n"
          ]
        }
      ],
      "source": [
        "import numpy as np\n",
        "\n",
        "def calculate_membership_dataset(X_dataset, Parameters_matrix):\n",
        "    N, K = X_dataset.shape[0], Parameters_matrix.shape[0]\n",
        "    M = np.zeros((N, K))\n",
        "\n",
        "    for i in range(N):\n",
        "        for k in range(K):\n",
        "            mu_k, sigma_k = Parameters_matrix[k]\n",
        "            log_likelihood = calculate_likelihood_gaussian_observation(X_dataset[i], mu_k, sigma_k)\n",
        "            M[i, k] = log_likelihood\n",
        "\n",
        "    # Aplicar normalización softmax para obtener valores entre 0 y 1\n",
        "    M = np.exp(M - np.max(M, axis=1, keepdims=True))\n",
        "    M /= np.sum(M, axis=1, keepdims=True)\n",
        "\n",
        "    return M\n",
        "\n",
        "# Prueba Unitaria\n",
        "X_dataset = np.array([[2.5], [3.0], [1.8], [2.2]])  # Ejemplo de dataset (4 observaciones)\n",
        "Parameters_matrix = np.array([[2.0, 0.5], [3.0, 0.3]])  # Ejemplo de matriz de parámetros (2 clusters)\n",
        "\n",
        "membership_matrix = calculate_membership_dataset(X_dataset, Parameters_matrix)\n",
        "\n",
        "# Comprobación\n",
        "print(\"Matriz de Membresía:\")\n",
        "print(membership_matrix)\n"
      ]
    },
    {
      "cell_type": "code",
      "execution_count": null,
      "metadata": {
        "colab": {
          "base_uri": "https://localhost:8080/"
        },
        "id": "flGomcnTYVw_",
        "outputId": "3f6efbcc-a25d-46f9-856a-1d2ed09a197a"
      },
      "outputs": [
        {
          "name": "stdout",
          "output_type": "stream",
          "text": [
            "Nuevas Medias:\n",
            "[[2.41 2.41]\n",
            " [2.34 2.34]]\n",
            "\n",
            "Nuevas Desviaciones Estándar:\n",
            "[[0.4253234 0.4253234]\n",
            " [0.4476606 0.4476606]]\n"
          ]
        }
      ],
      "source": [
        "import torch\n",
        "\n",
        "def recalculate_parameters(X_dataset, Membership_data):\n",
        "    X_torch = torch.tensor(X_dataset, dtype=torch.float32)\n",
        "    Membership_torch = torch.tensor(Membership_data, dtype=torch.float32)\n",
        "\n",
        "    # Calcular nuevas medias\n",
        "    new_means = torch.matmul(Membership_torch.T, X_torch) / torch.sum(Membership_torch, dim=0, keepdim=True)\n",
        "\n",
        "    # Calcular nuevas desviaciones estándar\n",
        "    deviations = X_torch.unsqueeze(1) - new_means\n",
        "    squared_deviations = deviations ** 2\n",
        "    weighted_squared_deviations = squared_deviations * Membership_torch.unsqueeze(2)\n",
        "    new_std = torch.sqrt(torch.sum(weighted_squared_deviations, dim=0) / torch.sum(Membership_torch, dim=0, keepdim=True))\n",
        "\n",
        "    return new_means.numpy(), new_std.numpy()\n",
        "\n",
        "# Ejemplo de uso\n",
        "X_dataset = np.array([[2.5], [3.0], [1.8], [2.2]], dtype=np.float32)\n",
        "Membership_data = np.array([[0.2, 0.8], [0.6, 0.4], [0.3, 0.7], [0.9, 0.1]], dtype=np.float32)\n",
        "\n",
        "new_means, new_std = recalculate_parameters(X_dataset, Membership_data)\n",
        "\n",
        "print(\"Nuevas Medias:\")\n",
        "print(new_means)\n",
        "\n",
        "print(\"\\nNuevas Desviaciones Estándar:\")\n",
        "print(new_std)\n",
        "\n"
      ]
    }
  ],
  "metadata": {
    "colab": {
      "provenance": []
    },
    "kernelspec": {
      "display_name": "Python 3",
      "language": "python",
      "name": "python3"
    },
    "language_info": {
      "codemirror_mode": {
        "name": "ipython",
        "version": 3
      },
      "file_extension": ".py",
      "mimetype": "text/x-python",
      "name": "python",
      "nbconvert_exporter": "python",
      "pygments_lexer": "ipython3",
      "version": "3.11.4"
    },
    "orig_nbformat": 4
  },
  "nbformat": 4,
  "nbformat_minor": 0
}
