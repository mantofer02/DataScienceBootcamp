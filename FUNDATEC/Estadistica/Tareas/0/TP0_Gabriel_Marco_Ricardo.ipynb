{
 "cells": [
  {
   "cell_type": "markdown",
   "metadata": {},
   "source": [
    "# Trabajo Práctico 0:  Algoritmo de Maximización de la Esperanza\n",
    "\n",
    "**Profesor**: Saúl Calderón Ramírez\n",
    "\n",
    "**Estudiantes**: \n",
    "\n",
    "* Ricardo Chacon\n",
    "* Marco Ferraro\n",
    "* Gabriel Valentine\n"
   ]
  },
  {
   "cell_type": "markdown",
   "metadata": {},
   "source": [
    "## 1. Algoritmo de Maximización de la Esperanza con datos artificiales\n",
    "\n",
    "En esta sección se llevará a cabo una implementación de un algoritmo de maximización de la esperanza. Se utilizará un grupo de funciones base."
   ]
  },
  {
   "cell_type": "markdown",
   "metadata": {},
   "source": [
    "### 1.1 Generate Data\n",
    "\n",
    "Esta función se encarga de generar observaciones aleatorias de `K` distribuciones Gaussianas. Por defecto `K` va a presentar valor de 2.  Se recibe de parametro `N` que representa la tolidad de puntos u observaciones que se quiere generar. Un array de medias y otro de desviaciones estandar de las distribuciones respectivas. \n",
    "\n",
    "Cabe destacar que esta función retorna todas las observaciones en una matriz de dimension `Nx1`."
   ]
  },
  {
   "cell_type": "code",
   "execution_count": 106,
   "metadata": {},
   "outputs": [],
   "source": [
    "import numpy as np\n",
    "\n",
    "def generate_data(N, means: np.ndarray, stds: np.ndarray, K=2):\n",
    "  if len(means) != len(stds):\n",
    "    print(\"Error in dimensions\")\n",
    "    return None\n",
    "  else:\n",
    "    data = []\n",
    "    for i in range(K):\n",
    "      y = np.sqrt(-2 * np.log(np.random.rand(N // K))) * np.cos(2 * np.pi * np.random.rand(N // 2))\n",
    "      y = (y * stds[i]) + means[i]\n",
    "\n",
    "      data.append(y)\n",
    "\n",
    "    X = np.concatenate(data)\n",
    "    \n",
    "    # Mezclar datos para que no esten ordenados\n",
    "    np.random.shuffle(X)\n",
    "\n",
    "    return X.reshape(-1, 1)\n",
    "\n"
   ]
  },
  {
   "cell_type": "code",
   "execution_count": 97,
   "metadata": {},
   "outputs": [
    {
     "data": {
      "text/plain": [
       "array([[2.5105614 ],\n",
       "       [2.62361019],\n",
       "       [3.39850021],\n",
       "       [2.75586578],\n",
       "       [7.07506722],\n",
       "       [5.51763152],\n",
       "       [6.05490056],\n",
       "       [2.86312787],\n",
       "       [6.69955086],\n",
       "       [3.01487769],\n",
       "       [6.76943272],\n",
       "       [3.22531495],\n",
       "       [8.20174216],\n",
       "       [3.61407708],\n",
       "       [7.79337375],\n",
       "       [2.94145626],\n",
       "       [3.37863876],\n",
       "       [6.82904559],\n",
       "       [6.46220718],\n",
       "       [6.03307467],\n",
       "       [3.86950401],\n",
       "       [2.8069864 ],\n",
       "       [2.6575708 ],\n",
       "       [2.63522036],\n",
       "       [2.6720846 ],\n",
       "       [2.72964113],\n",
       "       [2.99918807],\n",
       "       [6.804681  ],\n",
       "       [6.04015195],\n",
       "       [2.81666142],\n",
       "       [5.51951458],\n",
       "       [6.8678586 ],\n",
       "       [2.06277172],\n",
       "       [3.1315524 ],\n",
       "       [5.59845541],\n",
       "       [4.04752391],\n",
       "       [2.83372746],\n",
       "       [2.35026415],\n",
       "       [3.18393344],\n",
       "       [2.7634509 ],\n",
       "       [3.75921654],\n",
       "       [2.98878234],\n",
       "       [3.47366593],\n",
       "       [6.0250179 ],\n",
       "       [5.03760453],\n",
       "       [2.94426327],\n",
       "       [3.22584177],\n",
       "       [7.84240158],\n",
       "       [7.18568321],\n",
       "       [8.52794005],\n",
       "       [2.98531298],\n",
       "       [2.54738045],\n",
       "       [2.79279405],\n",
       "       [3.50077152],\n",
       "       [1.99159805],\n",
       "       [5.20705044],\n",
       "       [2.2591339 ],\n",
       "       [8.31167297],\n",
       "       [7.43725937],\n",
       "       [7.57908696],\n",
       "       [2.55691081],\n",
       "       [7.51146582],\n",
       "       [6.69111872],\n",
       "       [5.88904698],\n",
       "       [2.58972522],\n",
       "       [3.27231222],\n",
       "       [7.66517871],\n",
       "       [3.25870286],\n",
       "       [8.18101731],\n",
       "       [7.29458712],\n",
       "       [7.93801402],\n",
       "       [2.39004528],\n",
       "       [6.92894208],\n",
       "       [5.52348676],\n",
       "       [2.80823644],\n",
       "       [1.85793964],\n",
       "       [6.83548302],\n",
       "       [2.67865429],\n",
       "       [7.67489116],\n",
       "       [7.45027444],\n",
       "       [6.9033044 ],\n",
       "       [3.23119535],\n",
       "       [6.32812335],\n",
       "       [6.39458122],\n",
       "       [7.36930717],\n",
       "       [6.52121782],\n",
       "       [3.55149021],\n",
       "       [5.30354953],\n",
       "       [7.03839443],\n",
       "       [7.11835925],\n",
       "       [7.10810182],\n",
       "       [6.58287759],\n",
       "       [7.9610989 ],\n",
       "       [3.40546301],\n",
       "       [7.31724421],\n",
       "       [2.78875736],\n",
       "       [3.08156961],\n",
       "       [2.79305085],\n",
       "       [7.08623302],\n",
       "       [6.51111972]])"
      ]
     },
     "execution_count": 97,
     "metadata": {},
     "output_type": "execute_result"
    }
   ],
   "source": [
    "N = 100\n",
    "\n",
    "means = [3.0, 7.0]\n",
    "stds = [0.5, 0.8]\n",
    "\n",
    "data = generate_data(N=100, means=means, stds=stds)\n",
    "data"
   ]
  },
  {
   "cell_type": "code",
   "execution_count": 98,
   "metadata": {},
   "outputs": [],
   "source": [
    "import matplotlib.pyplot as plt\n",
    "import numpy as np\n",
    "\n",
    "def plot_data(data, title='Two Normal Distributions'):\n",
    "    hist_values, bin_edges = np.histogram(data, bins=20)\n",
    "    fig, ax = plt.subplots(figsize=(8, 6))\n",
    "    ax.bar(bin_edges[:-1], hist_values, width=np.diff(bin_edges), color='skyblue', alpha=0.7, label='Frequency')\n",
    "    ax.scatter(data, np.zeros_like(data), marker='o', s=30, color='b', label='Data')\n",
    "\n",
    "    y_min, y_max = ax.get_ylim()\n",
    "    ax.set_ylim(y_min - 0.5, y_max + 0.1)\n",
    "\n",
    "    ax.set_xlabel('Value')\n",
    "    ax.set_ylabel('Frequency')\n",
    "    ax.set_title(title)\n",
    "    ax.grid(True, which='both')\n",
    "    \n",
    "    ax.legend()\n",
    "    plt.show()"
   ]
  },
  {
   "cell_type": "code",
   "execution_count": 99,
   "metadata": {},
   "outputs": [
    {
     "data": {
      "image/png": "[encoded data removed]",
      "text/plain": [
       "<Figure size 800x600 with 1 Axes>"
      ]
     },
     "metadata": {},
     "output_type": "display_data"
    }
   ],
   "source": [
    "plot_data(data)"
   ]
  },
  {
   "cell_type": "code",
   "execution_count": 100,
   "metadata": {},
   "outputs": [],
   "source": [
    "\n",
    "# El asterisco es para desempacar la tupla. \n",
    "def init_random_parameters(K, mean_range=(0, 10), std_range=(0, 1)):\n",
    "  means = np.random.uniform(*mean_range, size=K)\n",
    "  stds = np.random.uniform(*std_range, size=K)\n",
    "  \n",
    "  params = np.column_stack((means, stds)).tolist()\n",
    "\n",
    "  return params"
   ]
  },
  {
   "cell_type": "code",
   "execution_count": 105,
   "metadata": {},
   "outputs": [
    {
     "data": {
      "text/plain": [
       "[[1.0364276575324005, 0.5306393818072032],\n",
       " [8.721509727957514, 0.4775748753590756],\n",
       " [6.528119905640799, 0.8523674564754635]]"
      ]
     },
     "execution_count": 105,
     "metadata": {},
     "output_type": "execute_result"
    }
   ],
   "source": [
    "init_random_parameters(3)"
   ]
  }
 ],
 "metadata": {
  "kernelspec": {
   "display_name": "Python 3",
   "language": "python",
   "name": "python3"
  },
  "language_info": {
   "codemirror_mode": {
    "name": "ipython",
    "version": 3
   },
   "file_extension": ".py",
   "mimetype": "text/x-python",
   "name": "python",
   "nbconvert_exporter": "python",
   "pygments_lexer": "ipython3",
   "version": "3.11.4"
  },
  "orig_nbformat": 4
 },
 "nbformat": 4,
 "nbformat_minor": 2
}
