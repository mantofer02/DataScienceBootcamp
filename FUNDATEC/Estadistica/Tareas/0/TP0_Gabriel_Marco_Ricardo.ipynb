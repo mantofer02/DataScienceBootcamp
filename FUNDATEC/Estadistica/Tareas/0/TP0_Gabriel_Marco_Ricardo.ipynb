{
 "cells": [
  {
   "cell_type": "code",
   "execution_count": null,
   "metadata": {},
   "outputs": [],
   "source": [
    "import numpy as np\n",
    "\n",
    "def generate_data(N, means: np.ndarray, stds: np.ndarray, K=2):\n",
    "  if len(means) != len(stds):\n",
    "    print(\"Error in dimensions\")\n",
    "    return None\n",
    "  else:\n",
    "    data = []\n",
    "    for i in range(K):\n",
    "      y = np.sqrt(-2 * np.log(np.random.rand(N // K))) * np.cos(2 * np.pi * np.random.rand(N // 2))\n",
    "      y = (y * stds[i]) + means[i]"
   ]
  }
 ],
 "metadata": {
  "language_info": {
   "name": "python"
  },
  "orig_nbformat": 4
 },
 "nbformat": 4,
 "nbformat_minor": 2
}
