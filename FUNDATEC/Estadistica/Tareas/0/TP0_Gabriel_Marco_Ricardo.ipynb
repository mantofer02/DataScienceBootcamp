{
  "cells": [
    {
      "cell_type": "markdown",
      "metadata": {
        "id": "fT4WuLOSUdtT"
      },
      "source": [
        "# Trabajo Práctico 0:  Algoritmo de Maximización de la Esperanza\n",
        "\n",
        "**Profesor**: Saúl Calderón Ramírez\n",
        "\n",
        "**Estudiantes**:\n",
        "\n",
        "* Ricardo Chacon\n",
        "* Marco Ferraro\n",
        "* Gabriel Valentine\n"
      ]
    },
    {
      "cell_type": "markdown",
      "metadata": {
        "id": "cUs05U8IUdtd"
      },
      "source": [
        "## 1. Algoritmo de Maximización de la Esperanza con datos artificiales\n",
        "\n",
        "En esta sección se llevará a cabo una implementación de un algoritmo de maximización de la esperanza. Se utilizará un grupo de funciones base."
      ]
    },
    {
      "cell_type": "markdown",
      "metadata": {
        "id": "-pxVaRf2Udtf"
      },
      "source": [
        "### 1.1 Generate Data\n",
        "\n",
        "Esta función se encarga de generar observaciones aleatorias de `K` distribuciones Gaussianas. Por defecto `K` va a presentar valor de 2.  Se recibe de parametro `N` que representa la tolidad de puntos u observaciones que se quiere generar. Un array de medias y otro de desviaciones estandar de las distribuciones respectivas.\n",
        "\n",
        "Cabe destacar que esta función retorna todas las observaciones en una matriz de dimension `Nx1`."
      ]
    },
    {
      "cell_type": "code",
      "execution_count": 1,
      "metadata": {
        "id": "Zlv1uwYGUdtg"
      },
      "outputs": [],
      "source": [
        "import numpy as np\n",
        "\n",
        "def generate_data(N, means: np.ndarray, stds: np.ndarray, K=2):\n",
        "  if len(means) != len(stds):\n",
        "    print(\"Error in dimensions\")\n",
        "    return None\n",
        "  else:\n",
        "    data = []\n",
        "    for i in range(K):\n",
        "      y = np.sqrt(-2 * np.log(np.random.rand(N // K))) * np.cos(2 * np.pi * np.random.rand(N // 2))\n",
        "      y = (y * stds[i]) + means[i]\n",
        "\n",
        "      data.append(y)\n",
        "\n",
        "    X = np.concatenate(data)\n",
        "\n",
        "    # Mezclar datos para que no esten ordenados\n",
        "    np.random.shuffle(X)\n",
        "\n",
        "    return X.reshape(-1, 1)\n",
        "\n"
      ]
    },
    {
      "cell_type": "code",
      "execution_count": 2,
      "metadata": {
        "colab": {
          "base_uri": "https://localhost:8080/"
        },
        "id": "Jx7UaCJ7Udti",
        "outputId": "6542f87d-c6eb-40bc-e07d-ea80e4823a1a"
      },
      "outputs": [
        {
          "data": {
            "text/plain": [
              "array([[3.49913689],\n",
              "       [6.3908546 ],\n",
              "       [3.29673608],\n",
              "       [6.37612722],\n",
              "       [2.34402533],\n",
              "       [3.10831941],\n",
              "       [7.37169455],\n",
              "       [3.52049924],\n",
              "       [6.94671354],\n",
              "       [6.99326453],\n",
              "       [3.10351557],\n",
              "       [3.28736506],\n",
              "       [3.21145013],\n",
              "       [7.10120399],\n",
              "       [8.48041386],\n",
              "       [7.75699313],\n",
              "       [7.73451801],\n",
              "       [2.33868928],\n",
              "       [3.20297882],\n",
              "       [3.36495469],\n",
              "       [3.37509185],\n",
              "       [2.57782612],\n",
              "       [6.56967367],\n",
              "       [7.66921889],\n",
              "       [7.68091176],\n",
              "       [7.26739329],\n",
              "       [2.50378847],\n",
              "       [2.07822321],\n",
              "       [6.74551562],\n",
              "       [7.07409062],\n",
              "       [7.83411434],\n",
              "       [6.16836283],\n",
              "       [7.34887165],\n",
              "       [6.75552186],\n",
              "       [6.09481709],\n",
              "       [3.79675517],\n",
              "       [7.4467225 ],\n",
              "       [7.07570088],\n",
              "       [3.50566618],\n",
              "       [1.54257404],\n",
              "       [8.05289164],\n",
              "       [8.35679796],\n",
              "       [6.03625195],\n",
              "       [3.7334967 ],\n",
              "       [4.13801674],\n",
              "       [3.01402771],\n",
              "       [5.75858798],\n",
              "       [6.83818588],\n",
              "       [3.45022363],\n",
              "       [3.34987921],\n",
              "       [3.15938302],\n",
              "       [8.01035252],\n",
              "       [3.55871163],\n",
              "       [7.52667562],\n",
              "       [6.69609325],\n",
              "       [7.40509614],\n",
              "       [3.19217677],\n",
              "       [3.08496388],\n",
              "       [2.54002334],\n",
              "       [6.80239349],\n",
              "       [7.85850813],\n",
              "       [6.92628461],\n",
              "       [7.77694987],\n",
              "       [3.28359547],\n",
              "       [4.10172799],\n",
              "       [2.82690536],\n",
              "       [3.36642163],\n",
              "       [6.03173816],\n",
              "       [2.5443939 ],\n",
              "       [8.42192438],\n",
              "       [6.5644267 ],\n",
              "       [2.77509985],\n",
              "       [3.43374163],\n",
              "       [3.29534837],\n",
              "       [2.82056675],\n",
              "       [1.91827524],\n",
              "       [6.11549424],\n",
              "       [6.86878104],\n",
              "       [3.1949783 ],\n",
              "       [2.83753981],\n",
              "       [8.40526689],\n",
              "       [2.82994388],\n",
              "       [7.41990362],\n",
              "       [3.32004368],\n",
              "       [3.83922805],\n",
              "       [4.78841456],\n",
              "       [3.30062916],\n",
              "       [6.01515663],\n",
              "       [6.20918098],\n",
              "       [2.65668798],\n",
              "       [7.15719751],\n",
              "       [6.08299236],\n",
              "       [3.29650288],\n",
              "       [3.19238977],\n",
              "       [8.72012309],\n",
              "       [6.34569965],\n",
              "       [3.26325164],\n",
              "       [2.87886218],\n",
              "       [1.85972709],\n",
              "       [7.07869965]])"
            ]
          },
          "execution_count": 2,
          "metadata": {},
          "output_type": "execute_result"
        }
      ],
      "source": [
        "N = 100\n",
        "\n",
        "means = [3.0, 7.0]\n",
        "stds = [0.5, 0.8]\n",
        "\n",
        "data = generate_data(N=100, means=means, stds=stds)\n",
        "data"
      ]
    },
    {
      "cell_type": "code",
      "execution_count": 3,
      "metadata": {
        "id": "Sto3JcgHUdtj"
      },
      "outputs": [],
      "source": [
        "import matplotlib.pyplot as plt\n",
        "import numpy as np\n",
        "\n",
        "def plot_data(data, title='Two Normal Distributions'):\n",
        "    hist_values, bin_edges = np.histogram(data, bins=20)\n",
        "    fig, ax = plt.subplots(figsize=(8, 6))\n",
        "    ax.bar(bin_edges[:-1], hist_values, width=np.diff(bin_edges), color='skyblue', alpha=0.7, label='Frequency')\n",
        "    ax.scatter(data, np.zeros_like(data), marker='o', s=30, color='b', label='Data')\n",
        "\n",
        "    y_min, y_max = ax.get_ylim()\n",
        "    ax.set_ylim(y_min - 0.5, y_max + 0.1)\n",
        "\n",
        "    ax.set_xlabel('Value')\n",
        "    ax.set_ylabel('Frequency')\n",
        "    ax.set_title(title)\n",
        "    ax.grid(True, which='both')\n",
        "\n",
        "    ax.legend()\n",
        "    plt.show()"
      ]
    },
    {
      "cell_type": "code",
      "execution_count": 4,
      "metadata": {
        "colab": {
          "base_uri": "https://localhost:8080/",
          "height": 564
        },
        "id": "fo48HGMEUdtk",
        "outputId": "2d57a466-5691-4d24-b5cc-73231931381f"
      },
      "outputs": [
        {
          "data": {
            "image/png": "[encoded data removed]",
            "text/plain": [
              "<Figure size 800x600 with 1 Axes>"
            ]
          },
          "metadata": {},
          "output_type": "display_data"
        }
      ],
      "source": [
        "plot_data(data)"
      ]
    },
    {
      "cell_type": "code",
      "execution_count": 5,
      "metadata": {
        "id": "OW88APJkUdtm"
      },
      "outputs": [],
      "source": [
        "\n",
        "# El asterisco es para desempacar la tupla.\n",
        "def init_random_parameters(K, mean_range=(0, 10), std_range=(0, 1)):\n",
        "  means = np.random.uniform(*mean_range, size=K)\n",
        "  stds = np.random.uniform(*std_range, size=K)\n",
        "\n",
        "  params = np.column_stack((means, stds)).tolist()\n",
        "\n",
        "  return params"
      ]
    },
    {
      "cell_type": "code",
      "execution_count": 6,
      "metadata": {
        "colab": {
          "base_uri": "https://localhost:8080/"
        },
        "id": "TIAz4qbvUdto",
        "outputId": "08899c47-22d2-4637-d9f3-fb8ec6c89b55"
      },
      "outputs": [
        {
          "data": {
            "text/plain": [
              "[[0.4856910922114732, 0.37640123398344594],\n",
              " [7.61936620277615, 0.9670936628683194],\n",
              " [1.6798085077491676, 0.8090708378182829]]"
            ]
          },
          "execution_count": 6,
          "metadata": {},
          "output_type": "execute_result"
        }
      ],
      "source": [
        "init_random_parameters(3)"
      ]
    },
    {
      "cell_type": "code",
      "execution_count": 7,
      "metadata": {
        "colab": {
          "base_uri": "https://localhost:8080/"
        },
        "id": "CQAGAKClW3mp",
        "outputId": "8ee4c54b-c5b9-419f-96d8-084c0b613119"
      },
      "outputs": [],
      "source": [
        "import numpy as np\n",
        "\n",
        "def calculate_likelihood_gaussian_observation(x_n, mu_k, sigma_k):\n",
        "     log_likelihood = -0.5 * np.log(2 * np.pi * sigma_k**2) - 0.5 * (1 / sigma_k) * (x_n - mu_k)**2\n",
        "     return log_likelihood\n"
      ]
    },
    {
      "cell_type": "code",
      "execution_count": 8,
      "metadata": {},
      "outputs": [
        {
          "name": "stdout",
          "output_type": "stream",
          "text": [
            "Likelihood: -1.4189385332046727\n"
          ]
        }
      ],
      "source": [
        "x_n = 3.0\n",
        "mu_k = 2.0\n",
        "sigma_k = 1.0\n",
        "\n",
        "likelihood = calculate_likelihood_gaussian_observation(x_n, mu_k, sigma_k)\n",
        "\n",
        "# Comprobación\n",
        "print(f'Likelihood: {likelihood}')"
      ]
    },
    {
      "cell_type": "code",
      "execution_count": null,
      "metadata": {
        "colab": {
          "base_uri": "https://localhost:8080/"
        },
        "id": "pHB7M_S7Xqtp",
        "outputId": "aa59846b-8ca9-43f1-d26e-492437c69b9f"
      },
      "outputs": [
        {
          "name": "stdout",
          "output_type": "stream",
          "text": [
            "Matriz de Membresía:\n",
            "[[5.93405901e-01 4.06594099e-01]\n",
            " [7.51027396e-02 9.24897260e-01]\n",
            " [9.99394696e-01 6.05303929e-04]\n",
            " [9.50955067e-01 4.90449332e-02]]\n"
          ]
        }
      ],
      "source": [
        "import numpy as np\n",
        "\n",
        "def calculate_membership_dataset(X_dataset, Parameters_matrix):\n",
        "    N, K = X_dataset.shape[0], Parameters_matrix.shape[0]\n",
        "    M = np.zeros((N, K))\n",
        "\n",
        "    for i in range(N):\n",
        "        for k in range(K):\n",
        "            mu_k, sigma_k = Parameters_matrix[k]\n",
        "            log_likelihood = calculate_likelihood_gaussian_observation(X_dataset[i], mu_k, sigma_k)\n",
        "            M[i, k] = log_likelihood\n",
        "\n",
        "    # Aplicar normalización softmax para obtener valores entre 0 y 1\n",
        "    M = np.exp(M - np.max(M, axis=1, keepdims=True))\n",
        "    M /= np.sum(M, axis=1, keepdims=True)\n",
        "\n",
        "    return M\n",
        "\n",
        "# Prueba Unitaria\n",
        "X_dataset = np.array([[2.5], [3.0], [1.8], [2.2]])  # Ejemplo de dataset (4 observaciones)\n",
        "Parameters_matrix = np.array([[2.0, 0.5], [3.0, 0.3]])  # Ejemplo de matriz de parámetros (2 clusters)\n",
        "\n",
        "membership_matrix = calculate_membership_dataset(X_dataset, Parameters_matrix)\n",
        "\n",
        "# Comprobación\n",
        "print(\"Matriz de Membresía:\")\n",
        "print(membership_matrix)\n"
      ]
    },
    {
      "cell_type": "code",
      "execution_count": null,
      "metadata": {
        "colab": {
          "base_uri": "https://localhost:8080/"
        },
        "id": "flGomcnTYVw_",
        "outputId": "3f6efbcc-a25d-46f9-856a-1d2ed09a197a"
      },
      "outputs": [
        {
          "name": "stdout",
          "output_type": "stream",
          "text": [
            "Nuevas Medias:\n",
            "[[2.41 2.41]\n",
            " [2.34 2.34]]\n",
            "\n",
            "Nuevas Desviaciones Estándar:\n",
            "[[0.4253234 0.4253234]\n",
            " [0.4476606 0.4476606]]\n"
          ]
        }
      ],
      "source": [
        "import torch\n",
        "\n",
        "def recalculate_parameters(X_dataset, Membership_data):\n",
        "    X_torch = torch.tensor(X_dataset, dtype=torch.float32)\n",
        "    Membership_torch = torch.tensor(Membership_data, dtype=torch.float32)\n",
        "\n",
        "    # Calcular nuevas medias\n",
        "    new_means = torch.matmul(Membership_torch.T, X_torch) / torch.sum(Membership_torch, dim=0, keepdim=True)\n",
        "\n",
        "    # Calcular nuevas desviaciones estándar\n",
        "    deviations = X_torch.unsqueeze(1) - new_means\n",
        "    squared_deviations = deviations ** 2\n",
        "    weighted_squared_deviations = squared_deviations * Membership_torch.unsqueeze(2)\n",
        "    new_std = torch.sqrt(torch.sum(weighted_squared_deviations, dim=0) / torch.sum(Membership_torch, dim=0, keepdim=True))\n",
        "\n",
        "    return new_means.numpy(), new_std.numpy()\n",
        "\n",
        "# Ejemplo de uso\n",
        "X_dataset = np.array([[2.5], [3.0], [1.8], [2.2]], dtype=np.float32)\n",
        "Membership_data = np.array([[0.2, 0.8], [0.6, 0.4], [0.3, 0.7], [0.9, 0.1]], dtype=np.float32)\n",
        "\n",
        "new_means, new_std = recalculate_parameters(X_dataset, Membership_data)\n",
        "\n",
        "print(\"Nuevas Medias:\")\n",
        "print(new_means)\n",
        "\n",
        "print(\"\\nNuevas Desviaciones Estándar:\")\n",
        "print(new_std)\n",
        "\n"
      ]
    }
  ],
  "metadata": {
    "colab": {
      "provenance": []
    },
    "kernelspec": {
      "display_name": "Python 3",
      "language": "python",
      "name": "python3"
    },
    "language_info": {
      "codemirror_mode": {
        "name": "ipython",
        "version": 3
      },
      "file_extension": ".py",
      "mimetype": "text/x-python",
      "name": "python",
      "nbconvert_exporter": "python",
      "pygments_lexer": "ipython3",
      "version": "3.11.4"
    },
    "orig_nbformat": 4
  },
  "nbformat": 4,
  "nbformat_minor": 0
}
