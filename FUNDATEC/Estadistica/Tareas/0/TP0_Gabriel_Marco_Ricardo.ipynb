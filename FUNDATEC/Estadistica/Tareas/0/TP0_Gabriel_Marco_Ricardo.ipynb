{
 "cells": [
  {
   "cell_type": "code",
   "execution_count": 92,
   "metadata": {},
   "outputs": [],
   "source": [
    "import numpy as np\n",
    "\n",
    "def generate_data(N, means: np.ndarray, stds: np.ndarray, K=2):\n",
    "  if len(means) != len(stds):\n",
    "    print(\"Error in dimensions\")\n",
    "    return None\n",
    "  else:\n",
    "    data = []\n",
    "    for i in range(K):\n",
    "      y = np.sqrt(-2 * np.log(np.random.rand(N // K))) * np.cos(2 * np.pi * np.random.rand(N // 2))\n",
    "      y = (y * stds[i]) + means[i]\n",
    "\n",
    "      data.append(y)\n",
    "\n",
    "    X = np.concatenate(data)\n",
    "    \n",
    "    # Mezclar datos para que no esten ordenados\n",
    "    np.random.shuffle(X)\n",
    "\n",
    "    return X.reshape(-1, 1)\n",
    "\n"
   ]
  },
  {
   "cell_type": "code",
   "execution_count": 93,
   "metadata": {},
   "outputs": [
    {
     "data": {
      "text/plain": [
       "array([[3.03336625],\n",
       "       [6.50227862],\n",
       "       [5.50381846],\n",
       "       [4.76937453],\n",
       "       [6.12803935],\n",
       "       [2.8849787 ],\n",
       "       [3.42715976],\n",
       "       [7.88544556],\n",
       "       [2.27220959],\n",
       "       [3.28242811],\n",
       "       [6.53075255],\n",
       "       [7.46691585],\n",
       "       [1.85633611],\n",
       "       [7.52033274],\n",
       "       [2.79928157],\n",
       "       [2.82216721],\n",
       "       [2.86963733],\n",
       "       [6.68501881],\n",
       "       [6.05783286],\n",
       "       [4.12357014],\n",
       "       [3.4864377 ],\n",
       "       [2.26260045],\n",
       "       [3.13949028],\n",
       "       [3.07518056],\n",
       "       [3.02647786],\n",
       "       [6.61042287],\n",
       "       [7.19832508],\n",
       "       [2.37044096],\n",
       "       [3.74681595],\n",
       "       [7.10080648],\n",
       "       [2.55281295],\n",
       "       [3.30082969],\n",
       "       [7.38308728],\n",
       "       [3.09108618],\n",
       "       [3.7251596 ],\n",
       "       [2.87337675],\n",
       "       [3.94139974],\n",
       "       [5.70634931],\n",
       "       [2.86981557],\n",
       "       [2.85179305],\n",
       "       [6.91186593],\n",
       "       [3.30884938],\n",
       "       [6.34670447],\n",
       "       [2.83528584],\n",
       "       [5.44367252],\n",
       "       [6.2433396 ],\n",
       "       [3.92450876],\n",
       "       [5.83304439],\n",
       "       [6.14845218],\n",
       "       [6.8649805 ],\n",
       "       [3.13057015],\n",
       "       [6.47722694],\n",
       "       [6.09725527],\n",
       "       [3.78368516],\n",
       "       [6.8604132 ],\n",
       "       [5.8135324 ],\n",
       "       [6.43173002],\n",
       "       [6.49184285],\n",
       "       [7.40660166],\n",
       "       [2.15229692],\n",
       "       [7.15432086],\n",
       "       [6.97699892],\n",
       "       [3.29983373],\n",
       "       [5.89909825],\n",
       "       [6.4562625 ],\n",
       "       [7.44999768],\n",
       "       [2.0815571 ],\n",
       "       [2.71469533],\n",
       "       [6.00491928],\n",
       "       [7.24820805],\n",
       "       [3.33566742],\n",
       "       [6.57060207],\n",
       "       [7.09979276],\n",
       "       [2.27094026],\n",
       "       [3.29636507],\n",
       "       [2.71819689],\n",
       "       [8.94846707],\n",
       "       [3.43797641],\n",
       "       [7.98609996],\n",
       "       [3.63056733],\n",
       "       [6.61758306],\n",
       "       [6.81178877],\n",
       "       [6.06175145],\n",
       "       [3.36487367],\n",
       "       [2.35811435],\n",
       "       [7.40585796],\n",
       "       [2.37143645],\n",
       "       [3.0843045 ],\n",
       "       [6.66975368],\n",
       "       [3.0967837 ],\n",
       "       [2.9663013 ],\n",
       "       [4.47136515],\n",
       "       [2.77730733],\n",
       "       [3.16871993],\n",
       "       [7.26839337],\n",
       "       [7.18462774],\n",
       "       [6.52256313],\n",
       "       [7.97638787],\n",
       "       [3.66341502],\n",
       "       [7.29928856]])"
      ]
     },
     "execution_count": 93,
     "metadata": {},
     "output_type": "execute_result"
    }
   ],
   "source": [
    "N = 100\n",
    "\n",
    "means = [3.0, 7.0]\n",
    "stds = [0.5, 0.8]\n",
    "\n",
    "data = generate_data(N=100, means=means, stds=stds)\n",
    "data"
   ]
  },
  {
   "cell_type": "code",
   "execution_count": 94,
   "metadata": {},
   "outputs": [],
   "source": [
    "import matplotlib.pyplot as plt\n",
    "import numpy as np\n",
    "\n",
    "def plot_data(data, title='Two Normal Distributions'):\n",
    "    hist_values, bin_edges = np.histogram(data, bins=20)\n",
    "    fig, ax = plt.subplots(figsize=(8, 6))\n",
    "    ax.bar(bin_edges[:-1], hist_values, width=np.diff(bin_edges), color='skyblue', alpha=0.7, label='Frequency')\n",
    "    ax.scatter(data, np.zeros_like(data), marker='o', s=30, color='b', label='Data')\n",
    "\n",
    "    y_min, y_max = ax.get_ylim()\n",
    "    ax.set_ylim(y_min - 0.5, y_max + 0.1)\n",
    "\n",
    "    ax.set_xlabel('Value')\n",
    "    ax.set_ylabel('Frequency')\n",
    "    ax.set_title(title)\n",
    "    ax.grid(True, which='both')\n",
    "    \n",
    "    ax.legend()\n",
    "    plt.show()"
   ]
  },
  {
   "cell_type": "code",
   "execution_count": 95,
   "metadata": {},
   "outputs": [
    {
     "data": {
      "image/png": "[encoded data removed]",
      "text/plain": [
       "<Figure size 800x600 with 1 Axes>"
      ]
     },
     "metadata": {},
     "output_type": "display_data"
    }
   ],
   "source": [
    "plot_data(data)"
   ]
  }
 ],
 "metadata": {
  "kernelspec": {
   "display_name": "Python 3",
   "language": "python",
   "name": "python3"
  },
  "language_info": {
   "codemirror_mode": {
    "name": "ipython",
    "version": 3
   },
   "file_extension": ".py",
   "mimetype": "text/x-python",
   "name": "python",
   "nbconvert_exporter": "python",
   "pygments_lexer": "ipython3",
   "version": "3.11.4"
  },
  "orig_nbformat": 4
 },
 "nbformat": 4,
 "nbformat_minor": 2
}
