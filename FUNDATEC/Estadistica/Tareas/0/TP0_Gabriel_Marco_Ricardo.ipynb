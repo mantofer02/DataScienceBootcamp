{
 "cells": [
  {
   "cell_type": "markdown",
   "metadata": {},
   "source": [
    "# Trabajo Práctico 0:  Algoritmo de Maximización de la Esperanza\n",
    "\n",
    "**Profesor**: Saúl Calderón Ramírez\n",
    "\n",
    "**Estudiantes**: \n",
    "\n",
    "* Ricardo Chacon\n",
    "* Marco Ferraro\n",
    "* Gabriel Valentine\n"
   ]
  },
  {
   "cell_type": "markdown",
   "metadata": {},
   "source": [
    "## 1. Algoritmo de Maximización de la Esperanza con datos artificiales\n",
    "\n",
    "En esta sección se llevará a cabo una implementación de un algoritmo de maximización de la esperanza. Se utilizará un grupo de funciones base."
   ]
  },
  {
   "cell_type": "markdown",
   "metadata": {},
   "source": [
    "### 1.1 Generate Data\n",
    "\n",
    "Esta función se encarga de generar observaciones aleatorias de `K` distribuciones Gaussianas. Por defecto `K` va a presentar valor de 2.  Se recibe de parametro `N` que representa la tolidad de puntos u observaciones que se quiere generar. Un array de medias y otro de desviaciones estandar de las distribuciones respectivas. \n",
    "\n",
    "Cabe destacar que esta función retorna todas las observaciones en una matriz de dimension `Nx1`."
   ]
  },
  {
   "cell_type": "code",
   "execution_count": 2,
   "metadata": {},
   "outputs": [],
   "source": [
    "import numpy as np\n",
    "import matplotlib.pyplot as plt\n",
    "\n",
    "\n",
    "def generate_data(N, means: np.ndarray, stds: np.ndarray, K=2):\n",
    "  if len(means) != len(stds):\n",
    "    print(\"Error in dimensions\")\n",
    "    return None\n",
    "  else:\n",
    "    data = []\n",
    "    for i in range(K):\n",
    "      y = np.sqrt(-2 * np.log(np.random.rand(N // K))) * np.cos(2 * np.pi * np.random.rand(N // 2))\n",
    "      y = (y * stds[i]) + means[i]\n",
    "\n",
    "      data.append(y)\n",
    "\n",
    "    X = np.concatenate(data)\n",
    "    \n",
    "    # Mezclar datos para que no esten ordenados\n",
    "    np.random.shuffle(X)\n",
    "\n",
    "    return X.reshape(-1, 1)\n",
    "\n"
   ]
  },
  {
   "cell_type": "markdown",
   "metadata": {},
   "source": [
    "Adicionalmente, vamos a usar una función `Plot Data` para graficar las observaciones en un eje horizontal. Asimismo, vamos a realizar histogramas sobre el mismo gráfico para poder visualizar las distribuciones normales."
   ]
  },
  {
   "cell_type": "code",
   "execution_count": 3,
   "metadata": {},
   "outputs": [],
   "source": [
    "def plot_data(data, title='Two Normal Distributions'):\n",
    "    hist_values, bin_edges = np.histogram(data, bins=20)\n",
    "    fig, ax = plt.subplots(figsize=(8, 6))\n",
    "    ax.bar(bin_edges[:-1], hist_values, width=np.diff(bin_edges), color='skyblue', alpha=0.7, label='Frequency')\n",
    "    ax.scatter(data, np.zeros_like(data), marker='o', s=30, color='b', label='Data')\n",
    "\n",
    "    y_min, y_max = ax.get_ylim()\n",
    "    ax.set_ylim(y_min - 0.5, y_max + 0.1)\n",
    "\n",
    "    ax.set_xlabel('Value')\n",
    "    ax.set_ylabel('Frequency')\n",
    "    ax.set_title(title)\n",
    "    ax.grid(True, which='both')\n",
    "    \n",
    "    ax.legend()\n",
    "    plt.show()"
   ]
  },
  {
   "cell_type": "markdown",
   "metadata": {},
   "source": [
    "### 1.2 Inicialización aleatoria de Parámetros\n",
    "\n",
    "Se requiere de una función para inicializar los parametros de dichas distribuciones. Se va a utilizar una función `init_random_parameters` que inicializa un arreglo de medias y desviaciones estandar de forma aleatoria. Esta función recibe un `K` que indica cuantas distribuciones se tienen que generar y un rango para las medias y desviaciones estandar. Utilizamos `numpy` para generar los valores aleatorios y desempacar el valor de las tuplas. \n",
    "\n",
    "La salida de la función es una matriz, donde cada arreglo representa "
   ]
  },
  {
   "cell_type": "code",
   "execution_count": 4,
   "metadata": {},
   "outputs": [],
   "source": [
    "\n",
    "def init_random_parameters(K, mean_range=(0, 10), std_range=(0, 1)):\n",
    "  means = np.random.uniform(*mean_range, size=K)\n",
    "  stds = np.random.uniform(*std_range, size=K)\n",
    "  \n",
    "  params = np.column_stack((means, stds)).tolist()\n",
    "\n",
    "  return params"
   ]
  },
  {
   "cell_type": "code",
   "execution_count": 5,
   "metadata": {},
   "outputs": [
    {
     "data": {
      "text/plain": [
       "[[4.736076565592501, 0.3853913840567499],\n",
       " [8.535367222816392, 0.3796201716934825]]"
      ]
     },
     "execution_count": 5,
     "metadata": {},
     "output_type": "execute_result"
    }
   ],
   "source": [
    "params = init_random_parameters(2)\n",
    "params"
   ]
  },
  {
   "cell_type": "code",
   "execution_count": 6,
   "metadata": {},
   "outputs": [
    {
     "data": {
      "text/plain": [
       "array([[4.68632704],\n",
       "       [8.60415621],\n",
       "       [8.80152201],\n",
       "       [8.65951278],\n",
       "       [4.66486063],\n",
       "       [8.61978169],\n",
       "       [8.38683835],\n",
       "       [7.81395604],\n",
       "       [5.35741161],\n",
       "       [7.7887209 ],\n",
       "       [8.69124378],\n",
       "       [4.49369205],\n",
       "       [8.35031293],\n",
       "       [4.5810815 ],\n",
       "       [4.42569141],\n",
       "       [5.09498958],\n",
       "       [8.68047379],\n",
       "       [8.847048  ],\n",
       "       [5.18478081],\n",
       "       [8.76035256],\n",
       "       [5.21913954],\n",
       "       [4.86978833],\n",
       "       [5.27247501],\n",
       "       [5.34770715],\n",
       "       [8.42025016],\n",
       "       [5.135624  ],\n",
       "       [8.51432129],\n",
       "       [8.55558987],\n",
       "       [8.15094597],\n",
       "       [8.2665274 ],\n",
       "       [4.86614828],\n",
       "       [4.45350805],\n",
       "       [8.4103352 ],\n",
       "       [8.68661059],\n",
       "       [8.4629178 ],\n",
       "       [4.51991038],\n",
       "       [8.64203976],\n",
       "       [5.37739836],\n",
       "       [4.67642239],\n",
       "       [5.71834702],\n",
       "       [9.04305662],\n",
       "       [5.01167337],\n",
       "       [8.41856307],\n",
       "       [4.79374209],\n",
       "       [5.08781615],\n",
       "       [8.02249958],\n",
       "       [5.24949366],\n",
       "       [8.15733381],\n",
       "       [4.48039324],\n",
       "       [8.53195006],\n",
       "       [4.54461543],\n",
       "       [4.62072434],\n",
       "       [8.38292661],\n",
       "       [8.3656165 ],\n",
       "       [7.98088323],\n",
       "       [5.14793571],\n",
       "       [4.797336  ],\n",
       "       [8.86084794],\n",
       "       [7.97101498],\n",
       "       [4.83547938],\n",
       "       [4.75571752],\n",
       "       [8.83409849],\n",
       "       [8.39381069],\n",
       "       [4.86609059],\n",
       "       [3.92589052],\n",
       "       [4.59159011],\n",
       "       [9.17527501],\n",
       "       [8.97643866],\n",
       "       [8.53656348],\n",
       "       [4.43404496],\n",
       "       [8.26288495],\n",
       "       [4.55463297],\n",
       "       [4.47204007],\n",
       "       [8.41493823],\n",
       "       [8.9818141 ],\n",
       "       [8.86858835],\n",
       "       [5.60212951],\n",
       "       [5.05020913],\n",
       "       [8.33865863],\n",
       "       [4.71644976],\n",
       "       [8.25979179],\n",
       "       [5.17484102],\n",
       "       [8.67730911],\n",
       "       [8.23223891],\n",
       "       [4.30981823],\n",
       "       [8.69019767],\n",
       "       [4.44140648],\n",
       "       [5.32443478],\n",
       "       [8.44912617],\n",
       "       [5.43404441],\n",
       "       [4.47213574],\n",
       "       [8.59784747],\n",
       "       [4.96310527],\n",
       "       [8.00549611],\n",
       "       [5.20287489],\n",
       "       [8.87918832],\n",
       "       [8.19334801],\n",
       "       [5.12456457],\n",
       "       [4.77378753],\n",
       "       [4.30399754],\n",
       "       [4.82223148],\n",
       "       [8.80782519],\n",
       "       [4.85887397],\n",
       "       [8.15597008],\n",
       "       [8.96998123],\n",
       "       [9.2852649 ],\n",
       "       [4.28031786],\n",
       "       [4.75776461],\n",
       "       [5.02791074],\n",
       "       [5.03499156],\n",
       "       [8.46122376],\n",
       "       [4.71693439],\n",
       "       [8.25533545],\n",
       "       [9.40507112],\n",
       "       [5.08696012],\n",
       "       [8.37279624],\n",
       "       [4.76911913],\n",
       "       [9.28742481],\n",
       "       [8.38535891],\n",
       "       [4.74576401],\n",
       "       [4.05666573],\n",
       "       [4.84176729],\n",
       "       [4.88498756],\n",
       "       [8.80589959],\n",
       "       [9.11493917],\n",
       "       [8.57860089],\n",
       "       [8.54549469],\n",
       "       [4.72590159],\n",
       "       [8.61687997],\n",
       "       [8.93776928],\n",
       "       [8.67224634],\n",
       "       [8.55243374],\n",
       "       [8.58212317],\n",
       "       [8.79229321],\n",
       "       [4.57021991],\n",
       "       [4.53088732],\n",
       "       [8.05479582],\n",
       "       [8.35855657],\n",
       "       [4.88525283],\n",
       "       [8.82728185],\n",
       "       [4.9148758 ],\n",
       "       [8.09209187],\n",
       "       [4.62554873],\n",
       "       [4.72433972],\n",
       "       [4.84353103],\n",
       "       [4.52694927],\n",
       "       [7.84298839],\n",
       "       [5.32966868],\n",
       "       [4.57363967],\n",
       "       [5.19699667]])"
      ]
     },
     "execution_count": 6,
     "metadata": {},
     "output_type": "execute_result"
    }
   ],
   "source": [
    "data = generate_data(N=150, means=[row[0] for row in params], stds=[row[1] for row in params])\n",
    "data"
   ]
  },
  {
   "cell_type": "code",
   "execution_count": 7,
   "metadata": {},
   "outputs": [
    {
     "data": {
      "image/png": "[encoded data removed]",
      "text/plain": [
       "<Figure size 800x600 with 1 Axes>"
      ]
     },
     "metadata": {},
     "output_type": "display_data"
    }
   ],
   "source": [
    "plot_data(data)"
   ]
  }
 ],
 "metadata": {
  "kernelspec": {
   "display_name": "Python 3",
   "language": "python",
   "name": "python3"
  },
  "language_info": {
   "codemirror_mode": {
    "name": "ipython",
    "version": 3
   },
   "file_extension": ".py",
   "mimetype": "text/x-python",
   "name": "python",
   "nbconvert_exporter": "python",
   "pygments_lexer": "ipython3",
   "version": "3.11.4"
  },
  "orig_nbformat": 4
 },
 "nbformat": 4,
 "nbformat_minor": 2
}
