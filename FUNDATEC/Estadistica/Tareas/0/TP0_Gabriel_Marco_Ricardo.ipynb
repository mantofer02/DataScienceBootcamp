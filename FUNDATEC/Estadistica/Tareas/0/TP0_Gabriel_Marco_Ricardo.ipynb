{
  "cells": [
    {
      "cell_type": "markdown",
      "metadata": {
        "id": "fT4WuLOSUdtT"
      },
      "source": [
        "# Trabajo Práctico 0:  Algoritmo de Maximización de la Esperanza\n",
        "\n",
        "**Profesor**: Saúl Calderón Ramírez\n",
        "\n",
        "**Estudiantes**:\n",
        "\n",
        "* Ricardo Chacon\n",
        "* Marco Ferraro\n",
        "* Gabriel Valentine\n"
      ]
    },
    {
      "cell_type": "markdown",
      "metadata": {
        "id": "cUs05U8IUdtd"
      },
      "source": [
        "## 1. Algoritmo de Maximización de la Esperanza con datos artificiales\n",
        "\n",
        "En esta sección se llevará a cabo una implementación de un algoritmo de maximización de la esperanza. Se utilizará un grupo de funciones base."
      ]
    },
    {
      "cell_type": "markdown",
      "metadata": {
        "id": "-pxVaRf2Udtf"
      },
      "source": [
        "### 1.1 Generate Data\n",
        "\n",
        "Esta función se encarga de generar observaciones aleatorias de `K` distribuciones Gaussianas. Por defecto `K` va a presentar valor de 2.  Se recibe de parametro `N` que representa la tolidad de puntos u observaciones que se quiere generar. Un array de medias y otro de desviaciones estandar de las distribuciones respectivas.\n",
        "\n",
        "Cabe destacar que esta función retorna todas las observaciones en una matriz de dimension `Nx1`."
      ]
    },
    {
      "cell_type": "code",
      "execution_count": 98,
      "metadata": {
        "id": "Zlv1uwYGUdtg"
      },
      "outputs": [],
      "source": [
        "import numpy as np\n",
        "\n",
        "def generate_data(N, means: np.ndarray, stds: np.ndarray, K=2):\n",
        "  if len(means) != len(stds):\n",
        "    print(\"Error in dimensions\")\n",
        "    return None\n",
        "  else:\n",
        "    data = []\n",
        "    for i in range(K):\n",
        "      y = np.sqrt(-2 * np.log(np.random.rand(N // K))) * np.cos(2 * np.pi * np.random.rand(N // 2))\n",
        "      y = (y * stds[i]) + means[i]\n",
        "\n",
        "      data.append(y)\n",
        "\n",
        "    X = np.concatenate(data)\n",
        "\n",
        "    # Mezclar datos para que no esten ordenados\n",
        "    np.random.shuffle(X)\n",
        "\n",
        "    return X.reshape(-1, 1)\n",
        "\n"
      ]
    },
    {
      "cell_type": "code",
      "execution_count": 99,
      "metadata": {
        "colab": {
          "base_uri": "https://localhost:8080/"
        },
        "id": "Jx7UaCJ7Udti",
        "outputId": "6542f87d-c6eb-40bc-e07d-ea80e4823a1a"
      },
      "outputs": [
        {
          "data": {
            "text/plain": [
              "array([[3.19016906],\n",
              "       [3.3981502 ],\n",
              "       [6.95457659],\n",
              "       [3.1457007 ],\n",
              "       [7.80028055],\n",
              "       [2.69640899],\n",
              "       [7.49916548],\n",
              "       [3.04614632],\n",
              "       [2.91390589],\n",
              "       [6.74760156],\n",
              "       [7.52607941],\n",
              "       [6.70820903],\n",
              "       [3.17060047],\n",
              "       [3.12213422],\n",
              "       [7.33287935],\n",
              "       [3.53034297],\n",
              "       [3.9164771 ],\n",
              "       [6.55454449],\n",
              "       [7.5780227 ],\n",
              "       [7.60995808],\n",
              "       [4.46217303],\n",
              "       [2.93369887],\n",
              "       [5.84821788],\n",
              "       [6.95510593],\n",
              "       [2.24804161],\n",
              "       [2.99506358],\n",
              "       [8.46994295],\n",
              "       [3.08909264],\n",
              "       [2.45124671],\n",
              "       [2.61140897],\n",
              "       [7.03525883],\n",
              "       [3.34302993],\n",
              "       [7.44266118],\n",
              "       [3.28925107],\n",
              "       [3.59202503],\n",
              "       [5.49817963],\n",
              "       [6.65708384],\n",
              "       [3.4770283 ],\n",
              "       [6.99203679],\n",
              "       [5.93545642],\n",
              "       [2.90748834],\n",
              "       [3.16996602],\n",
              "       [7.1303993 ],\n",
              "       [8.99134085],\n",
              "       [5.78662828],\n",
              "       [3.15151353],\n",
              "       [3.00414052],\n",
              "       [7.3553278 ],\n",
              "       [7.07866252],\n",
              "       [3.34505142],\n",
              "       [6.43961765],\n",
              "       [2.27707754],\n",
              "       [3.24766901],\n",
              "       [6.25704178],\n",
              "       [6.26960745],\n",
              "       [2.48355837],\n",
              "       [3.21294038],\n",
              "       [6.87372974],\n",
              "       [6.06586304],\n",
              "       [6.72702272],\n",
              "       [2.57962553],\n",
              "       [6.9399606 ],\n",
              "       [5.96112687],\n",
              "       [6.25304268],\n",
              "       [7.77733446],\n",
              "       [6.77453611],\n",
              "       [3.6158739 ],\n",
              "       [7.94606971],\n",
              "       [7.65587996],\n",
              "       [6.12492672],\n",
              "       [2.94517934],\n",
              "       [7.2583496 ],\n",
              "       [2.71027427],\n",
              "       [3.40688489],\n",
              "       [6.69119276],\n",
              "       [2.22607306],\n",
              "       [3.05965995],\n",
              "       [3.455405  ],\n",
              "       [3.25286898],\n",
              "       [2.75352782],\n",
              "       [2.57731996],\n",
              "       [1.45783109],\n",
              "       [6.64112778],\n",
              "       [2.42310763],\n",
              "       [8.20721579],\n",
              "       [2.3081359 ],\n",
              "       [5.82509811],\n",
              "       [3.70674432],\n",
              "       [6.58389282],\n",
              "       [3.16587994],\n",
              "       [6.64081194],\n",
              "       [6.60247556],\n",
              "       [2.99807982],\n",
              "       [5.6060934 ],\n",
              "       [2.17938451],\n",
              "       [6.86555431],\n",
              "       [3.12936458],\n",
              "       [6.44164009],\n",
              "       [7.61878008],\n",
              "       [3.11254279]])"
            ]
          },
          "execution_count": 99,
          "metadata": {},
          "output_type": "execute_result"
        }
      ],
      "source": [
        "N = 100\n",
        "\n",
        "means = [3.0, 7.0]\n",
        "stds = [0.5, 0.8]\n",
        "\n",
        "data = generate_data(N=100, means=means, stds=stds)\n",
        "data"
      ]
    },
    {
      "cell_type": "code",
      "execution_count": 101,
      "metadata": {
        "id": "Sto3JcgHUdtj"
      },
      "outputs": [],
      "source": [
        "import matplotlib.pyplot as plt\n",
        "import numpy as np\n",
        "\n",
        "def plot_data(data, title='Two Normal Distributions'):\n",
        "    hist_values, bin_edges = np.histogram(data, bins=20)\n",
        "    fig, ax = plt.subplots(figsize=(8, 6))\n",
        "    ax.bar(bin_edges[:-1], hist_values, width=np.diff(bin_edges), color='skyblue', alpha=0.7, label='Frequency')\n",
        "    ax.scatter(data, np.zeros_like(data), marker='o', s=30, color='b', label='Data')\n",
        "\n",
        "    y_min, y_max = ax.get_ylim()\n",
        "    ax.set_ylim(y_min - 0.5, y_max + 0.1)\n",
        "\n",
        "    ax.set_xlabel('Value')\n",
        "    ax.set_ylabel('Frequency')\n",
        "    ax.set_title(title)\n",
        "    ax.grid(True, which='both')\n",
        "\n",
        "    ax.legend()\n",
        "    plt.show()"
      ]
    },
    {
      "cell_type": "code",
      "execution_count": 102,
      "metadata": {
        "colab": {
          "base_uri": "https://localhost:8080/",
          "height": 564
        },
        "id": "fo48HGMEUdtk",
        "outputId": "2d57a466-5691-4d24-b5cc-73231931381f"
      },
      "outputs": [
        {
          "data": {
            "image/png": "[encoded data removed]",
            "text/plain": [
              "<Figure size 800x600 with 1 Axes>"
            ]
          },
          "metadata": {},
          "output_type": "display_data"
        }
      ],
      "source": [
        "plot_data(data)"
      ]
    },
    {
      "cell_type": "code",
      "execution_count": 103,
      "metadata": {
        "id": "OW88APJkUdtm"
      },
      "outputs": [],
      "source": [
        "\n",
        "# El asterisco es para desempacar la tupla.\n",
        "def init_random_parameters(K, mean_range=(0, 10), std_range=(0, 1)):\n",
        "  means = np.random.uniform(*mean_range, size=K)\n",
        "  stds = np.random.uniform(*std_range, size=K)\n",
        "\n",
        "  P = np.column_stack((means, stds)).tolist()\n",
        "\n",
        "  return P"
      ]
    },
    {
      "cell_type": "code",
      "execution_count": 104,
      "metadata": {
        "colab": {
          "base_uri": "https://localhost:8080/"
        },
        "id": "TIAz4qbvUdto",
        "outputId": "08899c47-22d2-4637-d9f3-fb8ec6c89b55"
      },
      "outputs": [
        {
          "data": {
            "text/plain": [
              "[[9.07734250921475, 0.28265398125701524],\n",
              " [3.760825689950671, 0.6684673233403788]]"
            ]
          },
          "execution_count": 104,
          "metadata": {},
          "output_type": "execute_result"
        }
      ],
      "source": [
        "P = init_random_parameters(2)\n",
        "P"
      ]
    },
    {
      "cell_type": "code",
      "execution_count": 105,
      "metadata": {
        "colab": {
          "base_uri": "https://localhost:8080/"
        },
        "id": "CQAGAKClW3mp",
        "outputId": "8ee4c54b-c5b9-419f-96d8-084c0b613119"
      },
      "outputs": [],
      "source": [
        "import numpy as np\n",
        "\n",
        "def calculate_likelihood_gaussian_observation(x_n, mu_k, sigma_k):\n",
        "     if sigma_k == 0:\n",
        "          return None\n",
        "     else:\n",
        "          log_likelihood = -0.5 * np.log(2 * np.pi * sigma_k**2) - 0.5 * (1 / sigma_k) * (x_n - mu_k)**2\n",
        "          return log_likelihood\n"
      ]
    },
    {
      "cell_type": "code",
      "execution_count": 106,
      "metadata": {},
      "outputs": [],
      "source": [
        "import unittest\n",
        "import numpy as np\n",
        "\n",
        "class TestCalculateLikelihood(unittest.TestCase):\n",
        "\n",
        "    def test_likelihood_with_zero_sigma(self):\n",
        "        x_n = 1.0\n",
        "        mu_k = 1.0\n",
        "        sigma_k = 0.0\n",
        "        result = calculate_likelihood_gaussian_observation(x_n, mu_k, sigma_k)\n",
        "\n",
        "        self.assertIsNone(result)\n",
        "\n",
        "    def test_likelihood_1(self):\n",
        "        sigma_k = 1.0\n",
        "        x_n = 0.0\n",
        "        mu_k = 0.0\n",
        "\n",
        "        result = calculate_likelihood_gaussian_observation(x_n, mu_k, sigma_k)\n",
        "\n",
        "        expected_result = -0.9189385332046727\n",
        "        self.assertAlmostEqual(result, expected_result, places=5)\n",
        "\n",
        "    def test_likelihood_2(self):\n",
        "        sigma_k = 2.0\n",
        "        x_n = 3.0\n",
        "        mu_k = 1.5\n",
        "\n",
        "        result = calculate_likelihood_gaussian_observation(x_n, mu_k, sigma_k)\n",
        "        expected_result = -2.174585713764618\n",
        "        self.assertAlmostEqual(result, expected_result, places=5)\n"
      ]
    },
    {
      "cell_type": "code",
      "execution_count": 107,
      "metadata": {},
      "outputs": [
        {
          "name": "stderr",
          "output_type": "stream",
          "text": [
            "...\n",
            "----------------------------------------------------------------------\n",
            "Ran 3 tests in 0.001s\n",
            "\n",
            "OK\n"
          ]
        }
      ],
      "source": [
        "if __name__ == '__main__':\n",
        "    loader = unittest.TestLoader()\n",
        "    suite = loader.loadTestsFromTestCase(TestCalculateLikelihood)\n",
        "    runner = unittest.TextTestRunner()\n",
        "    runner.run(suite)\n"
      ]
    },
    {
      "cell_type": "code",
      "execution_count": 108,
      "metadata": {},
      "outputs": [],
      "source": [
        "def calculate_membership_dataset(X_dataset, Parameters_matrix):\n",
        "  clusters = len(Parameters_matrix)\n",
        "  membership_matrix = []\n",
        "\n",
        "  for row in X_dataset:\n",
        "    m_index = []\n",
        "    \n",
        "    for k in range(clusters):\n",
        "      like_index = calculate_likelihood_gaussian_observation(x_n=row[0], mu_k=Parameters_matrix[k][0], sigma_k=Parameters_matrix[k][1])\n",
        "      m_index.append(like_index)\n",
        "    membership_matrix.append(m_index)\n",
        "\n",
        "  return membership_matrix"
      ]
    },
    {
      "cell_type": "code",
      "execution_count": 109,
      "metadata": {},
      "outputs": [],
      "source": [
        "def make_membership_binary(membership_matrix):\n",
        "  membership_matrix = np.array(membership_matrix)\n",
        "\n",
        "  max_indices = np.argmax(membership_matrix, axis=1)\n",
        "  result_matrix = np.zeros_like(membership_matrix)\n",
        "  result_matrix[np.arange(membership_matrix.shape[0]), max_indices] = 1\n",
        "\n",
        "  return result_matrix\n"
      ]
    },
    {
      "cell_type": "code",
      "execution_count": 110,
      "metadata": {},
      "outputs": [
        {
          "data": {
            "text/plain": [
              "[[-60.965017619495875, -0.7597496080035778],\n",
              " [-56.709662922788155, -0.6145551693936626],\n",
              " [-7.6265223485685745, -8.14559742684059],\n",
              " [-61.894711371031484, -0.7991903979889527],\n",
              " [-2.540360344840618, -12.721102092042118],\n",
              " [-71.68041841935472, -1.363619011810286],\n",
              " [-4.061222500784494, -10.969325235682012],\n",
              " [-64.00144442956869, -0.8982138277232495],\n",
              " [-66.85409034612046, -1.0526765318983924],\n",
              " [-9.256709452736906, -7.188770756286912],\n",
              " [-3.912231944059035, -11.120380658100357],\n",
              " [-9.58414257989635, -7.013921859868058],\n",
              " [-61.373273457604654, -0.7767413277883144],\n",
              " [-62.39024878974612, -0.8212917355466821],\n",
              " [-5.038581767741272, -10.060068353234186],\n",
              " [-54.08450728812886, -0.5559051618340727],\n",
              " [-46.77049000674726, -0.5342923448231779],\n",
              " [-10.913889314619441, -6.354051283844189],\n",
              " [-3.631929326558368, -11.414978012683838],\n",
              " [-3.464334260397623, -11.598103746139543],\n",
              " [-37.33361170935047, -0.8840930882624309],\n",
              " [-66.42318578204635, -1.0278926955323135],\n",
              " [-18.100655254798934, -3.7752726026614942],\n",
              " [-7.622547496205685, -8.148126637485586],\n",
              " [-82.15796072457326, -2.227934065277055],\n",
              " [-65.09605052945427, -0.9547798034332582],\n",
              " [-0.3080319227553422, -17.10320846949787],\n",
              " [-63.08832975464398, -0.8536781327305334],\n",
              " [-77.32129581025269, -1.7989538162895742],\n",
              " [-73.61208038334996, -1.5043707484627693],\n",
              " [-7.032104052738843, -8.535943792041481],\n",
              " [-57.822534930923844, -0.6467330936126908],\n",
              " [-4.382357749320195, -10.65571842502636],\n",
              " [-58.918683963681175, -0.6825084600454584],\n",
              " [-52.88074552671573, -0.5374834505368363],\n",
              " [-22.316341563339176, -2.7738717916966418],\n",
              " [-10.017284501740614, -6.790457478160651],\n",
              " [-55.135819649067614, -0.576413770522972],\n",
              " [-7.347673982818171, -8.325621451972255],\n",
              " [-17.117478467994907, -4.05338092540864],\n",
              " [-66.9941017244026, -1.0608381053461617],\n",
              " [-61.386532572566594, -0.7773018195705348],\n",
              " [-6.360756924172978, -9.008752168545815],\n",
              " [0.3315096386417092, -20.979615952771038],\n",
              " [-18.810983662372227, -3.5857868674599804],\n",
              " [-61.77278603777768, -0.7938667012283831],\n",
              " [-64.90087438182721, -0.9444433445032421],\n",
              " [-4.9009274992250695, -10.180401884121293],\n",
              " [-6.7218589107688045, -8.749962357728355],\n",
              " [-57.7815313378693, -0.6454727060017476],\n",
              " [-11.963021102361868, -5.8836181666541805],\n",
              " [-81.45790497873064, -2.162854524681141],\n",
              " [-59.77324571081234, -0.7131360996987243],\n",
              " [-13.725783761618176, -5.176903294759229],\n",
              " [-13.600683793211825, -5.223944579042208],\n",
              " [-76.56567892148608, -1.7364337118312236],\n",
              " [-60.49164930319143, -0.7406980592946811],\n",
              " [-8.245254339170975, -7.764222589514299],\n",
              " [-15.698005053565975, -4.490334511281566],\n",
              " [-9.427077151511076, -7.09713929797199],\n",
              " [-74.34093873040655, -1.5597773647995266],\n",
              " [-7.736668161789205, -8.075926051209326],\n",
              " [-16.833300058914652, -4.137383903582337],\n",
              " [-13.765714823546153, -5.161981649141843],\n",
              " [-2.6449647093381405, -12.582835897873004],\n",
              " [-9.035988049412605, -7.309659524994805],\n",
              " [-52.41892911327025, -0.5318865862402561],\n",
              " [-1.9192668280700795, -13.617983606831308],\n",
              " [-3.2296634315591057, -11.864105993577859],\n",
              " [-15.074894119631843, -4.696609719686975],\n",
              " [-66.17388445353991, -1.013785942191073],\n",
              " [-5.508384958927042, -9.665962448339982],\n",
              " [-71.36774865633896, -1.3416847754354135],\n",
              " [-56.5342971256614, -0.6098732489291734],\n",
              " [-9.727280848029157, -6.939110864367539],\n",
              " [-82.68960444516979, -2.2780113018657184],\n",
              " [-63.71341720112236, -0.8839025773028464],\n",
              " [-55.565076190728924, -0.5859436608066595],\n",
              " [-59.666045402150814, -0.7091645094387397],\n",
              " [-70.39672800496407, -1.2751076381437447],\n",
              " [-74.39394926062297, -1.5638553568672964],\n",
              " [-102.35509994629253, -4.483293738364854],\n",
              " [-10.154360561356404, -6.7215153271818435],\n",
              " [-77.98234482830274, -1.8546726956726425],\n",
              " [-0.9947129987552384, -15.304017728079375],\n",
              " [-80.71239021478016, -2.094638082634097],\n",
              " [-18.36572801047233, -3.7034773826266774],\n",
              " [-50.677728763610745, -0.5183584560666968],\n",
              " [-10.653467527879465, -6.477350733020709],\n",
              " [-61.471959916305636, -0.7809260052506175],\n",
              " [-10.157083001952701, -6.7201544972637395],\n",
              " [-10.490149553193774, -6.556087551604942],\n",
              " [-65.03116162400624, -0.9513313493075358],\n",
              " [-20.970461875236943, -3.0630513656573237],\n",
              " [-83.8251472628739, -2.38683528146847],\n",
              " [-8.30910942940118, -7.726201429863964],\n",
              " [-62.238005539951615, -0.8144225438539674],\n",
              " [-11.944154979789849, -5.891725863645885],\n",
              " [-3.4186729301897265, -11.648960343423349],\n",
              " [-62.59249239591451, -0.8305247406314771]]"
            ]
          },
          "execution_count": 110,
          "metadata": {},
          "output_type": "execute_result"
        }
      ],
      "source": [
        "membership_matrix = calculate_membership_dataset(data, P)\n",
        "membership_matrix"
      ]
    },
    {
      "cell_type": "code",
      "execution_count": 111,
      "metadata": {
        "colab": {
          "base_uri": "https://localhost:8080/"
        },
        "id": "pHB7M_S7Xqtp",
        "outputId": "aa59846b-8ca9-43f1-d26e-492437c69b9f"
      },
      "outputs": [
        {
          "data": {
            "text/plain": [
              "array([[0., 1.],\n",
              "       [0., 1.],\n",
              "       [1., 0.],\n",
              "       [0., 1.],\n",
              "       [1., 0.],\n",
              "       [0., 1.],\n",
              "       [1., 0.],\n",
              "       [0., 1.],\n",
              "       [0., 1.],\n",
              "       [0., 1.],\n",
              "       [1., 0.],\n",
              "       [0., 1.],\n",
              "       [0., 1.],\n",
              "       [0., 1.],\n",
              "       [1., 0.],\n",
              "       [0., 1.],\n",
              "       [0., 1.],\n",
              "       [0., 1.],\n",
              "       [1., 0.],\n",
              "       [1., 0.],\n",
              "       [0., 1.],\n",
              "       [0., 1.],\n",
              "       [0., 1.],\n",
              "       [1., 0.],\n",
              "       [0., 1.],\n",
              "       [0., 1.],\n",
              "       [1., 0.],\n",
              "       [0., 1.],\n",
              "       [0., 1.],\n",
              "       [0., 1.],\n",
              "       [1., 0.],\n",
              "       [0., 1.],\n",
              "       [1., 0.],\n",
              "       [0., 1.],\n",
              "       [0., 1.],\n",
              "       [0., 1.],\n",
              "       [0., 1.],\n",
              "       [0., 1.],\n",
              "       [1., 0.],\n",
              "       [0., 1.],\n",
              "       [0., 1.],\n",
              "       [0., 1.],\n",
              "       [1., 0.],\n",
              "       [1., 0.],\n",
              "       [0., 1.],\n",
              "       [0., 1.],\n",
              "       [0., 1.],\n",
              "       [1., 0.],\n",
              "       [1., 0.],\n",
              "       [0., 1.],\n",
              "       [0., 1.],\n",
              "       [0., 1.],\n",
              "       [0., 1.],\n",
              "       [0., 1.],\n",
              "       [0., 1.],\n",
              "       [0., 1.],\n",
              "       [0., 1.],\n",
              "       [0., 1.],\n",
              "       [0., 1.],\n",
              "       [0., 1.],\n",
              "       [0., 1.],\n",
              "       [1., 0.],\n",
              "       [0., 1.],\n",
              "       [0., 1.],\n",
              "       [1., 0.],\n",
              "       [0., 1.],\n",
              "       [0., 1.],\n",
              "       [1., 0.],\n",
              "       [1., 0.],\n",
              "       [0., 1.],\n",
              "       [0., 1.],\n",
              "       [1., 0.],\n",
              "       [0., 1.],\n",
              "       [0., 1.],\n",
              "       [0., 1.],\n",
              "       [0., 1.],\n",
              "       [0., 1.],\n",
              "       [0., 1.],\n",
              "       [0., 1.],\n",
              "       [0., 1.],\n",
              "       [0., 1.],\n",
              "       [0., 1.],\n",
              "       [0., 1.],\n",
              "       [0., 1.],\n",
              "       [1., 0.],\n",
              "       [0., 1.],\n",
              "       [0., 1.],\n",
              "       [0., 1.],\n",
              "       [0., 1.],\n",
              "       [0., 1.],\n",
              "       [0., 1.],\n",
              "       [0., 1.],\n",
              "       [0., 1.],\n",
              "       [0., 1.],\n",
              "       [0., 1.],\n",
              "       [0., 1.],\n",
              "       [0., 1.],\n",
              "       [0., 1.],\n",
              "       [1., 0.],\n",
              "       [0., 1.]])"
            ]
          },
          "execution_count": 111,
          "metadata": {},
          "output_type": "execute_result"
        }
      ],
      "source": [
        "binary_membership_matrix = make_membership_binary(membership_matrix)\n",
        "binary_membership_matrix"
      ]
    },
    {
      "cell_type": "code",
      "execution_count": 112,
      "metadata": {
        "colab": {
          "base_uri": "https://localhost:8080/"
        },
        "id": "flGomcnTYVw_",
        "outputId": "3f6efbcc-a25d-46f9-856a-1d2ed09a197a"
      },
      "outputs": [
        {
          "name": "stdout",
          "output_type": "stream",
          "text": [
            "Nuevas Medias:\n",
            "[[2.41 2.41]\n",
            " [2.34 2.34]]\n",
            "\n",
            "Nuevas Desviaciones Estándar:\n",
            "[[0.42532343 0.42532343]\n",
            " [0.4476606  0.4476606 ]]\n"
          ]
        }
      ],
      "source": [
        "import torch\n",
        "\n",
        "def recalculate_parameters(X_dataset, Membership_data):\n",
        "    X_torch = torch.tensor(X_dataset, dtype=torch.float32)\n",
        "    Membership_torch = torch.tensor(Membership_data, dtype=torch.float32)\n",
        "\n",
        "    # Calcular nuevas medias\n",
        "    new_means = torch.matmul(Membership_torch.T, X_torch) / torch.sum(Membership_torch, dim=0, keepdim=True)\n",
        "\n",
        "    # Calcular nuevas desviaciones estándar\n",
        "    deviations = X_torch.unsqueeze(1) - new_means\n",
        "    squared_deviations = deviations ** 2\n",
        "    weighted_squared_deviations = squared_deviations * Membership_torch.unsqueeze(2)\n",
        "    new_std = torch.sqrt(torch.sum(weighted_squared_deviations, dim=0) / torch.sum(Membership_torch, dim=0, keepdim=True))\n",
        "\n",
        "    return new_means.numpy(), new_std.numpy()\n",
        "\n",
        "# Ejemplo de uso\n",
        "X_dataset = np.array([[2.5], [3.0], [1.8], [2.2]], dtype=np.float32)\n",
        "Membership_data = np.array([[0.2, 0.8], [0.6, 0.4], [0.3, 0.7], [0.9, 0.1]], dtype=np.float32)\n",
        "\n",
        "new_means, new_std = recalculate_parameters(X_dataset, Membership_data)\n",
        "\n",
        "print(\"Nuevas Medias:\")\n",
        "print(new_means)\n",
        "\n",
        "print(\"\\nNuevas Desviaciones Estándar:\")\n",
        "print(new_std)\n",
        "\n"
      ]
    }
  ],
  "metadata": {
    "colab": {
      "provenance": []
    },
    "kernelspec": {
      "display_name": "Python 3",
      "language": "python",
      "name": "python3"
    },
    "language_info": {
      "codemirror_mode": {
        "name": "ipython",
        "version": 3
      },
      "file_extension": ".py",
      "mimetype": "text/x-python",
      "name": "python",
      "nbconvert_exporter": "python",
      "pygments_lexer": "ipython3",
      "version": "3.11.4"
    },
    "orig_nbformat": 4
  },
  "nbformat": 4,
  "nbformat_minor": 0
}
