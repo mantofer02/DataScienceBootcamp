{
 "cells": [
  {
   "cell_type": "markdown",
   "metadata": {},
   "source": [
    "# Trabajo Práctico 1:  Algoritmo de Maximización de la Esperanza\n",
    "\n",
    "**Profesor**: Saúl Calderón Ramírez\n",
    "\n",
    "**Estudiantes**:\n",
    "\n",
    "* Ricardo Chacon\n",
    "* Marco Ferraro\n",
    "* Gabriel Valentine\n"
   ]
  },
  {
   "cell_type": "code",
   "execution_count": null,
   "metadata": {},
   "outputs": [],
   "source": [
    "import pandas as pd\n",
    "\n",
    "df = pd.read_csv('./data/pima-indians-diabetes.csv', header=None)\n",
    "\n",
    "df.head()"
   ]
  },
  {
   "cell_type": "code",
   "execution_count": null,
   "metadata": {},
   "outputs": [],
   "source": [
    "\n",
    "\n",
    "# TODO: #2 Fix variables names in graph functions\n",
    "import matplotlib.pyplot as plt\n",
    "\n",
    "\n",
    "def graph_histogram(df, column, target_column, column_tag=\"Name\"):\n",
    "  \n",
    "  target_0 = df[df[target_column] == 0]\n",
    "  target_1 = df[df[target_column] == 1]\n",
    "\n",
    "  plt.hist(target_0[column], bins=20, alpha=0.5, label='Target 0', color='blue')\n",
    "  plt.hist(target_1[column], bins=20, alpha=0.5, label='Target 1', color='red')\n",
    "\n",
    "  plt.xlabel('Data Column')\n",
    "  plt.ylabel('Frequency')\n",
    "  plt.legend()\n",
    "  plt.title('Histograms for Target 0 and Target 1')\n",
    "  plt.show()\n",
    "\n",
    "  return None"
   ]
  },
  {
   "cell_type": "code",
   "execution_count": null,
   "metadata": {},
   "outputs": [],
   "source": [
    "import matplotlib.pyplot as plt\n",
    "import numpy as np\n",
    "from scipy.stats import norm\n",
    "\n",
    "def graph_normal_curve(df, column, target_column, column_tag=\"Name\"):\n",
    "    target_0 = df[df[target_column] == 0]\n",
    "    target_1 = df[df[target_column] == 1]\n",
    "\n",
    "    mu_0, std_0 = norm.fit(target_0[column])\n",
    "    mu_1, std_1 = norm.fit(target_1[column])\n",
    "\n",
    "    x = np.linspace(min(df[column]) - 3 * std_0, max(df[column]) + 3 * std_1, 100)\n",
    "    pdf_0 = norm.pdf(x, mu_0, std_0)\n",
    "    pdf_1 = norm.pdf(x, mu_1, std_1)\n",
    "\n",
    "    plt.plot(x, pdf_0, label='Target 0 (Normal Curve)', color='blue')\n",
    "    plt.plot(x, pdf_1, label='Target 1 (Normal Curve)', color='red')\n",
    "\n",
    "    plt.fill_between(x, 0, pdf_0, alpha=0.2, color='blue')\n",
    "    plt.fill_between(x, 0, pdf_1, alpha=0.2, color='red')\n",
    "\n",
    "    plt.xlabel(column_tag)\n",
    "    plt.ylabel('Probability Density')\n",
    "    plt.legend()\n",
    "    plt.title(f'Filled Normal Curves for Target 0 and Target 1 ({column_tag})')\n",
    "    plt.show()"
   ]
  },
  {
   "cell_type": "code",
   "execution_count": null,
   "metadata": {},
   "outputs": [],
   "source": [
    "graph_histogram(df, 1, 8)"
   ]
  },
  {
   "cell_type": "code",
   "execution_count": null,
   "metadata": {},
   "outputs": [],
   "source": [
    "graph_normal_curve(df, 1, 8)"
   ]
  },
  {
   "cell_type": "code",
   "execution_count": null,
   "metadata": {},
   "outputs": [],
   "source": [
    "\n",
    "# TODO: #3 Function to set up distance between density function"
   ]
  }
 ],
 "metadata": {
  "kernelspec": {
   "display_name": "Python 3",
   "language": "python",
   "name": "python3"
  },
  "language_info": {
   "codemirror_mode": {
    "name": "ipython",
    "version": 3
   },
   "file_extension": ".py",
   "mimetype": "text/x-python",
   "name": "python",
   "nbconvert_exporter": "python",
   "pygments_lexer": "ipython3",
   "version": "3.11.4"
  },
  "orig_nbformat": 4
 },
 "nbformat": 4,
 "nbformat_minor": 2
}
