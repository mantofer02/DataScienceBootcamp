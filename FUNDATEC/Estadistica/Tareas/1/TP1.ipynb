{
 "cells": [
  {
   "cell_type": "markdown",
   "metadata": {},
   "source": [
    "# Trabajo práctico 1: Bayes Ingenuo\n",
    "En el presente trabajo práctico se introduce la implementación de redes\n",
    "bayesianas. El trabajo practico consta de 120 puntos, donde 20 son extra\n",
    "## Integrantes\n",
    "- Marco Ferraro"
   ]
  },
  {
   "cell_type": "code",
   "execution_count": 3,
   "metadata": {},
   "outputs": [],
   "source": [
    "import torch\n",
    "import torchvision.datasets as datasets\n",
    "import torchvision.transforms as transforms"
   ]
  },
  {
   "cell_type": "code",
   "execution_count": 4,
   "metadata": {},
   "outputs": [],
   "source": [
    "# Set default tensor type to CUDA if available\n",
    "if torch.cuda.is_available():\n",
    "    print(\"CUDA is available! Training on GPU...\")\n",
    "    torch.set_default_tensor_type(torch.cuda.FloatTensor)"
   ]
  },
  {
   "cell_type": "markdown",
   "metadata": {},
   "source": [
    "## Implementación de la clasiﬁcación multiclase de imágenes con Bayes ingenuo usando histogramas\n",
    "\n",
    "Para el presente ejercicio, se implementará la clasiﬁcación de imagenes\n",
    "naturales con K = 10 clases. La Figura 1 muestra algunas observaciones\n",
    "del conjunto de datos. El objetivo de su equipo de desarrollo es utilizar el teorema de Bayes para construir un modelo conocido como Bayes\n",
    "ingenuo, el cual permita estimar la clase a la que pertenece una nueva\n",
    "observación\n",
    "\n"
   ]
  },
  {
   "cell_type": "markdown",
   "metadata": {},
   "source": [
    "### Carga de datos Cifar-10\n",
    "\n",
    "Para la carga de datos se utilizó la librería cifar10, la cual contiene un conjunto de datos de 50,000 imágenes de 32x32 pixeles en 10 clases diferentes. Se utilizará en escalado de grises para simplificar el problema."
   ]
  },
  {
   "cell_type": "code",
   "execution_count": 5,
   "metadata": {},
   "outputs": [
    {
     "name": "stdout",
     "output_type": "stream",
     "text": [
      "Files already downloaded and verified\n",
      "cifar_trainset_tensor shape  torch.Size([50000, 1, 32, 32])\n",
      "cifar_labels  torch.Size([50000])\n"
     ]
    },
    {
     "data": {
      "text/plain": [
       "tensor([[  0.,   1.,   2.,  ..., 232., 229., 228.],\n",
       "        [  0.,   1.,   2.,  ..., 233., 229., 227.],\n",
       "        [  0.,   3.,   5.,  ..., 231., 229., 229.],\n",
       "        ...,\n",
       "        [  9.,  20.,  28.,  ...,   8.,   6.,  12.],\n",
       "        [ 15.,  15.,  12.,  ...,   8.,   5.,  17.],\n",
       "        [ 26.,  29.,  20.,  ...,  37.,  20.,  19.]])"
      ]
     },
     "execution_count": 5,
     "metadata": {},
     "output_type": "execute_result"
    }
   ],
   "source": [
    "\"\"\"\n",
    "    Carga el conjunto de datos CIFAR-10, convierte las imágenes a escala de grises y las agrupa en un tensor.\n",
    "\n",
    "    Esta función descarga el conjunto de datos CIFAR-10, aplica una transformación para convertir las imágenes\n",
    "    a escala de grises y luego agrupa todas las imágenes en un tensor único. También prepara un tensor con las\n",
    "    etiquetas correspondientes a cada imagen.\n",
    "\n",
    "    Parámetros:\n",
    "    - is_train (bool, opcional): Un booleano que indica si se deben cargar los datos de entrenamiento (True) o\n",
    "      los datos de prueba (False). Por defecto es True.\n",
    "\n",
    "    Retorna:\n",
    "    - cifar_trainset_tensor (Tensor): Un tensor que contiene todas las imágenes del conjunto de datos CIFAR-10\n",
    "      convertidas a escala de grises y redondeadas a valores enteros en el rango de 0 a 255. Las imágenes están\n",
    "      agrupadas en un tensor único a lo largo de la dimensión del lote.\n",
    "    - cifar_labels (Tensor): Un tensor que contiene las etiquetas correspondientes a cada imagen en el tensor\n",
    "      de imágenes.\n",
    "\"\"\"\n",
    "\n",
    "\n",
    "def load_cifar10_dataset(is_train=True):\n",
    "  # Define a transformation to convert images to grayscale\n",
    "  transforms_1 = transforms.Compose([\n",
    "      transforms.ToTensor(),\n",
    "      transforms.Grayscale(num_output_channels=1)  # Convert to grayscale\n",
    "  ])\n",
    "  cifar_trainset = datasets.CIFAR10(\n",
    "      root='./data', train=is_train, download=True, transform=transforms_1)\n",
    "\n",
    "  # Initialize an empty list to store batches\n",
    "  all_data = []\n",
    "  train_loader = torch.utils.data.DataLoader(\n",
    "      cifar_trainset, batch_size=64, shuffle=True)\n",
    "  # Iterate over the train_loader to fetch all batches\n",
    "  for batch in train_loader:\n",
    "      images, _ = batch  # Extract images from the batch\n",
    "      all_data.append(images)\n",
    "\n",
    "  # Concatenate all batches into a single tensor along the batch dimension\n",
    "  cifar_trainset_tensor = torch.round(torch.cat(all_data, dim=0) * 255)\n",
    "  cifar_labels = torch.tensor(cifar_trainset.targets)\n",
    "  print(\"cifar_trainset_tensor shape \", cifar_trainset_tensor.shape)\n",
    "  print(\"cifar_labels \", cifar_labels.shape)\n",
    "  return (cifar_trainset_tensor, cifar_labels)\n",
    "\n",
    "\n",
    "train_tensor, train_labels = load_cifar10_dataset(is_train=True)\n",
    "\n",
    "train_tensor[1][0]"
   ]
  },
  {
   "cell_type": "code",
   "execution_count": 6,
   "metadata": {},
   "outputs": [
    {
     "data": {
      "text/plain": [
       "torch.Size([50000, 1, 32, 32])"
      ]
     },
     "execution_count": 6,
     "metadata": {},
     "output_type": "execute_result"
    }
   ],
   "source": [
    "train_tensor.shape"
   ]
  },
  {
   "cell_type": "code",
   "execution_count": 7,
   "metadata": {},
   "outputs": [
    {
     "data": {
      "text/plain": [
       "torch.Size([50000])"
      ]
     },
     "execution_count": 7,
     "metadata": {},
     "output_type": "execute_result"
    }
   ],
   "source": [
    "train_labels.shape"
   ]
  },
  {
   "cell_type": "markdown",
   "metadata": {},
   "source": [
    "Graficamos una imagen para visualizar y comprender el dataset. "
   ]
  },
  {
   "cell_type": "code",
   "execution_count": 8,
   "metadata": {},
   "outputs": [
    {
     "name": "stdout",
     "output_type": "stream",
     "text": [
      "torch.Size([32, 32])\n"
     ]
    },
    {
     "data": {
      "image/png": "[encoded data removed]",
      "text/plain": [
       "<Figure size 640x480 with 2 Axes>"
      ]
     },
     "metadata": {},
     "output_type": "display_data"
    }
   ],
   "source": [
    "import matplotlib.pyplot as plt\n",
    "\n",
    "# Asumiendo que train_tensor[1][0] es tu tensor de imagen en escala de grises\n",
    "image_tensor = train_tensor[1][0]\n",
    "\n",
    "print(image_tensor.shape)\n",
    "\n",
    "# Verifica si el tensor está en un dispositivo CUDA y muévelo a CPU\n",
    "if image_tensor.is_cuda:\n",
    "    image_tensor = image_tensor.cpu()\n",
    "\n",
    "# Convierte el tensor a un arreglo de numpy\n",
    "image_numpy = image_tensor.numpy()\n",
    "\n",
    "# Dado que es en escala de grises, elimina la dimensión del canal si existe\n",
    "if image_tensor.dim() > 2:\n",
    "    image_numpy = image_numpy.squeeze(0)\n",
    "\n",
    "# Grafica la imagen\n",
    "plt.imshow(image_numpy, cmap='gray')\n",
    "plt.colorbar()\n",
    "plt.show()"
   ]
  },
  {
   "cell_type": "code",
   "execution_count": 9,
   "metadata": {},
   "outputs": [],
   "source": [
    "image_tensor = train_tensor\n",
    "image_labels = train_labels"
   ]
  },
  {
   "cell_type": "markdown",
   "metadata": {},
   "source": [
    "### Caluclo a priori p(t) para las clases\n",
    "\n",
    "Implemente el cálculo de las probabilidades a priori p (t)\n",
    "para las K = 10 clases en el conjunto de datos de entrenamiento en\n",
    "la función calcular_probabilidad_priori. Realice tal calculo dentro de la\n",
    "funcion train_model."
   ]
  },
  {
   "cell_type": "code",
   "execution_count": 10,
   "metadata": {},
   "outputs": [
    {
     "name": "stdout",
     "output_type": "stream",
     "text": [
      "Probabilities: tensor([0.1000, 0.1000, 0.1000, 0.1000, 0.1000, 0.1000, 0.1000, 0.1000, 0.1000,\n",
      "        0.1000])\n",
      "Unique labels: tensor([0, 1, 2, 3, 4, 5, 6, 7, 8, 9])\n",
      "Sum of probabilities: tensor(1.0000)\n",
      "Shape of probabilities: torch.Size([10])\n"
     ]
    }
   ],
   "source": [
    "import torch\n",
    "\n",
    "\"\"\"\n",
    "Calcula las probabilidades a priori de etiquetas únicas en un conjunto de datos.\n",
    "\n",
    "Args:\n",
    "    labels (list o torch.Tensor): Etiquetas para calcular las probabilidades.\n",
    "\n",
    "Returns:\n",
    "    tuple (torch.Tensor, torch.Tensor): Probabilidades de cada etiqueta y etiquetas únicas.\n",
    "\"\"\"\n",
    "\n",
    "\n",
    "def calculate_priori_p_t(labels):\n",
    "    # Convertir labels a un tensor si aún no lo es\n",
    "    labels_tensor = torch.tensor(labels) if not isinstance(\n",
    "        labels, torch.Tensor) else labels\n",
    "\n",
    "    # Contar las ocurrencias de cada etiqueta\n",
    "    label_counts = labels_tensor.bincount()\n",
    "\n",
    "    # Calcular probabilidades dividiendo por el número total de etiquetas\n",
    "    probabilities = label_counts.float() / labels_tensor.size(0)\n",
    "\n",
    "    # Generar un tensor de etiquetas únicas ordenadas\n",
    "    unique_labels = torch.arange(label_counts.size(0))\n",
    "\n",
    "    # Filtrar etiquetas con conteo cero\n",
    "    nonzero_indices = label_counts.nonzero().squeeze()\n",
    "    probabilities = probabilities[nonzero_indices]\n",
    "    unique_labels = unique_labels[nonzero_indices]\n",
    "\n",
    "    return probabilities, unique_labels\n",
    "\n",
    "\n",
    "# Ejemplo de uso de la función\n",
    "# Asegúrate de definir 'labels' antes de llamar a la función\n",
    "probabilities, unique_labels = calculate_priori_p_t(train_labels)\n",
    "\n",
    "print(\"Probabilities:\", probabilities)\n",
    "print(\"Unique labels:\", unique_labels)\n",
    "print(\"Sum of probabilities:\", probabilities.sum())\n",
    "print(\"Shape of probabilities:\", probabilities.shape)"
   ]
  },
  {
   "cell_type": "markdown",
   "metadata": {},
   "source": [
    "Vemos que por defecto, todas las clases tienen la misma probabilidad a priori. Esto significa que estan balanceadas. Esto va a ser modificado en la seccion de entrenamiento."
   ]
  },
  {
   "cell_type": "markdown",
   "metadata": {},
   "source": [
    "### Pruebas de la implementación\n",
    "\n",
    "Tenemos dos casos de pruebas para verficiar la implementacion de la funcion de probabilidades a priori. Generamos un tensor con un grupo de clases y hacemos un assert para verificar las posibilidades esperadas.  El primer caso contempla etiquetas consecutivas y el segundo caso etiquetas no consecutivas."
   ]
  },
  {
   "cell_type": "code",
   "execution_count": 11,
   "metadata": {},
   "outputs": [
    {
     "name": "stdout",
     "output_type": "stream",
     "text": [
      "All tests passed successfully.\n"
     ]
    }
   ],
   "source": [
    "import torch\n",
    "\n",
    "\n",
    "# Prueba con etiquetas consecutivas\n",
    "consecutive_labels = torch.tensor([0, 1, 1, 2, 2, 2])\n",
    "consecutive_probabilities, consecutive_unique_labels = calculate_priori_p_t(\n",
    "    consecutive_labels)\n",
    "\n",
    "assert torch.allclose(consecutive_probabilities, torch.tensor(\n",
    "    [1/6, 2/6, 3/6])), \"Probabilities do not match\"\n",
    "assert torch.equal(consecutive_unique_labels, torch.tensor(\n",
    "    [0, 1, 2])), \"Unique labels do not match\"\n",
    "\n",
    "# Prueba con etiquetas no consecutivas\n",
    "non_consecutive_labels = torch.tensor([0, 0, 2, 2, 2, 5, 5, 5, 5])\n",
    "non_consecutive_probabilities, non_consecutive_unique_labels = calculate_priori_p_t(\n",
    "    non_consecutive_labels)\n",
    "\n",
    "assert torch.allclose(non_consecutive_probabilities, torch.tensor(\n",
    "    [2/9, 3/9, 4/9])), \"Probabilities do not match\"\n",
    "assert torch.equal(non_consecutive_unique_labels, torch.tensor(\n",
    "    [0, 2, 5])), \"Unique labels do not match\"\n",
    "\n",
    "print(\"All tests passed successfully.\")"
   ]
  },
  {
   "cell_type": "markdown",
   "metadata": {},
   "source": [
    " Cree un tensor de dimensiones dataset_densities D × Z × K, el cual represente las densi-\n",
    "dades de cada pixel (1024 en total) para cada una de las intensi-\n",
    "dades de pixel posibles.  Para realizar este calculo\n",
    "solo se le permite usar un ciclo for, con una iteracion por cla-\n",
    "se k, como maximo. Estime los valores de tal matriz usando el\n",
    "conjunto de datos de entrenamiento"
   ]
  },
  {
   "cell_type": "code",
   "execution_count": 12,
   "metadata": {},
   "outputs": [
    {
     "name": "stdout",
     "output_type": "stream",
     "text": [
      "torch.Size([10000, 32, 32])\n",
      "torch.Size([1024, 256, 10])\n"
     ]
    }
   ],
   "source": [
    "import torch\n",
    "\n",
    "\"\"\"\n",
    "    Calcula las probabilidades de intensidad de píxel para cada clase en un conjunto de datos de imágenes.\n",
    "\n",
    "    Args:\n",
    "        train_data (torch.Tensor): Tensor con los datos de entrenamiento de forma [num_images, image_height, image_width].\n",
    "        train_labels (torch.Tensor): Tensor con las etiquetas de entrenamiento de forma [num_images].\n",
    "        num_classes (int): Número de clases.\n",
    "\n",
    "    Returns:\n",
    "        torch.Tensor: Tensor de probabilidades de píxel con forma [D, Z, K], donde D es el número de píxeles por imagen,\n",
    "                      Z es el número de posibles valores de intensidad (256 para imágenes en escala de grises), y K es el número de clases.\n",
    "\"\"\"\n",
    "\n",
    "def calculate_pixel_probability(train_data, train_labels, num_classes):\n",
    "    # D: número de píxeles en una imagen (ancho x alto)\n",
    "    # Z: número de posibles valores de intensidad (255 para blanco y negro)\n",
    "    # K: número de clases\n",
    "    D = train_data.shape[1] * train_data.shape[2]\n",
    "    Z = 256  # blanco y negro, incluyendo todos los valores de 0 a 255\n",
    "    K = num_classes\n",
    "\n",
    "    # Inicializar el tensor de probabilidades con ceros\n",
    "    pixel_probabilities = torch.zeros(D, Z, K)\n",
    "\n",
    "    # Convertir train_data a long para usarlo en indexación\n",
    "    train_data = train_data.long()\n",
    "\n",
    "    # Aplanar las imágenes [num_images, D]\n",
    "    flattened_images = train_data.view(-1, D)\n",
    "\n",
    "    for class_id in range(K):\n",
    "        # Filtrar imágenes por clase\n",
    "        class_indices = (train_labels == class_id).nonzero().squeeze()\n",
    "        class_images_flattened = flattened_images[class_indices]\n",
    "\n",
    "        # Usar bincount para contar frecuencias de cada intensidad de píxel en todas las imágenes de la clase\n",
    "        # Se necesita un tensor 2D para los índices: uno para los píxeles y otro para las imágenes\n",
    "        indices = class_images_flattened + torch.arange(D) * Z\n",
    "        indices = indices.view(-1)  # Convertir a 1D para bincount\n",
    "        counts = torch.bincount(indices, minlength=Z*D).view(D, Z)\n",
    "\n",
    "        # Normalizar las cuentas para obtener probabilidades\n",
    "        pixel_probabilities[:, :, class_id] = counts.float(\n",
    "        ) / counts.sum(dim=1, keepdim=True)\n",
    "\n",
    "    return pixel_probabilities\n",
    "\n",
    "\n",
    "num_images = 10000  # Número total de imágenes\n",
    "image_height = 32  # Altura de las imágenes (H)\n",
    "image_width = 32  # Anchura de las imágenes (W)\n",
    "num_classes = 10  # Número de clases (K)\n",
    "\n",
    "# Generar datos de entrenamiento de ejemplo\n",
    "train_data = torch.randint(\n",
    "    0, 256, (num_images, image_height, image_width), dtype=torch.float32)\n",
    "\n",
    "# Generar etiquetas de ejemplo\n",
    "train_labels = torch.randint(0, num_classes, (num_images,), dtype=torch.long)\n",
    "\n",
    "print(train_data.shape)\n",
    "\n",
    "# Calcular las probabilidades de los píxeles\n",
    "pixel_probabilities = calculate_pixel_probability(\n",
    "    train_data, train_labels, num_classes)\n",
    "\n",
    "print(pixel_probabilities.shape)"
   ]
  },
  {
   "cell_type": "code",
   "execution_count": 13,
   "metadata": {},
   "outputs": [
    {
     "name": "stdout",
     "output_type": "stream",
     "text": [
      "tensor(0.0039)\n"
     ]
    }
   ],
   "source": [
    "print(pixel_probabilities[0][0][0])"
   ]
  },
  {
   "cell_type": "markdown",
   "metadata": {},
   "source": [
    "### Pruebas unitarias\n",
    "\n",
    "Se realizaran unos asserts con las dimensiones de la matriz esperadas. Esto se hara con datos de prueba."
   ]
  },
  {
   "cell_type": "code",
   "execution_count": 14,
   "metadata": {},
   "outputs": [
    {
     "name": "stdout",
     "output_type": "stream",
     "text": [
      "La forma de pixel_probabilities es: torch.Size([1024, 256, 10])\n"
     ]
    }
   ],
   "source": [
    "# Ejemplo 1\n",
    "num_images = 10000\n",
    "image_height = 32\n",
    "image_width = 32\n",
    "num_classes = 10\n",
    "\n",
    "train_data = torch.randint(\n",
    "    0, 256, (num_images, image_height, image_width), dtype=torch.float32)\n",
    "train_labels = torch.randint(0, num_classes, (num_images,), dtype=torch.long)\n",
    "\n",
    "pixel_probabilities = calculate_pixel_probability(\n",
    "    train_data, train_labels, num_classes)\n",
    "\n",
    "D = image_height * image_width\n",
    "Z = 256\n",
    "K = num_classes\n",
    "expected_shape = (D, Z, K)\n",
    "\n",
    "assert pixel_probabilities.shape == expected_shape, f\"La forma esperada es {expected_shape}, pero se obtuvo {pixel_probabilities.shape}\"\n",
    "\n",
    "print(f\"La forma de pixel_probabilities es: {pixel_probabilities.shape}\")"
   ]
  },
  {
   "cell_type": "code",
   "execution_count": 15,
   "metadata": {},
   "outputs": [
    {
     "name": "stdout",
     "output_type": "stream",
     "text": [
      "La forma de pixel_probabilities es: torch.Size([784, 256, 5])\n"
     ]
    }
   ],
   "source": [
    "# Ejemplo 2\n",
    "num_images = 5000\n",
    "image_height = 28\n",
    "image_width = 28\n",
    "num_classes = 5\n",
    "\n",
    "train_data = torch.randint(\n",
    "    0, 256, (num_images, image_height, image_width), dtype=torch.float32)\n",
    "train_labels = torch.randint(0, num_classes, (num_images,), dtype=torch.long)\n",
    "\n",
    "pixel_probabilities = calculate_pixel_probability(\n",
    "    train_data, train_labels, num_classes)\n",
    "\n",
    "D = image_height * image_width\n",
    "Z = 256\n",
    "K = num_classes\n",
    "expected_shape = (D, Z, K)\n",
    "\n",
    "assert pixel_probabilities.shape == expected_shape, f\"La forma esperada es {expected_shape}, pero se obtuvo {pixel_probabilities.shape}\"\n",
    "\n",
    "print(f\"La forma de pixel_probabilities es: {pixel_probabilities.shape}\")"
   ]
  },
  {
   "cell_type": "code",
   "execution_count": 16,
   "metadata": {},
   "outputs": [],
   "source": [
    "def calculate_histograms(images, labels, n_classes, n_intensity_levels=256):\n",
    "    # n_intensity_levels es 256 para imágenes en escala de grises (0-255)\n",
    "    histograms = torch.zeros(n_classes, n_intensity_levels)\n",
    "\n",
    "    for class_index in range(n_classes):\n",
    "        class_images = images[labels == class_index]\n",
    "        # Aplana las imágenes de la clase y cuenta las frecuencias de cada nivel de intensidad\n",
    "        flattened_images = class_images.flatten()\n",
    "        counts = torch.histc(\n",
    "            flattened_images, bins=n_intensity_levels, min=0, max=255)\n",
    "        histograms[class_index] = counts\n",
    "\n",
    "    return histograms"
   ]
  },
  {
   "cell_type": "code",
   "execution_count": 17,
   "metadata": {},
   "outputs": [],
   "source": [
    "def histograms_to_probabilities(histograms):\n",
    "    # Normaliza los histogramas para convertirlos en probabilidades\n",
    "    probabilities = histograms / histograms.sum(dim=1, keepdim=True)\n",
    "    return probabilities"
   ]
  },
  {
   "cell_type": "code",
   "execution_count": 18,
   "metadata": {},
   "outputs": [
    {
     "name": "stdout",
     "output_type": "stream",
     "text": [
      "torch.Size([1024, 256, 5])\n"
     ]
    }
   ],
   "source": [
    "\"\"\"\n",
    "    Entrena un modelo generando histogramas de densidades de clase a partir de los datos de entrenamiento.\n",
    "\n",
    "    Esta función calcula las probabilidades a priori de cada clase y las densidades de los datos de entrenamiento\n",
    "    para cada clase. Luego, aplana las densidades de los datos para simplificar su estructura.\n",
    "\n",
    "    Args:\n",
    "    - train_data (Tensor): Un tensor que contiene los datos de entrenamiento. Se espera que tenga la forma\n",
    "      adecuada para el modelo que se está entrenando.\n",
    "    - train_labels (Tensor): Un tensor que contiene las etiquetas de los datos de entrenamiento. Cada etiqueta\n",
    "      debe corresponder a los datos en `train_data`.\n",
    "    - normalize (bool, opcional): Un booleano que indica si se deben normalizar las densidades de los datos.\n",
    "      Por defecto es True.\n",
    "\n",
    "    Returns:\n",
    "    - dataset_densities (Tensor): Un tensor que contiene las densidades de los datos de entrenamiento\n",
    "      para cada clase. Las densidades están aplanadas para simplificar su estructura.\n",
    "    - priori_p_k (Tensor): Un tensor que contiene las probabilidades a priori de cada clase basadas en\n",
    "      las etiquetas de entrenamiento.\n",
    "\"\"\"\n",
    "\n",
    "def train_model_histogram(train_data, train_labels, normalize=True):\n",
    "    priori_p_k, unique_labels = calculate_priori_p_t(train_labels)\n",
    "    # Reshape the data\n",
    "    flattened_data = train_data.squeeze(1)\n",
    "    # Check the new shape of the tensor\n",
    "    dataset_densities = calculate_pixel_probability(flattened_data, train_labels, num_classes=len(\n",
    "        unique_labels))\n",
    "\n",
    "    return dataset_densities, priori_p_k\n",
    "\n",
    "\n",
    "dataset_densities, priori_p_k = train_model_histogram(train_tensor, train_labels)\n",
    "\n",
    "print(dataset_densities.shape)"
   ]
  },
  {
   "cell_type": "markdown",
   "metadata": {},
   "source": [
    "## Grafique los histogramas de los primeros 5 pixeles para la clase 1 y 2. \n",
    "Siguen alguna distribucion conocida?"
   ]
  },
  {
   "cell_type": "code",
   "execution_count": 19,
   "metadata": {},
   "outputs": [
    {
     "data": {
      "image/png": "[encoded data removed]",
      "text/plain": [
       "<Figure size 2000x400 with 2 Axes>"
      ]
     },
     "metadata": {},
     "output_type": "display_data"
    },
    {
     "data": {
      "image/png": "[encoded data removed]",
      "text/plain": [
       "<Figure size 2000x400 with 2 Axes>"
      ]
     },
     "metadata": {},
     "output_type": "display_data"
    },
    {
     "data": {
      "image/png": "[encoded data removed]",
      "text/plain": [
       "<Figure size 2000x400 with 2 Axes>"
      ]
     },
     "metadata": {},
     "output_type": "display_data"
    },
    {
     "data": {
      "image/png": "[encoded data removed]",
      "text/plain": [
       "<Figure size 2000x400 with 2 Axes>"
      ]
     },
     "metadata": {},
     "output_type": "display_data"
    },
    {
     "data": {
      "image/png": "[encoded data removed]",
      "text/plain": [
       "<Figure size 2000x400 with 2 Axes>"
      ]
     },
     "metadata": {},
     "output_type": "display_data"
    }
   ],
   "source": [
    "import matplotlib.pyplot as plt\n",
    "import numpy as np\n",
    "import torch  # Assuming you're using PyTorch tensors\n",
    "\n",
    "\"\"\"\n",
    "    Grafica histogramas para el número especificado de píxeles de una clase dada.\n",
    "\n",
    "    Parámetros:\n",
    "    - dataset_densities: Un tensor con forma [num_classes, 256, num_pixels].\n",
    "    - class_index: El índice de la clase para la cual se graficarán los histogramas.\n",
    "    - num_pixels: El número de píxeles para los cuales se graficarán histogramas.\n",
    "    - bins: El número de contenedores para agrupar los valores de los píxeles.\n",
    "\n",
    "    Esta función convierte el tensor a un arreglo de numpy si es un tensor de PyTorch, extrae las densidades\n",
    "    para la clase especificada, calcula los bordes y anchos de los contenedores para la agregación y grafica\n",
    "    histogramas para el número especificado de píxeles. Cada histograma muestra la densidad de los valores de\n",
    "    píxeles dentro de rangos específicos para un píxel dado.\n",
    "\"\"\"\n",
    "\n",
    "def plot_pixel_densities(dataset_densities, pixel_index=0, bins=16, num_classes_to_plot=2):\n",
    "    # Convertir el tensor a un arreglo numpy si es un tensor de PyTorch\n",
    "    if isinstance(dataset_densities, torch.Tensor):\n",
    "        dataset_densities = dataset_densities.numpy()\n",
    "\n",
    "    # Calculate bin edges and widths for aggregation\n",
    "    bin_edges = np.linspace(0, 256, bins + 1)\n",
    "    bin_width = bin_edges[1] - bin_edges[0]\n",
    "\n",
    "    # Graficar histogramas para el número especificado de clases\n",
    "    fig, axs = plt.subplots(1, num_classes_to_plot, figsize=(20, 4))\n",
    "    for i in range(num_classes_to_plot):\n",
    "        # Extraer las densidades para el píxel y clase especificados\n",
    "        pixel_densities = dataset_densities[pixel_index, :, i]\n",
    "        # Agregar densidades de píxeles en contenedores\n",
    "        binned_densities = np.histogram(\n",
    "            np.arange(256), bins=bin_edges, weights=pixel_densities)[0]\n",
    "        axs[i].bar(bin_edges[:-1], binned_densities, width=bin_width)\n",
    "        axs[i].set_title(f'Class {i+1}')\n",
    "        axs[i].set_xlabel('Pixel Value Range')\n",
    "        axs[i].set_ylabel('Density')\n",
    "\n",
    "    fig.suptitle(f'Histograms for Pixel {pixel_index + 1}', fontsize=16)\n",
    "\n",
    "    # Ajustar el diseño para hacer espacio para el título\n",
    "    plt.tight_layout(rect=[0, 0.03, 1, 0.95])\n",
    "    plt.show()\n",
    "\n",
    "\n",
    "plot_pixel_densities(dataset_densities, pixel_index=0,bins=256, num_classes_to_plot=2)\n",
    "plot_pixel_densities(dataset_densities, pixel_index=1,bins=256, num_classes_to_plot=2)\n",
    "plot_pixel_densities(dataset_densities, pixel_index=2, bins=256, num_classes_to_plot=2)\n",
    "plot_pixel_densities(dataset_densities, pixel_index=3, bins=256, num_classes_to_plot=2)\n",
    "plot_pixel_densities(dataset_densities, pixel_index=4, bins=256, num_classes_to_plot=2)"
   ]
  },
  {
   "cell_type": "markdown",
   "metadata": {},
   "source": [
    "Al graficar los histogramas de los primeros 5 píxeles para las clases 1 y 2, se observa que las distribuciones de intensidades de píxeles no siguen necesariamente una distribución gaussiana. Sin embargo, se puede apreciar que los datos están distribuidos de manera relativamente uniforme, con excepción de un pico al final de la distribución.\n",
    "Este pico al final de la distribución indica que, tanto para la clase 1 como para la clase 2, existe una mayor frecuencia de aparición de valores de intensidad de píxel cercanos a 0, lo que corresponde a tonos oscuros o negros. Esto sugiere que, para estos píxeles específicos, las imágenes de ambas clases tienden a tener regiones más oscuras o negras.\n",
    "Es importante destacar que esta observación se basa únicamente en los primeros 5 píxeles analizados, y que el comportamiento de las distribuciones puede variar para otros píxeles o al considerar el conjunto completo de imágenes. Sin embargo, esta información puede ser útil para comprender mejor las características de las imágenes en cada clase y cómo se distribuyen las intensidades de píxeles.\n",
    "Además, el hecho de que las distribuciones no sigan una forma gaussiana perfecta no es necesariamente un problema, ya que el enfoque basado en histogramas no asume una distribución específica. En cambio, este enfoque estima las densidades directamente a partir de los datos, lo que permite capturar distribuciones más complejas o irregulares."
   ]
  },
  {
   "cell_type": "code",
   "execution_count": 20,
   "metadata": {},
   "outputs": [],
   "source": [
    "\n",
    "import numpy as np\n",
    "\n",
    "\"\"\"\n",
    "    Estima la clase a la que pertenece una imagen de entrada utilizando el modelo de histogramas.\n",
    "\n",
    "    Args:\n",
    "        input_image (torch.Tensor): Tensor que contiene la imagen de entrada.\n",
    "        dataset_densities (torch.Tensor): Tensor con las densidades de los píxeles para cada clase, de forma [D, Z, K],\n",
    "            donde D es el número de píxeles, Z es el número de valores de intensidad (256 para escala de grises) y\n",
    "            K es el número de clases.\n",
    "        priori_p_k (torch.Tensor): Tensor con las probabilidades a priori de cada clase.\n",
    "\n",
    "    Returns:\n",
    "        torch.Tensor: Tensor con las verosimilitudes de cada clase para la imagen de entrada.\n",
    "\"\"\"\n",
    "\n",
    "def test_model_histogram(input_image, dataset_densities, priori_p_k):\n",
    "    # Inicializar la variable de salida\n",
    "\n",
    "    flattened_input_image = input_image.flatten()\n",
    "    class_likelihoods = np.zeros(len(priori_p_k))\n",
    "\n",
    "    for i in range(len(flattened_input_image)):\n",
    "        pixel_intensity = int(flattened_input_image[i].item())\n",
    "        for j in range(len(priori_p_k)):\n",
    "            class_likelihoods[j] += torch.log(dataset_densities[i][pixel_intensity][j]) + torch.log(priori_p_k[j])\n",
    "\n",
    "    return class_likelihoods\n",
    "\n"
   ]
  },
  {
   "cell_type": "markdown",
   "metadata": {},
   "source": [
    "## Prueba Unitaria\n",
    "\n",
    "Se realiza una prueba donde se evalua una prediccion esperada con una predicha."
   ]
  },
  {
   "cell_type": "code",
   "execution_count": 21,
   "metadata": {},
   "outputs": [
    {
     "name": "stdout",
     "output_type": "stream",
     "text": [
      "Etiqueta real: 3\n",
      "Etiqueta predicha: 3\n"
     ]
    }
   ],
   "source": [
    "test_specific_image = train_tensor[1][0]\n",
    "\n",
    "# Obtener la etiqueta real de la imagen de prueba\n",
    "true_label = train_labels[1].item()\n",
    "\n",
    "# Realizar la predicción\n",
    "likelihood_array = test_model_histogram(\n",
    "    test_specific_image, dataset_densities, priori_p_k)\n",
    "predicted_label = np.argmax(likelihood_array)\n",
    "\n",
    "# Realizar el assert\n",
    "assert predicted_label == true_label, f\"La predicción {predicted_label} no coincide con la etiqueta real {true_label}\"\n",
    "\n",
    "# Si el assert no falla, imprimir los resultados\n",
    "print(f\"Etiqueta real: {true_label}\")\n",
    "print(f\"Etiqueta predicha: {predicted_label}\")"
   ]
  },
  {
   "cell_type": "code",
   "execution_count": 22,
   "metadata": {},
   "outputs": [],
   "source": [
    "def test_model_batch_histogram(test_data, labels, dataset_densities, priori_p_k):\n",
    "    y_truth = labels\n",
    "    y_pred = []\n",
    "\n",
    "    i = 0\n",
    "\n",
    "    for image in test_data:\n",
    "        i += 1\n",
    "\n",
    "        flattened_image = image.flatten()\n",
    "        likelihood_array = test_model_histogram(flattened_image, dataset_densities, priori_p_k)\n",
    "        y_pred.append(np.argmax(likelihood_array))\n",
    "\n",
    "    correct_predictions = np.sum(np.array(y_pred) == np.array(y_truth))\n",
    "    accuracy = correct_predictions / len(y_truth)\n",
    "\n",
    "    return accuracy, y_pred, y_truth\n",
    "\n"
   ]
  },
  {
   "cell_type": "code",
   "execution_count": 23,
   "metadata": {},
   "outputs": [
    {
     "name": "stdout",
     "output_type": "stream",
     "text": [
      "Prueba unitaria superada correctamente.\n"
     ]
    }
   ],
   "source": [
    "num_images = 10\n",
    "image_height = 32\n",
    "image_width = 32\n",
    "num_classes = 2\n",
    "\n",
    "    # Clase 0: todos los píxeles con valor 0\n",
    "class_0_data = torch.zeros(num_images // 2, 1, image_height, image_width)\n",
    "class_0_labels = torch.zeros(num_images // 2, dtype=torch.long)\n",
    "\n",
    "# Clase 1: todos los píxeles con valor 255\n",
    "class_1_data = torch.ones(num_images // 2, 1, image_height, image_width) * 255\n",
    "class_1_labels = torch.ones(num_images // 2, dtype=torch.long)\n",
    "\n",
    "# Combinar los datos y etiquetas\n",
    "test_data = torch.cat([class_0_data, class_1_data], dim=0)\n",
    "test_labels = torch.cat([class_0_labels, class_1_labels], dim=0)\n",
    "\n",
    "# Calcular las densidades y probabilidades a priori\n",
    "dataset_densities, priori_p_k = train_model_histogram(test_data, test_labels)\n",
    "\n",
    "# Ejecutar la función a probar\n",
    "accuracy, y_pred, y_truth = test_model_batch_histogram(test_data, test_labels, dataset_densities, priori_p_k)\n",
    "\n",
    "# Verificar que la precisión sea 1.0 (100%)\n",
    "assert accuracy == 1.0, f\"La precisión esperada es 1.0, pero se obtuvo {accuracy}\"\n",
    "\n",
    "print(\"Prueba unitaria superada correctamente.\")"
   ]
  },
  {
   "cell_type": "markdown",
   "metadata": {},
   "source": [
    "## Prueba de Modelo\n",
    "\n",
    "Entrene el modelo propuesto, con el conjunto de observacio-\n",
    "nes contenido en la carpeta train, y reporte la tasa de aciertos al utilizar la función anteriormente implementadatest_model_batch_histogram. Veri-\n",
    "fique y comente los resultados. \n",
    "\n",
    "**¿Cómo se puede corregir el problema detectado, según las herramientas matemáticas estudiadas en clase? Implemente tal enfoque y compruebe los resultados.**\n",
    "\n",
    "### Respuesta\n",
    "\n",
    "El problema es que los valores de predicción pueden tender a 0, lo que puede llevar a errores en la clasificación. Para corregir esto, se puede utilizar las propiedades de logaritmos en las operaciones de multiplicación, lo que genera terminando sumas en lugar de multiplicaciones."
   ]
  },
  {
   "cell_type": "code",
   "execution_count": 24,
   "metadata": {},
   "outputs": [
    {
     "name": "stdout",
     "output_type": "stream",
     "text": [
      "Files already downloaded and verified\n",
      "cifar_trainset_tensor shape  torch.Size([50000, 1, 32, 32])\n",
      "cifar_labels  torch.Size([50000])\n"
     ]
    },
    {
     "data": {
      "text/plain": [
       "torch.Size([1024, 256, 10])"
      ]
     },
     "execution_count": 24,
     "metadata": {},
     "output_type": "execute_result"
    }
   ],
   "source": [
    "train_data, train_labels = load_cifar10_dataset(is_train=True)\n",
    "\n",
    "dataset_densities, priori_p_k = train_model_histogram(train_data, train_labels)\n",
    "\n",
    "dataset_densities.shape"
   ]
  },
  {
   "cell_type": "markdown",
   "metadata": {},
   "source": [
    "Entrene el modelo usando todos los datos de train, pero aho-\n",
    "ra pruebelo con los datos en la carpeta de test, reporte los resultados y\n",
    "comentelos"
   ]
  },
  {
   "cell_type": "code",
   "execution_count": 25,
   "metadata": {},
   "outputs": [
    {
     "name": "stdout",
     "output_type": "stream",
     "text": [
      "Files already downloaded and verified\n",
      "cifar_trainset_tensor shape  torch.Size([10000, 1, 32, 32])\n",
      "cifar_labels  torch.Size([10000])\n"
     ]
    },
    {
     "ename": "KeyboardInterrupt",
     "evalue": "",
     "output_type": "error",
     "traceback": [
      "\u001b[1;31m---------------------------------------------------------------------------\u001b[0m",
      "\u001b[1;31mKeyboardInterrupt\u001b[0m                         Traceback (most recent call last)",
      "Cell \u001b[1;32mIn[25], line 3\u001b[0m\n\u001b[0;32m      1\u001b[0m test_tensor, test_labels \u001b[38;5;241m=\u001b[39m load_cifar10_dataset(is_train\u001b[38;5;241m=\u001b[39m\u001b[38;5;28;01mFalse\u001b[39;00m)\n\u001b[1;32m----> 3\u001b[0m accuracy, y_pred, y_truth \u001b[38;5;241m=\u001b[39m \u001b[43mtest_model_batch_histogram\u001b[49m\u001b[43m(\u001b[49m\n\u001b[0;32m      4\u001b[0m \u001b[43m    \u001b[49m\u001b[43mtest_tensor\u001b[49m\u001b[43m,\u001b[49m\u001b[43m \u001b[49m\u001b[43mtest_labels\u001b[49m\u001b[43m,\u001b[49m\u001b[43m \u001b[49m\u001b[43mdataset_densities\u001b[49m\u001b[43m,\u001b[49m\u001b[43m \u001b[49m\u001b[43mpriori_p_k\u001b[49m\u001b[43m)\u001b[49m\n\u001b[0;32m      6\u001b[0m \u001b[38;5;28mprint\u001b[39m(\u001b[38;5;124m\"\u001b[39m\u001b[38;5;124mAccuracy: \u001b[39m\u001b[38;5;124m\"\u001b[39m, accuracy)\n",
      "Cell \u001b[1;32mIn[22], line 11\u001b[0m, in \u001b[0;36mtest_model_batch_histogram\u001b[1;34m(test_data, labels, dataset_densities, priori_p_k)\u001b[0m\n\u001b[0;32m      8\u001b[0m     i \u001b[38;5;241m+\u001b[39m\u001b[38;5;241m=\u001b[39m \u001b[38;5;241m1\u001b[39m\n\u001b[0;32m     10\u001b[0m     flattened_image \u001b[38;5;241m=\u001b[39m image\u001b[38;5;241m.\u001b[39mflatten()\n\u001b[1;32m---> 11\u001b[0m     likelihood_array \u001b[38;5;241m=\u001b[39m \u001b[43mtest_model_histogram\u001b[49m\u001b[43m(\u001b[49m\u001b[43mflattened_image\u001b[49m\u001b[43m,\u001b[49m\u001b[43m \u001b[49m\u001b[43mdataset_densities\u001b[49m\u001b[43m,\u001b[49m\u001b[43m \u001b[49m\u001b[43mpriori_p_k\u001b[49m\u001b[43m)\u001b[49m\n\u001b[0;32m     12\u001b[0m     y_pred\u001b[38;5;241m.\u001b[39mappend(np\u001b[38;5;241m.\u001b[39margmax(likelihood_array))\n\u001b[0;32m     14\u001b[0m correct_predictions \u001b[38;5;241m=\u001b[39m np\u001b[38;5;241m.\u001b[39msum(np\u001b[38;5;241m.\u001b[39marray(y_pred) \u001b[38;5;241m==\u001b[39m np\u001b[38;5;241m.\u001b[39marray(y_truth))\n",
      "Cell \u001b[1;32mIn[20], line 26\u001b[0m, in \u001b[0;36mtest_model_histogram\u001b[1;34m(input_image, dataset_densities, priori_p_k)\u001b[0m\n\u001b[0;32m     24\u001b[0m     pixel_intensity \u001b[38;5;241m=\u001b[39m \u001b[38;5;28mint\u001b[39m(flattened_input_image[i]\u001b[38;5;241m.\u001b[39mitem())\n\u001b[0;32m     25\u001b[0m     \u001b[38;5;28;01mfor\u001b[39;00m j \u001b[38;5;129;01min\u001b[39;00m \u001b[38;5;28mrange\u001b[39m(\u001b[38;5;28mlen\u001b[39m(priori_p_k)):\n\u001b[1;32m---> 26\u001b[0m         class_likelihoods[j] \u001b[38;5;241m+\u001b[39m\u001b[38;5;241m=\u001b[39m \u001b[43mtorch\u001b[49m\u001b[38;5;241;43m.\u001b[39;49m\u001b[43mlog\u001b[49m\u001b[43m(\u001b[49m\u001b[43mdataset_densities\u001b[49m\u001b[43m[\u001b[49m\u001b[43mi\u001b[49m\u001b[43m]\u001b[49m\u001b[43m[\u001b[49m\u001b[43mpixel_intensity\u001b[49m\u001b[43m]\u001b[49m\u001b[43m[\u001b[49m\u001b[43mj\u001b[49m\u001b[43m]\u001b[49m\u001b[43m)\u001b[49m \u001b[38;5;241m+\u001b[39m torch\u001b[38;5;241m.\u001b[39mlog(priori_p_k[j])\n\u001b[0;32m     28\u001b[0m \u001b[38;5;28;01mreturn\u001b[39;00m class_likelihoods\n",
      "\u001b[1;31mKeyboardInterrupt\u001b[0m: "
     ]
    }
   ],
   "source": [
    "test_tensor, test_labels = load_cifar10_dataset(is_train=False)\n",
    "\n",
    "accuracy, y_pred, y_truth = test_model_batch_histogram(\n",
    "    test_tensor, test_labels, dataset_densities, priori_p_k)\n",
    "\n",
    "print(\"Accuracy: \", accuracy)"
   ]
  },
  {
   "cell_type": "markdown",
   "metadata": {},
   "source": [
    "Particione los datos de forma aleatoria con 70 % de las obser-\n",
    "vaciones para entrenamiento y 30 % para prueba (a partir de la carpeta\n",
    "train). Calcule la tasa de aciertos para 10 corridas (idealmente 30), cada\n",
    "una con una partición de entrenamiento y otra de prueba distintas. Re-\n",
    "porte los resultados de las corridas en una tabla, además de la media y\n",
    "desviación estándar de la tasa de aciertos para las 10 corridas. Para reali-\n",
    "zar las particiones puede usar la libreria sklearn"
   ]
  },
  {
   "cell_type": "code",
   "execution_count": null,
   "metadata": {},
   "outputs": [],
   "source": [
    "data, labels = load_cifar10_dataset(is_train=True)\n",
    "\n",
    "data.shape"
   ]
  },
  {
   "cell_type": "code",
   "execution_count": null,
   "metadata": {},
   "outputs": [],
   "source": [
    "from torch.utils.data import TensorDataset, DataLoader, random_split\n",
    "\n",
    "dataset = TensorDataset(data, labels)\n",
    "\n",
    "  # Shuffle the dataset\n",
    "\n",
    "def shuffle_dataset(dataset):\n",
    "      return DataLoader(dataset, shuffle=True)\n",
    "\n",
    "accuracy_array = []\n",
    "\n",
    "for epoch in range(15):\n",
    "\n",
    "  shuffled_dataset_loader = shuffle_dataset(dataset)\n",
    "\n",
    "  # Convert DataLoader back to TensorDataset\n",
    "  shuffled_data = []\n",
    "  shuffled_labels = []\n",
    "  for d, l in shuffled_dataset_loader:\n",
    "      shuffled_data.append(d)\n",
    "      shuffled_labels.append(l)\n",
    "\n",
    "  shuffled_data = torch.cat(shuffled_data)\n",
    "  shuffled_labels = torch.cat(shuffled_labels)\n",
    "  shuffled_dataset = TensorDataset(shuffled_data, shuffled_labels)\n",
    "\n",
    "  # Split de dataset de forma aleatoria. Dejamos el 70% para entrenamiento y el 30% para pruebas\n",
    "  train_size = int(0.7 * len(shuffled_dataset))\n",
    "  test_size = len(shuffled_dataset) - train_size\n",
    "  train_dataset, test_dataset = random_split(\n",
    "      shuffled_dataset, [train_size, test_size])\n",
    "\n",
    "  # Extract tensors from the subsets\n",
    "  x_train = torch.cat([data for data, _ in DataLoader(train_dataset)])\n",
    "  y_train = torch.cat([labels for _, labels in DataLoader(train_dataset)])\n",
    "  x_test = torch.cat([data for data, _ in DataLoader(test_dataset)])\n",
    "  y_test = torch.cat([labels for _, labels in DataLoader(test_dataset)])\n",
    "\n",
    "  dataset_densities, priori_p_k = train_model_histogram(x_train, y_train)\n",
    "\n",
    "  accuracy, y_pred, y_truth = test_model_batch_histogram(\n",
    "      x_test, y_test, dataset_densities, priori_p_k)\n",
    "\n",
    "  accuracy_array.append(accuracy)\n",
    "\n",
    "  print(\"Accuracy: \", accuracy)\n",
    "  print(\"Epoch: \", epoch)\n",
    "  print()\n",
    "\n",
    "print(\"Accuracy mean: \", np.mean(accuracy_array))\n",
    "print(\"Accuracy std: \", np.std(accuracy_array))"
   ]
  },
  {
   "cell_type": "markdown",
   "metadata": {},
   "source": [
    "##  Implementación de la clasiﬁcación multiclase de imágenes con Bayes ingenuo usando un modelo Gaussiano"
   ]
  },
  {
   "cell_type": "code",
   "execution_count": 26,
   "metadata": {},
   "outputs": [],
   "source": [
    "import torch\n",
    "\n",
    "\n",
    "def train_model_gaussian(train_data, train_labels, num_classes):\n",
    "    \"\"\"\n",
    "    Entrena un modelo Gaussiano para estimar las medias y covarianzas de cada píxel\n",
    "    para cada clase.\n",
    "\n",
    "    Args:\n",
    "        train_data (torch.Tensor): Tensor con los datos de entrenamiento de forma [N, 1, 32, 32].\n",
    "        train_labels (torch.Tensor): Tensor con las etiquetas de entrenamiento de forma [N].\n",
    "        num_classes (int): Número de clases.\n",
    "\n",
    "    Returns:\n",
    "        Mu_d_k (torch.Tensor): Tensor con las medias de cada píxel para cada clase de forma [D, K].\n",
    "        Sigma_d_k (torch.Tensor): Tensor con las covarianzas de cada píxel para cada clase de forma [D, K].\n",
    "    \"\"\"\n",
    "    N, _, H, W = train_data.shape  # N: número de imágenes, H: altura, W: anchura\n",
    "    D = H * W  # Número de píxeles por imagen\n",
    "\n",
    "    # Inicializar tensores para almacenar medias y covarianzas\n",
    "    Mu_d_k = torch.zeros(D, num_classes)\n",
    "    Sigma_d_k = torch.zeros(D, num_classes)\n",
    "\n",
    "    # Aplanar las imágenes para que cada imagen sea un vector de tamaño D\n",
    "    train_data_flat = train_data.view(N, D)\n",
    "\n",
    "    for k in range(num_classes):\n",
    "        # Obtener los datos de la clase k\n",
    "        class_data = train_data_flat[train_labels == k]\n",
    "\n",
    "        # Calcular medias y covarianzas para cada píxel de la clase k\n",
    "        Mu_d_k[:, k] = class_data.mean(dim=0)\n",
    "        Sigma_d_k[:, k] = class_data.var(dim=0)\n",
    "\n",
    "    return Mu_d_k, Sigma_d_k\n",
    "\n"
   ]
  },
  {
   "cell_type": "markdown",
   "metadata": {},
   "source": [
    "### Pruebas del entrenamiento del modelo\n",
    "\n",
    "Para las pruebas del modelo, se utilizaran tensores creados aleatoriamiente para simular los datos de entrenamiento y testeo. Se espera que el resultado de la forma de las matrices sea de la forma esperada."
   ]
  },
  {
   "cell_type": "code",
   "execution_count": 27,
   "metadata": {},
   "outputs": [
    {
     "name": "stdout",
     "output_type": "stream",
     "text": [
      "torch.Size([1024, 10])\n",
      "torch.Size([1024, 10])\n",
      "Shapes are correct!\n",
      "torch.Size([1024, 10])\n",
      "torch.Size([1024, 10])\n"
     ]
    }
   ],
   "source": [
    "# Ejemplo de uso\n",
    "# Suponiendo que train_data y train_labels ya están definidos y tienen las dimensiones correctas\n",
    "train_data = torch.randn(50000, 1, 32, 32)  # Datos de ejemplo\n",
    "train_labels = torch.randint(0, 10, (50000,))  # Etiquetas de ejemplo\n",
    "\n",
    "Mu_d_k, Sigma_d_k = train_model_gaussian(\n",
    "    train_data, train_labels, num_classes=10)\n",
    "\n",
    "print(Mu_d_k.shape)  # Debería imprimir torch.Size([1024, 10])\n",
    "print(Sigma_d_k.shape)  # Debería imprimir torch.Size([1024, 10])\n",
    "\n",
    "\n",
    "assert Mu_d_k.shape == torch.Size(\n",
    "    [1024, 10]), f\"Expected shape [1024, 10], but got {Mu_d_k.shape}\"\n",
    "assert Sigma_d_k.shape == torch.Size(\n",
    "    [1024, 10]), f\"Expected shape [1024, 10], but got {Sigma_d_k.shape}\"\n",
    "\n",
    "print(\"Shapes are correct!\")\n",
    "print(Mu_d_k.shape)  # Debería imprimir torch.Size([1024, 10])\n",
    "print(Sigma_d_k.shape)  # Debería imprimir torch.Size([1024, 10])"
   ]
  },
  {
   "cell_type": "code",
   "execution_count": null,
   "metadata": {},
   "outputs": [],
   "source": [
    "import matplotlib.pyplot as plt\n",
    "import numpy as np\n",
    "import torch\n",
    "from scipy.stats import norm\n",
    "\n",
    "\n",
    "import matplotlib.pyplot as plt\n",
    "import numpy as np\n",
    "import torch\n",
    "from scipy.stats import norm\n",
    "\n",
    "\n",
    "def plot_histograms_and_gaussians(train_data, train_labels, Mu_d_k, Sigma_d_k, pixel_indices, classes):\n",
    "    \"\"\"\n",
    "    Grafica los histogramas y los modelos Gaussianos para los píxeles especificados y las clases dadas en plots separados.\n",
    "\n",
    "    Args:\n",
    "        train_data (torch.Tensor): Tensor con los datos de entrenamiento de forma [N, 1, 32, 32].\n",
    "        train_labels (torch.Tensor): Tensor con las etiquetas de entrenamiento de forma [N].\n",
    "        Mu_d_k (torch.Tensor): Tensor con las medias de cada píxel para cada clase de forma [D, K].\n",
    "        Sigma_d_k (torch.Tensor): Tensor con las covarianzas de cada píxel para cada clase de forma [D, K].\n",
    "        pixel_indices (list): Lista de índices de los píxeles a graficar.\n",
    "        classes (list): Lista de clases a graficar.\n",
    "    \"\"\"\n",
    "    N, _, H, W = train_data.shape\n",
    "    D = H * W\n",
    "    train_data_flat = train_data.view(N, D)\n",
    "\n",
    "    for pixel_index in pixel_indices:\n",
    "        # Graficar histogramas\n",
    "        plt.figure(figsize=(12, 6))\n",
    "        for class_id in classes:\n",
    "            class_data = train_data_flat[train_labels == class_id]\n",
    "            pixel_values = class_data[:, pixel_index].numpy()\n",
    "            plt.hist(pixel_values, bins=256, density=True, alpha=0.6,\n",
    "                     label=f'Clase {class_id} - Píxel {pixel_index}')\n",
    "        plt.xlabel('Intensidad del Píxel')\n",
    "        plt.ylabel('Densidad')\n",
    "        plt.legend()\n",
    "        plt.title(f'Histograma para Píxel {pixel_index}')\n",
    "        plt.show()\n",
    "\n",
    "        # Graficar modelos Gaussianos\n",
    "        plt.figure(figsize=(12, 6))\n",
    "        for class_id in classes:\n",
    "            mu = Mu_d_k[pixel_index, class_id].item()\n",
    "            sigma = torch.sqrt(Sigma_d_k[pixel_index, class_id]).item()\n",
    "            x = np.linspace(0, 255, 256)\n",
    "            gaussian = norm.pdf(x, mu, sigma)\n",
    "            plt.plot(\n",
    "                x, gaussian, label=f'Gaussiana Clase {class_id} - Píxel {pixel_index}')\n",
    "        plt.xlabel('Intensidad del Píxel')\n",
    "        plt.gca().set_xticks([])  \n",
    "        plt.gca().set_xticklabels([]) \n",
    "        plt.ylabel('Densidad')\n",
    "        plt.legend()\n",
    "        plt.title(f'Modelo Gaussiano para Píxel {pixel_index}')\n",
    "        plt.show()\n",
    "\n",
    "\n",
    "\n",
    "train_data, train_labels = load_cifar10_dataset(is_train=True)\n",
    "\n",
    "# Calcular medias y varianzas\n",
    "Mu_d_k, Sigma_d_k = train_model_gaussian(\n",
    "    train_data, train_labels, num_classes=10)\n",
    "\n",
    "# Graficar los histogramas y modelos Gaussianos para los primeros 5 píxeles de las clases 1 y 2\n",
    "plot_histograms_and_gaussians(train_data, train_labels, Mu_d_k, Sigma_d_k, pixel_indices=[\n",
    "                              0, 1, 2, 3, 4], classes=[1, 2])"
   ]
  },
  {
   "cell_type": "code",
   "execution_count": null,
   "metadata": {},
   "outputs": [],
   "source": [
    "train_data.shape"
   ]
  },
  {
   "cell_type": "code",
   "execution_count": null,
   "metadata": {},
   "outputs": [],
   "source": [
    "train_data[0][0][0][0]"
   ]
  },
  {
   "cell_type": "code",
   "execution_count": 28,
   "metadata": {},
   "outputs": [],
   "source": [
    "import torch\n",
    "\n",
    "\n",
    "def test_model_gaussian(input_torch, mu_d_k, sigma_d_k, priori_p_k):\n",
    "    \"\"\"\n",
    "    Estima la clase a la que pertenece una observación utilizando el modelo Gaussiano.\n",
    "\n",
    "    Args:\n",
    "        input_torch (torch.Tensor): Tensor con la observación de forma [D].\n",
    "        mu_d_k (torch.Tensor): Tensor con las medias de cada píxel para cada clase de forma [D, K].\n",
    "        sigma_d_k (torch.Tensor): Tensor con las varianzas de cada píxel para cada clase de forma [D, K].\n",
    "        priori_p_k (torch.Tensor): Tensor con las probabilidades a priori de cada clase.\n",
    "\n",
    "    Returns:\n",
    "        int: Índice de la clase estimada.\n",
    "    \"\"\"\n",
    "    D = input_torch.shape[0]  # Número de píxeles\n",
    "    K = mu_d_k.shape[1]  # Número de clases\n",
    "\n",
    "    # Calcular la probabilidad posterior para cada clase\n",
    "    log_posteriors = torch.zeros(K)\n",
    "    for k in range(K):\n",
    "        log_likelihood = torch.sum(torch.log(1 / torch.sqrt(2 * torch.pi * sigma_d_k[:, k])) -\n",
    "                                   ((input_torch - mu_d_k[:, k]) ** 2) / (2 * sigma_d_k[:, k]))\n",
    "        log_posteriors[k] = log_likelihood + torch.log(priori_p_k[k])\n",
    "\n",
    "    # Estimar la clase con la mayor probabilidad posterior\n",
    "    predicted_class = log_posteriors.argmax().item()\n",
    "\n",
    "    return predicted_class"
   ]
  },
  {
   "cell_type": "markdown",
   "metadata": {},
   "source": [
    "La prueba unitaria está diseñada para verificar la correcta implementación de la función test\\_model\\_batch\\_gaussian, que estima las clases de un conjunto de datos de prueba utilizando un modelo Gaussiano."
   ]
  },
  {
   "cell_type": "code",
   "execution_count": null,
   "metadata": {},
   "outputs": [],
   "source": [
    "import torch\n",
    "\n",
    "# Suponiendo que las funciones load_cifar10_dataset, train_model_gaussian, calculate_priori_p_t y test_model_gaussian ya están definidas\n",
    "\n",
    "# Cargar los datos de prueba\n",
    "test_tensor, test_labels = load_cifar10_dataset(is_train=False)\n",
    "\n",
    "# Entrenar el modelo Gaussiano\n",
    "mu_d_k, sigma_d_k = train_model_gaussian(\n",
    "    test_tensor, test_labels, num_classes=10)\n",
    "\n",
    "# Calcular las probabilidades a priori\n",
    "priori_p_k = calculate_priori_p_t(test_labels)[0]\n",
    "\n",
    "# Realizar la primera predicción\n",
    "true_label_1 = test_labels[2].item()\n",
    "predicted_class_1 = test_model_gaussian(\n",
    "    test_tensor[2].flatten(), mu_d_k, sigma_d_k, priori_p_k)\n",
    "assert predicted_class_1 == true_label_1, f\"La predicción {predicted_class_1} no coincide con la etiqueta real {true_label_1}\"\n",
    "\n",
    "# Realizar la segunda predicción\n",
    "true_label_2 = test_labels[3].item()\n",
    "predicted_class_2 = test_model_gaussian(\n",
    "    test_tensor[3].flatten(), mu_d_k, sigma_d_k, priori_p_k)\n",
    "assert predicted_class_2 == true_label_2, f\"La predicción {predicted_class_2} no coincide con la etiqueta real {true_label_2}\"\n",
    "\n",
    "# Imprimir los resultados\n",
    "print(\n",
    "    f\"Primera predicción: La clase estimada es {predicted_class_1}, la clase real es {true_label_1}\")\n",
    "print(\n",
    "    f\"Segunda predicción: La clase estimada es {predicted_class_2}, la clase real es {true_label_2}\")"
   ]
  },
  {
   "cell_type": "code",
   "execution_count": 41,
   "metadata": {},
   "outputs": [],
   "source": [
    "def test_model_batch_gaussian(test_data, labels, mu_d_k, sigma_d_k, prior):\n",
    "    \"\"\"\n",
    "    Estima las clases de un conjunto de datos de prueba utilizando el modelo Gaussiano.\n",
    "\n",
    "    Args:\n",
    "        test_data (torch.Tensor): Tensor con los datos de prueba de forma [N, D].\n",
    "        labels (torch.Tensor): Tensor con las etiquetas reales de forma [N].\n",
    "        mu_d_k (torch.Tensor): Tensor con las medias de cada píxel para cada clase de forma [D, K].\n",
    "        sigma_d_k (torch.Tensor): Tensor con las varianzas de cada píxel para cada clase de forma [D, K].\n",
    "        prior (torch.Tensor): Tensor con las probabilidades a priori de cada clase.\n",
    "\n",
    "    Returns:\n",
    "        float: Precisión del modelo.\n",
    "        list: Lista de clases predichas.\n",
    "        list: Lista de clases reales.\n",
    "    \"\"\"\n",
    "    prediction_array = []\n",
    "\n",
    "    for image in test_data:\n",
    "        predicted_class = test_model_gaussian(image.flatten(), mu_d_k, sigma_d_k, prior)\n",
    "        prediction_array.append(predicted_class)\n",
    "\n",
    "    \n",
    "    accuracy = np.sum(np.array(prediction_array) == np.array(labels)) / len(labels)\n",
    "\n",
    "    return accuracy"
   ]
  },
  {
   "cell_type": "markdown",
   "metadata": {},
   "source": [
    "Prueba Unitaria"
   ]
  },
  {
   "cell_type": "code",
   "execution_count": null,
   "metadata": {},
   "outputs": [],
   "source": [
    "num_images = 20\n",
    "image_height = 32\n",
    "image_width = 32\n",
    "num_classes = 2\n",
    "\n",
    "    # Clase 0: imágenes negras\n",
    "black_images = torch.zeros(num_images // 2, image_height * image_width)\n",
    "black_labels = torch.zeros(num_images // 2, dtype=torch.long)\n",
    "\n",
    "    # Clase 1: imágenes blancas\n",
    "white_images = torch.ones(num_images // 2, image_height * image_width) * 255\n",
    "white_labels = torch.ones(num_images // 2, dtype=torch.long)\n",
    "\n",
    "    # Combinar los datos y etiquetas\n",
    "test_data = torch.cat([black_images, white_images], dim=0)\n",
    "test_labels = torch.cat([black_labels, white_labels], dim=0)\n",
    "\n",
    "    # Entrenar el modelo Gaussiano con los mismos datos\n",
    "mu_d_k = torch.zeros(image_height * image_width, num_classes)\n",
    "sigma_d_k = torch.ones(image_height * image_width, num_classes)\n",
    "mu_d_k[:, 1] = 255  # La media de la clase 1 es 255\n",
    "\n",
    "    # Probabilidades a priori\n",
    "priori_p_k = torch.tensor([0.5, 0.5])\n",
    "\n",
    "    # Evaluar el modelo\n",
    "accuracy, y_pred, y_truth = test_model_batch_gaussian(test_data, test_labels, mu_d_k, sigma_d_k, priori_p_k)\n",
    "\n",
    "    # Verificar que la precisión sea 1.0 (100%)\n",
    "assert accuracy == 1.0, f\"La precisión esperada es 1.0, pero se obtuvo {accuracy}\"\n",
    "\n",
    "print(\"Prueba unitaria superada correctamente.\")\n",
    "print(f\"Accuracy: {accuracy}\")\n",
    "print(f\"Predicciones: {y_pred}\")\n",
    "print(f\"Etiquetas reales: {y_truth}\")"
   ]
  },
  {
   "cell_type": "code",
   "execution_count": 42,
   "metadata": {},
   "outputs": [
    {
     "name": "stdout",
     "output_type": "stream",
     "text": [
      "Files already downloaded and verified\n",
      "cifar_trainset_tensor shape  torch.Size([50000, 1, 32, 32])\n",
      "cifar_labels  torch.Size([50000])\n",
      "Files already downloaded and verified\n",
      "cifar_trainset_tensor shape  torch.Size([10000, 1, 32, 32])\n",
      "cifar_labels  torch.Size([10000])\n",
      "Accuracy:  0.0986\n"
     ]
    }
   ],
   "source": [
    "train_data, train_labels = load_cifar10_dataset(is_train=True)\n",
    "\n",
    "\n",
    "mu_d_k, sigma_d_k = train_model_gaussian(train_data, train_labels, num_classes=10)\n",
    "priori_p_k = calculate_priori_p_t(train_labels)[0]\n",
    "\n",
    "test_data, test_labels = load_cifar10_dataset(is_train=False)\n",
    "\n",
    "accuracy = test_model_batch_gaussian(test_data, test_labels, mu_d_k, sigma_d_k, priori_p_k)\n",
    "\n",
    "print(\"Accuracy: \", accuracy)"
   ]
  },
  {
   "cell_type": "code",
   "execution_count": null,
   "metadata": {},
   "outputs": [],
   "source": [
    "from torch.utils.data import TensorDataset, DataLoader, random_split\n",
    "data, labels = load_cifar10_dataset(is_train=True)\n",
    "\n",
    "\n",
    "dataset = TensorDataset(data, labels)\n",
    "\n",
    "# Shuffle the dataset\n",
    "def shuffle_dataset(dataset):\n",
    "    return DataLoader(dataset, shuffle=True)\n",
    "\n",
    "\n",
    "for epoch in range(15):\n",
    "  accuracy_array = []\n",
    "\n",
    "  shuffled_dataset_loader = shuffle_dataset(dataset)\n",
    "\n",
    "  # Convert DataLoader back to TensorDataset\n",
    "  shuffled_data = []\n",
    "  shuffled_labels = []\n",
    "  for d, l in shuffled_dataset_loader:\n",
    "      shuffled_data.append(d)\n",
    "      shuffled_labels.append(l)\n",
    "\n",
    "  shuffled_data = torch.cat(shuffled_data)\n",
    "  shuffled_labels = torch.cat(shuffled_labels)\n",
    "  shuffled_dataset = TensorDataset(shuffled_data, shuffled_labels)\n",
    "\n",
    "  # Split de dataset de forma aleatoria. Dejamos el 70% para entrenamiento y el 30% para pruebas\n",
    "  train_size = int(0.7 * len(shuffled_dataset))\n",
    "  test_size = len(shuffled_dataset) - train_size\n",
    "  train_dataset, test_dataset = random_split(\n",
    "      shuffled_dataset, [train_size, test_size])\n",
    "\n",
    "  # Extract tensors from the subsets\n",
    "  x_train = torch.cat([data for data, _ in DataLoader(train_dataset)])\n",
    "  y_train = torch.cat([labels for _, labels in DataLoader(train_dataset)])\n",
    "  x_test = torch.cat([data for data, _ in DataLoader(test_dataset)])\n",
    "  y_test = torch.cat([labels for _, labels in DataLoader(test_dataset)])\n",
    "\n",
    "  mu_d_k, sigma_d_k = train_model_gaussian(x_train, y_train, num_classes=10)\n",
    "  priori_p_k = calculate_priori_p_t(y_train)[0]\n",
    "\n",
    "\n",
    "  prediction_array = []\n",
    "\n",
    "  for image in x_test:\n",
    "      predicted_class = test_model_gaussian(image.flatten(), mu_d_k, sigma_d_k, priori_p_k)\n",
    "      prediction_array.append(predicted_class)\n",
    "\n",
    "  \n",
    "  accuracy = test_model_batch_gaussian(x_test, y_test, mu_d_k, sigma_d_k, priori_p_k)\n",
    "  accuracy_array.append(accuracy)\n",
    "\n",
    "  print(\"Accuracy: \", accuracy)\n",
    "  print(\"Epoch: \", epoch)\n",
    "  print()\n",
    "\n",
    "print(\"Accuracy mean: \", np.mean(accuracy_array))\n",
    "print(\"Accuracy std: \", np.std(accuracy_array))"
   ]
  },
  {
   "cell_type": "code",
   "execution_count": null,
   "metadata": {},
   "outputs": [],
   "source": [
    "import torch\n",
    "import numpy as np\n",
    "from scipy.stats import norm\n",
    "\n",
    "\n",
    "def train_model_kde(train_data, train_labels, num_classes, bandwidth=0.5):\n",
    "    \"\"\"\n",
    "    Entrena un modelo KDE para estimar las densidades de cada píxel para cada clase.\n",
    "\n",
    "    Args:\n",
    "        train_data (torch.Tensor): Tensor con los datos de entrenamiento de forma [N, 1, 32, 32].\n",
    "        train_labels (torch.Tensor): Tensor con las etiquetas de entrenamiento de forma [N].\n",
    "        num_classes (int): Número de clases.\n",
    "        bandwidth (float): Ancho de banda para el kernel Gaussiano.\n",
    "\n",
    "    Returns:\n",
    "        dataset_densities (torch.Tensor): Tensor con las densidades de cada píxel para cada clase de forma [D, K].\n",
    "    \"\"\"\n",
    "    N, _, H, W = train_data.shape  # N: número de imágenes, H: altura, W: anchura\n",
    "    D = H * W  # Número de píxeles por imagen\n",
    "    K = num_classes  # Número de clases\n",
    "\n",
    "    # Aplanar las imágenes para que cada imagen sea un vector de tamaño D\n",
    "    train_data_flat = train_data.view(N, D)\n",
    "\n",
    "    # Inicializar tensor para almacenar densidades\n",
    "    dataset_densities = torch.zeros(D, K)\n",
    "\n",
    "    for k in range(K):\n",
    "        # Obtener los datos de la clase k\n",
    "        class_data = train_data_flat[train_labels == k]\n",
    "\n",
    "        # Calcular densidades para cada píxel de la clase k\n",
    "        for d in range(D):\n",
    "            pixel_values = class_data[:, d]\n",
    "            dataset_densities[d, k] = kde_gaussian(pixel_values, bandwidth)\n",
    "\n",
    "    return dataset_densities\n",
    "\n",
    "\n",
    "def kde_gaussian(data, bandwidth):\n",
    "    \"\"\"\n",
    "    Calcula la densidad de una distribución utilizando KDE con un kernel Gaussiano.\n",
    "\n",
    "    Args:\n",
    "        data (torch.Tensor): Tensor con los datos.\n",
    "        bandwidth (float): Ancho de banda para el kernel Gaussiano.\n",
    "\n",
    "    Returns:\n",
    "        density (float): Densidad estimada.\n",
    "    \"\"\"\n",
    "    kernel = norm(loc=data.mean(), scale=bandwidth)\n",
    "    density = kernel.pdf(data).mean()\n",
    "    return density\n",
    "\n",
    "\n",
    "# Ejemplo de uso\n",
    "train_data = torch.randn(50000, 1, 32, 32)  # Datos de ejemplo\n",
    "train_labels = torch.randint(0, 10, (50000,))  # Etiquetas de ejemplo\n",
    "\n",
    "# Entrenar modelo KDE con ancho de banda 0.5\n",
    "dataset_densities_05 = train_model_kde(\n",
    "    train_data, train_labels, num_classes=10, bandwidth=0.5)\n",
    "\n",
    "# Entrenar modelo KDE con ancho de banda 1.0\n",
    "dataset_densities_10 = train_model_kde(\n",
    "    train_data, train_labels, num_classes=10, bandwidth=1.0)\n",
    "\n",
    "print(dataset_densities_05.shape)  # Debería imprimir torch.Size([1024, 10])"
   ]
  },
  {
   "cell_type": "code",
   "execution_count": null,
   "metadata": {},
   "outputs": [],
   "source": [
    "def test_model_kde(input_torch, dataset_densities, priori_p_k):\n",
    "    \"\"\"\n",
    "    Estima la clase a la que pertenece una observación utilizando el modelo KDE.\n",
    "\n",
    "    Args:\n",
    "        input_torch (torch.Tensor): Tensor con la observación de forma [D].\n",
    "        dataset_densities (torch.Tensor): Tensor con las densidades de cada píxel para cada clase de forma [D, K].\n",
    "        priori_p_k (torch.Tensor): Tensor con las probabilidades a priori de cada clase.\n",
    "\n",
    "    Returns:\n",
    "        int: Índice de la clase estimada.\n",
    "    \"\"\"\n",
    "    D = input_torch.shape[0]  # Número de píxeles\n",
    "    K = dataset_densities.shape[1]  # Número de clases\n",
    "\n",
    "    # Calcular la probabilidad posterior para cada clase\n",
    "    log_posteriors = torch.zeros(K)\n",
    "    for k in range(K):\n",
    "        log_likelihood = torch.sum(torch.log(\n",
    "            dataset_densities[:, k]) + (input_torch - dataset_densities[:, k].log()))\n",
    "        log_posteriors[k] = log_likelihood + torch.log(priori_p_k[k])\n",
    "\n",
    "    # Estimar la clase con la mayor probabilidad posterior\n",
    "    predicted_class = log_posteriors.argmax().item()\n",
    "\n",
    "    return predicted_class\n",
    "\n",
    "data, labels = load_cifar10_dataset(is_train=True)\n",
    "\n",
    "priori_p_k = calculate_priori_p_t(labels)[0]\n",
    "dataset_densities = train_model_kde(data, labels, num_classes=10, bandwidth=0.5)\n",
    "\n",
    "image = data[0][0].flatten()\n",
    "predicted_class = test_model_kde(image, dataset_densities, priori_p_k)\n",
    "print(f\"La clase estimada es: {predicted_class}\")\n",
    "print(f\"La clase real es: {labels[0].item()}\")\n"
   ]
  }
 ],
 "metadata": {
  "kernelspec": {
   "display_name": "marcoenv",
   "language": "python",
   "name": "python3"
  },
  "language_info": {
   "codemirror_mode": {
    "name": "ipython",
    "version": 3
   },
   "file_extension": ".py",
   "mimetype": "text/x-python",
   "name": "python",
   "nbconvert_exporter": "python",
   "pygments_lexer": "ipython3",
   "version": "3.10.14"
  }
 },
 "nbformat": 4,
 "nbformat_minor": 2
}
