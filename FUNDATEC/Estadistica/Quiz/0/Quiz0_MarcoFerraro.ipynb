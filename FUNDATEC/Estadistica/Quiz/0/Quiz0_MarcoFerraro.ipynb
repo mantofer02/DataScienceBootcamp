{
 "cells": [
  {
   "cell_type": "markdown",
   "metadata": {},
   "source": [
    "# Quiz 0 Marco Ferraro\n",
    "\n",
    "Con pytorch, genere 100 muestras de tamaño\n",
    "N\n",
    "=1000, usando una densidad exponencial.\n",
    "Hagalo para dos valores diferentes de\n",
    "λ\n",
    "a su elección. Para esas muestras, calcule de forma vectorial el\n",
    "sesgo\n",
    "γ\n",
    ", y verifique la demostracion anterior. Adjunte el archivo jupyter con tal codigo"
   ]
  },
  {
   "cell_type": "code",
   "execution_count": 9,
   "metadata": {},
   "outputs": [
    {
     "name": "stdout",
     "output_type": "stream",
     "text": [
      "torch.Size([100, 1000])\n",
      "torch.Size([100, 1000])\n"
     ]
    }
   ],
   "source": [
    "import torch\n",
    "lambda_a = 0.5 \n",
    "lambda_b = 173\n",
    "\n",
    "\n",
    "torch.manual_seed(42)\n",
    "\n",
    "num_samples = 100\n",
    "N = 1000\n",
    "\n",
    "samples_a = torch.empty(num_samples, N).exponential_(lambd=lambda_a)\n",
    "samples_b = torch.empty(num_samples, N).exponential_(lambd=lambda_b)\n",
    "\n",
    "\n",
    "print(samples_a.shape)\n",
    "print(samples_b.shape)"
   ]
  },
  {
   "cell_type": "code",
   "execution_count": 10,
   "metadata": {},
   "outputs": [],
   "source": [
    "\n",
    "def calculate_skewness(samples):\n",
    "    mean = torch.mean(samples)\n",
    "    std = torch.std(samples, unbiased=True)\n",
    "    skewness = torch.mean(((samples - mean) / std) ** 3)\n",
    "    return skewness"
   ]
  },
  {
   "cell_type": "code",
   "execution_count": 11,
   "metadata": {},
   "outputs": [
    {
     "name": "stdout",
     "output_type": "stream",
     "text": [
      "Skewness for samples_a: tensor(1.9704)\n",
      "Skewness for samples_b: tensor(1.9505)\n"
     ]
    }
   ],
   "source": [
    "skewness_a = calculate_skewness(samples_a.flatten())\n",
    "skewness_b = calculate_skewness(samples_b.flatten())\n",
    "\n",
    "print(\"Skewness for samples_a:\", skewness_a)\n",
    "print(\"Skewness for samples_b:\", skewness_b)"
   ]
  }
 ],
 "metadata": {
  "kernelspec": {
   "display_name": "Python 3",
   "language": "python",
   "name": "python3"
  },
  "language_info": {
   "codemirror_mode": {
    "name": "ipython",
    "version": 3
   },
   "file_extension": ".py",
   "mimetype": "text/x-python",
   "name": "python",
   "nbconvert_exporter": "python",
   "pygments_lexer": "ipython3",
   "version": "3.11.9"
  }
 },
 "nbformat": 4,
 "nbformat_minor": 2
}
