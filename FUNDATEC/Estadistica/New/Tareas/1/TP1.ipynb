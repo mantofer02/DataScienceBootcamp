{
 "cells": [
  {
   "cell_type": "code",
   "execution_count": 1,
   "metadata": {},
   "outputs": [],
   "source": [
    "import torch\n",
    "import torchvision\n",
    "from PIL import Image\n",
    "import torchvision.transforms.functional as TF\n",
    "import matplotlib.pyplot as plt\n",
    "import torchvision.datasets as datasets\n",
    "import torchvision.transforms as transformst\n",
    "import torchvision.transforms as transforms"
   ]
  },
  {
   "cell_type": "code",
   "execution_count": 2,
   "metadata": {},
   "outputs": [
    {
     "name": "stdout",
     "output_type": "stream",
     "text": [
      "Files already downloaded and verified\n",
      "cifar_trainset_tensor shape  torch.Size([50000, 1, 32, 32])\n",
      "cifar_labels  torch.Size([50000])\n"
     ]
    },
    {
     "data": {
      "text/plain": [
       "tensor([[100.,  99.,  99.,  ...,  98.,  98.,  99.],\n",
       "        [ 99.,  99.,  99.,  ...,  98.,  98.,  98.],\n",
       "        [100., 100., 101.,  ...,  99.,  98.,  99.],\n",
       "        ...,\n",
       "        [105., 104., 104.,  ..., 102., 102., 103.],\n",
       "        [105., 104., 104.,  ..., 102., 102., 103.],\n",
       "        [105., 104., 104.,  ..., 111., 110., 110.]])"
      ]
     },
     "execution_count": 2,
     "metadata": {},
     "output_type": "execute_result"
    }
   ],
   "source": [
    "def load_cifar10_dataset(is_train=True):\n",
    "  # Define a transformation to convert images to grayscale\n",
    "  transforms_1 = transforms.Compose([\n",
    "      transforms.ToTensor(),\n",
    "      transforms.Grayscale(num_output_channels=1)  # Convert to grayscale\n",
    "  ])\n",
    "  cifar_trainset = datasets.CIFAR10(\n",
    "      root='./data', train=is_train, download=True, transform=transforms_1)\n",
    "\n",
    "  # Initialize an empty list to store batches\n",
    "  all_data = []\n",
    "  train_loader = torch.utils.data.DataLoader(\n",
    "      cifar_trainset, batch_size=64, shuffle=True)\n",
    "  # Iterate over the train_loader to fetch all batches\n",
    "  for batch in train_loader:\n",
    "      images, _ = batch  # Extract images from the batch\n",
    "      all_data.append(images)\n",
    "\n",
    "  # Concatenate all batches into a single tensor along the batch dimension\n",
    "  cifar_trainset_tensor = torch.round(torch.cat(all_data, dim=0) * 255)\n",
    "  cifar_labels = torch.tensor(cifar_trainset.targets)\n",
    "  print(\"cifar_trainset_tensor shape \", cifar_trainset_tensor.shape)\n",
    "  print(\"cifar_labels \", cifar_labels.shape)\n",
    "  return (cifar_trainset_tensor, cifar_labels)\n",
    "\n",
    "\n",
    "train_tensor, labels = load_cifar10_dataset()\n",
    "\n",
    "\n",
    "train_tensor[1][0]"
   ]
  },
  {
   "cell_type": "code",
   "execution_count": 3,
   "metadata": {},
   "outputs": [
    {
     "data": {
      "image/png": "[encoded data removed]",
      "text/plain": [
       "<Figure size 640x480 with 2 Axes>"
      ]
     },
     "metadata": {},
     "output_type": "display_data"
    }
   ],
   "source": [
    "import matplotlib.pyplot as plt\n",
    "import torch\n",
    "\n",
    "# Assuming train_tensor[1][0] is your grayscale image tensor\n",
    "image_tensor = train_tensor[1][0]\n",
    "\n",
    "# Check if the tensor is on a CUDA device and move it to CPU\n",
    "if image_tensor.is_cuda:\n",
    "    image_tensor = image_tensor.cpu()\n",
    "\n",
    "# Convert the tensor to a numpy array\n",
    "image_numpy = image_tensor.numpy()\n",
    "\n",
    "# Since it's grayscale, squeeze out the channel dimension if it exists\n",
    "if image_tensor.dim() > 2:\n",
    "    image_numpy = image_numpy.squeeze(0)\n",
    "\n",
    "# Plot the image\n",
    "plt.imshow(image_numpy, cmap='gray')\n",
    "plt.colorbar()  # Optional, it adds a color bar to the side\n",
    "plt.show()"
   ]
  },
  {
   "cell_type": "code",
   "execution_count": null,
   "metadata": {},
   "outputs": [],
   "source": [
    "def calculate_marginal_probabilities(data, dim=0):\n",
    "    # Calculate the marginal probabilities\n",
    "    marginal_probabilities = data[dim].sum() / data.sum()\n",
    "    return marginal_probabilities"
   ]
  },
  {
   "cell_type": "code",
   "execution_count": 9,
   "metadata": {},
   "outputs": [
    {
     "name": "stdout",
     "output_type": "stream",
     "text": [
      "tensor(0.6792)\n",
      "tensor(0.3208)\n"
     ]
    }
   ],
   "source": [
    "Mock_data = torch.Tensor([[20.0, 70.0, 80.0, 10.0], [40.0, 10.0, 30.0, 5.0]])\n",
    "\n",
    "print(calculate_marginal_probabilities(Mock_data, dim=0))\n",
    "print(calculate_marginal_probabilities(Mock_data, dim=1))\n"
   ]
  },
  {
   "cell_type": "code",
   "execution_count": 12,
   "metadata": {},
   "outputs": [
    {
     "name": "stdout",
     "output_type": "stream",
     "text": [
      "Probabilities for class 0:  tensor([0.1111, 0.3889, 0.4444, 0.0556])\n",
      "Probabilities for class 1:  tensor([0.4706, 0.1176, 0.3529, 0.0588])\n"
     ]
    }
   ],
   "source": [
    "def calculate_conditional_probabilities(data):\n",
    "    # Calculate the conditional probabilities\n",
    "    n_classes = data.shape[0]\n",
    "\n",
    "    p_tensor = torch.zeros(data.shape)\n",
    "\n",
    "    for i in range(n_classes):\n",
    "        row_sum = data[i].sum()\n",
    "        p_tensor[i] = data[i] / row_sum\n",
    "\n",
    "    return p_tensor\n",
    "\n",
    "p_tensor = calculate_conditional_probabilities(Mock_data)\n",
    "\n",
    "print(\"Probabilities for class 0: \", p_tensor[0])\n",
    "print(\"Probabilities for class 1: \", p_tensor[1])\n"
   ]
  }
 ],
 "metadata": {
  "kernelspec": {
   "display_name": "marcoenv",
   "language": "python",
   "name": "python3"
  },
  "language_info": {
   "codemirror_mode": {
    "name": "ipython",
    "version": 3
   },
   "file_extension": ".py",
   "mimetype": "text/x-python",
   "name": "python",
   "nbconvert_exporter": "python",
   "pygments_lexer": "ipython3",
   "version": "3.10.14"
  }
 },
 "nbformat": 4,
 "nbformat_minor": 2
}
