{
  "cells": [
    {
      "cell_type": "markdown",
      "metadata": {
        "id": "g-glfe_--80Q"
      },
      "source": [
        "## Implementación del algoritmo de Kittler\n"
      ]
    },
    {
      "cell_type": "code",
      "execution_count": 1,
      "metadata": {
        "id": "yctmLm9tVFoH"
      },
      "outputs": [],
      "source": [
        "import torch"
      ]
    },
    {
      "cell_type": "code",
      "execution_count": 2,
      "metadata": {
        "id": "_7KYZwK4PnJf"
      },
      "outputs": [],
      "source": [
        "import numpy as np\n",
        "import torch\n",
        "import math\n",
        "import matplotlib.pyplot as plt\n",
        "from PIL import Image"
      ]
    },
    {
      "cell_type": "code",
      "execution_count": 3,
      "metadata": {
        "colab": {
          "base_uri": "https://localhost:8080/"
        },
        "id": "fYu9EML1Pqiv",
        "outputId": "219b2f3b-28db-4c82-b6cc-79613ea605c6"
      },
      "outputs": [],
      "source": [
        "U_1 = torch.tensor(\n",
        "    np.array(Image.open('input/C4_02_1_1_DAPI_001.bmp').convert('L')))\n",
        "\n",
        "output_path = \"salida.png\"\n",
        "#example for writing image\n",
        "Y = torch.zeros(U_1.shape)\n",
        "Y_pil = Image.fromarray(Y.numpy().astype(np.uint8))\n",
        "Y_pil.save(output_path)"
      ]
    },
    {
      "cell_type": "code",
      "execution_count": 4,
      "metadata": {},
      "outputs": [],
      "source": [
        "def get_image_tensor(path='input/cuadro1_005.bmp'):\n",
        "  return torch.tensor(\n",
        "      np.array(Image.open('input/cuadro1_005.bmp').convert('L')))"
      ]
    },
    {
      "cell_type": "code",
      "execution_count": 5,
      "metadata": {},
      "outputs": [],
      "source": [
        "def pre_process_tensor(image_tensor):\n",
        "  return image_tensor.flatten().float()"
      ]
    },
    {
      "cell_type": "code",
      "execution_count": 6,
      "metadata": {},
      "outputs": [
        {
          "name": "stdout",
          "output_type": "stream",
          "text": [
            "Shape of tensor: 343980\n",
            "tensor([219., 218., 219.,  ..., 221., 225., 224.])\n"
          ]
        }
      ],
      "source": [
        "data = pre_process_tensor(get_image_tensor())\n",
        "print(\"Shape of tensor:\", data.shape[0])\n",
        "print(data)"
      ]
    },
    {
      "cell_type": "code",
      "execution_count": 7,
      "metadata": {},
      "outputs": [
        {
          "name": "stdout",
          "output_type": "stream",
          "text": [
            "Unique Values (x_axis): tensor([1., 2., 3., 4., 5., 6., 7., 8., 9.])\n",
            "Histogram: tensor([3, 3, 3, 2, 2, 2, 2, 2, 1])\n",
            "Probability Density Function: tensor([0.1500, 0.1500, 0.1500, 0.1000, 0.1000, 0.1000, 0.1000, 0.1000, 0.0500])\n",
            "Sum of P values: tensor(1.0000)\n"
          ]
        }
      ],
      "source": [
        "import torch\n",
        "\n",
        "\n",
        "def get_histogram(data, pdf=False):\n",
        "    unique_values, counts = torch.unique(data, return_counts=True)\n",
        "    total_samples = data.shape[0]\n",
        "\n",
        "    probabilities = counts.float() / total_samples\n",
        "    return unique_values, counts, probabilities\n",
        "    \n",
        "\n",
        "# Create an array for testing\n",
        "test_array = torch.tensor(\n",
        "    [1., 2., 3., 1., 2., 5., 6., 3., 4., 5., 6., 7., 8., 9., 8., 7., 4., 3., 2., 1.])\n",
        "\n",
        "# Test the function\n",
        "x_axis, histogram, p_gaussian = get_histogram(test_array)\n",
        "\n",
        "print(\"Unique Values (x_axis):\", x_axis)\n",
        "print(\"Histogram:\", histogram)\n",
        "print(\"Probability Density Function:\", p_gaussian)\n",
        "print(\"Sum of P values:\", p_gaussian.sum())"
      ]
    },
    {
      "cell_type": "code",
      "execution_count": 8,
      "metadata": {},
      "outputs": [],
      "source": [
        "def plot_histogram(data, title=\"Histogram\", pdf=False, T=None):\n",
        "  _, hist, y_axis = get_histogram(data, pdf)\n",
        "  y_label = \"Frecuency\" if not pdf else \"Probabilities\"\n",
        "\n",
        "  plt.bar(data.unique().numpy(), y_axis, width=0.5, align='center')\n",
        "  plt.xlabel('Values')\n",
        "  plt.ylabel(y_label)\n",
        "  plt.title(title)\n",
        "\n",
        "  if T is not None:\n",
        "      plt.axvline(x=T, color='r', linestyle='--', label=f'T = {T}')\n",
        "      plt.legend()\n",
        "\n",
        "  plt.grid(True)\n",
        "  plt.show()"
      ]
    },
    {
      "cell_type": "markdown",
      "metadata": {
        "id": "V2pteHpT_L-5"
      },
      "source": [
        "### Calculo de Momentos Estadisticos\n",
        "\n",
        "Implemente una funcion `calcular_momentos_estadisticos(T,p)` la cual reciba un umbral candidato *T* y una funcion de densidad *p*, y retorne todos los parametros de la función.\n",
        "\n",
        "\n",
        "#### Calculo de Probabilidades\n",
        "\n",
        "Las funciones calculate_p1 y calculate_p2 están diseñadas para calcular las probabilidades acumuladas a la izquierda y a la derecha de un umbral especificado en una distribución de probabilidad, respectivamente. Ambas funciones toman tres parámetros: x, que representa un array de valores de la variable aleatoria, pdf, que es un array de la función de densidad de probabilidad correspondiente a los valores en x, y T, que es el umbral utilizado para acotar la función de densidad de probabilidad.\n",
        "\n",
        "En caso de que el umbral T sea mayor que todos los valores en x, las funciones ajustarán automáticamente el índice para garantizar un cálculo adecuado de las probabilidades acumuladas."
      ]
    },
    {
      "cell_type": "code",
      "execution_count": 9,
      "metadata": {},
      "outputs": [],
      "source": [
        "def calculate_p1(x, pdf, T):\n",
        "    index = (x > T).nonzero()[0].item()\n",
        "    #index -= 1\n",
        "    index = 1 if index < 0 else index\n",
        "    x1 = x[:index]\n",
        "    pdf1 = pdf[:index]\n",
        "\n",
        "    p1 = pdf[:index].sum().item()\n",
        "    return x1, pdf1, p1\n",
        "\n",
        "\n",
        "def calculate_p2(x, pdf, T):\n",
        "\n",
        "    index = (x > T).nonzero()[0].item()\n",
        "    #index -= 1\n",
        "    x2 = x[index:]\n",
        "    pdf2 = pdf[index:]\n",
        "    p2 = pdf[index:].sum().item()\n",
        "\n",
        "    return x2, pdf2, p2"
      ]
    },
    {
      "cell_type": "markdown",
      "metadata": {},
      "source": [
        "#### Calculo de Medias\n",
        "\n",
        "\n",
        "La función calculate_mu calcula el valor medio (o la esperanza) de una variable aleatoria representada por un conjunto de valores x y su correspondiente función de densidad de probabilidad pdf. Esta función acepta tres parámetros: x, que es un array de valores de la variable aleatoria, pdf, que es un array de la función de densidad de probabilidad asociada a los valores en x, y p, que representa la probabilidad total.\n",
        "\n",
        "El cálculo del valor medio se realiza sumando el producto de cada valor en x con su respectiva probabilidad en pdf. Posteriormente, este valor se divide por p para normalizar el resultado.\n",
        "\n",
        "La función devuelve el valor medio de la variable aleatoria normalizado por p.\n",
        "\n"
      ]
    },
    {
      "cell_type": "code",
      "execution_count": 10,
      "metadata": {},
      "outputs": [],
      "source": [
        "def calculate_mu(x, pdf, p):\n",
        "  mu = 0\n",
        "\n",
        "  for i in range(len(x)):\n",
        "    mu += (x[i].item() * pdf[i].item())\n",
        "  \n",
        "  return mu / p"
      ]
    },
    {
      "cell_type": "markdown",
      "metadata": {},
      "source": [
        "#### Calculo de Varianzas\n",
        "\n",
        "La función calculate_sigma calcula la varianza de una variable aleatoria representada por un conjunto de valores x y su correspondiente función de densidad de probabilidad pdf, dados el valor medio mu y la probabilidad total p. Esta función acepta cuatro parámetros: x, que es un array de valores de la variable aleatoria, mu, que representa el valor medio de la variable aleatoria, pdf, que es un array de la función de densidad de probabilidad asociada a los valores en x, y p, que representa la probabilidad total.\n",
        "\n",
        "El cálculo de la varianza se realiza sumando el producto de cada probabilidad en pdf con el cuadrado de la diferencia entre cada valor en x y el valor medio mu. Posteriormente, este valor se divide por p para normalizar el resultado.\n",
        "\n",
        "La función devuelve la varianza de la variable aleatoria normalizada por p.\n"
      ]
    },
    {
      "cell_type": "code",
      "execution_count": 11,
      "metadata": {},
      "outputs": [],
      "source": [
        "def calculate_sigma(x, mu, pdf, p):\n",
        "    variance = 0\n",
        "    for i in range(len(x)):\n",
        "        variance += pdf[i].item() * ((x[i].item() - mu) ** 2)\n",
        "    return variance / p"
      ]
    },
    {
      "cell_type": "markdown",
      "metadata": {},
      "source": [
        "#### Calculo de Momentos Estadisticos\n",
        "\n",
        "\n",
        "La función calculate_statistics calcula estadísticas descriptivas para una distribución de probabilidad dada, dividida en dos grupos según un umbral de separación T. Esta función acepta tres parámetros: T, que representa el umbral de separación para dividir la distribución de probabilidad en dos grupos, x, que es un array de valores de la variable aleatoria, y pdf, que es un array de la función de densidad de probabilidad correspondiente a los valores en x.\n",
        "\n",
        "El primer paso de la función es dividir la distribución de probabilidad en dos grupos utilizando el umbral T. Luego, se calculan el valor medio (mean_1, mean_2) y la varianza (sigma_1, sigma_2) para cada grupo utilizando las funciones calculate_mu y calculate_sigma, respectivamente. Además, se calculan las probabilidades acumuladas para cada grupo (p1, p2) mediante las funciones calculate_p1 y calculate_p2.\n",
        "\n",
        "La función devuelve seis valores: mean_1 y mean_2 representan los valores medios de los dos grupos respectivamente, sigma_1 y sigma_2 representan las varianzas de los dos grupos, y p1 y p2 son las probabilidades acumuladas de los dos grupos respectivamente.\n",
        "\n"
      ]
    },
    {
      "cell_type": "code",
      "execution_count": 12,
      "metadata": {},
      "outputs": [],
      "source": [
        "def calculate_statistics(T, x, pdf):\n",
        "  x1, pdf1, p1 = calculate_p1(x, pdf, T)\n",
        "  x2, pdf2, p2 = calculate_p2(x, pdf, T)\n",
        "\n",
        "  mean_1 = calculate_mu(x1, pdf1, p1)\n",
        "  mean_2 = calculate_mu(x2, pdf2, p2)\n",
        "\n",
        "  sigma_1 = calculate_sigma(x1, mean_1, pdf1, p1)\n",
        "  sigma_2 = calculate_sigma(x2, mean_2, pdf2, p2)\n",
        "\n",
        "  return mean_1, mean_2, sigma_1, sigma_2, p1, p2"
      ]
    },
    {
      "cell_type": "markdown",
      "metadata": {},
      "source": [
        "#### Prueba Unitaria 1\n",
        "\n",
        "La función test_calculate_statistics constituye una prueba unitaria diseñada para evaluar la precisión de la función calculate_statistics. En esta prueba, se generan dos arreglos de valores fijos test_array_1 y test_array_2, cada uno con valores predefinidos. Se utiliza un umbral de separación (T) con un valor de 5 para dividir la distribución de probabilidad en dos grupos. Los valores esperados de la media y la varianza se calculan para cada arreglo, considerando la naturaleza rudimentaria de los cálculos de media (mu) y varianza (sigma). Posteriormente, se concatenan los arreglos y se obtiene el histograma y la función de densidad de probabilidad. Se invoca la función calculate_statistics con estos datos y se comparan los resultados con los valores esperados utilizando una tolerancia predefinida de 10. Es importante mencionar que debido a la naturaleza de los cálculos rudimentarios de mu y sigma, es probable que existan pequeñas diferencias entre los valores calculados y los esperados. Estas diferencias se tienen en cuenta al diseñar la prueba y al establecer la tolerancia."
      ]
    },
    {
      "cell_type": "code",
      "execution_count": 13,
      "metadata": {},
      "outputs": [
        {
          "name": "stdout",
          "output_type": "stream",
          "text": [
            "Test passed: calculated=2.0, expected=2.0, difference=0.0\n",
            "Test passed: calculated=15.143, expected=15.143, difference=0.0\n",
            "Test passed: calculated=0.4, expected=0.5, difference=0.09999999999999998\n",
            "Test passed: calculated=41.551, expected=48.476, difference=6.924999999999997\n"
          ]
        }
      ],
      "source": [
        "import torch\n",
        "\n",
        "def assert_values(x, y, tolerance):\n",
        "    x_rounded = round(x, 3)\n",
        "    y_rounded = round(y, 3)\n",
        "    try:\n",
        "        assert abs(x_rounded - y_rounded) <= tolerance\n",
        "    except AssertionError:\n",
        "        print(f\"Test failed: calculated={x_rounded}, expected={y_rounded}, difference={abs(x_rounded - y_rounded)}\")\n",
        "    else:\n",
        "        print(f\"Test passed: calculated={x_rounded}, expected={y_rounded}, difference={abs(x_rounded - y_rounded)}\")\n",
        "\n",
        "\n",
        "def test_calculate_statistics(tolerance=10):\n",
        "    test_array_1 = torch.tensor([2.0, 2.0, 2.0, 1., 3.])\n",
        "    test_array_2 = torch.tensor([10., 10., 17., 13., 13., 13., 30])\n",
        "\n",
        "    exp_mean_1 = test_array_1.mean().item()\n",
        "    exp_var_1 = test_array_1.var().item()\n",
        "    exp_mean_2 = test_array_2.mean().item()\n",
        "    exp_var_2 = test_array_2.var().item()\n",
        "\n",
        "    concatenated_tensor = torch.cat((test_array_1, test_array_2), dim=0)\n",
        "    x_axis, histogram, p_gaussian = get_histogram(concatenated_tensor)\n",
        "    mean_1, mean_2, sigma_1, sigma_2, p_1, p_2 = calculate_statistics(5, x_axis,p_gaussian)\n",
        "\n",
        "    assert_values(mean_1, exp_mean_1, tolerance)\n",
        "    assert_values(mean_2, exp_mean_2, tolerance)\n",
        "    assert_values(sigma_1, exp_var_1, tolerance)\n",
        "    assert_values(sigma_2, exp_var_2, tolerance)\n",
        "\n",
        "test_calculate_statistics()\n"
      ]
    },
    {
      "cell_type": "markdown",
      "metadata": {},
      "source": [
        "#### Prueba Unitaria 2\n",
        "\n",
        "La función test_calculate_statistics_random es una prueba unitaria diseñada para evaluar la precisión de la función calculate_statistics utilizando arreglos de valores aleatorios. En esta prueba, se generan dos arreglos de tamaño 10 (test_array_1 y test_array_2) con valores aleatorios en el rango [0, 20] y [50, 80], respectivamente. Estos arreglos representan dos distribuciones de valores aleatorios con diferentes rangos. Se establece un umbral de separación (T) con un valor de 30 para dividir las distribuciones. A continuación, se calculan los valores esperados de la media y la varianza para cada arreglo generado. Es importante tener en cuenta que, debido a la naturaleza aleatoria de los arreglos, los valores esperados pueden variar en cada ejecución de la prueba."
      ]
    },
    {
      "cell_type": "code",
      "execution_count": 14,
      "metadata": {},
      "outputs": [
        {
          "name": "stdout",
          "output_type": "stream",
          "text": [
            "Test passed: calculated=8.522, expected=8.522, difference=0.0\n",
            "Test passed: calculated=66.502, expected=66.502, difference=0.0\n",
            "Test passed: calculated=24.739, expected=27.488, difference=2.7489999999999988\n",
            "Test passed: calculated=50.546, expected=56.162, difference=5.616\n"
          ]
        }
      ],
      "source": [
        "import random\n",
        "\n",
        "\n",
        "def generate_random_arrays(size=10):\n",
        "    # Generate random arrays\n",
        "    test_array_1 = torch.tensor([random.uniform(0, 20) for _ in range(size)])\n",
        "    test_array_2 = torch.tensor([random.uniform(50, 80) for _ in range(size)])\n",
        "    return test_array_1, test_array_2\n",
        "\n",
        "\n",
        "def test_calculate_statistics_random(tolerance=10):\n",
        "    # Generate random arrays\n",
        "    test_array_1, test_array_2 = generate_random_arrays()\n",
        "\n",
        "    # Calculate expected mean and variance for each array\n",
        "    exp_mean_1 = test_array_1.mean().item()\n",
        "    exp_var_1 = test_array_1.var().item()\n",
        "    exp_mean_2 = test_array_2.mean().item()\n",
        "    exp_var_2 = test_array_2.var().item()\n",
        "\n",
        "    # Concatenate arrays and get histogram\n",
        "    concatenated_tensor = torch.cat((test_array_1, test_array_2), dim=0)\n",
        "    x_axis, histogram, p_gaussian = get_histogram(concatenated_tensor)\n",
        "\n",
        "    # Calculate statistics\n",
        "    mean_1, mean_2, sigma_1, sigma_2, p_1, p_2 = calculate_statistics(\n",
        "        30, x_axis, p_gaussian)\n",
        "\n",
        "    # Assertions\n",
        "    assert_values(mean_1, exp_mean_1, tolerance)\n",
        "    assert_values(mean_2, exp_mean_2, tolerance)\n",
        "    assert_values(sigma_1, exp_var_1, tolerance)\n",
        "    assert_values(sigma_2, exp_var_2, tolerance)\n",
        "\n",
        "\n",
        "test_calculate_statistics_random()"
      ]
    },
    {
      "cell_type": "markdown",
      "metadata": {
        "id": "TpN5pEd4Bebh"
      },
      "source": [
        "### Calcular Costo\n",
        "\n",
        "Implemente la función calcular_costo_J(T) la cual calcule el costo del umbral candidato T."
      ]
    },
    {
      "cell_type": "markdown",
      "metadata": {},
      "source": [
        "### Implementacion de calculate_cost\n",
        "\n",
        "La función calculate_cost calcula el costo asociado a una distribución de probabilidad dada, utilizando la información de las estadísticas calculadas mediante la función calculate_statistics. Esta función toma tres parámetros: t, que representa el umbral de separación, x, que es un array de valores de la variable aleatoria, y pdf, que es un array de la función de densidad de probabilidad asociada a los valores en x.\n",
        "\n",
        "El costo se calcula utilizando la fórmula que involucra las estadísticas calculadas previamente, donde se ponderan los términos relacionados con la varianza y la entropía de la distribución. Es importante destacar que, debido a la naturaleza de los logaritmos naturales utilizados en el cálculo, si se produce una división por cero, el resultado del logaritmo será infinito negativo. En este caso, la función reemplaza el valor -inf con un número grande positivo, representado por np.finfo(float).max, para evitar problemas de cálculo y asegurar que el costo devuelto sea numéricamente estable."
      ]
    },
    {
      "cell_type": "code",
      "execution_count": 15,
      "metadata": {},
      "outputs": [],
      "source": [
        "import numpy as np\n",
        "\n",
        "def calculate_cost(t, x, pdf):\n",
        "  _, _, sigma_1, sigma_2, p_1, p_2 = calculate_statistics(T=t, x=x, pdf=pdf)\n",
        "\n",
        "  cost = 1 + 2*(p_1*np.log(sigma_1) + p_2*np.log(sigma_2)) - 2*(p_1*np.log(p_1) + p_2*np.log(p_2))\n",
        "  \n",
        "  if np.isinf(cost) and cost < 0:\n",
        "        # Replace -inf with a large positive number\n",
        "        cost = np.finfo(float).max \n",
        "  return cost\n",
        "  "
      ]
    },
    {
      "cell_type": "markdown",
      "metadata": {},
      "source": [
        "#### Pruba Unitaria 1\n",
        "\n",
        "La función test_calculate_cost es una prueba unitaria diseñada para evaluar la función calculate_cost, la cual calcula el costo asociado a una distribución de probabilidad bajo diferentes umbrales de separación (T). En esta prueba, se inicializan dos arreglos de valores test_array_1 y test_array_2 utilizando la librería PyTorch. Luego, estos arreglos se concatenan y se genera un histograma junto con la función de densidad de probabilidad. La función calculate_cost se invoca dos veces con diferentes valores de T (umbral de separación) establecidos en 2 y 7, respectivamente. Se espera que cuando el umbral T sea menor (2 en este caso), el costo resultante sea mayor debido a la mayor separación entre las curvas de distribución. Se emplea una aserción para verificar que el costo calculado con T=2 sea efectivamente mayor que el costo calculado con T=7. En caso de que la aserción falle, se imprimirán los valores de los costos para ayudar en la depuración."
      ]
    },
    {
      "cell_type": "code",
      "execution_count": 16,
      "metadata": {},
      "outputs": [
        {
          "name": "stdout",
          "output_type": "stream",
          "text": [
            "Cost 1 should be greater than Cost 2\n",
            "Cost 1:  6.437731486586432\n",
            "Cost 2:  5.942886568397775\n"
          ]
        }
      ],
      "source": [
        "import torch\n",
        "\n",
        "\n",
        "def test_calculate_cost():\n",
        "    test_array_1 = torch.tensor([2.0, 2.0, 2.0, 1., 3.])\n",
        "    test_array_2 = torch.tensor([10., 10., 17., 13., 13., 13., 30])\n",
        "\n",
        "    concatenated_tensor = torch.cat((test_array_1, test_array_2), dim=0)\n",
        "\n",
        "    x_axis, histogram, p_gaussian = get_histogram(concatenated_tensor)\n",
        "\n",
        "    try:\n",
        "        cost_1 = calculate_cost(2, x_axis, p_gaussian)\n",
        "        cost_2 = calculate_cost(7, x_axis, p_gaussian)\n",
        "\n",
        "        # Asserting that cost_1 is greater than cost_2\n",
        "        assert cost_1 > cost_2\n",
        "        print(\"Cost 1 should be greater than Cost 2\")\n",
        "        print(\"Cost 1: \", cost_1)\n",
        "        print(\"Cost 2: \", cost_2)\n",
        "\n",
        "    except AssertionError as e:\n",
        "        print(f\"Assertion Error: {e}\")\n",
        "\n",
        "\n",
        "test_calculate_cost()"
      ]
    },
    {
      "cell_type": "markdown",
      "metadata": {},
      "source": [
        "#### Pruba Unitaria 2\n",
        "\n",
        "La función test_calculate_cost_random constituye una prueba unitaria destinada a evaluar la función calculate_cost con arreglos de valores aleatorios. En esta prueba, se generan dos arreglos de tamaño 10 (test_array_1 y test_array_2) con valores aleatorios dentro de rangos específicos. Estos arreglos se concatenan para formar un único tensor de datos. Luego, se calcula el histograma y la función de densidad de probabilidad a partir del tensor concatenado. La función calculate_cost se invoca dos veces con diferentes valores de umbral (T), establecidos en 15 y 30, respectivamente. Se espera que cuando el umbral sea menor (15 en este caso), el costo resultante sea mayor debido a una posible mayor superposición entre las distribuciones. Se emplea una aserción para verificar que el costo calculado con T=15 sea efectivamente mayor que el costo calculado con T=30. En caso de que la aserción falle, se imprimirán los valores de los costos para ayudar en la depuración."
      ]
    },
    {
      "cell_type": "code",
      "execution_count": 17,
      "metadata": {},
      "outputs": [
        {
          "name": "stdout",
          "output_type": "stream",
          "text": [
            "Cost 1 should be greater than Cost 2\n",
            "Cost 1:  11.498307234049454\n",
            "Cost 2:  10.07571537211611\n"
          ]
        }
      ],
      "source": [
        "def generate_random_arrays(size=10):\n",
        "    # Generate random arrays\n",
        "    test_array_1 = torch.tensor([random.uniform(0, 20) for _ in range(size)])\n",
        "    test_array_2 = torch.tensor([random.uniform(50, 80) for _ in range(size)])\n",
        "    return test_array_1, test_array_2\n",
        "\n",
        "\n",
        "def test_calculate_cost_random():\n",
        "    test_array_1, test_array_2 = generate_random_arrays()\n",
        "    concatenated_tensor = torch.cat((test_array_1, test_array_2), dim=0)\n",
        "\n",
        "    x_axis, histogram, p_gaussian = get_histogram(concatenated_tensor)\n",
        "\n",
        "    try:\n",
        "        cost_1 = calculate_cost(15, x_axis, p_gaussian)\n",
        "        cost_2 = calculate_cost(30, x_axis, p_gaussian)\n",
        "\n",
        "        # Asserting that cost_1 is greater than cost_2\n",
        "        assert cost_1 > cost_2\n",
        "        print(\"Cost 1 should be greater than Cost 2\")\n",
        "        print(\"Cost 1: \", cost_1)\n",
        "        print(\"Cost 2: \", cost_2)\n",
        "\n",
        "    except AssertionError as e:\n",
        "        print(f\"Assertion Error: {e}\")\n",
        "\n",
        "test_calculate_cost_random()"
      ]
    },
    {
      "cell_type": "markdown",
      "metadata": {
        "id": "SRA_PFRfCEAo"
      },
      "source": [
        "### Calculo T Optimo\n",
        "\n",
        "Basado en ambas funciones, implemente la función calcular_T_optimo_Kittler(Imagen) la cual retorne el T optimo para umbralizar la imagen recibida, además de la imagen umbralizada.\n",
        "\n",
        "#### Implementacion de la funcion\n",
        "\n",
        "La función calculate_T_optimal_kittler calcula el umbral óptimo utilizando el algoritmo propuesto por Kittler et al. Este algoritmo busca encontrar el umbral que minimiza el costo calculado por la función calculate_cost. La función toma como entrada un conjunto de datos data y procede de la siguiente manera:\n",
        "\n",
        "Se obtiene el histograma y la función de densidad de probabilidad a partir de los datos utilizando la función get_histogram.\n",
        "Se inicializan las variables best_t y best_cost con valores iniciales de 0.\n",
        "Se itera a través de los valores en el eje x_axis del histograma, comenzando desde el tercer valor (índice 2) hasta el penúltimo valor.\n",
        "En cada iteración, se calcula el costo utilizando el valor actual de x_axis como umbral y se compara con el mejor costo encontrado hasta el momento (best_cost).\n",
        "Si el costo calculado es menor que el mejor costo actual, se actualiza best_t y best_cost con el valor actual del umbral y el costo.\n",
        "Finalmente, se devuelve el umbral óptimo (best_t) junto con el costo mínimo asociado (best_cost)."
      ]
    },
    {
      "cell_type": "code",
      "execution_count": 18,
      "metadata": {},
      "outputs": [],
      "source": [
        "data = pre_process_tensor(get_image_tensor())\n",
        "\n",
        "\n",
        "\n",
        "def calculate_T_optimal_kittler(data):\n",
        "  x_axis, hist, p_gaussian = get_histogram(data)\n",
        "\n",
        "  best_t = 0\n",
        "  best_cost = 0\n",
        "  t_array = []\n",
        "  cost_array = []\n",
        "\n",
        "  for i in range(2, len(x_axis) - 1):\n",
        "    if i == 2:\n",
        "      best_t = x_axis[i]\n",
        "      cost = calculate_cost(x_axis[i], x_axis, p_gaussian)\n",
        "      best_cost = cost\n",
        "\n",
        "      t_array.append(best_t.item())\n",
        "      cost_array.append(best_cost)\n",
        "    else:\n",
        "      cost = calculate_cost(x_axis[i], x_axis, p_gaussian)\n",
        "      if (cost < best_cost):\n",
        "        best_t = x_axis[i]\n",
        "        best_cost = cost\n",
        "\n",
        "        t_array.append(best_t.item())\n",
        "        cost_array.append(best_cost)\n",
        "\n",
        "  return best_t, best_cost, t_array, cost_array"
      ]
    },
    {
      "cell_type": "markdown",
      "metadata": {},
      "source": [
        "### Aplicación del Algoritmo de Kittler\n",
        "\n",
        "Aplique el algoritmo de Kittler en la imagen cuadro1_005.bmp, provista"
      ]
    },
    {
      "cell_type": "code",
      "execution_count": 19,
      "metadata": {},
      "outputs": [
        {
          "name": "stdout",
          "output_type": "stream",
          "text": [
            "Optimal T: 166.0\n",
            "T Cost: 5.8210835273637835\n",
            "Mean 1: 149.45175371050092\n",
            "Mean 2: 219.49267965622414\n",
            "Var 1: 15.366404245530088\n",
            "Var 2: 10.054693964789035\n",
            "P(1): 0.019073784351348877\n",
            "P(2): 0.9809261560440063\n"
          ]
        },
        {
          "name": "stderr",
          "output_type": "stream",
          "text": [
            "C:\\Users\\marco\\AppData\\Local\\Temp\\ipykernel_23000\\2871280421.py:6: RuntimeWarning: divide by zero encountered in log\n",
            "  cost = 1 + 2*(p_1*np.log(sigma_1) + p_2*np.log(sigma_2)) - 2*(p_1*np.log(p_1) + p_2*np.log(p_2))\n"
          ]
        }
      ],
      "source": [
        "best_t, best_cost, test_array, cost_array = calculate_T_optimal_kittler(data)\n",
        "x_axis, hist, p_gaussian = get_histogram(data)\n",
        "\n",
        "mu_1, mu_2, sigma_1, sigma_2, p_1, p_2 = calculate_statistics(T=best_t, x=x_axis, pdf=p_gaussian)\n",
        "\n",
        "print(\"Optimal T:\", best_t.item())\n",
        "print(\"T Cost:\", best_cost)\n",
        "print(\"Mean 1:\", mu_1)\n",
        "print(\"Mean 2:\", mu_2)\n",
        "print(\"Var 1:\", sigma_1)\n",
        "print(\"Var 2:\", sigma_2)\n",
        "print(\"P(1):\", p_1)\n",
        "print(\"P(2):\", p_2)"
      ]
    },
    {
      "cell_type": "code",
      "execution_count": 20,
      "metadata": {},
      "outputs": [],
      "source": [
        "t_optimal_img = best_t.item()\n",
        "t_cost_img = best_cost\n",
        "mu_1_img = mu_1\n",
        "mu_2_img = mu_2\n",
        "sigma_1_img = sigma_1\n",
        "sigma_2_img = sigma_2\n",
        "p_1_img = p_1\n",
        "p_2_img = p_2"
      ]
    },
    {
      "cell_type": "markdown",
      "metadata": {},
      "source": [
        "Después de analizar los resultados obtenidos para el umbral óptimo, observamos que estos son coherentes y están en línea con las expectativas establecidas en el enunciado del problema. Además, los valores calculados se acercan satisfactoriamente a los valores esperados, con una pequeña diferencia en el valor de `T`. Mientras que en el enunciado se espera un valor de 168 para `T`, la implementación calcula un valor ligeramente menor de 166.\n",
        "\n",
        "Aunque existe esta discrepancia mínima en el valor de `T`, los resultados en general muestran una coherencia con las expectativas y proporcionan una base sólida para el análisis posterior. Es importante tener en cuenta que las pequeñas variaciones en los resultados pueden ser atribuibles a factores como la precisión de los cálculos numéricos y las diferencias en la implementación específica del algoritmo."
      ]
    },
    {
      "cell_type": "markdown",
      "metadata": {},
      "source": [
        "#### Graficación del histograma\n",
        "Grafique el histograma normalizado de la imagen de entrada\n",
        "provista.\n",
        "\n",
        "Además, es posible visualizar el umbral en el histograma de la imagen original para resaltar la separación entre los valores por encima y por debajo del umbral. Para lograr esto, se ha extendido la función plot_histogram() para aceptar un parámetro adicional T, que representa el umbral a visualizar. Cuando se proporciona un valor para T, se agrega una línea vertical punteada de color rojo en el histograma, indicando la posición del umbral en el eje x. Esta línea sirve como una referencia visual para identificar cómo se distribuyen los valores de la imagen en relación con el umbral. Al graficar el umbral junto con el histograma, se proporciona una representación gráfica más completa y comprensible de los datos, lo que facilita la interpretación y el análisis visual."
      ]
    },
    {
      "cell_type": "code",
      "execution_count": 21,
      "metadata": {},
      "outputs": [
        {
          "data": {
            "image/png": "[encoded data removed]",
            "text/plain": [
              "<Figure size 640x480 with 1 Axes>"
            ]
          },
          "metadata": {},
          "output_type": "display_data"
        }
      ],
      "source": [
        "plot_histogram(data, pdf=True, T=best_t)"
      ]
    },
    {
      "cell_type": "markdown",
      "metadata": {},
      "source": [
        "Asimismo, graficamos para ver el valor cambiante del umbral y la curva de costos asociada.\n",
        "\n",
        "La función plot_arrays grafica dos arreglos en dos subgráficos verticales.\n",
        "\n",
        "Parámetros:\n",
        "\n",
        "* test_array: Arreglo de valores a graficar en el primer subgráfico.\n",
        "* cost_array: Arreglo de valores a graficar en el segundo subgráfico.\n",
        "La función crea dos subgráficos apilados verticalmente. El primer subgráfico muestra el contenido del arreglo test_array, mientras que el segundo subgráfico muestra el contenido del arreglo cost_array. Cada subgráfico tiene su título, etiquetas de ejes x e y, y se utilizan diferentes estilos de línea y marcadores para distinguir visualmente los datos."
      ]
    },
    {
      "cell_type": "code",
      "execution_count": 22,
      "metadata": {},
      "outputs": [
        {
          "data": {
            "image/png": "[encoded data removed]",
            "text/plain": [
              "<Figure size 800x600 with 2 Axes>"
            ]
          },
          "metadata": {},
          "output_type": "display_data"
        }
      ],
      "source": [
        "import matplotlib.pyplot as plt\n",
        "\n",
        "\n",
        "def plot_arrays(test_array, cost_array):\n",
        "    fig, axs = plt.subplots(2, 1, figsize=(8, 6))\n",
        "\n",
        "    axs[0].plot(test_array, marker='o', linestyle='-')\n",
        "    axs[0].set_title('Test Array')\n",
        "    axs[0].set_xlabel('Index')\n",
        "    axs[0].set_ylabel('Value')\n",
        "\n",
        "    axs[1].plot(cost_array, marker='s', linestyle='--', color='r')\n",
        "    axs[1].set_title('Cost Array')\n",
        "    axs[1].set_xlabel('Index')\n",
        "    axs[1].set_ylabel('Value')\n",
        "\n",
        "    plt.tight_layout()\n",
        "    plt.show()\n",
        "\n",
        "\n",
        "# Llamar a la función para graficar los arreglos\n",
        "plot_arrays(test_array, cost_array)"
      ]
    },
    {
      "cell_type": "markdown",
      "metadata": {},
      "source": [
        "## Umbralizacion con el T Optimo\n",
        "\n",
        "El código recorre cada píxel de una imagen, aplicando una transformación de umbralización para distinguir entre regiones de interés y fondo.\n",
        "\n",
        "Parámetros:\n",
        "\n",
        "IMG: Tensor de imagen a procesar.\n",
        "background_pixel: Valor de píxel de fondo.\n",
        "foreground_pixel: Valor de píxel de primer plano.\n",
        "T: Umbral utilizado para determinar la transformación de los píxeles.\n",
        "output_path: Ruta de salida donde se guardará la imagen resultante.\n",
        "El código itera sobre cada píxel de la imagen IMG, asignando valores de píxeles de fondo (background_pixel) o primer plano (foreground_pixel) según si el valor del píxel es mayor o igual que el umbral T. Esta técnica de umbralización resulta efectiva para resaltar áreas de interés y separarlas del fondo en una imagen. Una vez realizada la transformación, se convierte el tensor resultante en una imagen PIL (Y_pil) y se guarda en la ruta especificada por output_path."
      ]
    },
    {
      "cell_type": "code",
      "execution_count": 23,
      "metadata": {},
      "outputs": [
        {
          "data": {
            "image/jpeg": "[encoded data removed]",
            "image/png": "[encoded data removed]",
            "text/plain": [
              "<PIL.Image.Image image mode=L size=756x455>"
            ]
          },
          "execution_count": 23,
          "metadata": {},
          "output_type": "execute_result"
        }
      ],
      "source": [
        "IMG = get_image_tensor()\n",
        "\n",
        "background_pixel = 0\n",
        "foreground_pixel = 255\n",
        "\n",
        "T = best_t\n",
        "\n",
        "# Iterar sobre todos los píxeles de la imagen\n",
        "for i in range(IMG.shape[0]):\n",
        "    for j in range(IMG.shape[1]):\n",
        "        if IMG[i, j] >= T:\n",
        "            IMG[i, j] = background_pixel\n",
        "        else:\n",
        "            IMG[i, j] = foreground_pixel\n",
        "\n",
        "Y_pil = Image.fromarray(IMG.numpy().astype(np.uint8))\n",
        "Y_pil.save(output_path)\n",
        "\n",
        "Y_pil"
      ]
    },
    {
      "cell_type": "code",
      "execution_count": 24,
      "metadata": {},
      "outputs": [
        {
          "name": "stdout",
          "output_type": "stream",
          "text": [
            "torch.Size([64185])\n"
          ]
        },
        {
          "data": {
            "image/png": "[encoded data removed]",
            "text/plain": [
              "<Figure size 640x480 with 1 Axes>"
            ]
          },
          "metadata": {},
          "output_type": "display_data"
        }
      ],
      "source": [
        "import librosa\n",
        "import numpy as np\n",
        "import torch\n",
        "\n",
        "\n",
        "def get_audio_tensor(path='input/contaminated_audio.wav', sr=None):\n",
        "    # Cargar el archivo de audio\n",
        "    y, sr = librosa.load(path, sr=sr)\n",
        "    return torch.tensor(y), sr\n",
        "\n",
        "\n",
        "def pre_process_tensor(audio_tensor):\n",
        "    # Aplanar el tensor de audio y convertirlo a tipo float\n",
        "    return audio_tensor.flatten().float()\n",
        "\n",
        "\n",
        "audio_tensor, sample_rate = get_audio_tensor(\n",
        "    path='input/SHORTER_contaminated_audio.wav')\n",
        "pre_processed_tensor = pre_process_tensor(audio_tensor)\n",
        "print(pre_processed_tensor.shape)\n",
        "\n",
        "\n",
        "plot_histogram(pre_processed_tensor, pdf=True)"
      ]
    },
    {
      "cell_type": "markdown",
      "metadata": {},
      "source": [
        "Notese que el tensor de audio tiene muchos valores continuos, a diferencia de la imagen que tienden a ser valores discretos. Esto se ve reflejado en el histograma que encapsula muchos.Es importante tener en cuenta que, a diferencia de las imágenes donde los valores de los píxeles tienden a ser discretos, los archivos de audio están compuestos por valores de amplitud que pueden ser continuos y variar en una escala amplia. Esto se refleja en el histograma del tensor de audio, donde muchos valores caen en el mismo bin debido a la naturaleza continua de los valores de amplitud. Mientras que en una imagen, el histograma puede representar la distribución de intensidades de los píxeles con más claridad, en el caso del audio, puede ser más desafiante interpretar la distribución de amplitudes debido a la presencia de valores continuos. valores en el mismo bin.\n",
        "\n",
        "Además, es importante considerar que el algoritmo de Kittler, que se utiliza comúnmente en el procesamiento de imágenes para encontrar umbrales óptimos, puede no ser la mejor opción para aplicar directamente a datos de audio. Esto se debe a que los datos de audio tienden a ser continuos en naturaleza, lo que significa que no hay una separación clara entre las distintas clases o categorías de datos. En consecuencia, puede resultar desafiante encontrar un umbral adecuado que pueda separar efectivamente los datos en dos grupos distintos utilizando este algoritmo. Por lo tanto, es importante considerar alternativas o adaptar el algoritmo de Kittler según las características específicas de los datos de audio."
      ]
    },
    {
      "cell_type": "code",
      "execution_count": 25,
      "metadata": {},
      "outputs": [
        {
          "name": "stdout",
          "output_type": "stream",
          "text": [
            "Optimal T: 0.616851806640625\n",
            "T Cost: -11.389923069013133\n",
            "Mean 1: -0.0010341154268984616\n",
            "Mean 2: 0.9959984517028155\n",
            "Var 1: 0.003929538515831793\n",
            "Var 2: 3.379837501189842e-05\n",
            "P(1): 0.7420892715454102\n",
            "P(2): 0.25791072845458984\n"
          ]
        },
        {
          "name": "stderr",
          "output_type": "stream",
          "text": [
            "C:\\Users\\marco\\AppData\\Local\\Temp\\ipykernel_23000\\2871280421.py:6: RuntimeWarning: divide by zero encountered in log\n",
            "  cost = 1 + 2*(p_1*np.log(sigma_1) + p_2*np.log(sigma_2)) - 2*(p_1*np.log(p_1) + p_2*np.log(p_2))\n"
          ]
        }
      ],
      "source": [
        "best_t, best_cost, test_array, cost_array = calculate_T_optimal_kittler(pre_processed_tensor)\n",
        "x_axis, hist, p_gaussian = get_histogram(pre_processed_tensor)\n",
        "\n",
        "mu_1, mu_2, sigma_1, sigma_2, p_1, p_2 = calculate_statistics(\n",
        "    T=best_t, x=x_axis, pdf=p_gaussian)\n",
        "\n",
        "print(\"Optimal T:\", best_t.item())\n",
        "print(\"T Cost:\", best_cost)\n",
        "print(\"Mean 1:\", mu_1)\n",
        "print(\"Mean 2:\", mu_2)\n",
        "print(\"Var 1:\", sigma_1)\n",
        "print(\"Var 2:\", sigma_2)\n",
        "print(\"P(1):\", p_1)\n",
        "print(\"P(2):\", p_2)"
      ]
    },
    {
      "cell_type": "code",
      "execution_count": 26,
      "metadata": {},
      "outputs": [
        {
          "data": {
            "image/png": "[encoded data removed]",
            "text/plain": [
              "<Figure size 800x600 with 2 Axes>"
            ]
          },
          "metadata": {},
          "output_type": "display_data"
        }
      ],
      "source": [
        "plot_arrays(test_array, cost_array)"
      ]
    },
    {
      "cell_type": "code",
      "execution_count": 28,
      "metadata": {},
      "outputs": [
        {
          "data": {
            "image/png": "[encoded data removed]",
            "text/plain": [
              "<Figure size 640x480 with 1 Axes>"
            ]
          },
          "metadata": {},
          "output_type": "display_data"
        }
      ],
      "source": [
        "plot_histogram(pre_processed_tensor, pdf=True, T=best_t.item())"
      ]
    },
    {
      "cell_type": "markdown",
      "metadata": {},
      "source": [
        "T = 0.61"
      ]
    },
    {
      "cell_type": "code",
      "execution_count": 29,
      "metadata": {},
      "outputs": [],
      "source": [
        "umbral_tensor, sample_rate = get_audio_tensor(\n",
        "    path='input/SHORTER_contaminated_audio.wav')\n",
        "umbral_tensor = pre_process_tensor(audio_tensor)\n",
        "\n",
        "\n",
        "umbral_tensor = (umbral_tensor >= best_t.item()).float()"
      ]
    },
    {
      "cell_type": "markdown",
      "metadata": {},
      "source": [
        "Analizando los resultados, y el umbral de separacion, vemos que los resultados tienen coherencia con el comportamiento del audio como tal."
      ]
    },
    {
      "cell_type": "markdown",
      "metadata": {
        "id": "y1cCOjQiCcx1"
      },
      "source": [
        "### Distancia de Bhattacharyaa\n",
        "\n",
        "Implemente la funcion´ calcular bhattacharyya distance(p,q), para comparar las funciones de densidad estimada con el ajuste del modelo mixto Gaussiano con Kittler p (x) y la aproximacion de la densidad\n",
        "con el histograma de los datos q (x) para las dos pruebas realizadas\n",
        "con la imagen y el audio.\n"
      ]
    },
    {
      "cell_type": "code",
      "execution_count": null,
      "metadata": {
        "colab": {
          "base_uri": "https://localhost:8080/"
        },
        "id": "yLkaIc-JC6sb",
        "outputId": "28ff93c1-2ab9-4d9e-9ebb-9c2331ae5997"
      },
      "outputs": [
        {
          "name": "stdout",
          "output_type": "stream",
          "text": [
            "Bhattacharyya distance: -0.0\n"
          ]
        }
      ],
      "source": [
        "\n",
        "\n",
        "def bhattacharyya_distance(p, q):\n",
        "\n",
        "    sqrt_product = torch.sqrt(p * q)\n",
        "    sum_sqrt_product = torch.sum(sqrt_product)\n",
        "    distance = -torch.log(sum_sqrt_product)\n",
        "\n",
        "    return distance.item()\n",
        "\n",
        "# Example usage:\n",
        "p = torch.tensor([0.2, 0.3, 0.5])\n",
        "q = torch.tensor([0.2, 0.3, 0.5])\n",
        "\n",
        "distance = bhattacharyya_distance(p, q)\n",
        "print(\"Bhattacharyya distance:\", distance)"
      ]
    },
    {
      "cell_type": "markdown",
      "metadata": {},
      "source": [
        "Distancia con Imagenes"
      ]
    },
    {
      "cell_type": "code",
      "execution_count": null,
      "metadata": {},
      "outputs": [],
      "source": [
        "def gaussian_pdf(x, mean, variance):\n",
        "    pdf = 1 / np.sqrt(2 * np.pi * variance) * \\\n",
        "        np.exp(-0.5 * ((x - mean) ** 2) / variance)\n",
        "    return pdf"
      ]
    },
    {
      "cell_type": "code",
      "execution_count": null,
      "metadata": {},
      "outputs": [
        {
          "name": "stdout",
          "output_type": "stream",
          "text": [
            "torch.Size([343980])\n",
            "torch.Size([343980])\n"
          ]
        }
      ],
      "source": [
        "orginal_image = pre_process_tensor(get_image_tensor())\n",
        "umbral_image = pre_process_tensor(IMG)\n",
        "\n",
        "print(orginal_image.shape)\n",
        "print(umbral_image.shape)"
      ]
    },
    {
      "cell_type": "code",
      "execution_count": null,
      "metadata": {},
      "outputs": [
        {
          "name": "stdout",
          "output_type": "stream",
          "text": [
            "Bhattacharyya distance: -8.845017433166504\n"
          ]
        }
      ],
      "source": [
        "pdf_img_original = gaussian_pdf(orginal_image, torch.mean(orginal_image), torch.var(orginal_image))\n",
        "pdf_img_umbral = gaussian_pdf(\n",
        "    umbral_image, torch.mean(umbral_image), torch.var(umbral_image))\n",
        "\n",
        "distance = bhattacharyya_distance(pdf_img_original, pdf_img_umbral)\n",
        "print(\"Bhattacharyya distance:\", distance)"
      ]
    },
    {
      "cell_type": "code",
      "execution_count": null,
      "metadata": {},
      "outputs": [
        {
          "name": "stdout",
          "output_type": "stream",
          "text": [
            "Bhattacharyya distance: -10.594778060913086\n"
          ]
        }
      ],
      "source": [
        "pdf_audio_original = gaussian_pdf(pre_processed_tensor, torch.mean(\n",
        "    pre_processed_tensor), torch.var(pre_processed_tensor))\n",
        "pdf_audio_umbral = gaussian_pdf(\n",
        "    umbral_tensor, torch.mean(umbral_tensor), torch.var(umbral_tensor))\n",
        "\n",
        "distance = bhattacharyya_distance(pdf_audio_original, pdf_audio_umbral)\n",
        "print(\"Bhattacharyya distance:\", distance)"
      ]
    },
    {
      "cell_type": "markdown",
      "metadata": {},
      "source": [
        "Al ejecutar la función con ambos conjuntos de datos, observamos discrepancias de -8 y -10 respectivamente. Estas diferencias, aunque presentes, no se consideran significativas en términos absolutos. Más bien, sugieren que el algoritmo de distancia de Bhattacharyya determina que los conjuntos de datos son similares."
      ]
    },
    {
      "cell_type": "markdown",
      "metadata": {},
      "source": [
        "#### Explique \n",
        "La relación entre la distancia de Bhattacharyya y el proceso\n",
        "de estimación de los parámetros óptimos implementado en el algoritmo\n",
        "de Kittler ¿Que sucede cuando la distancia de Bhattacharyya entre\n",
        "el histograma de los datos y el modelo estimado crece o decrece ?\n",
        "\n",
        "\n",
        "Respuesta:\n",
        "La distancia de Bhattacharyya se utiliza en el algoritmo de Kittler para evaluar la similitud entre la distribución de los datos observados y el modelo estimado. Cuando esta distancia disminuye, indica un mejor ajuste del modelo a los datos, lo que implica una estimación más precisa de los parámetros óptimos. Por otro lado, un aumento en la distancia sugiere una discrepancia entre el modelo y los datos, lo que puede indicar la necesidad de ajustar el proceso de estimación de parámetros."
      ]
    }
  ],
  "metadata": {
    "colab": {
      "provenance": []
    },
    "kernelspec": {
      "display_name": "Python 3",
      "name": "python3"
    },
    "language_info": {
      "codemirror_mode": {
        "name": "ipython",
        "version": 3
      },
      "file_extension": ".py",
      "mimetype": "text/x-python",
      "name": "python",
      "nbconvert_exporter": "python",
      "pygments_lexer": "ipython3",
      "version": "3.11.9"
    }
  },
  "nbformat": 4,
  "nbformat_minor": 0
}
