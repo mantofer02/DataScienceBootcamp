{
  "cells": [
    {
      "cell_type": "markdown",
      "metadata": {
        "id": "g-glfe_--80Q"
      },
      "source": [
        "## Implementación del algoritmo de Kittler\n"
      ]
    },
    {
      "cell_type": "code",
      "execution_count": 53,
      "metadata": {
        "id": "yctmLm9tVFoH"
      },
      "outputs": [],
      "source": [
        "import torch"
      ]
    },
    {
      "cell_type": "code",
      "execution_count": 54,
      "metadata": {
        "id": "_7KYZwK4PnJf"
      },
      "outputs": [],
      "source": [
        "import numpy as np\n",
        "import torch\n",
        "import math\n",
        "import matplotlib.pyplot as plt\n",
        "from PIL import Image"
      ]
    },
    {
      "cell_type": "code",
      "execution_count": 55,
      "metadata": {
        "colab": {
          "base_uri": "https://localhost:8080/"
        },
        "id": "fYu9EML1Pqiv",
        "outputId": "219b2f3b-28db-4c82-b6cc-79613ea605c6"
      },
      "outputs": [
        {
          "name": "stdout",
          "output_type": "stream",
          "text": [
            "tensor([[0., 0., 0.,  ..., 0., 0., 0.],\n",
            "        [0., 0., 0.,  ..., 0., 0., 0.],\n",
            "        [0., 0., 0.,  ..., 0., 0., 0.],\n",
            "        ...,\n",
            "        [0., 0., 0.,  ..., 0., 0., 0.],\n",
            "        [0., 0., 0.,  ..., 0., 0., 0.],\n",
            "        [0., 0., 0.,  ..., 0., 0., 0.]])\n"
          ]
        }
      ],
      "source": [
        "U_1 = torch.tensor(\n",
        "    np.array(Image.open('input/C4_02_1_1_DAPI_001.bmp').convert('L')))\n",
        "\n",
        "output_path = \"salida.png\"\n",
        "#example for writing image\n",
        "Y = torch.zeros(U_1.shape)\n",
        "print(Y)\n",
        "Y_pil = Image.fromarray(Y.numpy().astype(np.uint8))\n",
        "Y_pil.save(output_path)"
      ]
    },
    {
      "cell_type": "code",
      "execution_count": 56,
      "metadata": {},
      "outputs": [],
      "source": [
        "def get_image_tensor(path='input/cuadro1_005.bmp'):\n",
        "  return torch.tensor(\n",
        "      np.array(Image.open('input/cuadro1_005.bmp').convert('L')))"
      ]
    },
    {
      "cell_type": "code",
      "execution_count": 57,
      "metadata": {},
      "outputs": [],
      "source": [
        "def pre_process_tensor(image_tensor):\n",
        "  return image_tensor.flatten().float()"
      ]
    },
    {
      "cell_type": "code",
      "execution_count": 58,
      "metadata": {},
      "outputs": [
        {
          "name": "stdout",
          "output_type": "stream",
          "text": [
            "Shape of tensor: 343980\n",
            "tensor([219., 218., 219.,  ..., 221., 225., 224.])\n"
          ]
        }
      ],
      "source": [
        "data = pre_process_tensor(get_image_tensor())\n",
        "print(\"Shape of tensor:\", data.shape[0])\n",
        "print(data)"
      ]
    },
    {
      "cell_type": "code",
      "execution_count": 59,
      "metadata": {},
      "outputs": [],
      "source": [
        "def get_histogram(data, pdf=False):\n",
        "  #hist_x = torch.histogram(data, bins=torch.unique(data, sorted=True),\n",
        "  #                     min=data.min().item(), max=data.max().item())\n",
        "  histogram, bin_edges = torch.histogram(\n",
        "      data, bins=torch.unique(data, sorted=True).numel())\n",
        "  \n",
        "  N = data.shape[0]\n",
        "\n",
        "  p_gaussian = histogram / N\n",
        "  x_axis = torch.unique(data, sorted=True)\n",
        "\n",
        "  return x_axis, histogram, p_gaussian"
      ]
    },
    {
      "cell_type": "code",
      "execution_count": 60,
      "metadata": {},
      "outputs": [],
      "source": [
        "def get_histogram_2(data):\n",
        "\n",
        "  #calculate histogram\n",
        "  #number of bins: number of bins within the range\n",
        "  histogram_gaussian, bins_gaussian = np.histogram(gaussian_sample.numpy(), bins = 20, range = (0, 20))\n",
        "  #normalize the histogram to estimate a density function\n",
        "  p_gaussian = torch.tensor(histogram_gaussian / histogram_gaussian.sum())\n",
        "\n",
        "  return histogram_gaussian, p_gaussian\n",
        "  "
      ]
    },
    {
      "cell_type": "code",
      "execution_count": 61,
      "metadata": {},
      "outputs": [
        {
          "name": "stdout",
          "output_type": "stream",
          "text": [
            "Unique Values (x_axis): tensor([1., 2., 3., 4., 5., 6., 7., 8., 9.])\n",
            "Histogram: tensor([3, 3, 3, 2, 2, 2, 2, 2, 1])\n",
            "Probability Density Function: tensor([0.1500, 0.1500, 0.1500, 0.1000, 0.1000, 0.1000, 0.1000, 0.1000, 0.0500])\n"
          ]
        }
      ],
      "source": [
        "import torch\n",
        "\n",
        "\n",
        "def get_histogram(data, pdf=False):\n",
        "    unique_values, counts = torch.unique(data, return_counts=True)\n",
        "    total_samples = data.shape[0]\n",
        "\n",
        "    probabilities = counts.float() / total_samples\n",
        "    return unique_values, counts, probabilities\n",
        "    \n",
        "\n",
        "# Create an array for testing\n",
        "test_array = torch.tensor(\n",
        "    [1., 2., 3., 1., 2., 5., 6., 3., 4., 5., 6., 7., 8., 9., 8., 7., 4., 3., 2., 1.])\n",
        "\n",
        "# Test the function\n",
        "x_axis, histogram, p_gaussian = get_histogram(test_array)\n",
        "\n",
        "print(\"Unique Values (x_axis):\", x_axis)\n",
        "print(\"Histogram:\", histogram)\n",
        "print(\"Probability Density Function:\", p_gaussian)"
      ]
    },
    {
      "cell_type": "markdown",
      "metadata": {
        "id": "V2pteHpT_L-5"
      },
      "source": [
        "### Calculo de Momentos Estadisticos\n",
        "\n",
        "Implemente una funcion `calcular_momentos_estadisticos(T,p)` la cual reciba un umbral candidato *T* y una funcion de densidad *p*, y retorne todos los parametros de la función. Comente su implementacion con detalle en este informe\n",
        "\n",
        "\n",
        "Este p es el mixto gasusiano (p, media 1, media 2, std, 1, std 2, P1, P2)"
      ]
    },
    {
      "cell_type": "code",
      "execution_count": 62,
      "metadata": {},
      "outputs": [],
      "source": [
        "def calculate_p1(x, pdf, T):\n",
        "    index = (x > T).nonzero()[0].item()\n",
        "    #index -= 1\n",
        "    index = 0 if index < 0 else index\n",
        "    x1 = x[:index]\n",
        "    pdf1 = pdf[:index]\n",
        "    p1 = pdf[:index].sum().item()\n",
        "    return x1, pdf1, p1\n",
        "\n",
        "def calculate_p2(x, pdf, T):\n",
        "    index = (x > T).nonzero()[0].item()\n",
        "    #index -= 1\n",
        "    x2 = x[index:]\n",
        "    pdf2 = pdf[index:]\n",
        "    p2 = pdf[index:].sum().item()\n",
        "\n",
        "    return x2, pdf2, p2"
      ]
    },
    {
      "cell_type": "code",
      "execution_count": 63,
      "metadata": {},
      "outputs": [],
      "source": [
        "def calculate_mu(x, pdf, p):\n",
        "  mu = 0\n",
        "\n",
        "  for i in range(len(x)):\n",
        "    mu += (x[i].item() * pdf[i].item())\n",
        "  \n",
        "  return mu / p"
      ]
    },
    {
      "cell_type": "code",
      "execution_count": 64,
      "metadata": {},
      "outputs": [],
      "source": [
        "def calculate_sigma(x, mu, pdf, p):\n",
        "    variance = 0\n",
        "    for i in range(len(x)):\n",
        "        variance += pdf[i].item() * ((x[i].item() - mu) ** 2)\n",
        "    return variance / p"
      ]
    },
    {
      "cell_type": "code",
      "execution_count": 65,
      "metadata": {},
      "outputs": [],
      "source": [
        "def calculate_statistics(T, x, pdf):\n",
        "  x1, pdf1, p1 = calculate_p1(x, pdf, T)\n",
        "  x2, pdf2, p2 = calculate_p2(x, pdf, T)\n",
        "\n",
        "  mean_1 = calculate_mu(x1, pdf1, p1)\n",
        "  mean_2 = calculate_mu(x2, pdf2, p2)\n",
        "\n",
        "  sigma_1 = calculate_sigma(x1, mean_1, pdf1, p1)\n",
        "  sigma_2 = calculate_sigma(x2, mean_2, pdf2, p2)\n",
        "\n",
        "  return mean_1, mean_2, sigma_1, sigma_2, p1, p2"
      ]
    },
    {
      "cell_type": "code",
      "execution_count": 88,
      "metadata": {},
      "outputs": [
        {
          "name": "stdout",
          "output_type": "stream",
          "text": [
            "Test passed: calculated=2.0, expected=2.0, difference=0.0\n",
            "Test passed: calculated=15.143, expected=15.143, difference=0.0\n",
            "Test passed: calculated=0.4, expected=0.5, difference=0.09999999999999998\n",
            "Test passed: calculated=41.551, expected=48.476, difference=6.924999999999997\n"
          ]
        }
      ],
      "source": [
        "import torch\n",
        "\n",
        "def assert_values(x, y, tolerance):\n",
        "    x_rounded = round(x, 3)\n",
        "    y_rounded = round(y, 3)\n",
        "    try:\n",
        "        assert abs(x_rounded - y_rounded) <= tolerance\n",
        "    except AssertionError:\n",
        "        print(f\"Test failed: calculated={x_rounded}, expected={y_rounded}, difference={abs(x_rounded - y_rounded)}\")\n",
        "    else:\n",
        "        print(f\"Test passed: calculated={x_rounded}, expected={y_rounded}, difference={abs(x_rounded - y_rounded)}\")\n",
        "\n",
        "\n",
        "def test_calculate_statistics(tolerance=10):\n",
        "    test_array_1 = torch.tensor([2.0, 2.0, 2.0, 1., 3.])\n",
        "    test_array_2 = torch.tensor([10., 10., 17., 13., 13., 13., 30])\n",
        "\n",
        "    exp_mean_1 = test_array_1.mean().item()\n",
        "    exp_var_1 = test_array_1.var().item()\n",
        "    exp_mean_2 = test_array_2.mean().item()\n",
        "    exp_var_2 = test_array_2.var().item()\n",
        "\n",
        "    concatenated_tensor = torch.cat((test_array_1, test_array_2), dim=0)\n",
        "    x_axis, histogram, p_gaussian = get_histogram(concatenated_tensor)\n",
        "    mean_1, mean_2, sigma_1, sigma_2, p_1, p_2 = calculate_statistics(5, x_axis,p_gaussian)\n",
        "\n",
        "    assert_values(mean_1, exp_mean_1, tolerance)\n",
        "    assert_values(mean_2, exp_mean_2, tolerance)\n",
        "    assert_values(sigma_1, exp_var_1, tolerance)\n",
        "    assert_values(sigma_2, exp_var_2, tolerance)\n",
        "\n",
        "test_calculate_statistics()\n"
      ]
    },
    {
      "cell_type": "markdown",
      "metadata": {
        "id": "TpN5pEd4Bebh"
      },
      "source": [
        "### Calcular Costo\n",
        "\n",
        "Implemente la función calcular_costo_J(T) la cual calcule el costo del umbral candidato T. Comente su implementacion con detalle en este informe."
      ]
    },
    {
      "cell_type": "code",
      "execution_count": 67,
      "metadata": {},
      "outputs": [],
      "source": [
        "def error_function(x, t, mu, sigma, P):\n",
        "  i = 0 if x < t else 1\n",
        "\n",
        "  error = ((x - mu[i]) / sigma[i])**2 + (2*np.log(mu[i])) - (2*np.log(P[i]))\n",
        "\n",
        "  return error"
      ]
    },
    {
      "cell_type": "code",
      "execution_count": 68,
      "metadata": {},
      "outputs": [],
      "source": [
        "# ver si se puede usar sin fors\n",
        "\n",
        "def calculate_cost(x_axis, pdf_y, t, mu, sigma, P):\n",
        "  cost = 0\n",
        "  for i in range(len(x_axis)):\n",
        "    cost += pdf_y[i] * error_function(x_axis[i], t, mu, sigma, P)\n",
        "\n",
        "  return cost"
      ]
    },
    {
      "cell_type": "code",
      "execution_count": null,
      "metadata": {},
      "outputs": [],
      "source": [
        "def calculate_cost_2(t, sigma_1, sigma_2, p_1, p_2):\n",
        "  cost = 1 + 2[p_1*torch.log(sigma_1) + p_2*torch.log(sigma_2)] - 2[p_1*torch.log(p_1) + p_2*torch.log(p_2)]\n",
        "  return cost"
      ]
    },
    {
      "cell_type": "markdown",
      "metadata": {
        "id": "SRA_PFRfCEAo"
      },
      "source": [
        "### Calculo T Optimo\n",
        "\n",
        "Basado en ambas funciones, implemente la función calcular_T_optimo_Kittler(Imagen) la cual retorne el T optimo para umbralizar la imagen recibida, además de la imagen umbralizada."
      ]
    },
    {
      "cell_type": "markdown",
      "metadata": {},
      "source": [
        "### Aplicación del Algoritmo de Kittler\n",
        "\n",
        "Aplique el algoritmo de Kittler en la imagen cuadro1_005.bmp, pro-\n",
        "vista"
      ]
    },
    {
      "cell_type": "markdown",
      "metadata": {},
      "source": [
        "#### Graficación del histograma\n",
        "Grafique el histograma normalizado de la imagen de entrada\n",
        "provista"
      ]
    },
    {
      "cell_type": "code",
      "execution_count": 69,
      "metadata": {},
      "outputs": [],
      "source": [
        "def get_image_tensor(path='input/cuadro1_005.bmp'):\n",
        "  return torch.tensor(\n",
        "      np.array(Image.open('input/cuadro1_005.bmp').convert('L')))"
      ]
    },
    {
      "cell_type": "code",
      "execution_count": 70,
      "metadata": {},
      "outputs": [],
      "source": [
        "def pre_process_tensor(image_tensor):\n",
        "  return image_tensor.flatten().float()"
      ]
    },
    {
      "cell_type": "code",
      "execution_count": 71,
      "metadata": {},
      "outputs": [
        {
          "name": "stdout",
          "output_type": "stream",
          "text": [
            "Shape of tensor: 343980\n",
            "tensor([219., 218., 219.,  ..., 221., 225., 224.])\n"
          ]
        }
      ],
      "source": [
        "data = pre_process_tensor(get_image_tensor())\n",
        "print(\"Shape of tensor:\", data.shape[0])\n",
        "print(data)"
      ]
    },
    {
      "cell_type": "code",
      "execution_count": null,
      "metadata": {},
      "outputs": [],
      "source": []
    },
    {
      "cell_type": "code",
      "execution_count": 72,
      "metadata": {},
      "outputs": [],
      "source": [
        "def plot_histogram(data, title=\"Histogram\", pdf=False):\n",
        "  _, hist, y_axis = get_histogram(data, pdf)\n",
        "  y_label = \"Frecuency\" if not pdf else \"Probabilities\"\n",
        "\n",
        "  plt.bar(data.unique().numpy(), hist, width=0.5, align='center')\n",
        "  plt.xlabel('Values')\n",
        "  plt.ylabel(y_label)\n",
        "  plt.title(title)\n",
        "  plt.grid(True)\n",
        "  plt.show()"
      ]
    },
    {
      "cell_type": "code",
      "execution_count": 73,
      "metadata": {},
      "outputs": [],
      "source": [
        "#plot_histogram([2.0, 2.0, 2.0, 10., 10., 10., 13., 13., 13.])"
      ]
    },
    {
      "cell_type": "code",
      "execution_count": 74,
      "metadata": {},
      "outputs": [
        {
          "data": {
            "image/png": "[encoded data removed]",
            "text/plain": [
              "<Figure size 640x480 with 1 Axes>"
            ]
          },
          "metadata": {},
          "output_type": "display_data"
        }
      ],
      "source": [
        "plot_histogram(test_array_complete)"
      ]
    },
    {
      "cell_type": "code",
      "execution_count": 75,
      "metadata": {},
      "outputs": [
        {
          "data": {
            "image/png": "[encoded data removed]",
            "text/plain": [
              "<Figure size 640x480 with 1 Axes>"
            ]
          },
          "metadata": {},
          "output_type": "display_data"
        }
      ],
      "source": [
        "plot_histogram(data)"
      ]
    },
    {
      "cell_type": "code",
      "execution_count": 76,
      "metadata": {},
      "outputs": [
        {
          "data": {
            "image/png": "[encoded data removed]",
            "text/plain": [
              "<Figure size 640x480 with 1 Axes>"
            ]
          },
          "metadata": {},
          "output_type": "display_data"
        }
      ],
      "source": [
        "plot_histogram(data, pdf=True)"
      ]
    },
    {
      "cell_type": "code",
      "execution_count": 77,
      "metadata": {},
      "outputs": [
        {
          "ename": "ValueError",
          "evalue": "too many values to unpack (expected 2)",
          "output_type": "error",
          "traceback": [
            "\u001b[1;31m---------------------------------------------------------------------------\u001b[0m",
            "\u001b[1;31mValueError\u001b[0m                                Traceback (most recent call last)",
            "\u001b[1;32mc:\\Users\\marco\\OneDrive\\Escritorio\\DataScienceBootcamp\\FUNDATEC\\Estadistica\\New\\Tareas\\TP0.ipynb Cell 33\u001b[0m line \u001b[0;36m1\n\u001b[1;32m----> <a href='vscode-notebook-cell:/c%3A/Users/marco/OneDrive/Escritorio/DataScienceBootcamp/FUNDATEC/Estadistica/New/Tareas/TP0.ipynb#X44sZmlsZQ%3D%3D?line=0'>1</a>\u001b[0m hist_x, pdf_y \u001b[39m=\u001b[39m get_histogram(data, pdf\u001b[39m=\u001b[39m\u001b[39mTrue\u001b[39;00m)\n\u001b[0;32m      <a href='vscode-notebook-cell:/c%3A/Users/marco/OneDrive/Escritorio/DataScienceBootcamp/FUNDATEC/Estadistica/New/Tareas/TP0.ipynb#X44sZmlsZQ%3D%3D?line=2'>3</a>\u001b[0m \u001b[39mprint\u001b[39m(\u001b[39m\"\u001b[39m\u001b[39mProof of normalization:\u001b[39m\u001b[39m\"\u001b[39m, pdf_y\u001b[39m.\u001b[39msum()\u001b[39m.\u001b[39mitem())\n",
            "\u001b[1;31mValueError\u001b[0m: too many values to unpack (expected 2)"
          ]
        }
      ],
      "source": [
        "hist_x, pdf_y = get_histogram(data, pdf=True)\n",
        "\n",
        "print(\"Proof of normalization:\", pdf_y.sum().item())"
      ]
    },
    {
      "cell_type": "code",
      "execution_count": null,
      "metadata": {},
      "outputs": [],
      "source": [
        "len(hist_x)"
      ]
    },
    {
      "cell_type": "code",
      "execution_count": null,
      "metadata": {},
      "outputs": [],
      "source": [
        "import torch\n",
        "import seaborn as sns\n",
        "import matplotlib.pyplot as plt\n",
        "\n",
        "\n",
        "def plot_kde(data_tensor, title='Kernel Density Estimation (KDE) Plot'):\n",
        "    data_np = data_tensor.numpy()\n",
        "    sns.kdeplot(data_np, fill=True, legend=False)\n",
        "    plt.xlabel('Value')\n",
        "    plt.ylabel('Probability Density')\n",
        "    plt.title(title)\n",
        "    plt.grid(True)\n",
        "    plt.show()"
      ]
    },
    {
      "cell_type": "code",
      "execution_count": null,
      "metadata": {},
      "outputs": [],
      "source": [
        "plot_kde(data)"
      ]
    },
    {
      "cell_type": "markdown",
      "metadata": {
        "id": "y1cCOjQiCcx1"
      },
      "source": [
        "### Distancia de Bhattacharyaa\n",
        "\n",
        "Implemente la funcion´ calcular bhattacharyya distance(p,q), para comparar las funciones de densidad estimada con el ajuste del modelo mixto Gaussiano con Kittler p (x) y la aproximacion de la densidad\n",
        "con el histograma de los datos q (x) para las dos pruebas realizadas\n",
        "con la imagen y el audio.\n"
      ]
    },
    {
      "cell_type": "code",
      "execution_count": null,
      "metadata": {
        "colab": {
          "base_uri": "https://localhost:8080/"
        },
        "id": "yLkaIc-JC6sb",
        "outputId": "28ff93c1-2ab9-4d9e-9ebb-9c2331ae5997"
      },
      "outputs": [],
      "source": [
        "#Estamos asumiendo que p y q son los valores de probabilidad, se puede depurar para que solo vengan las funciones y se calcula\n",
        "\n",
        "\n",
        "def bhattacharyya_distance(p, q):\n",
        "    device = p.device\n",
        "\n",
        "    sqrt_product = torch.sqrt(p * q)\n",
        "    sum_sqrt_product = torch.sum(sqrt_product)\n",
        "    distance = -torch.log(sum_sqrt_product)\n",
        "\n",
        "    return distance.item()\n",
        "\n",
        "# Example usage:\n",
        "p = torch.tensor([0.2, 0.3, 0.5])\n",
        "q = torch.tensor([0.2, 0.3, 0.5])\n",
        "\n",
        "distance = bhattacharyya_distance(p, q)\n",
        "print(\"Bhattacharyya distance:\", distance)"
      ]
    },
    {
      "cell_type": "code",
      "execution_count": null,
      "metadata": {},
      "outputs": [],
      "source": [
        "p = torch.tensor([0.2, 0.3, 0.5])\n",
        "q = torch.tensor([0.2, 3.0])\n",
        "\n",
        "p = p[:len(q)]\n",
        "p"
      ]
    },
    {
      "cell_type": "code",
      "execution_count": null,
      "metadata": {},
      "outputs": [],
      "source": [
        "hist_x_left, pdf_y_left = get_histogram(data, pdf=True, threshold=180, left_t=True)\n",
        "hist_x_right, pdf_y_right = get_histogram(data, pdf=True, threshold=180, left_t=False)"
      ]
    },
    {
      "cell_type": "code",
      "execution_count": null,
      "metadata": {},
      "outputs": [],
      "source": [
        "result = pdf_y_right.sum() + pdf_y_left.sum()\n",
        "result"
      ]
    },
    {
      "cell_type": "code",
      "execution_count": null,
      "metadata": {},
      "outputs": [],
      "source": [
        "len(hist_x_right)"
      ]
    },
    {
      "cell_type": "code",
      "execution_count": null,
      "metadata": {},
      "outputs": [],
      "source": [
        "len(hist_x_left)"
      ]
    }
  ],
  "metadata": {
    "colab": {
      "provenance": []
    },
    "kernelspec": {
      "display_name": "Python 3",
      "name": "python3"
    },
    "language_info": {
      "codemirror_mode": {
        "name": "ipython",
        "version": 3
      },
      "file_extension": ".py",
      "mimetype": "text/x-python",
      "name": "python",
      "nbconvert_exporter": "python",
      "pygments_lexer": "ipython3",
      "version": "3.10.11"
    }
  },
  "nbformat": 4,
  "nbformat_minor": 0
}
