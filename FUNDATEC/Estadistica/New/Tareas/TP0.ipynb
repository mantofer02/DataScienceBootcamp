{
  "cells": [
    {
      "cell_type": "markdown",
      "metadata": {
        "id": "g-glfe_--80Q"
      },
      "source": [
        "## Implementación del algoritmo de Kittler\n"
      ]
    },
    {
      "cell_type": "code",
      "execution_count": 114,
      "metadata": {
        "id": "yctmLm9tVFoH"
      },
      "outputs": [],
      "source": [
        "import torch"
      ]
    },
    {
      "cell_type": "code",
      "execution_count": 115,
      "metadata": {
        "id": "_7KYZwK4PnJf"
      },
      "outputs": [],
      "source": [
        "import numpy as np\n",
        "import torch\n",
        "import math\n",
        "import matplotlib.pyplot as plt\n",
        "from PIL import Image"
      ]
    },
    {
      "cell_type": "code",
      "execution_count": 116,
      "metadata": {
        "colab": {
          "base_uri": "https://localhost:8080/"
        },
        "id": "fYu9EML1Pqiv",
        "outputId": "219b2f3b-28db-4c82-b6cc-79613ea605c6"
      },
      "outputs": [
        {
          "name": "stdout",
          "output_type": "stream",
          "text": [
            "tensor([[0., 0., 0.,  ..., 0., 0., 0.],\n",
            "        [0., 0., 0.,  ..., 0., 0., 0.],\n",
            "        [0., 0., 0.,  ..., 0., 0., 0.],\n",
            "        ...,\n",
            "        [0., 0., 0.,  ..., 0., 0., 0.],\n",
            "        [0., 0., 0.,  ..., 0., 0., 0.],\n",
            "        [0., 0., 0.,  ..., 0., 0., 0.]])\n"
          ]
        }
      ],
      "source": [
        "U_1 = torch.tensor(\n",
        "    np.array(Image.open('input/C4_02_1_1_DAPI_001.bmp').convert('L')))\n",
        "\n",
        "output_path = \"salida.png\"\n",
        "#example for writing image\n",
        "Y = torch.zeros(U_1.shape)\n",
        "print(Y)\n",
        "Y_pil = Image.fromarray(Y.numpy().astype(np.uint8))\n",
        "Y_pil.save(output_path)"
      ]
    },
    {
      "cell_type": "code",
      "execution_count": 117,
      "metadata": {},
      "outputs": [],
      "source": [
        "def get_image_tensor(path='input/cuadro1_005.bmp'):\n",
        "  return torch.tensor(\n",
        "      np.array(Image.open('input/cuadro1_005.bmp').convert('L')))"
      ]
    },
    {
      "cell_type": "code",
      "execution_count": 118,
      "metadata": {},
      "outputs": [],
      "source": [
        "def pre_process_tensor(image_tensor):\n",
        "  return image_tensor.flatten().float()"
      ]
    },
    {
      "cell_type": "code",
      "execution_count": 119,
      "metadata": {},
      "outputs": [
        {
          "name": "stdout",
          "output_type": "stream",
          "text": [
            "Shape of tensor: 343980\n",
            "tensor([219., 218., 219.,  ..., 221., 225., 224.])\n"
          ]
        }
      ],
      "source": [
        "data = pre_process_tensor(get_image_tensor())\n",
        "print(\"Shape of tensor:\", data.shape[0])\n",
        "print(data)"
      ]
    },
    {
      "cell_type": "code",
      "execution_count": 120,
      "metadata": {},
      "outputs": [],
      "source": [
        "def get_histogram(data, pdf=False):\n",
        "  #hist_x = torch.histogram(data, bins=torch.unique(data, sorted=True),\n",
        "  #                     min=data.min().item(), max=data.max().item())\n",
        "  histogram, bin_edges = torch.histogram(\n",
        "      data, bins=torch.unique(data, sorted=True).numel())\n",
        "  \n",
        "  N = data.shape[0]\n",
        "\n",
        "  p_gaussian = histogram / N\n",
        "  x_axis = torch.unique(data, sorted=True)\n",
        "\n",
        "  return x_axis, histogram, p_gaussian"
      ]
    },
    {
      "cell_type": "code",
      "execution_count": 121,
      "metadata": {},
      "outputs": [],
      "source": [
        "def get_histogram_2(data):\n",
        "\n",
        "  #calculate histogram\n",
        "  #number of bins: number of bins within the range\n",
        "  histogram_gaussian, bins_gaussian = np.histogram(gaussian_sample.numpy(), bins = 20, range = (0, 20))\n",
        "  #normalize the histogram to estimate a density function\n",
        "  p_gaussian = torch.tensor(histogram_gaussian / histogram_gaussian.sum())\n",
        "\n",
        "  return histogram_gaussian, p_gaussian\n",
        "  "
      ]
    },
    {
      "cell_type": "code",
      "execution_count": 122,
      "metadata": {},
      "outputs": [
        {
          "name": "stdout",
          "output_type": "stream",
          "text": [
            "Unique Values (x_axis): tensor([1., 2., 3., 4., 5., 6., 7., 8., 9.])\n",
            "Histogram: tensor([3., 3., 3., 2., 2., 2., 2., 2., 1.])\n",
            "Probability Density Function: tensor([0.1500, 0.1500, 0.1500, 0.1000, 0.1000, 0.1000, 0.1000, 0.1000, 0.0500])\n"
          ]
        }
      ],
      "source": [
        "import torch\n",
        "\n",
        "\n",
        "def get_histogram(data, pdf=False):\n",
        "    histogram, bin_edges = torch.histogram(\n",
        "        data, bins=torch.unique(data, sorted=True).numel())\n",
        "\n",
        "    N = data.shape[0]\n",
        "\n",
        "    p_gaussian = histogram / N\n",
        "    x_axis = torch.unique(data, sorted=True)\n",
        "\n",
        "    return x_axis, histogram, p_gaussian\n",
        "\n",
        "\n",
        "# Create an array for testing\n",
        "test_array = torch.tensor(\n",
        "    [1., 2., 3., 1., 2., 5., 6., 3., 4., 5., 6., 7., 8., 9., 8., 7., 4., 3., 2., 1.])\n",
        "\n",
        "# Test the function\n",
        "x_axis, histogram, p_gaussian = get_histogram(test_array)\n",
        "\n",
        "print(\"Unique Values (x_axis):\", x_axis)\n",
        "print(\"Histogram:\", histogram)\n",
        "print(\"Probability Density Function:\", p_gaussian)"
      ]
    },
    {
      "cell_type": "markdown",
      "metadata": {
        "id": "V2pteHpT_L-5"
      },
      "source": [
        "### Calculo de Momentos Estadisticos\n",
        "\n",
        "Implemente una funcion `calcular_momentos_estadisticos(T,p)` la cual reciba un umbral candidato *T* y una funcion de densidad *p*, y retorne todos los parametros de la función. Comente su implementacion con detalle en este informe\n",
        "\n",
        "\n",
        "Este p es el mixto gasusiano (p, media 1, media 2, std, 1, std 2, P1, P2)"
      ]
    },
    {
      "cell_type": "code",
      "execution_count": 123,
      "metadata": {},
      "outputs": [],
      "source": [
        "def calculate_p1(x, pdf, T):\n",
        "    index = (x > T).nonzero()[0].item()\n",
        "    #index -= 1\n",
        "    index = 0 if index < 0 else index\n",
        "    x1 = x[:index]\n",
        "    pdf1 = pdf[:index]\n",
        "    p1 = pdf[:index].sum().item()\n",
        "    return x1, pdf1, p1\n",
        "\n",
        "def calculate_p2(x, pdf, T):\n",
        "    index = (x > T).nonzero()[0].item()\n",
        "    #index -= 1\n",
        "    x2 = x[index:]\n",
        "    pdf2 = pdf[index:]\n",
        "    p2 = pdf[index:].sum().item()\n",
        "\n",
        "    return x2, pdf2, p2"
      ]
    },
    {
      "cell_type": "code",
      "execution_count": 124,
      "metadata": {},
      "outputs": [],
      "source": [
        "def calculate_mu(x, pdf, p):\n",
        "  mu = 0\n",
        "\n",
        "  for i in range(len(x)):\n",
        "    mu += (x[i].item() * pdf[i].item())\n",
        "  \n",
        "  return mu / p"
      ]
    },
    {
      "cell_type": "code",
      "execution_count": 125,
      "metadata": {},
      "outputs": [],
      "source": [
        "def calculate_sigma(x, mu, pdf, p):\n",
        "    variance = 0\n",
        "    for i in range(len(x)):\n",
        "        variance += pdf[i].item() * ((x[i].item() - mu) ** 2)\n",
        "    return variance / p"
      ]
    },
    {
      "cell_type": "code",
      "execution_count": 126,
      "metadata": {},
      "outputs": [],
      "source": [
        "def calculate_statistics(T, x, pdf):\n",
        "  x1, pdf1, p1 = calculate_p1(x, pdf, T)\n",
        "  x2, pdf2, p2 = calculate_p2(x, pdf, T)\n",
        "\n",
        "  mean_1 = calculate_mu(x1, pdf1, p1)\n",
        "  mean_2 = calculate_mu(x2, pdf2, p2)\n",
        "\n",
        "  sigma_1 = calculate_sigma(x1, mean_1, pdf1, p1)\n",
        "  sigma_2 = calculate_sigma(x2, mean_2, pdf2, p2)\n",
        "\n",
        "  return mean_1, mean_2, sigma_1, sigma_2, p1, p2"
      ]
    },
    {
      "cell_type": "markdown",
      "metadata": {
        "id": "TpN5pEd4Bebh"
      },
      "source": [
        "### Calcular Costo\n",
        "\n",
        "Implemente la función calcular_costo_J(T) la cual calcule el costo del umbral candidato T. Comente su implementacion con detalle en este informe."
      ]
    },
    {
      "cell_type": "code",
      "execution_count": 127,
      "metadata": {},
      "outputs": [],
      "source": [
        "def error_function(x, t, mu, sigma, P):\n",
        "  i = 0 if x < t else 1\n",
        "\n",
        "  error = ((x - mu[i]) / sigma[i])**2 + (2*np.log(mu[i])) - (2*np.log(P[i]))\n",
        "\n",
        "  return error"
      ]
    },
    {
      "cell_type": "code",
      "execution_count": 128,
      "metadata": {},
      "outputs": [],
      "source": [
        "# ver si se puede usar sin fors\n",
        "\n",
        "def calculate_cost(hist_x, pdf_y, t, mu, sigma, P):\n",
        "  cost = 0\n",
        "  for i in range(len(hist_x)):\n",
        "    cost += pdf_y[i] * error_function(hist_x[i], t, mu, sigma, P)\n",
        "\n",
        "  return cost"
      ]
    },
    {
      "cell_type": "code",
      "execution_count": 147,
      "metadata": {},
      "outputs": [],
      "source": [
        "def get_histogram3(data, pdf=False):\n",
        "    unique_values, counts = torch.unique(data, return_counts=True)\n",
        "    total_samples = data.shape[0]\n",
        "\n",
        "    if pdf:\n",
        "        probabilities = counts.float() / total_samples\n",
        "        return unique_values, counts, probabilities\n",
        "    else:\n",
        "        return unique_values, counts"
      ]
    },
    {
      "cell_type": "code",
      "execution_count": 151,
      "metadata": {},
      "outputs": [
        {
          "name": "stdout",
          "output_type": "stream",
          "text": [
            "tensor(2.)\n",
            "tensor(0.5000)\n",
            "tensor(15.1429)\n",
            "tensor(48.4762)\n",
            "13.285714730620384\n",
            "47.63265502969844\n",
            "tensor([ 1.,  2.,  3., 10., 13., 17., 30.])\n",
            "tensor([1, 3, 1, 2, 3, 1, 1])\n",
            "tensor([0.0833, 0.2500, 0.0833, 0.1667, 0.2500, 0.0833, 0.0833])\n"
          ]
        },
        {
          "data": {
            "text/plain": [
              "(1.9999999284744296,\n",
              " 15.142857943870611,\n",
              " 0.399999992847448,\n",
              " 41.55102300305129,\n",
              " 0.4166666865348816,\n",
              " 0.5833333134651184)"
            ]
          },
          "execution_count": 151,
          "metadata": {},
          "output_type": "execute_result"
        }
      ],
      "source": [
        "test_array_1 = torch.tensor(\n",
        "    [2.0, 2.0, 2.0, 1., 3.])\n",
        "\n",
        "print(test_array_1.mean())\n",
        "print(test_array_1.var())\n",
        "\n",
        "\n",
        "test_array_2 = torch.tensor(\n",
        "    [10., 10., 17., 13., 13., 13., 30])\n",
        "\n",
        "print(test_array_2.mean())\n",
        "print(test_array_2.var())\n",
        "\n",
        "x_axis, histogram, p_gaussian = get_histogram(test_array_2)\n",
        "\n",
        "mu = calculate_mu(x_axis, p_gaussian, 1)\n",
        "print(mu)\n",
        "sigma = calculate_sigma(x_axis, mu, p_gaussian, 1)\n",
        "print(sigma)\n",
        "\n",
        "test_array_complete = torch.tensor(\n",
        "    [2.0, 2.0, 2.0, 1., 3., 10., 10., 17., 13., 13., 13., 30])\n",
        "\n",
        "x_axis, histogram, p_gaussian = get_histogram3(test_array_complete, True)\n",
        "\n",
        "print(x_axis)\n",
        "print(histogram)\n",
        "print(p_gaussian)\n",
        "\n",
        "calculate_statistics(5, x_axis, p_gaussian)"
      ]
    },
    {
      "cell_type": "markdown",
      "metadata": {
        "id": "SRA_PFRfCEAo"
      },
      "source": [
        "### Calculo T Optimo\n",
        "\n",
        "Basado en ambas funciones, implemente la función calcular_T_optimo_Kittler(Imagen) la cual retorne el T optimo para umbralizar la imagen recibida, además de la imagen umbralizada."
      ]
    },
    {
      "cell_type": "markdown",
      "metadata": {},
      "source": [
        "### Aplicación del Algoritmo de Kittler\n",
        "\n",
        "Aplique el algoritmo de Kittler en la imagen cuadro1_005.bmp, pro-\n",
        "vista"
      ]
    },
    {
      "cell_type": "markdown",
      "metadata": {},
      "source": [
        "#### Graficación del histograma\n",
        "Grafique el histograma normalizado de la imagen de entrada\n",
        "provista"
      ]
    },
    {
      "cell_type": "code",
      "execution_count": 130,
      "metadata": {},
      "outputs": [],
      "source": [
        "def get_image_tensor(path='input/cuadro1_005.bmp'):\n",
        "  return torch.tensor(\n",
        "      np.array(Image.open('input/cuadro1_005.bmp').convert('L')))"
      ]
    },
    {
      "cell_type": "code",
      "execution_count": 131,
      "metadata": {},
      "outputs": [],
      "source": [
        "def pre_process_tensor(image_tensor):\n",
        "  return image_tensor.flatten().float()"
      ]
    },
    {
      "cell_type": "code",
      "execution_count": 132,
      "metadata": {},
      "outputs": [
        {
          "name": "stdout",
          "output_type": "stream",
          "text": [
            "Shape of tensor: 343980\n",
            "tensor([219., 218., 219.,  ..., 221., 225., 224.])\n"
          ]
        }
      ],
      "source": [
        "data = pre_process_tensor(get_image_tensor())\n",
        "print(\"Shape of tensor:\", data.shape[0])\n",
        "print(data)"
      ]
    },
    {
      "cell_type": "code",
      "execution_count": null,
      "metadata": {},
      "outputs": [],
      "source": []
    },
    {
      "cell_type": "code",
      "execution_count": 141,
      "metadata": {},
      "outputs": [],
      "source": [
        "def plot_histogram(data, title=\"Histogram\", pdf=False):\n",
        "  _, hist, y_axis = get_histogram(data, pdf)\n",
        "  y_label = \"Frecuency\" if not pdf else \"Probabilities\"\n",
        "\n",
        "  plt.bar(data.unique().numpy(), hist, width=0.5, align='center')\n",
        "  plt.xlabel('Values')\n",
        "  plt.ylabel(y_label)\n",
        "  plt.title(title)\n",
        "  plt.grid(True)\n",
        "  plt.show()"
      ]
    },
    {
      "cell_type": "code",
      "execution_count": 139,
      "metadata": {},
      "outputs": [
        {
          "ename": "TypeError",
          "evalue": "_unique2(): argument 'input' (position 1) must be Tensor, not list",
          "output_type": "error",
          "traceback": [
            "\u001b[1;31m---------------------------------------------------------------------------\u001b[0m",
            "\u001b[1;31mTypeError\u001b[0m                                 Traceback (most recent call last)",
            "Cell \u001b[1;32mIn[139], line 1\u001b[0m\n\u001b[1;32m----> 1\u001b[0m \u001b[43mplot_histogram\u001b[49m\u001b[43m(\u001b[49m\u001b[43m[\u001b[49m\u001b[38;5;241;43m2.0\u001b[39;49m\u001b[43m,\u001b[49m\u001b[43m \u001b[49m\u001b[38;5;241;43m2.0\u001b[39;49m\u001b[43m,\u001b[49m\u001b[43m \u001b[49m\u001b[38;5;241;43m2.0\u001b[39;49m\u001b[43m,\u001b[49m\u001b[43m \u001b[49m\u001b[38;5;241;43m10.\u001b[39;49m\u001b[43m,\u001b[49m\u001b[43m \u001b[49m\u001b[38;5;241;43m10.\u001b[39;49m\u001b[43m,\u001b[49m\u001b[43m \u001b[49m\u001b[38;5;241;43m10.\u001b[39;49m\u001b[43m,\u001b[49m\u001b[43m \u001b[49m\u001b[38;5;241;43m13.\u001b[39;49m\u001b[43m,\u001b[49m\u001b[43m \u001b[49m\u001b[38;5;241;43m13.\u001b[39;49m\u001b[43m,\u001b[49m\u001b[43m \u001b[49m\u001b[38;5;241;43m13.\u001b[39;49m\u001b[43m]\u001b[49m\u001b[43m)\u001b[49m\n",
            "Cell \u001b[1;32mIn[133], line 2\u001b[0m, in \u001b[0;36mplot_histogram\u001b[1;34m(data, title, pdf)\u001b[0m\n\u001b[0;32m      1\u001b[0m \u001b[38;5;28;01mdef\u001b[39;00m \u001b[38;5;21mplot_histogram\u001b[39m(data, title\u001b[38;5;241m=\u001b[39m\u001b[38;5;124m\"\u001b[39m\u001b[38;5;124mHistogram\u001b[39m\u001b[38;5;124m\"\u001b[39m, pdf\u001b[38;5;241m=\u001b[39m\u001b[38;5;28;01mFalse\u001b[39;00m):\n\u001b[1;32m----> 2\u001b[0m   _, _, y_axis \u001b[38;5;241m=\u001b[39m \u001b[43mget_histogram\u001b[49m\u001b[43m(\u001b[49m\u001b[43mdata\u001b[49m\u001b[43m,\u001b[49m\u001b[43m \u001b[49m\u001b[43mpdf\u001b[49m\u001b[43m)\u001b[49m\n\u001b[0;32m      3\u001b[0m   y_label \u001b[38;5;241m=\u001b[39m \u001b[38;5;124m\"\u001b[39m\u001b[38;5;124mFrecuency\u001b[39m\u001b[38;5;124m\"\u001b[39m \u001b[38;5;28;01mif\u001b[39;00m \u001b[38;5;129;01mnot\u001b[39;00m pdf \u001b[38;5;28;01melse\u001b[39;00m \u001b[38;5;124m\"\u001b[39m\u001b[38;5;124mProbabilities\u001b[39m\u001b[38;5;124m\"\u001b[39m\n\u001b[0;32m      5\u001b[0m   plt\u001b[38;5;241m.\u001b[39mbar(data\u001b[38;5;241m.\u001b[39munique()\u001b[38;5;241m.\u001b[39mnumpy(), y_axis, width\u001b[38;5;241m=\u001b[39m\u001b[38;5;241m0.5\u001b[39m, align\u001b[38;5;241m=\u001b[39m\u001b[38;5;124m'\u001b[39m\u001b[38;5;124mcenter\u001b[39m\u001b[38;5;124m'\u001b[39m)\n",
            "Cell \u001b[1;32mIn[122], line 6\u001b[0m, in \u001b[0;36mget_histogram\u001b[1;34m(data, pdf)\u001b[0m\n\u001b[0;32m      4\u001b[0m \u001b[38;5;28;01mdef\u001b[39;00m \u001b[38;5;21mget_histogram\u001b[39m(data, pdf\u001b[38;5;241m=\u001b[39m\u001b[38;5;28;01mFalse\u001b[39;00m):\n\u001b[0;32m      5\u001b[0m     histogram, bin_edges \u001b[38;5;241m=\u001b[39m torch\u001b[38;5;241m.\u001b[39mhistogram(\n\u001b[1;32m----> 6\u001b[0m         data, bins\u001b[38;5;241m=\u001b[39m\u001b[43mtorch\u001b[49m\u001b[38;5;241;43m.\u001b[39;49m\u001b[43munique\u001b[49m\u001b[43m(\u001b[49m\u001b[43mdata\u001b[49m\u001b[43m,\u001b[49m\u001b[43m \u001b[49m\u001b[38;5;28;43msorted\u001b[39;49m\u001b[38;5;241;43m=\u001b[39;49m\u001b[38;5;28;43;01mTrue\u001b[39;49;00m\u001b[43m)\u001b[49m\u001b[38;5;241m.\u001b[39mnumel())\n\u001b[0;32m      8\u001b[0m     N \u001b[38;5;241m=\u001b[39m data\u001b[38;5;241m.\u001b[39mshape[\u001b[38;5;241m0\u001b[39m]\n\u001b[0;32m     10\u001b[0m     p_gaussian \u001b[38;5;241m=\u001b[39m histogram \u001b[38;5;241m/\u001b[39m N\n",
            "File \u001b[1;32m~\\AppData\\Local\\Packages\\PythonSoftwareFoundation.Python.3.11_qbz5n2kfra8p0\\LocalCache\\local-packages\\Python311\\site-packages\\torch\\_jit_internal.py:499\u001b[0m, in \u001b[0;36mboolean_dispatch.<locals>.fn\u001b[1;34m(*args, **kwargs)\u001b[0m\n\u001b[0;32m    497\u001b[0m     \u001b[38;5;28;01mreturn\u001b[39;00m if_true(\u001b[38;5;241m*\u001b[39margs, \u001b[38;5;241m*\u001b[39m\u001b[38;5;241m*\u001b[39mkwargs)\n\u001b[0;32m    498\u001b[0m \u001b[38;5;28;01melse\u001b[39;00m:\n\u001b[1;32m--> 499\u001b[0m     \u001b[38;5;28;01mreturn\u001b[39;00m \u001b[43mif_false\u001b[49m\u001b[43m(\u001b[49m\u001b[38;5;241;43m*\u001b[39;49m\u001b[43margs\u001b[49m\u001b[43m,\u001b[49m\u001b[43m \u001b[49m\u001b[38;5;241;43m*\u001b[39;49m\u001b[38;5;241;43m*\u001b[39;49m\u001b[43mkwargs\u001b[49m\u001b[43m)\u001b[49m\n",
            "File \u001b[1;32m~\\AppData\\Local\\Packages\\PythonSoftwareFoundation.Python.3.11_qbz5n2kfra8p0\\LocalCache\\local-packages\\Python311\\site-packages\\torch\\_jit_internal.py:499\u001b[0m, in \u001b[0;36mboolean_dispatch.<locals>.fn\u001b[1;34m(*args, **kwargs)\u001b[0m\n\u001b[0;32m    497\u001b[0m     \u001b[38;5;28;01mreturn\u001b[39;00m if_true(\u001b[38;5;241m*\u001b[39margs, \u001b[38;5;241m*\u001b[39m\u001b[38;5;241m*\u001b[39mkwargs)\n\u001b[0;32m    498\u001b[0m \u001b[38;5;28;01melse\u001b[39;00m:\n\u001b[1;32m--> 499\u001b[0m     \u001b[38;5;28;01mreturn\u001b[39;00m \u001b[43mif_false\u001b[49m\u001b[43m(\u001b[49m\u001b[38;5;241;43m*\u001b[39;49m\u001b[43margs\u001b[49m\u001b[43m,\u001b[49m\u001b[43m \u001b[49m\u001b[38;5;241;43m*\u001b[39;49m\u001b[38;5;241;43m*\u001b[39;49m\u001b[43mkwargs\u001b[49m\u001b[43m)\u001b[49m\n",
            "File \u001b[1;32m~\\AppData\\Local\\Packages\\PythonSoftwareFoundation.Python.3.11_qbz5n2kfra8p0\\LocalCache\\local-packages\\Python311\\site-packages\\torch\\functional.py:991\u001b[0m, in \u001b[0;36m_return_output\u001b[1;34m(input, sorted, return_inverse, return_counts, dim)\u001b[0m\n\u001b[0;32m    988\u001b[0m \u001b[38;5;28;01mif\u001b[39;00m has_torch_function_unary(\u001b[38;5;28minput\u001b[39m):\n\u001b[0;32m    989\u001b[0m     \u001b[38;5;28;01mreturn\u001b[39;00m _unique_impl(\u001b[38;5;28minput\u001b[39m, \u001b[38;5;28msorted\u001b[39m, return_inverse, return_counts, dim)\n\u001b[1;32m--> 991\u001b[0m output, _, _ \u001b[38;5;241m=\u001b[39m \u001b[43m_unique_impl\u001b[49m\u001b[43m(\u001b[49m\u001b[38;5;28;43minput\u001b[39;49m\u001b[43m,\u001b[49m\u001b[43m \u001b[49m\u001b[38;5;28;43msorted\u001b[39;49m\u001b[43m,\u001b[49m\u001b[43m \u001b[49m\u001b[43mreturn_inverse\u001b[49m\u001b[43m,\u001b[49m\u001b[43m \u001b[49m\u001b[43mreturn_counts\u001b[49m\u001b[43m,\u001b[49m\u001b[43m \u001b[49m\u001b[43mdim\u001b[49m\u001b[43m)\u001b[49m\n\u001b[0;32m    992\u001b[0m \u001b[38;5;28;01mreturn\u001b[39;00m output\n",
            "File \u001b[1;32m~\\AppData\\Local\\Packages\\PythonSoftwareFoundation.Python.3.11_qbz5n2kfra8p0\\LocalCache\\local-packages\\Python311\\site-packages\\torch\\functional.py:905\u001b[0m, in \u001b[0;36m_unique_impl\u001b[1;34m(input, sorted, return_inverse, return_counts, dim)\u001b[0m\n\u001b[0;32m    897\u001b[0m     output, inverse_indices, counts \u001b[38;5;241m=\u001b[39m _VF\u001b[38;5;241m.\u001b[39munique_dim(\n\u001b[0;32m    898\u001b[0m         \u001b[38;5;28minput\u001b[39m,\n\u001b[0;32m    899\u001b[0m         dim,\n\u001b[1;32m   (...)\u001b[0m\n\u001b[0;32m    902\u001b[0m         return_counts\u001b[38;5;241m=\u001b[39mreturn_counts,\n\u001b[0;32m    903\u001b[0m     )\n\u001b[0;32m    904\u001b[0m \u001b[38;5;28;01melse\u001b[39;00m:\n\u001b[1;32m--> 905\u001b[0m     output, inverse_indices, counts \u001b[38;5;241m=\u001b[39m \u001b[43mtorch\u001b[49m\u001b[38;5;241;43m.\u001b[39;49m\u001b[43m_unique2\u001b[49m\u001b[43m(\u001b[49m\n\u001b[0;32m    906\u001b[0m \u001b[43m        \u001b[49m\u001b[38;5;28;43minput\u001b[39;49m\u001b[43m,\u001b[49m\n\u001b[0;32m    907\u001b[0m \u001b[43m        \u001b[49m\u001b[38;5;28;43msorted\u001b[39;49m\u001b[38;5;241;43m=\u001b[39;49m\u001b[38;5;28;43msorted\u001b[39;49m\u001b[43m,\u001b[49m\n\u001b[0;32m    908\u001b[0m \u001b[43m        \u001b[49m\u001b[43mreturn_inverse\u001b[49m\u001b[38;5;241;43m=\u001b[39;49m\u001b[43mreturn_inverse\u001b[49m\u001b[43m,\u001b[49m\n\u001b[0;32m    909\u001b[0m \u001b[43m        \u001b[49m\u001b[43mreturn_counts\u001b[49m\u001b[38;5;241;43m=\u001b[39;49m\u001b[43mreturn_counts\u001b[49m\u001b[43m,\u001b[49m\n\u001b[0;32m    910\u001b[0m \u001b[43m    \u001b[49m\u001b[43m)\u001b[49m\n\u001b[0;32m    911\u001b[0m \u001b[38;5;28;01mreturn\u001b[39;00m output, inverse_indices, counts\n",
            "\u001b[1;31mTypeError\u001b[0m: _unique2(): argument 'input' (position 1) must be Tensor, not list"
          ]
        }
      ],
      "source": [
        "#plot_histogram([2.0, 2.0, 2.0, 10., 10., 10., 13., 13., 13.])"
      ]
    },
    {
      "cell_type": "code",
      "execution_count": 142,
      "metadata": {},
      "outputs": [
        {
          "data": {
            "image/png": "[encoded data removed]",
            "text/plain": [
              "<Figure size 640x480 with 1 Axes>"
            ]
          },
          "metadata": {},
          "output_type": "display_data"
        }
      ],
      "source": [
        "plot_histogram(test_array_complete)"
      ]
    },
    {
      "cell_type": "code",
      "execution_count": 136,
      "metadata": {},
      "outputs": [
        {
          "data": {
            "image/png": "[encoded data removed]",
            "text/plain": [
              "<Figure size 640x480 with 1 Axes>"
            ]
          },
          "metadata": {},
          "output_type": "display_data"
        }
      ],
      "source": [
        "plot_histogram(data)"
      ]
    },
    {
      "cell_type": "code",
      "execution_count": 137,
      "metadata": {},
      "outputs": [
        {
          "data": {
            "image/png": "[encoded data removed]",
            "text/plain": [
              "<Figure size 640x480 with 1 Axes>"
            ]
          },
          "metadata": {},
          "output_type": "display_data"
        }
      ],
      "source": [
        "plot_histogram(data, pdf=True)"
      ]
    },
    {
      "cell_type": "code",
      "execution_count": 138,
      "metadata": {},
      "outputs": [
        {
          "ename": "ValueError",
          "evalue": "too many values to unpack (expected 2)",
          "output_type": "error",
          "traceback": [
            "\u001b[1;31m---------------------------------------------------------------------------\u001b[0m",
            "\u001b[1;31mValueError\u001b[0m                                Traceback (most recent call last)",
            "Cell \u001b[1;32mIn[138], line 1\u001b[0m\n\u001b[1;32m----> 1\u001b[0m hist_x, pdf_y \u001b[38;5;241m=\u001b[39m get_histogram(data, pdf\u001b[38;5;241m=\u001b[39m\u001b[38;5;28;01mTrue\u001b[39;00m)\n\u001b[0;32m      3\u001b[0m \u001b[38;5;28mprint\u001b[39m(\u001b[38;5;124m\"\u001b[39m\u001b[38;5;124mProof of normalization:\u001b[39m\u001b[38;5;124m\"\u001b[39m, pdf_y\u001b[38;5;241m.\u001b[39msum()\u001b[38;5;241m.\u001b[39mitem())\n",
            "\u001b[1;31mValueError\u001b[0m: too many values to unpack (expected 2)"
          ]
        }
      ],
      "source": [
        "hist_x, pdf_y = get_histogram(data, pdf=True)\n",
        "\n",
        "print(\"Proof of normalization:\", pdf_y.sum().item())"
      ]
    },
    {
      "cell_type": "code",
      "execution_count": null,
      "metadata": {},
      "outputs": [
        {
          "data": {
            "text/plain": [
              "60"
            ]
          },
          "execution_count": 24,
          "metadata": {},
          "output_type": "execute_result"
        }
      ],
      "source": [
        "len(hist_x)"
      ]
    },
    {
      "cell_type": "code",
      "execution_count": null,
      "metadata": {},
      "outputs": [],
      "source": [
        "import torch\n",
        "import seaborn as sns\n",
        "import matplotlib.pyplot as plt\n",
        "\n",
        "\n",
        "def plot_kde(data_tensor, title='Kernel Density Estimation (KDE) Plot'):\n",
        "    data_np = data_tensor.numpy()\n",
        "    sns.kdeplot(data_np, fill=True, legend=False)\n",
        "    plt.xlabel('Value')\n",
        "    plt.ylabel('Probability Density')\n",
        "    plt.title(title)\n",
        "    plt.grid(True)\n",
        "    plt.show()"
      ]
    },
    {
      "cell_type": "code",
      "execution_count": null,
      "metadata": {},
      "outputs": [
        {
          "data": {
            "image/png": "[encoded data removed]",
            "text/plain": [
              "<Figure size 640x480 with 1 Axes>"
            ]
          },
          "metadata": {},
          "output_type": "display_data"
        }
      ],
      "source": [
        "plot_kde(data)"
      ]
    },
    {
      "cell_type": "markdown",
      "metadata": {
        "id": "y1cCOjQiCcx1"
      },
      "source": [
        "### Distancia de Bhattacharyaa\n",
        "\n",
        "Implemente la funcion´ calcular bhattacharyya distance(p,q), para comparar las funciones de densidad estimada con el ajuste del modelo mixto Gaussiano con Kittler p (x) y la aproximacion de la densidad\n",
        "con el histograma de los datos q (x) para las dos pruebas realizadas\n",
        "con la imagen y el audio.\n"
      ]
    },
    {
      "cell_type": "code",
      "execution_count": null,
      "metadata": {
        "colab": {
          "base_uri": "https://localhost:8080/"
        },
        "id": "yLkaIc-JC6sb",
        "outputId": "28ff93c1-2ab9-4d9e-9ebb-9c2331ae5997"
      },
      "outputs": [
        {
          "name": "stdout",
          "output_type": "stream",
          "text": [
            "Bhattacharyya distance: -0.0\n"
          ]
        }
      ],
      "source": [
        "#Estamos asumiendo que p y q son los valores de probabilidad, se puede depurar para que solo vengan las funciones y se calcula\n",
        "\n",
        "\n",
        "def bhattacharyya_distance(p, q):\n",
        "    device = p.device\n",
        "\n",
        "    sqrt_product = torch.sqrt(p * q)\n",
        "    sum_sqrt_product = torch.sum(sqrt_product)\n",
        "    distance = -torch.log(sum_sqrt_product)\n",
        "\n",
        "    return distance.item()\n",
        "\n",
        "# Example usage:\n",
        "p = torch.tensor([0.2, 0.3, 0.5])\n",
        "q = torch.tensor([0.2, 0.3, 0.5])\n",
        "\n",
        "distance = bhattacharyya_distance(p, q)\n",
        "print(\"Bhattacharyya distance:\", distance)"
      ]
    },
    {
      "cell_type": "code",
      "execution_count": null,
      "metadata": {},
      "outputs": [
        {
          "data": {
            "text/plain": [
              "tensor([0.2000, 0.3000])"
            ]
          },
          "execution_count": 28,
          "metadata": {},
          "output_type": "execute_result"
        }
      ],
      "source": [
        "p = torch.tensor([0.2, 0.3, 0.5])\n",
        "q = torch.tensor([0.2, 3.0])\n",
        "\n",
        "p = p[:len(q)]\n",
        "p"
      ]
    },
    {
      "cell_type": "code",
      "execution_count": null,
      "metadata": {},
      "outputs": [
        {
          "ename": "TypeError",
          "evalue": "get_histogram() got an unexpected keyword argument 'threshold'",
          "output_type": "error",
          "traceback": [
            "\u001b[1;31m---------------------------------------------------------------------------\u001b[0m",
            "\u001b[1;31mTypeError\u001b[0m                                 Traceback (most recent call last)",
            "Cell \u001b[1;32mIn[29], line 1\u001b[0m\n\u001b[1;32m----> 1\u001b[0m hist_x_left, pdf_y_left \u001b[38;5;241m=\u001b[39m \u001b[43mget_histogram\u001b[49m\u001b[43m(\u001b[49m\u001b[43mdata\u001b[49m\u001b[43m,\u001b[49m\u001b[43m \u001b[49m\u001b[43mpdf\u001b[49m\u001b[38;5;241;43m=\u001b[39;49m\u001b[38;5;28;43;01mTrue\u001b[39;49;00m\u001b[43m,\u001b[49m\u001b[43m \u001b[49m\u001b[43mthreshold\u001b[49m\u001b[38;5;241;43m=\u001b[39;49m\u001b[38;5;241;43m180\u001b[39;49m\u001b[43m,\u001b[49m\u001b[43m \u001b[49m\u001b[43mleft_t\u001b[49m\u001b[38;5;241;43m=\u001b[39;49m\u001b[38;5;28;43;01mTrue\u001b[39;49;00m\u001b[43m)\u001b[49m\n\u001b[0;32m      2\u001b[0m hist_x_right, pdf_y_right \u001b[38;5;241m=\u001b[39m get_histogram(data, pdf\u001b[38;5;241m=\u001b[39m\u001b[38;5;28;01mTrue\u001b[39;00m, threshold\u001b[38;5;241m=\u001b[39m\u001b[38;5;241m180\u001b[39m, left_t\u001b[38;5;241m=\u001b[39m\u001b[38;5;28;01mFalse\u001b[39;00m)\n",
            "\u001b[1;31mTypeError\u001b[0m: get_histogram() got an unexpected keyword argument 'threshold'"
          ]
        }
      ],
      "source": [
        "hist_x_left, pdf_y_left = get_histogram(data, pdf=True, threshold=180, left_t=True)\n",
        "hist_x_right, pdf_y_right = get_histogram(data, pdf=True, threshold=180, left_t=False)"
      ]
    },
    {
      "cell_type": "code",
      "execution_count": null,
      "metadata": {},
      "outputs": [],
      "source": [
        "result = pdf_y_right.sum() + pdf_y_left.sum()\n",
        "result"
      ]
    },
    {
      "cell_type": "code",
      "execution_count": null,
      "metadata": {},
      "outputs": [],
      "source": [
        "len(hist_x_right)"
      ]
    },
    {
      "cell_type": "code",
      "execution_count": null,
      "metadata": {},
      "outputs": [],
      "source": [
        "len(hist_x_left)"
      ]
    }
  ],
  "metadata": {
    "colab": {
      "provenance": []
    },
    "kernelspec": {
      "display_name": "Python 3",
      "name": "python3"
    },
    "language_info": {
      "codemirror_mode": {
        "name": "ipython",
        "version": 3
      },
      "file_extension": ".py",
      "mimetype": "text/x-python",
      "name": "python",
      "nbconvert_exporter": "python",
      "pygments_lexer": "ipython3",
      "version": "3.11.9"
    }
  },
  "nbformat": 4,
  "nbformat_minor": 0
}
