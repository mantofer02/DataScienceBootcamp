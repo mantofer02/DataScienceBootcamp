{
  "cells": [
    {
      "cell_type": "markdown",
      "metadata": {
        "id": "g-glfe_--80Q"
      },
      "source": [
        "## Implementación del algoritmo de Kittler\n"
      ]
    },
    {
      "cell_type": "code",
      "execution_count": 1,
      "metadata": {
        "id": "yctmLm9tVFoH"
      },
      "outputs": [],
      "source": [
        "import torch"
      ]
    },
    {
      "cell_type": "code",
      "execution_count": 2,
      "metadata": {
        "id": "_7KYZwK4PnJf"
      },
      "outputs": [],
      "source": [
        "import numpy as np\n",
        "import torch\n",
        "import math\n",
        "import matplotlib.pyplot as plt\n",
        "from PIL import Image"
      ]
    },
    {
      "cell_type": "code",
      "execution_count": 3,
      "metadata": {
        "colab": {
          "base_uri": "https://localhost:8080/"
        },
        "id": "fYu9EML1Pqiv",
        "outputId": "219b2f3b-28db-4c82-b6cc-79613ea605c6"
      },
      "outputs": [
        {
          "name": "stdout",
          "output_type": "stream",
          "text": [
            "tensor([[0., 0., 0.,  ..., 0., 0., 0.],\n",
            "        [0., 0., 0.,  ..., 0., 0., 0.],\n",
            "        [0., 0., 0.,  ..., 0., 0., 0.],\n",
            "        ...,\n",
            "        [0., 0., 0.,  ..., 0., 0., 0.],\n",
            "        [0., 0., 0.,  ..., 0., 0., 0.],\n",
            "        [0., 0., 0.,  ..., 0., 0., 0.]])\n"
          ]
        }
      ],
      "source": [
        "U_1 = torch.tensor(\n",
        "    np.array(Image.open('input/C4_02_1_1_DAPI_001.bmp').convert('L')))\n",
        "\n",
        "output_path = \"salida.png\"\n",
        "#example for writing image\n",
        "Y = torch.zeros(U_1.shape)\n",
        "print(Y)\n",
        "Y_pil = Image.fromarray(Y.numpy().astype(np.uint8))\n",
        "Y_pil.save(output_path)"
      ]
    },
    {
      "cell_type": "code",
      "execution_count": 4,
      "metadata": {},
      "outputs": [],
      "source": [
        "def get_image_tensor(path='input/cuadro1_005.bmp'):\n",
        "  return torch.tensor(\n",
        "      np.array(Image.open('input/cuadro1_005.bmp').convert('L')))"
      ]
    },
    {
      "cell_type": "code",
      "execution_count": 5,
      "metadata": {},
      "outputs": [],
      "source": [
        "def pre_process_tensor(image_tensor):\n",
        "  return image_tensor.flatten().float()"
      ]
    },
    {
      "cell_type": "code",
      "execution_count": 6,
      "metadata": {},
      "outputs": [
        {
          "name": "stdout",
          "output_type": "stream",
          "text": [
            "Shape of tensor: 343980\n",
            "tensor([219., 218., 219.,  ..., 221., 225., 224.])\n"
          ]
        }
      ],
      "source": [
        "data = pre_process_tensor(get_image_tensor())\n",
        "print(\"Shape of tensor:\", data.shape[0])\n",
        "print(data)"
      ]
    },
    {
      "cell_type": "code",
      "execution_count": 7,
      "metadata": {},
      "outputs": [],
      "source": [
        "def get_histogram(data, pdf=False):\n",
        "  #hist_x = torch.histogram(data, bins=torch.unique(data, sorted=True),\n",
        "  #                     min=data.min().item(), max=data.max().item())\n",
        "  hist_x, bin_edges = torch.histogram(data, bins=torch.unique(data, sorted=True).numel())\n",
        "  \n",
        "  N = data.shape[0]\n",
        "\n",
        "  y_axis = hist_x.numpy() if not pdf else hist_x / N\n",
        "  x_axis = torch.unique(data, sorted=True)\n",
        "\n",
        "  return x_axis, y_axis"
      ]
    },
    {
      "cell_type": "markdown",
      "metadata": {
        "id": "V2pteHpT_L-5"
      },
      "source": [
        "### Calculo de Momentos Estadisticos\n",
        "\n",
        "Implemente una funcion `calcular_momentos_estadisticos(T,p)` la cual reciba un umbral candidato *T* y una funcion de densidad *p*, y retorne todos los parametros de la función. Comente su implementacion con detalle en este informe\n",
        "\n",
        "\n",
        "Este p es el mixto gasusiano (p, media 1, media 2, std, 1, std 2, P1, P2)"
      ]
    },
    {
      "cell_type": "code",
      "execution_count": 8,
      "metadata": {},
      "outputs": [],
      "source": [
        "def calculate_p1(x, pdf, T):\n",
        "    index = (x > T).nonzero()[0].item()\n",
        "    #index -= 1\n",
        "    index = 0 if index < 0 else index\n",
        "    x1 = x[:index]\n",
        "    pdf1 = pdf[:index]\n",
        "    p1 = pdf[:index].sum().item()\n",
        "    return x1, pdf1, p1\n",
        "\n",
        "def calculate_p2(x, pdf, T):\n",
        "    index = (x > T).nonzero()[0].item()\n",
        "    #index -= 1\n",
        "    x2 = x[index:]\n",
        "    pdf2 = pdf[index:]\n",
        "    p2 = pdf[index:].sum().item()\n",
        "\n",
        "    return x2, pdf2, p2"
      ]
    },
    {
      "cell_type": "code",
      "execution_count": 9,
      "metadata": {},
      "outputs": [],
      "source": [
        "def calculate_mu(x, pdf, p):\n",
        "  mu = 0\n",
        "\n",
        "  for i in range(len(x)):\n",
        "\n",
        "    mu += (x[i].item() * pdf[i].item())\n",
        "  \n",
        "  return mu / p"
      ]
    },
    {
      "cell_type": "code",
      "execution_count": 10,
      "metadata": {},
      "outputs": [],
      "source": [
        "def calculate_sigma(x, mu, pdf, p):\n",
        "    variance = 0\n",
        "    for i in range(len(x)):\n",
        "        variance += pdf[i].item() * ((x[i].item() - mu) ** 2)\n",
        "    return variance / p"
      ]
    },
    {
      "cell_type": "code",
      "execution_count": 11,
      "metadata": {},
      "outputs": [],
      "source": [
        "def calculate_statistics(T, x, pdf):\n",
        "  x1, pdf1, p1 = calculate_p1(x, pdf, T)\n",
        "  x2, pdf2, p2 = calculate_p2(x, pdf, T)\n",
        "\n",
        "  mean_1 = calculate_mu(x1, pdf1, p1)\n",
        "  mean_2 = calculate_mu(x2, pdf2, p2)\n",
        "\n",
        "  sigma_1 = calculate_sigma(x1, mean_1, pdf1, p1)\n",
        "  sigma_2 = calculate_sigma(x2, mean_2, pdf2, p2)\n",
        "\n",
        "  return mean_1, mean_2, sigma_1, sigma_2, p1, p2"
      ]
    },
    {
      "cell_type": "markdown",
      "metadata": {
        "id": "TpN5pEd4Bebh"
      },
      "source": [
        "### Calcular Costo\n",
        "\n",
        "Implemente la función calcular_costo_J(T) la cual calcule el costo del umbral candidato T. Comente su implementacion con detalle en este informe."
      ]
    },
    {
      "cell_type": "code",
      "execution_count": 14,
      "metadata": {},
      "outputs": [],
      "source": [
        "def error_function(x, t, mu, sigma, P):\n",
        "  i = 0 if x < t else 1\n",
        "\n",
        "  error = ((x - mu[i]) / sigma[i])**2 + (2*np.log(mu[i])) - (2*np.log(P[i]))\n",
        "\n",
        "  return error"
      ]
    },
    {
      "cell_type": "code",
      "execution_count": 15,
      "metadata": {},
      "outputs": [],
      "source": [
        "# ver si se puede usar sin fors\n",
        "\n",
        "def calculate_cost(hist_x, pdf_y, t, mu, sigma, P):\n",
        "  cost = 0\n",
        "  for i in range(len(hist_x)):\n",
        "    cost += pdf_y[i] * error_function(hist_x[i], t, mu, sigma, P)\n",
        "\n",
        "  return cost"
      ]
    },
    {
      "cell_type": "markdown",
      "metadata": {
        "id": "SRA_PFRfCEAo"
      },
      "source": [
        "### Calculo T Optimo\n",
        "\n",
        "Basado en ambas funciones, implemente la función calcular_T_optimo_Kittler(Imagen) la cual retorne el T optimo para umbralizar la imagen recibida, además de la imagen umbralizada."
      ]
    },
    {
      "cell_type": "markdown",
      "metadata": {},
      "source": [
        "### Aplicación del Algoritmo de Kittler\n",
        "\n",
        "Aplique el algoritmo de Kittler en la imagen cuadro1_005.bmp, pro-\n",
        "vista"
      ]
    },
    {
      "cell_type": "markdown",
      "metadata": {},
      "source": [
        "#### Graficación del histograma\n",
        "Grafique el histograma normalizado de la imagen de entrada\n",
        "provista"
      ]
    },
    {
      "cell_type": "code",
      "execution_count": 16,
      "metadata": {},
      "outputs": [],
      "source": [
        "def get_image_tensor(path='input/cuadro1_005.bmp'):\n",
        "  return torch.tensor(\n",
        "      np.array(Image.open('input/cuadro1_005.bmp').convert('L')))"
      ]
    },
    {
      "cell_type": "code",
      "execution_count": 17,
      "metadata": {},
      "outputs": [],
      "source": [
        "def pre_process_tensor(image_tensor):\n",
        "  return image_tensor.flatten().float()"
      ]
    },
    {
      "cell_type": "code",
      "execution_count": 18,
      "metadata": {},
      "outputs": [
        {
          "name": "stdout",
          "output_type": "stream",
          "text": [
            "Shape of tensor: 343980\n",
            "tensor([219., 218., 219.,  ..., 221., 225., 224.])\n"
          ]
        }
      ],
      "source": [
        "data = pre_process_tensor(get_image_tensor())\n",
        "print(\"Shape of tensor:\", data.shape[0])\n",
        "print(data)"
      ]
    },
    {
      "cell_type": "code",
      "execution_count": null,
      "metadata": {},
      "outputs": [],
      "source": []
    },
    {
      "cell_type": "code",
      "execution_count": 19,
      "metadata": {},
      "outputs": [],
      "source": [
        "def plot_histogram(data, title=\"Histogram\", pdf=False):\n",
        "  _, y_axis = get_histogram(data, pdf)\n",
        "  y_label = \"Frecuency\" if not pdf else \"Probabilities\"\n",
        "\n",
        "  plt.bar(data.unique().numpy(), y_axis, width=0.5, align='center')\n",
        "  plt.xlabel('Values')\n",
        "  plt.ylabel(y_label)\n",
        "  plt.title(title)\n",
        "  plt.grid(True)\n",
        "  plt.show()\n"
      ]
    },
    {
      "cell_type": "code",
      "execution_count": 20,
      "metadata": {},
      "outputs": [
        {
          "name": "stdout",
          "output_type": "stream",
          "text": [
            "tensor([ 1.,  8., 10., 11., 12.])\n",
            "[1. 0. 0. 1. 3.]\n"
          ]
        },
        {
          "data": {
            "image/png": "[encoded data removed]",
            "text/plain": [
              "<Figure size 640x480 with 1 Axes>"
            ]
          },
          "metadata": {},
          "output_type": "display_data"
        }
      ],
      "source": [
        "plot_histogram(x_test)"
      ]
    },
    {
      "cell_type": "code",
      "execution_count": 21,
      "metadata": {},
      "outputs": [
        {
          "name": "stdout",
          "output_type": "stream",
          "text": [
            "tensor([136., 137., 138., 139., 140., 141., 142., 143., 144., 145., 146., 147.,\n",
            "        148., 149., 150., 151., 152., 153., 154., 155., 156., 157., 158., 159.,\n",
            "        160., 161., 162., 163., 164., 166., 205., 206., 207., 208., 209., 210.,\n",
            "        211., 212., 213., 214., 215., 216., 217., 218., 219., 220., 221., 222.,\n",
            "        223., 224., 225., 226., 227., 228., 229., 230., 231., 232., 233., 234.])\n",
            "[6.0000e+00 3.0000e+01 4.0000e+01 1.5800e+02 4.3000e+02 3.7400e+02\n",
            " 1.0060e+03 1.2730e+03 6.4800e+02 1.1640e+03 4.4100e+02 6.0400e+02\n",
            " 2.6300e+02 5.6000e+01 5.2000e+01 1.2000e+01 1.0000e+00 2.0000e+00\n",
            " 1.0000e+00 0.0000e+00 0.0000e+00 0.0000e+00 0.0000e+00 0.0000e+00\n",
            " 0.0000e+00 0.0000e+00 0.0000e+00 0.0000e+00 0.0000e+00 0.0000e+00\n",
            " 0.0000e+00 0.0000e+00 0.0000e+00 0.0000e+00 0.0000e+00 0.0000e+00\n",
            " 0.0000e+00 0.0000e+00 0.0000e+00 0.0000e+00 0.0000e+00 0.0000e+00\n",
            " 1.3000e+01 1.8000e+01 2.4800e+02 1.6590e+03 2.5910e+03 1.4582e+04\n",
            " 3.8850e+04 3.1155e+04 7.9839e+04 4.2115e+04 6.8542e+04 3.8889e+04\n",
            " 9.3530e+03 7.7280e+03 1.5890e+03 1.6900e+02 7.5000e+01 4.0000e+00]\n"
          ]
        },
        {
          "data": {
            "image/png": "[encoded data removed]",
            "text/plain": [
              "<Figure size 640x480 with 1 Axes>"
            ]
          },
          "metadata": {},
          "output_type": "display_data"
        }
      ],
      "source": [
        "plot_histogram(data)"
      ]
    },
    {
      "cell_type": "code",
      "execution_count": 22,
      "metadata": {},
      "outputs": [
        {
          "name": "stdout",
          "output_type": "stream",
          "text": [
            "tensor([136., 137., 138., 139., 140., 141., 142., 143., 144., 145., 146., 147.,\n",
            "        148., 149., 150., 151., 152., 153., 154., 155., 156., 157., 158., 159.,\n",
            "        160., 161., 162., 163., 164., 166., 205., 206., 207., 208., 209., 210.,\n",
            "        211., 212., 213., 214., 215., 216., 217., 218., 219., 220., 221., 222.,\n",
            "        223., 224., 225., 226., 227., 228., 229., 230., 231., 232., 233., 234.])\n",
            "tensor([1.7443e-05, 8.7214e-05, 1.1629e-04, 4.5933e-04, 1.2501e-03, 1.0873e-03,\n",
            "        2.9246e-03, 3.7008e-03, 1.8838e-03, 3.3839e-03, 1.2821e-03, 1.7559e-03,\n",
            "        7.6458e-04, 1.6280e-04, 1.5117e-04, 3.4886e-05, 2.9071e-06, 5.8143e-06,\n",
            "        2.9071e-06, 0.0000e+00, 0.0000e+00, 0.0000e+00, 0.0000e+00, 0.0000e+00,\n",
            "        0.0000e+00, 0.0000e+00, 0.0000e+00, 0.0000e+00, 0.0000e+00, 0.0000e+00,\n",
            "        0.0000e+00, 0.0000e+00, 0.0000e+00, 0.0000e+00, 0.0000e+00, 0.0000e+00,\n",
            "        0.0000e+00, 0.0000e+00, 0.0000e+00, 0.0000e+00, 0.0000e+00, 0.0000e+00,\n",
            "        3.7793e-05, 5.2329e-05, 7.2097e-04, 4.8230e-03, 7.5324e-03, 4.2392e-02,\n",
            "        1.1294e-01, 9.0572e-02, 2.3210e-01, 1.2243e-01, 1.9926e-01, 1.1306e-01,\n",
            "        2.7191e-02, 2.2466e-02, 4.6195e-03, 4.9131e-04, 2.1804e-04, 1.1629e-05])\n"
          ]
        },
        {
          "data": {
            "image/png": "[encoded data removed]",
            "text/plain": [
              "<Figure size 640x480 with 1 Axes>"
            ]
          },
          "metadata": {},
          "output_type": "display_data"
        }
      ],
      "source": [
        "plot_histogram(data, pdf=True)"
      ]
    },
    {
      "cell_type": "code",
      "execution_count": 23,
      "metadata": {},
      "outputs": [
        {
          "name": "stdout",
          "output_type": "stream",
          "text": [
            "tensor([136., 137., 138., 139., 140., 141., 142., 143., 144., 145., 146., 147.,\n",
            "        148., 149., 150., 151., 152., 153., 154., 155., 156., 157., 158., 159.,\n",
            "        160., 161., 162., 163., 164., 166., 205., 206., 207., 208., 209., 210.,\n",
            "        211., 212., 213., 214., 215., 216., 217., 218., 219., 220., 221., 222.,\n",
            "        223., 224., 225., 226., 227., 228., 229., 230., 231., 232., 233., 234.])\n",
            "tensor([1.7443e-05, 8.7214e-05, 1.1629e-04, 4.5933e-04, 1.2501e-03, 1.0873e-03,\n",
            "        2.9246e-03, 3.7008e-03, 1.8838e-03, 3.3839e-03, 1.2821e-03, 1.7559e-03,\n",
            "        7.6458e-04, 1.6280e-04, 1.5117e-04, 3.4886e-05, 2.9071e-06, 5.8143e-06,\n",
            "        2.9071e-06, 0.0000e+00, 0.0000e+00, 0.0000e+00, 0.0000e+00, 0.0000e+00,\n",
            "        0.0000e+00, 0.0000e+00, 0.0000e+00, 0.0000e+00, 0.0000e+00, 0.0000e+00,\n",
            "        0.0000e+00, 0.0000e+00, 0.0000e+00, 0.0000e+00, 0.0000e+00, 0.0000e+00,\n",
            "        0.0000e+00, 0.0000e+00, 0.0000e+00, 0.0000e+00, 0.0000e+00, 0.0000e+00,\n",
            "        3.7793e-05, 5.2329e-05, 7.2097e-04, 4.8230e-03, 7.5324e-03, 4.2392e-02,\n",
            "        1.1294e-01, 9.0572e-02, 2.3210e-01, 1.2243e-01, 1.9926e-01, 1.1306e-01,\n",
            "        2.7191e-02, 2.2466e-02, 4.6195e-03, 4.9131e-04, 2.1804e-04, 1.1629e-05])\n",
            "Proof of normalization: 1.0\n"
          ]
        }
      ],
      "source": [
        "hist_x, pdf_y = get_histogram(data, pdf=True)\n",
        "\n",
        "print(\"Proof of normalization:\", pdf_y.sum().item())"
      ]
    },
    {
      "cell_type": "code",
      "execution_count": 24,
      "metadata": {},
      "outputs": [
        {
          "data": {
            "text/plain": [
              "60"
            ]
          },
          "execution_count": 24,
          "metadata": {},
          "output_type": "execute_result"
        }
      ],
      "source": [
        "len(hist_x)"
      ]
    },
    {
      "cell_type": "code",
      "execution_count": 25,
      "metadata": {},
      "outputs": [],
      "source": [
        "import torch\n",
        "import seaborn as sns\n",
        "import matplotlib.pyplot as plt\n",
        "\n",
        "\n",
        "def plot_kde(data_tensor, title='Kernel Density Estimation (KDE) Plot'):\n",
        "    data_np = data_tensor.numpy()\n",
        "    sns.kdeplot(data_np, fill=True, legend=False)\n",
        "    plt.xlabel('Value')\n",
        "    plt.ylabel('Probability Density')\n",
        "    plt.title(title)\n",
        "    plt.grid(True)\n",
        "    plt.show()"
      ]
    },
    {
      "cell_type": "code",
      "execution_count": 26,
      "metadata": {},
      "outputs": [
        {
          "data": {
            "image/png": "[encoded data removed]",
            "text/plain": [
              "<Figure size 640x480 with 1 Axes>"
            ]
          },
          "metadata": {},
          "output_type": "display_data"
        }
      ],
      "source": [
        "plot_kde(data)"
      ]
    },
    {
      "cell_type": "markdown",
      "metadata": {
        "id": "y1cCOjQiCcx1"
      },
      "source": [
        "### Distancia de Bhattacharyaa\n",
        "\n",
        "Implemente la funcion´ calcular bhattacharyya distance(p,q), para comparar las funciones de densidad estimada con el ajuste del modelo mixto Gaussiano con Kittler p (x) y la aproximacion de la densidad\n",
        "con el histograma de los datos q (x) para las dos pruebas realizadas\n",
        "con la imagen y el audio.\n"
      ]
    },
    {
      "cell_type": "code",
      "execution_count": 27,
      "metadata": {
        "colab": {
          "base_uri": "https://localhost:8080/"
        },
        "id": "yLkaIc-JC6sb",
        "outputId": "28ff93c1-2ab9-4d9e-9ebb-9c2331ae5997"
      },
      "outputs": [
        {
          "name": "stdout",
          "output_type": "stream",
          "text": [
            "Bhattacharyya distance: -0.0\n"
          ]
        }
      ],
      "source": [
        "#Estamos asumiendo que p y q son los valores de probabilidad, se puede depurar para que solo vengan las funciones y se calcula\n",
        "\n",
        "\n",
        "def bhattacharyya_distance(p, q):\n",
        "    device = p.device\n",
        "\n",
        "    sqrt_product = torch.sqrt(p * q)\n",
        "    sum_sqrt_product = torch.sum(sqrt_product)\n",
        "    distance = -torch.log(sum_sqrt_product)\n",
        "\n",
        "    return distance.item()\n",
        "\n",
        "# Example usage:\n",
        "p = torch.tensor([0.2, 0.3, 0.5])\n",
        "q = torch.tensor([0.2, 0.3, 0.5])\n",
        "\n",
        "distance = bhattacharyya_distance(p, q)\n",
        "print(\"Bhattacharyya distance:\", distance)"
      ]
    },
    {
      "cell_type": "code",
      "execution_count": 28,
      "metadata": {},
      "outputs": [
        {
          "data": {
            "text/plain": [
              "tensor([0.2000, 0.3000])"
            ]
          },
          "execution_count": 28,
          "metadata": {},
          "output_type": "execute_result"
        }
      ],
      "source": [
        "p = torch.tensor([0.2, 0.3, 0.5])\n",
        "q = torch.tensor([0.2, 3.0])\n",
        "\n",
        "p = p[:len(q)]\n",
        "p"
      ]
    },
    {
      "cell_type": "code",
      "execution_count": 29,
      "metadata": {},
      "outputs": [
        {
          "ename": "TypeError",
          "evalue": "get_histogram() got an unexpected keyword argument 'threshold'",
          "output_type": "error",
          "traceback": [
            "\u001b[1;31m---------------------------------------------------------------------------\u001b[0m",
            "\u001b[1;31mTypeError\u001b[0m                                 Traceback (most recent call last)",
            "Cell \u001b[1;32mIn[29], line 1\u001b[0m\n\u001b[1;32m----> 1\u001b[0m hist_x_left, pdf_y_left \u001b[38;5;241m=\u001b[39m \u001b[43mget_histogram\u001b[49m\u001b[43m(\u001b[49m\u001b[43mdata\u001b[49m\u001b[43m,\u001b[49m\u001b[43m \u001b[49m\u001b[43mpdf\u001b[49m\u001b[38;5;241;43m=\u001b[39;49m\u001b[38;5;28;43;01mTrue\u001b[39;49;00m\u001b[43m,\u001b[49m\u001b[43m \u001b[49m\u001b[43mthreshold\u001b[49m\u001b[38;5;241;43m=\u001b[39;49m\u001b[38;5;241;43m180\u001b[39;49m\u001b[43m,\u001b[49m\u001b[43m \u001b[49m\u001b[43mleft_t\u001b[49m\u001b[38;5;241;43m=\u001b[39;49m\u001b[38;5;28;43;01mTrue\u001b[39;49;00m\u001b[43m)\u001b[49m\n\u001b[0;32m      2\u001b[0m hist_x_right, pdf_y_right \u001b[38;5;241m=\u001b[39m get_histogram(data, pdf\u001b[38;5;241m=\u001b[39m\u001b[38;5;28;01mTrue\u001b[39;00m, threshold\u001b[38;5;241m=\u001b[39m\u001b[38;5;241m180\u001b[39m, left_t\u001b[38;5;241m=\u001b[39m\u001b[38;5;28;01mFalse\u001b[39;00m)\n",
            "\u001b[1;31mTypeError\u001b[0m: get_histogram() got an unexpected keyword argument 'threshold'"
          ]
        }
      ],
      "source": [
        "hist_x_left, pdf_y_left = get_histogram(data, pdf=True, threshold=180, left_t=True)\n",
        "hist_x_right, pdf_y_right = get_histogram(data, pdf=True, threshold=180, left_t=False)"
      ]
    },
    {
      "cell_type": "code",
      "execution_count": null,
      "metadata": {},
      "outputs": [],
      "source": [
        "result = pdf_y_right.sum() + pdf_y_left.sum()\n",
        "result"
      ]
    },
    {
      "cell_type": "code",
      "execution_count": null,
      "metadata": {},
      "outputs": [],
      "source": [
        "len(hist_x_right)"
      ]
    },
    {
      "cell_type": "code",
      "execution_count": null,
      "metadata": {},
      "outputs": [],
      "source": [
        "len(hist_x_left)"
      ]
    }
  ],
  "metadata": {
    "colab": {
      "provenance": []
    },
    "kernelspec": {
      "display_name": "Python 3",
      "name": "python3"
    },
    "language_info": {
      "codemirror_mode": {
        "name": "ipython",
        "version": 3
      },
      "file_extension": ".py",
      "mimetype": "text/x-python",
      "name": "python",
      "nbconvert_exporter": "python",
      "pygments_lexer": "ipython3",
      "version": "3.11.9"
    }
  },
  "nbformat": 4,
  "nbformat_minor": 0
}
