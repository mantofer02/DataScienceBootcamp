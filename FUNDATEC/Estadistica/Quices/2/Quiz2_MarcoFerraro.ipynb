{
 "cells": [
  {
   "attachments": {},
   "cell_type": "markdown",
   "metadata": {},
   "source": [
    "# Quiz 2\n",
    "\n",
    "**Estudiante:** Marco Ferraro\n",
    "\n",
    "**Profesor:** Saúl Calderón\n",
    "\n",
    "**Programa:** Ciencias de Datos\n"
   ]
  },
  {
   "cell_type": "code",
   "execution_count": 1,
   "metadata": {},
   "outputs": [
    {
     "data": {
      "text/plain": [
       "20"
      ]
     },
     "execution_count": 1,
     "metadata": {},
     "output_type": "execute_result"
    }
   ],
   "source": [
    "B_results = [\n",
    "  0.72020, 0.7779, 0.72291, 0.91679, 0.79565, 0.71765, 0.69226, 0.67864, \n",
    "  0.88172, 0.83181, 0.83718, 0.91055, 0.70773, 0.73465, 0.80328, 0.78082,\n",
    "  1.0, 0.78594, 0.62688, 0.87664\n",
    "\n",
    "]\n",
    "\n",
    "len(B_results)"
   ]
  },
  {
   "cell_type": "code",
   "execution_count": 2,
   "metadata": {},
   "outputs": [
    {
     "data": {
      "text/plain": [
       "20"
      ]
     },
     "execution_count": 2,
     "metadata": {},
     "output_type": "execute_result"
    }
   ],
   "source": [
    "A_results = [\n",
    "  0.66578, 0.74194, 0.65410, 0.88453, 1.0, 0.65613, 0.72290, 0.84243, \n",
    "  0.78553, 0.83343, 0.80881, 0.74326, 0.85252, 0.78917, 0.99126, \n",
    "  0.83146, 0.78544, 0.72603, 0.66458, 0.78727\n",
    "]\n",
    "\n",
    "len(A_results)"
   ]
  },
  {
   "cell_type": "code",
   "execution_count": 3,
   "metadata": {},
   "outputs": [
    {
     "name": "stdout",
     "output_type": "stream",
     "text": [
      "Media Grupo A:  0.7883285284042358\n",
      "Media Groupo B:  0.7899600267410278\n"
     ]
    }
   ],
   "source": [
    "import torch\n",
    "\n",
    "tensor_A = torch.tensor(A_results)\n",
    "tensor_B = torch.tensor(B_results)\n",
    "\n",
    "mean_A = tensor_A.mean()\n",
    "mean_B = tensor_B.mean()\n",
    "\n",
    "print(\"Media Grupo A: \", mean_A.item())\n",
    "print(\"Media Groupo B: \", mean_B.item())"
   ]
  },
  {
   "cell_type": "code",
   "execution_count": 4,
   "metadata": {},
   "outputs": [
    {
     "name": "stdout",
     "output_type": "stream",
     "text": [
      "Media Global:  0.7891442775726318\n"
     ]
    }
   ],
   "source": [
    "combined_data = torch.cat((tensor_A, tensor_B))\n",
    "global_mean = combined_data.mean()\n",
    "print(\"Media Global: \", global_mean.item())"
   ]
  },
  {
   "cell_type": "code",
   "execution_count": 5,
   "metadata": {},
   "outputs": [
    {
     "name": "stdout",
     "output_type": "stream",
     "text": [
      "Var Group A:  0.009239542298018932\n",
      "Var Group B:  0.008402920328080654\n"
     ]
    }
   ],
   "source": [
    "\n",
    "var_A = tensor_A.var(unbiased=False)\n",
    "var_B = tensor_B.var(unbiased=False)\n",
    "\n",
    "print(\"Var Group A: \", var_A.item())\n",
    "print(\"Var Group B: \", var_B.item())"
   ]
  },
  {
   "cell_type": "code",
   "execution_count": 6,
   "metadata": {},
   "outputs": [
    {
     "name": "stdout",
     "output_type": "stream",
     "text": [
      "Intravarianza o SSerror:  0.35284924507141113\n"
     ]
    }
   ],
   "source": [
    "import numpy as np \n",
    "\n",
    "ss_error_A = torch.sum((tensor_A - mean_A) ** 2)\n",
    "ss_error_B = torch.sum((tensor_B - mean_B) ** 2)\n",
    "\n",
    "ss_error = ss_error_A + ss_error_B\n",
    "\n",
    "print(\"Intravarianza o SSerror: \", ss_error.item())"
   ]
  },
  {
   "cell_type": "code",
   "execution_count": 7,
   "metadata": {},
   "outputs": [
    {
     "name": "stdout",
     "output_type": "stream",
     "text": [
      "Intervarianza o SSTreatments:  2.661786857061088e-05\n"
     ]
    }
   ],
   "source": [
    "ss_treatments = ((len(tensor_A) * ((mean_A.item() - global_mean)**2)) + ((len(tensor_B) * (mean_B.item() - global_mean)**2) ))\n",
    "print(\"Intervarianza o SSTreatments: \", ss_treatments.item())"
   ]
  },
  {
   "cell_type": "code",
   "execution_count": 8,
   "metadata": {},
   "outputs": [
    {
     "name": "stdout",
     "output_type": "stream",
     "text": [
      "SSTotal o Varianza Global:  0.35287588834762573\n"
     ]
    }
   ],
   "source": [
    "ss_total = torch.sum((combined_data - global_mean) ** 2)\n",
    "print(\"SSTotal o Varianza Global: \", ss_total.item())\n"
   ]
  },
  {
   "cell_type": "code",
   "execution_count": 9,
   "metadata": {},
   "outputs": [
    {
     "name": "stdout",
     "output_type": "stream",
     "text": [
      "Prueba de resultaods: \n",
      "Intervarianza + intravarianza = Varianza Total\n",
      "2.661786857061088e-05 + 0.35284924507141113 = 0.35287585854530334\n"
     ]
    }
   ],
   "source": [
    "print(\"Prueba de resultaods: \")\n",
    "print(\"Intervarianza + intravarianza = Varianza Total\")\n",
    "print(f\"{ss_treatments} + {ss_error} = {ss_error + ss_treatments}\")"
   ]
  },
  {
   "cell_type": "code",
   "execution_count": 10,
   "metadata": {},
   "outputs": [
    {
     "name": "stdout",
     "output_type": "stream",
     "text": [
      "F-value: 0.0028666036669164896\n",
      "Critical F-value: 4.098171730880841\n",
      "Fail to reject the null hypothesis. There is no statistically significant difference between the groups.\n"
     ]
    }
   ],
   "source": [
    "df_treatments = 1\n",
    "df_error = len(A_results) + len(B_results) - 2 \n",
    "\n",
    "MSTreatments = ss_treatments / df_treatments\n",
    "MSError = ss_error / df_error\n",
    "\n",
    "F_value = MSTreatments / MSError\n",
    "\n",
    "alpha = 0.05\n",
    "\n",
    "from scipy.stats import f\n",
    "\n",
    "critical_F = f.ppf(1 - alpha, df_treatments, df_error)\n",
    "\n",
    "print(\"F-value:\", F_value.item())\n",
    "print(\"Critical F-value:\", critical_F)\n",
    "\n",
    "if F_value.item() > critical_F:\n",
    "    print(\"Reject the null hypothesis. There is a statistically significant difference between the groups.\")\n",
    "else:\n",
    "    print(\"Fail to reject the null hypothesis. There is no statistically significant difference between the groups.\")"
   ]
  },
  {
   "cell_type": "code",
   "execution_count": 11,
   "metadata": {},
   "outputs": [
    {
     "name": "stdout",
     "output_type": "stream",
     "text": [
      "F-statistic: 0.0028666096714540434\n",
      "P-value: 0.9575815724228461\n",
      "Fail to reject the null hypothesis. There are no significant differences between the two groups.\n"
     ]
    }
   ],
   "source": [
    "# Perform one-way ANOVA\n",
    "import scipy.stats as stats\n",
    "\n",
    "f_statistic, p_value = stats.f_oneway(A_results, B_results)\n",
    "\n",
    "print(\"F-statistic:\", f_statistic)\n",
    "print(\"P-value:\", p_value)\n",
    "\n",
    "alpha = 0.05 \n",
    "if p_value < alpha:\n",
    "    print(\"Reject the null hypothesis. There are significant differences between the two groups.\")\n",
    "else:\n",
    "    print(\"Fail to reject the null hypothesis. There are no significant differences between the two groups.\")"
   ]
  },
  {
   "cell_type": "code",
   "execution_count": 12,
   "metadata": {},
   "outputs": [
    {
     "name": "stdout",
     "output_type": "stream",
     "text": [
      "Media A:  0.7883285284042358\n",
      "Media B:  0.7899600267410278\n"
     ]
    }
   ],
   "source": [
    "import torch\n",
    "\n",
    "tensor_A = torch.tensor(A_results)\n",
    "tensor_B = torch.tensor(B_results)\n",
    "\n",
    "mean_A = tensor_A.mean()\n",
    "mean_B = tensor_B.mean()\n",
    "\n",
    "print(\"Media A: \", mean_A.item())\n",
    "print(\"Media B: \", mean_B.item())"
   ]
  },
  {
   "cell_type": "code",
   "execution_count": 13,
   "metadata": {},
   "outputs": [
    {
     "name": "stdout",
     "output_type": "stream",
     "text": [
      "Mediana A:  0.7855299711227417\n",
      "Mediana B:  0.7808200120925903\n"
     ]
    }
   ],
   "source": [
    "import torch\n",
    "\n",
    "tensor_A = torch.tensor(A_results)\n",
    "tensor_B = torch.tensor(B_results)\n",
    "\n",
    "median_A = tensor_A.median()\n",
    "median_B = tensor_B.median()\n",
    "\n",
    "print(\"Mediana A: \", median_A.item())\n",
    "print(\"Mediana B: \", median_B.item())"
   ]
  },
  {
   "cell_type": "code",
   "execution_count": 14,
   "metadata": {},
   "outputs": [
    {
     "name": "stdout",
     "output_type": "stream",
     "text": [
      "Moda A:  torch.return_types.mode(\n",
      "values=tensor(0.6541),\n",
      "indices=tensor(2))\n",
      "Moda B:  torch.return_types.mode(\n",
      "values=tensor(0.6269),\n",
      "indices=tensor(18))\n"
     ]
    }
   ],
   "source": [
    "import torch\n",
    "\n",
    "tensor_A = torch.tensor(A_results)\n",
    "tensor_B = torch.tensor(B_results)\n",
    "\n",
    "mode_A = tensor_A.mode()\n",
    "mode_B = tensor_B.mode()\n",
    "\n",
    "print(\"Moda A: \", mode_A)\n",
    "print(\"Moda B: \", mode_B)"
   ]
  }
 ],
 "metadata": {
  "kernelspec": {
   "display_name": "Python 3",
   "language": "python",
   "name": "python3"
  },
  "language_info": {
   "codemirror_mode": {
    "name": "ipython",
    "version": 3
   },
   "file_extension": ".py",
   "mimetype": "text/x-python",
   "name": "python",
   "nbconvert_exporter": "python",
   "pygments_lexer": "ipython3",
   "version": "3.10.11"
  }
 },
 "nbformat": 4,
 "nbformat_minor": 2
}
