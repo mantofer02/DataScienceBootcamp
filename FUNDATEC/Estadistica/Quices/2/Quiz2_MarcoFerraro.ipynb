{
 "cells": [
  {
   "cell_type": "markdown",
   "metadata": {},
   "source": [
    "# Quiz 2\n",
    "\n",
    "**Estudiante:** Marco Ferraro\n",
    "\n",
    "**Profesor:** Saúl Calderón\n",
    "\n",
    "**Programa:** Ciencias de Datos\n"
   ]
  },
  {
   "cell_type": "code",
   "execution_count": 81,
   "metadata": {},
   "outputs": [
    {
     "data": {
      "text/plain": [
       "20"
      ]
     },
     "execution_count": 81,
     "metadata": {},
     "output_type": "execute_result"
    }
   ],
   "source": [
    "B_results = [\n",
    "  0.72020, 0.7719, 0.72291, 0.91679, 0.79565, 0.71765, 0.69226, 0.67864, \n",
    "  0.88172, 0.83181, 0.83718, 0.91055, 0.70773, 0.73465, 0.80328, 0.78082,\n",
    "  1.0, 0.78594, 0.62688, 0.87664\n",
    "\n",
    "]\n",
    "\n",
    "len(B_results)"
   ]
  },
  {
   "cell_type": "code",
   "execution_count": 82,
   "metadata": {},
   "outputs": [
    {
     "data": {
      "text/plain": [
       "20"
      ]
     },
     "execution_count": 82,
     "metadata": {},
     "output_type": "execute_result"
    }
   ],
   "source": [
    "A_results = [\n",
    "  0.66578, 0.74194, 0.65410, 0.88453, 1.0, 0.65613, 0.72290, 0.84243, \n",
    "  0.78553, 0.83343, 0.80881, 0.74326, 0.85252, 0.78917, 0.99126, \n",
    "  0.83146, 0.78544, 0.72603, 0.66458, 0.78727\n",
    "]\n",
    "\n",
    "len(A_results)"
   ]
  },
  {
   "cell_type": "code",
   "execution_count": 83,
   "metadata": {},
   "outputs": [
    {
     "name": "stdout",
     "output_type": "stream",
     "text": [
      "Mean Group A:  0.7883285284042358\n",
      "Mean Group B:  0.7896599769592285\n"
     ]
    }
   ],
   "source": [
    "import torch\n",
    "\n",
    "tensor_A = torch.tensor(A_results)\n",
    "tensor_B = torch.tensor(B_results)\n",
    "\n",
    "mean_A = tensor_A.mean()\n",
    "mean_B = tensor_B.mean()\n",
    "\n",
    "print(\"Mean Group A: \", mean_A.item())\n",
    "print(\"Mean Group B: \", mean_B.item())"
   ]
  },
  {
   "cell_type": "code",
   "execution_count": 84,
   "metadata": {},
   "outputs": [
    {
     "name": "stdout",
     "output_type": "stream",
     "text": [
      "Global Mean:  0.7889942526817322\n"
     ]
    }
   ],
   "source": [
    "combined_data = torch.cat((tensor_A, tensor_B))\n",
    "global_mean = combined_data.mean()\n",
    "print(\"Global Mean: \", global_mean.item())"
   ]
  },
  {
   "cell_type": "code",
   "execution_count": 85,
   "metadata": {},
   "outputs": [
    {
     "name": "stdout",
     "output_type": "stream",
     "text": [
      "Var Group A:  0.009239542298018932\n",
      "Var Group B:  0.008411865681409836\n"
     ]
    }
   ],
   "source": [
    "\n",
    "var_A = tensor_A.var(unbiased=False)\n",
    "var_B = tensor_B.var(unbiased=False)\n",
    "\n",
    "print(\"Var Group A: \", var_A.item())\n",
    "print(\"Var Group B: \", var_B.item())"
   ]
  },
  {
   "cell_type": "code",
   "execution_count": 86,
   "metadata": {},
   "outputs": [
    {
     "name": "stdout",
     "output_type": "stream",
     "text": [
      "Intravarianza o SSerror:  0.35302817821502686\n"
     ]
    }
   ],
   "source": [
    "import numpy as np \n",
    "\n",
    "ss_error_A = torch.sum((tensor_A - mean_A) ** 2)\n",
    "ss_error_B = torch.sum((tensor_B - mean_B) ** 2)\n",
    "\n",
    "ss_error = ss_error_A + ss_error_B\n",
    "\n",
    "print(\"Intravarianza o SSerror: \", ss_error.item())"
   ]
  },
  {
   "cell_type": "code",
   "execution_count": 87,
   "metadata": {},
   "outputs": [
    {
     "name": "stdout",
     "output_type": "stream",
     "text": [
      "Intervarianza o SSTreatments:  1.7727552403812297e-05\n"
     ]
    }
   ],
   "source": [
    "ss_treatments = ((len(tensor_A) * ((mean_A.item() - global_mean)**2)) + ((len(tensor_B) * (mean_B.item() - global_mean)**2) ))\n",
    "print(\"Intervarianza o SSTreatments: \", ss_treatments.item())"
   ]
  },
  {
   "cell_type": "code",
   "execution_count": 88,
   "metadata": {},
   "outputs": [
    {
     "name": "stdout",
     "output_type": "stream",
     "text": [
      "SSTotal o Varianza Global:  0.35304591059684753\n"
     ]
    }
   ],
   "source": [
    "ss_total = torch.sum((combined_data - global_mean) ** 2)\n",
    "print(\"SSTotal o Varianza Global: \", ss_total.item())\n"
   ]
  },
  {
   "cell_type": "code",
   "execution_count": 89,
   "metadata": {},
   "outputs": [
    {
     "name": "stdout",
     "output_type": "stream",
     "text": [
      "Prueba de resultaods: \n",
      "Intervarianza + intravarianza = Varianza Total\n",
      "1.7727552403812297e-05 + 0.35302817821502686 = 0.35304591059684753\n"
     ]
    }
   ],
   "source": [
    "print(\"Prueba de resultaods: \")\n",
    "print(\"Intervarianza + intravarianza = Varianza Total\")\n",
    "print(f\"{ss_treatments} + {ss_error} = {ss_error + ss_treatments}\")"
   ]
  },
  {
   "cell_type": "code",
   "execution_count": 90,
   "metadata": {},
   "outputs": [
    {
     "name": "stdout",
     "output_type": "stream",
     "text": [
      "F-value: 0.0019081960199400783\n",
      "Critical F-value: 4.098171730880841\n",
      "Fail to reject the null hypothesis. There is no statistically significant difference between the groups.\n"
     ]
    }
   ],
   "source": [
    "df_treatments = 1  # Number of groups - 1\n",
    "df_error = len(A_results) + len(B_results) - 2  # Total number of observations - Number of groups\n",
    "\n",
    "MSTreatments = ss_treatments / df_treatments\n",
    "MSError = ss_error / df_error\n",
    "\n",
    "F_value = MSTreatments / MSError\n",
    "\n",
    "alpha = 0.05\n",
    "\n",
    "# Find the critical F-value for the given alpha and degrees of freedom\n",
    "from scipy.stats import f\n",
    "\n",
    "critical_F = f.ppf(1 - alpha, df_treatments, df_error)\n",
    "\n",
    "# Print results\n",
    "print(\"F-value:\", F_value.item())\n",
    "print(\"Critical F-value:\", critical_F)\n",
    "\n",
    "# Check if there's a significant difference\n",
    "if F_value.item() > critical_F:\n",
    "    print(\"Reject the null hypothesis. There is a statistically significant difference between the groups.\")\n",
    "else:\n",
    "    print(\"Fail to reject the null hypothesis. There is no statistically significant difference between the groups.\")"
   ]
  },
  {
   "cell_type": "code",
   "execution_count": 91,
   "metadata": {},
   "outputs": [
    {
     "name": "stdout",
     "output_type": "stream",
     "text": [
      "F-statistic: 0.0019083436506689047\n",
      "P-value: 0.9653845694558274\n",
      "Fail to reject the null hypothesis. There are no significant differences between the two groups.\n"
     ]
    }
   ],
   "source": [
    "# Perform one-way ANOVA\n",
    "import scipy.stats as stats\n",
    "\n",
    "f_statistic, p_value = stats.f_oneway(A_results, B_results)\n",
    "\n",
    "# Print the results\n",
    "print(\"F-statistic:\", f_statistic)\n",
    "print(\"P-value:\", p_value)\n",
    "\n",
    "# Check the p-value to determine statistical significance\n",
    "alpha = 0.05  # Significance level\n",
    "if p_value < alpha:\n",
    "    print(\"Reject the null hypothesis. There are significant differences between the two groups.\")\n",
    "else:\n",
    "    print(\"Fail to reject the null hypothesis. There are no significant differences between the two groups.\")"
   ]
  },
  {
   "cell_type": "code",
   "execution_count": 92,
   "metadata": {},
   "outputs": [
    {
     "name": "stdout",
     "output_type": "stream",
     "text": [
      "Mean Group A:  0.7883285284042358\n",
      "Mean Group B:  0.7896599769592285\n"
     ]
    }
   ],
   "source": [
    "import torch\n",
    "\n",
    "tensor_A = torch.tensor(A_results)\n",
    "tensor_B = torch.tensor(B_results)\n",
    "\n",
    "mean_A = tensor_A.mean()\n",
    "mean_B = tensor_B.mean()\n",
    "\n",
    "print(\"Mean Group A: \", mean_A.item())\n",
    "print(\"Mean Group B: \", mean_B.item())"
   ]
  },
  {
   "cell_type": "code",
   "execution_count": 93,
   "metadata": {},
   "outputs": [
    {
     "name": "stdout",
     "output_type": "stream",
     "text": [
      "Mean Group A:  0.7855299711227417\n",
      "Mean Group B:  0.7808200120925903\n"
     ]
    }
   ],
   "source": [
    "import torch\n",
    "\n",
    "tensor_A = torch.tensor(A_results)\n",
    "tensor_B = torch.tensor(B_results)\n",
    "\n",
    "median_A = tensor_A.median()\n",
    "median_B = tensor_B.median()\n",
    "\n",
    "print(\"Mean Group A: \", median_A.item())\n",
    "print(\"Mean Group B: \", median_B.item())"
   ]
  },
  {
   "cell_type": "code",
   "execution_count": 94,
   "metadata": {},
   "outputs": [
    {
     "name": "stdout",
     "output_type": "stream",
     "text": [
      "Mean Group A:  torch.return_types.mode(\n",
      "values=tensor(0.6541),\n",
      "indices=tensor(2))\n",
      "Mean Group B:  torch.return_types.mode(\n",
      "values=tensor(0.6269),\n",
      "indices=tensor(18))\n"
     ]
    }
   ],
   "source": [
    "import torch\n",
    "\n",
    "tensor_A = torch.tensor(A_results)\n",
    "tensor_B = torch.tensor(B_results)\n",
    "\n",
    "mode_A = tensor_A.mode()\n",
    "mode_B = tensor_B.mode()\n",
    "\n",
    "print(\"Mean Group A: \", mode_A)\n",
    "print(\"Mean Group B: \", mode_B)"
   ]
  }
 ],
 "metadata": {
  "kernelspec": {
   "display_name": "Python 3",
   "language": "python",
   "name": "python3"
  },
  "language_info": {
   "codemirror_mode": {
    "name": "ipython",
    "version": 3
   },
   "file_extension": ".py",
   "mimetype": "text/x-python",
   "name": "python",
   "nbconvert_exporter": "python",
   "pygments_lexer": "ipython3",
   "version": "3.11.4"
  }
 },
 "nbformat": 4,
 "nbformat_minor": 2
}
